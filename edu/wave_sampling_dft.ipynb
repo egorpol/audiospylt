{
 "cells": [
  {
   "cell_type": "markdown",
   "id": "c9e566e9",
   "metadata": {},
   "source": [
    "##### In the following code, we visually demonstrate the effect of sampling on the Discrete Fourier Transform (DFT) by using a sine wave as an example. Additionally, users have the option to analyze a second sine wave, or a waveform generated through amplitude modulation (AM), frequency modulation (FM), or the sum of both sine waves, for reference. Dotted lines in the plots represent the time steps or sampling intervals.\n",
    "\n",
    "1. **Explore the effects of aliasing and oversampling** on the waveform in the time domain and its corresponding DFT in the frequency domain.\n",
    "2. **Compare the sampling rate (SR) and Nyquist frequency** with the number of available sample points within the DFT to understand their relationships.\n",
    "3. **Investigate what affects the frequency resolution more** - is it the sampling rate or the total length of the signal?\n",
    "4. **Observe the amplitude and phase information** captured in the DFT and understand how they correspond to the properties of the original signal.\n",
    "\n",
    "### Some interesting setups to try:\n",
    "\n",
    "1. **Observing the Phase Spectrum to Detect Aliasing:**\n",
    "\n",
    "    ```python\n",
    "    n = 0.05  # Time step\n",
    "    t_max = 2.0  # Maximum time\n",
    "    selected_waveforms = ['sine1', 'sine2']  # Waveforms to show: 'sine1', 'sine2', 'am', 'fm', 'sum'\n",
    "    amp1, freq1, phase1 = 1.0, 9.0, 0  # Parameters for sine wave 1\n",
    "    amp2, freq2, phase2 = 1.0, 11.0, np.pi  # Parameters for sine wave 2\n",
    "    ```\n",
    "    The Waveform and Magnitude are similar, but the Phase Spectrum shows significant differences. The Phase Spectrum can be used to detect aliasing!\n",
    "\n",
    "<br>\n",
    "\n",
    "2. **When the Parameters of Both Sine Waves are Identical:**\n",
    "\n",
    "    ```python\n",
    "    n = 0.05  # Time step\n",
    "    t_max = 2.0  # Maximum time\n",
    "    selected_waveforms = ['sine1', 'sine2']  # Waveforms to show: 'sine1', 'sine2', 'am', 'fm', 'sum'\n",
    "    amp1, freq1, phase1 = 1.0, 9.0, 0  # Parameters for sine wave 1\n",
    "    amp2, freq2, phase2 = 1.0, 9.0, 0  # Parameters for sine wave 2\n",
    "    ```\n",
    "\n",
    "    This produces no difference in the waveforms or spectra.\n",
    "    \n",
    "3. Sampling resolution too low?\n",
    "    \n",
    "    ```python\n",
    "    n = 0.05  # Time step\n",
    "    t_max = 2.0  # Maximum time\n",
    "    selected_waveforms = ['sine1']  # Waveforms to show: 'sine1', 'sine2', 'am', 'fm', 'sum'\n",
    "    amp1, freq1, phase1 = 1.0, 7.25, 0  # Parameters for sine wave 1\n",
    "    ```\n",
    "    \n",
    "    "
   ]
  },
  {
   "cell_type": "code",
   "execution_count": 15,
   "id": "169b199a",
   "metadata": {
    "scrolled": false
   },
   "outputs": [
    {
     "name": "stdout",
     "output_type": "stream",
     "text": [
      "Sampling rate: 20.0 Hz\n",
      "Nyquist frequency: 10.0 Hz\n"
     ]
    },
    {
     "data": {
      "application/vnd.plotly.v1+json": {
       "config": {
        "plotlyServerURL": "https://plot.ly"
       },
       "data": [
        {
         "mode": "lines",
         "name": "sine1",
         "type": "scatter",
         "x": [
          0,
          0.05,
          0.1,
          0.15000000000000002,
          0.2,
          0.25,
          0.30000000000000004,
          0.35000000000000003,
          0.4,
          0.45,
          0.5,
          0.55,
          0.6000000000000001,
          0.65,
          0.7000000000000001,
          0.75,
          0.8,
          0.8500000000000001,
          0.9,
          0.9500000000000001,
          1,
          1.05,
          1.1,
          1.1500000000000001,
          1.2000000000000002,
          1.25,
          1.3,
          1.35,
          1.4000000000000001,
          1.4500000000000002,
          1.5,
          1.55,
          1.6,
          1.6500000000000001,
          1.7000000000000002,
          1.75,
          1.8,
          1.85,
          1.9000000000000001,
          1.9500000000000002
         ],
         "y": [
          0,
          0.7604059656000309,
          -0.9876883405951377,
          0.5224985647159498,
          0.3090169943749478,
          -0.9238795325112867,
          0.8910065241883688,
          -0.2334453638559061,
          -0.5877852522924737,
          0.9969173337331279,
          -0.7071067811865476,
          -0.07845909572784282,
          0.8090169943749449,
          -0.9723699203976764,
          0.4539904997395481,
          0.38268343236509306,
          -0.951056516295154,
          0.8526401643540926,
          -0.15643446504023367,
          -0.6494480483301799,
          1,
          -0.6494480483301853,
          -0.15643446504022665,
          0.8526401643540888,
          -0.9510565162951562,
          0.38268343236509306,
          0.4539904997395481,
          -0.9723699203976764,
          0.8090169943749491,
          -0.07845909572785699,
          -0.7071067811865526,
          0.9969173337331282,
          -0.5877852522924708,
          -0.2334453638558992,
          0.8910065241883672,
          -0.9238795325112854,
          0.30901699437495284,
          0.5224985647159482,
          -0.9876883405951362,
          0.7604059656000342
         ]
        }
       ],
       "layout": {
        "autosize": false,
        "height": 600,
        "legend": {
         "x": 0,
         "y": 1
        },
        "shapes": [
         {
          "line": {
           "color": "Black",
           "dash": "dot",
           "width": 1
          },
          "type": "line",
          "x0": 0,
          "x1": 0,
          "y0": -1.484610425743922,
          "y1": 1.4969220851487846
         },
         {
          "line": {
           "color": "Black",
           "dash": "dot",
           "width": 1
          },
          "type": "line",
          "x0": 0.05,
          "x1": 0.05,
          "y0": -1.484610425743922,
          "y1": 1.4969220851487846
         },
         {
          "line": {
           "color": "Black",
           "dash": "dot",
           "width": 1
          },
          "type": "line",
          "x0": 0.1,
          "x1": 0.1,
          "y0": -1.484610425743922,
          "y1": 1.4969220851487846
         },
         {
          "line": {
           "color": "Black",
           "dash": "dot",
           "width": 1
          },
          "type": "line",
          "x0": 0.15000000000000002,
          "x1": 0.15000000000000002,
          "y0": -1.484610425743922,
          "y1": 1.4969220851487846
         },
         {
          "line": {
           "color": "Black",
           "dash": "dot",
           "width": 1
          },
          "type": "line",
          "x0": 0.2,
          "x1": 0.2,
          "y0": -1.484610425743922,
          "y1": 1.4969220851487846
         },
         {
          "line": {
           "color": "Black",
           "dash": "dot",
           "width": 1
          },
          "type": "line",
          "x0": 0.25,
          "x1": 0.25,
          "y0": -1.484610425743922,
          "y1": 1.4969220851487846
         },
         {
          "line": {
           "color": "Black",
           "dash": "dot",
           "width": 1
          },
          "type": "line",
          "x0": 0.30000000000000004,
          "x1": 0.30000000000000004,
          "y0": -1.484610425743922,
          "y1": 1.4969220851487846
         },
         {
          "line": {
           "color": "Black",
           "dash": "dot",
           "width": 1
          },
          "type": "line",
          "x0": 0.35000000000000003,
          "x1": 0.35000000000000003,
          "y0": -1.484610425743922,
          "y1": 1.4969220851487846
         },
         {
          "line": {
           "color": "Black",
           "dash": "dot",
           "width": 1
          },
          "type": "line",
          "x0": 0.4,
          "x1": 0.4,
          "y0": -1.484610425743922,
          "y1": 1.4969220851487846
         },
         {
          "line": {
           "color": "Black",
           "dash": "dot",
           "width": 1
          },
          "type": "line",
          "x0": 0.45,
          "x1": 0.45,
          "y0": -1.484610425743922,
          "y1": 1.4969220851487846
         },
         {
          "line": {
           "color": "Black",
           "dash": "dot",
           "width": 1
          },
          "type": "line",
          "x0": 0.5,
          "x1": 0.5,
          "y0": -1.484610425743922,
          "y1": 1.4969220851487846
         },
         {
          "line": {
           "color": "Black",
           "dash": "dot",
           "width": 1
          },
          "type": "line",
          "x0": 0.55,
          "x1": 0.55,
          "y0": -1.484610425743922,
          "y1": 1.4969220851487846
         },
         {
          "line": {
           "color": "Black",
           "dash": "dot",
           "width": 1
          },
          "type": "line",
          "x0": 0.6000000000000001,
          "x1": 0.6000000000000001,
          "y0": -1.484610425743922,
          "y1": 1.4969220851487846
         },
         {
          "line": {
           "color": "Black",
           "dash": "dot",
           "width": 1
          },
          "type": "line",
          "x0": 0.65,
          "x1": 0.65,
          "y0": -1.484610425743922,
          "y1": 1.4969220851487846
         },
         {
          "line": {
           "color": "Black",
           "dash": "dot",
           "width": 1
          },
          "type": "line",
          "x0": 0.7000000000000001,
          "x1": 0.7000000000000001,
          "y0": -1.484610425743922,
          "y1": 1.4969220851487846
         },
         {
          "line": {
           "color": "Black",
           "dash": "dot",
           "width": 1
          },
          "type": "line",
          "x0": 0.75,
          "x1": 0.75,
          "y0": -1.484610425743922,
          "y1": 1.4969220851487846
         },
         {
          "line": {
           "color": "Black",
           "dash": "dot",
           "width": 1
          },
          "type": "line",
          "x0": 0.8,
          "x1": 0.8,
          "y0": -1.484610425743922,
          "y1": 1.4969220851487846
         },
         {
          "line": {
           "color": "Black",
           "dash": "dot",
           "width": 1
          },
          "type": "line",
          "x0": 0.8500000000000001,
          "x1": 0.8500000000000001,
          "y0": -1.484610425743922,
          "y1": 1.4969220851487846
         },
         {
          "line": {
           "color": "Black",
           "dash": "dot",
           "width": 1
          },
          "type": "line",
          "x0": 0.9,
          "x1": 0.9,
          "y0": -1.484610425743922,
          "y1": 1.4969220851487846
         },
         {
          "line": {
           "color": "Black",
           "dash": "dot",
           "width": 1
          },
          "type": "line",
          "x0": 0.9500000000000001,
          "x1": 0.9500000000000001,
          "y0": -1.484610425743922,
          "y1": 1.4969220851487846
         },
         {
          "line": {
           "color": "Black",
           "dash": "dot",
           "width": 1
          },
          "type": "line",
          "x0": 1,
          "x1": 1,
          "y0": -1.484610425743922,
          "y1": 1.4969220851487846
         },
         {
          "line": {
           "color": "Black",
           "dash": "dot",
           "width": 1
          },
          "type": "line",
          "x0": 1.05,
          "x1": 1.05,
          "y0": -1.484610425743922,
          "y1": 1.4969220851487846
         },
         {
          "line": {
           "color": "Black",
           "dash": "dot",
           "width": 1
          },
          "type": "line",
          "x0": 1.1,
          "x1": 1.1,
          "y0": -1.484610425743922,
          "y1": 1.4969220851487846
         },
         {
          "line": {
           "color": "Black",
           "dash": "dot",
           "width": 1
          },
          "type": "line",
          "x0": 1.1500000000000001,
          "x1": 1.1500000000000001,
          "y0": -1.484610425743922,
          "y1": 1.4969220851487846
         },
         {
          "line": {
           "color": "Black",
           "dash": "dot",
           "width": 1
          },
          "type": "line",
          "x0": 1.2000000000000002,
          "x1": 1.2000000000000002,
          "y0": -1.484610425743922,
          "y1": 1.4969220851487846
         },
         {
          "line": {
           "color": "Black",
           "dash": "dot",
           "width": 1
          },
          "type": "line",
          "x0": 1.25,
          "x1": 1.25,
          "y0": -1.484610425743922,
          "y1": 1.4969220851487846
         },
         {
          "line": {
           "color": "Black",
           "dash": "dot",
           "width": 1
          },
          "type": "line",
          "x0": 1.3,
          "x1": 1.3,
          "y0": -1.484610425743922,
          "y1": 1.4969220851487846
         },
         {
          "line": {
           "color": "Black",
           "dash": "dot",
           "width": 1
          },
          "type": "line",
          "x0": 1.35,
          "x1": 1.35,
          "y0": -1.484610425743922,
          "y1": 1.4969220851487846
         },
         {
          "line": {
           "color": "Black",
           "dash": "dot",
           "width": 1
          },
          "type": "line",
          "x0": 1.4000000000000001,
          "x1": 1.4000000000000001,
          "y0": -1.484610425743922,
          "y1": 1.4969220851487846
         },
         {
          "line": {
           "color": "Black",
           "dash": "dot",
           "width": 1
          },
          "type": "line",
          "x0": 1.4500000000000002,
          "x1": 1.4500000000000002,
          "y0": -1.484610425743922,
          "y1": 1.4969220851487846
         },
         {
          "line": {
           "color": "Black",
           "dash": "dot",
           "width": 1
          },
          "type": "line",
          "x0": 1.5,
          "x1": 1.5,
          "y0": -1.484610425743922,
          "y1": 1.4969220851487846
         },
         {
          "line": {
           "color": "Black",
           "dash": "dot",
           "width": 1
          },
          "type": "line",
          "x0": 1.55,
          "x1": 1.55,
          "y0": -1.484610425743922,
          "y1": 1.4969220851487846
         },
         {
          "line": {
           "color": "Black",
           "dash": "dot",
           "width": 1
          },
          "type": "line",
          "x0": 1.6,
          "x1": 1.6,
          "y0": -1.484610425743922,
          "y1": 1.4969220851487846
         },
         {
          "line": {
           "color": "Black",
           "dash": "dot",
           "width": 1
          },
          "type": "line",
          "x0": 1.6500000000000001,
          "x1": 1.6500000000000001,
          "y0": -1.484610425743922,
          "y1": 1.4969220851487846
         },
         {
          "line": {
           "color": "Black",
           "dash": "dot",
           "width": 1
          },
          "type": "line",
          "x0": 1.7000000000000002,
          "x1": 1.7000000000000002,
          "y0": -1.484610425743922,
          "y1": 1.4969220851487846
         },
         {
          "line": {
           "color": "Black",
           "dash": "dot",
           "width": 1
          },
          "type": "line",
          "x0": 1.75,
          "x1": 1.75,
          "y0": -1.484610425743922,
          "y1": 1.4969220851487846
         },
         {
          "line": {
           "color": "Black",
           "dash": "dot",
           "width": 1
          },
          "type": "line",
          "x0": 1.8,
          "x1": 1.8,
          "y0": -1.484610425743922,
          "y1": 1.4969220851487846
         },
         {
          "line": {
           "color": "Black",
           "dash": "dot",
           "width": 1
          },
          "type": "line",
          "x0": 1.85,
          "x1": 1.85,
          "y0": -1.484610425743922,
          "y1": 1.4969220851487846
         },
         {
          "line": {
           "color": "Black",
           "dash": "dot",
           "width": 1
          },
          "type": "line",
          "x0": 1.9000000000000001,
          "x1": 1.9000000000000001,
          "y0": -1.484610425743922,
          "y1": 1.4969220851487846
         },
         {
          "line": {
           "color": "Black",
           "dash": "dot",
           "width": 1
          },
          "type": "line",
          "x0": 1.9500000000000002,
          "x1": 1.9500000000000002,
          "y0": -1.484610425743922,
          "y1": 1.4969220851487846
         },
         {
          "line": {
           "color": "Black",
           "dash": "dot",
           "width": 1
          },
          "type": "line",
          "x0": 2,
          "x1": 2,
          "y0": -1.484610425743922,
          "y1": 1.4969220851487846
         }
        ],
        "template": {
         "data": {
          "bar": [
           {
            "error_x": {
             "color": "#2a3f5f"
            },
            "error_y": {
             "color": "#2a3f5f"
            },
            "marker": {
             "line": {
              "color": "#E5ECF6",
              "width": 0.5
             },
             "pattern": {
              "fillmode": "overlay",
              "size": 10,
              "solidity": 0.2
             }
            },
            "type": "bar"
           }
          ],
          "barpolar": [
           {
            "marker": {
             "line": {
              "color": "#E5ECF6",
              "width": 0.5
             },
             "pattern": {
              "fillmode": "overlay",
              "size": 10,
              "solidity": 0.2
             }
            },
            "type": "barpolar"
           }
          ],
          "carpet": [
           {
            "aaxis": {
             "endlinecolor": "#2a3f5f",
             "gridcolor": "white",
             "linecolor": "white",
             "minorgridcolor": "white",
             "startlinecolor": "#2a3f5f"
            },
            "baxis": {
             "endlinecolor": "#2a3f5f",
             "gridcolor": "white",
             "linecolor": "white",
             "minorgridcolor": "white",
             "startlinecolor": "#2a3f5f"
            },
            "type": "carpet"
           }
          ],
          "choropleth": [
           {
            "colorbar": {
             "outlinewidth": 0,
             "ticks": ""
            },
            "type": "choropleth"
           }
          ],
          "contour": [
           {
            "colorbar": {
             "outlinewidth": 0,
             "ticks": ""
            },
            "colorscale": [
             [
              0,
              "#0d0887"
             ],
             [
              0.1111111111111111,
              "#46039f"
             ],
             [
              0.2222222222222222,
              "#7201a8"
             ],
             [
              0.3333333333333333,
              "#9c179e"
             ],
             [
              0.4444444444444444,
              "#bd3786"
             ],
             [
              0.5555555555555556,
              "#d8576b"
             ],
             [
              0.6666666666666666,
              "#ed7953"
             ],
             [
              0.7777777777777778,
              "#fb9f3a"
             ],
             [
              0.8888888888888888,
              "#fdca26"
             ],
             [
              1,
              "#f0f921"
             ]
            ],
            "type": "contour"
           }
          ],
          "contourcarpet": [
           {
            "colorbar": {
             "outlinewidth": 0,
             "ticks": ""
            },
            "type": "contourcarpet"
           }
          ],
          "heatmap": [
           {
            "colorbar": {
             "outlinewidth": 0,
             "ticks": ""
            },
            "colorscale": [
             [
              0,
              "#0d0887"
             ],
             [
              0.1111111111111111,
              "#46039f"
             ],
             [
              0.2222222222222222,
              "#7201a8"
             ],
             [
              0.3333333333333333,
              "#9c179e"
             ],
             [
              0.4444444444444444,
              "#bd3786"
             ],
             [
              0.5555555555555556,
              "#d8576b"
             ],
             [
              0.6666666666666666,
              "#ed7953"
             ],
             [
              0.7777777777777778,
              "#fb9f3a"
             ],
             [
              0.8888888888888888,
              "#fdca26"
             ],
             [
              1,
              "#f0f921"
             ]
            ],
            "type": "heatmap"
           }
          ],
          "heatmapgl": [
           {
            "colorbar": {
             "outlinewidth": 0,
             "ticks": ""
            },
            "colorscale": [
             [
              0,
              "#0d0887"
             ],
             [
              0.1111111111111111,
              "#46039f"
             ],
             [
              0.2222222222222222,
              "#7201a8"
             ],
             [
              0.3333333333333333,
              "#9c179e"
             ],
             [
              0.4444444444444444,
              "#bd3786"
             ],
             [
              0.5555555555555556,
              "#d8576b"
             ],
             [
              0.6666666666666666,
              "#ed7953"
             ],
             [
              0.7777777777777778,
              "#fb9f3a"
             ],
             [
              0.8888888888888888,
              "#fdca26"
             ],
             [
              1,
              "#f0f921"
             ]
            ],
            "type": "heatmapgl"
           }
          ],
          "histogram": [
           {
            "marker": {
             "pattern": {
              "fillmode": "overlay",
              "size": 10,
              "solidity": 0.2
             }
            },
            "type": "histogram"
           }
          ],
          "histogram2d": [
           {
            "colorbar": {
             "outlinewidth": 0,
             "ticks": ""
            },
            "colorscale": [
             [
              0,
              "#0d0887"
             ],
             [
              0.1111111111111111,
              "#46039f"
             ],
             [
              0.2222222222222222,
              "#7201a8"
             ],
             [
              0.3333333333333333,
              "#9c179e"
             ],
             [
              0.4444444444444444,
              "#bd3786"
             ],
             [
              0.5555555555555556,
              "#d8576b"
             ],
             [
              0.6666666666666666,
              "#ed7953"
             ],
             [
              0.7777777777777778,
              "#fb9f3a"
             ],
             [
              0.8888888888888888,
              "#fdca26"
             ],
             [
              1,
              "#f0f921"
             ]
            ],
            "type": "histogram2d"
           }
          ],
          "histogram2dcontour": [
           {
            "colorbar": {
             "outlinewidth": 0,
             "ticks": ""
            },
            "colorscale": [
             [
              0,
              "#0d0887"
             ],
             [
              0.1111111111111111,
              "#46039f"
             ],
             [
              0.2222222222222222,
              "#7201a8"
             ],
             [
              0.3333333333333333,
              "#9c179e"
             ],
             [
              0.4444444444444444,
              "#bd3786"
             ],
             [
              0.5555555555555556,
              "#d8576b"
             ],
             [
              0.6666666666666666,
              "#ed7953"
             ],
             [
              0.7777777777777778,
              "#fb9f3a"
             ],
             [
              0.8888888888888888,
              "#fdca26"
             ],
             [
              1,
              "#f0f921"
             ]
            ],
            "type": "histogram2dcontour"
           }
          ],
          "mesh3d": [
           {
            "colorbar": {
             "outlinewidth": 0,
             "ticks": ""
            },
            "type": "mesh3d"
           }
          ],
          "parcoords": [
           {
            "line": {
             "colorbar": {
              "outlinewidth": 0,
              "ticks": ""
             }
            },
            "type": "parcoords"
           }
          ],
          "pie": [
           {
            "automargin": true,
            "type": "pie"
           }
          ],
          "scatter": [
           {
            "fillpattern": {
             "fillmode": "overlay",
             "size": 10,
             "solidity": 0.2
            },
            "type": "scatter"
           }
          ],
          "scatter3d": [
           {
            "line": {
             "colorbar": {
              "outlinewidth": 0,
              "ticks": ""
             }
            },
            "marker": {
             "colorbar": {
              "outlinewidth": 0,
              "ticks": ""
             }
            },
            "type": "scatter3d"
           }
          ],
          "scattercarpet": [
           {
            "marker": {
             "colorbar": {
              "outlinewidth": 0,
              "ticks": ""
             }
            },
            "type": "scattercarpet"
           }
          ],
          "scattergeo": [
           {
            "marker": {
             "colorbar": {
              "outlinewidth": 0,
              "ticks": ""
             }
            },
            "type": "scattergeo"
           }
          ],
          "scattergl": [
           {
            "marker": {
             "colorbar": {
              "outlinewidth": 0,
              "ticks": ""
             }
            },
            "type": "scattergl"
           }
          ],
          "scattermapbox": [
           {
            "marker": {
             "colorbar": {
              "outlinewidth": 0,
              "ticks": ""
             }
            },
            "type": "scattermapbox"
           }
          ],
          "scatterpolar": [
           {
            "marker": {
             "colorbar": {
              "outlinewidth": 0,
              "ticks": ""
             }
            },
            "type": "scatterpolar"
           }
          ],
          "scatterpolargl": [
           {
            "marker": {
             "colorbar": {
              "outlinewidth": 0,
              "ticks": ""
             }
            },
            "type": "scatterpolargl"
           }
          ],
          "scatterternary": [
           {
            "marker": {
             "colorbar": {
              "outlinewidth": 0,
              "ticks": ""
             }
            },
            "type": "scatterternary"
           }
          ],
          "surface": [
           {
            "colorbar": {
             "outlinewidth": 0,
             "ticks": ""
            },
            "colorscale": [
             [
              0,
              "#0d0887"
             ],
             [
              0.1111111111111111,
              "#46039f"
             ],
             [
              0.2222222222222222,
              "#7201a8"
             ],
             [
              0.3333333333333333,
              "#9c179e"
             ],
             [
              0.4444444444444444,
              "#bd3786"
             ],
             [
              0.5555555555555556,
              "#d8576b"
             ],
             [
              0.6666666666666666,
              "#ed7953"
             ],
             [
              0.7777777777777778,
              "#fb9f3a"
             ],
             [
              0.8888888888888888,
              "#fdca26"
             ],
             [
              1,
              "#f0f921"
             ]
            ],
            "type": "surface"
           }
          ],
          "table": [
           {
            "cells": {
             "fill": {
              "color": "#EBF0F8"
             },
             "line": {
              "color": "white"
             }
            },
            "header": {
             "fill": {
              "color": "#C8D4E3"
             },
             "line": {
              "color": "white"
             }
            },
            "type": "table"
           }
          ]
         },
         "layout": {
          "annotationdefaults": {
           "arrowcolor": "#2a3f5f",
           "arrowhead": 0,
           "arrowwidth": 1
          },
          "autotypenumbers": "strict",
          "coloraxis": {
           "colorbar": {
            "outlinewidth": 0,
            "ticks": ""
           }
          },
          "colorscale": {
           "diverging": [
            [
             0,
             "#8e0152"
            ],
            [
             0.1,
             "#c51b7d"
            ],
            [
             0.2,
             "#de77ae"
            ],
            [
             0.3,
             "#f1b6da"
            ],
            [
             0.4,
             "#fde0ef"
            ],
            [
             0.5,
             "#f7f7f7"
            ],
            [
             0.6,
             "#e6f5d0"
            ],
            [
             0.7,
             "#b8e186"
            ],
            [
             0.8,
             "#7fbc41"
            ],
            [
             0.9,
             "#4d9221"
            ],
            [
             1,
             "#276419"
            ]
           ],
           "sequential": [
            [
             0,
             "#0d0887"
            ],
            [
             0.1111111111111111,
             "#46039f"
            ],
            [
             0.2222222222222222,
             "#7201a8"
            ],
            [
             0.3333333333333333,
             "#9c179e"
            ],
            [
             0.4444444444444444,
             "#bd3786"
            ],
            [
             0.5555555555555556,
             "#d8576b"
            ],
            [
             0.6666666666666666,
             "#ed7953"
            ],
            [
             0.7777777777777778,
             "#fb9f3a"
            ],
            [
             0.8888888888888888,
             "#fdca26"
            ],
            [
             1,
             "#f0f921"
            ]
           ],
           "sequentialminus": [
            [
             0,
             "#0d0887"
            ],
            [
             0.1111111111111111,
             "#46039f"
            ],
            [
             0.2222222222222222,
             "#7201a8"
            ],
            [
             0.3333333333333333,
             "#9c179e"
            ],
            [
             0.4444444444444444,
             "#bd3786"
            ],
            [
             0.5555555555555556,
             "#d8576b"
            ],
            [
             0.6666666666666666,
             "#ed7953"
            ],
            [
             0.7777777777777778,
             "#fb9f3a"
            ],
            [
             0.8888888888888888,
             "#fdca26"
            ],
            [
             1,
             "#f0f921"
            ]
           ]
          },
          "colorway": [
           "#636efa",
           "#EF553B",
           "#00cc96",
           "#ab63fa",
           "#FFA15A",
           "#19d3f3",
           "#FF6692",
           "#B6E880",
           "#FF97FF",
           "#FECB52"
          ],
          "font": {
           "color": "#2a3f5f"
          },
          "geo": {
           "bgcolor": "white",
           "lakecolor": "white",
           "landcolor": "#E5ECF6",
           "showlakes": true,
           "showland": true,
           "subunitcolor": "white"
          },
          "hoverlabel": {
           "align": "left"
          },
          "hovermode": "closest",
          "mapbox": {
           "style": "light"
          },
          "paper_bgcolor": "white",
          "plot_bgcolor": "#E5ECF6",
          "polar": {
           "angularaxis": {
            "gridcolor": "white",
            "linecolor": "white",
            "ticks": ""
           },
           "bgcolor": "#E5ECF6",
           "radialaxis": {
            "gridcolor": "white",
            "linecolor": "white",
            "ticks": ""
           }
          },
          "scene": {
           "xaxis": {
            "backgroundcolor": "#E5ECF6",
            "gridcolor": "white",
            "gridwidth": 2,
            "linecolor": "white",
            "showbackground": true,
            "ticks": "",
            "zerolinecolor": "white"
           },
           "yaxis": {
            "backgroundcolor": "#E5ECF6",
            "gridcolor": "white",
            "gridwidth": 2,
            "linecolor": "white",
            "showbackground": true,
            "ticks": "",
            "zerolinecolor": "white"
           },
           "zaxis": {
            "backgroundcolor": "#E5ECF6",
            "gridcolor": "white",
            "gridwidth": 2,
            "linecolor": "white",
            "showbackground": true,
            "ticks": "",
            "zerolinecolor": "white"
           }
          },
          "shapedefaults": {
           "line": {
            "color": "#2a3f5f"
           }
          },
          "ternary": {
           "aaxis": {
            "gridcolor": "white",
            "linecolor": "white",
            "ticks": ""
           },
           "baxis": {
            "gridcolor": "white",
            "linecolor": "white",
            "ticks": ""
           },
           "bgcolor": "#E5ECF6",
           "caxis": {
            "gridcolor": "white",
            "linecolor": "white",
            "ticks": ""
           }
          },
          "title": {
           "x": 0.05
          },
          "xaxis": {
           "automargin": true,
           "gridcolor": "white",
           "linecolor": "white",
           "ticks": "",
           "title": {
            "standoff": 15
           },
           "zerolinecolor": "white",
           "zerolinewidth": 2
          },
          "yaxis": {
           "automargin": true,
           "gridcolor": "white",
           "linecolor": "white",
           "ticks": "",
           "title": {
            "standoff": 15
           },
           "zerolinecolor": "white",
           "zerolinewidth": 2
          }
         }
        },
        "title": {
         "text": "Sine Waves"
        },
        "width": 800,
        "xaxis": {
         "title": {
          "text": "Time (s)"
         }
        },
        "yaxis": {
         "title": {
          "text": "Amplitude"
         }
        }
       }
      },
      "text/html": [
       "<div>                            <div id=\"109ca5db-3893-4cfb-9837-cc6d51095d7d\" class=\"plotly-graph-div\" style=\"height:600px; width:800px;\"></div>            <script type=\"text/javascript\">                require([\"plotly\"], function(Plotly) {                    window.PLOTLYENV=window.PLOTLYENV || {};                                    if (document.getElementById(\"109ca5db-3893-4cfb-9837-cc6d51095d7d\")) {                    Plotly.newPlot(                        \"109ca5db-3893-4cfb-9837-cc6d51095d7d\",                        [{\"mode\":\"lines\",\"name\":\"sine1\",\"x\":[0.0,0.05,0.1,0.15000000000000002,0.2,0.25,0.30000000000000004,0.35000000000000003,0.4,0.45,0.5,0.55,0.6000000000000001,0.65,0.7000000000000001,0.75,0.8,0.8500000000000001,0.9,0.9500000000000001,1.0,1.05,1.1,1.1500000000000001,1.2000000000000002,1.25,1.3,1.35,1.4000000000000001,1.4500000000000002,1.5,1.55,1.6,1.6500000000000001,1.7000000000000002,1.75,1.8,1.85,1.9000000000000001,1.9500000000000002],\"y\":[0.0,0.7604059656000309,-0.9876883405951377,0.5224985647159498,0.3090169943749478,-0.9238795325112867,0.8910065241883688,-0.2334453638559061,-0.5877852522924737,0.9969173337331279,-0.7071067811865476,-0.07845909572784282,0.8090169943749449,-0.9723699203976764,0.4539904997395481,0.38268343236509306,-0.951056516295154,0.8526401643540926,-0.15643446504023367,-0.6494480483301799,1.0,-0.6494480483301853,-0.15643446504022665,0.8526401643540888,-0.9510565162951562,0.38268343236509306,0.4539904997395481,-0.9723699203976764,0.8090169943749491,-0.07845909572785699,-0.7071067811865526,0.9969173337331282,-0.5877852522924708,-0.2334453638558992,0.8910065241883672,-0.9238795325112854,0.30901699437495284,0.5224985647159482,-0.9876883405951362,0.7604059656000342],\"type\":\"scatter\"}],                        {\"template\":{\"data\":{\"histogram2dcontour\":[{\"type\":\"histogram2dcontour\",\"colorbar\":{\"outlinewidth\":0,\"ticks\":\"\"},\"colorscale\":[[0.0,\"#0d0887\"],[0.1111111111111111,\"#46039f\"],[0.2222222222222222,\"#7201a8\"],[0.3333333333333333,\"#9c179e\"],[0.4444444444444444,\"#bd3786\"],[0.5555555555555556,\"#d8576b\"],[0.6666666666666666,\"#ed7953\"],[0.7777777777777778,\"#fb9f3a\"],[0.8888888888888888,\"#fdca26\"],[1.0,\"#f0f921\"]]}],\"choropleth\":[{\"type\":\"choropleth\",\"colorbar\":{\"outlinewidth\":0,\"ticks\":\"\"}}],\"histogram2d\":[{\"type\":\"histogram2d\",\"colorbar\":{\"outlinewidth\":0,\"ticks\":\"\"},\"colorscale\":[[0.0,\"#0d0887\"],[0.1111111111111111,\"#46039f\"],[0.2222222222222222,\"#7201a8\"],[0.3333333333333333,\"#9c179e\"],[0.4444444444444444,\"#bd3786\"],[0.5555555555555556,\"#d8576b\"],[0.6666666666666666,\"#ed7953\"],[0.7777777777777778,\"#fb9f3a\"],[0.8888888888888888,\"#fdca26\"],[1.0,\"#f0f921\"]]}],\"heatmap\":[{\"type\":\"heatmap\",\"colorbar\":{\"outlinewidth\":0,\"ticks\":\"\"},\"colorscale\":[[0.0,\"#0d0887\"],[0.1111111111111111,\"#46039f\"],[0.2222222222222222,\"#7201a8\"],[0.3333333333333333,\"#9c179e\"],[0.4444444444444444,\"#bd3786\"],[0.5555555555555556,\"#d8576b\"],[0.6666666666666666,\"#ed7953\"],[0.7777777777777778,\"#fb9f3a\"],[0.8888888888888888,\"#fdca26\"],[1.0,\"#f0f921\"]]}],\"heatmapgl\":[{\"type\":\"heatmapgl\",\"colorbar\":{\"outlinewidth\":0,\"ticks\":\"\"},\"colorscale\":[[0.0,\"#0d0887\"],[0.1111111111111111,\"#46039f\"],[0.2222222222222222,\"#7201a8\"],[0.3333333333333333,\"#9c179e\"],[0.4444444444444444,\"#bd3786\"],[0.5555555555555556,\"#d8576b\"],[0.6666666666666666,\"#ed7953\"],[0.7777777777777778,\"#fb9f3a\"],[0.8888888888888888,\"#fdca26\"],[1.0,\"#f0f921\"]]}],\"contourcarpet\":[{\"type\":\"contourcarpet\",\"colorbar\":{\"outlinewidth\":0,\"ticks\":\"\"}}],\"contour\":[{\"type\":\"contour\",\"colorbar\":{\"outlinewidth\":0,\"ticks\":\"\"},\"colorscale\":[[0.0,\"#0d0887\"],[0.1111111111111111,\"#46039f\"],[0.2222222222222222,\"#7201a8\"],[0.3333333333333333,\"#9c179e\"],[0.4444444444444444,\"#bd3786\"],[0.5555555555555556,\"#d8576b\"],[0.6666666666666666,\"#ed7953\"],[0.7777777777777778,\"#fb9f3a\"],[0.8888888888888888,\"#fdca26\"],[1.0,\"#f0f921\"]]}],\"surface\":[{\"type\":\"surface\",\"colorbar\":{\"outlinewidth\":0,\"ticks\":\"\"},\"colorscale\":[[0.0,\"#0d0887\"],[0.1111111111111111,\"#46039f\"],[0.2222222222222222,\"#7201a8\"],[0.3333333333333333,\"#9c179e\"],[0.4444444444444444,\"#bd3786\"],[0.5555555555555556,\"#d8576b\"],[0.6666666666666666,\"#ed7953\"],[0.7777777777777778,\"#fb9f3a\"],[0.8888888888888888,\"#fdca26\"],[1.0,\"#f0f921\"]]}],\"mesh3d\":[{\"type\":\"mesh3d\",\"colorbar\":{\"outlinewidth\":0,\"ticks\":\"\"}}],\"scatter\":[{\"fillpattern\":{\"fillmode\":\"overlay\",\"size\":10,\"solidity\":0.2},\"type\":\"scatter\"}],\"parcoords\":[{\"type\":\"parcoords\",\"line\":{\"colorbar\":{\"outlinewidth\":0,\"ticks\":\"\"}}}],\"scatterpolargl\":[{\"type\":\"scatterpolargl\",\"marker\":{\"colorbar\":{\"outlinewidth\":0,\"ticks\":\"\"}}}],\"bar\":[{\"error_x\":{\"color\":\"#2a3f5f\"},\"error_y\":{\"color\":\"#2a3f5f\"},\"marker\":{\"line\":{\"color\":\"#E5ECF6\",\"width\":0.5},\"pattern\":{\"fillmode\":\"overlay\",\"size\":10,\"solidity\":0.2}},\"type\":\"bar\"}],\"scattergeo\":[{\"type\":\"scattergeo\",\"marker\":{\"colorbar\":{\"outlinewidth\":0,\"ticks\":\"\"}}}],\"scatterpolar\":[{\"type\":\"scatterpolar\",\"marker\":{\"colorbar\":{\"outlinewidth\":0,\"ticks\":\"\"}}}],\"histogram\":[{\"marker\":{\"pattern\":{\"fillmode\":\"overlay\",\"size\":10,\"solidity\":0.2}},\"type\":\"histogram\"}],\"scattergl\":[{\"type\":\"scattergl\",\"marker\":{\"colorbar\":{\"outlinewidth\":0,\"ticks\":\"\"}}}],\"scatter3d\":[{\"type\":\"scatter3d\",\"line\":{\"colorbar\":{\"outlinewidth\":0,\"ticks\":\"\"}},\"marker\":{\"colorbar\":{\"outlinewidth\":0,\"ticks\":\"\"}}}],\"scattermapbox\":[{\"type\":\"scattermapbox\",\"marker\":{\"colorbar\":{\"outlinewidth\":0,\"ticks\":\"\"}}}],\"scatterternary\":[{\"type\":\"scatterternary\",\"marker\":{\"colorbar\":{\"outlinewidth\":0,\"ticks\":\"\"}}}],\"scattercarpet\":[{\"type\":\"scattercarpet\",\"marker\":{\"colorbar\":{\"outlinewidth\":0,\"ticks\":\"\"}}}],\"carpet\":[{\"aaxis\":{\"endlinecolor\":\"#2a3f5f\",\"gridcolor\":\"white\",\"linecolor\":\"white\",\"minorgridcolor\":\"white\",\"startlinecolor\":\"#2a3f5f\"},\"baxis\":{\"endlinecolor\":\"#2a3f5f\",\"gridcolor\":\"white\",\"linecolor\":\"white\",\"minorgridcolor\":\"white\",\"startlinecolor\":\"#2a3f5f\"},\"type\":\"carpet\"}],\"table\":[{\"cells\":{\"fill\":{\"color\":\"#EBF0F8\"},\"line\":{\"color\":\"white\"}},\"header\":{\"fill\":{\"color\":\"#C8D4E3\"},\"line\":{\"color\":\"white\"}},\"type\":\"table\"}],\"barpolar\":[{\"marker\":{\"line\":{\"color\":\"#E5ECF6\",\"width\":0.5},\"pattern\":{\"fillmode\":\"overlay\",\"size\":10,\"solidity\":0.2}},\"type\":\"barpolar\"}],\"pie\":[{\"automargin\":true,\"type\":\"pie\"}]},\"layout\":{\"autotypenumbers\":\"strict\",\"colorway\":[\"#636efa\",\"#EF553B\",\"#00cc96\",\"#ab63fa\",\"#FFA15A\",\"#19d3f3\",\"#FF6692\",\"#B6E880\",\"#FF97FF\",\"#FECB52\"],\"font\":{\"color\":\"#2a3f5f\"},\"hovermode\":\"closest\",\"hoverlabel\":{\"align\":\"left\"},\"paper_bgcolor\":\"white\",\"plot_bgcolor\":\"#E5ECF6\",\"polar\":{\"bgcolor\":\"#E5ECF6\",\"angularaxis\":{\"gridcolor\":\"white\",\"linecolor\":\"white\",\"ticks\":\"\"},\"radialaxis\":{\"gridcolor\":\"white\",\"linecolor\":\"white\",\"ticks\":\"\"}},\"ternary\":{\"bgcolor\":\"#E5ECF6\",\"aaxis\":{\"gridcolor\":\"white\",\"linecolor\":\"white\",\"ticks\":\"\"},\"baxis\":{\"gridcolor\":\"white\",\"linecolor\":\"white\",\"ticks\":\"\"},\"caxis\":{\"gridcolor\":\"white\",\"linecolor\":\"white\",\"ticks\":\"\"}},\"coloraxis\":{\"colorbar\":{\"outlinewidth\":0,\"ticks\":\"\"}},\"colorscale\":{\"sequential\":[[0.0,\"#0d0887\"],[0.1111111111111111,\"#46039f\"],[0.2222222222222222,\"#7201a8\"],[0.3333333333333333,\"#9c179e\"],[0.4444444444444444,\"#bd3786\"],[0.5555555555555556,\"#d8576b\"],[0.6666666666666666,\"#ed7953\"],[0.7777777777777778,\"#fb9f3a\"],[0.8888888888888888,\"#fdca26\"],[1.0,\"#f0f921\"]],\"sequentialminus\":[[0.0,\"#0d0887\"],[0.1111111111111111,\"#46039f\"],[0.2222222222222222,\"#7201a8\"],[0.3333333333333333,\"#9c179e\"],[0.4444444444444444,\"#bd3786\"],[0.5555555555555556,\"#d8576b\"],[0.6666666666666666,\"#ed7953\"],[0.7777777777777778,\"#fb9f3a\"],[0.8888888888888888,\"#fdca26\"],[1.0,\"#f0f921\"]],\"diverging\":[[0,\"#8e0152\"],[0.1,\"#c51b7d\"],[0.2,\"#de77ae\"],[0.3,\"#f1b6da\"],[0.4,\"#fde0ef\"],[0.5,\"#f7f7f7\"],[0.6,\"#e6f5d0\"],[0.7,\"#b8e186\"],[0.8,\"#7fbc41\"],[0.9,\"#4d9221\"],[1,\"#276419\"]]},\"xaxis\":{\"gridcolor\":\"white\",\"linecolor\":\"white\",\"ticks\":\"\",\"title\":{\"standoff\":15},\"zerolinecolor\":\"white\",\"automargin\":true,\"zerolinewidth\":2},\"yaxis\":{\"gridcolor\":\"white\",\"linecolor\":\"white\",\"ticks\":\"\",\"title\":{\"standoff\":15},\"zerolinecolor\":\"white\",\"automargin\":true,\"zerolinewidth\":2},\"scene\":{\"xaxis\":{\"backgroundcolor\":\"#E5ECF6\",\"gridcolor\":\"white\",\"linecolor\":\"white\",\"showbackground\":true,\"ticks\":\"\",\"zerolinecolor\":\"white\",\"gridwidth\":2},\"yaxis\":{\"backgroundcolor\":\"#E5ECF6\",\"gridcolor\":\"white\",\"linecolor\":\"white\",\"showbackground\":true,\"ticks\":\"\",\"zerolinecolor\":\"white\",\"gridwidth\":2},\"zaxis\":{\"backgroundcolor\":\"#E5ECF6\",\"gridcolor\":\"white\",\"linecolor\":\"white\",\"showbackground\":true,\"ticks\":\"\",\"zerolinecolor\":\"white\",\"gridwidth\":2}},\"shapedefaults\":{\"line\":{\"color\":\"#2a3f5f\"}},\"annotationdefaults\":{\"arrowcolor\":\"#2a3f5f\",\"arrowhead\":0,\"arrowwidth\":1},\"geo\":{\"bgcolor\":\"white\",\"landcolor\":\"#E5ECF6\",\"subunitcolor\":\"white\",\"showland\":true,\"showlakes\":true,\"lakecolor\":\"white\"},\"title\":{\"x\":0.05},\"mapbox\":{\"style\":\"light\"}}},\"shapes\":[{\"line\":{\"color\":\"Black\",\"dash\":\"dot\",\"width\":1},\"type\":\"line\",\"x0\":0.0,\"x1\":0.0,\"y0\":-1.484610425743922,\"y1\":1.4969220851487846},{\"line\":{\"color\":\"Black\",\"dash\":\"dot\",\"width\":1},\"type\":\"line\",\"x0\":0.05,\"x1\":0.05,\"y0\":-1.484610425743922,\"y1\":1.4969220851487846},{\"line\":{\"color\":\"Black\",\"dash\":\"dot\",\"width\":1},\"type\":\"line\",\"x0\":0.1,\"x1\":0.1,\"y0\":-1.484610425743922,\"y1\":1.4969220851487846},{\"line\":{\"color\":\"Black\",\"dash\":\"dot\",\"width\":1},\"type\":\"line\",\"x0\":0.15000000000000002,\"x1\":0.15000000000000002,\"y0\":-1.484610425743922,\"y1\":1.4969220851487846},{\"line\":{\"color\":\"Black\",\"dash\":\"dot\",\"width\":1},\"type\":\"line\",\"x0\":0.2,\"x1\":0.2,\"y0\":-1.484610425743922,\"y1\":1.4969220851487846},{\"line\":{\"color\":\"Black\",\"dash\":\"dot\",\"width\":1},\"type\":\"line\",\"x0\":0.25,\"x1\":0.25,\"y0\":-1.484610425743922,\"y1\":1.4969220851487846},{\"line\":{\"color\":\"Black\",\"dash\":\"dot\",\"width\":1},\"type\":\"line\",\"x0\":0.30000000000000004,\"x1\":0.30000000000000004,\"y0\":-1.484610425743922,\"y1\":1.4969220851487846},{\"line\":{\"color\":\"Black\",\"dash\":\"dot\",\"width\":1},\"type\":\"line\",\"x0\":0.35000000000000003,\"x1\":0.35000000000000003,\"y0\":-1.484610425743922,\"y1\":1.4969220851487846},{\"line\":{\"color\":\"Black\",\"dash\":\"dot\",\"width\":1},\"type\":\"line\",\"x0\":0.4,\"x1\":0.4,\"y0\":-1.484610425743922,\"y1\":1.4969220851487846},{\"line\":{\"color\":\"Black\",\"dash\":\"dot\",\"width\":1},\"type\":\"line\",\"x0\":0.45,\"x1\":0.45,\"y0\":-1.484610425743922,\"y1\":1.4969220851487846},{\"line\":{\"color\":\"Black\",\"dash\":\"dot\",\"width\":1},\"type\":\"line\",\"x0\":0.5,\"x1\":0.5,\"y0\":-1.484610425743922,\"y1\":1.4969220851487846},{\"line\":{\"color\":\"Black\",\"dash\":\"dot\",\"width\":1},\"type\":\"line\",\"x0\":0.55,\"x1\":0.55,\"y0\":-1.484610425743922,\"y1\":1.4969220851487846},{\"line\":{\"color\":\"Black\",\"dash\":\"dot\",\"width\":1},\"type\":\"line\",\"x0\":0.6000000000000001,\"x1\":0.6000000000000001,\"y0\":-1.484610425743922,\"y1\":1.4969220851487846},{\"line\":{\"color\":\"Black\",\"dash\":\"dot\",\"width\":1},\"type\":\"line\",\"x0\":0.65,\"x1\":0.65,\"y0\":-1.484610425743922,\"y1\":1.4969220851487846},{\"line\":{\"color\":\"Black\",\"dash\":\"dot\",\"width\":1},\"type\":\"line\",\"x0\":0.7000000000000001,\"x1\":0.7000000000000001,\"y0\":-1.484610425743922,\"y1\":1.4969220851487846},{\"line\":{\"color\":\"Black\",\"dash\":\"dot\",\"width\":1},\"type\":\"line\",\"x0\":0.75,\"x1\":0.75,\"y0\":-1.484610425743922,\"y1\":1.4969220851487846},{\"line\":{\"color\":\"Black\",\"dash\":\"dot\",\"width\":1},\"type\":\"line\",\"x0\":0.8,\"x1\":0.8,\"y0\":-1.484610425743922,\"y1\":1.4969220851487846},{\"line\":{\"color\":\"Black\",\"dash\":\"dot\",\"width\":1},\"type\":\"line\",\"x0\":0.8500000000000001,\"x1\":0.8500000000000001,\"y0\":-1.484610425743922,\"y1\":1.4969220851487846},{\"line\":{\"color\":\"Black\",\"dash\":\"dot\",\"width\":1},\"type\":\"line\",\"x0\":0.9,\"x1\":0.9,\"y0\":-1.484610425743922,\"y1\":1.4969220851487846},{\"line\":{\"color\":\"Black\",\"dash\":\"dot\",\"width\":1},\"type\":\"line\",\"x0\":0.9500000000000001,\"x1\":0.9500000000000001,\"y0\":-1.484610425743922,\"y1\":1.4969220851487846},{\"line\":{\"color\":\"Black\",\"dash\":\"dot\",\"width\":1},\"type\":\"line\",\"x0\":1.0,\"x1\":1.0,\"y0\":-1.484610425743922,\"y1\":1.4969220851487846},{\"line\":{\"color\":\"Black\",\"dash\":\"dot\",\"width\":1},\"type\":\"line\",\"x0\":1.05,\"x1\":1.05,\"y0\":-1.484610425743922,\"y1\":1.4969220851487846},{\"line\":{\"color\":\"Black\",\"dash\":\"dot\",\"width\":1},\"type\":\"line\",\"x0\":1.1,\"x1\":1.1,\"y0\":-1.484610425743922,\"y1\":1.4969220851487846},{\"line\":{\"color\":\"Black\",\"dash\":\"dot\",\"width\":1},\"type\":\"line\",\"x0\":1.1500000000000001,\"x1\":1.1500000000000001,\"y0\":-1.484610425743922,\"y1\":1.4969220851487846},{\"line\":{\"color\":\"Black\",\"dash\":\"dot\",\"width\":1},\"type\":\"line\",\"x0\":1.2000000000000002,\"x1\":1.2000000000000002,\"y0\":-1.484610425743922,\"y1\":1.4969220851487846},{\"line\":{\"color\":\"Black\",\"dash\":\"dot\",\"width\":1},\"type\":\"line\",\"x0\":1.25,\"x1\":1.25,\"y0\":-1.484610425743922,\"y1\":1.4969220851487846},{\"line\":{\"color\":\"Black\",\"dash\":\"dot\",\"width\":1},\"type\":\"line\",\"x0\":1.3,\"x1\":1.3,\"y0\":-1.484610425743922,\"y1\":1.4969220851487846},{\"line\":{\"color\":\"Black\",\"dash\":\"dot\",\"width\":1},\"type\":\"line\",\"x0\":1.35,\"x1\":1.35,\"y0\":-1.484610425743922,\"y1\":1.4969220851487846},{\"line\":{\"color\":\"Black\",\"dash\":\"dot\",\"width\":1},\"type\":\"line\",\"x0\":1.4000000000000001,\"x1\":1.4000000000000001,\"y0\":-1.484610425743922,\"y1\":1.4969220851487846},{\"line\":{\"color\":\"Black\",\"dash\":\"dot\",\"width\":1},\"type\":\"line\",\"x0\":1.4500000000000002,\"x1\":1.4500000000000002,\"y0\":-1.484610425743922,\"y1\":1.4969220851487846},{\"line\":{\"color\":\"Black\",\"dash\":\"dot\",\"width\":1},\"type\":\"line\",\"x0\":1.5,\"x1\":1.5,\"y0\":-1.484610425743922,\"y1\":1.4969220851487846},{\"line\":{\"color\":\"Black\",\"dash\":\"dot\",\"width\":1},\"type\":\"line\",\"x0\":1.55,\"x1\":1.55,\"y0\":-1.484610425743922,\"y1\":1.4969220851487846},{\"line\":{\"color\":\"Black\",\"dash\":\"dot\",\"width\":1},\"type\":\"line\",\"x0\":1.6,\"x1\":1.6,\"y0\":-1.484610425743922,\"y1\":1.4969220851487846},{\"line\":{\"color\":\"Black\",\"dash\":\"dot\",\"width\":1},\"type\":\"line\",\"x0\":1.6500000000000001,\"x1\":1.6500000000000001,\"y0\":-1.484610425743922,\"y1\":1.4969220851487846},{\"line\":{\"color\":\"Black\",\"dash\":\"dot\",\"width\":1},\"type\":\"line\",\"x0\":1.7000000000000002,\"x1\":1.7000000000000002,\"y0\":-1.484610425743922,\"y1\":1.4969220851487846},{\"line\":{\"color\":\"Black\",\"dash\":\"dot\",\"width\":1},\"type\":\"line\",\"x0\":1.75,\"x1\":1.75,\"y0\":-1.484610425743922,\"y1\":1.4969220851487846},{\"line\":{\"color\":\"Black\",\"dash\":\"dot\",\"width\":1},\"type\":\"line\",\"x0\":1.8,\"x1\":1.8,\"y0\":-1.484610425743922,\"y1\":1.4969220851487846},{\"line\":{\"color\":\"Black\",\"dash\":\"dot\",\"width\":1},\"type\":\"line\",\"x0\":1.85,\"x1\":1.85,\"y0\":-1.484610425743922,\"y1\":1.4969220851487846},{\"line\":{\"color\":\"Black\",\"dash\":\"dot\",\"width\":1},\"type\":\"line\",\"x0\":1.9000000000000001,\"x1\":1.9000000000000001,\"y0\":-1.484610425743922,\"y1\":1.4969220851487846},{\"line\":{\"color\":\"Black\",\"dash\":\"dot\",\"width\":1},\"type\":\"line\",\"x0\":1.9500000000000002,\"x1\":1.9500000000000002,\"y0\":-1.484610425743922,\"y1\":1.4969220851487846},{\"line\":{\"color\":\"Black\",\"dash\":\"dot\",\"width\":1},\"type\":\"line\",\"x0\":2.0,\"x1\":2.0,\"y0\":-1.484610425743922,\"y1\":1.4969220851487846}],\"legend\":{\"x\":0,\"y\":1},\"title\":{\"text\":\"Sine Waves\"},\"xaxis\":{\"title\":{\"text\":\"Time (s)\"}},\"yaxis\":{\"title\":{\"text\":\"Amplitude\"}},\"autosize\":false,\"width\":800,\"height\":600},                        {\"responsive\": true}                    ).then(function(){\n",
       "                            \n",
       "var gd = document.getElementById('109ca5db-3893-4cfb-9837-cc6d51095d7d');\n",
       "var x = new MutationObserver(function (mutations, observer) {{\n",
       "        var display = window.getComputedStyle(gd).display;\n",
       "        if (!display || display === 'none') {{\n",
       "            console.log([gd, 'removed!']);\n",
       "            Plotly.purge(gd);\n",
       "            observer.disconnect();\n",
       "        }}\n",
       "}});\n",
       "\n",
       "// Listen for the removal of the full notebook cells\n",
       "var notebookContainer = gd.closest('#notebook-container');\n",
       "if (notebookContainer) {{\n",
       "    x.observe(notebookContainer, {childList: true});\n",
       "}}\n",
       "\n",
       "// Listen for the clearing of the current output cell\n",
       "var outputEl = gd.closest('.output');\n",
       "if (outputEl) {{\n",
       "    x.observe(outputEl, {childList: true});\n",
       "}}\n",
       "\n",
       "                        })                };                });            </script>        </div>"
      ]
     },
     "metadata": {},
     "output_type": "display_data"
    },
    {
     "name": "stdout",
     "output_type": "stream",
     "text": [
      "Total number of available sample points: 40\n"
     ]
    },
    {
     "data": {
      "application/vnd.plotly.v1+json": {
       "config": {
        "plotlyServerURL": "https://plot.ly"
       },
       "data": [
        {
         "mode": "lines",
         "name": "sine1",
         "type": "scatter",
         "x": [
          -10,
          -9.5,
          -9,
          -8.5,
          -8,
          -7.5,
          -7,
          -6.5,
          -6,
          -5.5,
          -5,
          -4.5,
          -4,
          -3.5,
          -3,
          -2.5,
          -2,
          -1.5,
          -1,
          -0.5,
          0,
          0.5,
          1,
          1.5,
          2,
          2.5,
          3,
          3.5,
          4,
          4.5,
          5,
          5.5,
          6,
          6.5,
          7,
          7.5,
          8,
          8.5,
          9,
          9.5
         ],
         "y": [
          2.1691676853542536,
          2.248123547044422,
          2.5211691526126123,
          3.1479167224355837,
          4.765375622564519,
          13.188045035507661,
          12.33168157238598,
          3.8903893509511596,
          2.233656291825875,
          1.542363114066216,
          1.1708495661125418,
          0.9435692585260576,
          0.7933580586871387,
          0.6891239815123391,
          0.6146019228688493,
          0.5605420061575628,
          0.5213741456494665,
          0.49362440098236826,
          0.47510390311074335,
          0.46447319279196186,
          0.4610063144273291,
          0.46447319279196275,
          0.47510390311074246,
          0.49362440098236804,
          0.5213741456494659,
          0.5605420061575637,
          0.6146019228688484,
          0.6891239815123393,
          0.7933580586871387,
          0.9435692585260591,
          1.1708495661125413,
          1.5423631140662155,
          2.2336562918258753,
          3.890389350951159,
          12.331681572385978,
          13.18804503550766,
          4.765375622564519,
          3.1479167224355837,
          2.5211691526126128,
          2.248123547044421
         ]
        }
       ],
       "layout": {
        "autosize": false,
        "height": 600,
        "shapes": [
         {
          "line": {
           "color": "Black",
           "dash": "dot",
           "width": 1
          },
          "type": "line",
          "x0": -10,
          "x1": -10,
          "y0": 0,
          "y1": 16.485056294384577
         },
         {
          "line": {
           "color": "Black",
           "dash": "dot",
           "width": 1
          },
          "type": "line",
          "x0": -9.5,
          "x1": -9.5,
          "y0": 0,
          "y1": 16.485056294384577
         },
         {
          "line": {
           "color": "Black",
           "dash": "dot",
           "width": 1
          },
          "type": "line",
          "x0": -9,
          "x1": -9,
          "y0": 0,
          "y1": 16.485056294384577
         },
         {
          "line": {
           "color": "Black",
           "dash": "dot",
           "width": 1
          },
          "type": "line",
          "x0": -8.5,
          "x1": -8.5,
          "y0": 0,
          "y1": 16.485056294384577
         },
         {
          "line": {
           "color": "Black",
           "dash": "dot",
           "width": 1
          },
          "type": "line",
          "x0": -8,
          "x1": -8,
          "y0": 0,
          "y1": 16.485056294384577
         },
         {
          "line": {
           "color": "Black",
           "dash": "dot",
           "width": 1
          },
          "type": "line",
          "x0": -7.5,
          "x1": -7.5,
          "y0": 0,
          "y1": 16.485056294384577
         },
         {
          "line": {
           "color": "Black",
           "dash": "dot",
           "width": 1
          },
          "type": "line",
          "x0": -7,
          "x1": -7,
          "y0": 0,
          "y1": 16.485056294384577
         },
         {
          "line": {
           "color": "Black",
           "dash": "dot",
           "width": 1
          },
          "type": "line",
          "x0": -6.5,
          "x1": -6.5,
          "y0": 0,
          "y1": 16.485056294384577
         },
         {
          "line": {
           "color": "Black",
           "dash": "dot",
           "width": 1
          },
          "type": "line",
          "x0": -6,
          "x1": -6,
          "y0": 0,
          "y1": 16.485056294384577
         },
         {
          "line": {
           "color": "Black",
           "dash": "dot",
           "width": 1
          },
          "type": "line",
          "x0": -5.5,
          "x1": -5.5,
          "y0": 0,
          "y1": 16.485056294384577
         },
         {
          "line": {
           "color": "Black",
           "dash": "dot",
           "width": 1
          },
          "type": "line",
          "x0": -5,
          "x1": -5,
          "y0": 0,
          "y1": 16.485056294384577
         },
         {
          "line": {
           "color": "Black",
           "dash": "dot",
           "width": 1
          },
          "type": "line",
          "x0": -4.5,
          "x1": -4.5,
          "y0": 0,
          "y1": 16.485056294384577
         },
         {
          "line": {
           "color": "Black",
           "dash": "dot",
           "width": 1
          },
          "type": "line",
          "x0": -4,
          "x1": -4,
          "y0": 0,
          "y1": 16.485056294384577
         },
         {
          "line": {
           "color": "Black",
           "dash": "dot",
           "width": 1
          },
          "type": "line",
          "x0": -3.5,
          "x1": -3.5,
          "y0": 0,
          "y1": 16.485056294384577
         },
         {
          "line": {
           "color": "Black",
           "dash": "dot",
           "width": 1
          },
          "type": "line",
          "x0": -3,
          "x1": -3,
          "y0": 0,
          "y1": 16.485056294384577
         },
         {
          "line": {
           "color": "Black",
           "dash": "dot",
           "width": 1
          },
          "type": "line",
          "x0": -2.5,
          "x1": -2.5,
          "y0": 0,
          "y1": 16.485056294384577
         },
         {
          "line": {
           "color": "Black",
           "dash": "dot",
           "width": 1
          },
          "type": "line",
          "x0": -2,
          "x1": -2,
          "y0": 0,
          "y1": 16.485056294384577
         },
         {
          "line": {
           "color": "Black",
           "dash": "dot",
           "width": 1
          },
          "type": "line",
          "x0": -1.5,
          "x1": -1.5,
          "y0": 0,
          "y1": 16.485056294384577
         },
         {
          "line": {
           "color": "Black",
           "dash": "dot",
           "width": 1
          },
          "type": "line",
          "x0": -1,
          "x1": -1,
          "y0": 0,
          "y1": 16.485056294384577
         },
         {
          "line": {
           "color": "Black",
           "dash": "dot",
           "width": 1
          },
          "type": "line",
          "x0": -0.5,
          "x1": -0.5,
          "y0": 0,
          "y1": 16.485056294384577
         },
         {
          "line": {
           "color": "Black",
           "dash": "dot",
           "width": 1
          },
          "type": "line",
          "x0": 0,
          "x1": 0,
          "y0": 0,
          "y1": 16.485056294384577
         },
         {
          "line": {
           "color": "Black",
           "dash": "dot",
           "width": 1
          },
          "type": "line",
          "x0": 0.5,
          "x1": 0.5,
          "y0": 0,
          "y1": 16.485056294384577
         },
         {
          "line": {
           "color": "Black",
           "dash": "dot",
           "width": 1
          },
          "type": "line",
          "x0": 1,
          "x1": 1,
          "y0": 0,
          "y1": 16.485056294384577
         },
         {
          "line": {
           "color": "Black",
           "dash": "dot",
           "width": 1
          },
          "type": "line",
          "x0": 1.5,
          "x1": 1.5,
          "y0": 0,
          "y1": 16.485056294384577
         },
         {
          "line": {
           "color": "Black",
           "dash": "dot",
           "width": 1
          },
          "type": "line",
          "x0": 2,
          "x1": 2,
          "y0": 0,
          "y1": 16.485056294384577
         },
         {
          "line": {
           "color": "Black",
           "dash": "dot",
           "width": 1
          },
          "type": "line",
          "x0": 2.5,
          "x1": 2.5,
          "y0": 0,
          "y1": 16.485056294384577
         },
         {
          "line": {
           "color": "Black",
           "dash": "dot",
           "width": 1
          },
          "type": "line",
          "x0": 3,
          "x1": 3,
          "y0": 0,
          "y1": 16.485056294384577
         },
         {
          "line": {
           "color": "Black",
           "dash": "dot",
           "width": 1
          },
          "type": "line",
          "x0": 3.5,
          "x1": 3.5,
          "y0": 0,
          "y1": 16.485056294384577
         },
         {
          "line": {
           "color": "Black",
           "dash": "dot",
           "width": 1
          },
          "type": "line",
          "x0": 4,
          "x1": 4,
          "y0": 0,
          "y1": 16.485056294384577
         },
         {
          "line": {
           "color": "Black",
           "dash": "dot",
           "width": 1
          },
          "type": "line",
          "x0": 4.5,
          "x1": 4.5,
          "y0": 0,
          "y1": 16.485056294384577
         },
         {
          "line": {
           "color": "Black",
           "dash": "dot",
           "width": 1
          },
          "type": "line",
          "x0": 5,
          "x1": 5,
          "y0": 0,
          "y1": 16.485056294384577
         },
         {
          "line": {
           "color": "Black",
           "dash": "dot",
           "width": 1
          },
          "type": "line",
          "x0": 5.5,
          "x1": 5.5,
          "y0": 0,
          "y1": 16.485056294384577
         },
         {
          "line": {
           "color": "Black",
           "dash": "dot",
           "width": 1
          },
          "type": "line",
          "x0": 6,
          "x1": 6,
          "y0": 0,
          "y1": 16.485056294384577
         },
         {
          "line": {
           "color": "Black",
           "dash": "dot",
           "width": 1
          },
          "type": "line",
          "x0": 6.5,
          "x1": 6.5,
          "y0": 0,
          "y1": 16.485056294384577
         },
         {
          "line": {
           "color": "Black",
           "dash": "dot",
           "width": 1
          },
          "type": "line",
          "x0": 7,
          "x1": 7,
          "y0": 0,
          "y1": 16.485056294384577
         },
         {
          "line": {
           "color": "Black",
           "dash": "dot",
           "width": 1
          },
          "type": "line",
          "x0": 7.5,
          "x1": 7.5,
          "y0": 0,
          "y1": 16.485056294384577
         },
         {
          "line": {
           "color": "Black",
           "dash": "dot",
           "width": 1
          },
          "type": "line",
          "x0": 8,
          "x1": 8,
          "y0": 0,
          "y1": 16.485056294384577
         },
         {
          "line": {
           "color": "Black",
           "dash": "dot",
           "width": 1
          },
          "type": "line",
          "x0": 8.5,
          "x1": 8.5,
          "y0": 0,
          "y1": 16.485056294384577
         },
         {
          "line": {
           "color": "Black",
           "dash": "dot",
           "width": 1
          },
          "type": "line",
          "x0": 9,
          "x1": 9,
          "y0": 0,
          "y1": 16.485056294384577
         },
         {
          "line": {
           "color": "Black",
           "dash": "dot",
           "width": 1
          },
          "type": "line",
          "x0": 9.5,
          "x1": 9.5,
          "y0": 0,
          "y1": 16.485056294384577
         }
        ],
        "template": {
         "data": {
          "bar": [
           {
            "error_x": {
             "color": "#2a3f5f"
            },
            "error_y": {
             "color": "#2a3f5f"
            },
            "marker": {
             "line": {
              "color": "#E5ECF6",
              "width": 0.5
             },
             "pattern": {
              "fillmode": "overlay",
              "size": 10,
              "solidity": 0.2
             }
            },
            "type": "bar"
           }
          ],
          "barpolar": [
           {
            "marker": {
             "line": {
              "color": "#E5ECF6",
              "width": 0.5
             },
             "pattern": {
              "fillmode": "overlay",
              "size": 10,
              "solidity": 0.2
             }
            },
            "type": "barpolar"
           }
          ],
          "carpet": [
           {
            "aaxis": {
             "endlinecolor": "#2a3f5f",
             "gridcolor": "white",
             "linecolor": "white",
             "minorgridcolor": "white",
             "startlinecolor": "#2a3f5f"
            },
            "baxis": {
             "endlinecolor": "#2a3f5f",
             "gridcolor": "white",
             "linecolor": "white",
             "minorgridcolor": "white",
             "startlinecolor": "#2a3f5f"
            },
            "type": "carpet"
           }
          ],
          "choropleth": [
           {
            "colorbar": {
             "outlinewidth": 0,
             "ticks": ""
            },
            "type": "choropleth"
           }
          ],
          "contour": [
           {
            "colorbar": {
             "outlinewidth": 0,
             "ticks": ""
            },
            "colorscale": [
             [
              0,
              "#0d0887"
             ],
             [
              0.1111111111111111,
              "#46039f"
             ],
             [
              0.2222222222222222,
              "#7201a8"
             ],
             [
              0.3333333333333333,
              "#9c179e"
             ],
             [
              0.4444444444444444,
              "#bd3786"
             ],
             [
              0.5555555555555556,
              "#d8576b"
             ],
             [
              0.6666666666666666,
              "#ed7953"
             ],
             [
              0.7777777777777778,
              "#fb9f3a"
             ],
             [
              0.8888888888888888,
              "#fdca26"
             ],
             [
              1,
              "#f0f921"
             ]
            ],
            "type": "contour"
           }
          ],
          "contourcarpet": [
           {
            "colorbar": {
             "outlinewidth": 0,
             "ticks": ""
            },
            "type": "contourcarpet"
           }
          ],
          "heatmap": [
           {
            "colorbar": {
             "outlinewidth": 0,
             "ticks": ""
            },
            "colorscale": [
             [
              0,
              "#0d0887"
             ],
             [
              0.1111111111111111,
              "#46039f"
             ],
             [
              0.2222222222222222,
              "#7201a8"
             ],
             [
              0.3333333333333333,
              "#9c179e"
             ],
             [
              0.4444444444444444,
              "#bd3786"
             ],
             [
              0.5555555555555556,
              "#d8576b"
             ],
             [
              0.6666666666666666,
              "#ed7953"
             ],
             [
              0.7777777777777778,
              "#fb9f3a"
             ],
             [
              0.8888888888888888,
              "#fdca26"
             ],
             [
              1,
              "#f0f921"
             ]
            ],
            "type": "heatmap"
           }
          ],
          "heatmapgl": [
           {
            "colorbar": {
             "outlinewidth": 0,
             "ticks": ""
            },
            "colorscale": [
             [
              0,
              "#0d0887"
             ],
             [
              0.1111111111111111,
              "#46039f"
             ],
             [
              0.2222222222222222,
              "#7201a8"
             ],
             [
              0.3333333333333333,
              "#9c179e"
             ],
             [
              0.4444444444444444,
              "#bd3786"
             ],
             [
              0.5555555555555556,
              "#d8576b"
             ],
             [
              0.6666666666666666,
              "#ed7953"
             ],
             [
              0.7777777777777778,
              "#fb9f3a"
             ],
             [
              0.8888888888888888,
              "#fdca26"
             ],
             [
              1,
              "#f0f921"
             ]
            ],
            "type": "heatmapgl"
           }
          ],
          "histogram": [
           {
            "marker": {
             "pattern": {
              "fillmode": "overlay",
              "size": 10,
              "solidity": 0.2
             }
            },
            "type": "histogram"
           }
          ],
          "histogram2d": [
           {
            "colorbar": {
             "outlinewidth": 0,
             "ticks": ""
            },
            "colorscale": [
             [
              0,
              "#0d0887"
             ],
             [
              0.1111111111111111,
              "#46039f"
             ],
             [
              0.2222222222222222,
              "#7201a8"
             ],
             [
              0.3333333333333333,
              "#9c179e"
             ],
             [
              0.4444444444444444,
              "#bd3786"
             ],
             [
              0.5555555555555556,
              "#d8576b"
             ],
             [
              0.6666666666666666,
              "#ed7953"
             ],
             [
              0.7777777777777778,
              "#fb9f3a"
             ],
             [
              0.8888888888888888,
              "#fdca26"
             ],
             [
              1,
              "#f0f921"
             ]
            ],
            "type": "histogram2d"
           }
          ],
          "histogram2dcontour": [
           {
            "colorbar": {
             "outlinewidth": 0,
             "ticks": ""
            },
            "colorscale": [
             [
              0,
              "#0d0887"
             ],
             [
              0.1111111111111111,
              "#46039f"
             ],
             [
              0.2222222222222222,
              "#7201a8"
             ],
             [
              0.3333333333333333,
              "#9c179e"
             ],
             [
              0.4444444444444444,
              "#bd3786"
             ],
             [
              0.5555555555555556,
              "#d8576b"
             ],
             [
              0.6666666666666666,
              "#ed7953"
             ],
             [
              0.7777777777777778,
              "#fb9f3a"
             ],
             [
              0.8888888888888888,
              "#fdca26"
             ],
             [
              1,
              "#f0f921"
             ]
            ],
            "type": "histogram2dcontour"
           }
          ],
          "mesh3d": [
           {
            "colorbar": {
             "outlinewidth": 0,
             "ticks": ""
            },
            "type": "mesh3d"
           }
          ],
          "parcoords": [
           {
            "line": {
             "colorbar": {
              "outlinewidth": 0,
              "ticks": ""
             }
            },
            "type": "parcoords"
           }
          ],
          "pie": [
           {
            "automargin": true,
            "type": "pie"
           }
          ],
          "scatter": [
           {
            "fillpattern": {
             "fillmode": "overlay",
             "size": 10,
             "solidity": 0.2
            },
            "type": "scatter"
           }
          ],
          "scatter3d": [
           {
            "line": {
             "colorbar": {
              "outlinewidth": 0,
              "ticks": ""
             }
            },
            "marker": {
             "colorbar": {
              "outlinewidth": 0,
              "ticks": ""
             }
            },
            "type": "scatter3d"
           }
          ],
          "scattercarpet": [
           {
            "marker": {
             "colorbar": {
              "outlinewidth": 0,
              "ticks": ""
             }
            },
            "type": "scattercarpet"
           }
          ],
          "scattergeo": [
           {
            "marker": {
             "colorbar": {
              "outlinewidth": 0,
              "ticks": ""
             }
            },
            "type": "scattergeo"
           }
          ],
          "scattergl": [
           {
            "marker": {
             "colorbar": {
              "outlinewidth": 0,
              "ticks": ""
             }
            },
            "type": "scattergl"
           }
          ],
          "scattermapbox": [
           {
            "marker": {
             "colorbar": {
              "outlinewidth": 0,
              "ticks": ""
             }
            },
            "type": "scattermapbox"
           }
          ],
          "scatterpolar": [
           {
            "marker": {
             "colorbar": {
              "outlinewidth": 0,
              "ticks": ""
             }
            },
            "type": "scatterpolar"
           }
          ],
          "scatterpolargl": [
           {
            "marker": {
             "colorbar": {
              "outlinewidth": 0,
              "ticks": ""
             }
            },
            "type": "scatterpolargl"
           }
          ],
          "scatterternary": [
           {
            "marker": {
             "colorbar": {
              "outlinewidth": 0,
              "ticks": ""
             }
            },
            "type": "scatterternary"
           }
          ],
          "surface": [
           {
            "colorbar": {
             "outlinewidth": 0,
             "ticks": ""
            },
            "colorscale": [
             [
              0,
              "#0d0887"
             ],
             [
              0.1111111111111111,
              "#46039f"
             ],
             [
              0.2222222222222222,
              "#7201a8"
             ],
             [
              0.3333333333333333,
              "#9c179e"
             ],
             [
              0.4444444444444444,
              "#bd3786"
             ],
             [
              0.5555555555555556,
              "#d8576b"
             ],
             [
              0.6666666666666666,
              "#ed7953"
             ],
             [
              0.7777777777777778,
              "#fb9f3a"
             ],
             [
              0.8888888888888888,
              "#fdca26"
             ],
             [
              1,
              "#f0f921"
             ]
            ],
            "type": "surface"
           }
          ],
          "table": [
           {
            "cells": {
             "fill": {
              "color": "#EBF0F8"
             },
             "line": {
              "color": "white"
             }
            },
            "header": {
             "fill": {
              "color": "#C8D4E3"
             },
             "line": {
              "color": "white"
             }
            },
            "type": "table"
           }
          ]
         },
         "layout": {
          "annotationdefaults": {
           "arrowcolor": "#2a3f5f",
           "arrowhead": 0,
           "arrowwidth": 1
          },
          "autotypenumbers": "strict",
          "coloraxis": {
           "colorbar": {
            "outlinewidth": 0,
            "ticks": ""
           }
          },
          "colorscale": {
           "diverging": [
            [
             0,
             "#8e0152"
            ],
            [
             0.1,
             "#c51b7d"
            ],
            [
             0.2,
             "#de77ae"
            ],
            [
             0.3,
             "#f1b6da"
            ],
            [
             0.4,
             "#fde0ef"
            ],
            [
             0.5,
             "#f7f7f7"
            ],
            [
             0.6,
             "#e6f5d0"
            ],
            [
             0.7,
             "#b8e186"
            ],
            [
             0.8,
             "#7fbc41"
            ],
            [
             0.9,
             "#4d9221"
            ],
            [
             1,
             "#276419"
            ]
           ],
           "sequential": [
            [
             0,
             "#0d0887"
            ],
            [
             0.1111111111111111,
             "#46039f"
            ],
            [
             0.2222222222222222,
             "#7201a8"
            ],
            [
             0.3333333333333333,
             "#9c179e"
            ],
            [
             0.4444444444444444,
             "#bd3786"
            ],
            [
             0.5555555555555556,
             "#d8576b"
            ],
            [
             0.6666666666666666,
             "#ed7953"
            ],
            [
             0.7777777777777778,
             "#fb9f3a"
            ],
            [
             0.8888888888888888,
             "#fdca26"
            ],
            [
             1,
             "#f0f921"
            ]
           ],
           "sequentialminus": [
            [
             0,
             "#0d0887"
            ],
            [
             0.1111111111111111,
             "#46039f"
            ],
            [
             0.2222222222222222,
             "#7201a8"
            ],
            [
             0.3333333333333333,
             "#9c179e"
            ],
            [
             0.4444444444444444,
             "#bd3786"
            ],
            [
             0.5555555555555556,
             "#d8576b"
            ],
            [
             0.6666666666666666,
             "#ed7953"
            ],
            [
             0.7777777777777778,
             "#fb9f3a"
            ],
            [
             0.8888888888888888,
             "#fdca26"
            ],
            [
             1,
             "#f0f921"
            ]
           ]
          },
          "colorway": [
           "#636efa",
           "#EF553B",
           "#00cc96",
           "#ab63fa",
           "#FFA15A",
           "#19d3f3",
           "#FF6692",
           "#B6E880",
           "#FF97FF",
           "#FECB52"
          ],
          "font": {
           "color": "#2a3f5f"
          },
          "geo": {
           "bgcolor": "white",
           "lakecolor": "white",
           "landcolor": "#E5ECF6",
           "showlakes": true,
           "showland": true,
           "subunitcolor": "white"
          },
          "hoverlabel": {
           "align": "left"
          },
          "hovermode": "closest",
          "mapbox": {
           "style": "light"
          },
          "paper_bgcolor": "white",
          "plot_bgcolor": "#E5ECF6",
          "polar": {
           "angularaxis": {
            "gridcolor": "white",
            "linecolor": "white",
            "ticks": ""
           },
           "bgcolor": "#E5ECF6",
           "radialaxis": {
            "gridcolor": "white",
            "linecolor": "white",
            "ticks": ""
           }
          },
          "scene": {
           "xaxis": {
            "backgroundcolor": "#E5ECF6",
            "gridcolor": "white",
            "gridwidth": 2,
            "linecolor": "white",
            "showbackground": true,
            "ticks": "",
            "zerolinecolor": "white"
           },
           "yaxis": {
            "backgroundcolor": "#E5ECF6",
            "gridcolor": "white",
            "gridwidth": 2,
            "linecolor": "white",
            "showbackground": true,
            "ticks": "",
            "zerolinecolor": "white"
           },
           "zaxis": {
            "backgroundcolor": "#E5ECF6",
            "gridcolor": "white",
            "gridwidth": 2,
            "linecolor": "white",
            "showbackground": true,
            "ticks": "",
            "zerolinecolor": "white"
           }
          },
          "shapedefaults": {
           "line": {
            "color": "#2a3f5f"
           }
          },
          "ternary": {
           "aaxis": {
            "gridcolor": "white",
            "linecolor": "white",
            "ticks": ""
           },
           "baxis": {
            "gridcolor": "white",
            "linecolor": "white",
            "ticks": ""
           },
           "bgcolor": "#E5ECF6",
           "caxis": {
            "gridcolor": "white",
            "linecolor": "white",
            "ticks": ""
           }
          },
          "title": {
           "x": 0.05
          },
          "xaxis": {
           "automargin": true,
           "gridcolor": "white",
           "linecolor": "white",
           "ticks": "",
           "title": {
            "standoff": 15
           },
           "zerolinecolor": "white",
           "zerolinewidth": 2
          },
          "yaxis": {
           "automargin": true,
           "gridcolor": "white",
           "linecolor": "white",
           "ticks": "",
           "title": {
            "standoff": 15
           },
           "zerolinecolor": "white",
           "zerolinewidth": 2
          }
         }
        },
        "title": {
         "text": "Magnitude Spectrum of the DFT"
        },
        "width": 800,
        "xaxis": {
         "title": {
          "text": "Frequency (Hz)"
         }
        },
        "yaxis": {
         "title": {
          "text": "Magnitude"
         }
        }
       }
      },
      "text/html": [
       "<div>                            <div id=\"c2895414-6fe3-4c71-a85c-4b8b8c7ca2b6\" class=\"plotly-graph-div\" style=\"height:600px; width:800px;\"></div>            <script type=\"text/javascript\">                require([\"plotly\"], function(Plotly) {                    window.PLOTLYENV=window.PLOTLYENV || {};                                    if (document.getElementById(\"c2895414-6fe3-4c71-a85c-4b8b8c7ca2b6\")) {                    Plotly.newPlot(                        \"c2895414-6fe3-4c71-a85c-4b8b8c7ca2b6\",                        [{\"mode\":\"lines\",\"name\":\"sine1\",\"x\":[-10.0,-9.5,-9.0,-8.5,-8.0,-7.5,-7.0,-6.5,-6.0,-5.5,-5.0,-4.5,-4.0,-3.5,-3.0,-2.5,-2.0,-1.5,-1.0,-0.5,0.0,0.5,1.0,1.5,2.0,2.5,3.0,3.5,4.0,4.5,5.0,5.5,6.0,6.5,7.0,7.5,8.0,8.5,9.0,9.5],\"y\":[2.1691676853542536,2.248123547044422,2.5211691526126123,3.1479167224355837,4.765375622564519,13.188045035507661,12.33168157238598,3.8903893509511596,2.233656291825875,1.542363114066216,1.1708495661125418,0.9435692585260576,0.7933580586871387,0.6891239815123391,0.6146019228688493,0.5605420061575628,0.5213741456494665,0.49362440098236826,0.47510390311074335,0.46447319279196186,0.4610063144273291,0.46447319279196275,0.47510390311074246,0.49362440098236804,0.5213741456494659,0.5605420061575637,0.6146019228688484,0.6891239815123393,0.7933580586871387,0.9435692585260591,1.1708495661125413,1.5423631140662155,2.2336562918258753,3.890389350951159,12.331681572385978,13.18804503550766,4.765375622564519,3.1479167224355837,2.5211691526126128,2.248123547044421],\"type\":\"scatter\"}],                        {\"template\":{\"data\":{\"histogram2dcontour\":[{\"type\":\"histogram2dcontour\",\"colorbar\":{\"outlinewidth\":0,\"ticks\":\"\"},\"colorscale\":[[0.0,\"#0d0887\"],[0.1111111111111111,\"#46039f\"],[0.2222222222222222,\"#7201a8\"],[0.3333333333333333,\"#9c179e\"],[0.4444444444444444,\"#bd3786\"],[0.5555555555555556,\"#d8576b\"],[0.6666666666666666,\"#ed7953\"],[0.7777777777777778,\"#fb9f3a\"],[0.8888888888888888,\"#fdca26\"],[1.0,\"#f0f921\"]]}],\"choropleth\":[{\"type\":\"choropleth\",\"colorbar\":{\"outlinewidth\":0,\"ticks\":\"\"}}],\"histogram2d\":[{\"type\":\"histogram2d\",\"colorbar\":{\"outlinewidth\":0,\"ticks\":\"\"},\"colorscale\":[[0.0,\"#0d0887\"],[0.1111111111111111,\"#46039f\"],[0.2222222222222222,\"#7201a8\"],[0.3333333333333333,\"#9c179e\"],[0.4444444444444444,\"#bd3786\"],[0.5555555555555556,\"#d8576b\"],[0.6666666666666666,\"#ed7953\"],[0.7777777777777778,\"#fb9f3a\"],[0.8888888888888888,\"#fdca26\"],[1.0,\"#f0f921\"]]}],\"heatmap\":[{\"type\":\"heatmap\",\"colorbar\":{\"outlinewidth\":0,\"ticks\":\"\"},\"colorscale\":[[0.0,\"#0d0887\"],[0.1111111111111111,\"#46039f\"],[0.2222222222222222,\"#7201a8\"],[0.3333333333333333,\"#9c179e\"],[0.4444444444444444,\"#bd3786\"],[0.5555555555555556,\"#d8576b\"],[0.6666666666666666,\"#ed7953\"],[0.7777777777777778,\"#fb9f3a\"],[0.8888888888888888,\"#fdca26\"],[1.0,\"#f0f921\"]]}],\"heatmapgl\":[{\"type\":\"heatmapgl\",\"colorbar\":{\"outlinewidth\":0,\"ticks\":\"\"},\"colorscale\":[[0.0,\"#0d0887\"],[0.1111111111111111,\"#46039f\"],[0.2222222222222222,\"#7201a8\"],[0.3333333333333333,\"#9c179e\"],[0.4444444444444444,\"#bd3786\"],[0.5555555555555556,\"#d8576b\"],[0.6666666666666666,\"#ed7953\"],[0.7777777777777778,\"#fb9f3a\"],[0.8888888888888888,\"#fdca26\"],[1.0,\"#f0f921\"]]}],\"contourcarpet\":[{\"type\":\"contourcarpet\",\"colorbar\":{\"outlinewidth\":0,\"ticks\":\"\"}}],\"contour\":[{\"type\":\"contour\",\"colorbar\":{\"outlinewidth\":0,\"ticks\":\"\"},\"colorscale\":[[0.0,\"#0d0887\"],[0.1111111111111111,\"#46039f\"],[0.2222222222222222,\"#7201a8\"],[0.3333333333333333,\"#9c179e\"],[0.4444444444444444,\"#bd3786\"],[0.5555555555555556,\"#d8576b\"],[0.6666666666666666,\"#ed7953\"],[0.7777777777777778,\"#fb9f3a\"],[0.8888888888888888,\"#fdca26\"],[1.0,\"#f0f921\"]]}],\"surface\":[{\"type\":\"surface\",\"colorbar\":{\"outlinewidth\":0,\"ticks\":\"\"},\"colorscale\":[[0.0,\"#0d0887\"],[0.1111111111111111,\"#46039f\"],[0.2222222222222222,\"#7201a8\"],[0.3333333333333333,\"#9c179e\"],[0.4444444444444444,\"#bd3786\"],[0.5555555555555556,\"#d8576b\"],[0.6666666666666666,\"#ed7953\"],[0.7777777777777778,\"#fb9f3a\"],[0.8888888888888888,\"#fdca26\"],[1.0,\"#f0f921\"]]}],\"mesh3d\":[{\"type\":\"mesh3d\",\"colorbar\":{\"outlinewidth\":0,\"ticks\":\"\"}}],\"scatter\":[{\"fillpattern\":{\"fillmode\":\"overlay\",\"size\":10,\"solidity\":0.2},\"type\":\"scatter\"}],\"parcoords\":[{\"type\":\"parcoords\",\"line\":{\"colorbar\":{\"outlinewidth\":0,\"ticks\":\"\"}}}],\"scatterpolargl\":[{\"type\":\"scatterpolargl\",\"marker\":{\"colorbar\":{\"outlinewidth\":0,\"ticks\":\"\"}}}],\"bar\":[{\"error_x\":{\"color\":\"#2a3f5f\"},\"error_y\":{\"color\":\"#2a3f5f\"},\"marker\":{\"line\":{\"color\":\"#E5ECF6\",\"width\":0.5},\"pattern\":{\"fillmode\":\"overlay\",\"size\":10,\"solidity\":0.2}},\"type\":\"bar\"}],\"scattergeo\":[{\"type\":\"scattergeo\",\"marker\":{\"colorbar\":{\"outlinewidth\":0,\"ticks\":\"\"}}}],\"scatterpolar\":[{\"type\":\"scatterpolar\",\"marker\":{\"colorbar\":{\"outlinewidth\":0,\"ticks\":\"\"}}}],\"histogram\":[{\"marker\":{\"pattern\":{\"fillmode\":\"overlay\",\"size\":10,\"solidity\":0.2}},\"type\":\"histogram\"}],\"scattergl\":[{\"type\":\"scattergl\",\"marker\":{\"colorbar\":{\"outlinewidth\":0,\"ticks\":\"\"}}}],\"scatter3d\":[{\"type\":\"scatter3d\",\"line\":{\"colorbar\":{\"outlinewidth\":0,\"ticks\":\"\"}},\"marker\":{\"colorbar\":{\"outlinewidth\":0,\"ticks\":\"\"}}}],\"scattermapbox\":[{\"type\":\"scattermapbox\",\"marker\":{\"colorbar\":{\"outlinewidth\":0,\"ticks\":\"\"}}}],\"scatterternary\":[{\"type\":\"scatterternary\",\"marker\":{\"colorbar\":{\"outlinewidth\":0,\"ticks\":\"\"}}}],\"scattercarpet\":[{\"type\":\"scattercarpet\",\"marker\":{\"colorbar\":{\"outlinewidth\":0,\"ticks\":\"\"}}}],\"carpet\":[{\"aaxis\":{\"endlinecolor\":\"#2a3f5f\",\"gridcolor\":\"white\",\"linecolor\":\"white\",\"minorgridcolor\":\"white\",\"startlinecolor\":\"#2a3f5f\"},\"baxis\":{\"endlinecolor\":\"#2a3f5f\",\"gridcolor\":\"white\",\"linecolor\":\"white\",\"minorgridcolor\":\"white\",\"startlinecolor\":\"#2a3f5f\"},\"type\":\"carpet\"}],\"table\":[{\"cells\":{\"fill\":{\"color\":\"#EBF0F8\"},\"line\":{\"color\":\"white\"}},\"header\":{\"fill\":{\"color\":\"#C8D4E3\"},\"line\":{\"color\":\"white\"}},\"type\":\"table\"}],\"barpolar\":[{\"marker\":{\"line\":{\"color\":\"#E5ECF6\",\"width\":0.5},\"pattern\":{\"fillmode\":\"overlay\",\"size\":10,\"solidity\":0.2}},\"type\":\"barpolar\"}],\"pie\":[{\"automargin\":true,\"type\":\"pie\"}]},\"layout\":{\"autotypenumbers\":\"strict\",\"colorway\":[\"#636efa\",\"#EF553B\",\"#00cc96\",\"#ab63fa\",\"#FFA15A\",\"#19d3f3\",\"#FF6692\",\"#B6E880\",\"#FF97FF\",\"#FECB52\"],\"font\":{\"color\":\"#2a3f5f\"},\"hovermode\":\"closest\",\"hoverlabel\":{\"align\":\"left\"},\"paper_bgcolor\":\"white\",\"plot_bgcolor\":\"#E5ECF6\",\"polar\":{\"bgcolor\":\"#E5ECF6\",\"angularaxis\":{\"gridcolor\":\"white\",\"linecolor\":\"white\",\"ticks\":\"\"},\"radialaxis\":{\"gridcolor\":\"white\",\"linecolor\":\"white\",\"ticks\":\"\"}},\"ternary\":{\"bgcolor\":\"#E5ECF6\",\"aaxis\":{\"gridcolor\":\"white\",\"linecolor\":\"white\",\"ticks\":\"\"},\"baxis\":{\"gridcolor\":\"white\",\"linecolor\":\"white\",\"ticks\":\"\"},\"caxis\":{\"gridcolor\":\"white\",\"linecolor\":\"white\",\"ticks\":\"\"}},\"coloraxis\":{\"colorbar\":{\"outlinewidth\":0,\"ticks\":\"\"}},\"colorscale\":{\"sequential\":[[0.0,\"#0d0887\"],[0.1111111111111111,\"#46039f\"],[0.2222222222222222,\"#7201a8\"],[0.3333333333333333,\"#9c179e\"],[0.4444444444444444,\"#bd3786\"],[0.5555555555555556,\"#d8576b\"],[0.6666666666666666,\"#ed7953\"],[0.7777777777777778,\"#fb9f3a\"],[0.8888888888888888,\"#fdca26\"],[1.0,\"#f0f921\"]],\"sequentialminus\":[[0.0,\"#0d0887\"],[0.1111111111111111,\"#46039f\"],[0.2222222222222222,\"#7201a8\"],[0.3333333333333333,\"#9c179e\"],[0.4444444444444444,\"#bd3786\"],[0.5555555555555556,\"#d8576b\"],[0.6666666666666666,\"#ed7953\"],[0.7777777777777778,\"#fb9f3a\"],[0.8888888888888888,\"#fdca26\"],[1.0,\"#f0f921\"]],\"diverging\":[[0,\"#8e0152\"],[0.1,\"#c51b7d\"],[0.2,\"#de77ae\"],[0.3,\"#f1b6da\"],[0.4,\"#fde0ef\"],[0.5,\"#f7f7f7\"],[0.6,\"#e6f5d0\"],[0.7,\"#b8e186\"],[0.8,\"#7fbc41\"],[0.9,\"#4d9221\"],[1,\"#276419\"]]},\"xaxis\":{\"gridcolor\":\"white\",\"linecolor\":\"white\",\"ticks\":\"\",\"title\":{\"standoff\":15},\"zerolinecolor\":\"white\",\"automargin\":true,\"zerolinewidth\":2},\"yaxis\":{\"gridcolor\":\"white\",\"linecolor\":\"white\",\"ticks\":\"\",\"title\":{\"standoff\":15},\"zerolinecolor\":\"white\",\"automargin\":true,\"zerolinewidth\":2},\"scene\":{\"xaxis\":{\"backgroundcolor\":\"#E5ECF6\",\"gridcolor\":\"white\",\"linecolor\":\"white\",\"showbackground\":true,\"ticks\":\"\",\"zerolinecolor\":\"white\",\"gridwidth\":2},\"yaxis\":{\"backgroundcolor\":\"#E5ECF6\",\"gridcolor\":\"white\",\"linecolor\":\"white\",\"showbackground\":true,\"ticks\":\"\",\"zerolinecolor\":\"white\",\"gridwidth\":2},\"zaxis\":{\"backgroundcolor\":\"#E5ECF6\",\"gridcolor\":\"white\",\"linecolor\":\"white\",\"showbackground\":true,\"ticks\":\"\",\"zerolinecolor\":\"white\",\"gridwidth\":2}},\"shapedefaults\":{\"line\":{\"color\":\"#2a3f5f\"}},\"annotationdefaults\":{\"arrowcolor\":\"#2a3f5f\",\"arrowhead\":0,\"arrowwidth\":1},\"geo\":{\"bgcolor\":\"white\",\"landcolor\":\"#E5ECF6\",\"subunitcolor\":\"white\",\"showland\":true,\"showlakes\":true,\"lakecolor\":\"white\"},\"title\":{\"x\":0.05},\"mapbox\":{\"style\":\"light\"}}},\"shapes\":[{\"line\":{\"color\":\"Black\",\"dash\":\"dot\",\"width\":1},\"type\":\"line\",\"x0\":-10.0,\"x1\":-10.0,\"y0\":0,\"y1\":16.485056294384577},{\"line\":{\"color\":\"Black\",\"dash\":\"dot\",\"width\":1},\"type\":\"line\",\"x0\":-9.5,\"x1\":-9.5,\"y0\":0,\"y1\":16.485056294384577},{\"line\":{\"color\":\"Black\",\"dash\":\"dot\",\"width\":1},\"type\":\"line\",\"x0\":-9.0,\"x1\":-9.0,\"y0\":0,\"y1\":16.485056294384577},{\"line\":{\"color\":\"Black\",\"dash\":\"dot\",\"width\":1},\"type\":\"line\",\"x0\":-8.5,\"x1\":-8.5,\"y0\":0,\"y1\":16.485056294384577},{\"line\":{\"color\":\"Black\",\"dash\":\"dot\",\"width\":1},\"type\":\"line\",\"x0\":-8.0,\"x1\":-8.0,\"y0\":0,\"y1\":16.485056294384577},{\"line\":{\"color\":\"Black\",\"dash\":\"dot\",\"width\":1},\"type\":\"line\",\"x0\":-7.5,\"x1\":-7.5,\"y0\":0,\"y1\":16.485056294384577},{\"line\":{\"color\":\"Black\",\"dash\":\"dot\",\"width\":1},\"type\":\"line\",\"x0\":-7.0,\"x1\":-7.0,\"y0\":0,\"y1\":16.485056294384577},{\"line\":{\"color\":\"Black\",\"dash\":\"dot\",\"width\":1},\"type\":\"line\",\"x0\":-6.5,\"x1\":-6.5,\"y0\":0,\"y1\":16.485056294384577},{\"line\":{\"color\":\"Black\",\"dash\":\"dot\",\"width\":1},\"type\":\"line\",\"x0\":-6.0,\"x1\":-6.0,\"y0\":0,\"y1\":16.485056294384577},{\"line\":{\"color\":\"Black\",\"dash\":\"dot\",\"width\":1},\"type\":\"line\",\"x0\":-5.5,\"x1\":-5.5,\"y0\":0,\"y1\":16.485056294384577},{\"line\":{\"color\":\"Black\",\"dash\":\"dot\",\"width\":1},\"type\":\"line\",\"x0\":-5.0,\"x1\":-5.0,\"y0\":0,\"y1\":16.485056294384577},{\"line\":{\"color\":\"Black\",\"dash\":\"dot\",\"width\":1},\"type\":\"line\",\"x0\":-4.5,\"x1\":-4.5,\"y0\":0,\"y1\":16.485056294384577},{\"line\":{\"color\":\"Black\",\"dash\":\"dot\",\"width\":1},\"type\":\"line\",\"x0\":-4.0,\"x1\":-4.0,\"y0\":0,\"y1\":16.485056294384577},{\"line\":{\"color\":\"Black\",\"dash\":\"dot\",\"width\":1},\"type\":\"line\",\"x0\":-3.5,\"x1\":-3.5,\"y0\":0,\"y1\":16.485056294384577},{\"line\":{\"color\":\"Black\",\"dash\":\"dot\",\"width\":1},\"type\":\"line\",\"x0\":-3.0,\"x1\":-3.0,\"y0\":0,\"y1\":16.485056294384577},{\"line\":{\"color\":\"Black\",\"dash\":\"dot\",\"width\":1},\"type\":\"line\",\"x0\":-2.5,\"x1\":-2.5,\"y0\":0,\"y1\":16.485056294384577},{\"line\":{\"color\":\"Black\",\"dash\":\"dot\",\"width\":1},\"type\":\"line\",\"x0\":-2.0,\"x1\":-2.0,\"y0\":0,\"y1\":16.485056294384577},{\"line\":{\"color\":\"Black\",\"dash\":\"dot\",\"width\":1},\"type\":\"line\",\"x0\":-1.5,\"x1\":-1.5,\"y0\":0,\"y1\":16.485056294384577},{\"line\":{\"color\":\"Black\",\"dash\":\"dot\",\"width\":1},\"type\":\"line\",\"x0\":-1.0,\"x1\":-1.0,\"y0\":0,\"y1\":16.485056294384577},{\"line\":{\"color\":\"Black\",\"dash\":\"dot\",\"width\":1},\"type\":\"line\",\"x0\":-0.5,\"x1\":-0.5,\"y0\":0,\"y1\":16.485056294384577},{\"line\":{\"color\":\"Black\",\"dash\":\"dot\",\"width\":1},\"type\":\"line\",\"x0\":0.0,\"x1\":0.0,\"y0\":0,\"y1\":16.485056294384577},{\"line\":{\"color\":\"Black\",\"dash\":\"dot\",\"width\":1},\"type\":\"line\",\"x0\":0.5,\"x1\":0.5,\"y0\":0,\"y1\":16.485056294384577},{\"line\":{\"color\":\"Black\",\"dash\":\"dot\",\"width\":1},\"type\":\"line\",\"x0\":1.0,\"x1\":1.0,\"y0\":0,\"y1\":16.485056294384577},{\"line\":{\"color\":\"Black\",\"dash\":\"dot\",\"width\":1},\"type\":\"line\",\"x0\":1.5,\"x1\":1.5,\"y0\":0,\"y1\":16.485056294384577},{\"line\":{\"color\":\"Black\",\"dash\":\"dot\",\"width\":1},\"type\":\"line\",\"x0\":2.0,\"x1\":2.0,\"y0\":0,\"y1\":16.485056294384577},{\"line\":{\"color\":\"Black\",\"dash\":\"dot\",\"width\":1},\"type\":\"line\",\"x0\":2.5,\"x1\":2.5,\"y0\":0,\"y1\":16.485056294384577},{\"line\":{\"color\":\"Black\",\"dash\":\"dot\",\"width\":1},\"type\":\"line\",\"x0\":3.0,\"x1\":3.0,\"y0\":0,\"y1\":16.485056294384577},{\"line\":{\"color\":\"Black\",\"dash\":\"dot\",\"width\":1},\"type\":\"line\",\"x0\":3.5,\"x1\":3.5,\"y0\":0,\"y1\":16.485056294384577},{\"line\":{\"color\":\"Black\",\"dash\":\"dot\",\"width\":1},\"type\":\"line\",\"x0\":4.0,\"x1\":4.0,\"y0\":0,\"y1\":16.485056294384577},{\"line\":{\"color\":\"Black\",\"dash\":\"dot\",\"width\":1},\"type\":\"line\",\"x0\":4.5,\"x1\":4.5,\"y0\":0,\"y1\":16.485056294384577},{\"line\":{\"color\":\"Black\",\"dash\":\"dot\",\"width\":1},\"type\":\"line\",\"x0\":5.0,\"x1\":5.0,\"y0\":0,\"y1\":16.485056294384577},{\"line\":{\"color\":\"Black\",\"dash\":\"dot\",\"width\":1},\"type\":\"line\",\"x0\":5.5,\"x1\":5.5,\"y0\":0,\"y1\":16.485056294384577},{\"line\":{\"color\":\"Black\",\"dash\":\"dot\",\"width\":1},\"type\":\"line\",\"x0\":6.0,\"x1\":6.0,\"y0\":0,\"y1\":16.485056294384577},{\"line\":{\"color\":\"Black\",\"dash\":\"dot\",\"width\":1},\"type\":\"line\",\"x0\":6.5,\"x1\":6.5,\"y0\":0,\"y1\":16.485056294384577},{\"line\":{\"color\":\"Black\",\"dash\":\"dot\",\"width\":1},\"type\":\"line\",\"x0\":7.0,\"x1\":7.0,\"y0\":0,\"y1\":16.485056294384577},{\"line\":{\"color\":\"Black\",\"dash\":\"dot\",\"width\":1},\"type\":\"line\",\"x0\":7.5,\"x1\":7.5,\"y0\":0,\"y1\":16.485056294384577},{\"line\":{\"color\":\"Black\",\"dash\":\"dot\",\"width\":1},\"type\":\"line\",\"x0\":8.0,\"x1\":8.0,\"y0\":0,\"y1\":16.485056294384577},{\"line\":{\"color\":\"Black\",\"dash\":\"dot\",\"width\":1},\"type\":\"line\",\"x0\":8.5,\"x1\":8.5,\"y0\":0,\"y1\":16.485056294384577},{\"line\":{\"color\":\"Black\",\"dash\":\"dot\",\"width\":1},\"type\":\"line\",\"x0\":9.0,\"x1\":9.0,\"y0\":0,\"y1\":16.485056294384577},{\"line\":{\"color\":\"Black\",\"dash\":\"dot\",\"width\":1},\"type\":\"line\",\"x0\":9.5,\"x1\":9.5,\"y0\":0,\"y1\":16.485056294384577}],\"title\":{\"text\":\"Magnitude Spectrum of the DFT\"},\"xaxis\":{\"title\":{\"text\":\"Frequency (Hz)\"}},\"yaxis\":{\"title\":{\"text\":\"Magnitude\"}},\"autosize\":false,\"width\":800,\"height\":600},                        {\"responsive\": true}                    ).then(function(){\n",
       "                            \n",
       "var gd = document.getElementById('c2895414-6fe3-4c71-a85c-4b8b8c7ca2b6');\n",
       "var x = new MutationObserver(function (mutations, observer) {{\n",
       "        var display = window.getComputedStyle(gd).display;\n",
       "        if (!display || display === 'none') {{\n",
       "            console.log([gd, 'removed!']);\n",
       "            Plotly.purge(gd);\n",
       "            observer.disconnect();\n",
       "        }}\n",
       "}});\n",
       "\n",
       "// Listen for the removal of the full notebook cells\n",
       "var notebookContainer = gd.closest('#notebook-container');\n",
       "if (notebookContainer) {{\n",
       "    x.observe(notebookContainer, {childList: true});\n",
       "}}\n",
       "\n",
       "// Listen for the clearing of the current output cell\n",
       "var outputEl = gd.closest('.output');\n",
       "if (outputEl) {{\n",
       "    x.observe(outputEl, {childList: true});\n",
       "}}\n",
       "\n",
       "                        })                };                });            </script>        </div>"
      ]
     },
     "metadata": {},
     "output_type": "display_data"
    },
    {
     "data": {
      "application/vnd.plotly.v1+json": {
       "config": {
        "plotlyServerURL": "https://plot.ly"
       },
       "data": [
        {
         "mode": "lines",
         "name": "sine1",
         "type": "scatter",
         "x": [
          -10,
          -9.5,
          -9,
          -8.5,
          -8,
          -7.5,
          -7,
          -6.5,
          -6,
          -5.5,
          -5,
          -4.5,
          -4,
          -3.5,
          -3,
          -2.5,
          -2,
          -1.5,
          -1,
          -0.5,
          0,
          0.5,
          1,
          1.5,
          2,
          2.5,
          3,
          3.5,
          4,
          4.5,
          5,
          5.5,
          6,
          6.5,
          7,
          7.5,
          8,
          8.5,
          9,
          9.5
         ],
         "y": [
          3.141592653589793,
          3.141592653589787,
          -3.141592653589788,
          3.1415926535897922,
          3.1415926535897913,
          3.1415926535897913,
          -2.5000262785608195e-15,
          4.806359295259549e-16,
          -3.58591400060941e-15,
          -7.042738049966165e-15,
          -1.337368440862875e-14,
          1.5959312079548052e-14,
          1.6972757397170073e-14,
          -3.4253746324995667e-14,
          -1.5857806378492435e-14,
          2.8267697555001446e-14,
          1.2988911878255763e-14,
          -3.1319134959068637e-14,
          -3.611146774520758e-14,
          1.0354391733923191e-14,
          0,
          -8.605023821989935e-15,
          3.551936716118469e-14,
          3.1712663750133096e-14,
          -1.288297349423636e-14,
          -2.871904991994425e-14,
          1.6257689489459393e-14,
          3.3510136828389805e-14,
          -1.6972757397170073e-14,
          -1.5026917673454653e-14,
          1.3715570256974857e-14,
          6.843619510411691e-15,
          3.556471779577999e-15,
          -4.579288204127033e-16,
          2.467471572531134e-15,
          -3.1415926535897913,
          -3.1415926535897913,
          -3.141592653589792,
          3.141592653589788,
          -3.141592653589787
         ]
        }
       ],
       "layout": {
        "autosize": false,
        "height": 600,
        "shapes": [
         {
          "line": {
           "color": "Black",
           "dash": "dot",
           "width": 1
          },
          "type": "line",
          "x0": -10,
          "x1": -10,
          "y0": -4.712388980384688,
          "y1": 4.71238898038469
         },
         {
          "line": {
           "color": "Black",
           "dash": "dot",
           "width": 1
          },
          "type": "line",
          "x0": -9.5,
          "x1": -9.5,
          "y0": -4.712388980384688,
          "y1": 4.71238898038469
         },
         {
          "line": {
           "color": "Black",
           "dash": "dot",
           "width": 1
          },
          "type": "line",
          "x0": -9,
          "x1": -9,
          "y0": -4.712388980384688,
          "y1": 4.71238898038469
         },
         {
          "line": {
           "color": "Black",
           "dash": "dot",
           "width": 1
          },
          "type": "line",
          "x0": -8.5,
          "x1": -8.5,
          "y0": -4.712388980384688,
          "y1": 4.71238898038469
         },
         {
          "line": {
           "color": "Black",
           "dash": "dot",
           "width": 1
          },
          "type": "line",
          "x0": -8,
          "x1": -8,
          "y0": -4.712388980384688,
          "y1": 4.71238898038469
         },
         {
          "line": {
           "color": "Black",
           "dash": "dot",
           "width": 1
          },
          "type": "line",
          "x0": -7.5,
          "x1": -7.5,
          "y0": -4.712388980384688,
          "y1": 4.71238898038469
         },
         {
          "line": {
           "color": "Black",
           "dash": "dot",
           "width": 1
          },
          "type": "line",
          "x0": -7,
          "x1": -7,
          "y0": -4.712388980384688,
          "y1": 4.71238898038469
         },
         {
          "line": {
           "color": "Black",
           "dash": "dot",
           "width": 1
          },
          "type": "line",
          "x0": -6.5,
          "x1": -6.5,
          "y0": -4.712388980384688,
          "y1": 4.71238898038469
         },
         {
          "line": {
           "color": "Black",
           "dash": "dot",
           "width": 1
          },
          "type": "line",
          "x0": -6,
          "x1": -6,
          "y0": -4.712388980384688,
          "y1": 4.71238898038469
         },
         {
          "line": {
           "color": "Black",
           "dash": "dot",
           "width": 1
          },
          "type": "line",
          "x0": -5.5,
          "x1": -5.5,
          "y0": -4.712388980384688,
          "y1": 4.71238898038469
         },
         {
          "line": {
           "color": "Black",
           "dash": "dot",
           "width": 1
          },
          "type": "line",
          "x0": -5,
          "x1": -5,
          "y0": -4.712388980384688,
          "y1": 4.71238898038469
         },
         {
          "line": {
           "color": "Black",
           "dash": "dot",
           "width": 1
          },
          "type": "line",
          "x0": -4.5,
          "x1": -4.5,
          "y0": -4.712388980384688,
          "y1": 4.71238898038469
         },
         {
          "line": {
           "color": "Black",
           "dash": "dot",
           "width": 1
          },
          "type": "line",
          "x0": -4,
          "x1": -4,
          "y0": -4.712388980384688,
          "y1": 4.71238898038469
         },
         {
          "line": {
           "color": "Black",
           "dash": "dot",
           "width": 1
          },
          "type": "line",
          "x0": -3.5,
          "x1": -3.5,
          "y0": -4.712388980384688,
          "y1": 4.71238898038469
         },
         {
          "line": {
           "color": "Black",
           "dash": "dot",
           "width": 1
          },
          "type": "line",
          "x0": -3,
          "x1": -3,
          "y0": -4.712388980384688,
          "y1": 4.71238898038469
         },
         {
          "line": {
           "color": "Black",
           "dash": "dot",
           "width": 1
          },
          "type": "line",
          "x0": -2.5,
          "x1": -2.5,
          "y0": -4.712388980384688,
          "y1": 4.71238898038469
         },
         {
          "line": {
           "color": "Black",
           "dash": "dot",
           "width": 1
          },
          "type": "line",
          "x0": -2,
          "x1": -2,
          "y0": -4.712388980384688,
          "y1": 4.71238898038469
         },
         {
          "line": {
           "color": "Black",
           "dash": "dot",
           "width": 1
          },
          "type": "line",
          "x0": -1.5,
          "x1": -1.5,
          "y0": -4.712388980384688,
          "y1": 4.71238898038469
         },
         {
          "line": {
           "color": "Black",
           "dash": "dot",
           "width": 1
          },
          "type": "line",
          "x0": -1,
          "x1": -1,
          "y0": -4.712388980384688,
          "y1": 4.71238898038469
         },
         {
          "line": {
           "color": "Black",
           "dash": "dot",
           "width": 1
          },
          "type": "line",
          "x0": -0.5,
          "x1": -0.5,
          "y0": -4.712388980384688,
          "y1": 4.71238898038469
         },
         {
          "line": {
           "color": "Black",
           "dash": "dot",
           "width": 1
          },
          "type": "line",
          "x0": 0,
          "x1": 0,
          "y0": -4.712388980384688,
          "y1": 4.71238898038469
         },
         {
          "line": {
           "color": "Black",
           "dash": "dot",
           "width": 1
          },
          "type": "line",
          "x0": 0.5,
          "x1": 0.5,
          "y0": -4.712388980384688,
          "y1": 4.71238898038469
         },
         {
          "line": {
           "color": "Black",
           "dash": "dot",
           "width": 1
          },
          "type": "line",
          "x0": 1,
          "x1": 1,
          "y0": -4.712388980384688,
          "y1": 4.71238898038469
         },
         {
          "line": {
           "color": "Black",
           "dash": "dot",
           "width": 1
          },
          "type": "line",
          "x0": 1.5,
          "x1": 1.5,
          "y0": -4.712388980384688,
          "y1": 4.71238898038469
         },
         {
          "line": {
           "color": "Black",
           "dash": "dot",
           "width": 1
          },
          "type": "line",
          "x0": 2,
          "x1": 2,
          "y0": -4.712388980384688,
          "y1": 4.71238898038469
         },
         {
          "line": {
           "color": "Black",
           "dash": "dot",
           "width": 1
          },
          "type": "line",
          "x0": 2.5,
          "x1": 2.5,
          "y0": -4.712388980384688,
          "y1": 4.71238898038469
         },
         {
          "line": {
           "color": "Black",
           "dash": "dot",
           "width": 1
          },
          "type": "line",
          "x0": 3,
          "x1": 3,
          "y0": -4.712388980384688,
          "y1": 4.71238898038469
         },
         {
          "line": {
           "color": "Black",
           "dash": "dot",
           "width": 1
          },
          "type": "line",
          "x0": 3.5,
          "x1": 3.5,
          "y0": -4.712388980384688,
          "y1": 4.71238898038469
         },
         {
          "line": {
           "color": "Black",
           "dash": "dot",
           "width": 1
          },
          "type": "line",
          "x0": 4,
          "x1": 4,
          "y0": -4.712388980384688,
          "y1": 4.71238898038469
         },
         {
          "line": {
           "color": "Black",
           "dash": "dot",
           "width": 1
          },
          "type": "line",
          "x0": 4.5,
          "x1": 4.5,
          "y0": -4.712388980384688,
          "y1": 4.71238898038469
         },
         {
          "line": {
           "color": "Black",
           "dash": "dot",
           "width": 1
          },
          "type": "line",
          "x0": 5,
          "x1": 5,
          "y0": -4.712388980384688,
          "y1": 4.71238898038469
         },
         {
          "line": {
           "color": "Black",
           "dash": "dot",
           "width": 1
          },
          "type": "line",
          "x0": 5.5,
          "x1": 5.5,
          "y0": -4.712388980384688,
          "y1": 4.71238898038469
         },
         {
          "line": {
           "color": "Black",
           "dash": "dot",
           "width": 1
          },
          "type": "line",
          "x0": 6,
          "x1": 6,
          "y0": -4.712388980384688,
          "y1": 4.71238898038469
         },
         {
          "line": {
           "color": "Black",
           "dash": "dot",
           "width": 1
          },
          "type": "line",
          "x0": 6.5,
          "x1": 6.5,
          "y0": -4.712388980384688,
          "y1": 4.71238898038469
         },
         {
          "line": {
           "color": "Black",
           "dash": "dot",
           "width": 1
          },
          "type": "line",
          "x0": 7,
          "x1": 7,
          "y0": -4.712388980384688,
          "y1": 4.71238898038469
         },
         {
          "line": {
           "color": "Black",
           "dash": "dot",
           "width": 1
          },
          "type": "line",
          "x0": 7.5,
          "x1": 7.5,
          "y0": -4.712388980384688,
          "y1": 4.71238898038469
         },
         {
          "line": {
           "color": "Black",
           "dash": "dot",
           "width": 1
          },
          "type": "line",
          "x0": 8,
          "x1": 8,
          "y0": -4.712388980384688,
          "y1": 4.71238898038469
         },
         {
          "line": {
           "color": "Black",
           "dash": "dot",
           "width": 1
          },
          "type": "line",
          "x0": 8.5,
          "x1": 8.5,
          "y0": -4.712388980384688,
          "y1": 4.71238898038469
         },
         {
          "line": {
           "color": "Black",
           "dash": "dot",
           "width": 1
          },
          "type": "line",
          "x0": 9,
          "x1": 9,
          "y0": -4.712388980384688,
          "y1": 4.71238898038469
         },
         {
          "line": {
           "color": "Black",
           "dash": "dot",
           "width": 1
          },
          "type": "line",
          "x0": 9.5,
          "x1": 9.5,
          "y0": -4.712388980384688,
          "y1": 4.71238898038469
         }
        ],
        "template": {
         "data": {
          "bar": [
           {
            "error_x": {
             "color": "#2a3f5f"
            },
            "error_y": {
             "color": "#2a3f5f"
            },
            "marker": {
             "line": {
              "color": "#E5ECF6",
              "width": 0.5
             },
             "pattern": {
              "fillmode": "overlay",
              "size": 10,
              "solidity": 0.2
             }
            },
            "type": "bar"
           }
          ],
          "barpolar": [
           {
            "marker": {
             "line": {
              "color": "#E5ECF6",
              "width": 0.5
             },
             "pattern": {
              "fillmode": "overlay",
              "size": 10,
              "solidity": 0.2
             }
            },
            "type": "barpolar"
           }
          ],
          "carpet": [
           {
            "aaxis": {
             "endlinecolor": "#2a3f5f",
             "gridcolor": "white",
             "linecolor": "white",
             "minorgridcolor": "white",
             "startlinecolor": "#2a3f5f"
            },
            "baxis": {
             "endlinecolor": "#2a3f5f",
             "gridcolor": "white",
             "linecolor": "white",
             "minorgridcolor": "white",
             "startlinecolor": "#2a3f5f"
            },
            "type": "carpet"
           }
          ],
          "choropleth": [
           {
            "colorbar": {
             "outlinewidth": 0,
             "ticks": ""
            },
            "type": "choropleth"
           }
          ],
          "contour": [
           {
            "colorbar": {
             "outlinewidth": 0,
             "ticks": ""
            },
            "colorscale": [
             [
              0,
              "#0d0887"
             ],
             [
              0.1111111111111111,
              "#46039f"
             ],
             [
              0.2222222222222222,
              "#7201a8"
             ],
             [
              0.3333333333333333,
              "#9c179e"
             ],
             [
              0.4444444444444444,
              "#bd3786"
             ],
             [
              0.5555555555555556,
              "#d8576b"
             ],
             [
              0.6666666666666666,
              "#ed7953"
             ],
             [
              0.7777777777777778,
              "#fb9f3a"
             ],
             [
              0.8888888888888888,
              "#fdca26"
             ],
             [
              1,
              "#f0f921"
             ]
            ],
            "type": "contour"
           }
          ],
          "contourcarpet": [
           {
            "colorbar": {
             "outlinewidth": 0,
             "ticks": ""
            },
            "type": "contourcarpet"
           }
          ],
          "heatmap": [
           {
            "colorbar": {
             "outlinewidth": 0,
             "ticks": ""
            },
            "colorscale": [
             [
              0,
              "#0d0887"
             ],
             [
              0.1111111111111111,
              "#46039f"
             ],
             [
              0.2222222222222222,
              "#7201a8"
             ],
             [
              0.3333333333333333,
              "#9c179e"
             ],
             [
              0.4444444444444444,
              "#bd3786"
             ],
             [
              0.5555555555555556,
              "#d8576b"
             ],
             [
              0.6666666666666666,
              "#ed7953"
             ],
             [
              0.7777777777777778,
              "#fb9f3a"
             ],
             [
              0.8888888888888888,
              "#fdca26"
             ],
             [
              1,
              "#f0f921"
             ]
            ],
            "type": "heatmap"
           }
          ],
          "heatmapgl": [
           {
            "colorbar": {
             "outlinewidth": 0,
             "ticks": ""
            },
            "colorscale": [
             [
              0,
              "#0d0887"
             ],
             [
              0.1111111111111111,
              "#46039f"
             ],
             [
              0.2222222222222222,
              "#7201a8"
             ],
             [
              0.3333333333333333,
              "#9c179e"
             ],
             [
              0.4444444444444444,
              "#bd3786"
             ],
             [
              0.5555555555555556,
              "#d8576b"
             ],
             [
              0.6666666666666666,
              "#ed7953"
             ],
             [
              0.7777777777777778,
              "#fb9f3a"
             ],
             [
              0.8888888888888888,
              "#fdca26"
             ],
             [
              1,
              "#f0f921"
             ]
            ],
            "type": "heatmapgl"
           }
          ],
          "histogram": [
           {
            "marker": {
             "pattern": {
              "fillmode": "overlay",
              "size": 10,
              "solidity": 0.2
             }
            },
            "type": "histogram"
           }
          ],
          "histogram2d": [
           {
            "colorbar": {
             "outlinewidth": 0,
             "ticks": ""
            },
            "colorscale": [
             [
              0,
              "#0d0887"
             ],
             [
              0.1111111111111111,
              "#46039f"
             ],
             [
              0.2222222222222222,
              "#7201a8"
             ],
             [
              0.3333333333333333,
              "#9c179e"
             ],
             [
              0.4444444444444444,
              "#bd3786"
             ],
             [
              0.5555555555555556,
              "#d8576b"
             ],
             [
              0.6666666666666666,
              "#ed7953"
             ],
             [
              0.7777777777777778,
              "#fb9f3a"
             ],
             [
              0.8888888888888888,
              "#fdca26"
             ],
             [
              1,
              "#f0f921"
             ]
            ],
            "type": "histogram2d"
           }
          ],
          "histogram2dcontour": [
           {
            "colorbar": {
             "outlinewidth": 0,
             "ticks": ""
            },
            "colorscale": [
             [
              0,
              "#0d0887"
             ],
             [
              0.1111111111111111,
              "#46039f"
             ],
             [
              0.2222222222222222,
              "#7201a8"
             ],
             [
              0.3333333333333333,
              "#9c179e"
             ],
             [
              0.4444444444444444,
              "#bd3786"
             ],
             [
              0.5555555555555556,
              "#d8576b"
             ],
             [
              0.6666666666666666,
              "#ed7953"
             ],
             [
              0.7777777777777778,
              "#fb9f3a"
             ],
             [
              0.8888888888888888,
              "#fdca26"
             ],
             [
              1,
              "#f0f921"
             ]
            ],
            "type": "histogram2dcontour"
           }
          ],
          "mesh3d": [
           {
            "colorbar": {
             "outlinewidth": 0,
             "ticks": ""
            },
            "type": "mesh3d"
           }
          ],
          "parcoords": [
           {
            "line": {
             "colorbar": {
              "outlinewidth": 0,
              "ticks": ""
             }
            },
            "type": "parcoords"
           }
          ],
          "pie": [
           {
            "automargin": true,
            "type": "pie"
           }
          ],
          "scatter": [
           {
            "fillpattern": {
             "fillmode": "overlay",
             "size": 10,
             "solidity": 0.2
            },
            "type": "scatter"
           }
          ],
          "scatter3d": [
           {
            "line": {
             "colorbar": {
              "outlinewidth": 0,
              "ticks": ""
             }
            },
            "marker": {
             "colorbar": {
              "outlinewidth": 0,
              "ticks": ""
             }
            },
            "type": "scatter3d"
           }
          ],
          "scattercarpet": [
           {
            "marker": {
             "colorbar": {
              "outlinewidth": 0,
              "ticks": ""
             }
            },
            "type": "scattercarpet"
           }
          ],
          "scattergeo": [
           {
            "marker": {
             "colorbar": {
              "outlinewidth": 0,
              "ticks": ""
             }
            },
            "type": "scattergeo"
           }
          ],
          "scattergl": [
           {
            "marker": {
             "colorbar": {
              "outlinewidth": 0,
              "ticks": ""
             }
            },
            "type": "scattergl"
           }
          ],
          "scattermapbox": [
           {
            "marker": {
             "colorbar": {
              "outlinewidth": 0,
              "ticks": ""
             }
            },
            "type": "scattermapbox"
           }
          ],
          "scatterpolar": [
           {
            "marker": {
             "colorbar": {
              "outlinewidth": 0,
              "ticks": ""
             }
            },
            "type": "scatterpolar"
           }
          ],
          "scatterpolargl": [
           {
            "marker": {
             "colorbar": {
              "outlinewidth": 0,
              "ticks": ""
             }
            },
            "type": "scatterpolargl"
           }
          ],
          "scatterternary": [
           {
            "marker": {
             "colorbar": {
              "outlinewidth": 0,
              "ticks": ""
             }
            },
            "type": "scatterternary"
           }
          ],
          "surface": [
           {
            "colorbar": {
             "outlinewidth": 0,
             "ticks": ""
            },
            "colorscale": [
             [
              0,
              "#0d0887"
             ],
             [
              0.1111111111111111,
              "#46039f"
             ],
             [
              0.2222222222222222,
              "#7201a8"
             ],
             [
              0.3333333333333333,
              "#9c179e"
             ],
             [
              0.4444444444444444,
              "#bd3786"
             ],
             [
              0.5555555555555556,
              "#d8576b"
             ],
             [
              0.6666666666666666,
              "#ed7953"
             ],
             [
              0.7777777777777778,
              "#fb9f3a"
             ],
             [
              0.8888888888888888,
              "#fdca26"
             ],
             [
              1,
              "#f0f921"
             ]
            ],
            "type": "surface"
           }
          ],
          "table": [
           {
            "cells": {
             "fill": {
              "color": "#EBF0F8"
             },
             "line": {
              "color": "white"
             }
            },
            "header": {
             "fill": {
              "color": "#C8D4E3"
             },
             "line": {
              "color": "white"
             }
            },
            "type": "table"
           }
          ]
         },
         "layout": {
          "annotationdefaults": {
           "arrowcolor": "#2a3f5f",
           "arrowhead": 0,
           "arrowwidth": 1
          },
          "autotypenumbers": "strict",
          "coloraxis": {
           "colorbar": {
            "outlinewidth": 0,
            "ticks": ""
           }
          },
          "colorscale": {
           "diverging": [
            [
             0,
             "#8e0152"
            ],
            [
             0.1,
             "#c51b7d"
            ],
            [
             0.2,
             "#de77ae"
            ],
            [
             0.3,
             "#f1b6da"
            ],
            [
             0.4,
             "#fde0ef"
            ],
            [
             0.5,
             "#f7f7f7"
            ],
            [
             0.6,
             "#e6f5d0"
            ],
            [
             0.7,
             "#b8e186"
            ],
            [
             0.8,
             "#7fbc41"
            ],
            [
             0.9,
             "#4d9221"
            ],
            [
             1,
             "#276419"
            ]
           ],
           "sequential": [
            [
             0,
             "#0d0887"
            ],
            [
             0.1111111111111111,
             "#46039f"
            ],
            [
             0.2222222222222222,
             "#7201a8"
            ],
            [
             0.3333333333333333,
             "#9c179e"
            ],
            [
             0.4444444444444444,
             "#bd3786"
            ],
            [
             0.5555555555555556,
             "#d8576b"
            ],
            [
             0.6666666666666666,
             "#ed7953"
            ],
            [
             0.7777777777777778,
             "#fb9f3a"
            ],
            [
             0.8888888888888888,
             "#fdca26"
            ],
            [
             1,
             "#f0f921"
            ]
           ],
           "sequentialminus": [
            [
             0,
             "#0d0887"
            ],
            [
             0.1111111111111111,
             "#46039f"
            ],
            [
             0.2222222222222222,
             "#7201a8"
            ],
            [
             0.3333333333333333,
             "#9c179e"
            ],
            [
             0.4444444444444444,
             "#bd3786"
            ],
            [
             0.5555555555555556,
             "#d8576b"
            ],
            [
             0.6666666666666666,
             "#ed7953"
            ],
            [
             0.7777777777777778,
             "#fb9f3a"
            ],
            [
             0.8888888888888888,
             "#fdca26"
            ],
            [
             1,
             "#f0f921"
            ]
           ]
          },
          "colorway": [
           "#636efa",
           "#EF553B",
           "#00cc96",
           "#ab63fa",
           "#FFA15A",
           "#19d3f3",
           "#FF6692",
           "#B6E880",
           "#FF97FF",
           "#FECB52"
          ],
          "font": {
           "color": "#2a3f5f"
          },
          "geo": {
           "bgcolor": "white",
           "lakecolor": "white",
           "landcolor": "#E5ECF6",
           "showlakes": true,
           "showland": true,
           "subunitcolor": "white"
          },
          "hoverlabel": {
           "align": "left"
          },
          "hovermode": "closest",
          "mapbox": {
           "style": "light"
          },
          "paper_bgcolor": "white",
          "plot_bgcolor": "#E5ECF6",
          "polar": {
           "angularaxis": {
            "gridcolor": "white",
            "linecolor": "white",
            "ticks": ""
           },
           "bgcolor": "#E5ECF6",
           "radialaxis": {
            "gridcolor": "white",
            "linecolor": "white",
            "ticks": ""
           }
          },
          "scene": {
           "xaxis": {
            "backgroundcolor": "#E5ECF6",
            "gridcolor": "white",
            "gridwidth": 2,
            "linecolor": "white",
            "showbackground": true,
            "ticks": "",
            "zerolinecolor": "white"
           },
           "yaxis": {
            "backgroundcolor": "#E5ECF6",
            "gridcolor": "white",
            "gridwidth": 2,
            "linecolor": "white",
            "showbackground": true,
            "ticks": "",
            "zerolinecolor": "white"
           },
           "zaxis": {
            "backgroundcolor": "#E5ECF6",
            "gridcolor": "white",
            "gridwidth": 2,
            "linecolor": "white",
            "showbackground": true,
            "ticks": "",
            "zerolinecolor": "white"
           }
          },
          "shapedefaults": {
           "line": {
            "color": "#2a3f5f"
           }
          },
          "ternary": {
           "aaxis": {
            "gridcolor": "white",
            "linecolor": "white",
            "ticks": ""
           },
           "baxis": {
            "gridcolor": "white",
            "linecolor": "white",
            "ticks": ""
           },
           "bgcolor": "#E5ECF6",
           "caxis": {
            "gridcolor": "white",
            "linecolor": "white",
            "ticks": ""
           }
          },
          "title": {
           "x": 0.05
          },
          "xaxis": {
           "automargin": true,
           "gridcolor": "white",
           "linecolor": "white",
           "ticks": "",
           "title": {
            "standoff": 15
           },
           "zerolinecolor": "white",
           "zerolinewidth": 2
          },
          "yaxis": {
           "automargin": true,
           "gridcolor": "white",
           "linecolor": "white",
           "ticks": "",
           "title": {
            "standoff": 15
           },
           "zerolinecolor": "white",
           "zerolinewidth": 2
          }
         }
        },
        "title": {
         "text": "Phase Spectrum of the DFT"
        },
        "width": 800,
        "xaxis": {
         "title": {
          "text": "Frequency (Hz)"
         }
        },
        "yaxis": {
         "title": {
          "text": "Phase (radians)"
         }
        }
       }
      },
      "text/html": [
       "<div>                            <div id=\"91ee479c-e0d9-40e8-a86a-19ed1ccee645\" class=\"plotly-graph-div\" style=\"height:600px; width:800px;\"></div>            <script type=\"text/javascript\">                require([\"plotly\"], function(Plotly) {                    window.PLOTLYENV=window.PLOTLYENV || {};                                    if (document.getElementById(\"91ee479c-e0d9-40e8-a86a-19ed1ccee645\")) {                    Plotly.newPlot(                        \"91ee479c-e0d9-40e8-a86a-19ed1ccee645\",                        [{\"mode\":\"lines\",\"name\":\"sine1\",\"x\":[-10.0,-9.5,-9.0,-8.5,-8.0,-7.5,-7.0,-6.5,-6.0,-5.5,-5.0,-4.5,-4.0,-3.5,-3.0,-2.5,-2.0,-1.5,-1.0,-0.5,0.0,0.5,1.0,1.5,2.0,2.5,3.0,3.5,4.0,4.5,5.0,5.5,6.0,6.5,7.0,7.5,8.0,8.5,9.0,9.5],\"y\":[3.141592653589793,3.141592653589787,-3.141592653589788,3.1415926535897922,3.1415926535897913,3.1415926535897913,-2.5000262785608195e-15,4.806359295259549e-16,-3.58591400060941e-15,-7.042738049966165e-15,-1.337368440862875e-14,1.5959312079548052e-14,1.6972757397170073e-14,-3.4253746324995667e-14,-1.5857806378492435e-14,2.8267697555001446e-14,1.2988911878255763e-14,-3.1319134959068637e-14,-3.611146774520758e-14,1.0354391733923191e-14,0.0,-8.605023821989935e-15,3.551936716118469e-14,3.1712663750133096e-14,-1.288297349423636e-14,-2.871904991994425e-14,1.6257689489459393e-14,3.3510136828389805e-14,-1.6972757397170073e-14,-1.5026917673454653e-14,1.3715570256974857e-14,6.843619510411691e-15,3.556471779577999e-15,-4.579288204127033e-16,2.467471572531134e-15,-3.1415926535897913,-3.1415926535897913,-3.141592653589792,3.141592653589788,-3.141592653589787],\"type\":\"scatter\"}],                        {\"template\":{\"data\":{\"histogram2dcontour\":[{\"type\":\"histogram2dcontour\",\"colorbar\":{\"outlinewidth\":0,\"ticks\":\"\"},\"colorscale\":[[0.0,\"#0d0887\"],[0.1111111111111111,\"#46039f\"],[0.2222222222222222,\"#7201a8\"],[0.3333333333333333,\"#9c179e\"],[0.4444444444444444,\"#bd3786\"],[0.5555555555555556,\"#d8576b\"],[0.6666666666666666,\"#ed7953\"],[0.7777777777777778,\"#fb9f3a\"],[0.8888888888888888,\"#fdca26\"],[1.0,\"#f0f921\"]]}],\"choropleth\":[{\"type\":\"choropleth\",\"colorbar\":{\"outlinewidth\":0,\"ticks\":\"\"}}],\"histogram2d\":[{\"type\":\"histogram2d\",\"colorbar\":{\"outlinewidth\":0,\"ticks\":\"\"},\"colorscale\":[[0.0,\"#0d0887\"],[0.1111111111111111,\"#46039f\"],[0.2222222222222222,\"#7201a8\"],[0.3333333333333333,\"#9c179e\"],[0.4444444444444444,\"#bd3786\"],[0.5555555555555556,\"#d8576b\"],[0.6666666666666666,\"#ed7953\"],[0.7777777777777778,\"#fb9f3a\"],[0.8888888888888888,\"#fdca26\"],[1.0,\"#f0f921\"]]}],\"heatmap\":[{\"type\":\"heatmap\",\"colorbar\":{\"outlinewidth\":0,\"ticks\":\"\"},\"colorscale\":[[0.0,\"#0d0887\"],[0.1111111111111111,\"#46039f\"],[0.2222222222222222,\"#7201a8\"],[0.3333333333333333,\"#9c179e\"],[0.4444444444444444,\"#bd3786\"],[0.5555555555555556,\"#d8576b\"],[0.6666666666666666,\"#ed7953\"],[0.7777777777777778,\"#fb9f3a\"],[0.8888888888888888,\"#fdca26\"],[1.0,\"#f0f921\"]]}],\"heatmapgl\":[{\"type\":\"heatmapgl\",\"colorbar\":{\"outlinewidth\":0,\"ticks\":\"\"},\"colorscale\":[[0.0,\"#0d0887\"],[0.1111111111111111,\"#46039f\"],[0.2222222222222222,\"#7201a8\"],[0.3333333333333333,\"#9c179e\"],[0.4444444444444444,\"#bd3786\"],[0.5555555555555556,\"#d8576b\"],[0.6666666666666666,\"#ed7953\"],[0.7777777777777778,\"#fb9f3a\"],[0.8888888888888888,\"#fdca26\"],[1.0,\"#f0f921\"]]}],\"contourcarpet\":[{\"type\":\"contourcarpet\",\"colorbar\":{\"outlinewidth\":0,\"ticks\":\"\"}}],\"contour\":[{\"type\":\"contour\",\"colorbar\":{\"outlinewidth\":0,\"ticks\":\"\"},\"colorscale\":[[0.0,\"#0d0887\"],[0.1111111111111111,\"#46039f\"],[0.2222222222222222,\"#7201a8\"],[0.3333333333333333,\"#9c179e\"],[0.4444444444444444,\"#bd3786\"],[0.5555555555555556,\"#d8576b\"],[0.6666666666666666,\"#ed7953\"],[0.7777777777777778,\"#fb9f3a\"],[0.8888888888888888,\"#fdca26\"],[1.0,\"#f0f921\"]]}],\"surface\":[{\"type\":\"surface\",\"colorbar\":{\"outlinewidth\":0,\"ticks\":\"\"},\"colorscale\":[[0.0,\"#0d0887\"],[0.1111111111111111,\"#46039f\"],[0.2222222222222222,\"#7201a8\"],[0.3333333333333333,\"#9c179e\"],[0.4444444444444444,\"#bd3786\"],[0.5555555555555556,\"#d8576b\"],[0.6666666666666666,\"#ed7953\"],[0.7777777777777778,\"#fb9f3a\"],[0.8888888888888888,\"#fdca26\"],[1.0,\"#f0f921\"]]}],\"mesh3d\":[{\"type\":\"mesh3d\",\"colorbar\":{\"outlinewidth\":0,\"ticks\":\"\"}}],\"scatter\":[{\"fillpattern\":{\"fillmode\":\"overlay\",\"size\":10,\"solidity\":0.2},\"type\":\"scatter\"}],\"parcoords\":[{\"type\":\"parcoords\",\"line\":{\"colorbar\":{\"outlinewidth\":0,\"ticks\":\"\"}}}],\"scatterpolargl\":[{\"type\":\"scatterpolargl\",\"marker\":{\"colorbar\":{\"outlinewidth\":0,\"ticks\":\"\"}}}],\"bar\":[{\"error_x\":{\"color\":\"#2a3f5f\"},\"error_y\":{\"color\":\"#2a3f5f\"},\"marker\":{\"line\":{\"color\":\"#E5ECF6\",\"width\":0.5},\"pattern\":{\"fillmode\":\"overlay\",\"size\":10,\"solidity\":0.2}},\"type\":\"bar\"}],\"scattergeo\":[{\"type\":\"scattergeo\",\"marker\":{\"colorbar\":{\"outlinewidth\":0,\"ticks\":\"\"}}}],\"scatterpolar\":[{\"type\":\"scatterpolar\",\"marker\":{\"colorbar\":{\"outlinewidth\":0,\"ticks\":\"\"}}}],\"histogram\":[{\"marker\":{\"pattern\":{\"fillmode\":\"overlay\",\"size\":10,\"solidity\":0.2}},\"type\":\"histogram\"}],\"scattergl\":[{\"type\":\"scattergl\",\"marker\":{\"colorbar\":{\"outlinewidth\":0,\"ticks\":\"\"}}}],\"scatter3d\":[{\"type\":\"scatter3d\",\"line\":{\"colorbar\":{\"outlinewidth\":0,\"ticks\":\"\"}},\"marker\":{\"colorbar\":{\"outlinewidth\":0,\"ticks\":\"\"}}}],\"scattermapbox\":[{\"type\":\"scattermapbox\",\"marker\":{\"colorbar\":{\"outlinewidth\":0,\"ticks\":\"\"}}}],\"scatterternary\":[{\"type\":\"scatterternary\",\"marker\":{\"colorbar\":{\"outlinewidth\":0,\"ticks\":\"\"}}}],\"scattercarpet\":[{\"type\":\"scattercarpet\",\"marker\":{\"colorbar\":{\"outlinewidth\":0,\"ticks\":\"\"}}}],\"carpet\":[{\"aaxis\":{\"endlinecolor\":\"#2a3f5f\",\"gridcolor\":\"white\",\"linecolor\":\"white\",\"minorgridcolor\":\"white\",\"startlinecolor\":\"#2a3f5f\"},\"baxis\":{\"endlinecolor\":\"#2a3f5f\",\"gridcolor\":\"white\",\"linecolor\":\"white\",\"minorgridcolor\":\"white\",\"startlinecolor\":\"#2a3f5f\"},\"type\":\"carpet\"}],\"table\":[{\"cells\":{\"fill\":{\"color\":\"#EBF0F8\"},\"line\":{\"color\":\"white\"}},\"header\":{\"fill\":{\"color\":\"#C8D4E3\"},\"line\":{\"color\":\"white\"}},\"type\":\"table\"}],\"barpolar\":[{\"marker\":{\"line\":{\"color\":\"#E5ECF6\",\"width\":0.5},\"pattern\":{\"fillmode\":\"overlay\",\"size\":10,\"solidity\":0.2}},\"type\":\"barpolar\"}],\"pie\":[{\"automargin\":true,\"type\":\"pie\"}]},\"layout\":{\"autotypenumbers\":\"strict\",\"colorway\":[\"#636efa\",\"#EF553B\",\"#00cc96\",\"#ab63fa\",\"#FFA15A\",\"#19d3f3\",\"#FF6692\",\"#B6E880\",\"#FF97FF\",\"#FECB52\"],\"font\":{\"color\":\"#2a3f5f\"},\"hovermode\":\"closest\",\"hoverlabel\":{\"align\":\"left\"},\"paper_bgcolor\":\"white\",\"plot_bgcolor\":\"#E5ECF6\",\"polar\":{\"bgcolor\":\"#E5ECF6\",\"angularaxis\":{\"gridcolor\":\"white\",\"linecolor\":\"white\",\"ticks\":\"\"},\"radialaxis\":{\"gridcolor\":\"white\",\"linecolor\":\"white\",\"ticks\":\"\"}},\"ternary\":{\"bgcolor\":\"#E5ECF6\",\"aaxis\":{\"gridcolor\":\"white\",\"linecolor\":\"white\",\"ticks\":\"\"},\"baxis\":{\"gridcolor\":\"white\",\"linecolor\":\"white\",\"ticks\":\"\"},\"caxis\":{\"gridcolor\":\"white\",\"linecolor\":\"white\",\"ticks\":\"\"}},\"coloraxis\":{\"colorbar\":{\"outlinewidth\":0,\"ticks\":\"\"}},\"colorscale\":{\"sequential\":[[0.0,\"#0d0887\"],[0.1111111111111111,\"#46039f\"],[0.2222222222222222,\"#7201a8\"],[0.3333333333333333,\"#9c179e\"],[0.4444444444444444,\"#bd3786\"],[0.5555555555555556,\"#d8576b\"],[0.6666666666666666,\"#ed7953\"],[0.7777777777777778,\"#fb9f3a\"],[0.8888888888888888,\"#fdca26\"],[1.0,\"#f0f921\"]],\"sequentialminus\":[[0.0,\"#0d0887\"],[0.1111111111111111,\"#46039f\"],[0.2222222222222222,\"#7201a8\"],[0.3333333333333333,\"#9c179e\"],[0.4444444444444444,\"#bd3786\"],[0.5555555555555556,\"#d8576b\"],[0.6666666666666666,\"#ed7953\"],[0.7777777777777778,\"#fb9f3a\"],[0.8888888888888888,\"#fdca26\"],[1.0,\"#f0f921\"]],\"diverging\":[[0,\"#8e0152\"],[0.1,\"#c51b7d\"],[0.2,\"#de77ae\"],[0.3,\"#f1b6da\"],[0.4,\"#fde0ef\"],[0.5,\"#f7f7f7\"],[0.6,\"#e6f5d0\"],[0.7,\"#b8e186\"],[0.8,\"#7fbc41\"],[0.9,\"#4d9221\"],[1,\"#276419\"]]},\"xaxis\":{\"gridcolor\":\"white\",\"linecolor\":\"white\",\"ticks\":\"\",\"title\":{\"standoff\":15},\"zerolinecolor\":\"white\",\"automargin\":true,\"zerolinewidth\":2},\"yaxis\":{\"gridcolor\":\"white\",\"linecolor\":\"white\",\"ticks\":\"\",\"title\":{\"standoff\":15},\"zerolinecolor\":\"white\",\"automargin\":true,\"zerolinewidth\":2},\"scene\":{\"xaxis\":{\"backgroundcolor\":\"#E5ECF6\",\"gridcolor\":\"white\",\"linecolor\":\"white\",\"showbackground\":true,\"ticks\":\"\",\"zerolinecolor\":\"white\",\"gridwidth\":2},\"yaxis\":{\"backgroundcolor\":\"#E5ECF6\",\"gridcolor\":\"white\",\"linecolor\":\"white\",\"showbackground\":true,\"ticks\":\"\",\"zerolinecolor\":\"white\",\"gridwidth\":2},\"zaxis\":{\"backgroundcolor\":\"#E5ECF6\",\"gridcolor\":\"white\",\"linecolor\":\"white\",\"showbackground\":true,\"ticks\":\"\",\"zerolinecolor\":\"white\",\"gridwidth\":2}},\"shapedefaults\":{\"line\":{\"color\":\"#2a3f5f\"}},\"annotationdefaults\":{\"arrowcolor\":\"#2a3f5f\",\"arrowhead\":0,\"arrowwidth\":1},\"geo\":{\"bgcolor\":\"white\",\"landcolor\":\"#E5ECF6\",\"subunitcolor\":\"white\",\"showland\":true,\"showlakes\":true,\"lakecolor\":\"white\"},\"title\":{\"x\":0.05},\"mapbox\":{\"style\":\"light\"}}},\"shapes\":[{\"line\":{\"color\":\"Black\",\"dash\":\"dot\",\"width\":1},\"type\":\"line\",\"x0\":-10.0,\"x1\":-10.0,\"y0\":-4.712388980384688,\"y1\":4.71238898038469},{\"line\":{\"color\":\"Black\",\"dash\":\"dot\",\"width\":1},\"type\":\"line\",\"x0\":-9.5,\"x1\":-9.5,\"y0\":-4.712388980384688,\"y1\":4.71238898038469},{\"line\":{\"color\":\"Black\",\"dash\":\"dot\",\"width\":1},\"type\":\"line\",\"x0\":-9.0,\"x1\":-9.0,\"y0\":-4.712388980384688,\"y1\":4.71238898038469},{\"line\":{\"color\":\"Black\",\"dash\":\"dot\",\"width\":1},\"type\":\"line\",\"x0\":-8.5,\"x1\":-8.5,\"y0\":-4.712388980384688,\"y1\":4.71238898038469},{\"line\":{\"color\":\"Black\",\"dash\":\"dot\",\"width\":1},\"type\":\"line\",\"x0\":-8.0,\"x1\":-8.0,\"y0\":-4.712388980384688,\"y1\":4.71238898038469},{\"line\":{\"color\":\"Black\",\"dash\":\"dot\",\"width\":1},\"type\":\"line\",\"x0\":-7.5,\"x1\":-7.5,\"y0\":-4.712388980384688,\"y1\":4.71238898038469},{\"line\":{\"color\":\"Black\",\"dash\":\"dot\",\"width\":1},\"type\":\"line\",\"x0\":-7.0,\"x1\":-7.0,\"y0\":-4.712388980384688,\"y1\":4.71238898038469},{\"line\":{\"color\":\"Black\",\"dash\":\"dot\",\"width\":1},\"type\":\"line\",\"x0\":-6.5,\"x1\":-6.5,\"y0\":-4.712388980384688,\"y1\":4.71238898038469},{\"line\":{\"color\":\"Black\",\"dash\":\"dot\",\"width\":1},\"type\":\"line\",\"x0\":-6.0,\"x1\":-6.0,\"y0\":-4.712388980384688,\"y1\":4.71238898038469},{\"line\":{\"color\":\"Black\",\"dash\":\"dot\",\"width\":1},\"type\":\"line\",\"x0\":-5.5,\"x1\":-5.5,\"y0\":-4.712388980384688,\"y1\":4.71238898038469},{\"line\":{\"color\":\"Black\",\"dash\":\"dot\",\"width\":1},\"type\":\"line\",\"x0\":-5.0,\"x1\":-5.0,\"y0\":-4.712388980384688,\"y1\":4.71238898038469},{\"line\":{\"color\":\"Black\",\"dash\":\"dot\",\"width\":1},\"type\":\"line\",\"x0\":-4.5,\"x1\":-4.5,\"y0\":-4.712388980384688,\"y1\":4.71238898038469},{\"line\":{\"color\":\"Black\",\"dash\":\"dot\",\"width\":1},\"type\":\"line\",\"x0\":-4.0,\"x1\":-4.0,\"y0\":-4.712388980384688,\"y1\":4.71238898038469},{\"line\":{\"color\":\"Black\",\"dash\":\"dot\",\"width\":1},\"type\":\"line\",\"x0\":-3.5,\"x1\":-3.5,\"y0\":-4.712388980384688,\"y1\":4.71238898038469},{\"line\":{\"color\":\"Black\",\"dash\":\"dot\",\"width\":1},\"type\":\"line\",\"x0\":-3.0,\"x1\":-3.0,\"y0\":-4.712388980384688,\"y1\":4.71238898038469},{\"line\":{\"color\":\"Black\",\"dash\":\"dot\",\"width\":1},\"type\":\"line\",\"x0\":-2.5,\"x1\":-2.5,\"y0\":-4.712388980384688,\"y1\":4.71238898038469},{\"line\":{\"color\":\"Black\",\"dash\":\"dot\",\"width\":1},\"type\":\"line\",\"x0\":-2.0,\"x1\":-2.0,\"y0\":-4.712388980384688,\"y1\":4.71238898038469},{\"line\":{\"color\":\"Black\",\"dash\":\"dot\",\"width\":1},\"type\":\"line\",\"x0\":-1.5,\"x1\":-1.5,\"y0\":-4.712388980384688,\"y1\":4.71238898038469},{\"line\":{\"color\":\"Black\",\"dash\":\"dot\",\"width\":1},\"type\":\"line\",\"x0\":-1.0,\"x1\":-1.0,\"y0\":-4.712388980384688,\"y1\":4.71238898038469},{\"line\":{\"color\":\"Black\",\"dash\":\"dot\",\"width\":1},\"type\":\"line\",\"x0\":-0.5,\"x1\":-0.5,\"y0\":-4.712388980384688,\"y1\":4.71238898038469},{\"line\":{\"color\":\"Black\",\"dash\":\"dot\",\"width\":1},\"type\":\"line\",\"x0\":0.0,\"x1\":0.0,\"y0\":-4.712388980384688,\"y1\":4.71238898038469},{\"line\":{\"color\":\"Black\",\"dash\":\"dot\",\"width\":1},\"type\":\"line\",\"x0\":0.5,\"x1\":0.5,\"y0\":-4.712388980384688,\"y1\":4.71238898038469},{\"line\":{\"color\":\"Black\",\"dash\":\"dot\",\"width\":1},\"type\":\"line\",\"x0\":1.0,\"x1\":1.0,\"y0\":-4.712388980384688,\"y1\":4.71238898038469},{\"line\":{\"color\":\"Black\",\"dash\":\"dot\",\"width\":1},\"type\":\"line\",\"x0\":1.5,\"x1\":1.5,\"y0\":-4.712388980384688,\"y1\":4.71238898038469},{\"line\":{\"color\":\"Black\",\"dash\":\"dot\",\"width\":1},\"type\":\"line\",\"x0\":2.0,\"x1\":2.0,\"y0\":-4.712388980384688,\"y1\":4.71238898038469},{\"line\":{\"color\":\"Black\",\"dash\":\"dot\",\"width\":1},\"type\":\"line\",\"x0\":2.5,\"x1\":2.5,\"y0\":-4.712388980384688,\"y1\":4.71238898038469},{\"line\":{\"color\":\"Black\",\"dash\":\"dot\",\"width\":1},\"type\":\"line\",\"x0\":3.0,\"x1\":3.0,\"y0\":-4.712388980384688,\"y1\":4.71238898038469},{\"line\":{\"color\":\"Black\",\"dash\":\"dot\",\"width\":1},\"type\":\"line\",\"x0\":3.5,\"x1\":3.5,\"y0\":-4.712388980384688,\"y1\":4.71238898038469},{\"line\":{\"color\":\"Black\",\"dash\":\"dot\",\"width\":1},\"type\":\"line\",\"x0\":4.0,\"x1\":4.0,\"y0\":-4.712388980384688,\"y1\":4.71238898038469},{\"line\":{\"color\":\"Black\",\"dash\":\"dot\",\"width\":1},\"type\":\"line\",\"x0\":4.5,\"x1\":4.5,\"y0\":-4.712388980384688,\"y1\":4.71238898038469},{\"line\":{\"color\":\"Black\",\"dash\":\"dot\",\"width\":1},\"type\":\"line\",\"x0\":5.0,\"x1\":5.0,\"y0\":-4.712388980384688,\"y1\":4.71238898038469},{\"line\":{\"color\":\"Black\",\"dash\":\"dot\",\"width\":1},\"type\":\"line\",\"x0\":5.5,\"x1\":5.5,\"y0\":-4.712388980384688,\"y1\":4.71238898038469},{\"line\":{\"color\":\"Black\",\"dash\":\"dot\",\"width\":1},\"type\":\"line\",\"x0\":6.0,\"x1\":6.0,\"y0\":-4.712388980384688,\"y1\":4.71238898038469},{\"line\":{\"color\":\"Black\",\"dash\":\"dot\",\"width\":1},\"type\":\"line\",\"x0\":6.5,\"x1\":6.5,\"y0\":-4.712388980384688,\"y1\":4.71238898038469},{\"line\":{\"color\":\"Black\",\"dash\":\"dot\",\"width\":1},\"type\":\"line\",\"x0\":7.0,\"x1\":7.0,\"y0\":-4.712388980384688,\"y1\":4.71238898038469},{\"line\":{\"color\":\"Black\",\"dash\":\"dot\",\"width\":1},\"type\":\"line\",\"x0\":7.5,\"x1\":7.5,\"y0\":-4.712388980384688,\"y1\":4.71238898038469},{\"line\":{\"color\":\"Black\",\"dash\":\"dot\",\"width\":1},\"type\":\"line\",\"x0\":8.0,\"x1\":8.0,\"y0\":-4.712388980384688,\"y1\":4.71238898038469},{\"line\":{\"color\":\"Black\",\"dash\":\"dot\",\"width\":1},\"type\":\"line\",\"x0\":8.5,\"x1\":8.5,\"y0\":-4.712388980384688,\"y1\":4.71238898038469},{\"line\":{\"color\":\"Black\",\"dash\":\"dot\",\"width\":1},\"type\":\"line\",\"x0\":9.0,\"x1\":9.0,\"y0\":-4.712388980384688,\"y1\":4.71238898038469},{\"line\":{\"color\":\"Black\",\"dash\":\"dot\",\"width\":1},\"type\":\"line\",\"x0\":9.5,\"x1\":9.5,\"y0\":-4.712388980384688,\"y1\":4.71238898038469}],\"title\":{\"text\":\"Phase Spectrum of the DFT\"},\"xaxis\":{\"title\":{\"text\":\"Frequency (Hz)\"}},\"yaxis\":{\"title\":{\"text\":\"Phase (radians)\"}},\"autosize\":false,\"width\":800,\"height\":600},                        {\"responsive\": true}                    ).then(function(){\n",
       "                            \n",
       "var gd = document.getElementById('91ee479c-e0d9-40e8-a86a-19ed1ccee645');\n",
       "var x = new MutationObserver(function (mutations, observer) {{\n",
       "        var display = window.getComputedStyle(gd).display;\n",
       "        if (!display || display === 'none') {{\n",
       "            console.log([gd, 'removed!']);\n",
       "            Plotly.purge(gd);\n",
       "            observer.disconnect();\n",
       "        }}\n",
       "}});\n",
       "\n",
       "// Listen for the removal of the full notebook cells\n",
       "var notebookContainer = gd.closest('#notebook-container');\n",
       "if (notebookContainer) {{\n",
       "    x.observe(notebookContainer, {childList: true});\n",
       "}}\n",
       "\n",
       "// Listen for the clearing of the current output cell\n",
       "var outputEl = gd.closest('.output');\n",
       "if (outputEl) {{\n",
       "    x.observe(outputEl, {childList: true});\n",
       "}}\n",
       "\n",
       "                        })                };                });            </script>        </div>"
      ]
     },
     "metadata": {},
     "output_type": "display_data"
    }
   ],
   "source": [
    "import numpy as np\n",
    "from wave_sampling import plot_waveforms\n",
    "\n",
    "# Define parameters\n",
    "n = 0.05  # Time step\n",
    "t_max = 2.0  # Maximum time\n",
    "selected_waveforms = ['sine1']  # Waveforms to show: 'sine1', 'sine2', 'am', 'fm', 'sum'\n",
    "amp1, freq1, phase1 = 1.0, 7.25, 0*np.pi/2  # Parameters for sine wave 1\n",
    "amp2, freq2, phase2 = 1.0, 5.0, 2*np.pi/2  # Parameters for sine wave 2\n",
    "\n",
    "# Call function with parameters\n",
    "plot_waveforms(n=n, t_max=t_max, selected_waveforms=selected_waveforms, \n",
    "               amp1=amp1, freq1=freq1, phase1=phase1, \n",
    "               amp2=amp2, freq2=freq2, phase2=phase2)\n"
   ]
  }
 ],
 "metadata": {
  "kernelspec": {
   "display_name": "Python 3 (ipykernel)",
   "language": "python",
   "name": "python3"
  },
  "language_info": {
   "codemirror_mode": {
    "name": "ipython",
    "version": 3
   },
   "file_extension": ".py",
   "mimetype": "text/x-python",
   "name": "python",
   "nbconvert_exporter": "python",
   "pygments_lexer": "ipython3",
   "version": "3.11.3"
  }
 },
 "nbformat": 4,
 "nbformat_minor": 5
}
