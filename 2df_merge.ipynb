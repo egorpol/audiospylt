{
 "cells": [
  {
   "cell_type": "markdown",
   "id": "9d337ec7",
   "metadata": {},
   "source": [
    "Showcase of different merge interactions between two dataframes with unequal total number of values."
   ]
  },
  {
   "cell_type": "code",
   "execution_count": 2,
   "id": "cb5ed449",
   "metadata": {},
   "outputs": [],
   "source": [
    "import pandas as pd\n",
    "\n",
    "#load data from TSV\n",
    "\n",
    "df1 = pd.read_csv('tsv/speech1.tsv', delimiter='\\t')\n",
    "df2 = pd.read_csv('tsv/conga3.tsv', delimiter='\\t')"
   ]
  },
  {
   "cell_type": "code",
   "execution_count": 6,
   "id": "aff976dd",
   "metadata": {},
   "outputs": [
    {
     "data": {
      "application/vnd.plotly.v1+json": {
       "config": {
        "plotlyServerURL": "https://plot.ly"
       },
       "data": [
        {
         "line": {
          "color": "#17becf"
         },
         "mode": "markers",
         "name": "df1",
         "type": "scatter",
         "x": [
          97.3684210526316,
          105.26315789473684,
          110.5263157894737,
          194.7368421052632,
          202.63157894736844,
          210.5263157894737,
          215.78947368421052,
          223.6842105263158,
          228.94736842105263,
          292.10526315789474,
          300,
          307.89473684210526,
          313.15789473684214,
          321.0526315789474,
          328.94736842105266,
          334.2105263157895,
          339.4736842105264,
          344.7368421052632,
          407.8947368421053,
          415.7894736842106,
          426.3157894736842,
          434.2105263157895,
          439.4736842105264,
          513.1578947368422,
          518.421052631579,
          528.9473684210527,
          539.4736842105264,
          2239.4736842105267,
          2257.894736842105,
          2265.789473684211,
          2278.947368421053,
          2313.157894736842,
          2323.684210526316,
          2331.5789473684213,
          2344.736842105264,
          2360.5263157894738,
          2381.5789473684213,
          2392.105263157895,
          2397.368421052632,
          2952.631578947369,
          3055.263157894737
         ],
         "y": [
          0.0009647991093277,
          0.0055213720429783,
          0.0024227688847233,
          0.0013506934504839,
          0.0035174180462654,
          0.0074083968861433,
          0.0054668713632483,
          0.0049539732841427,
          0.0031441505696549,
          0.0012613220776222,
          0.00332239652906,
          0.0071887453267094,
          0.0075620230016843,
          0.0070833674490864,
          0.0057019150079667,
          0.0034777418781922,
          0.0024410902390149,
          0.001953713018008,
          0.0012215557600833,
          0.0017164210428016,
          0.0014676364035692,
          0.0018477077660713,
          0.0013712799540878,
          0.0007603143191751,
          0.0006279198937555,
          0.0005749280944175,
          0.0006007691438291,
          0.0005226545273162,
          0.0006431480666991,
          0.0006238136960215,
          0.0007215694012896,
          0.0007252185241692,
          0.0008114118575489,
          0.0010728842005843,
          0.0007515724909371,
          0.0010901648421076,
          0.0007730268353071,
          0.0006452500721762,
          0.0008912004428398,
          0.0005222355690936,
          0.0005531601786835
         ]
        },
        {
         "line": {
          "color": "#bcbd22"
         },
         "mode": "markers",
         "name": "df2",
         "type": "scatter",
         "visible": true,
         "x": [
          31.25,
          75,
          127.5,
          238.75,
          321.25,
          393.75,
          398.75,
          518.75,
          546.25,
          600
         ],
         "y": [
          0.0005687449103935,
          0.0008703650081436,
          0.0005403567422227,
          0.0030739620784412,
          0.0024684119351635,
          0.0008649942330715,
          0.0009237491133104,
          0.0008487943653878,
          0.000566920605011,
          0.0017391013846919
         ]
        }
       ],
       "layout": {
        "autosize": true,
        "template": {
         "data": {
          "bar": [
           {
            "error_x": {
             "color": "#2a3f5f"
            },
            "error_y": {
             "color": "#2a3f5f"
            },
            "marker": {
             "line": {
              "color": "#E5ECF6",
              "width": 0.5
             },
             "pattern": {
              "fillmode": "overlay",
              "size": 10,
              "solidity": 0.2
             }
            },
            "type": "bar"
           }
          ],
          "barpolar": [
           {
            "marker": {
             "line": {
              "color": "#E5ECF6",
              "width": 0.5
             },
             "pattern": {
              "fillmode": "overlay",
              "size": 10,
              "solidity": 0.2
             }
            },
            "type": "barpolar"
           }
          ],
          "carpet": [
           {
            "aaxis": {
             "endlinecolor": "#2a3f5f",
             "gridcolor": "white",
             "linecolor": "white",
             "minorgridcolor": "white",
             "startlinecolor": "#2a3f5f"
            },
            "baxis": {
             "endlinecolor": "#2a3f5f",
             "gridcolor": "white",
             "linecolor": "white",
             "minorgridcolor": "white",
             "startlinecolor": "#2a3f5f"
            },
            "type": "carpet"
           }
          ],
          "choropleth": [
           {
            "colorbar": {
             "outlinewidth": 0,
             "ticks": ""
            },
            "type": "choropleth"
           }
          ],
          "contour": [
           {
            "colorbar": {
             "outlinewidth": 0,
             "ticks": ""
            },
            "colorscale": [
             [
              0,
              "#0d0887"
             ],
             [
              0.1111111111111111,
              "#46039f"
             ],
             [
              0.2222222222222222,
              "#7201a8"
             ],
             [
              0.3333333333333333,
              "#9c179e"
             ],
             [
              0.4444444444444444,
              "#bd3786"
             ],
             [
              0.5555555555555556,
              "#d8576b"
             ],
             [
              0.6666666666666666,
              "#ed7953"
             ],
             [
              0.7777777777777778,
              "#fb9f3a"
             ],
             [
              0.8888888888888888,
              "#fdca26"
             ],
             [
              1,
              "#f0f921"
             ]
            ],
            "type": "contour"
           }
          ],
          "contourcarpet": [
           {
            "colorbar": {
             "outlinewidth": 0,
             "ticks": ""
            },
            "type": "contourcarpet"
           }
          ],
          "heatmap": [
           {
            "colorbar": {
             "outlinewidth": 0,
             "ticks": ""
            },
            "colorscale": [
             [
              0,
              "#0d0887"
             ],
             [
              0.1111111111111111,
              "#46039f"
             ],
             [
              0.2222222222222222,
              "#7201a8"
             ],
             [
              0.3333333333333333,
              "#9c179e"
             ],
             [
              0.4444444444444444,
              "#bd3786"
             ],
             [
              0.5555555555555556,
              "#d8576b"
             ],
             [
              0.6666666666666666,
              "#ed7953"
             ],
             [
              0.7777777777777778,
              "#fb9f3a"
             ],
             [
              0.8888888888888888,
              "#fdca26"
             ],
             [
              1,
              "#f0f921"
             ]
            ],
            "type": "heatmap"
           }
          ],
          "heatmapgl": [
           {
            "colorbar": {
             "outlinewidth": 0,
             "ticks": ""
            },
            "colorscale": [
             [
              0,
              "#0d0887"
             ],
             [
              0.1111111111111111,
              "#46039f"
             ],
             [
              0.2222222222222222,
              "#7201a8"
             ],
             [
              0.3333333333333333,
              "#9c179e"
             ],
             [
              0.4444444444444444,
              "#bd3786"
             ],
             [
              0.5555555555555556,
              "#d8576b"
             ],
             [
              0.6666666666666666,
              "#ed7953"
             ],
             [
              0.7777777777777778,
              "#fb9f3a"
             ],
             [
              0.8888888888888888,
              "#fdca26"
             ],
             [
              1,
              "#f0f921"
             ]
            ],
            "type": "heatmapgl"
           }
          ],
          "histogram": [
           {
            "marker": {
             "pattern": {
              "fillmode": "overlay",
              "size": 10,
              "solidity": 0.2
             }
            },
            "type": "histogram"
           }
          ],
          "histogram2d": [
           {
            "colorbar": {
             "outlinewidth": 0,
             "ticks": ""
            },
            "colorscale": [
             [
              0,
              "#0d0887"
             ],
             [
              0.1111111111111111,
              "#46039f"
             ],
             [
              0.2222222222222222,
              "#7201a8"
             ],
             [
              0.3333333333333333,
              "#9c179e"
             ],
             [
              0.4444444444444444,
              "#bd3786"
             ],
             [
              0.5555555555555556,
              "#d8576b"
             ],
             [
              0.6666666666666666,
              "#ed7953"
             ],
             [
              0.7777777777777778,
              "#fb9f3a"
             ],
             [
              0.8888888888888888,
              "#fdca26"
             ],
             [
              1,
              "#f0f921"
             ]
            ],
            "type": "histogram2d"
           }
          ],
          "histogram2dcontour": [
           {
            "colorbar": {
             "outlinewidth": 0,
             "ticks": ""
            },
            "colorscale": [
             [
              0,
              "#0d0887"
             ],
             [
              0.1111111111111111,
              "#46039f"
             ],
             [
              0.2222222222222222,
              "#7201a8"
             ],
             [
              0.3333333333333333,
              "#9c179e"
             ],
             [
              0.4444444444444444,
              "#bd3786"
             ],
             [
              0.5555555555555556,
              "#d8576b"
             ],
             [
              0.6666666666666666,
              "#ed7953"
             ],
             [
              0.7777777777777778,
              "#fb9f3a"
             ],
             [
              0.8888888888888888,
              "#fdca26"
             ],
             [
              1,
              "#f0f921"
             ]
            ],
            "type": "histogram2dcontour"
           }
          ],
          "mesh3d": [
           {
            "colorbar": {
             "outlinewidth": 0,
             "ticks": ""
            },
            "type": "mesh3d"
           }
          ],
          "parcoords": [
           {
            "line": {
             "colorbar": {
              "outlinewidth": 0,
              "ticks": ""
             }
            },
            "type": "parcoords"
           }
          ],
          "pie": [
           {
            "automargin": true,
            "type": "pie"
           }
          ],
          "scatter": [
           {
            "fillpattern": {
             "fillmode": "overlay",
             "size": 10,
             "solidity": 0.2
            },
            "type": "scatter"
           }
          ],
          "scatter3d": [
           {
            "line": {
             "colorbar": {
              "outlinewidth": 0,
              "ticks": ""
             }
            },
            "marker": {
             "colorbar": {
              "outlinewidth": 0,
              "ticks": ""
             }
            },
            "type": "scatter3d"
           }
          ],
          "scattercarpet": [
           {
            "marker": {
             "colorbar": {
              "outlinewidth": 0,
              "ticks": ""
             }
            },
            "type": "scattercarpet"
           }
          ],
          "scattergeo": [
           {
            "marker": {
             "colorbar": {
              "outlinewidth": 0,
              "ticks": ""
             }
            },
            "type": "scattergeo"
           }
          ],
          "scattergl": [
           {
            "marker": {
             "colorbar": {
              "outlinewidth": 0,
              "ticks": ""
             }
            },
            "type": "scattergl"
           }
          ],
          "scattermapbox": [
           {
            "marker": {
             "colorbar": {
              "outlinewidth": 0,
              "ticks": ""
             }
            },
            "type": "scattermapbox"
           }
          ],
          "scatterpolar": [
           {
            "marker": {
             "colorbar": {
              "outlinewidth": 0,
              "ticks": ""
             }
            },
            "type": "scatterpolar"
           }
          ],
          "scatterpolargl": [
           {
            "marker": {
             "colorbar": {
              "outlinewidth": 0,
              "ticks": ""
             }
            },
            "type": "scatterpolargl"
           }
          ],
          "scatterternary": [
           {
            "marker": {
             "colorbar": {
              "outlinewidth": 0,
              "ticks": ""
             }
            },
            "type": "scatterternary"
           }
          ],
          "surface": [
           {
            "colorbar": {
             "outlinewidth": 0,
             "ticks": ""
            },
            "colorscale": [
             [
              0,
              "#0d0887"
             ],
             [
              0.1111111111111111,
              "#46039f"
             ],
             [
              0.2222222222222222,
              "#7201a8"
             ],
             [
              0.3333333333333333,
              "#9c179e"
             ],
             [
              0.4444444444444444,
              "#bd3786"
             ],
             [
              0.5555555555555556,
              "#d8576b"
             ],
             [
              0.6666666666666666,
              "#ed7953"
             ],
             [
              0.7777777777777778,
              "#fb9f3a"
             ],
             [
              0.8888888888888888,
              "#fdca26"
             ],
             [
              1,
              "#f0f921"
             ]
            ],
            "type": "surface"
           }
          ],
          "table": [
           {
            "cells": {
             "fill": {
              "color": "#EBF0F8"
             },
             "line": {
              "color": "white"
             }
            },
            "header": {
             "fill": {
              "color": "#C8D4E3"
             },
             "line": {
              "color": "white"
             }
            },
            "type": "table"
           }
          ]
         },
         "layout": {
          "annotationdefaults": {
           "arrowcolor": "#2a3f5f",
           "arrowhead": 0,
           "arrowwidth": 1
          },
          "autotypenumbers": "strict",
          "coloraxis": {
           "colorbar": {
            "outlinewidth": 0,
            "ticks": ""
           }
          },
          "colorscale": {
           "diverging": [
            [
             0,
             "#8e0152"
            ],
            [
             0.1,
             "#c51b7d"
            ],
            [
             0.2,
             "#de77ae"
            ],
            [
             0.3,
             "#f1b6da"
            ],
            [
             0.4,
             "#fde0ef"
            ],
            [
             0.5,
             "#f7f7f7"
            ],
            [
             0.6,
             "#e6f5d0"
            ],
            [
             0.7,
             "#b8e186"
            ],
            [
             0.8,
             "#7fbc41"
            ],
            [
             0.9,
             "#4d9221"
            ],
            [
             1,
             "#276419"
            ]
           ],
           "sequential": [
            [
             0,
             "#0d0887"
            ],
            [
             0.1111111111111111,
             "#46039f"
            ],
            [
             0.2222222222222222,
             "#7201a8"
            ],
            [
             0.3333333333333333,
             "#9c179e"
            ],
            [
             0.4444444444444444,
             "#bd3786"
            ],
            [
             0.5555555555555556,
             "#d8576b"
            ],
            [
             0.6666666666666666,
             "#ed7953"
            ],
            [
             0.7777777777777778,
             "#fb9f3a"
            ],
            [
             0.8888888888888888,
             "#fdca26"
            ],
            [
             1,
             "#f0f921"
            ]
           ],
           "sequentialminus": [
            [
             0,
             "#0d0887"
            ],
            [
             0.1111111111111111,
             "#46039f"
            ],
            [
             0.2222222222222222,
             "#7201a8"
            ],
            [
             0.3333333333333333,
             "#9c179e"
            ],
            [
             0.4444444444444444,
             "#bd3786"
            ],
            [
             0.5555555555555556,
             "#d8576b"
            ],
            [
             0.6666666666666666,
             "#ed7953"
            ],
            [
             0.7777777777777778,
             "#fb9f3a"
            ],
            [
             0.8888888888888888,
             "#fdca26"
            ],
            [
             1,
             "#f0f921"
            ]
           ]
          },
          "colorway": [
           "#636efa",
           "#EF553B",
           "#00cc96",
           "#ab63fa",
           "#FFA15A",
           "#19d3f3",
           "#FF6692",
           "#B6E880",
           "#FF97FF",
           "#FECB52"
          ],
          "font": {
           "color": "#2a3f5f"
          },
          "geo": {
           "bgcolor": "white",
           "lakecolor": "white",
           "landcolor": "#E5ECF6",
           "showlakes": true,
           "showland": true,
           "subunitcolor": "white"
          },
          "hoverlabel": {
           "align": "left"
          },
          "hovermode": "closest",
          "mapbox": {
           "style": "light"
          },
          "paper_bgcolor": "white",
          "plot_bgcolor": "#E5ECF6",
          "polar": {
           "angularaxis": {
            "gridcolor": "white",
            "linecolor": "white",
            "ticks": ""
           },
           "bgcolor": "#E5ECF6",
           "radialaxis": {
            "gridcolor": "white",
            "linecolor": "white",
            "ticks": ""
           }
          },
          "scene": {
           "xaxis": {
            "backgroundcolor": "#E5ECF6",
            "gridcolor": "white",
            "gridwidth": 2,
            "linecolor": "white",
            "showbackground": true,
            "ticks": "",
            "zerolinecolor": "white"
           },
           "yaxis": {
            "backgroundcolor": "#E5ECF6",
            "gridcolor": "white",
            "gridwidth": 2,
            "linecolor": "white",
            "showbackground": true,
            "ticks": "",
            "zerolinecolor": "white"
           },
           "zaxis": {
            "backgroundcolor": "#E5ECF6",
            "gridcolor": "white",
            "gridwidth": 2,
            "linecolor": "white",
            "showbackground": true,
            "ticks": "",
            "zerolinecolor": "white"
           }
          },
          "shapedefaults": {
           "line": {
            "color": "#2a3f5f"
           }
          },
          "ternary": {
           "aaxis": {
            "gridcolor": "white",
            "linecolor": "white",
            "ticks": ""
           },
           "baxis": {
            "gridcolor": "white",
            "linecolor": "white",
            "ticks": ""
           },
           "bgcolor": "#E5ECF6",
           "caxis": {
            "gridcolor": "white",
            "linecolor": "white",
            "ticks": ""
           }
          },
          "title": {
           "x": 0.05
          },
          "xaxis": {
           "automargin": true,
           "gridcolor": "white",
           "linecolor": "white",
           "ticks": "",
           "title": {
            "standoff": 15
           },
           "zerolinecolor": "white",
           "zerolinewidth": 2
          },
          "yaxis": {
           "automargin": true,
           "gridcolor": "white",
           "linecolor": "white",
           "ticks": "",
           "title": {
            "standoff": 15
           },
           "zerolinecolor": "white",
           "zerolinewidth": 2
          }
         }
        },
        "title": {
         "text": "Scatter Plot of Frequency vs. Amplitude"
        },
        "xaxis": {
         "range": [
          0,
          3360.789473684211
         ],
         "type": "linear"
        },
        "yaxis": {
         "range": [
          0,
          0.00831822530185273
         ],
         "type": "linear"
        }
       }
      },
      "image/png": "[encoded data removed]",
      "text/html": [
       "<div>                            <div id=\"0a0eb970-4bec-4290-8656-7205cf299bb7\" class=\"plotly-graph-div\" style=\"height:525px; width:100%;\"></div>            <script type=\"text/javascript\">                require([\"plotly\"], function(Plotly) {                    window.PLOTLYENV=window.PLOTLYENV || {};                                    if (document.getElementById(\"0a0eb970-4bec-4290-8656-7205cf299bb7\")) {                    Plotly.newPlot(                        \"0a0eb970-4bec-4290-8656-7205cf299bb7\",                        [{\"line\":{\"color\":\"#17becf\"},\"mode\":\"markers\",\"name\":\"df1\",\"x\":[97.3684210526316,105.26315789473684,110.5263157894737,194.7368421052632,202.63157894736844,210.5263157894737,215.78947368421052,223.6842105263158,228.94736842105263,292.10526315789474,300.0,307.89473684210526,313.15789473684214,321.0526315789474,328.94736842105266,334.2105263157895,339.4736842105264,344.7368421052632,407.8947368421053,415.7894736842106,426.3157894736842,434.2105263157895,439.4736842105264,513.1578947368422,518.421052631579,528.9473684210527,539.4736842105264,2239.4736842105267,2257.894736842105,2265.789473684211,2278.947368421053,2313.157894736842,2323.684210526316,2331.5789473684213,2344.736842105264,2360.5263157894738,2381.5789473684213,2392.105263157895,2397.368421052632,2952.631578947369,3055.263157894737],\"y\":[0.0009647991093277,0.0055213720429783,0.0024227688847233,0.0013506934504839,0.0035174180462654,0.0074083968861433,0.0054668713632483,0.0049539732841427,0.0031441505696549,0.0012613220776222,0.00332239652906,0.0071887453267094,0.0075620230016843,0.0070833674490864,0.0057019150079667,0.0034777418781922,0.0024410902390149,0.001953713018008,0.0012215557600833,0.0017164210428016,0.0014676364035692,0.0018477077660713,0.0013712799540878,0.0007603143191751,0.0006279198937555,0.0005749280944175,0.0006007691438291,0.0005226545273162,0.0006431480666991,0.0006238136960215,0.0007215694012896,0.0007252185241692,0.0008114118575489,0.0010728842005843,0.0007515724909371,0.0010901648421076,0.0007730268353071,0.0006452500721762,0.0008912004428398,0.0005222355690936,0.0005531601786835],\"type\":\"scatter\"},{\"line\":{\"color\":\"#bcbd22\"},\"mode\":\"markers\",\"name\":\"df2\",\"x\":[31.25,75.0,127.5,238.75,321.25,393.75,398.75,518.75,546.25,600.0],\"y\":[0.0005687449103935,0.0008703650081436,0.0005403567422227,0.0030739620784412,0.0024684119351635,0.0008649942330715,0.0009237491133104,0.0008487943653878,0.000566920605011,0.0017391013846919],\"type\":\"scatter\"}],                        {\"template\":{\"data\":{\"histogram2dcontour\":[{\"type\":\"histogram2dcontour\",\"colorbar\":{\"outlinewidth\":0,\"ticks\":\"\"},\"colorscale\":[[0.0,\"#0d0887\"],[0.1111111111111111,\"#46039f\"],[0.2222222222222222,\"#7201a8\"],[0.3333333333333333,\"#9c179e\"],[0.4444444444444444,\"#bd3786\"],[0.5555555555555556,\"#d8576b\"],[0.6666666666666666,\"#ed7953\"],[0.7777777777777778,\"#fb9f3a\"],[0.8888888888888888,\"#fdca26\"],[1.0,\"#f0f921\"]]}],\"choropleth\":[{\"type\":\"choropleth\",\"colorbar\":{\"outlinewidth\":0,\"ticks\":\"\"}}],\"histogram2d\":[{\"type\":\"histogram2d\",\"colorbar\":{\"outlinewidth\":0,\"ticks\":\"\"},\"colorscale\":[[0.0,\"#0d0887\"],[0.1111111111111111,\"#46039f\"],[0.2222222222222222,\"#7201a8\"],[0.3333333333333333,\"#9c179e\"],[0.4444444444444444,\"#bd3786\"],[0.5555555555555556,\"#d8576b\"],[0.6666666666666666,\"#ed7953\"],[0.7777777777777778,\"#fb9f3a\"],[0.8888888888888888,\"#fdca26\"],[1.0,\"#f0f921\"]]}],\"heatmap\":[{\"type\":\"heatmap\",\"colorbar\":{\"outlinewidth\":0,\"ticks\":\"\"},\"colorscale\":[[0.0,\"#0d0887\"],[0.1111111111111111,\"#46039f\"],[0.2222222222222222,\"#7201a8\"],[0.3333333333333333,\"#9c179e\"],[0.4444444444444444,\"#bd3786\"],[0.5555555555555556,\"#d8576b\"],[0.6666666666666666,\"#ed7953\"],[0.7777777777777778,\"#fb9f3a\"],[0.8888888888888888,\"#fdca26\"],[1.0,\"#f0f921\"]]}],\"heatmapgl\":[{\"type\":\"heatmapgl\",\"colorbar\":{\"outlinewidth\":0,\"ticks\":\"\"},\"colorscale\":[[0.0,\"#0d0887\"],[0.1111111111111111,\"#46039f\"],[0.2222222222222222,\"#7201a8\"],[0.3333333333333333,\"#9c179e\"],[0.4444444444444444,\"#bd3786\"],[0.5555555555555556,\"#d8576b\"],[0.6666666666666666,\"#ed7953\"],[0.7777777777777778,\"#fb9f3a\"],[0.8888888888888888,\"#fdca26\"],[1.0,\"#f0f921\"]]}],\"contourcarpet\":[{\"type\":\"contourcarpet\",\"colorbar\":{\"outlinewidth\":0,\"ticks\":\"\"}}],\"contour\":[{\"type\":\"contour\",\"colorbar\":{\"outlinewidth\":0,\"ticks\":\"\"},\"colorscale\":[[0.0,\"#0d0887\"],[0.1111111111111111,\"#46039f\"],[0.2222222222222222,\"#7201a8\"],[0.3333333333333333,\"#9c179e\"],[0.4444444444444444,\"#bd3786\"],[0.5555555555555556,\"#d8576b\"],[0.6666666666666666,\"#ed7953\"],[0.7777777777777778,\"#fb9f3a\"],[0.8888888888888888,\"#fdca26\"],[1.0,\"#f0f921\"]]}],\"surface\":[{\"type\":\"surface\",\"colorbar\":{\"outlinewidth\":0,\"ticks\":\"\"},\"colorscale\":[[0.0,\"#0d0887\"],[0.1111111111111111,\"#46039f\"],[0.2222222222222222,\"#7201a8\"],[0.3333333333333333,\"#9c179e\"],[0.4444444444444444,\"#bd3786\"],[0.5555555555555556,\"#d8576b\"],[0.6666666666666666,\"#ed7953\"],[0.7777777777777778,\"#fb9f3a\"],[0.8888888888888888,\"#fdca26\"],[1.0,\"#f0f921\"]]}],\"mesh3d\":[{\"type\":\"mesh3d\",\"colorbar\":{\"outlinewidth\":0,\"ticks\":\"\"}}],\"scatter\":[{\"fillpattern\":{\"fillmode\":\"overlay\",\"size\":10,\"solidity\":0.2},\"type\":\"scatter\"}],\"parcoords\":[{\"type\":\"parcoords\",\"line\":{\"colorbar\":{\"outlinewidth\":0,\"ticks\":\"\"}}}],\"scatterpolargl\":[{\"type\":\"scatterpolargl\",\"marker\":{\"colorbar\":{\"outlinewidth\":0,\"ticks\":\"\"}}}],\"bar\":[{\"error_x\":{\"color\":\"#2a3f5f\"},\"error_y\":{\"color\":\"#2a3f5f\"},\"marker\":{\"line\":{\"color\":\"#E5ECF6\",\"width\":0.5},\"pattern\":{\"fillmode\":\"overlay\",\"size\":10,\"solidity\":0.2}},\"type\":\"bar\"}],\"scattergeo\":[{\"type\":\"scattergeo\",\"marker\":{\"colorbar\":{\"outlinewidth\":0,\"ticks\":\"\"}}}],\"scatterpolar\":[{\"type\":\"scatterpolar\",\"marker\":{\"colorbar\":{\"outlinewidth\":0,\"ticks\":\"\"}}}],\"histogram\":[{\"marker\":{\"pattern\":{\"fillmode\":\"overlay\",\"size\":10,\"solidity\":0.2}},\"type\":\"histogram\"}],\"scattergl\":[{\"type\":\"scattergl\",\"marker\":{\"colorbar\":{\"outlinewidth\":0,\"ticks\":\"\"}}}],\"scatter3d\":[{\"type\":\"scatter3d\",\"line\":{\"colorbar\":{\"outlinewidth\":0,\"ticks\":\"\"}},\"marker\":{\"colorbar\":{\"outlinewidth\":0,\"ticks\":\"\"}}}],\"scattermapbox\":[{\"type\":\"scattermapbox\",\"marker\":{\"colorbar\":{\"outlinewidth\":0,\"ticks\":\"\"}}}],\"scatterternary\":[{\"type\":\"scatterternary\",\"marker\":{\"colorbar\":{\"outlinewidth\":0,\"ticks\":\"\"}}}],\"scattercarpet\":[{\"type\":\"scattercarpet\",\"marker\":{\"colorbar\":{\"outlinewidth\":0,\"ticks\":\"\"}}}],\"carpet\":[{\"aaxis\":{\"endlinecolor\":\"#2a3f5f\",\"gridcolor\":\"white\",\"linecolor\":\"white\",\"minorgridcolor\":\"white\",\"startlinecolor\":\"#2a3f5f\"},\"baxis\":{\"endlinecolor\":\"#2a3f5f\",\"gridcolor\":\"white\",\"linecolor\":\"white\",\"minorgridcolor\":\"white\",\"startlinecolor\":\"#2a3f5f\"},\"type\":\"carpet\"}],\"table\":[{\"cells\":{\"fill\":{\"color\":\"#EBF0F8\"},\"line\":{\"color\":\"white\"}},\"header\":{\"fill\":{\"color\":\"#C8D4E3\"},\"line\":{\"color\":\"white\"}},\"type\":\"table\"}],\"barpolar\":[{\"marker\":{\"line\":{\"color\":\"#E5ECF6\",\"width\":0.5},\"pattern\":{\"fillmode\":\"overlay\",\"size\":10,\"solidity\":0.2}},\"type\":\"barpolar\"}],\"pie\":[{\"automargin\":true,\"type\":\"pie\"}]},\"layout\":{\"autotypenumbers\":\"strict\",\"colorway\":[\"#636efa\",\"#EF553B\",\"#00cc96\",\"#ab63fa\",\"#FFA15A\",\"#19d3f3\",\"#FF6692\",\"#B6E880\",\"#FF97FF\",\"#FECB52\"],\"font\":{\"color\":\"#2a3f5f\"},\"hovermode\":\"closest\",\"hoverlabel\":{\"align\":\"left\"},\"paper_bgcolor\":\"white\",\"plot_bgcolor\":\"#E5ECF6\",\"polar\":{\"bgcolor\":\"#E5ECF6\",\"angularaxis\":{\"gridcolor\":\"white\",\"linecolor\":\"white\",\"ticks\":\"\"},\"radialaxis\":{\"gridcolor\":\"white\",\"linecolor\":\"white\",\"ticks\":\"\"}},\"ternary\":{\"bgcolor\":\"#E5ECF6\",\"aaxis\":{\"gridcolor\":\"white\",\"linecolor\":\"white\",\"ticks\":\"\"},\"baxis\":{\"gridcolor\":\"white\",\"linecolor\":\"white\",\"ticks\":\"\"},\"caxis\":{\"gridcolor\":\"white\",\"linecolor\":\"white\",\"ticks\":\"\"}},\"coloraxis\":{\"colorbar\":{\"outlinewidth\":0,\"ticks\":\"\"}},\"colorscale\":{\"sequential\":[[0.0,\"#0d0887\"],[0.1111111111111111,\"#46039f\"],[0.2222222222222222,\"#7201a8\"],[0.3333333333333333,\"#9c179e\"],[0.4444444444444444,\"#bd3786\"],[0.5555555555555556,\"#d8576b\"],[0.6666666666666666,\"#ed7953\"],[0.7777777777777778,\"#fb9f3a\"],[0.8888888888888888,\"#fdca26\"],[1.0,\"#f0f921\"]],\"sequentialminus\":[[0.0,\"#0d0887\"],[0.1111111111111111,\"#46039f\"],[0.2222222222222222,\"#7201a8\"],[0.3333333333333333,\"#9c179e\"],[0.4444444444444444,\"#bd3786\"],[0.5555555555555556,\"#d8576b\"],[0.6666666666666666,\"#ed7953\"],[0.7777777777777778,\"#fb9f3a\"],[0.8888888888888888,\"#fdca26\"],[1.0,\"#f0f921\"]],\"diverging\":[[0,\"#8e0152\"],[0.1,\"#c51b7d\"],[0.2,\"#de77ae\"],[0.3,\"#f1b6da\"],[0.4,\"#fde0ef\"],[0.5,\"#f7f7f7\"],[0.6,\"#e6f5d0\"],[0.7,\"#b8e186\"],[0.8,\"#7fbc41\"],[0.9,\"#4d9221\"],[1,\"#276419\"]]},\"xaxis\":{\"gridcolor\":\"white\",\"linecolor\":\"white\",\"ticks\":\"\",\"title\":{\"standoff\":15},\"zerolinecolor\":\"white\",\"automargin\":true,\"zerolinewidth\":2},\"yaxis\":{\"gridcolor\":\"white\",\"linecolor\":\"white\",\"ticks\":\"\",\"title\":{\"standoff\":15},\"zerolinecolor\":\"white\",\"automargin\":true,\"zerolinewidth\":2},\"scene\":{\"xaxis\":{\"backgroundcolor\":\"#E5ECF6\",\"gridcolor\":\"white\",\"linecolor\":\"white\",\"showbackground\":true,\"ticks\":\"\",\"zerolinecolor\":\"white\",\"gridwidth\":2},\"yaxis\":{\"backgroundcolor\":\"#E5ECF6\",\"gridcolor\":\"white\",\"linecolor\":\"white\",\"showbackground\":true,\"ticks\":\"\",\"zerolinecolor\":\"white\",\"gridwidth\":2},\"zaxis\":{\"backgroundcolor\":\"#E5ECF6\",\"gridcolor\":\"white\",\"linecolor\":\"white\",\"showbackground\":true,\"ticks\":\"\",\"zerolinecolor\":\"white\",\"gridwidth\":2}},\"shapedefaults\":{\"line\":{\"color\":\"#2a3f5f\"}},\"annotationdefaults\":{\"arrowcolor\":\"#2a3f5f\",\"arrowhead\":0,\"arrowwidth\":1},\"geo\":{\"bgcolor\":\"white\",\"landcolor\":\"#E5ECF6\",\"subunitcolor\":\"white\",\"showland\":true,\"showlakes\":true,\"lakecolor\":\"white\"},\"title\":{\"x\":0.05},\"mapbox\":{\"style\":\"light\"}}},\"title\":{\"text\":\"Scatter Plot of Frequency vs. Amplitude\"},\"xaxis\":{\"range\":[0,3360.789473684211]},\"yaxis\":{\"range\":[0,0.00831822530185273]}},                        {\"responsive\": true}                    ).then(function(){\n",
       "                            \n",
       "var gd = document.getElementById('0a0eb970-4bec-4290-8656-7205cf299bb7');\n",
       "var x = new MutationObserver(function (mutations, observer) {{\n",
       "        var display = window.getComputedStyle(gd).display;\n",
       "        if (!display || display === 'none') {{\n",
       "            console.log([gd, 'removed!']);\n",
       "            Plotly.purge(gd);\n",
       "            observer.disconnect();\n",
       "        }}\n",
       "}});\n",
       "\n",
       "// Listen for the removal of the full notebook cells\n",
       "var notebookContainer = gd.closest('#notebook-container');\n",
       "if (notebookContainer) {{\n",
       "    x.observe(notebookContainer, {childList: true});\n",
       "}}\n",
       "\n",
       "// Listen for the clearing of the current output cell\n",
       "var outputEl = gd.closest('.output');\n",
       "if (outputEl) {{\n",
       "    x.observe(outputEl, {childList: true});\n",
       "}}\n",
       "\n",
       "                        })                };                });            </script>        </div>"
      ]
     },
     "metadata": {},
     "output_type": "display_data"
    }
   ],
   "source": [
    "from multiplotter import plot_scatter\n",
    "\n",
    "#display(df1)\n",
    "#display(df2)\n",
    "\n",
    "plot_scatter(dfs=[df1, df2], labels=['df1', 'df2'], mode='markers')"
   ]
  },
  {
   "cell_type": "code",
   "execution_count": 3,
   "id": "8b405a4c",
   "metadata": {},
   "outputs": [
    {
     "name": "stdout",
     "output_type": "stream",
     "text": [
      "df1 has more elements\n"
     ]
    }
   ],
   "source": [
    "# Determine which DataFrame has fewer rows\n",
    "df_less, df_more = (df1, df2) if len(df1) < len(df2) else (df2, df1)\n",
    "\n",
    "if df_less.equals(df1):\n",
    "    print(\"df2 has more elements\")\n",
    "else:\n",
    "    print(\"df1 has more elements\")\n"
   ]
  },
  {
   "cell_type": "markdown",
   "id": "4e75f049",
   "metadata": {},
   "source": [
    "**Equal spread**"
   ]
  },
  {
   "cell_type": "markdown",
   "id": "1bddb6fa-29a3-4d88-b33a-84439017ca02",
   "metadata": {},
   "source": [
    "Spread values from df with less elements equally"
   ]
  },
  {
   "cell_type": "code",
   "execution_count": 9,
   "id": "e14798c0",
   "metadata": {},
   "outputs": [
    {
     "data": {
      "text/html": [
       "<div>\n",
       "<style scoped>\n",
       "    .dataframe tbody tr th:only-of-type {\n",
       "        vertical-align: middle;\n",
       "    }\n",
       "\n",
       "    .dataframe tbody tr th {\n",
       "        vertical-align: top;\n",
       "    }\n",
       "\n",
       "    .dataframe thead th {\n",
       "        text-align: right;\n",
       "    }\n",
       "</style>\n",
       "<table border=\"1\" class=\"dataframe\">\n",
       "  <thead>\n",
       "    <tr style=\"text-align: right;\">\n",
       "      <th></th>\n",
       "      <th>freq_data1</th>\n",
       "      <th>amp_data1</th>\n",
       "      <th>freq_data2</th>\n",
       "      <th>amp_data2</th>\n",
       "    </tr>\n",
       "  </thead>\n",
       "  <tbody>\n",
       "    <tr>\n",
       "      <th>0</th>\n",
       "      <td>97.368421</td>\n",
       "      <td>0.000965</td>\n",
       "      <td>31.25</td>\n",
       "      <td>0.000569</td>\n",
       "    </tr>\n",
       "    <tr>\n",
       "      <th>1</th>\n",
       "      <td>105.263158</td>\n",
       "      <td>0.005521</td>\n",
       "      <td>31.25</td>\n",
       "      <td>0.000569</td>\n",
       "    </tr>\n",
       "    <tr>\n",
       "      <th>2</th>\n",
       "      <td>110.526316</td>\n",
       "      <td>0.002423</td>\n",
       "      <td>31.25</td>\n",
       "      <td>0.000569</td>\n",
       "    </tr>\n",
       "    <tr>\n",
       "      <th>3</th>\n",
       "      <td>194.736842</td>\n",
       "      <td>0.001351</td>\n",
       "      <td>31.25</td>\n",
       "      <td>0.000569</td>\n",
       "    </tr>\n",
       "    <tr>\n",
       "      <th>4</th>\n",
       "      <td>202.631579</td>\n",
       "      <td>0.003517</td>\n",
       "      <td>31.25</td>\n",
       "      <td>0.000569</td>\n",
       "    </tr>\n",
       "    <tr>\n",
       "      <th>5</th>\n",
       "      <td>210.526316</td>\n",
       "      <td>0.007408</td>\n",
       "      <td>75.00</td>\n",
       "      <td>0.000870</td>\n",
       "    </tr>\n",
       "    <tr>\n",
       "      <th>6</th>\n",
       "      <td>215.789474</td>\n",
       "      <td>0.005467</td>\n",
       "      <td>75.00</td>\n",
       "      <td>0.000870</td>\n",
       "    </tr>\n",
       "    <tr>\n",
       "      <th>7</th>\n",
       "      <td>223.684211</td>\n",
       "      <td>0.004954</td>\n",
       "      <td>75.00</td>\n",
       "      <td>0.000870</td>\n",
       "    </tr>\n",
       "    <tr>\n",
       "      <th>8</th>\n",
       "      <td>228.947368</td>\n",
       "      <td>0.003144</td>\n",
       "      <td>75.00</td>\n",
       "      <td>0.000870</td>\n",
       "    </tr>\n",
       "    <tr>\n",
       "      <th>9</th>\n",
       "      <td>292.105263</td>\n",
       "      <td>0.001261</td>\n",
       "      <td>127.50</td>\n",
       "      <td>0.000540</td>\n",
       "    </tr>\n",
       "    <tr>\n",
       "      <th>10</th>\n",
       "      <td>300.000000</td>\n",
       "      <td>0.003322</td>\n",
       "      <td>127.50</td>\n",
       "      <td>0.000540</td>\n",
       "    </tr>\n",
       "    <tr>\n",
       "      <th>11</th>\n",
       "      <td>307.894737</td>\n",
       "      <td>0.007189</td>\n",
       "      <td>127.50</td>\n",
       "      <td>0.000540</td>\n",
       "    </tr>\n",
       "    <tr>\n",
       "      <th>12</th>\n",
       "      <td>313.157895</td>\n",
       "      <td>0.007562</td>\n",
       "      <td>127.50</td>\n",
       "      <td>0.000540</td>\n",
       "    </tr>\n",
       "    <tr>\n",
       "      <th>13</th>\n",
       "      <td>321.052632</td>\n",
       "      <td>0.007083</td>\n",
       "      <td>238.75</td>\n",
       "      <td>0.003074</td>\n",
       "    </tr>\n",
       "    <tr>\n",
       "      <th>14</th>\n",
       "      <td>328.947368</td>\n",
       "      <td>0.005702</td>\n",
       "      <td>238.75</td>\n",
       "      <td>0.003074</td>\n",
       "    </tr>\n",
       "    <tr>\n",
       "      <th>15</th>\n",
       "      <td>334.210526</td>\n",
       "      <td>0.003478</td>\n",
       "      <td>238.75</td>\n",
       "      <td>0.003074</td>\n",
       "    </tr>\n",
       "    <tr>\n",
       "      <th>16</th>\n",
       "      <td>339.473684</td>\n",
       "      <td>0.002441</td>\n",
       "      <td>238.75</td>\n",
       "      <td>0.003074</td>\n",
       "    </tr>\n",
       "    <tr>\n",
       "      <th>17</th>\n",
       "      <td>344.736842</td>\n",
       "      <td>0.001954</td>\n",
       "      <td>321.25</td>\n",
       "      <td>0.002468</td>\n",
       "    </tr>\n",
       "    <tr>\n",
       "      <th>18</th>\n",
       "      <td>407.894737</td>\n",
       "      <td>0.001222</td>\n",
       "      <td>321.25</td>\n",
       "      <td>0.002468</td>\n",
       "    </tr>\n",
       "    <tr>\n",
       "      <th>19</th>\n",
       "      <td>415.789474</td>\n",
       "      <td>0.001716</td>\n",
       "      <td>321.25</td>\n",
       "      <td>0.002468</td>\n",
       "    </tr>\n",
       "    <tr>\n",
       "      <th>20</th>\n",
       "      <td>426.315789</td>\n",
       "      <td>0.001468</td>\n",
       "      <td>321.25</td>\n",
       "      <td>0.002468</td>\n",
       "    </tr>\n",
       "    <tr>\n",
       "      <th>21</th>\n",
       "      <td>434.210526</td>\n",
       "      <td>0.001848</td>\n",
       "      <td>393.75</td>\n",
       "      <td>0.000865</td>\n",
       "    </tr>\n",
       "    <tr>\n",
       "      <th>22</th>\n",
       "      <td>439.473684</td>\n",
       "      <td>0.001371</td>\n",
       "      <td>393.75</td>\n",
       "      <td>0.000865</td>\n",
       "    </tr>\n",
       "    <tr>\n",
       "      <th>23</th>\n",
       "      <td>513.157895</td>\n",
       "      <td>0.000760</td>\n",
       "      <td>393.75</td>\n",
       "      <td>0.000865</td>\n",
       "    </tr>\n",
       "    <tr>\n",
       "      <th>24</th>\n",
       "      <td>518.421053</td>\n",
       "      <td>0.000628</td>\n",
       "      <td>393.75</td>\n",
       "      <td>0.000865</td>\n",
       "    </tr>\n",
       "    <tr>\n",
       "      <th>25</th>\n",
       "      <td>528.947368</td>\n",
       "      <td>0.000575</td>\n",
       "      <td>398.75</td>\n",
       "      <td>0.000924</td>\n",
       "    </tr>\n",
       "    <tr>\n",
       "      <th>26</th>\n",
       "      <td>539.473684</td>\n",
       "      <td>0.000601</td>\n",
       "      <td>398.75</td>\n",
       "      <td>0.000924</td>\n",
       "    </tr>\n",
       "    <tr>\n",
       "      <th>27</th>\n",
       "      <td>2239.473684</td>\n",
       "      <td>0.000523</td>\n",
       "      <td>398.75</td>\n",
       "      <td>0.000924</td>\n",
       "    </tr>\n",
       "    <tr>\n",
       "      <th>28</th>\n",
       "      <td>2257.894737</td>\n",
       "      <td>0.000643</td>\n",
       "      <td>398.75</td>\n",
       "      <td>0.000924</td>\n",
       "    </tr>\n",
       "    <tr>\n",
       "      <th>29</th>\n",
       "      <td>2265.789474</td>\n",
       "      <td>0.000624</td>\n",
       "      <td>518.75</td>\n",
       "      <td>0.000849</td>\n",
       "    </tr>\n",
       "    <tr>\n",
       "      <th>30</th>\n",
       "      <td>2278.947368</td>\n",
       "      <td>0.000722</td>\n",
       "      <td>518.75</td>\n",
       "      <td>0.000849</td>\n",
       "    </tr>\n",
       "    <tr>\n",
       "      <th>31</th>\n",
       "      <td>2313.157895</td>\n",
       "      <td>0.000725</td>\n",
       "      <td>518.75</td>\n",
       "      <td>0.000849</td>\n",
       "    </tr>\n",
       "    <tr>\n",
       "      <th>32</th>\n",
       "      <td>2323.684211</td>\n",
       "      <td>0.000811</td>\n",
       "      <td>518.75</td>\n",
       "      <td>0.000849</td>\n",
       "    </tr>\n",
       "    <tr>\n",
       "      <th>33</th>\n",
       "      <td>2331.578947</td>\n",
       "      <td>0.001073</td>\n",
       "      <td>546.25</td>\n",
       "      <td>0.000567</td>\n",
       "    </tr>\n",
       "    <tr>\n",
       "      <th>34</th>\n",
       "      <td>2344.736842</td>\n",
       "      <td>0.000752</td>\n",
       "      <td>546.25</td>\n",
       "      <td>0.000567</td>\n",
       "    </tr>\n",
       "    <tr>\n",
       "      <th>35</th>\n",
       "      <td>2360.526316</td>\n",
       "      <td>0.001090</td>\n",
       "      <td>546.25</td>\n",
       "      <td>0.000567</td>\n",
       "    </tr>\n",
       "    <tr>\n",
       "      <th>36</th>\n",
       "      <td>2381.578947</td>\n",
       "      <td>0.000773</td>\n",
       "      <td>546.25</td>\n",
       "      <td>0.000567</td>\n",
       "    </tr>\n",
       "    <tr>\n",
       "      <th>37</th>\n",
       "      <td>2392.105263</td>\n",
       "      <td>0.000645</td>\n",
       "      <td>600.00</td>\n",
       "      <td>0.001739</td>\n",
       "    </tr>\n",
       "    <tr>\n",
       "      <th>38</th>\n",
       "      <td>2397.368421</td>\n",
       "      <td>0.000891</td>\n",
       "      <td>600.00</td>\n",
       "      <td>0.001739</td>\n",
       "    </tr>\n",
       "    <tr>\n",
       "      <th>39</th>\n",
       "      <td>2952.631579</td>\n",
       "      <td>0.000522</td>\n",
       "      <td>600.00</td>\n",
       "      <td>0.001739</td>\n",
       "    </tr>\n",
       "    <tr>\n",
       "      <th>40</th>\n",
       "      <td>3055.263158</td>\n",
       "      <td>0.000553</td>\n",
       "      <td>600.00</td>\n",
       "      <td>0.001739</td>\n",
       "    </tr>\n",
       "  </tbody>\n",
       "</table>\n",
       "</div>"
      ],
      "text/plain": [
       "     freq_data1  amp_data1  freq_data2  amp_data2\n",
       "0     97.368421   0.000965       31.25   0.000569\n",
       "1    105.263158   0.005521       31.25   0.000569\n",
       "2    110.526316   0.002423       31.25   0.000569\n",
       "3    194.736842   0.001351       31.25   0.000569\n",
       "4    202.631579   0.003517       31.25   0.000569\n",
       "5    210.526316   0.007408       75.00   0.000870\n",
       "6    215.789474   0.005467       75.00   0.000870\n",
       "7    223.684211   0.004954       75.00   0.000870\n",
       "8    228.947368   0.003144       75.00   0.000870\n",
       "9    292.105263   0.001261      127.50   0.000540\n",
       "10   300.000000   0.003322      127.50   0.000540\n",
       "11   307.894737   0.007189      127.50   0.000540\n",
       "12   313.157895   0.007562      127.50   0.000540\n",
       "13   321.052632   0.007083      238.75   0.003074\n",
       "14   328.947368   0.005702      238.75   0.003074\n",
       "15   334.210526   0.003478      238.75   0.003074\n",
       "16   339.473684   0.002441      238.75   0.003074\n",
       "17   344.736842   0.001954      321.25   0.002468\n",
       "18   407.894737   0.001222      321.25   0.002468\n",
       "19   415.789474   0.001716      321.25   0.002468\n",
       "20   426.315789   0.001468      321.25   0.002468\n",
       "21   434.210526   0.001848      393.75   0.000865\n",
       "22   439.473684   0.001371      393.75   0.000865\n",
       "23   513.157895   0.000760      393.75   0.000865\n",
       "24   518.421053   0.000628      393.75   0.000865\n",
       "25   528.947368   0.000575      398.75   0.000924\n",
       "26   539.473684   0.000601      398.75   0.000924\n",
       "27  2239.473684   0.000523      398.75   0.000924\n",
       "28  2257.894737   0.000643      398.75   0.000924\n",
       "29  2265.789474   0.000624      518.75   0.000849\n",
       "30  2278.947368   0.000722      518.75   0.000849\n",
       "31  2313.157895   0.000725      518.75   0.000849\n",
       "32  2323.684211   0.000811      518.75   0.000849\n",
       "33  2331.578947   0.001073      546.25   0.000567\n",
       "34  2344.736842   0.000752      546.25   0.000567\n",
       "35  2360.526316   0.001090      546.25   0.000567\n",
       "36  2381.578947   0.000773      546.25   0.000567\n",
       "37  2392.105263   0.000645      600.00   0.001739\n",
       "38  2397.368421   0.000891      600.00   0.001739\n",
       "39  2952.631579   0.000522      600.00   0.001739\n",
       "40  3055.263158   0.000553      600.00   0.001739"
      ]
     },
     "metadata": {},
     "output_type": "display_data"
    }
   ],
   "source": [
    "import pandas as pd\n",
    "import numpy as np\n",
    "\n",
    "# Function to swap columns\n",
    "def swap_columns(df, cols1, cols2):\n",
    "    temp_df = df.copy()\n",
    "    temp_df[cols1] = df[cols2]\n",
    "    temp_df[cols2] = df[cols1]\n",
    "    return temp_df\n",
    "\n",
    "# Make equal copies of the original DataFram\n",
    "\n",
    "df1_equal = df1.copy()\n",
    "df2_equal = df2.copy()\n",
    "\n",
    "# Determine which DataFrame has fewer rows\n",
    "df_less, df_more = (df1_equal, df2_equal) if len(df1_equal) < len(df2_equal) else (df2_equal, df1_equal)\n",
    "\n",
    "# Rename columns for clarity in the intermediate DataFrames\n",
    "df_less.columns = ['freq_data_less', 'amp_data_less']\n",
    "df_more.columns = ['freq_data_more', 'amp_data_more']\n",
    "\n",
    "# Calculate the repeat counts for each row in df_less\n",
    "repeat_counts = [len(df_more) // len(df_less) + (1 if x < len(df_more) % len(df_less) else 0)  for x in range(len(df_less))]\n",
    "\n",
    "# Repeat each row in df_less according to the calculated repeat counts\n",
    "df_less_repeated = pd.DataFrame(np.repeat(df_less.values, repeat_counts, axis=0), columns=df_less.columns)\n",
    "\n",
    "# Create a new df for final result\n",
    "result_equal = df_more.copy()\n",
    "\n",
    "# Add the repeated df_less values to result_equal\n",
    "result_equal['freq_data_less'] = df_less_repeated['freq_data_less']\n",
    "result_equal['amp_data_less'] = df_less_repeated['amp_data_less']\n",
    "\n",
    "# Rename the columns in the final DataFrame\n",
    "column_mapping = {\n",
    "    'freq_data_more': 'freq_data1', \n",
    "    'amp_data_more': 'amp_data1',\n",
    "    'freq_data_less': 'freq_data2',\n",
    "    'amp_data_less': 'amp_data2'\n",
    "}\n",
    "\n",
    "result_equal = result_equal.rename(columns=column_mapping)\n",
    "\n",
    "# Set this to True if you want to swap the columns\n",
    "should_swap = False\n",
    "\n",
    "# Swap columns if needed\n",
    "if should_swap:\n",
    "    cols_to_swap1 = ['freq_data1', 'amp_data1']\n",
    "    cols_to_swap2 = ['freq_data2', 'amp_data2']\n",
    "    result_equal = swap_columns(result_equal, cols_to_swap1, cols_to_swap2)\n",
    "\n",
    "display(result_equal)\n"
   ]
  },
  {
   "cell_type": "markdown",
   "id": "e2d6773e",
   "metadata": {},
   "source": [
    "**Cumulative distribution function**"
   ]
  },
  {
   "cell_type": "markdown",
   "id": "43c29eff",
   "metadata": {},
   "source": [
    "Cumulative distribution function will be used to spread the values in df with less elements"
   ]
  },
  {
   "cell_type": "markdown",
   "id": "7462543a",
   "metadata": {},
   "source": [
    "Determine valid range for all elements to be included:"
   ]
  },
  {
   "cell_type": "code",
   "execution_count": 5,
   "id": "9c1a3a48",
   "metadata": {},
   "outputs": [
    {
     "name": "stdout",
     "output_type": "stream",
     "text": [
      "Power range: [0.21000000000000002, 1.8900000000000001]\n"
     ]
    }
   ],
   "source": [
    "import pandas as pd\n",
    "import numpy as np\n",
    "\n",
    "# Make copies of the original DataFrames\n",
    "df1_cumuldist = df1.copy()\n",
    "df2_cumuldist = df2.copy()\n",
    "\n",
    "# Determine which DataFrame has fewer rows\n",
    "df_cumuldist_less, df_cumuldist_more = (df1_cumuldist, df2_cumuldist) if len(df1_cumuldist) < len(df2_cumuldist) else (df2_cumuldist, df1_cumuldist)\n",
    "\n",
    "# Rename columns for clarity in the final DataFrame\n",
    "df_cumuldist_less.columns = ['freq_data_less', 'amp_data_less']\n",
    "df_cumuldist_more.columns = ['freq_data_more', 'amp_data_more']\n",
    "\n",
    "def spread_values(df_cumuldist_less, df_cumuldist_more, power):\n",
    "    bins = np.linspace(0, 1, len(df_cumuldist_less))**power\n",
    "    bins[0] = 0\n",
    "    bins[-1] = 1\n",
    "    thresholds = (bins[:-1] + bins[1:]) / 2\n",
    "    df_cumuldist_more_assignment = np.linspace(0, 1, len(df_cumuldist_more), endpoint=False) + 0.5/len(df_cumuldist_more)\n",
    "    df_cumuldist_more_bins = np.digitize(df_cumuldist_more_assignment, thresholds)\n",
    "    df_cumuldist_more_bins = np.where(df_cumuldist_more_bins >= len(df_cumuldist_less), len(df_cumuldist_less)-1, df_cumuldist_more_bins)\n",
    "    df_cumuldist_more_bins[-1] = len(df_cumuldist_less) - 1\n",
    "    df_cumuldist_more_bins[0] = 0\n",
    "    df_cumuldist_more['freq_data_less'] = df_cumuldist_less.freq_data_less.iloc[df_cumuldist_more_bins].values\n",
    "    df_cumuldist_more['amp_data_less'] = df_cumuldist_less.amp_data_less.iloc[df_cumuldist_more_bins].values\n",
    "\n",
    "    # Return True if all df_less values are present in the resulting df_more, and False otherwise\n",
    "    return set(df_cumuldist_less.freq_data_less) <= set(df_cumuldist_more.freq_data_less) and set(df_cumuldist_less.amp_data_less) <= set(df_cumuldist_more.amp_data_less)\n",
    "\n",
    "# Test different power values to find the range that ensures all df_cumuldist_less values are present in df_cumuldist_more\n",
    "power_values = np.linspace(0.01, 100, 10000)\n",
    "valid_powers = [power for power in power_values if spread_values(df_cumuldist_less, df_cumuldist_more.copy(), power)]\n",
    "\n",
    "# The min and max values for power_range\n",
    "power_range = [min(valid_powers), max(valid_powers)]\n",
    "print(\"Power range:\", power_range)\n"
   ]
  },
  {
   "cell_type": "code",
   "execution_count": 6,
   "id": "24766092",
   "metadata": {},
   "outputs": [
    {
     "data": {
      "image/png": "[encoded data removed]",
      "text/plain": [
       "<Figure size 1000x600 with 1 Axes>"
      ]
     },
     "metadata": {},
     "output_type": "display_data"
    }
   ],
   "source": [
    "import matplotlib.pyplot as plt\n",
    "\n",
    "# Assuming power_range has been computed as in your previous code\n",
    "min_power = power_range[0]\n",
    "max_power = power_range[1]\n",
    "\n",
    "# Determine which DataFrame has fewer rows\n",
    "df_less_cumuldist, df_more_cumuldist = (df1.copy(), df2.copy()) if len(df1) < len(df2) else (df2.copy(), df1.copy())\n",
    "\n",
    "# Rename columns for clarity\n",
    "df_less_cumuldist.columns = ['freq_data_less', 'amp_data_less']\n",
    "df_more_cumuldist.columns = ['freq_data_more', 'amp_data_more']\n",
    "\n",
    "# Apply spread_values with min and max power\n",
    "df_more_cumuldist_min = df_more_cumuldist.copy()\n",
    "df_more_cumuldist_max = df_more_cumuldist.copy()\n",
    "spread_values(df_less_cumuldist, df_more_cumuldist_min, min_power)\n",
    "spread_values(df_less_cumuldist, df_more_cumuldist_max, max_power)\n",
    "\n",
    "# Sort frequencies for CDF\n",
    "sorted_freq_min = np.sort(df_more_cumuldist_min['freq_data_less'])\n",
    "sorted_freq_max = np.sort(df_more_cumuldist_max['freq_data_less'])\n",
    "\n",
    "# Create CDF\n",
    "y = np.arange(1, len(sorted_freq_min) + 1) / len(sorted_freq_min)\n",
    "\n",
    "# Plot the CDF for min and max power\n",
    "plt.figure(figsize=(10, 6))\n",
    "plt.plot(sorted_freq_min, y, label=f'Min Power: {min_power}')\n",
    "plt.plot(sorted_freq_max, y, label=f'Max Power: {max_power}')\n",
    "plt.xlabel('Frequency')\n",
    "plt.ylabel('CDF')\n",
    "plt.title('Cumulative Distribution Function for Min and Max Power')\n",
    "plt.legend()\n",
    "plt.grid(True)\n",
    "plt.show()\n"
   ]
  },
  {
   "cell_type": "markdown",
   "id": "e8c7e89f",
   "metadata": {},
   "source": [
    "df merge according to set power value:"
   ]
  },
  {
   "cell_type": "code",
   "execution_count": 7,
   "id": "6fb13819",
   "metadata": {},
   "outputs": [
    {
     "data": {
      "text/html": [
       "<div>\n",
       "<style scoped>\n",
       "    .dataframe tbody tr th:only-of-type {\n",
       "        vertical-align: middle;\n",
       "    }\n",
       "\n",
       "    .dataframe tbody tr th {\n",
       "        vertical-align: top;\n",
       "    }\n",
       "\n",
       "    .dataframe thead th {\n",
       "        text-align: right;\n",
       "    }\n",
       "</style>\n",
       "<table border=\"1\" class=\"dataframe\">\n",
       "  <thead>\n",
       "    <tr style=\"text-align: right;\">\n",
       "      <th></th>\n",
       "      <th>freq_data1</th>\n",
       "      <th>amp_data1</th>\n",
       "      <th>freq_data2</th>\n",
       "      <th>amp_data2</th>\n",
       "    </tr>\n",
       "  </thead>\n",
       "  <tbody>\n",
       "    <tr>\n",
       "      <th>0</th>\n",
       "      <td>31.25</td>\n",
       "      <td>0.000569</td>\n",
       "      <td>97.368421</td>\n",
       "      <td>0.000965</td>\n",
       "    </tr>\n",
       "    <tr>\n",
       "      <th>1</th>\n",
       "      <td>75.00</td>\n",
       "      <td>0.000870</td>\n",
       "      <td>105.263158</td>\n",
       "      <td>0.005521</td>\n",
       "    </tr>\n",
       "    <tr>\n",
       "      <th>2</th>\n",
       "      <td>127.50</td>\n",
       "      <td>0.000540</td>\n",
       "      <td>110.526316</td>\n",
       "      <td>0.002423</td>\n",
       "    </tr>\n",
       "    <tr>\n",
       "      <th>3</th>\n",
       "      <td>127.50</td>\n",
       "      <td>0.000540</td>\n",
       "      <td>194.736842</td>\n",
       "      <td>0.001351</td>\n",
       "    </tr>\n",
       "    <tr>\n",
       "      <th>4</th>\n",
       "      <td>238.75</td>\n",
       "      <td>0.003074</td>\n",
       "      <td>202.631579</td>\n",
       "      <td>0.003517</td>\n",
       "    </tr>\n",
       "    <tr>\n",
       "      <th>5</th>\n",
       "      <td>238.75</td>\n",
       "      <td>0.003074</td>\n",
       "      <td>210.526316</td>\n",
       "      <td>0.007408</td>\n",
       "    </tr>\n",
       "    <tr>\n",
       "      <th>6</th>\n",
       "      <td>238.75</td>\n",
       "      <td>0.003074</td>\n",
       "      <td>215.789474</td>\n",
       "      <td>0.005467</td>\n",
       "    </tr>\n",
       "    <tr>\n",
       "      <th>7</th>\n",
       "      <td>321.25</td>\n",
       "      <td>0.002468</td>\n",
       "      <td>223.684211</td>\n",
       "      <td>0.004954</td>\n",
       "    </tr>\n",
       "    <tr>\n",
       "      <th>8</th>\n",
       "      <td>321.25</td>\n",
       "      <td>0.002468</td>\n",
       "      <td>228.947368</td>\n",
       "      <td>0.003144</td>\n",
       "    </tr>\n",
       "    <tr>\n",
       "      <th>9</th>\n",
       "      <td>321.25</td>\n",
       "      <td>0.002468</td>\n",
       "      <td>292.105263</td>\n",
       "      <td>0.001261</td>\n",
       "    </tr>\n",
       "    <tr>\n",
       "      <th>10</th>\n",
       "      <td>321.25</td>\n",
       "      <td>0.002468</td>\n",
       "      <td>300.000000</td>\n",
       "      <td>0.003322</td>\n",
       "    </tr>\n",
       "    <tr>\n",
       "      <th>11</th>\n",
       "      <td>393.75</td>\n",
       "      <td>0.000865</td>\n",
       "      <td>307.894737</td>\n",
       "      <td>0.007189</td>\n",
       "    </tr>\n",
       "    <tr>\n",
       "      <th>12</th>\n",
       "      <td>393.75</td>\n",
       "      <td>0.000865</td>\n",
       "      <td>313.157895</td>\n",
       "      <td>0.007562</td>\n",
       "    </tr>\n",
       "    <tr>\n",
       "      <th>13</th>\n",
       "      <td>393.75</td>\n",
       "      <td>0.000865</td>\n",
       "      <td>321.052632</td>\n",
       "      <td>0.007083</td>\n",
       "    </tr>\n",
       "    <tr>\n",
       "      <th>14</th>\n",
       "      <td>393.75</td>\n",
       "      <td>0.000865</td>\n",
       "      <td>328.947368</td>\n",
       "      <td>0.005702</td>\n",
       "    </tr>\n",
       "    <tr>\n",
       "      <th>15</th>\n",
       "      <td>393.75</td>\n",
       "      <td>0.000865</td>\n",
       "      <td>334.210526</td>\n",
       "      <td>0.003478</td>\n",
       "    </tr>\n",
       "    <tr>\n",
       "      <th>16</th>\n",
       "      <td>398.75</td>\n",
       "      <td>0.000924</td>\n",
       "      <td>339.473684</td>\n",
       "      <td>0.002441</td>\n",
       "    </tr>\n",
       "    <tr>\n",
       "      <th>17</th>\n",
       "      <td>398.75</td>\n",
       "      <td>0.000924</td>\n",
       "      <td>344.736842</td>\n",
       "      <td>0.001954</td>\n",
       "    </tr>\n",
       "    <tr>\n",
       "      <th>18</th>\n",
       "      <td>398.75</td>\n",
       "      <td>0.000924</td>\n",
       "      <td>407.894737</td>\n",
       "      <td>0.001222</td>\n",
       "    </tr>\n",
       "    <tr>\n",
       "      <th>19</th>\n",
       "      <td>398.75</td>\n",
       "      <td>0.000924</td>\n",
       "      <td>415.789474</td>\n",
       "      <td>0.001716</td>\n",
       "    </tr>\n",
       "    <tr>\n",
       "      <th>20</th>\n",
       "      <td>398.75</td>\n",
       "      <td>0.000924</td>\n",
       "      <td>426.315789</td>\n",
       "      <td>0.001468</td>\n",
       "    </tr>\n",
       "    <tr>\n",
       "      <th>21</th>\n",
       "      <td>398.75</td>\n",
       "      <td>0.000924</td>\n",
       "      <td>434.210526</td>\n",
       "      <td>0.001848</td>\n",
       "    </tr>\n",
       "    <tr>\n",
       "      <th>22</th>\n",
       "      <td>518.75</td>\n",
       "      <td>0.000849</td>\n",
       "      <td>439.473684</td>\n",
       "      <td>0.001371</td>\n",
       "    </tr>\n",
       "    <tr>\n",
       "      <th>23</th>\n",
       "      <td>518.75</td>\n",
       "      <td>0.000849</td>\n",
       "      <td>513.157895</td>\n",
       "      <td>0.000760</td>\n",
       "    </tr>\n",
       "    <tr>\n",
       "      <th>24</th>\n",
       "      <td>518.75</td>\n",
       "      <td>0.000849</td>\n",
       "      <td>518.421053</td>\n",
       "      <td>0.000628</td>\n",
       "    </tr>\n",
       "    <tr>\n",
       "      <th>25</th>\n",
       "      <td>518.75</td>\n",
       "      <td>0.000849</td>\n",
       "      <td>528.947368</td>\n",
       "      <td>0.000575</td>\n",
       "    </tr>\n",
       "    <tr>\n",
       "      <th>26</th>\n",
       "      <td>518.75</td>\n",
       "      <td>0.000849</td>\n",
       "      <td>539.473684</td>\n",
       "      <td>0.000601</td>\n",
       "    </tr>\n",
       "    <tr>\n",
       "      <th>27</th>\n",
       "      <td>518.75</td>\n",
       "      <td>0.000849</td>\n",
       "      <td>2239.473684</td>\n",
       "      <td>0.000523</td>\n",
       "    </tr>\n",
       "    <tr>\n",
       "      <th>28</th>\n",
       "      <td>518.75</td>\n",
       "      <td>0.000849</td>\n",
       "      <td>2257.894737</td>\n",
       "      <td>0.000643</td>\n",
       "    </tr>\n",
       "    <tr>\n",
       "      <th>29</th>\n",
       "      <td>546.25</td>\n",
       "      <td>0.000567</td>\n",
       "      <td>2265.789474</td>\n",
       "      <td>0.000624</td>\n",
       "    </tr>\n",
       "    <tr>\n",
       "      <th>30</th>\n",
       "      <td>546.25</td>\n",
       "      <td>0.000567</td>\n",
       "      <td>2278.947368</td>\n",
       "      <td>0.000722</td>\n",
       "    </tr>\n",
       "    <tr>\n",
       "      <th>31</th>\n",
       "      <td>546.25</td>\n",
       "      <td>0.000567</td>\n",
       "      <td>2313.157895</td>\n",
       "      <td>0.000725</td>\n",
       "    </tr>\n",
       "    <tr>\n",
       "      <th>32</th>\n",
       "      <td>546.25</td>\n",
       "      <td>0.000567</td>\n",
       "      <td>2323.684211</td>\n",
       "      <td>0.000811</td>\n",
       "    </tr>\n",
       "    <tr>\n",
       "      <th>33</th>\n",
       "      <td>546.25</td>\n",
       "      <td>0.000567</td>\n",
       "      <td>2331.578947</td>\n",
       "      <td>0.001073</td>\n",
       "    </tr>\n",
       "    <tr>\n",
       "      <th>34</th>\n",
       "      <td>546.25</td>\n",
       "      <td>0.000567</td>\n",
       "      <td>2344.736842</td>\n",
       "      <td>0.000752</td>\n",
       "    </tr>\n",
       "    <tr>\n",
       "      <th>35</th>\n",
       "      <td>546.25</td>\n",
       "      <td>0.000567</td>\n",
       "      <td>2360.526316</td>\n",
       "      <td>0.001090</td>\n",
       "    </tr>\n",
       "    <tr>\n",
       "      <th>36</th>\n",
       "      <td>546.25</td>\n",
       "      <td>0.000567</td>\n",
       "      <td>2381.578947</td>\n",
       "      <td>0.000773</td>\n",
       "    </tr>\n",
       "    <tr>\n",
       "      <th>37</th>\n",
       "      <td>600.00</td>\n",
       "      <td>0.001739</td>\n",
       "      <td>2392.105263</td>\n",
       "      <td>0.000645</td>\n",
       "    </tr>\n",
       "    <tr>\n",
       "      <th>38</th>\n",
       "      <td>600.00</td>\n",
       "      <td>0.001739</td>\n",
       "      <td>2397.368421</td>\n",
       "      <td>0.000891</td>\n",
       "    </tr>\n",
       "    <tr>\n",
       "      <th>39</th>\n",
       "      <td>600.00</td>\n",
       "      <td>0.001739</td>\n",
       "      <td>2952.631579</td>\n",
       "      <td>0.000522</td>\n",
       "    </tr>\n",
       "    <tr>\n",
       "      <th>40</th>\n",
       "      <td>600.00</td>\n",
       "      <td>0.001739</td>\n",
       "      <td>3055.263158</td>\n",
       "      <td>0.000553</td>\n",
       "    </tr>\n",
       "  </tbody>\n",
       "</table>\n",
       "</div>"
      ],
      "text/plain": [
       "    freq_data1  amp_data1   freq_data2  amp_data2\n",
       "0        31.25   0.000569    97.368421   0.000965\n",
       "1        75.00   0.000870   105.263158   0.005521\n",
       "2       127.50   0.000540   110.526316   0.002423\n",
       "3       127.50   0.000540   194.736842   0.001351\n",
       "4       238.75   0.003074   202.631579   0.003517\n",
       "5       238.75   0.003074   210.526316   0.007408\n",
       "6       238.75   0.003074   215.789474   0.005467\n",
       "7       321.25   0.002468   223.684211   0.004954\n",
       "8       321.25   0.002468   228.947368   0.003144\n",
       "9       321.25   0.002468   292.105263   0.001261\n",
       "10      321.25   0.002468   300.000000   0.003322\n",
       "11      393.75   0.000865   307.894737   0.007189\n",
       "12      393.75   0.000865   313.157895   0.007562\n",
       "13      393.75   0.000865   321.052632   0.007083\n",
       "14      393.75   0.000865   328.947368   0.005702\n",
       "15      393.75   0.000865   334.210526   0.003478\n",
       "16      398.75   0.000924   339.473684   0.002441\n",
       "17      398.75   0.000924   344.736842   0.001954\n",
       "18      398.75   0.000924   407.894737   0.001222\n",
       "19      398.75   0.000924   415.789474   0.001716\n",
       "20      398.75   0.000924   426.315789   0.001468\n",
       "21      398.75   0.000924   434.210526   0.001848\n",
       "22      518.75   0.000849   439.473684   0.001371\n",
       "23      518.75   0.000849   513.157895   0.000760\n",
       "24      518.75   0.000849   518.421053   0.000628\n",
       "25      518.75   0.000849   528.947368   0.000575\n",
       "26      518.75   0.000849   539.473684   0.000601\n",
       "27      518.75   0.000849  2239.473684   0.000523\n",
       "28      518.75   0.000849  2257.894737   0.000643\n",
       "29      546.25   0.000567  2265.789474   0.000624\n",
       "30      546.25   0.000567  2278.947368   0.000722\n",
       "31      546.25   0.000567  2313.157895   0.000725\n",
       "32      546.25   0.000567  2323.684211   0.000811\n",
       "33      546.25   0.000567  2331.578947   0.001073\n",
       "34      546.25   0.000567  2344.736842   0.000752\n",
       "35      546.25   0.000567  2360.526316   0.001090\n",
       "36      546.25   0.000567  2381.578947   0.000773\n",
       "37      600.00   0.001739  2392.105263   0.000645\n",
       "38      600.00   0.001739  2397.368421   0.000891\n",
       "39      600.00   0.001739  2952.631579   0.000522\n",
       "40      600.00   0.001739  3055.263158   0.000553"
      ]
     },
     "metadata": {},
     "output_type": "display_data"
    }
   ],
   "source": [
    "# Initial power value\n",
    "power = 1.89\n",
    "\n",
    "# Function to spread df_less values in df_more\n",
    "def spread_values(df_less, df_more, power):\n",
    "    # Generate the bins for each df_more value\n",
    "    bins = np.linspace(0, 1, len(df_less))**power\n",
    "    bins[0] = 0\n",
    "    bins[-1] = 1\n",
    "    thresholds = (bins[:-1] + bins[1:]) / 2\n",
    "    df_more_assignment = np.linspace(0, 1, len(df_more), endpoint=False) + 0.5/len(df_more)\n",
    "\n",
    "    # Redistribute df_more values to ensure each df_less bin is used at least once\n",
    "    df_more_bins = np.digitize(df_more_assignment, thresholds)\n",
    "\n",
    "    # Correct the bins exceeding the df_less's length\n",
    "    df_more_bins = np.where(df_more_bins >= len(df_less), len(df_less)-1, df_more_bins)\n",
    "\n",
    "    # Make sure the last value of df_more is always assigned to the last value of df_less\n",
    "    df_more_bins[-1] = len(df_less) - 1\n",
    "\n",
    "    # Make sure the first value of df_more is always assigned to the first value of df_less\n",
    "    df_more_bins[0] = 0\n",
    "\n",
    "    # Assign the df_less values to df_more based on the bins\n",
    "    df_more['freq_data_less'] = df_less.freq_data_less.iloc[df_more_bins].values\n",
    "    df_more['amp_data_less'] = df_less.amp_data_less.iloc[df_more_bins].values\n",
    "    return df_more\n",
    "\n",
    "# Determine which DataFrame has fewer rows\n",
    "df_less, df_more = (df1.copy(), df2.copy()) if len(df1) < len(df2) else (df2.copy(), df1.copy())\n",
    "\n",
    "# Rename columns for clarity\n",
    "df_less.columns = ['freq_data_less', 'amp_data_less']\n",
    "df_more.columns = ['freq_data_more', 'amp_data_more']\n",
    "\n",
    "# Spread df_less values in df_more with the initial power\n",
    "df_more_spread = spread_values(df_less, df_more, power)\n",
    "\n",
    "# Set this to True if you want to swap the columns\n",
    "should_swap = False\n",
    "\n",
    "result_cumuldist = df_more_spread[['freq_data_less', 'amp_data_less', 'freq_data_more', 'amp_data_more']]\n",
    "\n",
    "# Swap columns if needed\n",
    "if should_swap:\n",
    "    cols_to_swap1 = ['freq_data_less', 'amp_data_less']\n",
    "    cols_to_swap2 = ['freq_data_more', 'amp_data_more']\n",
    "    result_cumuldist = swap_columns(result_cumuldist, cols_to_swap1, cols_to_swap2)\n",
    "\n",
    "# Rename the columns to the desired names\n",
    "result_cumuldist.columns = ['freq_data1', 'amp_data1', 'freq_data2', 'amp_data2']\n",
    "\n",
    "display(result_cumuldist)\n"
   ]
  },
  {
   "cell_type": "markdown",
   "id": "32f42903",
   "metadata": {},
   "source": [
    " **Sigmoid function distribution**"
   ]
  },
  {
   "cell_type": "markdown",
   "id": "c1f04d60",
   "metadata": {},
   "source": [
    "determine valid range:"
   ]
  },
  {
   "cell_type": "code",
   "execution_count": 10,
   "id": "aeb7b15f",
   "metadata": {},
   "outputs": [
    {
     "name": "stdout",
     "output_type": "stream",
     "text": [
      "Sigmoid range: [1.36, 7.06]\n"
     ]
    }
   ],
   "source": [
    "import pandas as pd\n",
    "import numpy as np\n",
    "from scipy.special import expit\n",
    "\n",
    "def sigmoid_spread(df_sigmoid_less, df_sigmoid_more, sigmoid_range):\n",
    "    # Generate a sigmoid distribution for df_sigmoid_more\n",
    "    num_bins_df_sigmoid_more = df_sigmoid_more.shape[0]\n",
    "    sigmoid_bins_df_sigmoid_more = np.linspace(-6, 6, num_bins_df_sigmoid_more)\n",
    "    sigmoid_distribution_df_sigmoid_more = expit(sigmoid_bins_df_sigmoid_more)\n",
    "\n",
    "    # Generate a sigmoid distribution for df_sigmoid_less\n",
    "    num_bins_df_sigmoid_less = df_sigmoid_less.shape[0]\n",
    "    sigmoid_bins_df_sigmoid_less = np.linspace(-sigmoid_range, sigmoid_range, num_bins_df_sigmoid_less)\n",
    "    sigmoid_distribution_df_sigmoid_less = expit(sigmoid_bins_df_sigmoid_less)\n",
    "\n",
    "    # Create a mapping from bins to df_sigmoid_less values\n",
    "    df_sigmoid_less_bins_to_values = {bin: value for bin, value in zip(sigmoid_distribution_df_sigmoid_less, df_sigmoid_less['freq_data_less'].values)}\n",
    "\n",
    "    # For each value in sigmoid_distribution_df_sigmoid_more, find the closest bin in sigmoid_distribution_df_sigmoid_less and get the corresponding df_sigmoid_less value\n",
    "    df_sigmoid_more_values = [df_sigmoid_less_bins_to_values[min(df_sigmoid_less_bins_to_values.keys(), key=lambda bin: abs(bin - value))] for value in sigmoid_distribution_df_sigmoid_more]\n",
    "\n",
    "    # Return True if all df_sigmoid_less values are present in the resulting df_sigmoid_more, and False otherwise\n",
    "    return set(df_sigmoid_less['freq_data_less'].values) <= set(df_sigmoid_more_values)\n",
    "\n",
    "# Determine which DataFrame has fewer rows\n",
    "df_sigmoid_less, df_sigmoid_more = (df1.copy(), df2.copy()) if len(df1) < len(df2) else (df2.copy(), df1.copy())\n",
    "\n",
    "# Rename columns for clarity\n",
    "df_sigmoid_less.columns = ['freq_data_less', 'amp_data_less']\n",
    "df_sigmoid_more.columns = ['freq_data_more', 'amp_data_more']\n",
    "\n",
    "# Test different sigmoid_range values to find the range that ensures all df_sigmoid_less values are present in df_sigmoid_more\n",
    "sigmoid_range_values = np.linspace(0.01, 100, 10000)\n",
    "valid_sigmoid_ranges = [sigmoid_range for sigmoid_range in sigmoid_range_values if sigmoid_spread(df_sigmoid_less, df_sigmoid_more.copy(), sigmoid_range)]\n",
    "\n",
    "# The min and max values for sigmoid_range\n",
    "sigmoid_range = [min(valid_sigmoid_ranges), max(valid_sigmoid_ranges)]\n",
    "print(\"Sigmoid range:\", sigmoid_range)\n"
   ]
  },
  {
   "cell_type": "code",
   "execution_count": 11,
   "id": "67eb83ac",
   "metadata": {},
   "outputs": [
    {
     "data": {
      "image/png": "[encoded data removed]",
      "text/plain": [
       "<Figure size 1000x600 with 1 Axes>"
      ]
     },
     "metadata": {},
     "output_type": "display_data"
    }
   ],
   "source": [
    "import matplotlib.pyplot as plt\n",
    "from scipy.special import expit\n",
    "\n",
    "# Get min and max frequency values from df_sigmoid_less\n",
    "min_freq = df_sigmoid_less['freq_data_less'].min()\n",
    "max_freq = df_sigmoid_less['freq_data_less'].max()\n",
    "\n",
    "# Generate a sigmoid distribution for the min and max ranges\n",
    "num_bins = 1000  # Set this to the number of bins you want for your plot\n",
    "sigmoid_bins = np.linspace(min_freq, max_freq, num_bins)\n",
    "\n",
    "min_sigmoid_distribution = expit((sigmoid_bins - min_freq) / (max_freq - min_freq) * 12 * sigmoid_range[0] - 6)\n",
    "max_sigmoid_distribution = expit((sigmoid_bins - min_freq) / (max_freq - min_freq) * 12 * sigmoid_range[1] - 6)\n",
    "\n",
    "# Create a new figure and plot the distributions\n",
    "plt.figure(figsize=(10, 6))\n",
    "plt.plot(sigmoid_bins, min_sigmoid_distribution, label='Min Sigmoid Range')\n",
    "plt.plot(sigmoid_bins, max_sigmoid_distribution, label='Max Sigmoid Range')\n",
    "plt.title('Sigmoid Distribution for Min and Max Ranges')\n",
    "plt.xlabel('Frequency (Hz)')\n",
    "plt.ylabel('Cumulative Distribution')\n",
    "plt.legend()\n",
    "plt.grid()\n",
    "plt.show()\n"
   ]
  },
  {
   "cell_type": "markdown",
   "id": "70cd2033",
   "metadata": {},
   "source": [
    "df merge according to set sigmoid range:"
   ]
  },
  {
   "cell_type": "code",
   "execution_count": 16,
   "id": "56cdf68f",
   "metadata": {},
   "outputs": [
    {
     "data": {
      "text/html": [
       "<div>\n",
       "<style scoped>\n",
       "    .dataframe tbody tr th:only-of-type {\n",
       "        vertical-align: middle;\n",
       "    }\n",
       "\n",
       "    .dataframe tbody tr th {\n",
       "        vertical-align: top;\n",
       "    }\n",
       "\n",
       "    .dataframe thead th {\n",
       "        text-align: right;\n",
       "    }\n",
       "</style>\n",
       "<table border=\"1\" class=\"dataframe\">\n",
       "  <thead>\n",
       "    <tr style=\"text-align: right;\">\n",
       "      <th></th>\n",
       "      <th>freq_data2</th>\n",
       "      <th>amp_data2</th>\n",
       "      <th>freq_data1</th>\n",
       "      <th>amp_data1</th>\n",
       "    </tr>\n",
       "  </thead>\n",
       "  <tbody>\n",
       "    <tr>\n",
       "      <th>0</th>\n",
       "      <td>97.368421</td>\n",
       "      <td>0.000965</td>\n",
       "      <td>31.25</td>\n",
       "      <td>0.000569</td>\n",
       "    </tr>\n",
       "    <tr>\n",
       "      <th>1</th>\n",
       "      <td>105.263158</td>\n",
       "      <td>0.005521</td>\n",
       "      <td>31.25</td>\n",
       "      <td>0.000569</td>\n",
       "    </tr>\n",
       "    <tr>\n",
       "      <th>2</th>\n",
       "      <td>110.526316</td>\n",
       "      <td>0.002423</td>\n",
       "      <td>31.25</td>\n",
       "      <td>0.000569</td>\n",
       "    </tr>\n",
       "    <tr>\n",
       "      <th>3</th>\n",
       "      <td>194.736842</td>\n",
       "      <td>0.001351</td>\n",
       "      <td>31.25</td>\n",
       "      <td>0.000569</td>\n",
       "    </tr>\n",
       "    <tr>\n",
       "      <th>4</th>\n",
       "      <td>202.631579</td>\n",
       "      <td>0.003517</td>\n",
       "      <td>31.25</td>\n",
       "      <td>0.000569</td>\n",
       "    </tr>\n",
       "    <tr>\n",
       "      <th>5</th>\n",
       "      <td>210.526316</td>\n",
       "      <td>0.007408</td>\n",
       "      <td>31.25</td>\n",
       "      <td>0.000569</td>\n",
       "    </tr>\n",
       "    <tr>\n",
       "      <th>6</th>\n",
       "      <td>215.789474</td>\n",
       "      <td>0.005467</td>\n",
       "      <td>31.25</td>\n",
       "      <td>0.000569</td>\n",
       "    </tr>\n",
       "    <tr>\n",
       "      <th>7</th>\n",
       "      <td>223.684211</td>\n",
       "      <td>0.004954</td>\n",
       "      <td>31.25</td>\n",
       "      <td>0.000569</td>\n",
       "    </tr>\n",
       "    <tr>\n",
       "      <th>8</th>\n",
       "      <td>228.947368</td>\n",
       "      <td>0.003144</td>\n",
       "      <td>31.25</td>\n",
       "      <td>0.000569</td>\n",
       "    </tr>\n",
       "    <tr>\n",
       "      <th>9</th>\n",
       "      <td>292.105263</td>\n",
       "      <td>0.001261</td>\n",
       "      <td>31.25</td>\n",
       "      <td>0.000569</td>\n",
       "    </tr>\n",
       "    <tr>\n",
       "      <th>10</th>\n",
       "      <td>300.000000</td>\n",
       "      <td>0.003322</td>\n",
       "      <td>31.25</td>\n",
       "      <td>0.000569</td>\n",
       "    </tr>\n",
       "    <tr>\n",
       "      <th>11</th>\n",
       "      <td>307.894737</td>\n",
       "      <td>0.007189</td>\n",
       "      <td>31.25</td>\n",
       "      <td>0.000569</td>\n",
       "    </tr>\n",
       "    <tr>\n",
       "      <th>12</th>\n",
       "      <td>313.157895</td>\n",
       "      <td>0.007562</td>\n",
       "      <td>31.25</td>\n",
       "      <td>0.000569</td>\n",
       "    </tr>\n",
       "    <tr>\n",
       "      <th>13</th>\n",
       "      <td>321.052632</td>\n",
       "      <td>0.007083</td>\n",
       "      <td>31.25</td>\n",
       "      <td>0.000569</td>\n",
       "    </tr>\n",
       "    <tr>\n",
       "      <th>14</th>\n",
       "      <td>328.947368</td>\n",
       "      <td>0.005702</td>\n",
       "      <td>31.25</td>\n",
       "      <td>0.000569</td>\n",
       "    </tr>\n",
       "    <tr>\n",
       "      <th>15</th>\n",
       "      <td>334.210526</td>\n",
       "      <td>0.003478</td>\n",
       "      <td>31.25</td>\n",
       "      <td>0.000569</td>\n",
       "    </tr>\n",
       "    <tr>\n",
       "      <th>16</th>\n",
       "      <td>339.473684</td>\n",
       "      <td>0.002441</td>\n",
       "      <td>75.00</td>\n",
       "      <td>0.000870</td>\n",
       "    </tr>\n",
       "    <tr>\n",
       "      <th>17</th>\n",
       "      <td>344.736842</td>\n",
       "      <td>0.001954</td>\n",
       "      <td>127.50</td>\n",
       "      <td>0.000540</td>\n",
       "    </tr>\n",
       "    <tr>\n",
       "      <th>18</th>\n",
       "      <td>407.894737</td>\n",
       "      <td>0.001222</td>\n",
       "      <td>238.75</td>\n",
       "      <td>0.003074</td>\n",
       "    </tr>\n",
       "    <tr>\n",
       "      <th>19</th>\n",
       "      <td>415.789474</td>\n",
       "      <td>0.001716</td>\n",
       "      <td>321.25</td>\n",
       "      <td>0.002468</td>\n",
       "    </tr>\n",
       "    <tr>\n",
       "      <th>20</th>\n",
       "      <td>426.315789</td>\n",
       "      <td>0.001468</td>\n",
       "      <td>321.25</td>\n",
       "      <td>0.002468</td>\n",
       "    </tr>\n",
       "    <tr>\n",
       "      <th>21</th>\n",
       "      <td>434.210526</td>\n",
       "      <td>0.001848</td>\n",
       "      <td>393.75</td>\n",
       "      <td>0.000865</td>\n",
       "    </tr>\n",
       "    <tr>\n",
       "      <th>22</th>\n",
       "      <td>439.473684</td>\n",
       "      <td>0.001371</td>\n",
       "      <td>398.75</td>\n",
       "      <td>0.000924</td>\n",
       "    </tr>\n",
       "    <tr>\n",
       "      <th>23</th>\n",
       "      <td>513.157895</td>\n",
       "      <td>0.000760</td>\n",
       "      <td>518.75</td>\n",
       "      <td>0.000849</td>\n",
       "    </tr>\n",
       "    <tr>\n",
       "      <th>24</th>\n",
       "      <td>518.421053</td>\n",
       "      <td>0.000628</td>\n",
       "      <td>546.25</td>\n",
       "      <td>0.000567</td>\n",
       "    </tr>\n",
       "    <tr>\n",
       "      <th>25</th>\n",
       "      <td>528.947368</td>\n",
       "      <td>0.000575</td>\n",
       "      <td>600.00</td>\n",
       "      <td>0.001739</td>\n",
       "    </tr>\n",
       "    <tr>\n",
       "      <th>26</th>\n",
       "      <td>539.473684</td>\n",
       "      <td>0.000601</td>\n",
       "      <td>600.00</td>\n",
       "      <td>0.001739</td>\n",
       "    </tr>\n",
       "    <tr>\n",
       "      <th>27</th>\n",
       "      <td>2239.473684</td>\n",
       "      <td>0.000523</td>\n",
       "      <td>600.00</td>\n",
       "      <td>0.001739</td>\n",
       "    </tr>\n",
       "    <tr>\n",
       "      <th>28</th>\n",
       "      <td>2257.894737</td>\n",
       "      <td>0.000643</td>\n",
       "      <td>600.00</td>\n",
       "      <td>0.001739</td>\n",
       "    </tr>\n",
       "    <tr>\n",
       "      <th>29</th>\n",
       "      <td>2265.789474</td>\n",
       "      <td>0.000624</td>\n",
       "      <td>600.00</td>\n",
       "      <td>0.001739</td>\n",
       "    </tr>\n",
       "    <tr>\n",
       "      <th>30</th>\n",
       "      <td>2278.947368</td>\n",
       "      <td>0.000722</td>\n",
       "      <td>600.00</td>\n",
       "      <td>0.001739</td>\n",
       "    </tr>\n",
       "    <tr>\n",
       "      <th>31</th>\n",
       "      <td>2313.157895</td>\n",
       "      <td>0.000725</td>\n",
       "      <td>600.00</td>\n",
       "      <td>0.001739</td>\n",
       "    </tr>\n",
       "    <tr>\n",
       "      <th>32</th>\n",
       "      <td>2323.684211</td>\n",
       "      <td>0.000811</td>\n",
       "      <td>600.00</td>\n",
       "      <td>0.001739</td>\n",
       "    </tr>\n",
       "    <tr>\n",
       "      <th>33</th>\n",
       "      <td>2331.578947</td>\n",
       "      <td>0.001073</td>\n",
       "      <td>600.00</td>\n",
       "      <td>0.001739</td>\n",
       "    </tr>\n",
       "    <tr>\n",
       "      <th>34</th>\n",
       "      <td>2344.736842</td>\n",
       "      <td>0.000752</td>\n",
       "      <td>600.00</td>\n",
       "      <td>0.001739</td>\n",
       "    </tr>\n",
       "    <tr>\n",
       "      <th>35</th>\n",
       "      <td>2360.526316</td>\n",
       "      <td>0.001090</td>\n",
       "      <td>600.00</td>\n",
       "      <td>0.001739</td>\n",
       "    </tr>\n",
       "    <tr>\n",
       "      <th>36</th>\n",
       "      <td>2381.578947</td>\n",
       "      <td>0.000773</td>\n",
       "      <td>600.00</td>\n",
       "      <td>0.001739</td>\n",
       "    </tr>\n",
       "    <tr>\n",
       "      <th>37</th>\n",
       "      <td>2392.105263</td>\n",
       "      <td>0.000645</td>\n",
       "      <td>600.00</td>\n",
       "      <td>0.001739</td>\n",
       "    </tr>\n",
       "    <tr>\n",
       "      <th>38</th>\n",
       "      <td>2397.368421</td>\n",
       "      <td>0.000891</td>\n",
       "      <td>600.00</td>\n",
       "      <td>0.001739</td>\n",
       "    </tr>\n",
       "    <tr>\n",
       "      <th>39</th>\n",
       "      <td>2952.631579</td>\n",
       "      <td>0.000522</td>\n",
       "      <td>600.00</td>\n",
       "      <td>0.001739</td>\n",
       "    </tr>\n",
       "    <tr>\n",
       "      <th>40</th>\n",
       "      <td>3055.263158</td>\n",
       "      <td>0.000553</td>\n",
       "      <td>600.00</td>\n",
       "      <td>0.001739</td>\n",
       "    </tr>\n",
       "  </tbody>\n",
       "</table>\n",
       "</div>"
      ],
      "text/plain": [
       "     freq_data2  amp_data2  freq_data1  amp_data1\n",
       "0     97.368421   0.000965       31.25   0.000569\n",
       "1    105.263158   0.005521       31.25   0.000569\n",
       "2    110.526316   0.002423       31.25   0.000569\n",
       "3    194.736842   0.001351       31.25   0.000569\n",
       "4    202.631579   0.003517       31.25   0.000569\n",
       "5    210.526316   0.007408       31.25   0.000569\n",
       "6    215.789474   0.005467       31.25   0.000569\n",
       "7    223.684211   0.004954       31.25   0.000569\n",
       "8    228.947368   0.003144       31.25   0.000569\n",
       "9    292.105263   0.001261       31.25   0.000569\n",
       "10   300.000000   0.003322       31.25   0.000569\n",
       "11   307.894737   0.007189       31.25   0.000569\n",
       "12   313.157895   0.007562       31.25   0.000569\n",
       "13   321.052632   0.007083       31.25   0.000569\n",
       "14   328.947368   0.005702       31.25   0.000569\n",
       "15   334.210526   0.003478       31.25   0.000569\n",
       "16   339.473684   0.002441       75.00   0.000870\n",
       "17   344.736842   0.001954      127.50   0.000540\n",
       "18   407.894737   0.001222      238.75   0.003074\n",
       "19   415.789474   0.001716      321.25   0.002468\n",
       "20   426.315789   0.001468      321.25   0.002468\n",
       "21   434.210526   0.001848      393.75   0.000865\n",
       "22   439.473684   0.001371      398.75   0.000924\n",
       "23   513.157895   0.000760      518.75   0.000849\n",
       "24   518.421053   0.000628      546.25   0.000567\n",
       "25   528.947368   0.000575      600.00   0.001739\n",
       "26   539.473684   0.000601      600.00   0.001739\n",
       "27  2239.473684   0.000523      600.00   0.001739\n",
       "28  2257.894737   0.000643      600.00   0.001739\n",
       "29  2265.789474   0.000624      600.00   0.001739\n",
       "30  2278.947368   0.000722      600.00   0.001739\n",
       "31  2313.157895   0.000725      600.00   0.001739\n",
       "32  2323.684211   0.000811      600.00   0.001739\n",
       "33  2331.578947   0.001073      600.00   0.001739\n",
       "34  2344.736842   0.000752      600.00   0.001739\n",
       "35  2360.526316   0.001090      600.00   0.001739\n",
       "36  2381.578947   0.000773      600.00   0.001739\n",
       "37  2392.105263   0.000645      600.00   0.001739\n",
       "38  2397.368421   0.000891      600.00   0.001739\n",
       "39  2952.631579   0.000522      600.00   0.001739\n",
       "40  3055.263158   0.000553      600.00   0.001739"
      ]
     },
     "metadata": {},
     "output_type": "display_data"
    }
   ],
   "source": [
    "# Set the sigmoid range\n",
    "sigmoid_range = 1.37 # Set this to control the range of the sigmoid function for df_sigmoid_less\n",
    "\n",
    "# Generate a sigmoid distribution for df_sigmoid_less\n",
    "num_bins_df_less = df_sigmoid_less.shape[0]\n",
    "sigmoid_bins_df_less = np.linspace(-sigmoid_range, sigmoid_range, num_bins_df_less)\n",
    "sigmoid_distribution_df_less = expit(sigmoid_bins_df_less)\n",
    "\n",
    "# Create a mapping from bins to df_sigmoid_less values\n",
    "df_less_bins_to_values = {bin: value for bin, value in zip(sigmoid_distribution_df_less, df_sigmoid_less['freq_data_less'].values)}\n",
    "\n",
    "# Generate a sigmoid distribution for df_sigmoid_more\n",
    "num_bins_df_more = df_sigmoid_more.shape[0]  # Set this to the number of bins you want for df_sigmoid_more\n",
    "sigmoid_bins_df_more = np.linspace(-6, 6, num_bins_df_more)\n",
    "sigmoid_distribution_df_more = expit(sigmoid_bins_df_more)\n",
    "\n",
    "# For each value in sigmoid_distribution_df_more, find the closest bin in sigmoid_distribution_df_less and get the corresponding df_sigmoid_less value\n",
    "df_more_values = [df_less_bins_to_values[min(df_less_bins_to_values.keys(), key=lambda bin: abs(bin - value))] for value in sigmoid_distribution_df_more]\n",
    "\n",
    "# Add these values to df_sigmoid_more\n",
    "df_sigmoid_more['freq_data_less'] = df_more_values\n",
    "df_sigmoid_more['amp_data_less'] = df_sigmoid_less.set_index('freq_data_less').loc[df_sigmoid_more['freq_data_less']]['amp_data_less'].values\n",
    "\n",
    "# Set this to True if you want to swap the columns\n",
    "should_swap = True\n",
    "\n",
    "# Define the final DataFrame\n",
    "result_sigmoid = df_sigmoid_more[['freq_data_less', 'amp_data_less', 'freq_data_more', 'amp_data_more']]\n",
    "\n",
    "# Swap columns if needed\n",
    "if should_swap:\n",
    "    cols_to_swap1 = ['freq_data_less', 'amp_data_less']\n",
    "    cols_to_swap2 = ['freq_data_more', 'amp_data_more']\n",
    "    result_sigmoid = swap_columns(result_sigmoid, cols_to_swap1, cols_to_swap2)\n",
    "\n",
    "# Rename the columns in the final DataFrame\n",
    "column_mapping = {\n",
    "    'freq_data_more': 'freq_data1', \n",
    "    'amp_data_more': 'amp_data1',\n",
    "    'freq_data_less': 'freq_data2',\n",
    "    'amp_data_less': 'amp_data2'\n",
    "}\n",
    "\n",
    "result_sigmoid = result_sigmoid.rename(columns=column_mapping)\n",
    "\n",
    "display(result_sigmoid)\n"
   ]
  },
  {
   "cell_type": "markdown",
   "id": "7d2d6265-2c34-47ca-a00d-064a1e1bbe6b",
   "metadata": {},
   "source": [
    "Add vlue for transition duration"
   ]
  },
  {
   "cell_type": "code",
   "execution_count": 17,
   "id": "e4911e0f-fde2-4720-873e-bd8e0f82d099",
   "metadata": {},
   "outputs": [
    {
     "data": {
      "text/html": [
       "<div>\n",
       "<style scoped>\n",
       "    .dataframe tbody tr th:only-of-type {\n",
       "        vertical-align: middle;\n",
       "    }\n",
       "\n",
       "    .dataframe tbody tr th {\n",
       "        vertical-align: top;\n",
       "    }\n",
       "\n",
       "    .dataframe thead th {\n",
       "        text-align: right;\n",
       "    }\n",
       "</style>\n",
       "<table border=\"1\" class=\"dataframe\">\n",
       "  <thead>\n",
       "    <tr style=\"text-align: right;\">\n",
       "      <th></th>\n",
       "      <th>freq_start</th>\n",
       "      <th>freq_stop</th>\n",
       "      <th>time_start</th>\n",
       "      <th>time_stop</th>\n",
       "      <th>amp_min</th>\n",
       "      <th>amp_max</th>\n",
       "    </tr>\n",
       "  </thead>\n",
       "  <tbody>\n",
       "    <tr>\n",
       "      <th>0</th>\n",
       "      <td>31.25</td>\n",
       "      <td>97.368421</td>\n",
       "      <td>0.0</td>\n",
       "      <td>15.0</td>\n",
       "      <td>0.185020</td>\n",
       "      <td>0.127585</td>\n",
       "    </tr>\n",
       "    <tr>\n",
       "      <th>1</th>\n",
       "      <td>31.25</td>\n",
       "      <td>105.263158</td>\n",
       "      <td>0.0</td>\n",
       "      <td>15.0</td>\n",
       "      <td>0.185020</td>\n",
       "      <td>0.730145</td>\n",
       "    </tr>\n",
       "    <tr>\n",
       "      <th>2</th>\n",
       "      <td>31.25</td>\n",
       "      <td>110.526316</td>\n",
       "      <td>0.0</td>\n",
       "      <td>15.0</td>\n",
       "      <td>0.185020</td>\n",
       "      <td>0.320386</td>\n",
       "    </tr>\n",
       "    <tr>\n",
       "      <th>3</th>\n",
       "      <td>31.25</td>\n",
       "      <td>194.736842</td>\n",
       "      <td>0.0</td>\n",
       "      <td>15.0</td>\n",
       "      <td>0.185020</td>\n",
       "      <td>0.178615</td>\n",
       "    </tr>\n",
       "    <tr>\n",
       "      <th>4</th>\n",
       "      <td>31.25</td>\n",
       "      <td>202.631579</td>\n",
       "      <td>0.0</td>\n",
       "      <td>15.0</td>\n",
       "      <td>0.185020</td>\n",
       "      <td>0.465142</td>\n",
       "    </tr>\n",
       "    <tr>\n",
       "      <th>5</th>\n",
       "      <td>31.25</td>\n",
       "      <td>210.526316</td>\n",
       "      <td>0.0</td>\n",
       "      <td>15.0</td>\n",
       "      <td>0.185020</td>\n",
       "      <td>0.979685</td>\n",
       "    </tr>\n",
       "    <tr>\n",
       "      <th>6</th>\n",
       "      <td>31.25</td>\n",
       "      <td>215.789474</td>\n",
       "      <td>0.0</td>\n",
       "      <td>15.0</td>\n",
       "      <td>0.185020</td>\n",
       "      <td>0.722938</td>\n",
       "    </tr>\n",
       "    <tr>\n",
       "      <th>7</th>\n",
       "      <td>31.25</td>\n",
       "      <td>223.684211</td>\n",
       "      <td>0.0</td>\n",
       "      <td>15.0</td>\n",
       "      <td>0.185020</td>\n",
       "      <td>0.655112</td>\n",
       "    </tr>\n",
       "    <tr>\n",
       "      <th>8</th>\n",
       "      <td>31.25</td>\n",
       "      <td>228.947368</td>\n",
       "      <td>0.0</td>\n",
       "      <td>15.0</td>\n",
       "      <td>0.185020</td>\n",
       "      <td>0.415782</td>\n",
       "    </tr>\n",
       "    <tr>\n",
       "      <th>9</th>\n",
       "      <td>31.25</td>\n",
       "      <td>292.105263</td>\n",
       "      <td>0.0</td>\n",
       "      <td>15.0</td>\n",
       "      <td>0.185020</td>\n",
       "      <td>0.166797</td>\n",
       "    </tr>\n",
       "    <tr>\n",
       "      <th>10</th>\n",
       "      <td>31.25</td>\n",
       "      <td>300.000000</td>\n",
       "      <td>0.0</td>\n",
       "      <td>15.0</td>\n",
       "      <td>0.185020</td>\n",
       "      <td>0.439353</td>\n",
       "    </tr>\n",
       "    <tr>\n",
       "      <th>11</th>\n",
       "      <td>31.25</td>\n",
       "      <td>307.894737</td>\n",
       "      <td>0.0</td>\n",
       "      <td>15.0</td>\n",
       "      <td>0.185020</td>\n",
       "      <td>0.950638</td>\n",
       "    </tr>\n",
       "    <tr>\n",
       "      <th>12</th>\n",
       "      <td>31.25</td>\n",
       "      <td>313.157895</td>\n",
       "      <td>0.0</td>\n",
       "      <td>15.0</td>\n",
       "      <td>0.185020</td>\n",
       "      <td>1.000000</td>\n",
       "    </tr>\n",
       "    <tr>\n",
       "      <th>13</th>\n",
       "      <td>31.25</td>\n",
       "      <td>321.052632</td>\n",
       "      <td>0.0</td>\n",
       "      <td>15.0</td>\n",
       "      <td>0.185020</td>\n",
       "      <td>0.936703</td>\n",
       "    </tr>\n",
       "    <tr>\n",
       "      <th>14</th>\n",
       "      <td>31.25</td>\n",
       "      <td>328.947368</td>\n",
       "      <td>0.0</td>\n",
       "      <td>15.0</td>\n",
       "      <td>0.185020</td>\n",
       "      <td>0.754020</td>\n",
       "    </tr>\n",
       "    <tr>\n",
       "      <th>15</th>\n",
       "      <td>31.25</td>\n",
       "      <td>334.210526</td>\n",
       "      <td>0.0</td>\n",
       "      <td>15.0</td>\n",
       "      <td>0.185020</td>\n",
       "      <td>0.459896</td>\n",
       "    </tr>\n",
       "    <tr>\n",
       "      <th>16</th>\n",
       "      <td>75.00</td>\n",
       "      <td>339.473684</td>\n",
       "      <td>0.0</td>\n",
       "      <td>15.0</td>\n",
       "      <td>0.283141</td>\n",
       "      <td>0.322809</td>\n",
       "    </tr>\n",
       "    <tr>\n",
       "      <th>17</th>\n",
       "      <td>127.50</td>\n",
       "      <td>344.736842</td>\n",
       "      <td>0.0</td>\n",
       "      <td>15.0</td>\n",
       "      <td>0.175785</td>\n",
       "      <td>0.258359</td>\n",
       "    </tr>\n",
       "    <tr>\n",
       "      <th>18</th>\n",
       "      <td>238.75</td>\n",
       "      <td>407.894737</td>\n",
       "      <td>0.0</td>\n",
       "      <td>15.0</td>\n",
       "      <td>1.000000</td>\n",
       "      <td>0.161538</td>\n",
       "    </tr>\n",
       "    <tr>\n",
       "      <th>19</th>\n",
       "      <td>321.25</td>\n",
       "      <td>415.789474</td>\n",
       "      <td>0.0</td>\n",
       "      <td>15.0</td>\n",
       "      <td>0.803007</td>\n",
       "      <td>0.226979</td>\n",
       "    </tr>\n",
       "    <tr>\n",
       "      <th>20</th>\n",
       "      <td>321.25</td>\n",
       "      <td>426.315789</td>\n",
       "      <td>0.0</td>\n",
       "      <td>15.0</td>\n",
       "      <td>0.803007</td>\n",
       "      <td>0.194080</td>\n",
       "    </tr>\n",
       "    <tr>\n",
       "      <th>21</th>\n",
       "      <td>393.75</td>\n",
       "      <td>434.210526</td>\n",
       "      <td>0.0</td>\n",
       "      <td>15.0</td>\n",
       "      <td>0.281394</td>\n",
       "      <td>0.244340</td>\n",
       "    </tr>\n",
       "    <tr>\n",
       "      <th>22</th>\n",
       "      <td>398.75</td>\n",
       "      <td>439.473684</td>\n",
       "      <td>0.0</td>\n",
       "      <td>15.0</td>\n",
       "      <td>0.300508</td>\n",
       "      <td>0.181338</td>\n",
       "    </tr>\n",
       "    <tr>\n",
       "      <th>23</th>\n",
       "      <td>518.75</td>\n",
       "      <td>513.157895</td>\n",
       "      <td>0.0</td>\n",
       "      <td>15.0</td>\n",
       "      <td>0.276124</td>\n",
       "      <td>0.100544</td>\n",
       "    </tr>\n",
       "    <tr>\n",
       "      <th>24</th>\n",
       "      <td>546.25</td>\n",
       "      <td>518.421053</td>\n",
       "      <td>0.0</td>\n",
       "      <td>15.0</td>\n",
       "      <td>0.184427</td>\n",
       "      <td>0.083036</td>\n",
       "    </tr>\n",
       "    <tr>\n",
       "      <th>25</th>\n",
       "      <td>600.00</td>\n",
       "      <td>528.947368</td>\n",
       "      <td>0.0</td>\n",
       "      <td>15.0</td>\n",
       "      <td>0.565752</td>\n",
       "      <td>0.076028</td>\n",
       "    </tr>\n",
       "    <tr>\n",
       "      <th>26</th>\n",
       "      <td>600.00</td>\n",
       "      <td>539.473684</td>\n",
       "      <td>0.0</td>\n",
       "      <td>15.0</td>\n",
       "      <td>0.565752</td>\n",
       "      <td>0.079446</td>\n",
       "    </tr>\n",
       "    <tr>\n",
       "      <th>27</th>\n",
       "      <td>600.00</td>\n",
       "      <td>2239.473684</td>\n",
       "      <td>0.0</td>\n",
       "      <td>15.0</td>\n",
       "      <td>0.565752</td>\n",
       "      <td>0.069116</td>\n",
       "    </tr>\n",
       "    <tr>\n",
       "      <th>28</th>\n",
       "      <td>600.00</td>\n",
       "      <td>2257.894737</td>\n",
       "      <td>0.0</td>\n",
       "      <td>15.0</td>\n",
       "      <td>0.565752</td>\n",
       "      <td>0.085050</td>\n",
       "    </tr>\n",
       "    <tr>\n",
       "      <th>29</th>\n",
       "      <td>600.00</td>\n",
       "      <td>2265.789474</td>\n",
       "      <td>0.0</td>\n",
       "      <td>15.0</td>\n",
       "      <td>0.565752</td>\n",
       "      <td>0.082493</td>\n",
       "    </tr>\n",
       "    <tr>\n",
       "      <th>30</th>\n",
       "      <td>600.00</td>\n",
       "      <td>2278.947368</td>\n",
       "      <td>0.0</td>\n",
       "      <td>15.0</td>\n",
       "      <td>0.565752</td>\n",
       "      <td>0.095420</td>\n",
       "    </tr>\n",
       "    <tr>\n",
       "      <th>31</th>\n",
       "      <td>600.00</td>\n",
       "      <td>2313.157895</td>\n",
       "      <td>0.0</td>\n",
       "      <td>15.0</td>\n",
       "      <td>0.565752</td>\n",
       "      <td>0.095903</td>\n",
       "    </tr>\n",
       "    <tr>\n",
       "      <th>32</th>\n",
       "      <td>600.00</td>\n",
       "      <td>2323.684211</td>\n",
       "      <td>0.0</td>\n",
       "      <td>15.0</td>\n",
       "      <td>0.565752</td>\n",
       "      <td>0.107301</td>\n",
       "    </tr>\n",
       "    <tr>\n",
       "      <th>33</th>\n",
       "      <td>600.00</td>\n",
       "      <td>2331.578947</td>\n",
       "      <td>0.0</td>\n",
       "      <td>15.0</td>\n",
       "      <td>0.565752</td>\n",
       "      <td>0.141878</td>\n",
       "    </tr>\n",
       "    <tr>\n",
       "      <th>34</th>\n",
       "      <td>600.00</td>\n",
       "      <td>2344.736842</td>\n",
       "      <td>0.0</td>\n",
       "      <td>15.0</td>\n",
       "      <td>0.565752</td>\n",
       "      <td>0.099388</td>\n",
       "    </tr>\n",
       "    <tr>\n",
       "      <th>35</th>\n",
       "      <td>600.00</td>\n",
       "      <td>2360.526316</td>\n",
       "      <td>0.0</td>\n",
       "      <td>15.0</td>\n",
       "      <td>0.565752</td>\n",
       "      <td>0.144163</td>\n",
       "    </tr>\n",
       "    <tr>\n",
       "      <th>36</th>\n",
       "      <td>600.00</td>\n",
       "      <td>2381.578947</td>\n",
       "      <td>0.0</td>\n",
       "      <td>15.0</td>\n",
       "      <td>0.565752</td>\n",
       "      <td>0.102225</td>\n",
       "    </tr>\n",
       "    <tr>\n",
       "      <th>37</th>\n",
       "      <td>600.00</td>\n",
       "      <td>2392.105263</td>\n",
       "      <td>0.0</td>\n",
       "      <td>15.0</td>\n",
       "      <td>0.565752</td>\n",
       "      <td>0.085328</td>\n",
       "    </tr>\n",
       "    <tr>\n",
       "      <th>38</th>\n",
       "      <td>600.00</td>\n",
       "      <td>2397.368421</td>\n",
       "      <td>0.0</td>\n",
       "      <td>15.0</td>\n",
       "      <td>0.565752</td>\n",
       "      <td>0.117852</td>\n",
       "    </tr>\n",
       "    <tr>\n",
       "      <th>39</th>\n",
       "      <td>600.00</td>\n",
       "      <td>2952.631579</td>\n",
       "      <td>0.0</td>\n",
       "      <td>15.0</td>\n",
       "      <td>0.565752</td>\n",
       "      <td>0.069060</td>\n",
       "    </tr>\n",
       "    <tr>\n",
       "      <th>40</th>\n",
       "      <td>600.00</td>\n",
       "      <td>3055.263158</td>\n",
       "      <td>0.0</td>\n",
       "      <td>15.0</td>\n",
       "      <td>0.565752</td>\n",
       "      <td>0.073150</td>\n",
       "    </tr>\n",
       "  </tbody>\n",
       "</table>\n",
       "</div>"
      ],
      "text/plain": [
       "    freq_start    freq_stop  time_start  time_stop   amp_min   amp_max\n",
       "0        31.25    97.368421         0.0       15.0  0.185020  0.127585\n",
       "1        31.25   105.263158         0.0       15.0  0.185020  0.730145\n",
       "2        31.25   110.526316         0.0       15.0  0.185020  0.320386\n",
       "3        31.25   194.736842         0.0       15.0  0.185020  0.178615\n",
       "4        31.25   202.631579         0.0       15.0  0.185020  0.465142\n",
       "5        31.25   210.526316         0.0       15.0  0.185020  0.979685\n",
       "6        31.25   215.789474         0.0       15.0  0.185020  0.722938\n",
       "7        31.25   223.684211         0.0       15.0  0.185020  0.655112\n",
       "8        31.25   228.947368         0.0       15.0  0.185020  0.415782\n",
       "9        31.25   292.105263         0.0       15.0  0.185020  0.166797\n",
       "10       31.25   300.000000         0.0       15.0  0.185020  0.439353\n",
       "11       31.25   307.894737         0.0       15.0  0.185020  0.950638\n",
       "12       31.25   313.157895         0.0       15.0  0.185020  1.000000\n",
       "13       31.25   321.052632         0.0       15.0  0.185020  0.936703\n",
       "14       31.25   328.947368         0.0       15.0  0.185020  0.754020\n",
       "15       31.25   334.210526         0.0       15.0  0.185020  0.459896\n",
       "16       75.00   339.473684         0.0       15.0  0.283141  0.322809\n",
       "17      127.50   344.736842         0.0       15.0  0.175785  0.258359\n",
       "18      238.75   407.894737         0.0       15.0  1.000000  0.161538\n",
       "19      321.25   415.789474         0.0       15.0  0.803007  0.226979\n",
       "20      321.25   426.315789         0.0       15.0  0.803007  0.194080\n",
       "21      393.75   434.210526         0.0       15.0  0.281394  0.244340\n",
       "22      398.75   439.473684         0.0       15.0  0.300508  0.181338\n",
       "23      518.75   513.157895         0.0       15.0  0.276124  0.100544\n",
       "24      546.25   518.421053         0.0       15.0  0.184427  0.083036\n",
       "25      600.00   528.947368         0.0       15.0  0.565752  0.076028\n",
       "26      600.00   539.473684         0.0       15.0  0.565752  0.079446\n",
       "27      600.00  2239.473684         0.0       15.0  0.565752  0.069116\n",
       "28      600.00  2257.894737         0.0       15.0  0.565752  0.085050\n",
       "29      600.00  2265.789474         0.0       15.0  0.565752  0.082493\n",
       "30      600.00  2278.947368         0.0       15.0  0.565752  0.095420\n",
       "31      600.00  2313.157895         0.0       15.0  0.565752  0.095903\n",
       "32      600.00  2323.684211         0.0       15.0  0.565752  0.107301\n",
       "33      600.00  2331.578947         0.0       15.0  0.565752  0.141878\n",
       "34      600.00  2344.736842         0.0       15.0  0.565752  0.099388\n",
       "35      600.00  2360.526316         0.0       15.0  0.565752  0.144163\n",
       "36      600.00  2381.578947         0.0       15.0  0.565752  0.102225\n",
       "37      600.00  2392.105263         0.0       15.0  0.565752  0.085328\n",
       "38      600.00  2397.368421         0.0       15.0  0.565752  0.117852\n",
       "39      600.00  2952.631579         0.0       15.0  0.565752  0.069060\n",
       "40      600.00  3055.263158         0.0       15.0  0.565752  0.073150"
      ]
     },
     "metadata": {},
     "output_type": "display_data"
    }
   ],
   "source": [
    "import pandas as pd\n",
    "import numpy as np\n",
    "from multiplotter import plot_combined\n",
    "\n",
    "def process_df(input_df, freq_start_col, amp_start_col, freq_stop_col, amp_stop_col, wave_stop_value, override_amp_value=None, scale_amp_value=True):\n",
    "    # Scaling amplitude if required\n",
    "    if scale_amp_value:\n",
    "        amp_start_scaled = input_df[amp_start_col] / input_df[amp_start_col].max()\n",
    "        amp_stop_max = input_df[amp_stop_col] / input_df[amp_stop_col].max()\n",
    "    else:\n",
    "        amp_start_scaled = input_df[amp_start_col]\n",
    "        amp_stop_max = input_df[amp_stop_col]\n",
    "    \n",
    "    # Overriding amplitude values if required\n",
    "    if override_amp_value is not None:\n",
    "        amp_min = [override_amp_value] * len(input_df)\n",
    "        amp_max = [override_amp_value] * len(input_df)\n",
    "    else:\n",
    "        amp_min = amp_start_scaled\n",
    "        amp_max = amp_stop_max\n",
    "\n",
    "    new_data = {\n",
    "        \"freq_start\": input_df[freq_start_col],\n",
    "        \"freq_stop\": input_df[freq_stop_col],\n",
    "        \"time_start\": [0.0] * len(input_df),\n",
    "        \"time_stop\": [wave_stop_value] * len(input_df),\n",
    "        \"amp_min\": amp_min,\n",
    "        \"amp_max\": amp_max\n",
    "    }\n",
    "    \n",
    "    return pd.DataFrame(new_data)\n",
    "\n",
    "wave_stop_value = 15.0\n",
    "override_amp_value = None\n",
    "scale_amp_value = True\n",
    "\n",
    "new_df = process_df(result_sigmoid, 'freq_data1', 'amp_data1', 'freq_data2', 'amp_data2', wave_stop_value, override_amp_value, scale_amp_value)\n",
    "display(new_df)"
   ]
  },
  {
   "cell_type": "code",
   "execution_count": 20,
   "id": "78bde312",
   "metadata": {},
   "outputs": [
    {
     "name": "stdout",
     "output_type": "stream",
     "text": [
      "Data saved successfully to /Users/egor/Documents/GitHub/audiospylt/tsv/sigmoid_low.tsv at 2023-09-24 17:45:15.146436.\n"
     ]
    }
   ],
   "source": [
    "import os\n",
    "from datetime import datetime\n",
    "\n",
    "# Define the path for the /tsv subfolder\n",
    "output_directory = 'tsv'\n",
    "\n",
    "# Check if the directory exists; if not, create it\n",
    "if not os.path.exists(output_directory):\n",
    "    os.makedirs(output_directory)\n",
    "\n",
    "# Define the filename path to save inside the /tsv subfolder\n",
    "filename = os.path.join(output_directory, 'sigmoid_low.tsv')\n",
    "\n",
    "try:\n",
    "    new_df.to_csv(filename, sep='\\t', index=False)\n",
    "    print(f\"Data saved successfully to {os.path.abspath(filename)} at {datetime.now()}.\")\n",
    "except:\n",
    "    print(\"Error: data could not be saved.\")\n"
   ]
  },
  {
   "cell_type": "code",
   "execution_count": null,
   "id": "78d85e53",
   "metadata": {},
   "outputs": [],
   "source": []
  }
 ],
 "metadata": {
  "kernelspec": {
   "display_name": "Python 3 (ipykernel)",
   "language": "python",
   "name": "python3"
  },
  "language_info": {
   "codemirror_mode": {
    "name": "ipython",
    "version": 3
   },
   "file_extension": ".py",
   "mimetype": "text/x-python",
   "name": "python",
   "nbconvert_exporter": "python",
   "pygments_lexer": "ipython3",
   "version": "3.11.5"
  }
 },
 "nbformat": 4,
 "nbformat_minor": 5
}
