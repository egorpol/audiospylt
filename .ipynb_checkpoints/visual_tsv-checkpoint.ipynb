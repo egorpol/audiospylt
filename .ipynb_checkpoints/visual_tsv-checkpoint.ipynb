{
 "cells": [
  {
   "cell_type": "markdown",
   "id": "2fa526d2-a29d-4a43-a85d-24c623813654",
   "metadata": {},
   "source": [
    "2D for data without time domain"
   ]
  },
  {
   "cell_type": "code",
   "execution_count": 8,
   "id": "23cd3945-de12-4e0a-8edb-61310e7b4479",
   "metadata": {},
   "outputs": [
    {
     "data": {
      "application/vnd.plotly.v1+json": {
       "config": {
        "plotlyServerURL": "https://plot.ly"
       },
       "data": [
        {
         "line": {
          "color": "#17becf"
         },
         "mode": "markers",
         "name": "speech1.tsv",
         "type": "scatter",
         "x": [
          97.3684210526316,
          105.26315789473684,
          110.5263157894737,
          194.7368421052632,
          202.63157894736844,
          210.5263157894737,
          215.78947368421052,
          223.6842105263158,
          228.94736842105263,
          292.10526315789474,
          300,
          307.89473684210526,
          313.15789473684214,
          321.0526315789474,
          328.94736842105266,
          334.2105263157895,
          339.4736842105264,
          344.7368421052632,
          407.8947368421053,
          415.7894736842106,
          426.3157894736842,
          434.2105263157895,
          439.4736842105264,
          513.1578947368422,
          518.421052631579,
          528.9473684210527,
          539.4736842105264,
          2239.4736842105267,
          2257.894736842105,
          2265.789473684211,
          2278.947368421053,
          2313.157894736842,
          2323.684210526316,
          2331.5789473684213,
          2344.736842105264,
          2360.5263157894738,
          2381.5789473684213,
          2392.105263157895,
          2397.368421052632,
          2952.631578947369,
          3055.263157894737
         ],
         "y": [
          0.0009647991093277,
          0.0055213720429783,
          0.0024227688847233,
          0.0013506934504839,
          0.0035174180462654,
          0.0074083968861433,
          0.0054668713632483,
          0.0049539732841427,
          0.0031441505696549,
          0.0012613220776222,
          0.00332239652906,
          0.0071887453267094,
          0.0075620230016843,
          0.0070833674490864,
          0.0057019150079667,
          0.0034777418781922,
          0.0024410902390149,
          0.001953713018008,
          0.0012215557600833,
          0.0017164210428016,
          0.0014676364035692,
          0.0018477077660713,
          0.0013712799540878,
          0.0007603143191751,
          0.0006279198937555,
          0.0005749280944175,
          0.0006007691438291,
          0.0005226545273162,
          0.0006431480666991,
          0.0006238136960215,
          0.0007215694012896,
          0.0007252185241692,
          0.0008114118575489,
          0.0010728842005843,
          0.0007515724909371,
          0.0010901648421076,
          0.0007730268353071,
          0.0006452500721762,
          0.0008912004428398,
          0.0005222355690936,
          0.0005531601786835
         ]
        },
        {
         "line": {
          "color": "#bcbd22"
         },
         "mode": "markers",
         "name": "conga3.tsv",
         "type": "scatter",
         "x": [
          31.25,
          75,
          127.5,
          238.75,
          321.25,
          393.75,
          398.75,
          518.75,
          546.25,
          600
         ],
         "y": [
          0.0005687449103935,
          0.0008703650081436,
          0.0005403567422227,
          0.0030739620784412,
          0.0024684119351635,
          0.0008649942330715,
          0.0009237491133104,
          0.0008487943653878,
          0.000566920605011,
          0.0017391013846919
         ]
        }
       ],
       "layout": {
        "autosize": true,
        "template": {
         "data": {
          "bar": [
           {
            "error_x": {
             "color": "#2a3f5f"
            },
            "error_y": {
             "color": "#2a3f5f"
            },
            "marker": {
             "line": {
              "color": "#E5ECF6",
              "width": 0.5
             },
             "pattern": {
              "fillmode": "overlay",
              "size": 10,
              "solidity": 0.2
             }
            },
            "type": "bar"
           }
          ],
          "barpolar": [
           {
            "marker": {
             "line": {
              "color": "#E5ECF6",
              "width": 0.5
             },
             "pattern": {
              "fillmode": "overlay",
              "size": 10,
              "solidity": 0.2
             }
            },
            "type": "barpolar"
           }
          ],
          "carpet": [
           {
            "aaxis": {
             "endlinecolor": "#2a3f5f",
             "gridcolor": "white",
             "linecolor": "white",
             "minorgridcolor": "white",
             "startlinecolor": "#2a3f5f"
            },
            "baxis": {
             "endlinecolor": "#2a3f5f",
             "gridcolor": "white",
             "linecolor": "white",
             "minorgridcolor": "white",
             "startlinecolor": "#2a3f5f"
            },
            "type": "carpet"
           }
          ],
          "choropleth": [
           {
            "colorbar": {
             "outlinewidth": 0,
             "ticks": ""
            },
            "type": "choropleth"
           }
          ],
          "contour": [
           {
            "colorbar": {
             "outlinewidth": 0,
             "ticks": ""
            },
            "colorscale": [
             [
              0,
              "#0d0887"
             ],
             [
              0.1111111111111111,
              "#46039f"
             ],
             [
              0.2222222222222222,
              "#7201a8"
             ],
             [
              0.3333333333333333,
              "#9c179e"
             ],
             [
              0.4444444444444444,
              "#bd3786"
             ],
             [
              0.5555555555555556,
              "#d8576b"
             ],
             [
              0.6666666666666666,
              "#ed7953"
             ],
             [
              0.7777777777777778,
              "#fb9f3a"
             ],
             [
              0.8888888888888888,
              "#fdca26"
             ],
             [
              1,
              "#f0f921"
             ]
            ],
            "type": "contour"
           }
          ],
          "contourcarpet": [
           {
            "colorbar": {
             "outlinewidth": 0,
             "ticks": ""
            },
            "type": "contourcarpet"
           }
          ],
          "heatmap": [
           {
            "colorbar": {
             "outlinewidth": 0,
             "ticks": ""
            },
            "colorscale": [
             [
              0,
              "#0d0887"
             ],
             [
              0.1111111111111111,
              "#46039f"
             ],
             [
              0.2222222222222222,
              "#7201a8"
             ],
             [
              0.3333333333333333,
              "#9c179e"
             ],
             [
              0.4444444444444444,
              "#bd3786"
             ],
             [
              0.5555555555555556,
              "#d8576b"
             ],
             [
              0.6666666666666666,
              "#ed7953"
             ],
             [
              0.7777777777777778,
              "#fb9f3a"
             ],
             [
              0.8888888888888888,
              "#fdca26"
             ],
             [
              1,
              "#f0f921"
             ]
            ],
            "type": "heatmap"
           }
          ],
          "heatmapgl": [
           {
            "colorbar": {
             "outlinewidth": 0,
             "ticks": ""
            },
            "colorscale": [
             [
              0,
              "#0d0887"
             ],
             [
              0.1111111111111111,
              "#46039f"
             ],
             [
              0.2222222222222222,
              "#7201a8"
             ],
             [
              0.3333333333333333,
              "#9c179e"
             ],
             [
              0.4444444444444444,
              "#bd3786"
             ],
             [
              0.5555555555555556,
              "#d8576b"
             ],
             [
              0.6666666666666666,
              "#ed7953"
             ],
             [
              0.7777777777777778,
              "#fb9f3a"
             ],
             [
              0.8888888888888888,
              "#fdca26"
             ],
             [
              1,
              "#f0f921"
             ]
            ],
            "type": "heatmapgl"
           }
          ],
          "histogram": [
           {
            "marker": {
             "pattern": {
              "fillmode": "overlay",
              "size": 10,
              "solidity": 0.2
             }
            },
            "type": "histogram"
           }
          ],
          "histogram2d": [
           {
            "colorbar": {
             "outlinewidth": 0,
             "ticks": ""
            },
            "colorscale": [
             [
              0,
              "#0d0887"
             ],
             [
              0.1111111111111111,
              "#46039f"
             ],
             [
              0.2222222222222222,
              "#7201a8"
             ],
             [
              0.3333333333333333,
              "#9c179e"
             ],
             [
              0.4444444444444444,
              "#bd3786"
             ],
             [
              0.5555555555555556,
              "#d8576b"
             ],
             [
              0.6666666666666666,
              "#ed7953"
             ],
             [
              0.7777777777777778,
              "#fb9f3a"
             ],
             [
              0.8888888888888888,
              "#fdca26"
             ],
             [
              1,
              "#f0f921"
             ]
            ],
            "type": "histogram2d"
           }
          ],
          "histogram2dcontour": [
           {
            "colorbar": {
             "outlinewidth": 0,
             "ticks": ""
            },
            "colorscale": [
             [
              0,
              "#0d0887"
             ],
             [
              0.1111111111111111,
              "#46039f"
             ],
             [
              0.2222222222222222,
              "#7201a8"
             ],
             [
              0.3333333333333333,
              "#9c179e"
             ],
             [
              0.4444444444444444,
              "#bd3786"
             ],
             [
              0.5555555555555556,
              "#d8576b"
             ],
             [
              0.6666666666666666,
              "#ed7953"
             ],
             [
              0.7777777777777778,
              "#fb9f3a"
             ],
             [
              0.8888888888888888,
              "#fdca26"
             ],
             [
              1,
              "#f0f921"
             ]
            ],
            "type": "histogram2dcontour"
           }
          ],
          "mesh3d": [
           {
            "colorbar": {
             "outlinewidth": 0,
             "ticks": ""
            },
            "type": "mesh3d"
           }
          ],
          "parcoords": [
           {
            "line": {
             "colorbar": {
              "outlinewidth": 0,
              "ticks": ""
             }
            },
            "type": "parcoords"
           }
          ],
          "pie": [
           {
            "automargin": true,
            "type": "pie"
           }
          ],
          "scatter": [
           {
            "fillpattern": {
             "fillmode": "overlay",
             "size": 10,
             "solidity": 0.2
            },
            "type": "scatter"
           }
          ],
          "scatter3d": [
           {
            "line": {
             "colorbar": {
              "outlinewidth": 0,
              "ticks": ""
             }
            },
            "marker": {
             "colorbar": {
              "outlinewidth": 0,
              "ticks": ""
             }
            },
            "type": "scatter3d"
           }
          ],
          "scattercarpet": [
           {
            "marker": {
             "colorbar": {
              "outlinewidth": 0,
              "ticks": ""
             }
            },
            "type": "scattercarpet"
           }
          ],
          "scattergeo": [
           {
            "marker": {
             "colorbar": {
              "outlinewidth": 0,
              "ticks": ""
             }
            },
            "type": "scattergeo"
           }
          ],
          "scattergl": [
           {
            "marker": {
             "colorbar": {
              "outlinewidth": 0,
              "ticks": ""
             }
            },
            "type": "scattergl"
           }
          ],
          "scattermapbox": [
           {
            "marker": {
             "colorbar": {
              "outlinewidth": 0,
              "ticks": ""
             }
            },
            "type": "scattermapbox"
           }
          ],
          "scatterpolar": [
           {
            "marker": {
             "colorbar": {
              "outlinewidth": 0,
              "ticks": ""
             }
            },
            "type": "scatterpolar"
           }
          ],
          "scatterpolargl": [
           {
            "marker": {
             "colorbar": {
              "outlinewidth": 0,
              "ticks": ""
             }
            },
            "type": "scatterpolargl"
           }
          ],
          "scatterternary": [
           {
            "marker": {
             "colorbar": {
              "outlinewidth": 0,
              "ticks": ""
             }
            },
            "type": "scatterternary"
           }
          ],
          "surface": [
           {
            "colorbar": {
             "outlinewidth": 0,
             "ticks": ""
            },
            "colorscale": [
             [
              0,
              "#0d0887"
             ],
             [
              0.1111111111111111,
              "#46039f"
             ],
             [
              0.2222222222222222,
              "#7201a8"
             ],
             [
              0.3333333333333333,
              "#9c179e"
             ],
             [
              0.4444444444444444,
              "#bd3786"
             ],
             [
              0.5555555555555556,
              "#d8576b"
             ],
             [
              0.6666666666666666,
              "#ed7953"
             ],
             [
              0.7777777777777778,
              "#fb9f3a"
             ],
             [
              0.8888888888888888,
              "#fdca26"
             ],
             [
              1,
              "#f0f921"
             ]
            ],
            "type": "surface"
           }
          ],
          "table": [
           {
            "cells": {
             "fill": {
              "color": "#EBF0F8"
             },
             "line": {
              "color": "white"
             }
            },
            "header": {
             "fill": {
              "color": "#C8D4E3"
             },
             "line": {
              "color": "white"
             }
            },
            "type": "table"
           }
          ]
         },
         "layout": {
          "annotationdefaults": {
           "arrowcolor": "#2a3f5f",
           "arrowhead": 0,
           "arrowwidth": 1
          },
          "autotypenumbers": "strict",
          "coloraxis": {
           "colorbar": {
            "outlinewidth": 0,
            "ticks": ""
           }
          },
          "colorscale": {
           "diverging": [
            [
             0,
             "#8e0152"
            ],
            [
             0.1,
             "#c51b7d"
            ],
            [
             0.2,
             "#de77ae"
            ],
            [
             0.3,
             "#f1b6da"
            ],
            [
             0.4,
             "#fde0ef"
            ],
            [
             0.5,
             "#f7f7f7"
            ],
            [
             0.6,
             "#e6f5d0"
            ],
            [
             0.7,
             "#b8e186"
            ],
            [
             0.8,
             "#7fbc41"
            ],
            [
             0.9,
             "#4d9221"
            ],
            [
             1,
             "#276419"
            ]
           ],
           "sequential": [
            [
             0,
             "#0d0887"
            ],
            [
             0.1111111111111111,
             "#46039f"
            ],
            [
             0.2222222222222222,
             "#7201a8"
            ],
            [
             0.3333333333333333,
             "#9c179e"
            ],
            [
             0.4444444444444444,
             "#bd3786"
            ],
            [
             0.5555555555555556,
             "#d8576b"
            ],
            [
             0.6666666666666666,
             "#ed7953"
            ],
            [
             0.7777777777777778,
             "#fb9f3a"
            ],
            [
             0.8888888888888888,
             "#fdca26"
            ],
            [
             1,
             "#f0f921"
            ]
           ],
           "sequentialminus": [
            [
             0,
             "#0d0887"
            ],
            [
             0.1111111111111111,
             "#46039f"
            ],
            [
             0.2222222222222222,
             "#7201a8"
            ],
            [
             0.3333333333333333,
             "#9c179e"
            ],
            [
             0.4444444444444444,
             "#bd3786"
            ],
            [
             0.5555555555555556,
             "#d8576b"
            ],
            [
             0.6666666666666666,
             "#ed7953"
            ],
            [
             0.7777777777777778,
             "#fb9f3a"
            ],
            [
             0.8888888888888888,
             "#fdca26"
            ],
            [
             1,
             "#f0f921"
            ]
           ]
          },
          "colorway": [
           "#636efa",
           "#EF553B",
           "#00cc96",
           "#ab63fa",
           "#FFA15A",
           "#19d3f3",
           "#FF6692",
           "#B6E880",
           "#FF97FF",
           "#FECB52"
          ],
          "font": {
           "color": "#2a3f5f"
          },
          "geo": {
           "bgcolor": "white",
           "lakecolor": "white",
           "landcolor": "#E5ECF6",
           "showlakes": true,
           "showland": true,
           "subunitcolor": "white"
          },
          "hoverlabel": {
           "align": "left"
          },
          "hovermode": "closest",
          "mapbox": {
           "style": "light"
          },
          "paper_bgcolor": "white",
          "plot_bgcolor": "#E5ECF6",
          "polar": {
           "angularaxis": {
            "gridcolor": "white",
            "linecolor": "white",
            "ticks": ""
           },
           "bgcolor": "#E5ECF6",
           "radialaxis": {
            "gridcolor": "white",
            "linecolor": "white",
            "ticks": ""
           }
          },
          "scene": {
           "xaxis": {
            "backgroundcolor": "#E5ECF6",
            "gridcolor": "white",
            "gridwidth": 2,
            "linecolor": "white",
            "showbackground": true,
            "ticks": "",
            "zerolinecolor": "white"
           },
           "yaxis": {
            "backgroundcolor": "#E5ECF6",
            "gridcolor": "white",
            "gridwidth": 2,
            "linecolor": "white",
            "showbackground": true,
            "ticks": "",
            "zerolinecolor": "white"
           },
           "zaxis": {
            "backgroundcolor": "#E5ECF6",
            "gridcolor": "white",
            "gridwidth": 2,
            "linecolor": "white",
            "showbackground": true,
            "ticks": "",
            "zerolinecolor": "white"
           }
          },
          "shapedefaults": {
           "line": {
            "color": "#2a3f5f"
           }
          },
          "ternary": {
           "aaxis": {
            "gridcolor": "white",
            "linecolor": "white",
            "ticks": ""
           },
           "baxis": {
            "gridcolor": "white",
            "linecolor": "white",
            "ticks": ""
           },
           "bgcolor": "#E5ECF6",
           "caxis": {
            "gridcolor": "white",
            "linecolor": "white",
            "ticks": ""
           }
          },
          "title": {
           "x": 0.05
          },
          "xaxis": {
           "automargin": true,
           "gridcolor": "white",
           "linecolor": "white",
           "ticks": "",
           "title": {
            "standoff": 15
           },
           "zerolinecolor": "white",
           "zerolinewidth": 2
          },
          "yaxis": {
           "automargin": true,
           "gridcolor": "white",
           "linecolor": "white",
           "ticks": "",
           "title": {
            "standoff": 15
           },
           "zerolinecolor": "white",
           "zerolinewidth": 2
          }
         }
        },
        "title": {
         "text": "Scatter Plot of Frequency vs. Amplitude"
        },
        "xaxis": {
         "range": [
          0,
          3360.789473684211
         ],
         "type": "linear"
        },
        "yaxis": {
         "range": [
          0,
          0.00831822530185273
         ],
         "type": "linear"
        }
       }
      },
      "image/png": "[encoded data removed]",
      "text/html": [
       "<div>                            <div id=\"960f4d31-bca4-4303-89bb-8f4dbc07a283\" class=\"plotly-graph-div\" style=\"height:525px; width:100%;\"></div>            <script type=\"text/javascript\">                require([\"plotly\"], function(Plotly) {                    window.PLOTLYENV=window.PLOTLYENV || {};                                    if (document.getElementById(\"960f4d31-bca4-4303-89bb-8f4dbc07a283\")) {                    Plotly.newPlot(                        \"960f4d31-bca4-4303-89bb-8f4dbc07a283\",                        [{\"line\":{\"color\":\"#17becf\"},\"mode\":\"markers\",\"name\":\"speech1.tsv\",\"x\":[97.3684210526316,105.26315789473684,110.5263157894737,194.7368421052632,202.63157894736844,210.5263157894737,215.78947368421052,223.6842105263158,228.94736842105263,292.10526315789474,300.0,307.89473684210526,313.15789473684214,321.0526315789474,328.94736842105266,334.2105263157895,339.4736842105264,344.7368421052632,407.8947368421053,415.7894736842106,426.3157894736842,434.2105263157895,439.4736842105264,513.1578947368422,518.421052631579,528.9473684210527,539.4736842105264,2239.4736842105267,2257.894736842105,2265.789473684211,2278.947368421053,2313.157894736842,2323.684210526316,2331.5789473684213,2344.736842105264,2360.5263157894738,2381.5789473684213,2392.105263157895,2397.368421052632,2952.631578947369,3055.263157894737],\"y\":[0.0009647991093277,0.0055213720429783,0.0024227688847233,0.0013506934504839,0.0035174180462654,0.0074083968861433,0.0054668713632483,0.0049539732841427,0.0031441505696549,0.0012613220776222,0.00332239652906,0.0071887453267094,0.0075620230016843,0.0070833674490864,0.0057019150079667,0.0034777418781922,0.0024410902390149,0.001953713018008,0.0012215557600833,0.0017164210428016,0.0014676364035692,0.0018477077660713,0.0013712799540878,0.0007603143191751,0.0006279198937555,0.0005749280944175,0.0006007691438291,0.0005226545273162,0.0006431480666991,0.0006238136960215,0.0007215694012896,0.0007252185241692,0.0008114118575489,0.0010728842005843,0.0007515724909371,0.0010901648421076,0.0007730268353071,0.0006452500721762,0.0008912004428398,0.0005222355690936,0.0005531601786835],\"type\":\"scatter\"},{\"line\":{\"color\":\"#bcbd22\"},\"mode\":\"markers\",\"name\":\"conga3.tsv\",\"x\":[31.25,75.0,127.5,238.75,321.25,393.75,398.75,518.75,546.25,600.0],\"y\":[0.0005687449103935,0.0008703650081436,0.0005403567422227,0.0030739620784412,0.0024684119351635,0.0008649942330715,0.0009237491133104,0.0008487943653878,0.000566920605011,0.0017391013846919],\"type\":\"scatter\"}],                        {\"template\":{\"data\":{\"histogram2dcontour\":[{\"type\":\"histogram2dcontour\",\"colorbar\":{\"outlinewidth\":0,\"ticks\":\"\"},\"colorscale\":[[0.0,\"#0d0887\"],[0.1111111111111111,\"#46039f\"],[0.2222222222222222,\"#7201a8\"],[0.3333333333333333,\"#9c179e\"],[0.4444444444444444,\"#bd3786\"],[0.5555555555555556,\"#d8576b\"],[0.6666666666666666,\"#ed7953\"],[0.7777777777777778,\"#fb9f3a\"],[0.8888888888888888,\"#fdca26\"],[1.0,\"#f0f921\"]]}],\"choropleth\":[{\"type\":\"choropleth\",\"colorbar\":{\"outlinewidth\":0,\"ticks\":\"\"}}],\"histogram2d\":[{\"type\":\"histogram2d\",\"colorbar\":{\"outlinewidth\":0,\"ticks\":\"\"},\"colorscale\":[[0.0,\"#0d0887\"],[0.1111111111111111,\"#46039f\"],[0.2222222222222222,\"#7201a8\"],[0.3333333333333333,\"#9c179e\"],[0.4444444444444444,\"#bd3786\"],[0.5555555555555556,\"#d8576b\"],[0.6666666666666666,\"#ed7953\"],[0.7777777777777778,\"#fb9f3a\"],[0.8888888888888888,\"#fdca26\"],[1.0,\"#f0f921\"]]}],\"heatmap\":[{\"type\":\"heatmap\",\"colorbar\":{\"outlinewidth\":0,\"ticks\":\"\"},\"colorscale\":[[0.0,\"#0d0887\"],[0.1111111111111111,\"#46039f\"],[0.2222222222222222,\"#7201a8\"],[0.3333333333333333,\"#9c179e\"],[0.4444444444444444,\"#bd3786\"],[0.5555555555555556,\"#d8576b\"],[0.6666666666666666,\"#ed7953\"],[0.7777777777777778,\"#fb9f3a\"],[0.8888888888888888,\"#fdca26\"],[1.0,\"#f0f921\"]]}],\"heatmapgl\":[{\"type\":\"heatmapgl\",\"colorbar\":{\"outlinewidth\":0,\"ticks\":\"\"},\"colorscale\":[[0.0,\"#0d0887\"],[0.1111111111111111,\"#46039f\"],[0.2222222222222222,\"#7201a8\"],[0.3333333333333333,\"#9c179e\"],[0.4444444444444444,\"#bd3786\"],[0.5555555555555556,\"#d8576b\"],[0.6666666666666666,\"#ed7953\"],[0.7777777777777778,\"#fb9f3a\"],[0.8888888888888888,\"#fdca26\"],[1.0,\"#f0f921\"]]}],\"contourcarpet\":[{\"type\":\"contourcarpet\",\"colorbar\":{\"outlinewidth\":0,\"ticks\":\"\"}}],\"contour\":[{\"type\":\"contour\",\"colorbar\":{\"outlinewidth\":0,\"ticks\":\"\"},\"colorscale\":[[0.0,\"#0d0887\"],[0.1111111111111111,\"#46039f\"],[0.2222222222222222,\"#7201a8\"],[0.3333333333333333,\"#9c179e\"],[0.4444444444444444,\"#bd3786\"],[0.5555555555555556,\"#d8576b\"],[0.6666666666666666,\"#ed7953\"],[0.7777777777777778,\"#fb9f3a\"],[0.8888888888888888,\"#fdca26\"],[1.0,\"#f0f921\"]]}],\"surface\":[{\"type\":\"surface\",\"colorbar\":{\"outlinewidth\":0,\"ticks\":\"\"},\"colorscale\":[[0.0,\"#0d0887\"],[0.1111111111111111,\"#46039f\"],[0.2222222222222222,\"#7201a8\"],[0.3333333333333333,\"#9c179e\"],[0.4444444444444444,\"#bd3786\"],[0.5555555555555556,\"#d8576b\"],[0.6666666666666666,\"#ed7953\"],[0.7777777777777778,\"#fb9f3a\"],[0.8888888888888888,\"#fdca26\"],[1.0,\"#f0f921\"]]}],\"mesh3d\":[{\"type\":\"mesh3d\",\"colorbar\":{\"outlinewidth\":0,\"ticks\":\"\"}}],\"scatter\":[{\"fillpattern\":{\"fillmode\":\"overlay\",\"size\":10,\"solidity\":0.2},\"type\":\"scatter\"}],\"parcoords\":[{\"type\":\"parcoords\",\"line\":{\"colorbar\":{\"outlinewidth\":0,\"ticks\":\"\"}}}],\"scatterpolargl\":[{\"type\":\"scatterpolargl\",\"marker\":{\"colorbar\":{\"outlinewidth\":0,\"ticks\":\"\"}}}],\"bar\":[{\"error_x\":{\"color\":\"#2a3f5f\"},\"error_y\":{\"color\":\"#2a3f5f\"},\"marker\":{\"line\":{\"color\":\"#E5ECF6\",\"width\":0.5},\"pattern\":{\"fillmode\":\"overlay\",\"size\":10,\"solidity\":0.2}},\"type\":\"bar\"}],\"scattergeo\":[{\"type\":\"scattergeo\",\"marker\":{\"colorbar\":{\"outlinewidth\":0,\"ticks\":\"\"}}}],\"scatterpolar\":[{\"type\":\"scatterpolar\",\"marker\":{\"colorbar\":{\"outlinewidth\":0,\"ticks\":\"\"}}}],\"histogram\":[{\"marker\":{\"pattern\":{\"fillmode\":\"overlay\",\"size\":10,\"solidity\":0.2}},\"type\":\"histogram\"}],\"scattergl\":[{\"type\":\"scattergl\",\"marker\":{\"colorbar\":{\"outlinewidth\":0,\"ticks\":\"\"}}}],\"scatter3d\":[{\"type\":\"scatter3d\",\"line\":{\"colorbar\":{\"outlinewidth\":0,\"ticks\":\"\"}},\"marker\":{\"colorbar\":{\"outlinewidth\":0,\"ticks\":\"\"}}}],\"scattermapbox\":[{\"type\":\"scattermapbox\",\"marker\":{\"colorbar\":{\"outlinewidth\":0,\"ticks\":\"\"}}}],\"scatterternary\":[{\"type\":\"scatterternary\",\"marker\":{\"colorbar\":{\"outlinewidth\":0,\"ticks\":\"\"}}}],\"scattercarpet\":[{\"type\":\"scattercarpet\",\"marker\":{\"colorbar\":{\"outlinewidth\":0,\"ticks\":\"\"}}}],\"carpet\":[{\"aaxis\":{\"endlinecolor\":\"#2a3f5f\",\"gridcolor\":\"white\",\"linecolor\":\"white\",\"minorgridcolor\":\"white\",\"startlinecolor\":\"#2a3f5f\"},\"baxis\":{\"endlinecolor\":\"#2a3f5f\",\"gridcolor\":\"white\",\"linecolor\":\"white\",\"minorgridcolor\":\"white\",\"startlinecolor\":\"#2a3f5f\"},\"type\":\"carpet\"}],\"table\":[{\"cells\":{\"fill\":{\"color\":\"#EBF0F8\"},\"line\":{\"color\":\"white\"}},\"header\":{\"fill\":{\"color\":\"#C8D4E3\"},\"line\":{\"color\":\"white\"}},\"type\":\"table\"}],\"barpolar\":[{\"marker\":{\"line\":{\"color\":\"#E5ECF6\",\"width\":0.5},\"pattern\":{\"fillmode\":\"overlay\",\"size\":10,\"solidity\":0.2}},\"type\":\"barpolar\"}],\"pie\":[{\"automargin\":true,\"type\":\"pie\"}]},\"layout\":{\"autotypenumbers\":\"strict\",\"colorway\":[\"#636efa\",\"#EF553B\",\"#00cc96\",\"#ab63fa\",\"#FFA15A\",\"#19d3f3\",\"#FF6692\",\"#B6E880\",\"#FF97FF\",\"#FECB52\"],\"font\":{\"color\":\"#2a3f5f\"},\"hovermode\":\"closest\",\"hoverlabel\":{\"align\":\"left\"},\"paper_bgcolor\":\"white\",\"plot_bgcolor\":\"#E5ECF6\",\"polar\":{\"bgcolor\":\"#E5ECF6\",\"angularaxis\":{\"gridcolor\":\"white\",\"linecolor\":\"white\",\"ticks\":\"\"},\"radialaxis\":{\"gridcolor\":\"white\",\"linecolor\":\"white\",\"ticks\":\"\"}},\"ternary\":{\"bgcolor\":\"#E5ECF6\",\"aaxis\":{\"gridcolor\":\"white\",\"linecolor\":\"white\",\"ticks\":\"\"},\"baxis\":{\"gridcolor\":\"white\",\"linecolor\":\"white\",\"ticks\":\"\"},\"caxis\":{\"gridcolor\":\"white\",\"linecolor\":\"white\",\"ticks\":\"\"}},\"coloraxis\":{\"colorbar\":{\"outlinewidth\":0,\"ticks\":\"\"}},\"colorscale\":{\"sequential\":[[0.0,\"#0d0887\"],[0.1111111111111111,\"#46039f\"],[0.2222222222222222,\"#7201a8\"],[0.3333333333333333,\"#9c179e\"],[0.4444444444444444,\"#bd3786\"],[0.5555555555555556,\"#d8576b\"],[0.6666666666666666,\"#ed7953\"],[0.7777777777777778,\"#fb9f3a\"],[0.8888888888888888,\"#fdca26\"],[1.0,\"#f0f921\"]],\"sequentialminus\":[[0.0,\"#0d0887\"],[0.1111111111111111,\"#46039f\"],[0.2222222222222222,\"#7201a8\"],[0.3333333333333333,\"#9c179e\"],[0.4444444444444444,\"#bd3786\"],[0.5555555555555556,\"#d8576b\"],[0.6666666666666666,\"#ed7953\"],[0.7777777777777778,\"#fb9f3a\"],[0.8888888888888888,\"#fdca26\"],[1.0,\"#f0f921\"]],\"diverging\":[[0,\"#8e0152\"],[0.1,\"#c51b7d\"],[0.2,\"#de77ae\"],[0.3,\"#f1b6da\"],[0.4,\"#fde0ef\"],[0.5,\"#f7f7f7\"],[0.6,\"#e6f5d0\"],[0.7,\"#b8e186\"],[0.8,\"#7fbc41\"],[0.9,\"#4d9221\"],[1,\"#276419\"]]},\"xaxis\":{\"gridcolor\":\"white\",\"linecolor\":\"white\",\"ticks\":\"\",\"title\":{\"standoff\":15},\"zerolinecolor\":\"white\",\"automargin\":true,\"zerolinewidth\":2},\"yaxis\":{\"gridcolor\":\"white\",\"linecolor\":\"white\",\"ticks\":\"\",\"title\":{\"standoff\":15},\"zerolinecolor\":\"white\",\"automargin\":true,\"zerolinewidth\":2},\"scene\":{\"xaxis\":{\"backgroundcolor\":\"#E5ECF6\",\"gridcolor\":\"white\",\"linecolor\":\"white\",\"showbackground\":true,\"ticks\":\"\",\"zerolinecolor\":\"white\",\"gridwidth\":2},\"yaxis\":{\"backgroundcolor\":\"#E5ECF6\",\"gridcolor\":\"white\",\"linecolor\":\"white\",\"showbackground\":true,\"ticks\":\"\",\"zerolinecolor\":\"white\",\"gridwidth\":2},\"zaxis\":{\"backgroundcolor\":\"#E5ECF6\",\"gridcolor\":\"white\",\"linecolor\":\"white\",\"showbackground\":true,\"ticks\":\"\",\"zerolinecolor\":\"white\",\"gridwidth\":2}},\"shapedefaults\":{\"line\":{\"color\":\"#2a3f5f\"}},\"annotationdefaults\":{\"arrowcolor\":\"#2a3f5f\",\"arrowhead\":0,\"arrowwidth\":1},\"geo\":{\"bgcolor\":\"white\",\"landcolor\":\"#E5ECF6\",\"subunitcolor\":\"white\",\"showland\":true,\"showlakes\":true,\"lakecolor\":\"white\"},\"title\":{\"x\":0.05},\"mapbox\":{\"style\":\"light\"}}},\"title\":{\"text\":\"Scatter Plot of Frequency vs. Amplitude\"},\"xaxis\":{\"range\":[0,3360.789473684211]},\"yaxis\":{\"range\":[0,0.00831822530185273]}},                        {\"responsive\": true}                    ).then(function(){\n",
       "                            \n",
       "var gd = document.getElementById('960f4d31-bca4-4303-89bb-8f4dbc07a283');\n",
       "var x = new MutationObserver(function (mutations, observer) {{\n",
       "        var display = window.getComputedStyle(gd).display;\n",
       "        if (!display || display === 'none') {{\n",
       "            console.log([gd, 'removed!']);\n",
       "            Plotly.purge(gd);\n",
       "            observer.disconnect();\n",
       "        }}\n",
       "}});\n",
       "\n",
       "// Listen for the removal of the full notebook cells\n",
       "var notebookContainer = gd.closest('#notebook-container');\n",
       "if (notebookContainer) {{\n",
       "    x.observe(notebookContainer, {childList: true});\n",
       "}}\n",
       "\n",
       "// Listen for the clearing of the current output cell\n",
       "var outputEl = gd.closest('.output');\n",
       "if (outputEl) {{\n",
       "    x.observe(outputEl, {childList: true});\n",
       "}}\n",
       "\n",
       "                        })                };                });            </script>        </div>"
      ]
     },
     "metadata": {},
     "output_type": "display_data"
    }
   ],
   "source": [
    "from multiplotter import plot_scatter\n",
    "\n",
    "plot_scatter(files=['speech1.tsv', 'conga3.tsv'], mode='markers')\n",
    "\n",
    "# Sample usage:\n",
    "# plot_scatter(files=['speech1.tsv', 'speech2.tsv'], labels=['Speech1', 'Speech2'], mode='markers')\n",
    "# or\n",
    "# plot_scatter(dfs=[df1, df2], labels=['DataFrame1', 'DataFrame2'], mode='lines')\n",
    "#\n",
    "# Most relevant modes are 'markers', 'lines', and 'markers+lines'"
   ]
  },
  {
   "cell_type": "markdown",
   "id": "304ad019-5a95-40d0-9ec4-8f68c4252ba6",
   "metadata": {},
   "source": [
    "2D for data with time domain"
   ]
  },
  {
   "cell_type": "code",
   "execution_count": 6,
   "id": "64da68a6-7df3-4d40-9129-c5c42f84496b",
   "metadata": {},
   "outputs": [
    {
     "data": {
      "application/vnd.plotly.v1+json": {
       "config": {
        "plotlyServerURL": "https://plot.ly"
       },
       "data": [
        {
         "legendgroup": "cumul_high.tsv",
         "line": {
          "color": "#17becf",
          "width": 2
         },
         "mode": "lines+markers",
         "name": "cumul_high.tsv",
         "showlegend": true,
         "type": "scatter",
         "x": [
          0,
          15
         ],
         "y": [
          31.25,
          97.3684210526316
         ]
        },
        {
         "legendgroup": "cumul_high.tsv",
         "line": {
          "color": "#17becf",
          "width": 2
         },
         "mode": "lines+markers",
         "name": "cumul_high.tsv",
         "showlegend": false,
         "type": "scatter",
         "x": [
          0,
          15
         ],
         "y": [
          75,
          105.26315789473684
         ]
        },
        {
         "legendgroup": "cumul_high.tsv",
         "line": {
          "color": "#17becf",
          "width": 2
         },
         "mode": "lines+markers",
         "name": "cumul_high.tsv",
         "showlegend": false,
         "type": "scatter",
         "x": [
          0,
          15
         ],
         "y": [
          127.5,
          110.5263157894737
         ]
        },
        {
         "legendgroup": "cumul_high.tsv",
         "line": {
          "color": "#17becf",
          "width": 2
         },
         "mode": "lines+markers",
         "name": "cumul_high.tsv",
         "showlegend": false,
         "type": "scatter",
         "x": [
          0,
          15
         ],
         "y": [
          127.5,
          194.7368421052632
         ]
        },
        {
         "legendgroup": "cumul_high.tsv",
         "line": {
          "color": "#17becf",
          "width": 2
         },
         "mode": "lines+markers",
         "name": "cumul_high.tsv",
         "showlegend": false,
         "type": "scatter",
         "x": [
          0,
          15
         ],
         "y": [
          238.75,
          202.63157894736844
         ]
        },
        {
         "legendgroup": "cumul_high.tsv",
         "line": {
          "color": "#17becf",
          "width": 2
         },
         "mode": "lines+markers",
         "name": "cumul_high.tsv",
         "showlegend": false,
         "type": "scatter",
         "x": [
          0,
          15
         ],
         "y": [
          238.75,
          210.5263157894737
         ]
        },
        {
         "legendgroup": "cumul_high.tsv",
         "line": {
          "color": "#17becf",
          "width": 2
         },
         "mode": "lines+markers",
         "name": "cumul_high.tsv",
         "showlegend": false,
         "type": "scatter",
         "x": [
          0,
          15
         ],
         "y": [
          238.75,
          215.7894736842105
         ]
        },
        {
         "legendgroup": "cumul_high.tsv",
         "line": {
          "color": "#17becf",
          "width": 2
         },
         "mode": "lines+markers",
         "name": "cumul_high.tsv",
         "showlegend": false,
         "type": "scatter",
         "x": [
          0,
          15
         ],
         "y": [
          321.25,
          223.6842105263158
         ]
        },
        {
         "legendgroup": "cumul_high.tsv",
         "line": {
          "color": "#17becf",
          "width": 2
         },
         "mode": "lines+markers",
         "name": "cumul_high.tsv",
         "showlegend": false,
         "type": "scatter",
         "x": [
          0,
          15
         ],
         "y": [
          321.25,
          228.94736842105263
         ]
        },
        {
         "legendgroup": "cumul_high.tsv",
         "line": {
          "color": "#17becf",
          "width": 2
         },
         "mode": "lines+markers",
         "name": "cumul_high.tsv",
         "showlegend": false,
         "type": "scatter",
         "x": [
          0,
          15
         ],
         "y": [
          321.25,
          292.10526315789474
         ]
        },
        {
         "legendgroup": "cumul_high.tsv",
         "line": {
          "color": "#17becf",
          "width": 2
         },
         "mode": "lines+markers",
         "name": "cumul_high.tsv",
         "showlegend": false,
         "type": "scatter",
         "x": [
          0,
          15
         ],
         "y": [
          321.25,
          300
         ]
        },
        {
         "legendgroup": "cumul_high.tsv",
         "line": {
          "color": "#17becf",
          "width": 2
         },
         "mode": "lines+markers",
         "name": "cumul_high.tsv",
         "showlegend": false,
         "type": "scatter",
         "x": [
          0,
          15
         ],
         "y": [
          393.75,
          307.89473684210526
         ]
        },
        {
         "legendgroup": "cumul_high.tsv",
         "line": {
          "color": "#17becf",
          "width": 2
         },
         "mode": "lines+markers",
         "name": "cumul_high.tsv",
         "showlegend": false,
         "type": "scatter",
         "x": [
          0,
          15
         ],
         "y": [
          393.75,
          313.15789473684214
         ]
        },
        {
         "legendgroup": "cumul_high.tsv",
         "line": {
          "color": "#17becf",
          "width": 2
         },
         "mode": "lines+markers",
         "name": "cumul_high.tsv",
         "showlegend": false,
         "type": "scatter",
         "x": [
          0,
          15
         ],
         "y": [
          393.75,
          321.0526315789474
         ]
        },
        {
         "legendgroup": "cumul_high.tsv",
         "line": {
          "color": "#17becf",
          "width": 2
         },
         "mode": "lines+markers",
         "name": "cumul_high.tsv",
         "showlegend": false,
         "type": "scatter",
         "x": [
          0,
          15
         ],
         "y": [
          393.75,
          328.94736842105266
         ]
        },
        {
         "legendgroup": "cumul_high.tsv",
         "line": {
          "color": "#17becf",
          "width": 2
         },
         "mode": "lines+markers",
         "name": "cumul_high.tsv",
         "showlegend": false,
         "type": "scatter",
         "x": [
          0,
          15
         ],
         "y": [
          393.75,
          334.2105263157895
         ]
        },
        {
         "legendgroup": "cumul_high.tsv",
         "line": {
          "color": "#17becf",
          "width": 2
         },
         "mode": "lines+markers",
         "name": "cumul_high.tsv",
         "showlegend": false,
         "type": "scatter",
         "x": [
          0,
          15
         ],
         "y": [
          398.75,
          339.4736842105264
         ]
        },
        {
         "legendgroup": "cumul_high.tsv",
         "line": {
          "color": "#17becf",
          "width": 2
         },
         "mode": "lines+markers",
         "name": "cumul_high.tsv",
         "showlegend": false,
         "type": "scatter",
         "x": [
          0,
          15
         ],
         "y": [
          398.75,
          344.7368421052632
         ]
        },
        {
         "legendgroup": "cumul_high.tsv",
         "line": {
          "color": "#17becf",
          "width": 2
         },
         "mode": "lines+markers",
         "name": "cumul_high.tsv",
         "showlegend": false,
         "type": "scatter",
         "x": [
          0,
          15
         ],
         "y": [
          398.75,
          407.8947368421053
         ]
        },
        {
         "legendgroup": "cumul_high.tsv",
         "line": {
          "color": "#17becf",
          "width": 2
         },
         "mode": "lines+markers",
         "name": "cumul_high.tsv",
         "showlegend": false,
         "type": "scatter",
         "x": [
          0,
          15
         ],
         "y": [
          398.75,
          415.7894736842106
         ]
        },
        {
         "legendgroup": "cumul_high.tsv",
         "line": {
          "color": "#17becf",
          "width": 2
         },
         "mode": "lines+markers",
         "name": "cumul_high.tsv",
         "showlegend": false,
         "type": "scatter",
         "x": [
          0,
          15
         ],
         "y": [
          398.75,
          426.3157894736842
         ]
        },
        {
         "legendgroup": "cumul_high.tsv",
         "line": {
          "color": "#17becf",
          "width": 2
         },
         "mode": "lines+markers",
         "name": "cumul_high.tsv",
         "showlegend": false,
         "type": "scatter",
         "x": [
          0,
          15
         ],
         "y": [
          398.75,
          434.2105263157895
         ]
        },
        {
         "legendgroup": "cumul_high.tsv",
         "line": {
          "color": "#17becf",
          "width": 2
         },
         "mode": "lines+markers",
         "name": "cumul_high.tsv",
         "showlegend": false,
         "type": "scatter",
         "x": [
          0,
          15
         ],
         "y": [
          518.75,
          439.4736842105264
         ]
        },
        {
         "legendgroup": "cumul_high.tsv",
         "line": {
          "color": "#17becf",
          "width": 2
         },
         "mode": "lines+markers",
         "name": "cumul_high.tsv",
         "showlegend": false,
         "type": "scatter",
         "x": [
          0,
          15
         ],
         "y": [
          518.75,
          513.1578947368422
         ]
        },
        {
         "legendgroup": "cumul_high.tsv",
         "line": {
          "color": "#17becf",
          "width": 2
         },
         "mode": "lines+markers",
         "name": "cumul_high.tsv",
         "showlegend": false,
         "type": "scatter",
         "x": [
          0,
          15
         ],
         "y": [
          518.75,
          518.421052631579
         ]
        },
        {
         "legendgroup": "cumul_high.tsv",
         "line": {
          "color": "#17becf",
          "width": 2
         },
         "mode": "lines+markers",
         "name": "cumul_high.tsv",
         "showlegend": false,
         "type": "scatter",
         "x": [
          0,
          15
         ],
         "y": [
          518.75,
          528.9473684210527
         ]
        },
        {
         "legendgroup": "cumul_high.tsv",
         "line": {
          "color": "#17becf",
          "width": 2
         },
         "mode": "lines+markers",
         "name": "cumul_high.tsv",
         "showlegend": false,
         "type": "scatter",
         "x": [
          0,
          15
         ],
         "y": [
          518.75,
          539.4736842105264
         ]
        },
        {
         "legendgroup": "cumul_high.tsv",
         "line": {
          "color": "#17becf",
          "width": 2
         },
         "mode": "lines+markers",
         "name": "cumul_high.tsv",
         "showlegend": false,
         "type": "scatter",
         "x": [
          0,
          15
         ],
         "y": [
          518.75,
          2239.4736842105267
         ]
        },
        {
         "legendgroup": "cumul_high.tsv",
         "line": {
          "color": "#17becf",
          "width": 2
         },
         "mode": "lines+markers",
         "name": "cumul_high.tsv",
         "showlegend": false,
         "type": "scatter",
         "x": [
          0,
          15
         ],
         "y": [
          518.75,
          2257.894736842105
         ]
        },
        {
         "legendgroup": "cumul_high.tsv",
         "line": {
          "color": "#17becf",
          "width": 2
         },
         "mode": "lines+markers",
         "name": "cumul_high.tsv",
         "showlegend": false,
         "type": "scatter",
         "x": [
          0,
          15
         ],
         "y": [
          546.25,
          2265.789473684211
         ]
        },
        {
         "legendgroup": "cumul_high.tsv",
         "line": {
          "color": "#17becf",
          "width": 2
         },
         "mode": "lines+markers",
         "name": "cumul_high.tsv",
         "showlegend": false,
         "type": "scatter",
         "x": [
          0,
          15
         ],
         "y": [
          546.25,
          2278.947368421053
         ]
        },
        {
         "legendgroup": "cumul_high.tsv",
         "line": {
          "color": "#17becf",
          "width": 2
         },
         "mode": "lines+markers",
         "name": "cumul_high.tsv",
         "showlegend": false,
         "type": "scatter",
         "x": [
          0,
          15
         ],
         "y": [
          546.25,
          2313.157894736842
         ]
        },
        {
         "legendgroup": "cumul_high.tsv",
         "line": {
          "color": "#17becf",
          "width": 2
         },
         "mode": "lines+markers",
         "name": "cumul_high.tsv",
         "showlegend": false,
         "type": "scatter",
         "x": [
          0,
          15
         ],
         "y": [
          546.25,
          2323.684210526316
         ]
        },
        {
         "legendgroup": "cumul_high.tsv",
         "line": {
          "color": "#17becf",
          "width": 2
         },
         "mode": "lines+markers",
         "name": "cumul_high.tsv",
         "showlegend": false,
         "type": "scatter",
         "x": [
          0,
          15
         ],
         "y": [
          546.25,
          2331.5789473684213
         ]
        },
        {
         "legendgroup": "cumul_high.tsv",
         "line": {
          "color": "#17becf",
          "width": 2
         },
         "mode": "lines+markers",
         "name": "cumul_high.tsv",
         "showlegend": false,
         "type": "scatter",
         "x": [
          0,
          15
         ],
         "y": [
          546.25,
          2344.736842105264
         ]
        },
        {
         "legendgroup": "cumul_high.tsv",
         "line": {
          "color": "#17becf",
          "width": 2
         },
         "mode": "lines+markers",
         "name": "cumul_high.tsv",
         "showlegend": false,
         "type": "scatter",
         "x": [
          0,
          15
         ],
         "y": [
          546.25,
          2360.5263157894738
         ]
        },
        {
         "legendgroup": "cumul_high.tsv",
         "line": {
          "color": "#17becf",
          "width": 2
         },
         "mode": "lines+markers",
         "name": "cumul_high.tsv",
         "showlegend": false,
         "type": "scatter",
         "x": [
          0,
          15
         ],
         "y": [
          546.25,
          2381.5789473684213
         ]
        },
        {
         "legendgroup": "cumul_high.tsv",
         "line": {
          "color": "#17becf",
          "width": 2
         },
         "mode": "lines+markers",
         "name": "cumul_high.tsv",
         "showlegend": false,
         "type": "scatter",
         "x": [
          0,
          15
         ],
         "y": [
          600,
          2392.105263157895
         ]
        },
        {
         "legendgroup": "cumul_high.tsv",
         "line": {
          "color": "#17becf",
          "width": 2
         },
         "mode": "lines+markers",
         "name": "cumul_high.tsv",
         "showlegend": false,
         "type": "scatter",
         "x": [
          0,
          15
         ],
         "y": [
          600,
          2397.368421052632
         ]
        },
        {
         "legendgroup": "cumul_high.tsv",
         "line": {
          "color": "#17becf",
          "width": 2
         },
         "mode": "lines+markers",
         "name": "cumul_high.tsv",
         "showlegend": false,
         "type": "scatter",
         "x": [
          0,
          15
         ],
         "y": [
          600,
          2952.631578947369
         ]
        },
        {
         "legendgroup": "cumul_high.tsv",
         "line": {
          "color": "#17becf",
          "width": 2
         },
         "mode": "lines+markers",
         "name": "cumul_high.tsv",
         "showlegend": false,
         "type": "scatter",
         "x": [
          0,
          15
         ],
         "y": [
          600,
          3055.263157894737
         ]
        },
        {
         "legendgroup": "cumul_low.tsv",
         "line": {
          "color": "#bcbd22",
          "width": 2
         },
         "mode": "lines+markers",
         "name": "cumul_low.tsv",
         "showlegend": true,
         "type": "scatter",
         "x": [
          0,
          15
         ],
         "y": [
          31.25,
          97.3684210526316
         ]
        },
        {
         "legendgroup": "cumul_low.tsv",
         "line": {
          "color": "#bcbd22",
          "width": 2
         },
         "mode": "lines+markers",
         "name": "cumul_low.tsv",
         "showlegend": false,
         "type": "scatter",
         "x": [
          0,
          15
         ],
         "y": [
          31.25,
          105.26315789473684
         ]
        },
        {
         "legendgroup": "cumul_low.tsv",
         "line": {
          "color": "#bcbd22",
          "width": 2
         },
         "mode": "lines+markers",
         "name": "cumul_low.tsv",
         "showlegend": false,
         "type": "scatter",
         "x": [
          0,
          15
         ],
         "y": [
          31.25,
          110.5263157894737
         ]
        },
        {
         "legendgroup": "cumul_low.tsv",
         "line": {
          "color": "#bcbd22",
          "width": 2
         },
         "mode": "lines+markers",
         "name": "cumul_low.tsv",
         "showlegend": false,
         "type": "scatter",
         "x": [
          0,
          15
         ],
         "y": [
          31.25,
          194.7368421052632
         ]
        },
        {
         "legendgroup": "cumul_low.tsv",
         "line": {
          "color": "#bcbd22",
          "width": 2
         },
         "mode": "lines+markers",
         "name": "cumul_low.tsv",
         "showlegend": false,
         "type": "scatter",
         "x": [
          0,
          15
         ],
         "y": [
          31.25,
          202.63157894736844
         ]
        },
        {
         "legendgroup": "cumul_low.tsv",
         "line": {
          "color": "#bcbd22",
          "width": 2
         },
         "mode": "lines+markers",
         "name": "cumul_low.tsv",
         "showlegend": false,
         "type": "scatter",
         "x": [
          0,
          15
         ],
         "y": [
          31.25,
          210.5263157894737
         ]
        },
        {
         "legendgroup": "cumul_low.tsv",
         "line": {
          "color": "#bcbd22",
          "width": 2
         },
         "mode": "lines+markers",
         "name": "cumul_low.tsv",
         "showlegend": false,
         "type": "scatter",
         "x": [
          0,
          15
         ],
         "y": [
          31.25,
          215.7894736842105
         ]
        },
        {
         "legendgroup": "cumul_low.tsv",
         "line": {
          "color": "#bcbd22",
          "width": 2
         },
         "mode": "lines+markers",
         "name": "cumul_low.tsv",
         "showlegend": false,
         "type": "scatter",
         "x": [
          0,
          15
         ],
         "y": [
          31.25,
          223.6842105263158
         ]
        },
        {
         "legendgroup": "cumul_low.tsv",
         "line": {
          "color": "#bcbd22",
          "width": 2
         },
         "mode": "lines+markers",
         "name": "cumul_low.tsv",
         "showlegend": false,
         "type": "scatter",
         "x": [
          0,
          15
         ],
         "y": [
          31.25,
          228.94736842105263
         ]
        },
        {
         "legendgroup": "cumul_low.tsv",
         "line": {
          "color": "#bcbd22",
          "width": 2
         },
         "mode": "lines+markers",
         "name": "cumul_low.tsv",
         "showlegend": false,
         "type": "scatter",
         "x": [
          0,
          15
         ],
         "y": [
          31.25,
          292.10526315789474
         ]
        },
        {
         "legendgroup": "cumul_low.tsv",
         "line": {
          "color": "#bcbd22",
          "width": 2
         },
         "mode": "lines+markers",
         "name": "cumul_low.tsv",
         "showlegend": false,
         "type": "scatter",
         "x": [
          0,
          15
         ],
         "y": [
          31.25,
          300
         ]
        },
        {
         "legendgroup": "cumul_low.tsv",
         "line": {
          "color": "#bcbd22",
          "width": 2
         },
         "mode": "lines+markers",
         "name": "cumul_low.tsv",
         "showlegend": false,
         "type": "scatter",
         "x": [
          0,
          15
         ],
         "y": [
          31.25,
          307.89473684210526
         ]
        },
        {
         "legendgroup": "cumul_low.tsv",
         "line": {
          "color": "#bcbd22",
          "width": 2
         },
         "mode": "lines+markers",
         "name": "cumul_low.tsv",
         "showlegend": false,
         "type": "scatter",
         "x": [
          0,
          15
         ],
         "y": [
          31.25,
          313.15789473684214
         ]
        },
        {
         "legendgroup": "cumul_low.tsv",
         "line": {
          "color": "#bcbd22",
          "width": 2
         },
         "mode": "lines+markers",
         "name": "cumul_low.tsv",
         "showlegend": false,
         "type": "scatter",
         "x": [
          0,
          15
         ],
         "y": [
          75,
          321.0526315789474
         ]
        },
        {
         "legendgroup": "cumul_low.tsv",
         "line": {
          "color": "#bcbd22",
          "width": 2
         },
         "mode": "lines+markers",
         "name": "cumul_low.tsv",
         "showlegend": false,
         "type": "scatter",
         "x": [
          0,
          15
         ],
         "y": [
          75,
          328.94736842105266
         ]
        },
        {
         "legendgroup": "cumul_low.tsv",
         "line": {
          "color": "#bcbd22",
          "width": 2
         },
         "mode": "lines+markers",
         "name": "cumul_low.tsv",
         "showlegend": false,
         "type": "scatter",
         "x": [
          0,
          15
         ],
         "y": [
          75,
          334.2105263157895
         ]
        },
        {
         "legendgroup": "cumul_low.tsv",
         "line": {
          "color": "#bcbd22",
          "width": 2
         },
         "mode": "lines+markers",
         "name": "cumul_low.tsv",
         "showlegend": false,
         "type": "scatter",
         "x": [
          0,
          15
         ],
         "y": [
          75,
          339.4736842105264
         ]
        },
        {
         "legendgroup": "cumul_low.tsv",
         "line": {
          "color": "#bcbd22",
          "width": 2
         },
         "mode": "lines+markers",
         "name": "cumul_low.tsv",
         "showlegend": false,
         "type": "scatter",
         "x": [
          0,
          15
         ],
         "y": [
          75,
          344.7368421052632
         ]
        },
        {
         "legendgroup": "cumul_low.tsv",
         "line": {
          "color": "#bcbd22",
          "width": 2
         },
         "mode": "lines+markers",
         "name": "cumul_low.tsv",
         "showlegend": false,
         "type": "scatter",
         "x": [
          0,
          15
         ],
         "y": [
          75,
          407.8947368421053
         ]
        },
        {
         "legendgroup": "cumul_low.tsv",
         "line": {
          "color": "#bcbd22",
          "width": 2
         },
         "mode": "lines+markers",
         "name": "cumul_low.tsv",
         "showlegend": false,
         "type": "scatter",
         "x": [
          0,
          15
         ],
         "y": [
          75,
          415.7894736842106
         ]
        },
        {
         "legendgroup": "cumul_low.tsv",
         "line": {
          "color": "#bcbd22",
          "width": 2
         },
         "mode": "lines+markers",
         "name": "cumul_low.tsv",
         "showlegend": false,
         "type": "scatter",
         "x": [
          0,
          15
         ],
         "y": [
          75,
          426.3157894736842
         ]
        },
        {
         "legendgroup": "cumul_low.tsv",
         "line": {
          "color": "#bcbd22",
          "width": 2
         },
         "mode": "lines+markers",
         "name": "cumul_low.tsv",
         "showlegend": false,
         "type": "scatter",
         "x": [
          0,
          15
         ],
         "y": [
          75,
          434.2105263157895
         ]
        },
        {
         "legendgroup": "cumul_low.tsv",
         "line": {
          "color": "#bcbd22",
          "width": 2
         },
         "mode": "lines+markers",
         "name": "cumul_low.tsv",
         "showlegend": false,
         "type": "scatter",
         "x": [
          0,
          15
         ],
         "y": [
          75,
          439.4736842105264
         ]
        },
        {
         "legendgroup": "cumul_low.tsv",
         "line": {
          "color": "#bcbd22",
          "width": 2
         },
         "mode": "lines+markers",
         "name": "cumul_low.tsv",
         "showlegend": false,
         "type": "scatter",
         "x": [
          0,
          15
         ],
         "y": [
          75,
          513.1578947368422
         ]
        },
        {
         "legendgroup": "cumul_low.tsv",
         "line": {
          "color": "#bcbd22",
          "width": 2
         },
         "mode": "lines+markers",
         "name": "cumul_low.tsv",
         "showlegend": false,
         "type": "scatter",
         "x": [
          0,
          15
         ],
         "y": [
          75,
          518.421052631579
         ]
        },
        {
         "legendgroup": "cumul_low.tsv",
         "line": {
          "color": "#bcbd22",
          "width": 2
         },
         "mode": "lines+markers",
         "name": "cumul_low.tsv",
         "showlegend": false,
         "type": "scatter",
         "x": [
          0,
          15
         ],
         "y": [
          75,
          528.9473684210527
         ]
        },
        {
         "legendgroup": "cumul_low.tsv",
         "line": {
          "color": "#bcbd22",
          "width": 2
         },
         "mode": "lines+markers",
         "name": "cumul_low.tsv",
         "showlegend": false,
         "type": "scatter",
         "x": [
          0,
          15
         ],
         "y": [
          75,
          539.4736842105264
         ]
        },
        {
         "legendgroup": "cumul_low.tsv",
         "line": {
          "color": "#bcbd22",
          "width": 2
         },
         "mode": "lines+markers",
         "name": "cumul_low.tsv",
         "showlegend": false,
         "type": "scatter",
         "x": [
          0,
          15
         ],
         "y": [
          127.5,
          2239.4736842105267
         ]
        },
        {
         "legendgroup": "cumul_low.tsv",
         "line": {
          "color": "#bcbd22",
          "width": 2
         },
         "mode": "lines+markers",
         "name": "cumul_low.tsv",
         "showlegend": false,
         "type": "scatter",
         "x": [
          0,
          15
         ],
         "y": [
          127.5,
          2257.894736842105
         ]
        },
        {
         "legendgroup": "cumul_low.tsv",
         "line": {
          "color": "#bcbd22",
          "width": 2
         },
         "mode": "lines+markers",
         "name": "cumul_low.tsv",
         "showlegend": false,
         "type": "scatter",
         "x": [
          0,
          15
         ],
         "y": [
          127.5,
          2265.789473684211
         ]
        },
        {
         "legendgroup": "cumul_low.tsv",
         "line": {
          "color": "#bcbd22",
          "width": 2
         },
         "mode": "lines+markers",
         "name": "cumul_low.tsv",
         "showlegend": false,
         "type": "scatter",
         "x": [
          0,
          15
         ],
         "y": [
          127.5,
          2278.947368421053
         ]
        },
        {
         "legendgroup": "cumul_low.tsv",
         "line": {
          "color": "#bcbd22",
          "width": 2
         },
         "mode": "lines+markers",
         "name": "cumul_low.tsv",
         "showlegend": false,
         "type": "scatter",
         "x": [
          0,
          15
         ],
         "y": [
          238.75,
          2313.157894736842
         ]
        },
        {
         "legendgroup": "cumul_low.tsv",
         "line": {
          "color": "#bcbd22",
          "width": 2
         },
         "mode": "lines+markers",
         "name": "cumul_low.tsv",
         "showlegend": false,
         "type": "scatter",
         "x": [
          0,
          15
         ],
         "y": [
          238.75,
          2323.684210526316
         ]
        },
        {
         "legendgroup": "cumul_low.tsv",
         "line": {
          "color": "#bcbd22",
          "width": 2
         },
         "mode": "lines+markers",
         "name": "cumul_low.tsv",
         "showlegend": false,
         "type": "scatter",
         "x": [
          0,
          15
         ],
         "y": [
          321.25,
          2331.5789473684213
         ]
        },
        {
         "legendgroup": "cumul_low.tsv",
         "line": {
          "color": "#bcbd22",
          "width": 2
         },
         "mode": "lines+markers",
         "name": "cumul_low.tsv",
         "showlegend": false,
         "type": "scatter",
         "x": [
          0,
          15
         ],
         "y": [
          321.25,
          2344.736842105264
         ]
        },
        {
         "legendgroup": "cumul_low.tsv",
         "line": {
          "color": "#bcbd22",
          "width": 2
         },
         "mode": "lines+markers",
         "name": "cumul_low.tsv",
         "showlegend": false,
         "type": "scatter",
         "x": [
          0,
          15
         ],
         "y": [
          393.75,
          2360.5263157894738
         ]
        },
        {
         "legendgroup": "cumul_low.tsv",
         "line": {
          "color": "#bcbd22",
          "width": 2
         },
         "mode": "lines+markers",
         "name": "cumul_low.tsv",
         "showlegend": false,
         "type": "scatter",
         "x": [
          0,
          15
         ],
         "y": [
          393.75,
          2381.5789473684213
         ]
        },
        {
         "legendgroup": "cumul_low.tsv",
         "line": {
          "color": "#bcbd22",
          "width": 2
         },
         "mode": "lines+markers",
         "name": "cumul_low.tsv",
         "showlegend": false,
         "type": "scatter",
         "x": [
          0,
          15
         ],
         "y": [
          398.75,
          2392.105263157895
         ]
        },
        {
         "legendgroup": "cumul_low.tsv",
         "line": {
          "color": "#bcbd22",
          "width": 2
         },
         "mode": "lines+markers",
         "name": "cumul_low.tsv",
         "showlegend": false,
         "type": "scatter",
         "x": [
          0,
          15
         ],
         "y": [
          518.75,
          2397.368421052632
         ]
        },
        {
         "legendgroup": "cumul_low.tsv",
         "line": {
          "color": "#bcbd22",
          "width": 2
         },
         "mode": "lines+markers",
         "name": "cumul_low.tsv",
         "showlegend": false,
         "type": "scatter",
         "x": [
          0,
          15
         ],
         "y": [
          546.25,
          2952.631578947369
         ]
        },
        {
         "legendgroup": "cumul_low.tsv",
         "line": {
          "color": "#bcbd22",
          "width": 2
         },
         "mode": "lines+markers",
         "name": "cumul_low.tsv",
         "showlegend": false,
         "type": "scatter",
         "x": [
          0,
          15
         ],
         "y": [
          600,
          3055.263157894737
         ]
        }
       ],
       "layout": {
        "height": 700,
        "template": {
         "data": {
          "bar": [
           {
            "error_x": {
             "color": "#2a3f5f"
            },
            "error_y": {
             "color": "#2a3f5f"
            },
            "marker": {
             "line": {
              "color": "white",
              "width": 0.5
             },
             "pattern": {
              "fillmode": "overlay",
              "size": 10,
              "solidity": 0.2
             }
            },
            "type": "bar"
           }
          ],
          "barpolar": [
           {
            "marker": {
             "line": {
              "color": "white",
              "width": 0.5
             },
             "pattern": {
              "fillmode": "overlay",
              "size": 10,
              "solidity": 0.2
             }
            },
            "type": "barpolar"
           }
          ],
          "carpet": [
           {
            "aaxis": {
             "endlinecolor": "#2a3f5f",
             "gridcolor": "#C8D4E3",
             "linecolor": "#C8D4E3",
             "minorgridcolor": "#C8D4E3",
             "startlinecolor": "#2a3f5f"
            },
            "baxis": {
             "endlinecolor": "#2a3f5f",
             "gridcolor": "#C8D4E3",
             "linecolor": "#C8D4E3",
             "minorgridcolor": "#C8D4E3",
             "startlinecolor": "#2a3f5f"
            },
            "type": "carpet"
           }
          ],
          "choropleth": [
           {
            "colorbar": {
             "outlinewidth": 0,
             "ticks": ""
            },
            "type": "choropleth"
           }
          ],
          "contour": [
           {
            "colorbar": {
             "outlinewidth": 0,
             "ticks": ""
            },
            "colorscale": [
             [
              0,
              "#0d0887"
             ],
             [
              0.1111111111111111,
              "#46039f"
             ],
             [
              0.2222222222222222,
              "#7201a8"
             ],
             [
              0.3333333333333333,
              "#9c179e"
             ],
             [
              0.4444444444444444,
              "#bd3786"
             ],
             [
              0.5555555555555556,
              "#d8576b"
             ],
             [
              0.6666666666666666,
              "#ed7953"
             ],
             [
              0.7777777777777778,
              "#fb9f3a"
             ],
             [
              0.8888888888888888,
              "#fdca26"
             ],
             [
              1,
              "#f0f921"
             ]
            ],
            "type": "contour"
           }
          ],
          "contourcarpet": [
           {
            "colorbar": {
             "outlinewidth": 0,
             "ticks": ""
            },
            "type": "contourcarpet"
           }
          ],
          "heatmap": [
           {
            "colorbar": {
             "outlinewidth": 0,
             "ticks": ""
            },
            "colorscale": [
             [
              0,
              "#0d0887"
             ],
             [
              0.1111111111111111,
              "#46039f"
             ],
             [
              0.2222222222222222,
              "#7201a8"
             ],
             [
              0.3333333333333333,
              "#9c179e"
             ],
             [
              0.4444444444444444,
              "#bd3786"
             ],
             [
              0.5555555555555556,
              "#d8576b"
             ],
             [
              0.6666666666666666,
              "#ed7953"
             ],
             [
              0.7777777777777778,
              "#fb9f3a"
             ],
             [
              0.8888888888888888,
              "#fdca26"
             ],
             [
              1,
              "#f0f921"
             ]
            ],
            "type": "heatmap"
           }
          ],
          "heatmapgl": [
           {
            "colorbar": {
             "outlinewidth": 0,
             "ticks": ""
            },
            "colorscale": [
             [
              0,
              "#0d0887"
             ],
             [
              0.1111111111111111,
              "#46039f"
             ],
             [
              0.2222222222222222,
              "#7201a8"
             ],
             [
              0.3333333333333333,
              "#9c179e"
             ],
             [
              0.4444444444444444,
              "#bd3786"
             ],
             [
              0.5555555555555556,
              "#d8576b"
             ],
             [
              0.6666666666666666,
              "#ed7953"
             ],
             [
              0.7777777777777778,
              "#fb9f3a"
             ],
             [
              0.8888888888888888,
              "#fdca26"
             ],
             [
              1,
              "#f0f921"
             ]
            ],
            "type": "heatmapgl"
           }
          ],
          "histogram": [
           {
            "marker": {
             "pattern": {
              "fillmode": "overlay",
              "size": 10,
              "solidity": 0.2
             }
            },
            "type": "histogram"
           }
          ],
          "histogram2d": [
           {
            "colorbar": {
             "outlinewidth": 0,
             "ticks": ""
            },
            "colorscale": [
             [
              0,
              "#0d0887"
             ],
             [
              0.1111111111111111,
              "#46039f"
             ],
             [
              0.2222222222222222,
              "#7201a8"
             ],
             [
              0.3333333333333333,
              "#9c179e"
             ],
             [
              0.4444444444444444,
              "#bd3786"
             ],
             [
              0.5555555555555556,
              "#d8576b"
             ],
             [
              0.6666666666666666,
              "#ed7953"
             ],
             [
              0.7777777777777778,
              "#fb9f3a"
             ],
             [
              0.8888888888888888,
              "#fdca26"
             ],
             [
              1,
              "#f0f921"
             ]
            ],
            "type": "histogram2d"
           }
          ],
          "histogram2dcontour": [
           {
            "colorbar": {
             "outlinewidth": 0,
             "ticks": ""
            },
            "colorscale": [
             [
              0,
              "#0d0887"
             ],
             [
              0.1111111111111111,
              "#46039f"
             ],
             [
              0.2222222222222222,
              "#7201a8"
             ],
             [
              0.3333333333333333,
              "#9c179e"
             ],
             [
              0.4444444444444444,
              "#bd3786"
             ],
             [
              0.5555555555555556,
              "#d8576b"
             ],
             [
              0.6666666666666666,
              "#ed7953"
             ],
             [
              0.7777777777777778,
              "#fb9f3a"
             ],
             [
              0.8888888888888888,
              "#fdca26"
             ],
             [
              1,
              "#f0f921"
             ]
            ],
            "type": "histogram2dcontour"
           }
          ],
          "mesh3d": [
           {
            "colorbar": {
             "outlinewidth": 0,
             "ticks": ""
            },
            "type": "mesh3d"
           }
          ],
          "parcoords": [
           {
            "line": {
             "colorbar": {
              "outlinewidth": 0,
              "ticks": ""
             }
            },
            "type": "parcoords"
           }
          ],
          "pie": [
           {
            "automargin": true,
            "type": "pie"
           }
          ],
          "scatter": [
           {
            "fillpattern": {
             "fillmode": "overlay",
             "size": 10,
             "solidity": 0.2
            },
            "type": "scatter"
           }
          ],
          "scatter3d": [
           {
            "line": {
             "colorbar": {
              "outlinewidth": 0,
              "ticks": ""
             }
            },
            "marker": {
             "colorbar": {
              "outlinewidth": 0,
              "ticks": ""
             }
            },
            "type": "scatter3d"
           }
          ],
          "scattercarpet": [
           {
            "marker": {
             "colorbar": {
              "outlinewidth": 0,
              "ticks": ""
             }
            },
            "type": "scattercarpet"
           }
          ],
          "scattergeo": [
           {
            "marker": {
             "colorbar": {
              "outlinewidth": 0,
              "ticks": ""
             }
            },
            "type": "scattergeo"
           }
          ],
          "scattergl": [
           {
            "marker": {
             "colorbar": {
              "outlinewidth": 0,
              "ticks": ""
             }
            },
            "type": "scattergl"
           }
          ],
          "scattermapbox": [
           {
            "marker": {
             "colorbar": {
              "outlinewidth": 0,
              "ticks": ""
             }
            },
            "type": "scattermapbox"
           }
          ],
          "scatterpolar": [
           {
            "marker": {
             "colorbar": {
              "outlinewidth": 0,
              "ticks": ""
             }
            },
            "type": "scatterpolar"
           }
          ],
          "scatterpolargl": [
           {
            "marker": {
             "colorbar": {
              "outlinewidth": 0,
              "ticks": ""
             }
            },
            "type": "scatterpolargl"
           }
          ],
          "scatterternary": [
           {
            "marker": {
             "colorbar": {
              "outlinewidth": 0,
              "ticks": ""
             }
            },
            "type": "scatterternary"
           }
          ],
          "surface": [
           {
            "colorbar": {
             "outlinewidth": 0,
             "ticks": ""
            },
            "colorscale": [
             [
              0,
              "#0d0887"
             ],
             [
              0.1111111111111111,
              "#46039f"
             ],
             [
              0.2222222222222222,
              "#7201a8"
             ],
             [
              0.3333333333333333,
              "#9c179e"
             ],
             [
              0.4444444444444444,
              "#bd3786"
             ],
             [
              0.5555555555555556,
              "#d8576b"
             ],
             [
              0.6666666666666666,
              "#ed7953"
             ],
             [
              0.7777777777777778,
              "#fb9f3a"
             ],
             [
              0.8888888888888888,
              "#fdca26"
             ],
             [
              1,
              "#f0f921"
             ]
            ],
            "type": "surface"
           }
          ],
          "table": [
           {
            "cells": {
             "fill": {
              "color": "#EBF0F8"
             },
             "line": {
              "color": "white"
             }
            },
            "header": {
             "fill": {
              "color": "#C8D4E3"
             },
             "line": {
              "color": "white"
             }
            },
            "type": "table"
           }
          ]
         },
         "layout": {
          "annotationdefaults": {
           "arrowcolor": "#2a3f5f",
           "arrowhead": 0,
           "arrowwidth": 1
          },
          "autotypenumbers": "strict",
          "coloraxis": {
           "colorbar": {
            "outlinewidth": 0,
            "ticks": ""
           }
          },
          "colorscale": {
           "diverging": [
            [
             0,
             "#8e0152"
            ],
            [
             0.1,
             "#c51b7d"
            ],
            [
             0.2,
             "#de77ae"
            ],
            [
             0.3,
             "#f1b6da"
            ],
            [
             0.4,
             "#fde0ef"
            ],
            [
             0.5,
             "#f7f7f7"
            ],
            [
             0.6,
             "#e6f5d0"
            ],
            [
             0.7,
             "#b8e186"
            ],
            [
             0.8,
             "#7fbc41"
            ],
            [
             0.9,
             "#4d9221"
            ],
            [
             1,
             "#276419"
            ]
           ],
           "sequential": [
            [
             0,
             "#0d0887"
            ],
            [
             0.1111111111111111,
             "#46039f"
            ],
            [
             0.2222222222222222,
             "#7201a8"
            ],
            [
             0.3333333333333333,
             "#9c179e"
            ],
            [
             0.4444444444444444,
             "#bd3786"
            ],
            [
             0.5555555555555556,
             "#d8576b"
            ],
            [
             0.6666666666666666,
             "#ed7953"
            ],
            [
             0.7777777777777778,
             "#fb9f3a"
            ],
            [
             0.8888888888888888,
             "#fdca26"
            ],
            [
             1,
             "#f0f921"
            ]
           ],
           "sequentialminus": [
            [
             0,
             "#0d0887"
            ],
            [
             0.1111111111111111,
             "#46039f"
            ],
            [
             0.2222222222222222,
             "#7201a8"
            ],
            [
             0.3333333333333333,
             "#9c179e"
            ],
            [
             0.4444444444444444,
             "#bd3786"
            ],
            [
             0.5555555555555556,
             "#d8576b"
            ],
            [
             0.6666666666666666,
             "#ed7953"
            ],
            [
             0.7777777777777778,
             "#fb9f3a"
            ],
            [
             0.8888888888888888,
             "#fdca26"
            ],
            [
             1,
             "#f0f921"
            ]
           ]
          },
          "colorway": [
           "#636efa",
           "#EF553B",
           "#00cc96",
           "#ab63fa",
           "#FFA15A",
           "#19d3f3",
           "#FF6692",
           "#B6E880",
           "#FF97FF",
           "#FECB52"
          ],
          "font": {
           "color": "#2a3f5f"
          },
          "geo": {
           "bgcolor": "white",
           "lakecolor": "white",
           "landcolor": "white",
           "showlakes": true,
           "showland": true,
           "subunitcolor": "#C8D4E3"
          },
          "hoverlabel": {
           "align": "left"
          },
          "hovermode": "closest",
          "mapbox": {
           "style": "light"
          },
          "paper_bgcolor": "white",
          "plot_bgcolor": "white",
          "polar": {
           "angularaxis": {
            "gridcolor": "#EBF0F8",
            "linecolor": "#EBF0F8",
            "ticks": ""
           },
           "bgcolor": "white",
           "radialaxis": {
            "gridcolor": "#EBF0F8",
            "linecolor": "#EBF0F8",
            "ticks": ""
           }
          },
          "scene": {
           "xaxis": {
            "backgroundcolor": "white",
            "gridcolor": "#DFE8F3",
            "gridwidth": 2,
            "linecolor": "#EBF0F8",
            "showbackground": true,
            "ticks": "",
            "zerolinecolor": "#EBF0F8"
           },
           "yaxis": {
            "backgroundcolor": "white",
            "gridcolor": "#DFE8F3",
            "gridwidth": 2,
            "linecolor": "#EBF0F8",
            "showbackground": true,
            "ticks": "",
            "zerolinecolor": "#EBF0F8"
           },
           "zaxis": {
            "backgroundcolor": "white",
            "gridcolor": "#DFE8F3",
            "gridwidth": 2,
            "linecolor": "#EBF0F8",
            "showbackground": true,
            "ticks": "",
            "zerolinecolor": "#EBF0F8"
           }
          },
          "shapedefaults": {
           "line": {
            "color": "#2a3f5f"
           }
          },
          "ternary": {
           "aaxis": {
            "gridcolor": "#DFE8F3",
            "linecolor": "#A2B1C6",
            "ticks": ""
           },
           "baxis": {
            "gridcolor": "#DFE8F3",
            "linecolor": "#A2B1C6",
            "ticks": ""
           },
           "bgcolor": "white",
           "caxis": {
            "gridcolor": "#DFE8F3",
            "linecolor": "#A2B1C6",
            "ticks": ""
           }
          },
          "title": {
           "x": 0.05
          },
          "xaxis": {
           "automargin": true,
           "gridcolor": "#EBF0F8",
           "linecolor": "#EBF0F8",
           "ticks": "",
           "title": {
            "standoff": 15
           },
           "zerolinecolor": "#EBF0F8",
           "zerolinewidth": 2
          },
          "yaxis": {
           "automargin": true,
           "gridcolor": "#EBF0F8",
           "linecolor": "#EBF0F8",
           "ticks": "",
           "title": {
            "standoff": 15
           },
           "zerolinecolor": "#EBF0F8",
           "zerolinewidth": 2
          }
         }
        },
        "title": {
         "text": "Time vs Frequency for Each Event"
        },
        "width": 900,
        "xaxis": {
         "autorange": true,
         "range": [
          -0.9413900414937758,
          15.941390041493776
         ],
         "title": {
          "text": "Time (s)"
         },
         "type": "linear"
        },
        "yaxis": {
         "autorange": true,
         "range": [
          -164.11241356648952,
          3250.6255714612266
         ],
         "title": {
          "text": "Frequency"
         },
         "type": "linear"
        }
       }
      },
      "image/png": "[encoded data removed]",
      "text/html": [
       "<div>                            <div id=\"5f72f9bd-947f-4316-b05a-07b7b5f23a33\" class=\"plotly-graph-div\" style=\"height:700px; width:900px;\"></div>            <script type=\"text/javascript\">                require([\"plotly\"], function(Plotly) {                    window.PLOTLYENV=window.PLOTLYENV || {};                                    if (document.getElementById(\"5f72f9bd-947f-4316-b05a-07b7b5f23a33\")) {                    Plotly.newPlot(                        \"5f72f9bd-947f-4316-b05a-07b7b5f23a33\",                        [{\"legendgroup\":\"cumul_high.tsv\",\"line\":{\"color\":\"#17becf\",\"width\":2},\"mode\":\"lines+markers\",\"name\":\"cumul_high.tsv\",\"showlegend\":true,\"x\":[0.0,15.0],\"y\":[31.25,97.3684210526316],\"type\":\"scatter\"},{\"legendgroup\":\"cumul_high.tsv\",\"line\":{\"color\":\"#17becf\",\"width\":2},\"mode\":\"lines+markers\",\"name\":\"cumul_high.tsv\",\"showlegend\":false,\"x\":[0.0,15.0],\"y\":[75.0,105.26315789473684],\"type\":\"scatter\"},{\"legendgroup\":\"cumul_high.tsv\",\"line\":{\"color\":\"#17becf\",\"width\":2},\"mode\":\"lines+markers\",\"name\":\"cumul_high.tsv\",\"showlegend\":false,\"x\":[0.0,15.0],\"y\":[127.5,110.5263157894737],\"type\":\"scatter\"},{\"legendgroup\":\"cumul_high.tsv\",\"line\":{\"color\":\"#17becf\",\"width\":2},\"mode\":\"lines+markers\",\"name\":\"cumul_high.tsv\",\"showlegend\":false,\"x\":[0.0,15.0],\"y\":[127.5,194.7368421052632],\"type\":\"scatter\"},{\"legendgroup\":\"cumul_high.tsv\",\"line\":{\"color\":\"#17becf\",\"width\":2},\"mode\":\"lines+markers\",\"name\":\"cumul_high.tsv\",\"showlegend\":false,\"x\":[0.0,15.0],\"y\":[238.75,202.63157894736844],\"type\":\"scatter\"},{\"legendgroup\":\"cumul_high.tsv\",\"line\":{\"color\":\"#17becf\",\"width\":2},\"mode\":\"lines+markers\",\"name\":\"cumul_high.tsv\",\"showlegend\":false,\"x\":[0.0,15.0],\"y\":[238.75,210.5263157894737],\"type\":\"scatter\"},{\"legendgroup\":\"cumul_high.tsv\",\"line\":{\"color\":\"#17becf\",\"width\":2},\"mode\":\"lines+markers\",\"name\":\"cumul_high.tsv\",\"showlegend\":false,\"x\":[0.0,15.0],\"y\":[238.75,215.7894736842105],\"type\":\"scatter\"},{\"legendgroup\":\"cumul_high.tsv\",\"line\":{\"color\":\"#17becf\",\"width\":2},\"mode\":\"lines+markers\",\"name\":\"cumul_high.tsv\",\"showlegend\":false,\"x\":[0.0,15.0],\"y\":[321.25,223.6842105263158],\"type\":\"scatter\"},{\"legendgroup\":\"cumul_high.tsv\",\"line\":{\"color\":\"#17becf\",\"width\":2},\"mode\":\"lines+markers\",\"name\":\"cumul_high.tsv\",\"showlegend\":false,\"x\":[0.0,15.0],\"y\":[321.25,228.94736842105263],\"type\":\"scatter\"},{\"legendgroup\":\"cumul_high.tsv\",\"line\":{\"color\":\"#17becf\",\"width\":2},\"mode\":\"lines+markers\",\"name\":\"cumul_high.tsv\",\"showlegend\":false,\"x\":[0.0,15.0],\"y\":[321.25,292.10526315789474],\"type\":\"scatter\"},{\"legendgroup\":\"cumul_high.tsv\",\"line\":{\"color\":\"#17becf\",\"width\":2},\"mode\":\"lines+markers\",\"name\":\"cumul_high.tsv\",\"showlegend\":false,\"x\":[0.0,15.0],\"y\":[321.25,300.0],\"type\":\"scatter\"},{\"legendgroup\":\"cumul_high.tsv\",\"line\":{\"color\":\"#17becf\",\"width\":2},\"mode\":\"lines+markers\",\"name\":\"cumul_high.tsv\",\"showlegend\":false,\"x\":[0.0,15.0],\"y\":[393.75,307.89473684210526],\"type\":\"scatter\"},{\"legendgroup\":\"cumul_high.tsv\",\"line\":{\"color\":\"#17becf\",\"width\":2},\"mode\":\"lines+markers\",\"name\":\"cumul_high.tsv\",\"showlegend\":false,\"x\":[0.0,15.0],\"y\":[393.75,313.15789473684214],\"type\":\"scatter\"},{\"legendgroup\":\"cumul_high.tsv\",\"line\":{\"color\":\"#17becf\",\"width\":2},\"mode\":\"lines+markers\",\"name\":\"cumul_high.tsv\",\"showlegend\":false,\"x\":[0.0,15.0],\"y\":[393.75,321.0526315789474],\"type\":\"scatter\"},{\"legendgroup\":\"cumul_high.tsv\",\"line\":{\"color\":\"#17becf\",\"width\":2},\"mode\":\"lines+markers\",\"name\":\"cumul_high.tsv\",\"showlegend\":false,\"x\":[0.0,15.0],\"y\":[393.75,328.94736842105266],\"type\":\"scatter\"},{\"legendgroup\":\"cumul_high.tsv\",\"line\":{\"color\":\"#17becf\",\"width\":2},\"mode\":\"lines+markers\",\"name\":\"cumul_high.tsv\",\"showlegend\":false,\"x\":[0.0,15.0],\"y\":[393.75,334.2105263157895],\"type\":\"scatter\"},{\"legendgroup\":\"cumul_high.tsv\",\"line\":{\"color\":\"#17becf\",\"width\":2},\"mode\":\"lines+markers\",\"name\":\"cumul_high.tsv\",\"showlegend\":false,\"x\":[0.0,15.0],\"y\":[398.75,339.4736842105264],\"type\":\"scatter\"},{\"legendgroup\":\"cumul_high.tsv\",\"line\":{\"color\":\"#17becf\",\"width\":2},\"mode\":\"lines+markers\",\"name\":\"cumul_high.tsv\",\"showlegend\":false,\"x\":[0.0,15.0],\"y\":[398.75,344.7368421052632],\"type\":\"scatter\"},{\"legendgroup\":\"cumul_high.tsv\",\"line\":{\"color\":\"#17becf\",\"width\":2},\"mode\":\"lines+markers\",\"name\":\"cumul_high.tsv\",\"showlegend\":false,\"x\":[0.0,15.0],\"y\":[398.75,407.8947368421053],\"type\":\"scatter\"},{\"legendgroup\":\"cumul_high.tsv\",\"line\":{\"color\":\"#17becf\",\"width\":2},\"mode\":\"lines+markers\",\"name\":\"cumul_high.tsv\",\"showlegend\":false,\"x\":[0.0,15.0],\"y\":[398.75,415.7894736842106],\"type\":\"scatter\"},{\"legendgroup\":\"cumul_high.tsv\",\"line\":{\"color\":\"#17becf\",\"width\":2},\"mode\":\"lines+markers\",\"name\":\"cumul_high.tsv\",\"showlegend\":false,\"x\":[0.0,15.0],\"y\":[398.75,426.3157894736842],\"type\":\"scatter\"},{\"legendgroup\":\"cumul_high.tsv\",\"line\":{\"color\":\"#17becf\",\"width\":2},\"mode\":\"lines+markers\",\"name\":\"cumul_high.tsv\",\"showlegend\":false,\"x\":[0.0,15.0],\"y\":[398.75,434.2105263157895],\"type\":\"scatter\"},{\"legendgroup\":\"cumul_high.tsv\",\"line\":{\"color\":\"#17becf\",\"width\":2},\"mode\":\"lines+markers\",\"name\":\"cumul_high.tsv\",\"showlegend\":false,\"x\":[0.0,15.0],\"y\":[518.75,439.4736842105264],\"type\":\"scatter\"},{\"legendgroup\":\"cumul_high.tsv\",\"line\":{\"color\":\"#17becf\",\"width\":2},\"mode\":\"lines+markers\",\"name\":\"cumul_high.tsv\",\"showlegend\":false,\"x\":[0.0,15.0],\"y\":[518.75,513.1578947368422],\"type\":\"scatter\"},{\"legendgroup\":\"cumul_high.tsv\",\"line\":{\"color\":\"#17becf\",\"width\":2},\"mode\":\"lines+markers\",\"name\":\"cumul_high.tsv\",\"showlegend\":false,\"x\":[0.0,15.0],\"y\":[518.75,518.421052631579],\"type\":\"scatter\"},{\"legendgroup\":\"cumul_high.tsv\",\"line\":{\"color\":\"#17becf\",\"width\":2},\"mode\":\"lines+markers\",\"name\":\"cumul_high.tsv\",\"showlegend\":false,\"x\":[0.0,15.0],\"y\":[518.75,528.9473684210527],\"type\":\"scatter\"},{\"legendgroup\":\"cumul_high.tsv\",\"line\":{\"color\":\"#17becf\",\"width\":2},\"mode\":\"lines+markers\",\"name\":\"cumul_high.tsv\",\"showlegend\":false,\"x\":[0.0,15.0],\"y\":[518.75,539.4736842105264],\"type\":\"scatter\"},{\"legendgroup\":\"cumul_high.tsv\",\"line\":{\"color\":\"#17becf\",\"width\":2},\"mode\":\"lines+markers\",\"name\":\"cumul_high.tsv\",\"showlegend\":false,\"x\":[0.0,15.0],\"y\":[518.75,2239.4736842105267],\"type\":\"scatter\"},{\"legendgroup\":\"cumul_high.tsv\",\"line\":{\"color\":\"#17becf\",\"width\":2},\"mode\":\"lines+markers\",\"name\":\"cumul_high.tsv\",\"showlegend\":false,\"x\":[0.0,15.0],\"y\":[518.75,2257.894736842105],\"type\":\"scatter\"},{\"legendgroup\":\"cumul_high.tsv\",\"line\":{\"color\":\"#17becf\",\"width\":2},\"mode\":\"lines+markers\",\"name\":\"cumul_high.tsv\",\"showlegend\":false,\"x\":[0.0,15.0],\"y\":[546.25,2265.789473684211],\"type\":\"scatter\"},{\"legendgroup\":\"cumul_high.tsv\",\"line\":{\"color\":\"#17becf\",\"width\":2},\"mode\":\"lines+markers\",\"name\":\"cumul_high.tsv\",\"showlegend\":false,\"x\":[0.0,15.0],\"y\":[546.25,2278.947368421053],\"type\":\"scatter\"},{\"legendgroup\":\"cumul_high.tsv\",\"line\":{\"color\":\"#17becf\",\"width\":2},\"mode\":\"lines+markers\",\"name\":\"cumul_high.tsv\",\"showlegend\":false,\"x\":[0.0,15.0],\"y\":[546.25,2313.157894736842],\"type\":\"scatter\"},{\"legendgroup\":\"cumul_high.tsv\",\"line\":{\"color\":\"#17becf\",\"width\":2},\"mode\":\"lines+markers\",\"name\":\"cumul_high.tsv\",\"showlegend\":false,\"x\":[0.0,15.0],\"y\":[546.25,2323.684210526316],\"type\":\"scatter\"},{\"legendgroup\":\"cumul_high.tsv\",\"line\":{\"color\":\"#17becf\",\"width\":2},\"mode\":\"lines+markers\",\"name\":\"cumul_high.tsv\",\"showlegend\":false,\"x\":[0.0,15.0],\"y\":[546.25,2331.5789473684213],\"type\":\"scatter\"},{\"legendgroup\":\"cumul_high.tsv\",\"line\":{\"color\":\"#17becf\",\"width\":2},\"mode\":\"lines+markers\",\"name\":\"cumul_high.tsv\",\"showlegend\":false,\"x\":[0.0,15.0],\"y\":[546.25,2344.736842105264],\"type\":\"scatter\"},{\"legendgroup\":\"cumul_high.tsv\",\"line\":{\"color\":\"#17becf\",\"width\":2},\"mode\":\"lines+markers\",\"name\":\"cumul_high.tsv\",\"showlegend\":false,\"x\":[0.0,15.0],\"y\":[546.25,2360.5263157894738],\"type\":\"scatter\"},{\"legendgroup\":\"cumul_high.tsv\",\"line\":{\"color\":\"#17becf\",\"width\":2},\"mode\":\"lines+markers\",\"name\":\"cumul_high.tsv\",\"showlegend\":false,\"x\":[0.0,15.0],\"y\":[546.25,2381.5789473684213],\"type\":\"scatter\"},{\"legendgroup\":\"cumul_high.tsv\",\"line\":{\"color\":\"#17becf\",\"width\":2},\"mode\":\"lines+markers\",\"name\":\"cumul_high.tsv\",\"showlegend\":false,\"x\":[0.0,15.0],\"y\":[600.0,2392.105263157895],\"type\":\"scatter\"},{\"legendgroup\":\"cumul_high.tsv\",\"line\":{\"color\":\"#17becf\",\"width\":2},\"mode\":\"lines+markers\",\"name\":\"cumul_high.tsv\",\"showlegend\":false,\"x\":[0.0,15.0],\"y\":[600.0,2397.368421052632],\"type\":\"scatter\"},{\"legendgroup\":\"cumul_high.tsv\",\"line\":{\"color\":\"#17becf\",\"width\":2},\"mode\":\"lines+markers\",\"name\":\"cumul_high.tsv\",\"showlegend\":false,\"x\":[0.0,15.0],\"y\":[600.0,2952.631578947369],\"type\":\"scatter\"},{\"legendgroup\":\"cumul_high.tsv\",\"line\":{\"color\":\"#17becf\",\"width\":2},\"mode\":\"lines+markers\",\"name\":\"cumul_high.tsv\",\"showlegend\":false,\"x\":[0.0,15.0],\"y\":[600.0,3055.263157894737],\"type\":\"scatter\"},{\"legendgroup\":\"cumul_low.tsv\",\"line\":{\"color\":\"#bcbd22\",\"width\":2},\"mode\":\"lines+markers\",\"name\":\"cumul_low.tsv\",\"showlegend\":true,\"x\":[0.0,15.0],\"y\":[31.25,97.3684210526316],\"type\":\"scatter\"},{\"legendgroup\":\"cumul_low.tsv\",\"line\":{\"color\":\"#bcbd22\",\"width\":2},\"mode\":\"lines+markers\",\"name\":\"cumul_low.tsv\",\"showlegend\":false,\"x\":[0.0,15.0],\"y\":[31.25,105.26315789473684],\"type\":\"scatter\"},{\"legendgroup\":\"cumul_low.tsv\",\"line\":{\"color\":\"#bcbd22\",\"width\":2},\"mode\":\"lines+markers\",\"name\":\"cumul_low.tsv\",\"showlegend\":false,\"x\":[0.0,15.0],\"y\":[31.25,110.5263157894737],\"type\":\"scatter\"},{\"legendgroup\":\"cumul_low.tsv\",\"line\":{\"color\":\"#bcbd22\",\"width\":2},\"mode\":\"lines+markers\",\"name\":\"cumul_low.tsv\",\"showlegend\":false,\"x\":[0.0,15.0],\"y\":[31.25,194.7368421052632],\"type\":\"scatter\"},{\"legendgroup\":\"cumul_low.tsv\",\"line\":{\"color\":\"#bcbd22\",\"width\":2},\"mode\":\"lines+markers\",\"name\":\"cumul_low.tsv\",\"showlegend\":false,\"x\":[0.0,15.0],\"y\":[31.25,202.63157894736844],\"type\":\"scatter\"},{\"legendgroup\":\"cumul_low.tsv\",\"line\":{\"color\":\"#bcbd22\",\"width\":2},\"mode\":\"lines+markers\",\"name\":\"cumul_low.tsv\",\"showlegend\":false,\"x\":[0.0,15.0],\"y\":[31.25,210.5263157894737],\"type\":\"scatter\"},{\"legendgroup\":\"cumul_low.tsv\",\"line\":{\"color\":\"#bcbd22\",\"width\":2},\"mode\":\"lines+markers\",\"name\":\"cumul_low.tsv\",\"showlegend\":false,\"x\":[0.0,15.0],\"y\":[31.25,215.7894736842105],\"type\":\"scatter\"},{\"legendgroup\":\"cumul_low.tsv\",\"line\":{\"color\":\"#bcbd22\",\"width\":2},\"mode\":\"lines+markers\",\"name\":\"cumul_low.tsv\",\"showlegend\":false,\"x\":[0.0,15.0],\"y\":[31.25,223.6842105263158],\"type\":\"scatter\"},{\"legendgroup\":\"cumul_low.tsv\",\"line\":{\"color\":\"#bcbd22\",\"width\":2},\"mode\":\"lines+markers\",\"name\":\"cumul_low.tsv\",\"showlegend\":false,\"x\":[0.0,15.0],\"y\":[31.25,228.94736842105263],\"type\":\"scatter\"},{\"legendgroup\":\"cumul_low.tsv\",\"line\":{\"color\":\"#bcbd22\",\"width\":2},\"mode\":\"lines+markers\",\"name\":\"cumul_low.tsv\",\"showlegend\":false,\"x\":[0.0,15.0],\"y\":[31.25,292.10526315789474],\"type\":\"scatter\"},{\"legendgroup\":\"cumul_low.tsv\",\"line\":{\"color\":\"#bcbd22\",\"width\":2},\"mode\":\"lines+markers\",\"name\":\"cumul_low.tsv\",\"showlegend\":false,\"x\":[0.0,15.0],\"y\":[31.25,300.0],\"type\":\"scatter\"},{\"legendgroup\":\"cumul_low.tsv\",\"line\":{\"color\":\"#bcbd22\",\"width\":2},\"mode\":\"lines+markers\",\"name\":\"cumul_low.tsv\",\"showlegend\":false,\"x\":[0.0,15.0],\"y\":[31.25,307.89473684210526],\"type\":\"scatter\"},{\"legendgroup\":\"cumul_low.tsv\",\"line\":{\"color\":\"#bcbd22\",\"width\":2},\"mode\":\"lines+markers\",\"name\":\"cumul_low.tsv\",\"showlegend\":false,\"x\":[0.0,15.0],\"y\":[31.25,313.15789473684214],\"type\":\"scatter\"},{\"legendgroup\":\"cumul_low.tsv\",\"line\":{\"color\":\"#bcbd22\",\"width\":2},\"mode\":\"lines+markers\",\"name\":\"cumul_low.tsv\",\"showlegend\":false,\"x\":[0.0,15.0],\"y\":[75.0,321.0526315789474],\"type\":\"scatter\"},{\"legendgroup\":\"cumul_low.tsv\",\"line\":{\"color\":\"#bcbd22\",\"width\":2},\"mode\":\"lines+markers\",\"name\":\"cumul_low.tsv\",\"showlegend\":false,\"x\":[0.0,15.0],\"y\":[75.0,328.94736842105266],\"type\":\"scatter\"},{\"legendgroup\":\"cumul_low.tsv\",\"line\":{\"color\":\"#bcbd22\",\"width\":2},\"mode\":\"lines+markers\",\"name\":\"cumul_low.tsv\",\"showlegend\":false,\"x\":[0.0,15.0],\"y\":[75.0,334.2105263157895],\"type\":\"scatter\"},{\"legendgroup\":\"cumul_low.tsv\",\"line\":{\"color\":\"#bcbd22\",\"width\":2},\"mode\":\"lines+markers\",\"name\":\"cumul_low.tsv\",\"showlegend\":false,\"x\":[0.0,15.0],\"y\":[75.0,339.4736842105264],\"type\":\"scatter\"},{\"legendgroup\":\"cumul_low.tsv\",\"line\":{\"color\":\"#bcbd22\",\"width\":2},\"mode\":\"lines+markers\",\"name\":\"cumul_low.tsv\",\"showlegend\":false,\"x\":[0.0,15.0],\"y\":[75.0,344.7368421052632],\"type\":\"scatter\"},{\"legendgroup\":\"cumul_low.tsv\",\"line\":{\"color\":\"#bcbd22\",\"width\":2},\"mode\":\"lines+markers\",\"name\":\"cumul_low.tsv\",\"showlegend\":false,\"x\":[0.0,15.0],\"y\":[75.0,407.8947368421053],\"type\":\"scatter\"},{\"legendgroup\":\"cumul_low.tsv\",\"line\":{\"color\":\"#bcbd22\",\"width\":2},\"mode\":\"lines+markers\",\"name\":\"cumul_low.tsv\",\"showlegend\":false,\"x\":[0.0,15.0],\"y\":[75.0,415.7894736842106],\"type\":\"scatter\"},{\"legendgroup\":\"cumul_low.tsv\",\"line\":{\"color\":\"#bcbd22\",\"width\":2},\"mode\":\"lines+markers\",\"name\":\"cumul_low.tsv\",\"showlegend\":false,\"x\":[0.0,15.0],\"y\":[75.0,426.3157894736842],\"type\":\"scatter\"},{\"legendgroup\":\"cumul_low.tsv\",\"line\":{\"color\":\"#bcbd22\",\"width\":2},\"mode\":\"lines+markers\",\"name\":\"cumul_low.tsv\",\"showlegend\":false,\"x\":[0.0,15.0],\"y\":[75.0,434.2105263157895],\"type\":\"scatter\"},{\"legendgroup\":\"cumul_low.tsv\",\"line\":{\"color\":\"#bcbd22\",\"width\":2},\"mode\":\"lines+markers\",\"name\":\"cumul_low.tsv\",\"showlegend\":false,\"x\":[0.0,15.0],\"y\":[75.0,439.4736842105264],\"type\":\"scatter\"},{\"legendgroup\":\"cumul_low.tsv\",\"line\":{\"color\":\"#bcbd22\",\"width\":2},\"mode\":\"lines+markers\",\"name\":\"cumul_low.tsv\",\"showlegend\":false,\"x\":[0.0,15.0],\"y\":[75.0,513.1578947368422],\"type\":\"scatter\"},{\"legendgroup\":\"cumul_low.tsv\",\"line\":{\"color\":\"#bcbd22\",\"width\":2},\"mode\":\"lines+markers\",\"name\":\"cumul_low.tsv\",\"showlegend\":false,\"x\":[0.0,15.0],\"y\":[75.0,518.421052631579],\"type\":\"scatter\"},{\"legendgroup\":\"cumul_low.tsv\",\"line\":{\"color\":\"#bcbd22\",\"width\":2},\"mode\":\"lines+markers\",\"name\":\"cumul_low.tsv\",\"showlegend\":false,\"x\":[0.0,15.0],\"y\":[75.0,528.9473684210527],\"type\":\"scatter\"},{\"legendgroup\":\"cumul_low.tsv\",\"line\":{\"color\":\"#bcbd22\",\"width\":2},\"mode\":\"lines+markers\",\"name\":\"cumul_low.tsv\",\"showlegend\":false,\"x\":[0.0,15.0],\"y\":[75.0,539.4736842105264],\"type\":\"scatter\"},{\"legendgroup\":\"cumul_low.tsv\",\"line\":{\"color\":\"#bcbd22\",\"width\":2},\"mode\":\"lines+markers\",\"name\":\"cumul_low.tsv\",\"showlegend\":false,\"x\":[0.0,15.0],\"y\":[127.5,2239.4736842105267],\"type\":\"scatter\"},{\"legendgroup\":\"cumul_low.tsv\",\"line\":{\"color\":\"#bcbd22\",\"width\":2},\"mode\":\"lines+markers\",\"name\":\"cumul_low.tsv\",\"showlegend\":false,\"x\":[0.0,15.0],\"y\":[127.5,2257.894736842105],\"type\":\"scatter\"},{\"legendgroup\":\"cumul_low.tsv\",\"line\":{\"color\":\"#bcbd22\",\"width\":2},\"mode\":\"lines+markers\",\"name\":\"cumul_low.tsv\",\"showlegend\":false,\"x\":[0.0,15.0],\"y\":[127.5,2265.789473684211],\"type\":\"scatter\"},{\"legendgroup\":\"cumul_low.tsv\",\"line\":{\"color\":\"#bcbd22\",\"width\":2},\"mode\":\"lines+markers\",\"name\":\"cumul_low.tsv\",\"showlegend\":false,\"x\":[0.0,15.0],\"y\":[127.5,2278.947368421053],\"type\":\"scatter\"},{\"legendgroup\":\"cumul_low.tsv\",\"line\":{\"color\":\"#bcbd22\",\"width\":2},\"mode\":\"lines+markers\",\"name\":\"cumul_low.tsv\",\"showlegend\":false,\"x\":[0.0,15.0],\"y\":[238.75,2313.157894736842],\"type\":\"scatter\"},{\"legendgroup\":\"cumul_low.tsv\",\"line\":{\"color\":\"#bcbd22\",\"width\":2},\"mode\":\"lines+markers\",\"name\":\"cumul_low.tsv\",\"showlegend\":false,\"x\":[0.0,15.0],\"y\":[238.75,2323.684210526316],\"type\":\"scatter\"},{\"legendgroup\":\"cumul_low.tsv\",\"line\":{\"color\":\"#bcbd22\",\"width\":2},\"mode\":\"lines+markers\",\"name\":\"cumul_low.tsv\",\"showlegend\":false,\"x\":[0.0,15.0],\"y\":[321.25,2331.5789473684213],\"type\":\"scatter\"},{\"legendgroup\":\"cumul_low.tsv\",\"line\":{\"color\":\"#bcbd22\",\"width\":2},\"mode\":\"lines+markers\",\"name\":\"cumul_low.tsv\",\"showlegend\":false,\"x\":[0.0,15.0],\"y\":[321.25,2344.736842105264],\"type\":\"scatter\"},{\"legendgroup\":\"cumul_low.tsv\",\"line\":{\"color\":\"#bcbd22\",\"width\":2},\"mode\":\"lines+markers\",\"name\":\"cumul_low.tsv\",\"showlegend\":false,\"x\":[0.0,15.0],\"y\":[393.75,2360.5263157894738],\"type\":\"scatter\"},{\"legendgroup\":\"cumul_low.tsv\",\"line\":{\"color\":\"#bcbd22\",\"width\":2},\"mode\":\"lines+markers\",\"name\":\"cumul_low.tsv\",\"showlegend\":false,\"x\":[0.0,15.0],\"y\":[393.75,2381.5789473684213],\"type\":\"scatter\"},{\"legendgroup\":\"cumul_low.tsv\",\"line\":{\"color\":\"#bcbd22\",\"width\":2},\"mode\":\"lines+markers\",\"name\":\"cumul_low.tsv\",\"showlegend\":false,\"x\":[0.0,15.0],\"y\":[398.75,2392.105263157895],\"type\":\"scatter\"},{\"legendgroup\":\"cumul_low.tsv\",\"line\":{\"color\":\"#bcbd22\",\"width\":2},\"mode\":\"lines+markers\",\"name\":\"cumul_low.tsv\",\"showlegend\":false,\"x\":[0.0,15.0],\"y\":[518.75,2397.368421052632],\"type\":\"scatter\"},{\"legendgroup\":\"cumul_low.tsv\",\"line\":{\"color\":\"#bcbd22\",\"width\":2},\"mode\":\"lines+markers\",\"name\":\"cumul_low.tsv\",\"showlegend\":false,\"x\":[0.0,15.0],\"y\":[546.25,2952.631578947369],\"type\":\"scatter\"},{\"legendgroup\":\"cumul_low.tsv\",\"line\":{\"color\":\"#bcbd22\",\"width\":2},\"mode\":\"lines+markers\",\"name\":\"cumul_low.tsv\",\"showlegend\":false,\"x\":[0.0,15.0],\"y\":[600.0,3055.263157894737],\"type\":\"scatter\"}],                        {\"template\":{\"data\":{\"barpolar\":[{\"marker\":{\"line\":{\"color\":\"white\",\"width\":0.5},\"pattern\":{\"fillmode\":\"overlay\",\"size\":10,\"solidity\":0.2}},\"type\":\"barpolar\"}],\"bar\":[{\"error_x\":{\"color\":\"#2a3f5f\"},\"error_y\":{\"color\":\"#2a3f5f\"},\"marker\":{\"line\":{\"color\":\"white\",\"width\":0.5},\"pattern\":{\"fillmode\":\"overlay\",\"size\":10,\"solidity\":0.2}},\"type\":\"bar\"}],\"carpet\":[{\"aaxis\":{\"endlinecolor\":\"#2a3f5f\",\"gridcolor\":\"#C8D4E3\",\"linecolor\":\"#C8D4E3\",\"minorgridcolor\":\"#C8D4E3\",\"startlinecolor\":\"#2a3f5f\"},\"baxis\":{\"endlinecolor\":\"#2a3f5f\",\"gridcolor\":\"#C8D4E3\",\"linecolor\":\"#C8D4E3\",\"minorgridcolor\":\"#C8D4E3\",\"startlinecolor\":\"#2a3f5f\"},\"type\":\"carpet\"}],\"choropleth\":[{\"colorbar\":{\"outlinewidth\":0,\"ticks\":\"\"},\"type\":\"choropleth\"}],\"contourcarpet\":[{\"colorbar\":{\"outlinewidth\":0,\"ticks\":\"\"},\"type\":\"contourcarpet\"}],\"contour\":[{\"colorbar\":{\"outlinewidth\":0,\"ticks\":\"\"},\"colorscale\":[[0.0,\"#0d0887\"],[0.1111111111111111,\"#46039f\"],[0.2222222222222222,\"#7201a8\"],[0.3333333333333333,\"#9c179e\"],[0.4444444444444444,\"#bd3786\"],[0.5555555555555556,\"#d8576b\"],[0.6666666666666666,\"#ed7953\"],[0.7777777777777778,\"#fb9f3a\"],[0.8888888888888888,\"#fdca26\"],[1.0,\"#f0f921\"]],\"type\":\"contour\"}],\"heatmapgl\":[{\"colorbar\":{\"outlinewidth\":0,\"ticks\":\"\"},\"colorscale\":[[0.0,\"#0d0887\"],[0.1111111111111111,\"#46039f\"],[0.2222222222222222,\"#7201a8\"],[0.3333333333333333,\"#9c179e\"],[0.4444444444444444,\"#bd3786\"],[0.5555555555555556,\"#d8576b\"],[0.6666666666666666,\"#ed7953\"],[0.7777777777777778,\"#fb9f3a\"],[0.8888888888888888,\"#fdca26\"],[1.0,\"#f0f921\"]],\"type\":\"heatmapgl\"}],\"heatmap\":[{\"colorbar\":{\"outlinewidth\":0,\"ticks\":\"\"},\"colorscale\":[[0.0,\"#0d0887\"],[0.1111111111111111,\"#46039f\"],[0.2222222222222222,\"#7201a8\"],[0.3333333333333333,\"#9c179e\"],[0.4444444444444444,\"#bd3786\"],[0.5555555555555556,\"#d8576b\"],[0.6666666666666666,\"#ed7953\"],[0.7777777777777778,\"#fb9f3a\"],[0.8888888888888888,\"#fdca26\"],[1.0,\"#f0f921\"]],\"type\":\"heatmap\"}],\"histogram2dcontour\":[{\"colorbar\":{\"outlinewidth\":0,\"ticks\":\"\"},\"colorscale\":[[0.0,\"#0d0887\"],[0.1111111111111111,\"#46039f\"],[0.2222222222222222,\"#7201a8\"],[0.3333333333333333,\"#9c179e\"],[0.4444444444444444,\"#bd3786\"],[0.5555555555555556,\"#d8576b\"],[0.6666666666666666,\"#ed7953\"],[0.7777777777777778,\"#fb9f3a\"],[0.8888888888888888,\"#fdca26\"],[1.0,\"#f0f921\"]],\"type\":\"histogram2dcontour\"}],\"histogram2d\":[{\"colorbar\":{\"outlinewidth\":0,\"ticks\":\"\"},\"colorscale\":[[0.0,\"#0d0887\"],[0.1111111111111111,\"#46039f\"],[0.2222222222222222,\"#7201a8\"],[0.3333333333333333,\"#9c179e\"],[0.4444444444444444,\"#bd3786\"],[0.5555555555555556,\"#d8576b\"],[0.6666666666666666,\"#ed7953\"],[0.7777777777777778,\"#fb9f3a\"],[0.8888888888888888,\"#fdca26\"],[1.0,\"#f0f921\"]],\"type\":\"histogram2d\"}],\"histogram\":[{\"marker\":{\"pattern\":{\"fillmode\":\"overlay\",\"size\":10,\"solidity\":0.2}},\"type\":\"histogram\"}],\"mesh3d\":[{\"colorbar\":{\"outlinewidth\":0,\"ticks\":\"\"},\"type\":\"mesh3d\"}],\"parcoords\":[{\"line\":{\"colorbar\":{\"outlinewidth\":0,\"ticks\":\"\"}},\"type\":\"parcoords\"}],\"pie\":[{\"automargin\":true,\"type\":\"pie\"}],\"scatter3d\":[{\"line\":{\"colorbar\":{\"outlinewidth\":0,\"ticks\":\"\"}},\"marker\":{\"colorbar\":{\"outlinewidth\":0,\"ticks\":\"\"}},\"type\":\"scatter3d\"}],\"scattercarpet\":[{\"marker\":{\"colorbar\":{\"outlinewidth\":0,\"ticks\":\"\"}},\"type\":\"scattercarpet\"}],\"scattergeo\":[{\"marker\":{\"colorbar\":{\"outlinewidth\":0,\"ticks\":\"\"}},\"type\":\"scattergeo\"}],\"scattergl\":[{\"marker\":{\"colorbar\":{\"outlinewidth\":0,\"ticks\":\"\"}},\"type\":\"scattergl\"}],\"scattermapbox\":[{\"marker\":{\"colorbar\":{\"outlinewidth\":0,\"ticks\":\"\"}},\"type\":\"scattermapbox\"}],\"scatterpolargl\":[{\"marker\":{\"colorbar\":{\"outlinewidth\":0,\"ticks\":\"\"}},\"type\":\"scatterpolargl\"}],\"scatterpolar\":[{\"marker\":{\"colorbar\":{\"outlinewidth\":0,\"ticks\":\"\"}},\"type\":\"scatterpolar\"}],\"scatter\":[{\"fillpattern\":{\"fillmode\":\"overlay\",\"size\":10,\"solidity\":0.2},\"type\":\"scatter\"}],\"scatterternary\":[{\"marker\":{\"colorbar\":{\"outlinewidth\":0,\"ticks\":\"\"}},\"type\":\"scatterternary\"}],\"surface\":[{\"colorbar\":{\"outlinewidth\":0,\"ticks\":\"\"},\"colorscale\":[[0.0,\"#0d0887\"],[0.1111111111111111,\"#46039f\"],[0.2222222222222222,\"#7201a8\"],[0.3333333333333333,\"#9c179e\"],[0.4444444444444444,\"#bd3786\"],[0.5555555555555556,\"#d8576b\"],[0.6666666666666666,\"#ed7953\"],[0.7777777777777778,\"#fb9f3a\"],[0.8888888888888888,\"#fdca26\"],[1.0,\"#f0f921\"]],\"type\":\"surface\"}],\"table\":[{\"cells\":{\"fill\":{\"color\":\"#EBF0F8\"},\"line\":{\"color\":\"white\"}},\"header\":{\"fill\":{\"color\":\"#C8D4E3\"},\"line\":{\"color\":\"white\"}},\"type\":\"table\"}]},\"layout\":{\"annotationdefaults\":{\"arrowcolor\":\"#2a3f5f\",\"arrowhead\":0,\"arrowwidth\":1},\"autotypenumbers\":\"strict\",\"coloraxis\":{\"colorbar\":{\"outlinewidth\":0,\"ticks\":\"\"}},\"colorscale\":{\"diverging\":[[0,\"#8e0152\"],[0.1,\"#c51b7d\"],[0.2,\"#de77ae\"],[0.3,\"#f1b6da\"],[0.4,\"#fde0ef\"],[0.5,\"#f7f7f7\"],[0.6,\"#e6f5d0\"],[0.7,\"#b8e186\"],[0.8,\"#7fbc41\"],[0.9,\"#4d9221\"],[1,\"#276419\"]],\"sequential\":[[0.0,\"#0d0887\"],[0.1111111111111111,\"#46039f\"],[0.2222222222222222,\"#7201a8\"],[0.3333333333333333,\"#9c179e\"],[0.4444444444444444,\"#bd3786\"],[0.5555555555555556,\"#d8576b\"],[0.6666666666666666,\"#ed7953\"],[0.7777777777777778,\"#fb9f3a\"],[0.8888888888888888,\"#fdca26\"],[1.0,\"#f0f921\"]],\"sequentialminus\":[[0.0,\"#0d0887\"],[0.1111111111111111,\"#46039f\"],[0.2222222222222222,\"#7201a8\"],[0.3333333333333333,\"#9c179e\"],[0.4444444444444444,\"#bd3786\"],[0.5555555555555556,\"#d8576b\"],[0.6666666666666666,\"#ed7953\"],[0.7777777777777778,\"#fb9f3a\"],[0.8888888888888888,\"#fdca26\"],[1.0,\"#f0f921\"]]},\"colorway\":[\"#636efa\",\"#EF553B\",\"#00cc96\",\"#ab63fa\",\"#FFA15A\",\"#19d3f3\",\"#FF6692\",\"#B6E880\",\"#FF97FF\",\"#FECB52\"],\"font\":{\"color\":\"#2a3f5f\"},\"geo\":{\"bgcolor\":\"white\",\"lakecolor\":\"white\",\"landcolor\":\"white\",\"showlakes\":true,\"showland\":true,\"subunitcolor\":\"#C8D4E3\"},\"hoverlabel\":{\"align\":\"left\"},\"hovermode\":\"closest\",\"mapbox\":{\"style\":\"light\"},\"paper_bgcolor\":\"white\",\"plot_bgcolor\":\"white\",\"polar\":{\"angularaxis\":{\"gridcolor\":\"#EBF0F8\",\"linecolor\":\"#EBF0F8\",\"ticks\":\"\"},\"bgcolor\":\"white\",\"radialaxis\":{\"gridcolor\":\"#EBF0F8\",\"linecolor\":\"#EBF0F8\",\"ticks\":\"\"}},\"scene\":{\"xaxis\":{\"backgroundcolor\":\"white\",\"gridcolor\":\"#DFE8F3\",\"gridwidth\":2,\"linecolor\":\"#EBF0F8\",\"showbackground\":true,\"ticks\":\"\",\"zerolinecolor\":\"#EBF0F8\"},\"yaxis\":{\"backgroundcolor\":\"white\",\"gridcolor\":\"#DFE8F3\",\"gridwidth\":2,\"linecolor\":\"#EBF0F8\",\"showbackground\":true,\"ticks\":\"\",\"zerolinecolor\":\"#EBF0F8\"},\"zaxis\":{\"backgroundcolor\":\"white\",\"gridcolor\":\"#DFE8F3\",\"gridwidth\":2,\"linecolor\":\"#EBF0F8\",\"showbackground\":true,\"ticks\":\"\",\"zerolinecolor\":\"#EBF0F8\"}},\"shapedefaults\":{\"line\":{\"color\":\"#2a3f5f\"}},\"ternary\":{\"aaxis\":{\"gridcolor\":\"#DFE8F3\",\"linecolor\":\"#A2B1C6\",\"ticks\":\"\"},\"baxis\":{\"gridcolor\":\"#DFE8F3\",\"linecolor\":\"#A2B1C6\",\"ticks\":\"\"},\"bgcolor\":\"white\",\"caxis\":{\"gridcolor\":\"#DFE8F3\",\"linecolor\":\"#A2B1C6\",\"ticks\":\"\"}},\"title\":{\"x\":0.05},\"xaxis\":{\"automargin\":true,\"gridcolor\":\"#EBF0F8\",\"linecolor\":\"#EBF0F8\",\"ticks\":\"\",\"title\":{\"standoff\":15},\"zerolinecolor\":\"#EBF0F8\",\"zerolinewidth\":2},\"yaxis\":{\"automargin\":true,\"gridcolor\":\"#EBF0F8\",\"linecolor\":\"#EBF0F8\",\"ticks\":\"\",\"title\":{\"standoff\":15},\"zerolinecolor\":\"#EBF0F8\",\"zerolinewidth\":2}}},\"title\":{\"text\":\"Time vs Frequency for Each Event\"},\"xaxis\":{\"title\":{\"text\":\"Time (s)\"}},\"yaxis\":{\"title\":{\"text\":\"Frequency\"}},\"width\":900,\"height\":700},                        {\"responsive\": true}                    ).then(function(){\n",
       "                            \n",
       "var gd = document.getElementById('5f72f9bd-947f-4316-b05a-07b7b5f23a33');\n",
       "var x = new MutationObserver(function (mutations, observer) {{\n",
       "        var display = window.getComputedStyle(gd).display;\n",
       "        if (!display || display === 'none') {{\n",
       "            console.log([gd, 'removed!']);\n",
       "            Plotly.purge(gd);\n",
       "            observer.disconnect();\n",
       "        }}\n",
       "}});\n",
       "\n",
       "// Listen for the removal of the full notebook cells\n",
       "var notebookContainer = gd.closest('#notebook-container');\n",
       "if (notebookContainer) {{\n",
       "    x.observe(notebookContainer, {childList: true});\n",
       "}}\n",
       "\n",
       "// Listen for the clearing of the current output cell\n",
       "var outputEl = gd.closest('.output');\n",
       "if (outputEl) {{\n",
       "    x.observe(outputEl, {childList: true});\n",
       "}}\n",
       "\n",
       "                        })                };                });            </script>        </div>"
      ]
     },
     "metadata": {},
     "output_type": "display_data"
    }
   ],
   "source": [
    "from multiplotter import plot_combined\n",
    "\n",
    "plot_combined(files=['cumul_high.tsv', 'cumul_low.tsv'])\n",
    "\n",
    "# use following syntax:\n",
    "# files = ['file1.tsv']\n",
    "# dfs = [df2]\n",
    "# labels = [\"Label for df2\"]\n",
    "# plot_combined(files=files, dfs=dfs, labels=labels)"
   ]
  },
  {
   "cell_type": "markdown",
   "id": "dc2b7c9b-69a0-49d4-bce1-7f5f1bf929e6",
   "metadata": {},
   "source": [
    "3D for data with time domain"
   ]
  },
  {
   "cell_type": "code",
   "execution_count": 9,
   "id": "059cc560-4c68-4848-a74d-f547dd2b9a0f",
   "metadata": {},
   "outputs": [
    {
     "data": {
      "application/vnd.plotly.v1+json": {
       "config": {
        "plotlyServerURL": "https://plot.ly"
       },
       "data": [
        {
         "legendgroup": "cumul_high.tsv",
         "line": {
          "color": "#17becf",
          "width": 2
         },
         "marker": {
          "color": "#17becf",
          "size": 4
         },
         "mode": "lines+markers",
         "name": "cumul_high.tsv",
         "showlegend": true,
         "type": "scatter3d",
         "x": [
          0,
          15
         ],
         "y": [
          0.1850201452979242,
          0.127584789032354
         ],
         "z": [
          31.25,
          97.3684210526316
         ]
        },
        {
         "legendgroup": "cumul_high.tsv",
         "line": {
          "color": "#17becf",
          "width": 2
         },
         "marker": {
          "color": "#17becf",
          "size": 4
         },
         "mode": "lines+markers",
         "name": "cumul_high.tsv",
         "showlegend": false,
         "type": "scatter3d",
         "x": [
          0,
          15
         ],
         "y": [
          0.283141101267248,
          0.730144835812919
         ],
         "z": [
          75,
          105.26315789473684
         ]
        },
        {
         "legendgroup": "cumul_high.tsv",
         "line": {
          "color": "#17becf",
          "width": 2
         },
         "marker": {
          "color": "#17becf",
          "size": 4
         },
         "mode": "lines+markers",
         "name": "cumul_high.tsv",
         "showlegend": false,
         "type": "scatter3d",
         "x": [
          0,
          15
         ],
         "y": [
          0.1757851035354066,
          0.3203863416156858
         ],
         "z": [
          127.5,
          110.5263157894737
         ]
        },
        {
         "legendgroup": "cumul_high.tsv",
         "line": {
          "color": "#17becf",
          "width": 2
         },
         "marker": {
          "color": "#17becf",
          "size": 4
         },
         "mode": "lines+markers",
         "name": "cumul_high.tsv",
         "showlegend": false,
         "type": "scatter3d",
         "x": [
          0,
          15
         ],
         "y": [
          0.1757851035354066,
          0.1786153586392236
         ],
         "z": [
          127.5,
          194.7368421052632
         ]
        },
        {
         "legendgroup": "cumul_high.tsv",
         "line": {
          "color": "#17becf",
          "width": 2
         },
         "marker": {
          "color": "#17becf",
          "size": 4
         },
         "mode": "lines+markers",
         "name": "cumul_high.tsv",
         "showlegend": false,
         "type": "scatter3d",
         "x": [
          0,
          15
         ],
         "y": [
          1,
          0.4651424685539783
         ],
         "z": [
          238.75,
          202.63157894736844
         ]
        },
        {
         "legendgroup": "cumul_high.tsv",
         "line": {
          "color": "#17becf",
          "width": 2
         },
         "marker": {
          "color": "#17becf",
          "size": 4
         },
         "mode": "lines+markers",
         "name": "cumul_high.tsv",
         "showlegend": false,
         "type": "scatter3d",
         "x": [
          0,
          15
         ],
         "y": [
          1,
          0.9796845215219812
         ],
         "z": [
          238.75,
          210.5263157894737
         ]
        },
        {
         "legendgroup": "cumul_high.tsv",
         "line": {
          "color": "#17becf",
          "width": 2
         },
         "marker": {
          "color": "#17becf",
          "size": 4
         },
         "mode": "lines+markers",
         "name": "cumul_high.tsv",
         "showlegend": false,
         "type": "scatter3d",
         "x": [
          0,
          15
         ],
         "y": [
          1,
          0.7229376797757235
         ],
         "z": [
          238.75,
          215.7894736842105
         ]
        },
        {
         "legendgroup": "cumul_high.tsv",
         "line": {
          "color": "#17becf",
          "width": 2
         },
         "marker": {
          "color": "#17becf",
          "size": 4
         },
         "mode": "lines+markers",
         "name": "cumul_high.tsv",
         "showlegend": false,
         "type": "scatter3d",
         "x": [
          0,
          15
         ],
         "y": [
          0.8030066318889745,
          0.655112168137983
         ],
         "z": [
          321.25,
          223.6842105263158
         ]
        },
        {
         "legendgroup": "cumul_high.tsv",
         "line": {
          "color": "#17becf",
          "width": 2
         },
         "marker": {
          "color": "#17becf",
          "size": 4
         },
         "mode": "lines+markers",
         "name": "cumul_high.tsv",
         "showlegend": false,
         "type": "scatter3d",
         "x": [
          0,
          15
         ],
         "y": [
          0.8030066318889745,
          0.4157816723057572
         ],
         "z": [
          321.25,
          228.94736842105263
         ]
        },
        {
         "legendgroup": "cumul_high.tsv",
         "line": {
          "color": "#17becf",
          "width": 2
         },
         "marker": {
          "color": "#17becf",
          "size": 4
         },
         "mode": "lines+markers",
         "name": "cumul_high.tsv",
         "showlegend": false,
         "type": "scatter3d",
         "x": [
          0,
          15
         ],
         "y": [
          0.8030066318889745,
          0.1667969110040083
         ],
         "z": [
          321.25,
          292.10526315789474
         ]
        },
        {
         "legendgroup": "cumul_high.tsv",
         "line": {
          "color": "#17becf",
          "width": 2
         },
         "marker": {
          "color": "#17becf",
          "size": 4
         },
         "mode": "lines+markers",
         "name": "cumul_high.tsv",
         "showlegend": false,
         "type": "scatter3d",
         "x": [
          0,
          15
         ],
         "y": [
          0.8030066318889745,
          0.4393528726797046
         ],
         "z": [
          321.25,
          300
         ]
        },
        {
         "legendgroup": "cumul_high.tsv",
         "line": {
          "color": "#17becf",
          "width": 2
         },
         "marker": {
          "color": "#17becf",
          "size": 4
         },
         "mode": "lines+markers",
         "name": "cumul_high.tsv",
         "showlegend": false,
         "type": "scatter3d",
         "x": [
          0,
          15
         ],
         "y": [
          0.281393918011551,
          0.9506378551226624
         ],
         "z": [
          393.75,
          307.89473684210526
         ]
        },
        {
         "legendgroup": "cumul_high.tsv",
         "line": {
          "color": "#17becf",
          "width": 2
         },
         "marker": {
          "color": "#17becf",
          "size": 4
         },
         "mode": "lines+markers",
         "name": "cumul_high.tsv",
         "showlegend": false,
         "type": "scatter3d",
         "x": [
          0,
          15
         ],
         "y": [
          0.281393918011551,
          1
         ],
         "z": [
          393.75,
          313.15789473684214
         ]
        },
        {
         "legendgroup": "cumul_high.tsv",
         "line": {
          "color": "#17becf",
          "width": 2
         },
         "marker": {
          "color": "#17becf",
          "size": 4
         },
         "mode": "lines+markers",
         "name": "cumul_high.tsv",
         "showlegend": false,
         "type": "scatter3d",
         "x": [
          0,
          15
         ],
         "y": [
          0.281393918011551,
          0.9367027113655582
         ],
         "z": [
          393.75,
          321.0526315789474
         ]
        },
        {
         "legendgroup": "cumul_high.tsv",
         "line": {
          "color": "#17becf",
          "width": 2
         },
         "marker": {
          "color": "#17becf",
          "size": 4
         },
         "mode": "lines+markers",
         "name": "cumul_high.tsv",
         "showlegend": false,
         "type": "scatter3d",
         "x": [
          0,
          15
         ],
         "y": [
          0.281393918011551,
          0.7540197916214623
         ],
         "z": [
          393.75,
          328.94736842105266
         ]
        },
        {
         "legendgroup": "cumul_high.tsv",
         "line": {
          "color": "#17becf",
          "width": 2
         },
         "marker": {
          "color": "#17becf",
          "size": 4
         },
         "mode": "lines+markers",
         "name": "cumul_high.tsv",
         "showlegend": false,
         "type": "scatter3d",
         "x": [
          0,
          15
         ],
         "y": [
          0.281393918011551,
          0.4598957021709134
         ],
         "z": [
          393.75,
          334.2105263157895
         ]
        },
        {
         "legendgroup": "cumul_high.tsv",
         "line": {
          "color": "#17becf",
          "width": 2
         },
         "marker": {
          "color": "#17becf",
          "size": 4
         },
         "mode": "lines+markers",
         "name": "cumul_high.tsv",
         "showlegend": false,
         "type": "scatter3d",
         "x": [
          0,
          15
         ],
         "y": [
          0.3005076476996851,
          0.3228091528511871
         ],
         "z": [
          398.75,
          339.4736842105264
         ]
        },
        {
         "legendgroup": "cumul_high.tsv",
         "line": {
          "color": "#17becf",
          "width": 2
         },
         "marker": {
          "color": "#17becf",
          "size": 4
         },
         "mode": "lines+markers",
         "name": "cumul_high.tsv",
         "showlegend": false,
         "type": "scatter3d",
         "x": [
          0,
          15
         ],
         "y": [
          0.3005076476996851,
          0.2583585130027834
         ],
         "z": [
          398.75,
          344.7368421052632
         ]
        },
        {
         "legendgroup": "cumul_high.tsv",
         "line": {
          "color": "#17becf",
          "width": 2
         },
         "marker": {
          "color": "#17becf",
          "size": 4
         },
         "mode": "lines+markers",
         "name": "cumul_high.tsv",
         "showlegend": false,
         "type": "scatter3d",
         "x": [
          0,
          15
         ],
         "y": [
          0.3005076476996851,
          0.161538223278509
         ],
         "z": [
          398.75,
          407.8947368421053
         ]
        },
        {
         "legendgroup": "cumul_high.tsv",
         "line": {
          "color": "#17becf",
          "width": 2
         },
         "marker": {
          "color": "#17becf",
          "size": 4
         },
         "mode": "lines+markers",
         "name": "cumul_high.tsv",
         "showlegend": false,
         "type": "scatter3d",
         "x": [
          0,
          15
         ],
         "y": [
          0.3005076476996851,
          0.2269790825046815
         ],
         "z": [
          398.75,
          415.7894736842106
         ]
        },
        {
         "legendgroup": "cumul_high.tsv",
         "line": {
          "color": "#17becf",
          "width": 2
         },
         "marker": {
          "color": "#17becf",
          "size": 4
         },
         "mode": "lines+markers",
         "name": "cumul_high.tsv",
         "showlegend": false,
         "type": "scatter3d",
         "x": [
          0,
          15
         ],
         "y": [
          0.3005076476996851,
          0.194079865036421
         ],
         "z": [
          398.75,
          426.3157894736842
         ]
        },
        {
         "legendgroup": "cumul_high.tsv",
         "line": {
          "color": "#17becf",
          "width": 2
         },
         "marker": {
          "color": "#17becf",
          "size": 4
         },
         "mode": "lines+markers",
         "name": "cumul_high.tsv",
         "showlegend": false,
         "type": "scatter3d",
         "x": [
          0,
          15
         ],
         "y": [
          0.3005076476996851,
          0.2443404054258705
         ],
         "z": [
          398.75,
          434.2105263157895
         ]
        },
        {
         "legendgroup": "cumul_high.tsv",
         "line": {
          "color": "#17becf",
          "width": 2
         },
         "marker": {
          "color": "#17becf",
          "size": 4
         },
         "mode": "lines+markers",
         "name": "cumul_high.tsv",
         "showlegend": false,
         "type": "scatter3d",
         "x": [
          0,
          15
         ],
         "y": [
          0.2761238895367967,
          0.1813377126441394
         ],
         "z": [
          518.75,
          439.4736842105264
         ]
        },
        {
         "legendgroup": "cumul_high.tsv",
         "line": {
          "color": "#17becf",
          "width": 2
         },
         "marker": {
          "color": "#17becf",
          "size": 4
         },
         "mode": "lines+markers",
         "name": "cumul_high.tsv",
         "showlegend": false,
         "type": "scatter3d",
         "x": [
          0,
          15
         ],
         "y": [
          0.2761238895367967,
          0.1005437723484514
         ],
         "z": [
          518.75,
          513.1578947368422
         ]
        },
        {
         "legendgroup": "cumul_high.tsv",
         "line": {
          "color": "#17becf",
          "width": 2
         },
         "marker": {
          "color": "#17becf",
          "size": 4
         },
         "mode": "lines+markers",
         "name": "cumul_high.tsv",
         "showlegend": false,
         "type": "scatter3d",
         "x": [
          0,
          15
         ],
         "y": [
          0.2761238895367967,
          0.0830359671764609
         ],
         "z": [
          518.75,
          518.421052631579
         ]
        },
        {
         "legendgroup": "cumul_high.tsv",
         "line": {
          "color": "#17becf",
          "width": 2
         },
         "marker": {
          "color": "#17becf",
          "size": 4
         },
         "mode": "lines+markers",
         "name": "cumul_high.tsv",
         "showlegend": false,
         "type": "scatter3d",
         "x": [
          0,
          15
         ],
         "y": [
          0.2761238895367967,
          0.0760283450988506
         ],
         "z": [
          518.75,
          528.9473684210527
         ]
        },
        {
         "legendgroup": "cumul_high.tsv",
         "line": {
          "color": "#17becf",
          "width": 2
         },
         "marker": {
          "color": "#17becf",
          "size": 4
         },
         "mode": "lines+markers",
         "name": "cumul_high.tsv",
         "showlegend": false,
         "type": "scatter3d",
         "x": [
          0,
          15
         ],
         "y": [
          0.2761238895367967,
          0.0794455589060347
         ],
         "z": [
          518.75,
          539.4736842105264
         ]
        },
        {
         "legendgroup": "cumul_high.tsv",
         "line": {
          "color": "#17becf",
          "width": 2
         },
         "marker": {
          "color": "#17becf",
          "size": 4
         },
         "mode": "lines+markers",
         "name": "cumul_high.tsv",
         "showlegend": false,
         "type": "scatter3d",
         "x": [
          0,
          15
         ],
         "y": [
          0.2761238895367967,
          0.0691157018696965
         ],
         "z": [
          518.75,
          2239.4736842105267
         ]
        },
        {
         "legendgroup": "cumul_high.tsv",
         "line": {
          "color": "#17becf",
          "width": 2
         },
         "marker": {
          "color": "#17becf",
          "size": 4
         },
         "mode": "lines+markers",
         "name": "cumul_high.tsv",
         "showlegend": false,
         "type": "scatter3d",
         "x": [
          0,
          15
         ],
         "y": [
          0.2761238895367967,
          0.0850497368965752
         ],
         "z": [
          518.75,
          2257.894736842105
         ]
        },
        {
         "legendgroup": "cumul_high.tsv",
         "line": {
          "color": "#17becf",
          "width": 2
         },
         "marker": {
          "color": "#17becf",
          "size": 4
         },
         "mode": "lines+markers",
         "name": "cumul_high.tsv",
         "showlegend": false,
         "type": "scatter3d",
         "x": [
          0,
          15
         ],
         "y": [
          0.1844266749375399,
          0.0824929646316279
         ],
         "z": [
          546.25,
          2265.789473684211
         ]
        },
        {
         "legendgroup": "cumul_high.tsv",
         "line": {
          "color": "#17becf",
          "width": 2
         },
         "marker": {
          "color": "#17becf",
          "size": 4
         },
         "mode": "lines+markers",
         "name": "cumul_high.tsv",
         "showlegend": false,
         "type": "scatter3d",
         "x": [
          0,
          15
         ],
         "y": [
          0.1844266749375399,
          0.0954201542535488
         ],
         "z": [
          546.25,
          2278.947368421053
         ]
        },
        {
         "legendgroup": "cumul_high.tsv",
         "line": {
          "color": "#17becf",
          "width": 2
         },
         "marker": {
          "color": "#17becf",
          "size": 4
         },
         "mode": "lines+markers",
         "name": "cumul_high.tsv",
         "showlegend": false,
         "type": "scatter3d",
         "x": [
          0,
          15
         ],
         "y": [
          0.1844266749375399,
          0.0959027133357927
         ],
         "z": [
          546.25,
          2313.157894736842
         ]
        },
        {
         "legendgroup": "cumul_high.tsv",
         "line": {
          "color": "#17becf",
          "width": 2
         },
         "marker": {
          "color": "#17becf",
          "size": 4
         },
         "mode": "lines+markers",
         "name": "cumul_high.tsv",
         "showlegend": false,
         "type": "scatter3d",
         "x": [
          0,
          15
         ],
         "y": [
          0.1844266749375399,
          0.107300897837546
         ],
         "z": [
          546.25,
          2323.684210526316
         ]
        },
        {
         "legendgroup": "cumul_high.tsv",
         "line": {
          "color": "#17becf",
          "width": 2
         },
         "marker": {
          "color": "#17becf",
          "size": 4
         },
         "mode": "lines+markers",
         "name": "cumul_high.tsv",
         "showlegend": false,
         "type": "scatter3d",
         "x": [
          0,
          15
         ],
         "y": [
          0.1844266749375399,
          0.1418779340323793
         ],
         "z": [
          546.25,
          2331.5789473684213
         ]
        },
        {
         "legendgroup": "cumul_high.tsv",
         "line": {
          "color": "#17becf",
          "width": 2
         },
         "marker": {
          "color": "#17becf",
          "size": 4
         },
         "mode": "lines+markers",
         "name": "cumul_high.tsv",
         "showlegend": false,
         "type": "scatter3d",
         "x": [
          0,
          15
         ],
         "y": [
          0.1844266749375399,
          0.0993877552038259
         ],
         "z": [
          546.25,
          2344.736842105264
         ]
        },
        {
         "legendgroup": "cumul_high.tsv",
         "line": {
          "color": "#17becf",
          "width": 2
         },
         "marker": {
          "color": "#17becf",
          "size": 4
         },
         "mode": "lines+markers",
         "name": "cumul_high.tsv",
         "showlegend": false,
         "type": "scatter3d",
         "x": [
          0,
          15
         ],
         "y": [
          0.1844266749375399,
          0.1441631216758777
         ],
         "z": [
          546.25,
          2360.5263157894738
         ]
        },
        {
         "legendgroup": "cumul_high.tsv",
         "line": {
          "color": "#17becf",
          "width": 2
         },
         "marker": {
          "color": "#17becf",
          "size": 4
         },
         "mode": "lines+markers",
         "name": "cumul_high.tsv",
         "showlegend": false,
         "type": "scatter3d",
         "x": [
          0,
          15
         ],
         "y": [
          0.1844266749375399,
          0.1022248722511056
         ],
         "z": [
          546.25,
          2381.5789473684213
         ]
        },
        {
         "legendgroup": "cumul_high.tsv",
         "line": {
          "color": "#17becf",
          "width": 2
         },
         "marker": {
          "color": "#17becf",
          "size": 4
         },
         "mode": "lines+markers",
         "name": "cumul_high.tsv",
         "showlegend": false,
         "type": "scatter3d",
         "x": [
          0,
          15
         ],
         "y": [
          0.5657523874119471,
          0.0853277055666826
         ],
         "z": [
          600,
          2392.105263157895
         ]
        },
        {
         "legendgroup": "cumul_high.tsv",
         "line": {
          "color": "#17becf",
          "width": 2
         },
         "marker": {
          "color": "#17becf",
          "size": 4
         },
         "mode": "lines+markers",
         "name": "cumul_high.tsv",
         "showlegend": false,
         "type": "scatter3d",
         "x": [
          0,
          15
         ],
         "y": [
          0.5657523874119471,
          0.1178521200796799
         ],
         "z": [
          600,
          2397.368421052632
         ]
        },
        {
         "legendgroup": "cumul_high.tsv",
         "line": {
          "color": "#17becf",
          "width": 2
         },
         "marker": {
          "color": "#17becf",
          "size": 4
         },
         "mode": "lines+markers",
         "name": "cumul_high.tsv",
         "showlegend": false,
         "type": "scatter3d",
         "x": [
          0,
          15
         ],
         "y": [
          0.5657523874119471,
          0.0690602989408101
         ],
         "z": [
          600,
          2952.631578947369
         ]
        },
        {
         "legendgroup": "cumul_high.tsv",
         "line": {
          "color": "#17becf",
          "width": 2
         },
         "marker": {
          "color": "#17becf",
          "size": 4
         },
         "mode": "lines+markers",
         "name": "cumul_high.tsv",
         "showlegend": false,
         "type": "scatter3d",
         "x": [
          0,
          15
         ],
         "y": [
          0.5657523874119471,
          0.0731497614540836
         ],
         "z": [
          600,
          3055.263157894737
         ]
        },
        {
         "legendgroup": "cumul_low.tsv",
         "line": {
          "color": "#bcbd22",
          "width": 2
         },
         "marker": {
          "color": "#bcbd22",
          "size": 4
         },
         "mode": "lines+markers",
         "name": "cumul_low.tsv",
         "showlegend": true,
         "type": "scatter3d",
         "x": [
          0,
          15
         ],
         "y": [
          0.1850201452979242,
          0.127584789032354
         ],
         "z": [
          31.25,
          97.3684210526316
         ]
        },
        {
         "legendgroup": "cumul_low.tsv",
         "line": {
          "color": "#bcbd22",
          "width": 2
         },
         "marker": {
          "color": "#bcbd22",
          "size": 4
         },
         "mode": "lines+markers",
         "name": "cumul_low.tsv",
         "showlegend": false,
         "type": "scatter3d",
         "x": [
          0,
          15
         ],
         "y": [
          0.1850201452979242,
          0.730144835812919
         ],
         "z": [
          31.25,
          105.26315789473684
         ]
        },
        {
         "legendgroup": "cumul_low.tsv",
         "line": {
          "color": "#bcbd22",
          "width": 2
         },
         "marker": {
          "color": "#bcbd22",
          "size": 4
         },
         "mode": "lines+markers",
         "name": "cumul_low.tsv",
         "showlegend": false,
         "type": "scatter3d",
         "x": [
          0,
          15
         ],
         "y": [
          0.1850201452979242,
          0.3203863416156858
         ],
         "z": [
          31.25,
          110.5263157894737
         ]
        },
        {
         "legendgroup": "cumul_low.tsv",
         "line": {
          "color": "#bcbd22",
          "width": 2
         },
         "marker": {
          "color": "#bcbd22",
          "size": 4
         },
         "mode": "lines+markers",
         "name": "cumul_low.tsv",
         "showlegend": false,
         "type": "scatter3d",
         "x": [
          0,
          15
         ],
         "y": [
          0.1850201452979242,
          0.1786153586392236
         ],
         "z": [
          31.25,
          194.7368421052632
         ]
        },
        {
         "legendgroup": "cumul_low.tsv",
         "line": {
          "color": "#bcbd22",
          "width": 2
         },
         "marker": {
          "color": "#bcbd22",
          "size": 4
         },
         "mode": "lines+markers",
         "name": "cumul_low.tsv",
         "showlegend": false,
         "type": "scatter3d",
         "x": [
          0,
          15
         ],
         "y": [
          0.1850201452979242,
          0.4651424685539783
         ],
         "z": [
          31.25,
          202.63157894736844
         ]
        },
        {
         "legendgroup": "cumul_low.tsv",
         "line": {
          "color": "#bcbd22",
          "width": 2
         },
         "marker": {
          "color": "#bcbd22",
          "size": 4
         },
         "mode": "lines+markers",
         "name": "cumul_low.tsv",
         "showlegend": false,
         "type": "scatter3d",
         "x": [
          0,
          15
         ],
         "y": [
          0.1850201452979242,
          0.9796845215219812
         ],
         "z": [
          31.25,
          210.5263157894737
         ]
        },
        {
         "legendgroup": "cumul_low.tsv",
         "line": {
          "color": "#bcbd22",
          "width": 2
         },
         "marker": {
          "color": "#bcbd22",
          "size": 4
         },
         "mode": "lines+markers",
         "name": "cumul_low.tsv",
         "showlegend": false,
         "type": "scatter3d",
         "x": [
          0,
          15
         ],
         "y": [
          0.1850201452979242,
          0.7229376797757235
         ],
         "z": [
          31.25,
          215.7894736842105
         ]
        },
        {
         "legendgroup": "cumul_low.tsv",
         "line": {
          "color": "#bcbd22",
          "width": 2
         },
         "marker": {
          "color": "#bcbd22",
          "size": 4
         },
         "mode": "lines+markers",
         "name": "cumul_low.tsv",
         "showlegend": false,
         "type": "scatter3d",
         "x": [
          0,
          15
         ],
         "y": [
          0.1850201452979242,
          0.655112168137983
         ],
         "z": [
          31.25,
          223.6842105263158
         ]
        },
        {
         "legendgroup": "cumul_low.tsv",
         "line": {
          "color": "#bcbd22",
          "width": 2
         },
         "marker": {
          "color": "#bcbd22",
          "size": 4
         },
         "mode": "lines+markers",
         "name": "cumul_low.tsv",
         "showlegend": false,
         "type": "scatter3d",
         "x": [
          0,
          15
         ],
         "y": [
          0.1850201452979242,
          0.4157816723057572
         ],
         "z": [
          31.25,
          228.94736842105263
         ]
        },
        {
         "legendgroup": "cumul_low.tsv",
         "line": {
          "color": "#bcbd22",
          "width": 2
         },
         "marker": {
          "color": "#bcbd22",
          "size": 4
         },
         "mode": "lines+markers",
         "name": "cumul_low.tsv",
         "showlegend": false,
         "type": "scatter3d",
         "x": [
          0,
          15
         ],
         "y": [
          0.1850201452979242,
          0.1667969110040083
         ],
         "z": [
          31.25,
          292.10526315789474
         ]
        },
        {
         "legendgroup": "cumul_low.tsv",
         "line": {
          "color": "#bcbd22",
          "width": 2
         },
         "marker": {
          "color": "#bcbd22",
          "size": 4
         },
         "mode": "lines+markers",
         "name": "cumul_low.tsv",
         "showlegend": false,
         "type": "scatter3d",
         "x": [
          0,
          15
         ],
         "y": [
          0.1850201452979242,
          0.4393528726797046
         ],
         "z": [
          31.25,
          300
         ]
        },
        {
         "legendgroup": "cumul_low.tsv",
         "line": {
          "color": "#bcbd22",
          "width": 2
         },
         "marker": {
          "color": "#bcbd22",
          "size": 4
         },
         "mode": "lines+markers",
         "name": "cumul_low.tsv",
         "showlegend": false,
         "type": "scatter3d",
         "x": [
          0,
          15
         ],
         "y": [
          0.1850201452979242,
          0.9506378551226624
         ],
         "z": [
          31.25,
          307.89473684210526
         ]
        },
        {
         "legendgroup": "cumul_low.tsv",
         "line": {
          "color": "#bcbd22",
          "width": 2
         },
         "marker": {
          "color": "#bcbd22",
          "size": 4
         },
         "mode": "lines+markers",
         "name": "cumul_low.tsv",
         "showlegend": false,
         "type": "scatter3d",
         "x": [
          0,
          15
         ],
         "y": [
          0.1850201452979242,
          1
         ],
         "z": [
          31.25,
          313.15789473684214
         ]
        },
        {
         "legendgroup": "cumul_low.tsv",
         "line": {
          "color": "#bcbd22",
          "width": 2
         },
         "marker": {
          "color": "#bcbd22",
          "size": 4
         },
         "mode": "lines+markers",
         "name": "cumul_low.tsv",
         "showlegend": false,
         "type": "scatter3d",
         "x": [
          0,
          15
         ],
         "y": [
          0.283141101267248,
          0.9367027113655582
         ],
         "z": [
          75,
          321.0526315789474
         ]
        },
        {
         "legendgroup": "cumul_low.tsv",
         "line": {
          "color": "#bcbd22",
          "width": 2
         },
         "marker": {
          "color": "#bcbd22",
          "size": 4
         },
         "mode": "lines+markers",
         "name": "cumul_low.tsv",
         "showlegend": false,
         "type": "scatter3d",
         "x": [
          0,
          15
         ],
         "y": [
          0.283141101267248,
          0.7540197916214623
         ],
         "z": [
          75,
          328.94736842105266
         ]
        },
        {
         "legendgroup": "cumul_low.tsv",
         "line": {
          "color": "#bcbd22",
          "width": 2
         },
         "marker": {
          "color": "#bcbd22",
          "size": 4
         },
         "mode": "lines+markers",
         "name": "cumul_low.tsv",
         "showlegend": false,
         "type": "scatter3d",
         "x": [
          0,
          15
         ],
         "y": [
          0.283141101267248,
          0.4598957021709134
         ],
         "z": [
          75,
          334.2105263157895
         ]
        },
        {
         "legendgroup": "cumul_low.tsv",
         "line": {
          "color": "#bcbd22",
          "width": 2
         },
         "marker": {
          "color": "#bcbd22",
          "size": 4
         },
         "mode": "lines+markers",
         "name": "cumul_low.tsv",
         "showlegend": false,
         "type": "scatter3d",
         "x": [
          0,
          15
         ],
         "y": [
          0.283141101267248,
          0.3228091528511871
         ],
         "z": [
          75,
          339.4736842105264
         ]
        },
        {
         "legendgroup": "cumul_low.tsv",
         "line": {
          "color": "#bcbd22",
          "width": 2
         },
         "marker": {
          "color": "#bcbd22",
          "size": 4
         },
         "mode": "lines+markers",
         "name": "cumul_low.tsv",
         "showlegend": false,
         "type": "scatter3d",
         "x": [
          0,
          15
         ],
         "y": [
          0.283141101267248,
          0.2583585130027834
         ],
         "z": [
          75,
          344.7368421052632
         ]
        },
        {
         "legendgroup": "cumul_low.tsv",
         "line": {
          "color": "#bcbd22",
          "width": 2
         },
         "marker": {
          "color": "#bcbd22",
          "size": 4
         },
         "mode": "lines+markers",
         "name": "cumul_low.tsv",
         "showlegend": false,
         "type": "scatter3d",
         "x": [
          0,
          15
         ],
         "y": [
          0.283141101267248,
          0.161538223278509
         ],
         "z": [
          75,
          407.8947368421053
         ]
        },
        {
         "legendgroup": "cumul_low.tsv",
         "line": {
          "color": "#bcbd22",
          "width": 2
         },
         "marker": {
          "color": "#bcbd22",
          "size": 4
         },
         "mode": "lines+markers",
         "name": "cumul_low.tsv",
         "showlegend": false,
         "type": "scatter3d",
         "x": [
          0,
          15
         ],
         "y": [
          0.283141101267248,
          0.2269790825046815
         ],
         "z": [
          75,
          415.7894736842106
         ]
        },
        {
         "legendgroup": "cumul_low.tsv",
         "line": {
          "color": "#bcbd22",
          "width": 2
         },
         "marker": {
          "color": "#bcbd22",
          "size": 4
         },
         "mode": "lines+markers",
         "name": "cumul_low.tsv",
         "showlegend": false,
         "type": "scatter3d",
         "x": [
          0,
          15
         ],
         "y": [
          0.283141101267248,
          0.194079865036421
         ],
         "z": [
          75,
          426.3157894736842
         ]
        },
        {
         "legendgroup": "cumul_low.tsv",
         "line": {
          "color": "#bcbd22",
          "width": 2
         },
         "marker": {
          "color": "#bcbd22",
          "size": 4
         },
         "mode": "lines+markers",
         "name": "cumul_low.tsv",
         "showlegend": false,
         "type": "scatter3d",
         "x": [
          0,
          15
         ],
         "y": [
          0.283141101267248,
          0.2443404054258705
         ],
         "z": [
          75,
          434.2105263157895
         ]
        },
        {
         "legendgroup": "cumul_low.tsv",
         "line": {
          "color": "#bcbd22",
          "width": 2
         },
         "marker": {
          "color": "#bcbd22",
          "size": 4
         },
         "mode": "lines+markers",
         "name": "cumul_low.tsv",
         "showlegend": false,
         "type": "scatter3d",
         "x": [
          0,
          15
         ],
         "y": [
          0.283141101267248,
          0.1813377126441394
         ],
         "z": [
          75,
          439.4736842105264
         ]
        },
        {
         "legendgroup": "cumul_low.tsv",
         "line": {
          "color": "#bcbd22",
          "width": 2
         },
         "marker": {
          "color": "#bcbd22",
          "size": 4
         },
         "mode": "lines+markers",
         "name": "cumul_low.tsv",
         "showlegend": false,
         "type": "scatter3d",
         "x": [
          0,
          15
         ],
         "y": [
          0.283141101267248,
          0.1005437723484514
         ],
         "z": [
          75,
          513.1578947368422
         ]
        },
        {
         "legendgroup": "cumul_low.tsv",
         "line": {
          "color": "#bcbd22",
          "width": 2
         },
         "marker": {
          "color": "#bcbd22",
          "size": 4
         },
         "mode": "lines+markers",
         "name": "cumul_low.tsv",
         "showlegend": false,
         "type": "scatter3d",
         "x": [
          0,
          15
         ],
         "y": [
          0.283141101267248,
          0.0830359671764609
         ],
         "z": [
          75,
          518.421052631579
         ]
        },
        {
         "legendgroup": "cumul_low.tsv",
         "line": {
          "color": "#bcbd22",
          "width": 2
         },
         "marker": {
          "color": "#bcbd22",
          "size": 4
         },
         "mode": "lines+markers",
         "name": "cumul_low.tsv",
         "showlegend": false,
         "type": "scatter3d",
         "x": [
          0,
          15
         ],
         "y": [
          0.283141101267248,
          0.0760283450988506
         ],
         "z": [
          75,
          528.9473684210527
         ]
        },
        {
         "legendgroup": "cumul_low.tsv",
         "line": {
          "color": "#bcbd22",
          "width": 2
         },
         "marker": {
          "color": "#bcbd22",
          "size": 4
         },
         "mode": "lines+markers",
         "name": "cumul_low.tsv",
         "showlegend": false,
         "type": "scatter3d",
         "x": [
          0,
          15
         ],
         "y": [
          0.283141101267248,
          0.0794455589060347
         ],
         "z": [
          75,
          539.4736842105264
         ]
        },
        {
         "legendgroup": "cumul_low.tsv",
         "line": {
          "color": "#bcbd22",
          "width": 2
         },
         "marker": {
          "color": "#bcbd22",
          "size": 4
         },
         "mode": "lines+markers",
         "name": "cumul_low.tsv",
         "showlegend": false,
         "type": "scatter3d",
         "x": [
          0,
          15
         ],
         "y": [
          0.1757851035354066,
          0.0691157018696965
         ],
         "z": [
          127.5,
          2239.4736842105267
         ]
        },
        {
         "legendgroup": "cumul_low.tsv",
         "line": {
          "color": "#bcbd22",
          "width": 2
         },
         "marker": {
          "color": "#bcbd22",
          "size": 4
         },
         "mode": "lines+markers",
         "name": "cumul_low.tsv",
         "showlegend": false,
         "type": "scatter3d",
         "x": [
          0,
          15
         ],
         "y": [
          0.1757851035354066,
          0.0850497368965752
         ],
         "z": [
          127.5,
          2257.894736842105
         ]
        },
        {
         "legendgroup": "cumul_low.tsv",
         "line": {
          "color": "#bcbd22",
          "width": 2
         },
         "marker": {
          "color": "#bcbd22",
          "size": 4
         },
         "mode": "lines+markers",
         "name": "cumul_low.tsv",
         "showlegend": false,
         "type": "scatter3d",
         "x": [
          0,
          15
         ],
         "y": [
          0.1757851035354066,
          0.0824929646316279
         ],
         "z": [
          127.5,
          2265.789473684211
         ]
        },
        {
         "legendgroup": "cumul_low.tsv",
         "line": {
          "color": "#bcbd22",
          "width": 2
         },
         "marker": {
          "color": "#bcbd22",
          "size": 4
         },
         "mode": "lines+markers",
         "name": "cumul_low.tsv",
         "showlegend": false,
         "type": "scatter3d",
         "x": [
          0,
          15
         ],
         "y": [
          0.1757851035354066,
          0.0954201542535488
         ],
         "z": [
          127.5,
          2278.947368421053
         ]
        },
        {
         "legendgroup": "cumul_low.tsv",
         "line": {
          "color": "#bcbd22",
          "width": 2
         },
         "marker": {
          "color": "#bcbd22",
          "size": 4
         },
         "mode": "lines+markers",
         "name": "cumul_low.tsv",
         "showlegend": false,
         "type": "scatter3d",
         "x": [
          0,
          15
         ],
         "y": [
          1,
          0.0959027133357927
         ],
         "z": [
          238.75,
          2313.157894736842
         ]
        },
        {
         "legendgroup": "cumul_low.tsv",
         "line": {
          "color": "#bcbd22",
          "width": 2
         },
         "marker": {
          "color": "#bcbd22",
          "size": 4
         },
         "mode": "lines+markers",
         "name": "cumul_low.tsv",
         "showlegend": false,
         "type": "scatter3d",
         "x": [
          0,
          15
         ],
         "y": [
          1,
          0.107300897837546
         ],
         "z": [
          238.75,
          2323.684210526316
         ]
        },
        {
         "legendgroup": "cumul_low.tsv",
         "line": {
          "color": "#bcbd22",
          "width": 2
         },
         "marker": {
          "color": "#bcbd22",
          "size": 4
         },
         "mode": "lines+markers",
         "name": "cumul_low.tsv",
         "showlegend": false,
         "type": "scatter3d",
         "x": [
          0,
          15
         ],
         "y": [
          0.8030066318889745,
          0.1418779340323793
         ],
         "z": [
          321.25,
          2331.5789473684213
         ]
        },
        {
         "legendgroup": "cumul_low.tsv",
         "line": {
          "color": "#bcbd22",
          "width": 2
         },
         "marker": {
          "color": "#bcbd22",
          "size": 4
         },
         "mode": "lines+markers",
         "name": "cumul_low.tsv",
         "showlegend": false,
         "type": "scatter3d",
         "x": [
          0,
          15
         ],
         "y": [
          0.8030066318889745,
          0.0993877552038259
         ],
         "z": [
          321.25,
          2344.736842105264
         ]
        },
        {
         "legendgroup": "cumul_low.tsv",
         "line": {
          "color": "#bcbd22",
          "width": 2
         },
         "marker": {
          "color": "#bcbd22",
          "size": 4
         },
         "mode": "lines+markers",
         "name": "cumul_low.tsv",
         "showlegend": false,
         "type": "scatter3d",
         "x": [
          0,
          15
         ],
         "y": [
          0.281393918011551,
          0.1441631216758777
         ],
         "z": [
          393.75,
          2360.5263157894738
         ]
        },
        {
         "legendgroup": "cumul_low.tsv",
         "line": {
          "color": "#bcbd22",
          "width": 2
         },
         "marker": {
          "color": "#bcbd22",
          "size": 4
         },
         "mode": "lines+markers",
         "name": "cumul_low.tsv",
         "showlegend": false,
         "type": "scatter3d",
         "x": [
          0,
          15
         ],
         "y": [
          0.281393918011551,
          0.1022248722511056
         ],
         "z": [
          393.75,
          2381.5789473684213
         ]
        },
        {
         "legendgroup": "cumul_low.tsv",
         "line": {
          "color": "#bcbd22",
          "width": 2
         },
         "marker": {
          "color": "#bcbd22",
          "size": 4
         },
         "mode": "lines+markers",
         "name": "cumul_low.tsv",
         "showlegend": false,
         "type": "scatter3d",
         "x": [
          0,
          15
         ],
         "y": [
          0.3005076476996851,
          0.0853277055666826
         ],
         "z": [
          398.75,
          2392.105263157895
         ]
        },
        {
         "legendgroup": "cumul_low.tsv",
         "line": {
          "color": "#bcbd22",
          "width": 2
         },
         "marker": {
          "color": "#bcbd22",
          "size": 4
         },
         "mode": "lines+markers",
         "name": "cumul_low.tsv",
         "showlegend": false,
         "type": "scatter3d",
         "x": [
          0,
          15
         ],
         "y": [
          0.2761238895367967,
          0.1178521200796799
         ],
         "z": [
          518.75,
          2397.368421052632
         ]
        },
        {
         "legendgroup": "cumul_low.tsv",
         "line": {
          "color": "#bcbd22",
          "width": 2
         },
         "marker": {
          "color": "#bcbd22",
          "size": 4
         },
         "mode": "lines+markers",
         "name": "cumul_low.tsv",
         "showlegend": false,
         "type": "scatter3d",
         "x": [
          0,
          15
         ],
         "y": [
          0.1844266749375399,
          0.0690602989408101
         ],
         "z": [
          546.25,
          2952.631578947369
         ]
        },
        {
         "legendgroup": "cumul_low.tsv",
         "line": {
          "color": "#bcbd22",
          "width": 2
         },
         "marker": {
          "color": "#bcbd22",
          "size": 4
         },
         "mode": "lines+markers",
         "name": "cumul_low.tsv",
         "showlegend": false,
         "type": "scatter3d",
         "x": [
          0,
          15
         ],
         "y": [
          0.5657523874119471,
          0.0731497614540836
         ],
         "z": [
          600,
          3055.263157894737
         ]
        }
       ],
       "layout": {
        "height": 700,
        "scene": {
         "aspectmode": "auto",
         "aspectratio": {
          "x": 1,
          "y": 1,
          "z": 1
         },
         "camera": {
          "center": {
           "x": 0,
           "y": 0,
           "z": 0
          },
          "eye": {
           "x": 0.07702776778348541,
           "y": -2.0676347447477688,
           "z": 0.6848016393833507
          },
          "projection": {
           "type": "perspective"
          },
          "up": {
           "x": 0,
           "y": 0,
           "z": 1
          }
         },
         "xaxis": {
          "range": [
           0,
           15
          ],
          "title": {
           "text": "Time (s)"
          },
          "type": "linear"
         },
         "yaxis": {
          "range": [
           0,
           1
          ],
          "title": {
           "text": "Amplitude"
          },
          "type": "linear"
         },
         "zaxis": {
          "range": [
           0,
           3055.263157894737
          ],
          "title": {
           "text": "Frequency"
          },
          "type": "linear"
         }
        },
        "showlegend": true,
        "template": {
         "data": {
          "bar": [
           {
            "error_x": {
             "color": "#2a3f5f"
            },
            "error_y": {
             "color": "#2a3f5f"
            },
            "marker": {
             "line": {
              "color": "white",
              "width": 0.5
             },
             "pattern": {
              "fillmode": "overlay",
              "size": 10,
              "solidity": 0.2
             }
            },
            "type": "bar"
           }
          ],
          "barpolar": [
           {
            "marker": {
             "line": {
              "color": "white",
              "width": 0.5
             },
             "pattern": {
              "fillmode": "overlay",
              "size": 10,
              "solidity": 0.2
             }
            },
            "type": "barpolar"
           }
          ],
          "carpet": [
           {
            "aaxis": {
             "endlinecolor": "#2a3f5f",
             "gridcolor": "#C8D4E3",
             "linecolor": "#C8D4E3",
             "minorgridcolor": "#C8D4E3",
             "startlinecolor": "#2a3f5f"
            },
            "baxis": {
             "endlinecolor": "#2a3f5f",
             "gridcolor": "#C8D4E3",
             "linecolor": "#C8D4E3",
             "minorgridcolor": "#C8D4E3",
             "startlinecolor": "#2a3f5f"
            },
            "type": "carpet"
           }
          ],
          "choropleth": [
           {
            "colorbar": {
             "outlinewidth": 0,
             "ticks": ""
            },
            "type": "choropleth"
           }
          ],
          "contour": [
           {
            "colorbar": {
             "outlinewidth": 0,
             "ticks": ""
            },
            "colorscale": [
             [
              0,
              "#0d0887"
             ],
             [
              0.1111111111111111,
              "#46039f"
             ],
             [
              0.2222222222222222,
              "#7201a8"
             ],
             [
              0.3333333333333333,
              "#9c179e"
             ],
             [
              0.4444444444444444,
              "#bd3786"
             ],
             [
              0.5555555555555556,
              "#d8576b"
             ],
             [
              0.6666666666666666,
              "#ed7953"
             ],
             [
              0.7777777777777778,
              "#fb9f3a"
             ],
             [
              0.8888888888888888,
              "#fdca26"
             ],
             [
              1,
              "#f0f921"
             ]
            ],
            "type": "contour"
           }
          ],
          "contourcarpet": [
           {
            "colorbar": {
             "outlinewidth": 0,
             "ticks": ""
            },
            "type": "contourcarpet"
           }
          ],
          "heatmap": [
           {
            "colorbar": {
             "outlinewidth": 0,
             "ticks": ""
            },
            "colorscale": [
             [
              0,
              "#0d0887"
             ],
             [
              0.1111111111111111,
              "#46039f"
             ],
             [
              0.2222222222222222,
              "#7201a8"
             ],
             [
              0.3333333333333333,
              "#9c179e"
             ],
             [
              0.4444444444444444,
              "#bd3786"
             ],
             [
              0.5555555555555556,
              "#d8576b"
             ],
             [
              0.6666666666666666,
              "#ed7953"
             ],
             [
              0.7777777777777778,
              "#fb9f3a"
             ],
             [
              0.8888888888888888,
              "#fdca26"
             ],
             [
              1,
              "#f0f921"
             ]
            ],
            "type": "heatmap"
           }
          ],
          "heatmapgl": [
           {
            "colorbar": {
             "outlinewidth": 0,
             "ticks": ""
            },
            "colorscale": [
             [
              0,
              "#0d0887"
             ],
             [
              0.1111111111111111,
              "#46039f"
             ],
             [
              0.2222222222222222,
              "#7201a8"
             ],
             [
              0.3333333333333333,
              "#9c179e"
             ],
             [
              0.4444444444444444,
              "#bd3786"
             ],
             [
              0.5555555555555556,
              "#d8576b"
             ],
             [
              0.6666666666666666,
              "#ed7953"
             ],
             [
              0.7777777777777778,
              "#fb9f3a"
             ],
             [
              0.8888888888888888,
              "#fdca26"
             ],
             [
              1,
              "#f0f921"
             ]
            ],
            "type": "heatmapgl"
           }
          ],
          "histogram": [
           {
            "marker": {
             "pattern": {
              "fillmode": "overlay",
              "size": 10,
              "solidity": 0.2
             }
            },
            "type": "histogram"
           }
          ],
          "histogram2d": [
           {
            "colorbar": {
             "outlinewidth": 0,
             "ticks": ""
            },
            "colorscale": [
             [
              0,
              "#0d0887"
             ],
             [
              0.1111111111111111,
              "#46039f"
             ],
             [
              0.2222222222222222,
              "#7201a8"
             ],
             [
              0.3333333333333333,
              "#9c179e"
             ],
             [
              0.4444444444444444,
              "#bd3786"
             ],
             [
              0.5555555555555556,
              "#d8576b"
             ],
             [
              0.6666666666666666,
              "#ed7953"
             ],
             [
              0.7777777777777778,
              "#fb9f3a"
             ],
             [
              0.8888888888888888,
              "#fdca26"
             ],
             [
              1,
              "#f0f921"
             ]
            ],
            "type": "histogram2d"
           }
          ],
          "histogram2dcontour": [
           {
            "colorbar": {
             "outlinewidth": 0,
             "ticks": ""
            },
            "colorscale": [
             [
              0,
              "#0d0887"
             ],
             [
              0.1111111111111111,
              "#46039f"
             ],
             [
              0.2222222222222222,
              "#7201a8"
             ],
             [
              0.3333333333333333,
              "#9c179e"
             ],
             [
              0.4444444444444444,
              "#bd3786"
             ],
             [
              0.5555555555555556,
              "#d8576b"
             ],
             [
              0.6666666666666666,
              "#ed7953"
             ],
             [
              0.7777777777777778,
              "#fb9f3a"
             ],
             [
              0.8888888888888888,
              "#fdca26"
             ],
             [
              1,
              "#f0f921"
             ]
            ],
            "type": "histogram2dcontour"
           }
          ],
          "mesh3d": [
           {
            "colorbar": {
             "outlinewidth": 0,
             "ticks": ""
            },
            "type": "mesh3d"
           }
          ],
          "parcoords": [
           {
            "line": {
             "colorbar": {
              "outlinewidth": 0,
              "ticks": ""
             }
            },
            "type": "parcoords"
           }
          ],
          "pie": [
           {
            "automargin": true,
            "type": "pie"
           }
          ],
          "scatter": [
           {
            "fillpattern": {
             "fillmode": "overlay",
             "size": 10,
             "solidity": 0.2
            },
            "type": "scatter"
           }
          ],
          "scatter3d": [
           {
            "line": {
             "colorbar": {
              "outlinewidth": 0,
              "ticks": ""
             }
            },
            "marker": {
             "colorbar": {
              "outlinewidth": 0,
              "ticks": ""
             }
            },
            "type": "scatter3d"
           }
          ],
          "scattercarpet": [
           {
            "marker": {
             "colorbar": {
              "outlinewidth": 0,
              "ticks": ""
             }
            },
            "type": "scattercarpet"
           }
          ],
          "scattergeo": [
           {
            "marker": {
             "colorbar": {
              "outlinewidth": 0,
              "ticks": ""
             }
            },
            "type": "scattergeo"
           }
          ],
          "scattergl": [
           {
            "marker": {
             "colorbar": {
              "outlinewidth": 0,
              "ticks": ""
             }
            },
            "type": "scattergl"
           }
          ],
          "scattermapbox": [
           {
            "marker": {
             "colorbar": {
              "outlinewidth": 0,
              "ticks": ""
             }
            },
            "type": "scattermapbox"
           }
          ],
          "scatterpolar": [
           {
            "marker": {
             "colorbar": {
              "outlinewidth": 0,
              "ticks": ""
             }
            },
            "type": "scatterpolar"
           }
          ],
          "scatterpolargl": [
           {
            "marker": {
             "colorbar": {
              "outlinewidth": 0,
              "ticks": ""
             }
            },
            "type": "scatterpolargl"
           }
          ],
          "scatterternary": [
           {
            "marker": {
             "colorbar": {
              "outlinewidth": 0,
              "ticks": ""
             }
            },
            "type": "scatterternary"
           }
          ],
          "surface": [
           {
            "colorbar": {
             "outlinewidth": 0,
             "ticks": ""
            },
            "colorscale": [
             [
              0,
              "#0d0887"
             ],
             [
              0.1111111111111111,
              "#46039f"
             ],
             [
              0.2222222222222222,
              "#7201a8"
             ],
             [
              0.3333333333333333,
              "#9c179e"
             ],
             [
              0.4444444444444444,
              "#bd3786"
             ],
             [
              0.5555555555555556,
              "#d8576b"
             ],
             [
              0.6666666666666666,
              "#ed7953"
             ],
             [
              0.7777777777777778,
              "#fb9f3a"
             ],
             [
              0.8888888888888888,
              "#fdca26"
             ],
             [
              1,
              "#f0f921"
             ]
            ],
            "type": "surface"
           }
          ],
          "table": [
           {
            "cells": {
             "fill": {
              "color": "#EBF0F8"
             },
             "line": {
              "color": "white"
             }
            },
            "header": {
             "fill": {
              "color": "#C8D4E3"
             },
             "line": {
              "color": "white"
             }
            },
            "type": "table"
           }
          ]
         },
         "layout": {
          "annotationdefaults": {
           "arrowcolor": "#2a3f5f",
           "arrowhead": 0,
           "arrowwidth": 1
          },
          "autotypenumbers": "strict",
          "coloraxis": {
           "colorbar": {
            "outlinewidth": 0,
            "ticks": ""
           }
          },
          "colorscale": {
           "diverging": [
            [
             0,
             "#8e0152"
            ],
            [
             0.1,
             "#c51b7d"
            ],
            [
             0.2,
             "#de77ae"
            ],
            [
             0.3,
             "#f1b6da"
            ],
            [
             0.4,
             "#fde0ef"
            ],
            [
             0.5,
             "#f7f7f7"
            ],
            [
             0.6,
             "#e6f5d0"
            ],
            [
             0.7,
             "#b8e186"
            ],
            [
             0.8,
             "#7fbc41"
            ],
            [
             0.9,
             "#4d9221"
            ],
            [
             1,
             "#276419"
            ]
           ],
           "sequential": [
            [
             0,
             "#0d0887"
            ],
            [
             0.1111111111111111,
             "#46039f"
            ],
            [
             0.2222222222222222,
             "#7201a8"
            ],
            [
             0.3333333333333333,
             "#9c179e"
            ],
            [
             0.4444444444444444,
             "#bd3786"
            ],
            [
             0.5555555555555556,
             "#d8576b"
            ],
            [
             0.6666666666666666,
             "#ed7953"
            ],
            [
             0.7777777777777778,
             "#fb9f3a"
            ],
            [
             0.8888888888888888,
             "#fdca26"
            ],
            [
             1,
             "#f0f921"
            ]
           ],
           "sequentialminus": [
            [
             0,
             "#0d0887"
            ],
            [
             0.1111111111111111,
             "#46039f"
            ],
            [
             0.2222222222222222,
             "#7201a8"
            ],
            [
             0.3333333333333333,
             "#9c179e"
            ],
            [
             0.4444444444444444,
             "#bd3786"
            ],
            [
             0.5555555555555556,
             "#d8576b"
            ],
            [
             0.6666666666666666,
             "#ed7953"
            ],
            [
             0.7777777777777778,
             "#fb9f3a"
            ],
            [
             0.8888888888888888,
             "#fdca26"
            ],
            [
             1,
             "#f0f921"
            ]
           ]
          },
          "colorway": [
           "#636efa",
           "#EF553B",
           "#00cc96",
           "#ab63fa",
           "#FFA15A",
           "#19d3f3",
           "#FF6692",
           "#B6E880",
           "#FF97FF",
           "#FECB52"
          ],
          "font": {
           "color": "#2a3f5f"
          },
          "geo": {
           "bgcolor": "white",
           "lakecolor": "white",
           "landcolor": "white",
           "showlakes": true,
           "showland": true,
           "subunitcolor": "#C8D4E3"
          },
          "hoverlabel": {
           "align": "left"
          },
          "hovermode": "closest",
          "mapbox": {
           "style": "light"
          },
          "paper_bgcolor": "white",
          "plot_bgcolor": "white",
          "polar": {
           "angularaxis": {
            "gridcolor": "#EBF0F8",
            "linecolor": "#EBF0F8",
            "ticks": ""
           },
           "bgcolor": "white",
           "radialaxis": {
            "gridcolor": "#EBF0F8",
            "linecolor": "#EBF0F8",
            "ticks": ""
           }
          },
          "scene": {
           "xaxis": {
            "backgroundcolor": "white",
            "gridcolor": "#DFE8F3",
            "gridwidth": 2,
            "linecolor": "#EBF0F8",
            "showbackground": true,
            "ticks": "",
            "zerolinecolor": "#EBF0F8"
           },
           "yaxis": {
            "backgroundcolor": "white",
            "gridcolor": "#DFE8F3",
            "gridwidth": 2,
            "linecolor": "#EBF0F8",
            "showbackground": true,
            "ticks": "",
            "zerolinecolor": "#EBF0F8"
           },
           "zaxis": {
            "backgroundcolor": "white",
            "gridcolor": "#DFE8F3",
            "gridwidth": 2,
            "linecolor": "#EBF0F8",
            "showbackground": true,
            "ticks": "",
            "zerolinecolor": "#EBF0F8"
           }
          },
          "shapedefaults": {
           "line": {
            "color": "#2a3f5f"
           }
          },
          "ternary": {
           "aaxis": {
            "gridcolor": "#DFE8F3",
            "linecolor": "#A2B1C6",
            "ticks": ""
           },
           "baxis": {
            "gridcolor": "#DFE8F3",
            "linecolor": "#A2B1C6",
            "ticks": ""
           },
           "bgcolor": "white",
           "caxis": {
            "gridcolor": "#DFE8F3",
            "linecolor": "#A2B1C6",
            "ticks": ""
           }
          },
          "title": {
           "x": 0.05
          },
          "xaxis": {
           "automargin": true,
           "gridcolor": "#EBF0F8",
           "linecolor": "#EBF0F8",
           "ticks": "",
           "title": {
            "standoff": 15
           },
           "zerolinecolor": "#EBF0F8",
           "zerolinewidth": 2
          },
          "yaxis": {
           "automargin": true,
           "gridcolor": "#EBF0F8",
           "linecolor": "#EBF0F8",
           "ticks": "",
           "title": {
            "standoff": 15
           },
           "zerolinecolor": "#EBF0F8",
           "zerolinewidth": 2
          }
         }
        },
        "title": {
         "text": "Time vs Amplitude vs Frequency for Each Event (3D)"
        },
        "width": 900
       }
      },
      "image/png": "[encoded data removed]",
      "text/html": [
       "<div>                            <div id=\"36341ce9-e23c-4387-8d43-26d7d719dd3a\" class=\"plotly-graph-div\" style=\"height:700px; width:900px;\"></div>            <script type=\"text/javascript\">                require([\"plotly\"], function(Plotly) {                    window.PLOTLYENV=window.PLOTLYENV || {};                                    if (document.getElementById(\"36341ce9-e23c-4387-8d43-26d7d719dd3a\")) {                    Plotly.newPlot(                        \"36341ce9-e23c-4387-8d43-26d7d719dd3a\",                        [{\"legendgroup\":\"cumul_high.tsv\",\"line\":{\"color\":\"#17becf\",\"width\":2},\"marker\":{\"color\":\"#17becf\",\"size\":4},\"mode\":\"lines+markers\",\"name\":\"cumul_high.tsv\",\"showlegend\":true,\"x\":[0.0,15.0],\"y\":[0.1850201452979242,0.127584789032354],\"z\":[31.25,97.3684210526316],\"type\":\"scatter3d\"},{\"legendgroup\":\"cumul_high.tsv\",\"line\":{\"color\":\"#17becf\",\"width\":2},\"marker\":{\"color\":\"#17becf\",\"size\":4},\"mode\":\"lines+markers\",\"name\":\"cumul_high.tsv\",\"showlegend\":false,\"x\":[0.0,15.0],\"y\":[0.283141101267248,0.730144835812919],\"z\":[75.0,105.26315789473684],\"type\":\"scatter3d\"},{\"legendgroup\":\"cumul_high.tsv\",\"line\":{\"color\":\"#17becf\",\"width\":2},\"marker\":{\"color\":\"#17becf\",\"size\":4},\"mode\":\"lines+markers\",\"name\":\"cumul_high.tsv\",\"showlegend\":false,\"x\":[0.0,15.0],\"y\":[0.1757851035354066,0.3203863416156858],\"z\":[127.5,110.5263157894737],\"type\":\"scatter3d\"},{\"legendgroup\":\"cumul_high.tsv\",\"line\":{\"color\":\"#17becf\",\"width\":2},\"marker\":{\"color\":\"#17becf\",\"size\":4},\"mode\":\"lines+markers\",\"name\":\"cumul_high.tsv\",\"showlegend\":false,\"x\":[0.0,15.0],\"y\":[0.1757851035354066,0.1786153586392236],\"z\":[127.5,194.7368421052632],\"type\":\"scatter3d\"},{\"legendgroup\":\"cumul_high.tsv\",\"line\":{\"color\":\"#17becf\",\"width\":2},\"marker\":{\"color\":\"#17becf\",\"size\":4},\"mode\":\"lines+markers\",\"name\":\"cumul_high.tsv\",\"showlegend\":false,\"x\":[0.0,15.0],\"y\":[1.0,0.4651424685539783],\"z\":[238.75,202.63157894736844],\"type\":\"scatter3d\"},{\"legendgroup\":\"cumul_high.tsv\",\"line\":{\"color\":\"#17becf\",\"width\":2},\"marker\":{\"color\":\"#17becf\",\"size\":4},\"mode\":\"lines+markers\",\"name\":\"cumul_high.tsv\",\"showlegend\":false,\"x\":[0.0,15.0],\"y\":[1.0,0.9796845215219812],\"z\":[238.75,210.5263157894737],\"type\":\"scatter3d\"},{\"legendgroup\":\"cumul_high.tsv\",\"line\":{\"color\":\"#17becf\",\"width\":2},\"marker\":{\"color\":\"#17becf\",\"size\":4},\"mode\":\"lines+markers\",\"name\":\"cumul_high.tsv\",\"showlegend\":false,\"x\":[0.0,15.0],\"y\":[1.0,0.7229376797757235],\"z\":[238.75,215.7894736842105],\"type\":\"scatter3d\"},{\"legendgroup\":\"cumul_high.tsv\",\"line\":{\"color\":\"#17becf\",\"width\":2},\"marker\":{\"color\":\"#17becf\",\"size\":4},\"mode\":\"lines+markers\",\"name\":\"cumul_high.tsv\",\"showlegend\":false,\"x\":[0.0,15.0],\"y\":[0.8030066318889745,0.655112168137983],\"z\":[321.25,223.6842105263158],\"type\":\"scatter3d\"},{\"legendgroup\":\"cumul_high.tsv\",\"line\":{\"color\":\"#17becf\",\"width\":2},\"marker\":{\"color\":\"#17becf\",\"size\":4},\"mode\":\"lines+markers\",\"name\":\"cumul_high.tsv\",\"showlegend\":false,\"x\":[0.0,15.0],\"y\":[0.8030066318889745,0.4157816723057572],\"z\":[321.25,228.94736842105263],\"type\":\"scatter3d\"},{\"legendgroup\":\"cumul_high.tsv\",\"line\":{\"color\":\"#17becf\",\"width\":2},\"marker\":{\"color\":\"#17becf\",\"size\":4},\"mode\":\"lines+markers\",\"name\":\"cumul_high.tsv\",\"showlegend\":false,\"x\":[0.0,15.0],\"y\":[0.8030066318889745,0.1667969110040083],\"z\":[321.25,292.10526315789474],\"type\":\"scatter3d\"},{\"legendgroup\":\"cumul_high.tsv\",\"line\":{\"color\":\"#17becf\",\"width\":2},\"marker\":{\"color\":\"#17becf\",\"size\":4},\"mode\":\"lines+markers\",\"name\":\"cumul_high.tsv\",\"showlegend\":false,\"x\":[0.0,15.0],\"y\":[0.8030066318889745,0.4393528726797046],\"z\":[321.25,300.0],\"type\":\"scatter3d\"},{\"legendgroup\":\"cumul_high.tsv\",\"line\":{\"color\":\"#17becf\",\"width\":2},\"marker\":{\"color\":\"#17becf\",\"size\":4},\"mode\":\"lines+markers\",\"name\":\"cumul_high.tsv\",\"showlegend\":false,\"x\":[0.0,15.0],\"y\":[0.281393918011551,0.9506378551226624],\"z\":[393.75,307.89473684210526],\"type\":\"scatter3d\"},{\"legendgroup\":\"cumul_high.tsv\",\"line\":{\"color\":\"#17becf\",\"width\":2},\"marker\":{\"color\":\"#17becf\",\"size\":4},\"mode\":\"lines+markers\",\"name\":\"cumul_high.tsv\",\"showlegend\":false,\"x\":[0.0,15.0],\"y\":[0.281393918011551,1.0],\"z\":[393.75,313.15789473684214],\"type\":\"scatter3d\"},{\"legendgroup\":\"cumul_high.tsv\",\"line\":{\"color\":\"#17becf\",\"width\":2},\"marker\":{\"color\":\"#17becf\",\"size\":4},\"mode\":\"lines+markers\",\"name\":\"cumul_high.tsv\",\"showlegend\":false,\"x\":[0.0,15.0],\"y\":[0.281393918011551,0.9367027113655582],\"z\":[393.75,321.0526315789474],\"type\":\"scatter3d\"},{\"legendgroup\":\"cumul_high.tsv\",\"line\":{\"color\":\"#17becf\",\"width\":2},\"marker\":{\"color\":\"#17becf\",\"size\":4},\"mode\":\"lines+markers\",\"name\":\"cumul_high.tsv\",\"showlegend\":false,\"x\":[0.0,15.0],\"y\":[0.281393918011551,0.7540197916214623],\"z\":[393.75,328.94736842105266],\"type\":\"scatter3d\"},{\"legendgroup\":\"cumul_high.tsv\",\"line\":{\"color\":\"#17becf\",\"width\":2},\"marker\":{\"color\":\"#17becf\",\"size\":4},\"mode\":\"lines+markers\",\"name\":\"cumul_high.tsv\",\"showlegend\":false,\"x\":[0.0,15.0],\"y\":[0.281393918011551,0.4598957021709134],\"z\":[393.75,334.2105263157895],\"type\":\"scatter3d\"},{\"legendgroup\":\"cumul_high.tsv\",\"line\":{\"color\":\"#17becf\",\"width\":2},\"marker\":{\"color\":\"#17becf\",\"size\":4},\"mode\":\"lines+markers\",\"name\":\"cumul_high.tsv\",\"showlegend\":false,\"x\":[0.0,15.0],\"y\":[0.3005076476996851,0.3228091528511871],\"z\":[398.75,339.4736842105264],\"type\":\"scatter3d\"},{\"legendgroup\":\"cumul_high.tsv\",\"line\":{\"color\":\"#17becf\",\"width\":2},\"marker\":{\"color\":\"#17becf\",\"size\":4},\"mode\":\"lines+markers\",\"name\":\"cumul_high.tsv\",\"showlegend\":false,\"x\":[0.0,15.0],\"y\":[0.3005076476996851,0.2583585130027834],\"z\":[398.75,344.7368421052632],\"type\":\"scatter3d\"},{\"legendgroup\":\"cumul_high.tsv\",\"line\":{\"color\":\"#17becf\",\"width\":2},\"marker\":{\"color\":\"#17becf\",\"size\":4},\"mode\":\"lines+markers\",\"name\":\"cumul_high.tsv\",\"showlegend\":false,\"x\":[0.0,15.0],\"y\":[0.3005076476996851,0.161538223278509],\"z\":[398.75,407.8947368421053],\"type\":\"scatter3d\"},{\"legendgroup\":\"cumul_high.tsv\",\"line\":{\"color\":\"#17becf\",\"width\":2},\"marker\":{\"color\":\"#17becf\",\"size\":4},\"mode\":\"lines+markers\",\"name\":\"cumul_high.tsv\",\"showlegend\":false,\"x\":[0.0,15.0],\"y\":[0.3005076476996851,0.2269790825046815],\"z\":[398.75,415.7894736842106],\"type\":\"scatter3d\"},{\"legendgroup\":\"cumul_high.tsv\",\"line\":{\"color\":\"#17becf\",\"width\":2},\"marker\":{\"color\":\"#17becf\",\"size\":4},\"mode\":\"lines+markers\",\"name\":\"cumul_high.tsv\",\"showlegend\":false,\"x\":[0.0,15.0],\"y\":[0.3005076476996851,0.194079865036421],\"z\":[398.75,426.3157894736842],\"type\":\"scatter3d\"},{\"legendgroup\":\"cumul_high.tsv\",\"line\":{\"color\":\"#17becf\",\"width\":2},\"marker\":{\"color\":\"#17becf\",\"size\":4},\"mode\":\"lines+markers\",\"name\":\"cumul_high.tsv\",\"showlegend\":false,\"x\":[0.0,15.0],\"y\":[0.3005076476996851,0.2443404054258705],\"z\":[398.75,434.2105263157895],\"type\":\"scatter3d\"},{\"legendgroup\":\"cumul_high.tsv\",\"line\":{\"color\":\"#17becf\",\"width\":2},\"marker\":{\"color\":\"#17becf\",\"size\":4},\"mode\":\"lines+markers\",\"name\":\"cumul_high.tsv\",\"showlegend\":false,\"x\":[0.0,15.0],\"y\":[0.2761238895367967,0.1813377126441394],\"z\":[518.75,439.4736842105264],\"type\":\"scatter3d\"},{\"legendgroup\":\"cumul_high.tsv\",\"line\":{\"color\":\"#17becf\",\"width\":2},\"marker\":{\"color\":\"#17becf\",\"size\":4},\"mode\":\"lines+markers\",\"name\":\"cumul_high.tsv\",\"showlegend\":false,\"x\":[0.0,15.0],\"y\":[0.2761238895367967,0.1005437723484514],\"z\":[518.75,513.1578947368422],\"type\":\"scatter3d\"},{\"legendgroup\":\"cumul_high.tsv\",\"line\":{\"color\":\"#17becf\",\"width\":2},\"marker\":{\"color\":\"#17becf\",\"size\":4},\"mode\":\"lines+markers\",\"name\":\"cumul_high.tsv\",\"showlegend\":false,\"x\":[0.0,15.0],\"y\":[0.2761238895367967,0.0830359671764609],\"z\":[518.75,518.421052631579],\"type\":\"scatter3d\"},{\"legendgroup\":\"cumul_high.tsv\",\"line\":{\"color\":\"#17becf\",\"width\":2},\"marker\":{\"color\":\"#17becf\",\"size\":4},\"mode\":\"lines+markers\",\"name\":\"cumul_high.tsv\",\"showlegend\":false,\"x\":[0.0,15.0],\"y\":[0.2761238895367967,0.0760283450988506],\"z\":[518.75,528.9473684210527],\"type\":\"scatter3d\"},{\"legendgroup\":\"cumul_high.tsv\",\"line\":{\"color\":\"#17becf\",\"width\":2},\"marker\":{\"color\":\"#17becf\",\"size\":4},\"mode\":\"lines+markers\",\"name\":\"cumul_high.tsv\",\"showlegend\":false,\"x\":[0.0,15.0],\"y\":[0.2761238895367967,0.0794455589060347],\"z\":[518.75,539.4736842105264],\"type\":\"scatter3d\"},{\"legendgroup\":\"cumul_high.tsv\",\"line\":{\"color\":\"#17becf\",\"width\":2},\"marker\":{\"color\":\"#17becf\",\"size\":4},\"mode\":\"lines+markers\",\"name\":\"cumul_high.tsv\",\"showlegend\":false,\"x\":[0.0,15.0],\"y\":[0.2761238895367967,0.0691157018696965],\"z\":[518.75,2239.4736842105267],\"type\":\"scatter3d\"},{\"legendgroup\":\"cumul_high.tsv\",\"line\":{\"color\":\"#17becf\",\"width\":2},\"marker\":{\"color\":\"#17becf\",\"size\":4},\"mode\":\"lines+markers\",\"name\":\"cumul_high.tsv\",\"showlegend\":false,\"x\":[0.0,15.0],\"y\":[0.2761238895367967,0.0850497368965752],\"z\":[518.75,2257.894736842105],\"type\":\"scatter3d\"},{\"legendgroup\":\"cumul_high.tsv\",\"line\":{\"color\":\"#17becf\",\"width\":2},\"marker\":{\"color\":\"#17becf\",\"size\":4},\"mode\":\"lines+markers\",\"name\":\"cumul_high.tsv\",\"showlegend\":false,\"x\":[0.0,15.0],\"y\":[0.1844266749375399,0.0824929646316279],\"z\":[546.25,2265.789473684211],\"type\":\"scatter3d\"},{\"legendgroup\":\"cumul_high.tsv\",\"line\":{\"color\":\"#17becf\",\"width\":2},\"marker\":{\"color\":\"#17becf\",\"size\":4},\"mode\":\"lines+markers\",\"name\":\"cumul_high.tsv\",\"showlegend\":false,\"x\":[0.0,15.0],\"y\":[0.1844266749375399,0.0954201542535488],\"z\":[546.25,2278.947368421053],\"type\":\"scatter3d\"},{\"legendgroup\":\"cumul_high.tsv\",\"line\":{\"color\":\"#17becf\",\"width\":2},\"marker\":{\"color\":\"#17becf\",\"size\":4},\"mode\":\"lines+markers\",\"name\":\"cumul_high.tsv\",\"showlegend\":false,\"x\":[0.0,15.0],\"y\":[0.1844266749375399,0.0959027133357927],\"z\":[546.25,2313.157894736842],\"type\":\"scatter3d\"},{\"legendgroup\":\"cumul_high.tsv\",\"line\":{\"color\":\"#17becf\",\"width\":2},\"marker\":{\"color\":\"#17becf\",\"size\":4},\"mode\":\"lines+markers\",\"name\":\"cumul_high.tsv\",\"showlegend\":false,\"x\":[0.0,15.0],\"y\":[0.1844266749375399,0.107300897837546],\"z\":[546.25,2323.684210526316],\"type\":\"scatter3d\"},{\"legendgroup\":\"cumul_high.tsv\",\"line\":{\"color\":\"#17becf\",\"width\":2},\"marker\":{\"color\":\"#17becf\",\"size\":4},\"mode\":\"lines+markers\",\"name\":\"cumul_high.tsv\",\"showlegend\":false,\"x\":[0.0,15.0],\"y\":[0.1844266749375399,0.1418779340323793],\"z\":[546.25,2331.5789473684213],\"type\":\"scatter3d\"},{\"legendgroup\":\"cumul_high.tsv\",\"line\":{\"color\":\"#17becf\",\"width\":2},\"marker\":{\"color\":\"#17becf\",\"size\":4},\"mode\":\"lines+markers\",\"name\":\"cumul_high.tsv\",\"showlegend\":false,\"x\":[0.0,15.0],\"y\":[0.1844266749375399,0.0993877552038259],\"z\":[546.25,2344.736842105264],\"type\":\"scatter3d\"},{\"legendgroup\":\"cumul_high.tsv\",\"line\":{\"color\":\"#17becf\",\"width\":2},\"marker\":{\"color\":\"#17becf\",\"size\":4},\"mode\":\"lines+markers\",\"name\":\"cumul_high.tsv\",\"showlegend\":false,\"x\":[0.0,15.0],\"y\":[0.1844266749375399,0.1441631216758777],\"z\":[546.25,2360.5263157894738],\"type\":\"scatter3d\"},{\"legendgroup\":\"cumul_high.tsv\",\"line\":{\"color\":\"#17becf\",\"width\":2},\"marker\":{\"color\":\"#17becf\",\"size\":4},\"mode\":\"lines+markers\",\"name\":\"cumul_high.tsv\",\"showlegend\":false,\"x\":[0.0,15.0],\"y\":[0.1844266749375399,0.1022248722511056],\"z\":[546.25,2381.5789473684213],\"type\":\"scatter3d\"},{\"legendgroup\":\"cumul_high.tsv\",\"line\":{\"color\":\"#17becf\",\"width\":2},\"marker\":{\"color\":\"#17becf\",\"size\":4},\"mode\":\"lines+markers\",\"name\":\"cumul_high.tsv\",\"showlegend\":false,\"x\":[0.0,15.0],\"y\":[0.5657523874119471,0.0853277055666826],\"z\":[600.0,2392.105263157895],\"type\":\"scatter3d\"},{\"legendgroup\":\"cumul_high.tsv\",\"line\":{\"color\":\"#17becf\",\"width\":2},\"marker\":{\"color\":\"#17becf\",\"size\":4},\"mode\":\"lines+markers\",\"name\":\"cumul_high.tsv\",\"showlegend\":false,\"x\":[0.0,15.0],\"y\":[0.5657523874119471,0.1178521200796799],\"z\":[600.0,2397.368421052632],\"type\":\"scatter3d\"},{\"legendgroup\":\"cumul_high.tsv\",\"line\":{\"color\":\"#17becf\",\"width\":2},\"marker\":{\"color\":\"#17becf\",\"size\":4},\"mode\":\"lines+markers\",\"name\":\"cumul_high.tsv\",\"showlegend\":false,\"x\":[0.0,15.0],\"y\":[0.5657523874119471,0.0690602989408101],\"z\":[600.0,2952.631578947369],\"type\":\"scatter3d\"},{\"legendgroup\":\"cumul_high.tsv\",\"line\":{\"color\":\"#17becf\",\"width\":2},\"marker\":{\"color\":\"#17becf\",\"size\":4},\"mode\":\"lines+markers\",\"name\":\"cumul_high.tsv\",\"showlegend\":false,\"x\":[0.0,15.0],\"y\":[0.5657523874119471,0.0731497614540836],\"z\":[600.0,3055.263157894737],\"type\":\"scatter3d\"},{\"legendgroup\":\"cumul_low.tsv\",\"line\":{\"color\":\"#bcbd22\",\"width\":2},\"marker\":{\"color\":\"#bcbd22\",\"size\":4},\"mode\":\"lines+markers\",\"name\":\"cumul_low.tsv\",\"showlegend\":true,\"x\":[0.0,15.0],\"y\":[0.1850201452979242,0.127584789032354],\"z\":[31.25,97.3684210526316],\"type\":\"scatter3d\"},{\"legendgroup\":\"cumul_low.tsv\",\"line\":{\"color\":\"#bcbd22\",\"width\":2},\"marker\":{\"color\":\"#bcbd22\",\"size\":4},\"mode\":\"lines+markers\",\"name\":\"cumul_low.tsv\",\"showlegend\":false,\"x\":[0.0,15.0],\"y\":[0.1850201452979242,0.730144835812919],\"z\":[31.25,105.26315789473684],\"type\":\"scatter3d\"},{\"legendgroup\":\"cumul_low.tsv\",\"line\":{\"color\":\"#bcbd22\",\"width\":2},\"marker\":{\"color\":\"#bcbd22\",\"size\":4},\"mode\":\"lines+markers\",\"name\":\"cumul_low.tsv\",\"showlegend\":false,\"x\":[0.0,15.0],\"y\":[0.1850201452979242,0.3203863416156858],\"z\":[31.25,110.5263157894737],\"type\":\"scatter3d\"},{\"legendgroup\":\"cumul_low.tsv\",\"line\":{\"color\":\"#bcbd22\",\"width\":2},\"marker\":{\"color\":\"#bcbd22\",\"size\":4},\"mode\":\"lines+markers\",\"name\":\"cumul_low.tsv\",\"showlegend\":false,\"x\":[0.0,15.0],\"y\":[0.1850201452979242,0.1786153586392236],\"z\":[31.25,194.7368421052632],\"type\":\"scatter3d\"},{\"legendgroup\":\"cumul_low.tsv\",\"line\":{\"color\":\"#bcbd22\",\"width\":2},\"marker\":{\"color\":\"#bcbd22\",\"size\":4},\"mode\":\"lines+markers\",\"name\":\"cumul_low.tsv\",\"showlegend\":false,\"x\":[0.0,15.0],\"y\":[0.1850201452979242,0.4651424685539783],\"z\":[31.25,202.63157894736844],\"type\":\"scatter3d\"},{\"legendgroup\":\"cumul_low.tsv\",\"line\":{\"color\":\"#bcbd22\",\"width\":2},\"marker\":{\"color\":\"#bcbd22\",\"size\":4},\"mode\":\"lines+markers\",\"name\":\"cumul_low.tsv\",\"showlegend\":false,\"x\":[0.0,15.0],\"y\":[0.1850201452979242,0.9796845215219812],\"z\":[31.25,210.5263157894737],\"type\":\"scatter3d\"},{\"legendgroup\":\"cumul_low.tsv\",\"line\":{\"color\":\"#bcbd22\",\"width\":2},\"marker\":{\"color\":\"#bcbd22\",\"size\":4},\"mode\":\"lines+markers\",\"name\":\"cumul_low.tsv\",\"showlegend\":false,\"x\":[0.0,15.0],\"y\":[0.1850201452979242,0.7229376797757235],\"z\":[31.25,215.7894736842105],\"type\":\"scatter3d\"},{\"legendgroup\":\"cumul_low.tsv\",\"line\":{\"color\":\"#bcbd22\",\"width\":2},\"marker\":{\"color\":\"#bcbd22\",\"size\":4},\"mode\":\"lines+markers\",\"name\":\"cumul_low.tsv\",\"showlegend\":false,\"x\":[0.0,15.0],\"y\":[0.1850201452979242,0.655112168137983],\"z\":[31.25,223.6842105263158],\"type\":\"scatter3d\"},{\"legendgroup\":\"cumul_low.tsv\",\"line\":{\"color\":\"#bcbd22\",\"width\":2},\"marker\":{\"color\":\"#bcbd22\",\"size\":4},\"mode\":\"lines+markers\",\"name\":\"cumul_low.tsv\",\"showlegend\":false,\"x\":[0.0,15.0],\"y\":[0.1850201452979242,0.4157816723057572],\"z\":[31.25,228.94736842105263],\"type\":\"scatter3d\"},{\"legendgroup\":\"cumul_low.tsv\",\"line\":{\"color\":\"#bcbd22\",\"width\":2},\"marker\":{\"color\":\"#bcbd22\",\"size\":4},\"mode\":\"lines+markers\",\"name\":\"cumul_low.tsv\",\"showlegend\":false,\"x\":[0.0,15.0],\"y\":[0.1850201452979242,0.1667969110040083],\"z\":[31.25,292.10526315789474],\"type\":\"scatter3d\"},{\"legendgroup\":\"cumul_low.tsv\",\"line\":{\"color\":\"#bcbd22\",\"width\":2},\"marker\":{\"color\":\"#bcbd22\",\"size\":4},\"mode\":\"lines+markers\",\"name\":\"cumul_low.tsv\",\"showlegend\":false,\"x\":[0.0,15.0],\"y\":[0.1850201452979242,0.4393528726797046],\"z\":[31.25,300.0],\"type\":\"scatter3d\"},{\"legendgroup\":\"cumul_low.tsv\",\"line\":{\"color\":\"#bcbd22\",\"width\":2},\"marker\":{\"color\":\"#bcbd22\",\"size\":4},\"mode\":\"lines+markers\",\"name\":\"cumul_low.tsv\",\"showlegend\":false,\"x\":[0.0,15.0],\"y\":[0.1850201452979242,0.9506378551226624],\"z\":[31.25,307.89473684210526],\"type\":\"scatter3d\"},{\"legendgroup\":\"cumul_low.tsv\",\"line\":{\"color\":\"#bcbd22\",\"width\":2},\"marker\":{\"color\":\"#bcbd22\",\"size\":4},\"mode\":\"lines+markers\",\"name\":\"cumul_low.tsv\",\"showlegend\":false,\"x\":[0.0,15.0],\"y\":[0.1850201452979242,1.0],\"z\":[31.25,313.15789473684214],\"type\":\"scatter3d\"},{\"legendgroup\":\"cumul_low.tsv\",\"line\":{\"color\":\"#bcbd22\",\"width\":2},\"marker\":{\"color\":\"#bcbd22\",\"size\":4},\"mode\":\"lines+markers\",\"name\":\"cumul_low.tsv\",\"showlegend\":false,\"x\":[0.0,15.0],\"y\":[0.283141101267248,0.9367027113655582],\"z\":[75.0,321.0526315789474],\"type\":\"scatter3d\"},{\"legendgroup\":\"cumul_low.tsv\",\"line\":{\"color\":\"#bcbd22\",\"width\":2},\"marker\":{\"color\":\"#bcbd22\",\"size\":4},\"mode\":\"lines+markers\",\"name\":\"cumul_low.tsv\",\"showlegend\":false,\"x\":[0.0,15.0],\"y\":[0.283141101267248,0.7540197916214623],\"z\":[75.0,328.94736842105266],\"type\":\"scatter3d\"},{\"legendgroup\":\"cumul_low.tsv\",\"line\":{\"color\":\"#bcbd22\",\"width\":2},\"marker\":{\"color\":\"#bcbd22\",\"size\":4},\"mode\":\"lines+markers\",\"name\":\"cumul_low.tsv\",\"showlegend\":false,\"x\":[0.0,15.0],\"y\":[0.283141101267248,0.4598957021709134],\"z\":[75.0,334.2105263157895],\"type\":\"scatter3d\"},{\"legendgroup\":\"cumul_low.tsv\",\"line\":{\"color\":\"#bcbd22\",\"width\":2},\"marker\":{\"color\":\"#bcbd22\",\"size\":4},\"mode\":\"lines+markers\",\"name\":\"cumul_low.tsv\",\"showlegend\":false,\"x\":[0.0,15.0],\"y\":[0.283141101267248,0.3228091528511871],\"z\":[75.0,339.4736842105264],\"type\":\"scatter3d\"},{\"legendgroup\":\"cumul_low.tsv\",\"line\":{\"color\":\"#bcbd22\",\"width\":2},\"marker\":{\"color\":\"#bcbd22\",\"size\":4},\"mode\":\"lines+markers\",\"name\":\"cumul_low.tsv\",\"showlegend\":false,\"x\":[0.0,15.0],\"y\":[0.283141101267248,0.2583585130027834],\"z\":[75.0,344.7368421052632],\"type\":\"scatter3d\"},{\"legendgroup\":\"cumul_low.tsv\",\"line\":{\"color\":\"#bcbd22\",\"width\":2},\"marker\":{\"color\":\"#bcbd22\",\"size\":4},\"mode\":\"lines+markers\",\"name\":\"cumul_low.tsv\",\"showlegend\":false,\"x\":[0.0,15.0],\"y\":[0.283141101267248,0.161538223278509],\"z\":[75.0,407.8947368421053],\"type\":\"scatter3d\"},{\"legendgroup\":\"cumul_low.tsv\",\"line\":{\"color\":\"#bcbd22\",\"width\":2},\"marker\":{\"color\":\"#bcbd22\",\"size\":4},\"mode\":\"lines+markers\",\"name\":\"cumul_low.tsv\",\"showlegend\":false,\"x\":[0.0,15.0],\"y\":[0.283141101267248,0.2269790825046815],\"z\":[75.0,415.7894736842106],\"type\":\"scatter3d\"},{\"legendgroup\":\"cumul_low.tsv\",\"line\":{\"color\":\"#bcbd22\",\"width\":2},\"marker\":{\"color\":\"#bcbd22\",\"size\":4},\"mode\":\"lines+markers\",\"name\":\"cumul_low.tsv\",\"showlegend\":false,\"x\":[0.0,15.0],\"y\":[0.283141101267248,0.194079865036421],\"z\":[75.0,426.3157894736842],\"type\":\"scatter3d\"},{\"legendgroup\":\"cumul_low.tsv\",\"line\":{\"color\":\"#bcbd22\",\"width\":2},\"marker\":{\"color\":\"#bcbd22\",\"size\":4},\"mode\":\"lines+markers\",\"name\":\"cumul_low.tsv\",\"showlegend\":false,\"x\":[0.0,15.0],\"y\":[0.283141101267248,0.2443404054258705],\"z\":[75.0,434.2105263157895],\"type\":\"scatter3d\"},{\"legendgroup\":\"cumul_low.tsv\",\"line\":{\"color\":\"#bcbd22\",\"width\":2},\"marker\":{\"color\":\"#bcbd22\",\"size\":4},\"mode\":\"lines+markers\",\"name\":\"cumul_low.tsv\",\"showlegend\":false,\"x\":[0.0,15.0],\"y\":[0.283141101267248,0.1813377126441394],\"z\":[75.0,439.4736842105264],\"type\":\"scatter3d\"},{\"legendgroup\":\"cumul_low.tsv\",\"line\":{\"color\":\"#bcbd22\",\"width\":2},\"marker\":{\"color\":\"#bcbd22\",\"size\":4},\"mode\":\"lines+markers\",\"name\":\"cumul_low.tsv\",\"showlegend\":false,\"x\":[0.0,15.0],\"y\":[0.283141101267248,0.1005437723484514],\"z\":[75.0,513.1578947368422],\"type\":\"scatter3d\"},{\"legendgroup\":\"cumul_low.tsv\",\"line\":{\"color\":\"#bcbd22\",\"width\":2},\"marker\":{\"color\":\"#bcbd22\",\"size\":4},\"mode\":\"lines+markers\",\"name\":\"cumul_low.tsv\",\"showlegend\":false,\"x\":[0.0,15.0],\"y\":[0.283141101267248,0.0830359671764609],\"z\":[75.0,518.421052631579],\"type\":\"scatter3d\"},{\"legendgroup\":\"cumul_low.tsv\",\"line\":{\"color\":\"#bcbd22\",\"width\":2},\"marker\":{\"color\":\"#bcbd22\",\"size\":4},\"mode\":\"lines+markers\",\"name\":\"cumul_low.tsv\",\"showlegend\":false,\"x\":[0.0,15.0],\"y\":[0.283141101267248,0.0760283450988506],\"z\":[75.0,528.9473684210527],\"type\":\"scatter3d\"},{\"legendgroup\":\"cumul_low.tsv\",\"line\":{\"color\":\"#bcbd22\",\"width\":2},\"marker\":{\"color\":\"#bcbd22\",\"size\":4},\"mode\":\"lines+markers\",\"name\":\"cumul_low.tsv\",\"showlegend\":false,\"x\":[0.0,15.0],\"y\":[0.283141101267248,0.0794455589060347],\"z\":[75.0,539.4736842105264],\"type\":\"scatter3d\"},{\"legendgroup\":\"cumul_low.tsv\",\"line\":{\"color\":\"#bcbd22\",\"width\":2},\"marker\":{\"color\":\"#bcbd22\",\"size\":4},\"mode\":\"lines+markers\",\"name\":\"cumul_low.tsv\",\"showlegend\":false,\"x\":[0.0,15.0],\"y\":[0.1757851035354066,0.0691157018696965],\"z\":[127.5,2239.4736842105267],\"type\":\"scatter3d\"},{\"legendgroup\":\"cumul_low.tsv\",\"line\":{\"color\":\"#bcbd22\",\"width\":2},\"marker\":{\"color\":\"#bcbd22\",\"size\":4},\"mode\":\"lines+markers\",\"name\":\"cumul_low.tsv\",\"showlegend\":false,\"x\":[0.0,15.0],\"y\":[0.1757851035354066,0.0850497368965752],\"z\":[127.5,2257.894736842105],\"type\":\"scatter3d\"},{\"legendgroup\":\"cumul_low.tsv\",\"line\":{\"color\":\"#bcbd22\",\"width\":2},\"marker\":{\"color\":\"#bcbd22\",\"size\":4},\"mode\":\"lines+markers\",\"name\":\"cumul_low.tsv\",\"showlegend\":false,\"x\":[0.0,15.0],\"y\":[0.1757851035354066,0.0824929646316279],\"z\":[127.5,2265.789473684211],\"type\":\"scatter3d\"},{\"legendgroup\":\"cumul_low.tsv\",\"line\":{\"color\":\"#bcbd22\",\"width\":2},\"marker\":{\"color\":\"#bcbd22\",\"size\":4},\"mode\":\"lines+markers\",\"name\":\"cumul_low.tsv\",\"showlegend\":false,\"x\":[0.0,15.0],\"y\":[0.1757851035354066,0.0954201542535488],\"z\":[127.5,2278.947368421053],\"type\":\"scatter3d\"},{\"legendgroup\":\"cumul_low.tsv\",\"line\":{\"color\":\"#bcbd22\",\"width\":2},\"marker\":{\"color\":\"#bcbd22\",\"size\":4},\"mode\":\"lines+markers\",\"name\":\"cumul_low.tsv\",\"showlegend\":false,\"x\":[0.0,15.0],\"y\":[1.0,0.0959027133357927],\"z\":[238.75,2313.157894736842],\"type\":\"scatter3d\"},{\"legendgroup\":\"cumul_low.tsv\",\"line\":{\"color\":\"#bcbd22\",\"width\":2},\"marker\":{\"color\":\"#bcbd22\",\"size\":4},\"mode\":\"lines+markers\",\"name\":\"cumul_low.tsv\",\"showlegend\":false,\"x\":[0.0,15.0],\"y\":[1.0,0.107300897837546],\"z\":[238.75,2323.684210526316],\"type\":\"scatter3d\"},{\"legendgroup\":\"cumul_low.tsv\",\"line\":{\"color\":\"#bcbd22\",\"width\":2},\"marker\":{\"color\":\"#bcbd22\",\"size\":4},\"mode\":\"lines+markers\",\"name\":\"cumul_low.tsv\",\"showlegend\":false,\"x\":[0.0,15.0],\"y\":[0.8030066318889745,0.1418779340323793],\"z\":[321.25,2331.5789473684213],\"type\":\"scatter3d\"},{\"legendgroup\":\"cumul_low.tsv\",\"line\":{\"color\":\"#bcbd22\",\"width\":2},\"marker\":{\"color\":\"#bcbd22\",\"size\":4},\"mode\":\"lines+markers\",\"name\":\"cumul_low.tsv\",\"showlegend\":false,\"x\":[0.0,15.0],\"y\":[0.8030066318889745,0.0993877552038259],\"z\":[321.25,2344.736842105264],\"type\":\"scatter3d\"},{\"legendgroup\":\"cumul_low.tsv\",\"line\":{\"color\":\"#bcbd22\",\"width\":2},\"marker\":{\"color\":\"#bcbd22\",\"size\":4},\"mode\":\"lines+markers\",\"name\":\"cumul_low.tsv\",\"showlegend\":false,\"x\":[0.0,15.0],\"y\":[0.281393918011551,0.1441631216758777],\"z\":[393.75,2360.5263157894738],\"type\":\"scatter3d\"},{\"legendgroup\":\"cumul_low.tsv\",\"line\":{\"color\":\"#bcbd22\",\"width\":2},\"marker\":{\"color\":\"#bcbd22\",\"size\":4},\"mode\":\"lines+markers\",\"name\":\"cumul_low.tsv\",\"showlegend\":false,\"x\":[0.0,15.0],\"y\":[0.281393918011551,0.1022248722511056],\"z\":[393.75,2381.5789473684213],\"type\":\"scatter3d\"},{\"legendgroup\":\"cumul_low.tsv\",\"line\":{\"color\":\"#bcbd22\",\"width\":2},\"marker\":{\"color\":\"#bcbd22\",\"size\":4},\"mode\":\"lines+markers\",\"name\":\"cumul_low.tsv\",\"showlegend\":false,\"x\":[0.0,15.0],\"y\":[0.3005076476996851,0.0853277055666826],\"z\":[398.75,2392.105263157895],\"type\":\"scatter3d\"},{\"legendgroup\":\"cumul_low.tsv\",\"line\":{\"color\":\"#bcbd22\",\"width\":2},\"marker\":{\"color\":\"#bcbd22\",\"size\":4},\"mode\":\"lines+markers\",\"name\":\"cumul_low.tsv\",\"showlegend\":false,\"x\":[0.0,15.0],\"y\":[0.2761238895367967,0.1178521200796799],\"z\":[518.75,2397.368421052632],\"type\":\"scatter3d\"},{\"legendgroup\":\"cumul_low.tsv\",\"line\":{\"color\":\"#bcbd22\",\"width\":2},\"marker\":{\"color\":\"#bcbd22\",\"size\":4},\"mode\":\"lines+markers\",\"name\":\"cumul_low.tsv\",\"showlegend\":false,\"x\":[0.0,15.0],\"y\":[0.1844266749375399,0.0690602989408101],\"z\":[546.25,2952.631578947369],\"type\":\"scatter3d\"},{\"legendgroup\":\"cumul_low.tsv\",\"line\":{\"color\":\"#bcbd22\",\"width\":2},\"marker\":{\"color\":\"#bcbd22\",\"size\":4},\"mode\":\"lines+markers\",\"name\":\"cumul_low.tsv\",\"showlegend\":false,\"x\":[0.0,15.0],\"y\":[0.5657523874119471,0.0731497614540836],\"z\":[600.0,3055.263157894737],\"type\":\"scatter3d\"}],                        {\"template\":{\"data\":{\"barpolar\":[{\"marker\":{\"line\":{\"color\":\"white\",\"width\":0.5},\"pattern\":{\"fillmode\":\"overlay\",\"size\":10,\"solidity\":0.2}},\"type\":\"barpolar\"}],\"bar\":[{\"error_x\":{\"color\":\"#2a3f5f\"},\"error_y\":{\"color\":\"#2a3f5f\"},\"marker\":{\"line\":{\"color\":\"white\",\"width\":0.5},\"pattern\":{\"fillmode\":\"overlay\",\"size\":10,\"solidity\":0.2}},\"type\":\"bar\"}],\"carpet\":[{\"aaxis\":{\"endlinecolor\":\"#2a3f5f\",\"gridcolor\":\"#C8D4E3\",\"linecolor\":\"#C8D4E3\",\"minorgridcolor\":\"#C8D4E3\",\"startlinecolor\":\"#2a3f5f\"},\"baxis\":{\"endlinecolor\":\"#2a3f5f\",\"gridcolor\":\"#C8D4E3\",\"linecolor\":\"#C8D4E3\",\"minorgridcolor\":\"#C8D4E3\",\"startlinecolor\":\"#2a3f5f\"},\"type\":\"carpet\"}],\"choropleth\":[{\"colorbar\":{\"outlinewidth\":0,\"ticks\":\"\"},\"type\":\"choropleth\"}],\"contourcarpet\":[{\"colorbar\":{\"outlinewidth\":0,\"ticks\":\"\"},\"type\":\"contourcarpet\"}],\"contour\":[{\"colorbar\":{\"outlinewidth\":0,\"ticks\":\"\"},\"colorscale\":[[0.0,\"#0d0887\"],[0.1111111111111111,\"#46039f\"],[0.2222222222222222,\"#7201a8\"],[0.3333333333333333,\"#9c179e\"],[0.4444444444444444,\"#bd3786\"],[0.5555555555555556,\"#d8576b\"],[0.6666666666666666,\"#ed7953\"],[0.7777777777777778,\"#fb9f3a\"],[0.8888888888888888,\"#fdca26\"],[1.0,\"#f0f921\"]],\"type\":\"contour\"}],\"heatmapgl\":[{\"colorbar\":{\"outlinewidth\":0,\"ticks\":\"\"},\"colorscale\":[[0.0,\"#0d0887\"],[0.1111111111111111,\"#46039f\"],[0.2222222222222222,\"#7201a8\"],[0.3333333333333333,\"#9c179e\"],[0.4444444444444444,\"#bd3786\"],[0.5555555555555556,\"#d8576b\"],[0.6666666666666666,\"#ed7953\"],[0.7777777777777778,\"#fb9f3a\"],[0.8888888888888888,\"#fdca26\"],[1.0,\"#f0f921\"]],\"type\":\"heatmapgl\"}],\"heatmap\":[{\"colorbar\":{\"outlinewidth\":0,\"ticks\":\"\"},\"colorscale\":[[0.0,\"#0d0887\"],[0.1111111111111111,\"#46039f\"],[0.2222222222222222,\"#7201a8\"],[0.3333333333333333,\"#9c179e\"],[0.4444444444444444,\"#bd3786\"],[0.5555555555555556,\"#d8576b\"],[0.6666666666666666,\"#ed7953\"],[0.7777777777777778,\"#fb9f3a\"],[0.8888888888888888,\"#fdca26\"],[1.0,\"#f0f921\"]],\"type\":\"heatmap\"}],\"histogram2dcontour\":[{\"colorbar\":{\"outlinewidth\":0,\"ticks\":\"\"},\"colorscale\":[[0.0,\"#0d0887\"],[0.1111111111111111,\"#46039f\"],[0.2222222222222222,\"#7201a8\"],[0.3333333333333333,\"#9c179e\"],[0.4444444444444444,\"#bd3786\"],[0.5555555555555556,\"#d8576b\"],[0.6666666666666666,\"#ed7953\"],[0.7777777777777778,\"#fb9f3a\"],[0.8888888888888888,\"#fdca26\"],[1.0,\"#f0f921\"]],\"type\":\"histogram2dcontour\"}],\"histogram2d\":[{\"colorbar\":{\"outlinewidth\":0,\"ticks\":\"\"},\"colorscale\":[[0.0,\"#0d0887\"],[0.1111111111111111,\"#46039f\"],[0.2222222222222222,\"#7201a8\"],[0.3333333333333333,\"#9c179e\"],[0.4444444444444444,\"#bd3786\"],[0.5555555555555556,\"#d8576b\"],[0.6666666666666666,\"#ed7953\"],[0.7777777777777778,\"#fb9f3a\"],[0.8888888888888888,\"#fdca26\"],[1.0,\"#f0f921\"]],\"type\":\"histogram2d\"}],\"histogram\":[{\"marker\":{\"pattern\":{\"fillmode\":\"overlay\",\"size\":10,\"solidity\":0.2}},\"type\":\"histogram\"}],\"mesh3d\":[{\"colorbar\":{\"outlinewidth\":0,\"ticks\":\"\"},\"type\":\"mesh3d\"}],\"parcoords\":[{\"line\":{\"colorbar\":{\"outlinewidth\":0,\"ticks\":\"\"}},\"type\":\"parcoords\"}],\"pie\":[{\"automargin\":true,\"type\":\"pie\"}],\"scatter3d\":[{\"line\":{\"colorbar\":{\"outlinewidth\":0,\"ticks\":\"\"}},\"marker\":{\"colorbar\":{\"outlinewidth\":0,\"ticks\":\"\"}},\"type\":\"scatter3d\"}],\"scattercarpet\":[{\"marker\":{\"colorbar\":{\"outlinewidth\":0,\"ticks\":\"\"}},\"type\":\"scattercarpet\"}],\"scattergeo\":[{\"marker\":{\"colorbar\":{\"outlinewidth\":0,\"ticks\":\"\"}},\"type\":\"scattergeo\"}],\"scattergl\":[{\"marker\":{\"colorbar\":{\"outlinewidth\":0,\"ticks\":\"\"}},\"type\":\"scattergl\"}],\"scattermapbox\":[{\"marker\":{\"colorbar\":{\"outlinewidth\":0,\"ticks\":\"\"}},\"type\":\"scattermapbox\"}],\"scatterpolargl\":[{\"marker\":{\"colorbar\":{\"outlinewidth\":0,\"ticks\":\"\"}},\"type\":\"scatterpolargl\"}],\"scatterpolar\":[{\"marker\":{\"colorbar\":{\"outlinewidth\":0,\"ticks\":\"\"}},\"type\":\"scatterpolar\"}],\"scatter\":[{\"fillpattern\":{\"fillmode\":\"overlay\",\"size\":10,\"solidity\":0.2},\"type\":\"scatter\"}],\"scatterternary\":[{\"marker\":{\"colorbar\":{\"outlinewidth\":0,\"ticks\":\"\"}},\"type\":\"scatterternary\"}],\"surface\":[{\"colorbar\":{\"outlinewidth\":0,\"ticks\":\"\"},\"colorscale\":[[0.0,\"#0d0887\"],[0.1111111111111111,\"#46039f\"],[0.2222222222222222,\"#7201a8\"],[0.3333333333333333,\"#9c179e\"],[0.4444444444444444,\"#bd3786\"],[0.5555555555555556,\"#d8576b\"],[0.6666666666666666,\"#ed7953\"],[0.7777777777777778,\"#fb9f3a\"],[0.8888888888888888,\"#fdca26\"],[1.0,\"#f0f921\"]],\"type\":\"surface\"}],\"table\":[{\"cells\":{\"fill\":{\"color\":\"#EBF0F8\"},\"line\":{\"color\":\"white\"}},\"header\":{\"fill\":{\"color\":\"#C8D4E3\"},\"line\":{\"color\":\"white\"}},\"type\":\"table\"}]},\"layout\":{\"annotationdefaults\":{\"arrowcolor\":\"#2a3f5f\",\"arrowhead\":0,\"arrowwidth\":1},\"autotypenumbers\":\"strict\",\"coloraxis\":{\"colorbar\":{\"outlinewidth\":0,\"ticks\":\"\"}},\"colorscale\":{\"diverging\":[[0,\"#8e0152\"],[0.1,\"#c51b7d\"],[0.2,\"#de77ae\"],[0.3,\"#f1b6da\"],[0.4,\"#fde0ef\"],[0.5,\"#f7f7f7\"],[0.6,\"#e6f5d0\"],[0.7,\"#b8e186\"],[0.8,\"#7fbc41\"],[0.9,\"#4d9221\"],[1,\"#276419\"]],\"sequential\":[[0.0,\"#0d0887\"],[0.1111111111111111,\"#46039f\"],[0.2222222222222222,\"#7201a8\"],[0.3333333333333333,\"#9c179e\"],[0.4444444444444444,\"#bd3786\"],[0.5555555555555556,\"#d8576b\"],[0.6666666666666666,\"#ed7953\"],[0.7777777777777778,\"#fb9f3a\"],[0.8888888888888888,\"#fdca26\"],[1.0,\"#f0f921\"]],\"sequentialminus\":[[0.0,\"#0d0887\"],[0.1111111111111111,\"#46039f\"],[0.2222222222222222,\"#7201a8\"],[0.3333333333333333,\"#9c179e\"],[0.4444444444444444,\"#bd3786\"],[0.5555555555555556,\"#d8576b\"],[0.6666666666666666,\"#ed7953\"],[0.7777777777777778,\"#fb9f3a\"],[0.8888888888888888,\"#fdca26\"],[1.0,\"#f0f921\"]]},\"colorway\":[\"#636efa\",\"#EF553B\",\"#00cc96\",\"#ab63fa\",\"#FFA15A\",\"#19d3f3\",\"#FF6692\",\"#B6E880\",\"#FF97FF\",\"#FECB52\"],\"font\":{\"color\":\"#2a3f5f\"},\"geo\":{\"bgcolor\":\"white\",\"lakecolor\":\"white\",\"landcolor\":\"white\",\"showlakes\":true,\"showland\":true,\"subunitcolor\":\"#C8D4E3\"},\"hoverlabel\":{\"align\":\"left\"},\"hovermode\":\"closest\",\"mapbox\":{\"style\":\"light\"},\"paper_bgcolor\":\"white\",\"plot_bgcolor\":\"white\",\"polar\":{\"angularaxis\":{\"gridcolor\":\"#EBF0F8\",\"linecolor\":\"#EBF0F8\",\"ticks\":\"\"},\"bgcolor\":\"white\",\"radialaxis\":{\"gridcolor\":\"#EBF0F8\",\"linecolor\":\"#EBF0F8\",\"ticks\":\"\"}},\"scene\":{\"xaxis\":{\"backgroundcolor\":\"white\",\"gridcolor\":\"#DFE8F3\",\"gridwidth\":2,\"linecolor\":\"#EBF0F8\",\"showbackground\":true,\"ticks\":\"\",\"zerolinecolor\":\"#EBF0F8\"},\"yaxis\":{\"backgroundcolor\":\"white\",\"gridcolor\":\"#DFE8F3\",\"gridwidth\":2,\"linecolor\":\"#EBF0F8\",\"showbackground\":true,\"ticks\":\"\",\"zerolinecolor\":\"#EBF0F8\"},\"zaxis\":{\"backgroundcolor\":\"white\",\"gridcolor\":\"#DFE8F3\",\"gridwidth\":2,\"linecolor\":\"#EBF0F8\",\"showbackground\":true,\"ticks\":\"\",\"zerolinecolor\":\"#EBF0F8\"}},\"shapedefaults\":{\"line\":{\"color\":\"#2a3f5f\"}},\"ternary\":{\"aaxis\":{\"gridcolor\":\"#DFE8F3\",\"linecolor\":\"#A2B1C6\",\"ticks\":\"\"},\"baxis\":{\"gridcolor\":\"#DFE8F3\",\"linecolor\":\"#A2B1C6\",\"ticks\":\"\"},\"bgcolor\":\"white\",\"caxis\":{\"gridcolor\":\"#DFE8F3\",\"linecolor\":\"#A2B1C6\",\"ticks\":\"\"}},\"title\":{\"x\":0.05},\"xaxis\":{\"automargin\":true,\"gridcolor\":\"#EBF0F8\",\"linecolor\":\"#EBF0F8\",\"ticks\":\"\",\"title\":{\"standoff\":15},\"zerolinecolor\":\"#EBF0F8\",\"zerolinewidth\":2},\"yaxis\":{\"automargin\":true,\"gridcolor\":\"#EBF0F8\",\"linecolor\":\"#EBF0F8\",\"ticks\":\"\",\"title\":{\"standoff\":15},\"zerolinecolor\":\"#EBF0F8\",\"zerolinewidth\":2}}},\"scene\":{\"xaxis\":{\"title\":{\"text\":\"Time (s)\"},\"range\":[0,15.0]},\"yaxis\":{\"title\":{\"text\":\"Amplitude\"},\"range\":[0,1.0]},\"zaxis\":{\"title\":{\"text\":\"Frequency\"},\"range\":[0,3055.263157894737]},\"camera\":{\"up\":{\"x\":0,\"y\":0,\"z\":1},\"center\":{\"x\":0,\"y\":0,\"z\":0},\"eye\":{\"x\":1.5,\"y\":1.5,\"z\":0.5}}},\"title\":{\"text\":\"Time vs Amplitude vs Frequency for Each Event (3D)\"},\"showlegend\":true,\"width\":900,\"height\":700},                        {\"responsive\": true}                    ).then(function(){\n",
       "                            \n",
       "var gd = document.getElementById('36341ce9-e23c-4387-8d43-26d7d719dd3a');\n",
       "var x = new MutationObserver(function (mutations, observer) {{\n",
       "        var display = window.getComputedStyle(gd).display;\n",
       "        if (!display || display === 'none') {{\n",
       "            console.log([gd, 'removed!']);\n",
       "            Plotly.purge(gd);\n",
       "            observer.disconnect();\n",
       "        }}\n",
       "}});\n",
       "\n",
       "// Listen for the removal of the full notebook cells\n",
       "var notebookContainer = gd.closest('#notebook-container');\n",
       "if (notebookContainer) {{\n",
       "    x.observe(notebookContainer, {childList: true});\n",
       "}}\n",
       "\n",
       "// Listen for the clearing of the current output cell\n",
       "var outputEl = gd.closest('.output');\n",
       "if (outputEl) {{\n",
       "    x.observe(outputEl, {childList: true});\n",
       "}}\n",
       "\n",
       "                        })                };                });            </script>        </div>"
      ]
     },
     "metadata": {},
     "output_type": "display_data"
    }
   ],
   "source": [
    "from multiplotter import plot_combined_3d\n",
    "\n",
    "plot_combined_3d(files=['cumul_high.tsv', 'cumul_low.tsv'])\n",
    "\n",
    "# Sample usage:\n",
    "# plot_combined_3d(files=['file1.tsv', 'file2.tsv'], labels=['File1', 'File2'])\n",
    "# or\n",
    "# plot_combined_3d(dfs=[df1, df2], labels=['DataFrame1', 'DataFrame2'])"
   ]
  }
 ],
 "metadata": {
  "kernelspec": {
   "display_name": "Python 3 (ipykernel)",
   "language": "python",
   "name": "python3"
  },
  "language_info": {
   "codemirror_mode": {
    "name": "ipython",
    "version": 3
   },
   "file_extension": ".py",
   "mimetype": "text/x-python",
   "name": "python",
   "nbconvert_exporter": "python",
   "pygments_lexer": "ipython3",
   "version": "3.11.4"
  }
 },
 "nbformat": 4,
 "nbformat_minor": 5
}
