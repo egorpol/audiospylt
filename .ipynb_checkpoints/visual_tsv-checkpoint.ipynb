{
 "cells": [
  {
   "cell_type": "code",
   "execution_count": 4,
   "id": "64da68a6-7df3-4d40-9129-c5c42f84496b",
   "metadata": {},
   "outputs": [
    {
     "data": {
      "text/html": [
       "<div>\n",
       "<style scoped>\n",
       "    .dataframe tbody tr th:only-of-type {\n",
       "        vertical-align: middle;\n",
       "    }\n",
       "\n",
       "    .dataframe tbody tr th {\n",
       "        vertical-align: top;\n",
       "    }\n",
       "\n",
       "    .dataframe thead th {\n",
       "        text-align: right;\n",
       "    }\n",
       "</style>\n",
       "<table border=\"1\" class=\"dataframe\">\n",
       "  <thead>\n",
       "    <tr style=\"text-align: right;\">\n",
       "      <th></th>\n",
       "      <th>freq_start</th>\n",
       "      <th>freq_stop</th>\n",
       "      <th>time_start</th>\n",
       "      <th>time_stop</th>\n",
       "      <th>amp_min</th>\n",
       "      <th>amp_max</th>\n",
       "    </tr>\n",
       "  </thead>\n",
       "  <tbody>\n",
       "    <tr>\n",
       "      <th>0</th>\n",
       "      <td>63.341656</td>\n",
       "      <td>63.341656</td>\n",
       "      <td>0.0</td>\n",
       "      <td>10.0</td>\n",
       "      <td>0.087257</td>\n",
       "      <td>0.087257</td>\n",
       "    </tr>\n",
       "    <tr>\n",
       "      <th>1</th>\n",
       "      <td>75.773196</td>\n",
       "      <td>75.773196</td>\n",
       "      <td>0.0</td>\n",
       "      <td>10.0</td>\n",
       "      <td>0.505507</td>\n",
       "      <td>0.505507</td>\n",
       "    </tr>\n",
       "    <tr>\n",
       "      <th>2</th>\n",
       "      <td>100.636276</td>\n",
       "      <td>100.636276</td>\n",
       "      <td>0.0</td>\n",
       "      <td>10.0</td>\n",
       "      <td>0.072880</td>\n",
       "      <td>0.072880</td>\n",
       "    </tr>\n",
       "    <tr>\n",
       "      <th>3</th>\n",
       "      <td>114.843750</td>\n",
       "      <td>114.843750</td>\n",
       "      <td>0.0</td>\n",
       "      <td>10.0</td>\n",
       "      <td>0.190862</td>\n",
       "      <td>0.190862</td>\n",
       "    </tr>\n",
       "    <tr>\n",
       "      <th>4</th>\n",
       "      <td>126.683312</td>\n",
       "      <td>126.683312</td>\n",
       "      <td>0.0</td>\n",
       "      <td>10.0</td>\n",
       "      <td>0.415585</td>\n",
       "      <td>0.415585</td>\n",
       "    </tr>\n",
       "    <tr>\n",
       "      <th>...</th>\n",
       "      <td>...</td>\n",
       "      <td>...</td>\n",
       "      <td>...</td>\n",
       "      <td>...</td>\n",
       "      <td>...</td>\n",
       "      <td>...</td>\n",
       "    </tr>\n",
       "    <tr>\n",
       "      <th>183</th>\n",
       "      <td>1926.888692</td>\n",
       "      <td>1926.888692</td>\n",
       "      <td>0.0</td>\n",
       "      <td>10.0</td>\n",
       "      <td>0.022735</td>\n",
       "      <td>0.022735</td>\n",
       "    </tr>\n",
       "    <tr>\n",
       "      <th>184</th>\n",
       "      <td>1930.440561</td>\n",
       "      <td>1930.440561</td>\n",
       "      <td>0.0</td>\n",
       "      <td>10.0</td>\n",
       "      <td>0.022409</td>\n",
       "      <td>0.022409</td>\n",
       "    </tr>\n",
       "    <tr>\n",
       "      <th>185</th>\n",
       "      <td>1972.471005</td>\n",
       "      <td>1972.471005</td>\n",
       "      <td>0.0</td>\n",
       "      <td>10.0</td>\n",
       "      <td>0.020656</td>\n",
       "      <td>0.020656</td>\n",
       "    </tr>\n",
       "    <tr>\n",
       "      <th>186</th>\n",
       "      <td>1976.022874</td>\n",
       "      <td>1976.022874</td>\n",
       "      <td>0.0</td>\n",
       "      <td>10.0</td>\n",
       "      <td>0.021651</td>\n",
       "      <td>0.021651</td>\n",
       "    </tr>\n",
       "    <tr>\n",
       "      <th>187</th>\n",
       "      <td>1981.942655</td>\n",
       "      <td>1981.942655</td>\n",
       "      <td>0.0</td>\n",
       "      <td>10.0</td>\n",
       "      <td>0.025458</td>\n",
       "      <td>0.025458</td>\n",
       "    </tr>\n",
       "  </tbody>\n",
       "</table>\n",
       "<p>188 rows × 6 columns</p>\n",
       "</div>"
      ],
      "text/plain": [
       "      freq_start    freq_stop  time_start  time_stop   amp_min   amp_max\n",
       "0      63.341656    63.341656         0.0       10.0  0.087257  0.087257\n",
       "1      75.773196    75.773196         0.0       10.0  0.505507  0.505507\n",
       "2     100.636276   100.636276         0.0       10.0  0.072880  0.072880\n",
       "3     114.843750   114.843750         0.0       10.0  0.190862  0.190862\n",
       "4     126.683312   126.683312         0.0       10.0  0.415585  0.415585\n",
       "..           ...          ...         ...        ...       ...       ...\n",
       "183  1926.888692  1926.888692         0.0       10.0  0.022735  0.022735\n",
       "184  1930.440561  1930.440561         0.0       10.0  0.022409  0.022409\n",
       "185  1972.471005  1972.471005         0.0       10.0  0.020656  0.020656\n",
       "186  1976.022874  1976.022874         0.0       10.0  0.021651  0.021651\n",
       "187  1981.942655  1981.942655         0.0       10.0  0.025458  0.025458\n",
       "\n",
       "[188 rows x 6 columns]"
      ]
     },
     "metadata": {},
     "output_type": "display_data"
    },
    {
     "data": {
      "application/vnd.plotly.v1+json": {
       "config": {
        "plotlyServerURL": "https://plot.ly"
       },
       "data": [
        {
         "line": {
          "color": "blue",
          "width": 2
         },
         "mode": "lines+markers",
         "showlegend": false,
         "type": "scatter",
         "x": [
          0,
          10
         ],
         "y": [
          63.341655927835056,
          63.341655927835056
         ]
        },
        {
         "line": {
          "color": "blue",
          "width": 2
         },
         "mode": "lines+markers",
         "showlegend": false,
         "type": "scatter",
         "x": [
          0,
          10
         ],
         "y": [
          75.77319587628867,
          75.77319587628867
         ]
        },
        {
         "line": {
          "color": "blue",
          "width": 2
         },
         "mode": "lines+markers",
         "showlegend": false,
         "type": "scatter",
         "x": [
          0,
          10
         ],
         "y": [
          100.63627577319588,
          100.63627577319588
         ]
        },
        {
         "line": {
          "color": "blue",
          "width": 2
         },
         "mode": "lines+markers",
         "showlegend": false,
         "type": "scatter",
         "x": [
          0,
          10
         ],
         "y": [
          114.84375,
          114.84375
         ]
        },
        {
         "line": {
          "color": "blue",
          "width": 2
         },
         "mode": "lines+markers",
         "showlegend": false,
         "type": "scatter",
         "x": [
          0,
          10
         ],
         "y": [
          126.68331185567013,
          126.68331185567013
         ]
        },
        {
         "line": {
          "color": "blue",
          "width": 2
         },
         "mode": "lines+markers",
         "showlegend": false,
         "type": "scatter",
         "x": [
          0,
          10
         ],
         "y": [
          140.29880798969074,
          140.29880798969074
         ]
        },
        {
         "line": {
          "color": "blue",
          "width": 2
         },
         "mode": "lines+markers",
         "showlegend": false,
         "type": "scatter",
         "x": [
          0,
          10
         ],
         "y": [
          154.50628221649487,
          154.50628221649487
         ]
        },
        {
         "line": {
          "color": "blue",
          "width": 2
         },
         "mode": "lines+markers",
         "showlegend": false,
         "type": "scatter",
         "x": [
          0,
          10
         ],
         "y": [
          163.97793170103094,
          163.97793170103094
         ]
        },
        {
         "line": {
          "color": "blue",
          "width": 2
         },
         "mode": "lines+markers",
         "showlegend": false,
         "type": "scatter",
         "x": [
          0,
          10
         ],
         "y": [
          169.897712628866,
          169.897712628866
         ]
        },
        {
         "line": {
          "color": "blue",
          "width": 2
         },
         "mode": "lines+markers",
         "showlegend": false,
         "type": "scatter",
         "x": [
          0,
          10
         ],
         "y": [
          176.40947164948454,
          176.40947164948454
         ]
        },
        {
         "line": {
          "color": "blue",
          "width": 2
         },
         "mode": "lines+markers",
         "showlegend": false,
         "type": "scatter",
         "x": [
          0,
          10
         ],
         "y": [
          181.7372744845361,
          181.7372744845361
         ]
        },
        {
         "line": {
          "color": "blue",
          "width": 2
         },
         "mode": "lines+markers",
         "showlegend": false,
         "type": "scatter",
         "x": [
          0,
          10
         ],
         "y": [
          189.43298969072168,
          189.43298969072168
         ]
        },
        {
         "line": {
          "color": "blue",
          "width": 2
         },
         "mode": "lines+markers",
         "showlegend": false,
         "type": "scatter",
         "x": [
          0,
          10
         ],
         "y": [
          194.1688144329897,
          194.1688144329897
         ]
        },
        {
         "line": {
          "color": "blue",
          "width": 2
         },
         "mode": "lines+markers",
         "showlegend": false,
         "type": "scatter",
         "x": [
          0,
          10
         ],
         "y": [
          200.0885953608248,
          200.0885953608248
         ]
        },
        {
         "line": {
          "color": "blue",
          "width": 2
         },
         "mode": "lines+markers",
         "showlegend": false,
         "type": "scatter",
         "x": [
          0,
          10
         ],
         "y": [
          203.0484858247423,
          203.0484858247423
         ]
        },
        {
         "line": {
          "color": "blue",
          "width": 2
         },
         "mode": "lines+markers",
         "showlegend": false,
         "type": "scatter",
         "x": [
          0,
          10
         ],
         "y": [
          210.15222293814435,
          210.15222293814435
         ]
        },
        {
         "line": {
          "color": "blue",
          "width": 2
         },
         "mode": "lines+markers",
         "showlegend": false,
         "type": "scatter",
         "x": [
          0,
          10
         ],
         "y": [
          212.5201353092784,
          212.5201353092784
         ]
        },
        {
         "line": {
          "color": "blue",
          "width": 2
         },
         "mode": "lines+markers",
         "showlegend": false,
         "type": "scatter",
         "x": [
          0,
          10
         ],
         "y": [
          218.43991623711344,
          218.43991623711344
         ]
        },
        {
         "line": {
          "color": "blue",
          "width": 2
         },
         "mode": "lines+markers",
         "showlegend": false,
         "type": "scatter",
         "x": [
          0,
          10
         ],
         "y": [
          229.0955219072165,
          229.0955219072165
         ]
        },
        {
         "line": {
          "color": "blue",
          "width": 2
         },
         "mode": "lines+markers",
         "showlegend": false,
         "type": "scatter",
         "x": [
          0,
          10
         ],
         "y": [
          239.1591494845361,
          239.1591494845361
         ]
        },
        {
         "line": {
          "color": "blue",
          "width": 2
         },
         "mode": "lines+markers",
         "showlegend": false,
         "type": "scatter",
         "x": [
          0,
          10
         ],
         "y": [
          249.2227770618557,
          249.2227770618557
         ]
        },
        {
         "line": {
          "color": "blue",
          "width": 2
         },
         "mode": "lines+markers",
         "showlegend": false,
         "type": "scatter",
         "x": [
          0,
          10
         ],
         "y": [
          260.4703608247423,
          260.4703608247423
         ]
        },
        {
         "line": {
          "color": "blue",
          "width": 2
         },
         "mode": "lines+markers",
         "showlegend": false,
         "type": "scatter",
         "x": [
          0,
          10
         ],
         "y": [
          263.4302512886598,
          263.4302512886598
         ]
        },
        {
         "line": {
          "color": "blue",
          "width": 2
         },
         "mode": "lines+markers",
         "showlegend": false,
         "type": "scatter",
         "x": [
          0,
          10
         ],
         "y": [
          266.39014175257734,
          266.39014175257734
         ]
        },
        {
         "line": {
          "color": "blue",
          "width": 2
         },
         "mode": "lines+markers",
         "showlegend": false,
         "type": "scatter",
         "x": [
          0,
          10
         ],
         "y": [
          273.4938788659794,
          273.4938788659794
         ]
        },
        {
         "line": {
          "color": "blue",
          "width": 2
         },
         "mode": "lines+markers",
         "showlegend": false,
         "type": "scatter",
         "x": [
          0,
          10
         ],
         "y": [
          278.22970360824746,
          278.22970360824746
         ]
        },
        {
         "line": {
          "color": "blue",
          "width": 2
         },
         "mode": "lines+markers",
         "showlegend": false,
         "type": "scatter",
         "x": [
          0,
          10
         ],
         "y": [
          282.9655283505155,
          282.9655283505155
         ]
        },
        {
         "line": {
          "color": "blue",
          "width": 2
         },
         "mode": "lines+markers",
         "showlegend": false,
         "type": "scatter",
         "x": [
          0,
          10
         ],
         "y": [
          293.02915592783506,
          293.02915592783506
         ]
        },
        {
         "line": {
          "color": "blue",
          "width": 2
         },
         "mode": "lines+markers",
         "showlegend": false,
         "type": "scatter",
         "x": [
          0,
          10
         ],
         "y": [
          300.72487113402065,
          300.72487113402065
         ]
        },
        {
         "line": {
          "color": "blue",
          "width": 2
         },
         "mode": "lines+markers",
         "showlegend": false,
         "type": "scatter",
         "x": [
          0,
          10
         ],
         "y": [
          321.4441043814433,
          321.4441043814433
         ]
        },
        {
         "line": {
          "color": "blue",
          "width": 2
         },
         "mode": "lines+markers",
         "showlegend": false,
         "type": "scatter",
         "x": [
          0,
          10
         ],
         "y": [
          333.87564432989694,
          333.87564432989694
         ]
        },
        {
         "line": {
          "color": "blue",
          "width": 2
         },
         "mode": "lines+markers",
         "showlegend": false,
         "type": "scatter",
         "x": [
          0,
          10
         ],
         "y": [
          339.2034471649485,
          339.2034471649485
         ]
        },
        {
         "line": {
          "color": "blue",
          "width": 2
         },
         "mode": "lines+markers",
         "showlegend": false,
         "type": "scatter",
         "x": [
          0,
          10
         ],
         "y": [
          345.71520618556707,
          345.71520618556707
         ]
        },
        {
         "line": {
          "color": "blue",
          "width": 2
         },
         "mode": "lines+markers",
         "showlegend": false,
         "type": "scatter",
         "x": [
          0,
          10
         ],
         "y": [
          347.4911404639176,
          347.4911404639176
         ]
        },
        {
         "line": {
          "color": "blue",
          "width": 2
         },
         "mode": "lines+markers",
         "showlegend": false,
         "type": "scatter",
         "x": [
          0,
          10
         ],
         "y": [
          356.96278994845363,
          356.96278994845363
         ]
        },
        {
         "line": {
          "color": "blue",
          "width": 2
         },
         "mode": "lines+markers",
         "showlegend": false,
         "type": "scatter",
         "x": [
          0,
          10
         ],
         "y": [
          362.8825708762887,
          362.8825708762887
         ]
        },
        {
         "line": {
          "color": "blue",
          "width": 2
         },
         "mode": "lines+markers",
         "showlegend": false,
         "type": "scatter",
         "x": [
          0,
          10
         ],
         "y": [
          369.9863079896908,
          369.9863079896908
         ]
        },
        {
         "line": {
          "color": "blue",
          "width": 2
         },
         "mode": "lines+markers",
         "showlegend": false,
         "type": "scatter",
         "x": [
          0,
          10
         ],
         "y": [
          378.86597938144337,
          378.86597938144337
         ]
        },
        {
         "line": {
          "color": "blue",
          "width": 2
         },
         "mode": "lines+markers",
         "showlegend": false,
         "type": "scatter",
         "x": [
          0,
          10
         ],
         "y": [
          384.19378221649487,
          384.19378221649487
         ]
        },
        {
         "line": {
          "color": "blue",
          "width": 2
         },
         "mode": "lines+markers",
         "showlegend": false,
         "type": "scatter",
         "x": [
          0,
          10
         ],
         "y": [
          390.70554123711344,
          390.70554123711344
         ]
        },
        {
         "line": {
          "color": "blue",
          "width": 2
         },
         "mode": "lines+markers",
         "showlegend": false,
         "type": "scatter",
         "x": [
          0,
          10
         ],
         "y": [
          393.66543170103097,
          393.66543170103097
         ]
        },
        {
         "line": {
          "color": "blue",
          "width": 2
         },
         "mode": "lines+markers",
         "showlegend": false,
         "type": "scatter",
         "x": [
          0,
          10
         ],
         "y": [
          397.8092783505155,
          397.8092783505155
         ]
        },
        {
         "line": {
          "color": "blue",
          "width": 2
         },
         "mode": "lines+markers",
         "showlegend": false,
         "type": "scatter",
         "x": [
          0,
          10
         ],
         "y": [
          404.9130154639176,
          404.9130154639176
         ]
        },
        {
         "line": {
          "color": "blue",
          "width": 2
         },
         "mode": "lines+markers",
         "showlegend": false,
         "type": "scatter",
         "x": [
          0,
          10
         ],
         "y": [
          413.7926868556701,
          413.7926868556701
         ]
        },
        {
         "line": {
          "color": "blue",
          "width": 2
         },
         "mode": "lines+markers",
         "showlegend": false,
         "type": "scatter",
         "x": [
          0,
          10
         ],
         "y": [
          436.8798324742269,
          436.8798324742269
         ]
        },
        {
         "line": {
          "color": "blue",
          "width": 2
         },
         "mode": "lines+markers",
         "showlegend": false,
         "type": "scatter",
         "x": [
          0,
          10
         ],
         "y": [
          448.12741623711344,
          448.12741623711344
         ]
        },
        {
         "line": {
          "color": "blue",
          "width": 2
         },
         "mode": "lines+markers",
         "showlegend": false,
         "type": "scatter",
         "x": [
          0,
          10
         ],
         "y": [
          457.5990657216496,
          457.5990657216496
         ]
        },
        {
         "line": {
          "color": "blue",
          "width": 2
         },
         "mode": "lines+markers",
         "showlegend": false,
         "type": "scatter",
         "x": [
          0,
          10
         ],
         "y": [
          464.1108247422681,
          464.1108247422681
         ]
        },
        {
         "line": {
          "color": "blue",
          "width": 2
         },
         "mode": "lines+markers",
         "showlegend": false,
         "type": "scatter",
         "x": [
          0,
          10
         ],
         "y": [
          470.0306056701031,
          470.0306056701031
         ]
        },
        {
         "line": {
          "color": "blue",
          "width": 2
         },
         "mode": "lines+markers",
         "showlegend": false,
         "type": "scatter",
         "x": [
          0,
          10
         ],
         "y": [
          476.5423646907217,
          476.5423646907217
         ]
        },
        {
         "line": {
          "color": "blue",
          "width": 2
         },
         "mode": "lines+markers",
         "showlegend": false,
         "type": "scatter",
         "x": [
          0,
          10
         ],
         "y": [
          484.8300579896908,
          484.8300579896908
         ]
        },
        {
         "line": {
          "color": "blue",
          "width": 2
         },
         "mode": "lines+markers",
         "showlegend": false,
         "type": "scatter",
         "x": [
          0,
          10
         ],
         "y": [
          490.15786082474233,
          490.15786082474233
         ]
        },
        {
         "line": {
          "color": "blue",
          "width": 2
         },
         "mode": "lines+markers",
         "showlegend": false,
         "type": "scatter",
         "x": [
          0,
          10
         ],
         "y": [
          497.2615979381444,
          497.2615979381444
         ]
        },
        {
         "line": {
          "color": "blue",
          "width": 2
         },
         "mode": "lines+markers",
         "showlegend": false,
         "type": "scatter",
         "x": [
          0,
          10
         ],
         "y": [
          508.50918170103097,
          508.50918170103097
         ]
        },
        {
         "line": {
          "color": "blue",
          "width": 2
         },
         "mode": "lines+markers",
         "showlegend": false,
         "type": "scatter",
         "x": [
          0,
          10
         ],
         "y": [
          518.5728092783505,
          518.5728092783505
         ]
        },
        {
         "line": {
          "color": "blue",
          "width": 2
         },
         "mode": "lines+markers",
         "showlegend": false,
         "type": "scatter",
         "x": [
          0,
          10
         ],
         "y": [
          527.4524806701031,
          527.4524806701031
         ]
        },
        {
         "line": {
          "color": "blue",
          "width": 2
         },
         "mode": "lines+markers",
         "showlegend": false,
         "type": "scatter",
         "x": [
          0,
          10
         ],
         "y": [
          533.3722615979382,
          533.3722615979382
         ]
        },
        {
         "line": {
          "color": "blue",
          "width": 2
         },
         "mode": "lines+markers",
         "showlegend": false,
         "type": "scatter",
         "x": [
          0,
          10
         ],
         "y": [
          541.0679768041238,
          541.0679768041238
         ]
        },
        {
         "line": {
          "color": "blue",
          "width": 2
         },
         "mode": "lines+markers",
         "showlegend": false,
         "type": "scatter",
         "x": [
          0,
          10
         ],
         "y": [
          546.9877577319588,
          546.9877577319588
         ]
        },
        {
         "line": {
          "color": "blue",
          "width": 2
         },
         "mode": "lines+markers",
         "showlegend": false,
         "type": "scatter",
         "x": [
          0,
          10
         ],
         "y": [
          549.9476481958764,
          549.9476481958764
         ]
        },
        {
         "line": {
          "color": "blue",
          "width": 2
         },
         "mode": "lines+markers",
         "showlegend": false,
         "type": "scatter",
         "x": [
          0,
          10
         ],
         "y": [
          558.827319587629,
          558.827319587629
         ]
        },
        {
         "line": {
          "color": "blue",
          "width": 2
         },
         "mode": "lines+markers",
         "showlegend": false,
         "type": "scatter",
         "x": [
          0,
          10
         ],
         "y": [
          570.0749033505156,
          570.0749033505156
         ]
        },
        {
         "line": {
          "color": "blue",
          "width": 2
         },
         "mode": "lines+markers",
         "showlegend": false,
         "type": "scatter",
         "x": [
          0,
          10
         ],
         "y": [
          575.9946842783505,
          575.9946842783505
         ]
        },
        {
         "line": {
          "color": "blue",
          "width": 2
         },
         "mode": "lines+markers",
         "showlegend": false,
         "type": "scatter",
         "x": [
          0,
          10
         ],
         "y": [
          584.8743556701031,
          584.8743556701031
         ]
        },
        {
         "line": {
          "color": "blue",
          "width": 2
         },
         "mode": "lines+markers",
         "showlegend": false,
         "type": "scatter",
         "x": [
          0,
          10
         ],
         "y": [
          599.0818298969073,
          599.0818298969073
         ]
        },
        {
         "line": {
          "color": "blue",
          "width": 2
         },
         "mode": "lines+markers",
         "showlegend": false,
         "type": "scatter",
         "x": [
          0,
          10
         ],
         "y": [
          615.6572164948454,
          615.6572164948454
         ]
        },
        {
         "line": {
          "color": "blue",
          "width": 2
         },
         "mode": "lines+markers",
         "showlegend": false,
         "type": "scatter",
         "x": [
          0,
          10
         ],
         "y": [
          618.617106958763,
          618.617106958763
         ]
        },
        {
         "line": {
          "color": "blue",
          "width": 2
         },
         "mode": "lines+markers",
         "showlegend": false,
         "type": "scatter",
         "x": [
          0,
          10
         ],
         "y": [
          629.8646907216496,
          629.8646907216496
         ]
        },
        {
         "line": {
          "color": "blue",
          "width": 2
         },
         "mode": "lines+markers",
         "showlegend": false,
         "type": "scatter",
         "x": [
          0,
          10
         ],
         "y": [
          633.4165592783506,
          633.4165592783506
         ]
        },
        {
         "line": {
          "color": "blue",
          "width": 2
         },
         "mode": "lines+markers",
         "showlegend": false,
         "type": "scatter",
         "x": [
          0,
          10
         ],
         "y": [
          638.7443621134021,
          638.7443621134021
         ]
        },
        {
         "line": {
          "color": "blue",
          "width": 2
         },
         "mode": "lines+markers",
         "showlegend": false,
         "type": "scatter",
         "x": [
          0,
          10
         ],
         "y": [
          643.4801868556701,
          643.4801868556701
         ]
        },
        {
         "line": {
          "color": "blue",
          "width": 2
         },
         "mode": "lines+markers",
         "showlegend": false,
         "type": "scatter",
         "x": [
          0,
          10
         ],
         "y": [
          649.3999677835052,
          649.3999677835052
         ]
        },
        {
         "line": {
          "color": "blue",
          "width": 2
         },
         "mode": "lines+markers",
         "showlegend": false,
         "type": "scatter",
         "x": [
          0,
          10
         ],
         "y": [
          657.0956829896908,
          657.0956829896908
         ]
        },
        {
         "line": {
          "color": "blue",
          "width": 2
         },
         "mode": "lines+markers",
         "showlegend": false,
         "type": "scatter",
         "x": [
          0,
          10
         ],
         "y": [
          661.2395296391753,
          661.2395296391753
         ]
        },
        {
         "line": {
          "color": "blue",
          "width": 2
         },
         "mode": "lines+markers",
         "showlegend": false,
         "type": "scatter",
         "x": [
          0,
          10
         ],
         "y": [
          696.7582152061857,
          696.7582152061857
         ]
        },
        {
         "line": {
          "color": "blue",
          "width": 2
         },
         "mode": "lines+markers",
         "showlegend": false,
         "type": "scatter",
         "x": [
          0,
          10
         ],
         "y": [
          701.4940399484536,
          701.4940399484536
         ]
        },
        {
         "line": {
          "color": "blue",
          "width": 2
         },
         "mode": "lines+markers",
         "showlegend": false,
         "type": "scatter",
         "x": [
          0,
          10
         ],
         "y": [
          710.3737113402062,
          710.3737113402062
         ]
        },
        {
         "line": {
          "color": "blue",
          "width": 2
         },
         "mode": "lines+markers",
         "showlegend": false,
         "type": "scatter",
         "x": [
          0,
          10
         ],
         "y": [
          721.6212951030928,
          721.6212951030928
         ]
        },
        {
         "line": {
          "color": "blue",
          "width": 2
         },
         "mode": "lines+markers",
         "showlegend": false,
         "type": "scatter",
         "x": [
          0,
          10
         ],
         "y": [
          729.9089884020619,
          729.9089884020619
         ]
        },
        {
         "line": {
          "color": "blue",
          "width": 2
         },
         "mode": "lines+markers",
         "showlegend": false,
         "type": "scatter",
         "x": [
          0,
          10
         ],
         "y": [
          742.9325064432991,
          742.9325064432991
         ]
        },
        {
         "line": {
          "color": "blue",
          "width": 2
         },
         "mode": "lines+markers",
         "showlegend": false,
         "type": "scatter",
         "x": [
          0,
          10
         ],
         "y": [
          744.7084407216496,
          744.7084407216496
         ]
        },
        {
         "line": {
          "color": "blue",
          "width": 2
         },
         "mode": "lines+markers",
         "showlegend": false,
         "type": "scatter",
         "x": [
          0,
          10
         ],
         "y": [
          748.2603092783506,
          748.2603092783506
         ]
        },
        {
         "line": {
          "color": "blue",
          "width": 2
         },
         "mode": "lines+markers",
         "showlegend": false,
         "type": "scatter",
         "x": [
          0,
          10
         ],
         "y": [
          776.6752577319588,
          776.6752577319588
         ]
        },
        {
         "line": {
          "color": "blue",
          "width": 2
         },
         "mode": "lines+markers",
         "showlegend": false,
         "type": "scatter",
         "x": [
          0,
          10
         ],
         "y": [
          796.2105347938145,
          796.2105347938145
         ]
        },
        {
         "line": {
          "color": "blue",
          "width": 2
         },
         "mode": "lines+markers",
         "showlegend": false,
         "type": "scatter",
         "x": [
          0,
          10
         ],
         "y": [
          798.5784471649486,
          798.5784471649486
         ]
        },
        {
         "line": {
          "color": "blue",
          "width": 2
         },
         "mode": "lines+markers",
         "showlegend": false,
         "type": "scatter",
         "x": [
          0,
          10
         ],
         "y": [
          803.9062500000001,
          803.9062500000001
         ]
        },
        {
         "line": {
          "color": "blue",
          "width": 2
         },
         "mode": "lines+markers",
         "showlegend": false,
         "type": "scatter",
         "x": [
          0,
          10
         ],
         "y": [
          807.4581185567012,
          807.4581185567012
         ]
        },
        {
         "line": {
          "color": "blue",
          "width": 2
         },
         "mode": "lines+markers",
         "showlegend": false,
         "type": "scatter",
         "x": [
          0,
          10
         ],
         "y": [
          825.2174613402062,
          825.2174613402062
         ]
        },
        {
         "line": {
          "color": "blue",
          "width": 2
         },
         "mode": "lines+markers",
         "showlegend": false,
         "type": "scatter",
         "x": [
          0,
          10
         ],
         "y": [
          833.5051546391753,
          833.5051546391753
         ]
        },
        {
         "line": {
          "color": "blue",
          "width": 2
         },
         "mode": "lines+markers",
         "showlegend": false,
         "type": "scatter",
         "x": [
          0,
          10
         ],
         "y": [
          836.4650451030928,
          836.4650451030928
         ]
        },
        {
         "line": {
          "color": "blue",
          "width": 2
         },
         "mode": "lines+markers",
         "showlegend": false,
         "type": "scatter",
         "x": [
          0,
          10
         ],
         "y": [
          841.7928479381444,
          841.7928479381444
         ]
        },
        {
         "line": {
          "color": "blue",
          "width": 2
         },
         "mode": "lines+markers",
         "showlegend": false,
         "type": "scatter",
         "x": [
          0,
          10
         ],
         "y": [
          848.304606958763,
          848.304606958763
         ]
        },
        {
         "line": {
          "color": "blue",
          "width": 2
         },
         "mode": "lines+markers",
         "showlegend": false,
         "type": "scatter",
         "x": [
          0,
          10
         ],
         "y": [
          856.5923002577321,
          856.5923002577321
         ]
        },
        {
         "line": {
          "color": "blue",
          "width": 2
         },
         "mode": "lines+markers",
         "showlegend": false,
         "type": "scatter",
         "x": [
          0,
          10
         ],
         "y": [
          864.8799935567012,
          864.8799935567012
         ]
        },
        {
         "line": {
          "color": "blue",
          "width": 2
         },
         "mode": "lines+markers",
         "showlegend": false,
         "type": "scatter",
         "x": [
          0,
          10
         ],
         "y": [
          867.2479059278352,
          867.2479059278352
         ]
        },
        {
         "line": {
          "color": "blue",
          "width": 2
         },
         "mode": "lines+markers",
         "showlegend": false,
         "type": "scatter",
         "x": [
          0,
          10
         ],
         "y": [
          873.7596649484537,
          873.7596649484537
         ]
        },
        {
         "line": {
          "color": "blue",
          "width": 2
         },
         "mode": "lines+markers",
         "showlegend": false,
         "type": "scatter",
         "x": [
          0,
          10
         ],
         "y": [
          885.5992268041238,
          885.5992268041238
         ]
        },
        {
         "line": {
          "color": "blue",
          "width": 2
         },
         "mode": "lines+markers",
         "showlegend": false,
         "type": "scatter",
         "x": [
          0,
          10
         ],
         "y": [
          893.2949420103093,
          893.2949420103093
         ]
        },
        {
         "line": {
          "color": "blue",
          "width": 2
         },
         "mode": "lines+markers",
         "showlegend": false,
         "type": "scatter",
         "x": [
          0,
          10
         ],
         "y": [
          910.462306701031,
          910.462306701031
         ]
        },
        {
         "line": {
          "color": "blue",
          "width": 2
         },
         "mode": "lines+markers",
         "showlegend": false,
         "type": "scatter",
         "x": [
          0,
          10
         ],
         "y": [
          914.6061533505156,
          914.6061533505156
         ]
        },
        {
         "line": {
          "color": "blue",
          "width": 2
         },
         "mode": "lines+markers",
         "showlegend": false,
         "type": "scatter",
         "x": [
          0,
          10
         ],
         "y": [
          919.9339561855672,
          919.9339561855672
         ]
        },
        {
         "line": {
          "color": "blue",
          "width": 2
         },
         "mode": "lines+markers",
         "showlegend": false,
         "type": "scatter",
         "x": [
          0,
          10
         ],
         "y": [
          922.8938466494848,
          922.8938466494848
         ]
        },
        {
         "line": {
          "color": "blue",
          "width": 2
         },
         "mode": "lines+markers",
         "showlegend": false,
         "type": "scatter",
         "x": [
          0,
          10
         ],
         "y": [
          932.3654961340208,
          932.3654961340208
         ]
        },
        {
         "line": {
          "color": "blue",
          "width": 2
         },
         "mode": "lines+markers",
         "showlegend": false,
         "type": "scatter",
         "x": [
          0,
          10
         ],
         "y": [
          938.2852770618558,
          938.2852770618558
         ]
        },
        {
         "line": {
          "color": "blue",
          "width": 2
         },
         "mode": "lines+markers",
         "showlegend": false,
         "type": "scatter",
         "x": [
          0,
          10
         ],
         "y": [
          941.8371456185567,
          941.8371456185567
         ]
        },
        {
         "line": {
          "color": "blue",
          "width": 2
         },
         "mode": "lines+markers",
         "showlegend": false,
         "type": "scatter",
         "x": [
          0,
          10
         ],
         "y": [
          951.9007731958764,
          951.9007731958764
         ]
        },
        {
         "line": {
          "color": "blue",
          "width": 2
         },
         "mode": "lines+markers",
         "showlegend": false,
         "type": "scatter",
         "x": [
          0,
          10
         ],
         "y": [
          961.964400773196,
          961.964400773196
         ]
        },
        {
         "line": {
          "color": "blue",
          "width": 2
         },
         "mode": "lines+markers",
         "showlegend": false,
         "type": "scatter",
         "x": [
          0,
          10
         ],
         "y": [
          972.6200064432992,
          972.6200064432992
         ]
        },
        {
         "line": {
          "color": "blue",
          "width": 2
         },
         "mode": "lines+markers",
         "showlegend": false,
         "type": "scatter",
         "x": [
          0,
          10
         ],
         "y": [
          974.9879188144332,
          974.9879188144332
         ]
        },
        {
         "line": {
          "color": "blue",
          "width": 2
         },
         "mode": "lines+markers",
         "showlegend": false,
         "type": "scatter",
         "x": [
          0,
          10
         ],
         "y": [
          983.8675902061856,
          983.8675902061856
         ]
        },
        {
         "line": {
          "color": "blue",
          "width": 2
         },
         "mode": "lines+markers",
         "showlegend": false,
         "type": "scatter",
         "x": [
          0,
          10
         ],
         "y": [
          989.1953930412373,
          989.1953930412373
         ]
        },
        {
         "line": {
          "color": "blue",
          "width": 2
         },
         "mode": "lines+markers",
         "showlegend": false,
         "type": "scatter",
         "x": [
          0,
          10
         ],
         "y": [
          995.1151739690724,
          995.1151739690724
         ]
        },
        {
         "line": {
          "color": "blue",
          "width": 2
         },
         "mode": "lines+markers",
         "showlegend": false,
         "type": "scatter",
         "x": [
          0,
          10
         ],
         "y": [
          1002.2189110824744,
          1002.2189110824744
         ]
        },
        {
         "line": {
          "color": "blue",
          "width": 2
         },
         "mode": "lines+markers",
         "showlegend": false,
         "type": "scatter",
         "x": [
          0,
          10
         ],
         "y": [
          1012.282538659794,
          1012.282538659794
         ]
        },
        {
         "line": {
          "color": "blue",
          "width": 2
         },
         "mode": "lines+markers",
         "showlegend": false,
         "type": "scatter",
         "x": [
          0,
          10
         ],
         "y": [
          1023.5301224226804,
          1023.5301224226804
         ]
        },
        {
         "line": {
          "color": "blue",
          "width": 2
         },
         "mode": "lines+markers",
         "showlegend": false,
         "type": "scatter",
         "x": [
          0,
          10
         ],
         "y": [
          1031.8178157216496,
          1031.8178157216496
         ]
        },
        {
         "line": {
          "color": "blue",
          "width": 2
         },
         "mode": "lines+markers",
         "showlegend": false,
         "type": "scatter",
         "x": [
          0,
          10
         ],
         "y": [
          1037.145618556701,
          1037.145618556701
         ]
        },
        {
         "line": {
          "color": "blue",
          "width": 2
         },
         "mode": "lines+markers",
         "showlegend": false,
         "type": "scatter",
         "x": [
          0,
          10
         ],
         "y": [
          1057.864851804124,
          1057.864851804124
         ]
        },
        {
         "line": {
          "color": "blue",
          "width": 2
         },
         "mode": "lines+markers",
         "showlegend": false,
         "type": "scatter",
         "x": [
          0,
          10
         ],
         "y": [
          1079.17606314433,
          1079.17606314433
         ]
        },
        {
         "line": {
          "color": "blue",
          "width": 2
         },
         "mode": "lines+markers",
         "showlegend": false,
         "type": "scatter",
         "x": [
          0,
          10
         ],
         "y": [
          1082.7279317010311,
          1082.7279317010311
         ]
        },
        {
         "line": {
          "color": "blue",
          "width": 2
         },
         "mode": "lines+markers",
         "showlegend": false,
         "type": "scatter",
         "x": [
          0,
          10
         ],
         "y": [
          1089.2396907216496,
          1089.2396907216496
         ]
        },
        {
         "line": {
          "color": "blue",
          "width": 2
         },
         "mode": "lines+markers",
         "showlegend": false,
         "type": "scatter",
         "x": [
          0,
          10
         ],
         "y": [
          1092.199581185567,
          1092.199581185567
         ]
        },
        {
         "line": {
          "color": "blue",
          "width": 2
         },
         "mode": "lines+markers",
         "showlegend": false,
         "type": "scatter",
         "x": [
          0,
          10
         ],
         "y": [
          1103.4471649484535,
          1103.4471649484535
         ]
        },
        {
         "line": {
          "color": "blue",
          "width": 2
         },
         "mode": "lines+markers",
         "showlegend": false,
         "type": "scatter",
         "x": [
          0,
          10
         ],
         "y": [
          1109.3669458762888,
          1109.3669458762888
         ]
        },
        {
         "line": {
          "color": "blue",
          "width": 2
         },
         "mode": "lines+markers",
         "showlegend": false,
         "type": "scatter",
         "x": [
          0,
          10
         ],
         "y": [
          1128.310244845361,
          1128.310244845361
         ]
        },
        {
         "line": {
          "color": "blue",
          "width": 2
         },
         "mode": "lines+markers",
         "showlegend": false,
         "type": "scatter",
         "x": [
          0,
          10
         ],
         "y": [
          1136.0059600515465,
          1136.0059600515465
         ]
        },
        {
         "line": {
          "color": "blue",
          "width": 2
         },
         "mode": "lines+markers",
         "showlegend": false,
         "type": "scatter",
         "x": [
          0,
          10
         ],
         "y": [
          1141.9257409793815,
          1141.9257409793815
         ]
        },
        {
         "line": {
          "color": "blue",
          "width": 2
         },
         "mode": "lines+markers",
         "showlegend": false,
         "type": "scatter",
         "x": [
          0,
          10
         ],
         "y": [
          1144.2936533505156,
          1144.2936533505156
         ]
        },
        {
         "line": {
          "color": "blue",
          "width": 2
         },
         "mode": "lines+markers",
         "showlegend": false,
         "type": "scatter",
         "x": [
          0,
          10
         ],
         "y": [
          1152.5813466494849,
          1152.5813466494849
         ]
        },
        {
         "line": {
          "color": "blue",
          "width": 2
         },
         "mode": "lines+markers",
         "showlegend": false,
         "type": "scatter",
         "x": [
          0,
          10
         ],
         "y": [
          1162.0529961340208,
          1162.0529961340208
         ]
        },
        {
         "line": {
          "color": "blue",
          "width": 2
         },
         "mode": "lines+markers",
         "showlegend": false,
         "type": "scatter",
         "x": [
          0,
          10
         ],
         "y": [
          1171.5246456185569,
          1171.5246456185569
         ]
        },
        {
         "line": {
          "color": "blue",
          "width": 2
         },
         "mode": "lines+markers",
         "showlegend": false,
         "type": "scatter",
         "x": [
          0,
          10
         ],
         "y": [
          1185.1401417525774,
          1185.1401417525774
         ]
        },
        {
         "line": {
          "color": "blue",
          "width": 2
         },
         "mode": "lines+markers",
         "showlegend": false,
         "type": "scatter",
         "x": [
          0,
          10
         ],
         "y": [
          1191.0599226804125,
          1191.0599226804125
         ]
        },
        {
         "line": {
          "color": "blue",
          "width": 2
         },
         "mode": "lines+markers",
         "showlegend": false,
         "type": "scatter",
         "x": [
          0,
          10
         ],
         "y": [
          1203.4914626288662,
          1203.4914626288662
         ]
        },
        {
         "line": {
          "color": "blue",
          "width": 2
         },
         "mode": "lines+markers",
         "showlegend": false,
         "type": "scatter",
         "x": [
          0,
          10
         ],
         "y": [
          1207.0433311855672,
          1207.0433311855672
         ]
        },
        {
         "line": {
          "color": "blue",
          "width": 2
         },
         "mode": "lines+markers",
         "showlegend": false,
         "type": "scatter",
         "x": [
          0,
          10
         ],
         "y": [
          1211.1871778350517,
          1211.1871778350517
         ]
        },
        {
         "line": {
          "color": "blue",
          "width": 2
         },
         "mode": "lines+markers",
         "showlegend": false,
         "type": "scatter",
         "x": [
          0,
          10
         ],
         "y": [
          1231.9064110824745,
          1231.9064110824745
         ]
        },
        {
         "line": {
          "color": "blue",
          "width": 2
         },
         "mode": "lines+markers",
         "showlegend": false,
         "type": "scatter",
         "x": [
          0,
          10
         ],
         "y": [
          1242.5620167525774,
          1242.5620167525774
         ]
        },
        {
         "line": {
          "color": "blue",
          "width": 2
         },
         "mode": "lines+markers",
         "showlegend": false,
         "type": "scatter",
         "x": [
          0,
          10
         ],
         "y": [
          1246.705863402062,
          1246.705863402062
         ]
        },
        {
         "line": {
          "color": "blue",
          "width": 2
         },
         "mode": "lines+markers",
         "showlegend": false,
         "type": "scatter",
         "x": [
          0,
          10
         ],
         "y": [
          1251.44168814433,
          1251.44168814433
         ]
        },
        {
         "line": {
          "color": "blue",
          "width": 2
         },
         "mode": "lines+markers",
         "showlegend": false,
         "type": "scatter",
         "x": [
          0,
          10
         ],
         "y": [
          1257.3614690721652,
          1257.3614690721652
         ]
        },
        {
         "line": {
          "color": "blue",
          "width": 2
         },
         "mode": "lines+markers",
         "showlegend": false,
         "type": "scatter",
         "x": [
          0,
          10
         ],
         "y": [
          1260.9133376288662,
          1260.9133376288662
         ]
        },
        {
         "line": {
          "color": "blue",
          "width": 2
         },
         "mode": "lines+markers",
         "showlegend": false,
         "type": "scatter",
         "x": [
          0,
          10
         ],
         "y": [
          1272.1609213917527,
          1272.1609213917527
         ]
        },
        {
         "line": {
          "color": "blue",
          "width": 2
         },
         "mode": "lines+markers",
         "showlegend": false,
         "type": "scatter",
         "x": [
          0,
          10
         ],
         "y": [
          1279.8566365979382,
          1279.8566365979382
         ]
        },
        {
         "line": {
          "color": "blue",
          "width": 2
         },
         "mode": "lines+markers",
         "showlegend": false,
         "type": "scatter",
         "x": [
          0,
          10
         ],
         "y": [
          1285.7764175257732,
          1285.7764175257732
         ]
        },
        {
         "line": {
          "color": "blue",
          "width": 2
         },
         "mode": "lines+markers",
         "showlegend": false,
         "type": "scatter",
         "x": [
          0,
          10
         ],
         "y": [
          1296.4320231958764,
          1296.4320231958764
         ]
        },
        {
         "line": {
          "color": "blue",
          "width": 2
         },
         "mode": "lines+markers",
         "showlegend": false,
         "type": "scatter",
         "x": [
          0,
          10
         ],
         "y": [
          1301.1678479381444,
          1301.1678479381444
         ]
        },
        {
         "line": {
          "color": "blue",
          "width": 2
         },
         "mode": "lines+markers",
         "showlegend": false,
         "type": "scatter",
         "x": [
          0,
          10
         ],
         "y": [
          1310.047519329897,
          1310.047519329897
         ]
        },
        {
         "line": {
          "color": "blue",
          "width": 2
         },
         "mode": "lines+markers",
         "showlegend": false,
         "type": "scatter",
         "x": [
          0,
          10
         ],
         "y": [
          1318.3352126288662,
          1318.3352126288662
         ]
        },
        {
         "line": {
          "color": "blue",
          "width": 2
         },
         "mode": "lines+markers",
         "showlegend": false,
         "type": "scatter",
         "x": [
          0,
          10
         ],
         "y": [
          1328.990818298969,
          1328.990818298969
         ]
        },
        {
         "line": {
          "color": "blue",
          "width": 2
         },
         "mode": "lines+markers",
         "showlegend": false,
         "type": "scatter",
         "x": [
          0,
          10
         ],
         "y": [
          1365.101481958763,
          1365.101481958763
         ]
        },
        {
         "line": {
          "color": "blue",
          "width": 2
         },
         "mode": "lines+markers",
         "showlegend": false,
         "type": "scatter",
         "x": [
          0,
          10
         ],
         "y": [
          1394.7003865979382,
          1394.7003865979382
         ]
        },
        {
         "line": {
          "color": "blue",
          "width": 2
         },
         "mode": "lines+markers",
         "showlegend": false,
         "type": "scatter",
         "x": [
          0,
          10
         ],
         "y": [
          1401.8041237113405,
          1401.8041237113405
         ]
        },
        {
         "line": {
          "color": "blue",
          "width": 2
         },
         "mode": "lines+markers",
         "showlegend": false,
         "type": "scatter",
         "x": [
          0,
          10
         ],
         "y": [
          1403.5800579896909,
          1403.5800579896909
         ]
        },
        {
         "line": {
          "color": "blue",
          "width": 2
         },
         "mode": "lines+markers",
         "showlegend": false,
         "type": "scatter",
         "x": [
          0,
          10
         ],
         "y": [
          1409.499838917526,
          1409.499838917526
         ]
        },
        {
         "line": {
          "color": "blue",
          "width": 2
         },
         "mode": "lines+markers",
         "showlegend": false,
         "type": "scatter",
         "x": [
          0,
          10
         ],
         "y": [
          1417.1955541237114,
          1417.1955541237114
         ]
        },
        {
         "line": {
          "color": "blue",
          "width": 2
         },
         "mode": "lines+markers",
         "showlegend": false,
         "type": "scatter",
         "x": [
          0,
          10
         ],
         "y": [
          1431.9950064432992,
          1431.9950064432992
         ]
        },
        {
         "line": {
          "color": "blue",
          "width": 2
         },
         "mode": "lines+markers",
         "showlegend": false,
         "type": "scatter",
         "x": [
          0,
          10
         ],
         "y": [
          1439.6907216494849,
          1439.6907216494849
         ]
        },
        {
         "line": {
          "color": "blue",
          "width": 2
         },
         "mode": "lines+markers",
         "showlegend": false,
         "type": "scatter",
         "x": [
          0,
          10
         ],
         "y": [
          1444.4265463917527,
          1444.4265463917527
         ]
        },
        {
         "line": {
          "color": "blue",
          "width": 2
         },
         "mode": "lines+markers",
         "showlegend": false,
         "type": "scatter",
         "x": [
          0,
          10
         ],
         "y": [
          1450.3463273195878,
          1450.3463273195878
         ]
        },
        {
         "line": {
          "color": "blue",
          "width": 2
         },
         "mode": "lines+markers",
         "showlegend": false,
         "type": "scatter",
         "x": [
          0,
          10
         ],
         "y": [
          1457.4500644329898,
          1457.4500644329898
         ]
        },
        {
         "line": {
          "color": "blue",
          "width": 2
         },
         "mode": "lines+markers",
         "showlegend": false,
         "type": "scatter",
         "x": [
          0,
          10
         ],
         "y": [
          1652.210856958763,
          1652.210856958763
         ]
        },
        {
         "line": {
          "color": "blue",
          "width": 2
         },
         "mode": "lines+markers",
         "showlegend": false,
         "type": "scatter",
         "x": [
          0,
          10
         ],
         "y": [
          1654.578769329897,
          1654.578769329897
         ]
        },
        {
         "line": {
          "color": "blue",
          "width": 2
         },
         "mode": "lines+markers",
         "showlegend": false,
         "type": "scatter",
         "x": [
          0,
          10
         ],
         "y": [
          1722.0642719072166,
          1722.0642719072166
         ]
        },
        {
         "line": {
          "color": "blue",
          "width": 2
         },
         "mode": "lines+markers",
         "showlegend": false,
         "type": "scatter",
         "x": [
          0,
          10
         ],
         "y": [
          1730.943943298969,
          1730.943943298969
         ]
        },
        {
         "line": {
          "color": "blue",
          "width": 2
         },
         "mode": "lines+markers",
         "showlegend": false,
         "type": "scatter",
         "x": [
          0,
          10
         ],
         "y": [
          1739.2316365979384,
          1739.2316365979384
         ]
        },
        {
         "line": {
          "color": "blue",
          "width": 2
         },
         "mode": "lines+markers",
         "showlegend": false,
         "type": "scatter",
         "x": [
          0,
          10
         ],
         "y": [
          1745.1514175257737,
          1745.1514175257737
         ]
        },
        {
         "line": {
          "color": "blue",
          "width": 2
         },
         "mode": "lines+markers",
         "showlegend": false,
         "type": "scatter",
         "x": [
          0,
          10
         ],
         "y": [
          1752.2551546391755,
          1752.2551546391755
         ]
        },
        {
         "line": {
          "color": "blue",
          "width": 2
         },
         "mode": "lines+markers",
         "showlegend": false,
         "type": "scatter",
         "x": [
          0,
          10
         ],
         "y": [
          1756.39900128866,
          1756.39900128866
         ]
        },
        {
         "line": {
          "color": "blue",
          "width": 2
         },
         "mode": "lines+markers",
         "showlegend": false,
         "type": "scatter",
         "x": [
          0,
          10
         ],
         "y": [
          1758.766913659794,
          1758.766913659794
         ]
        },
        {
         "line": {
          "color": "blue",
          "width": 2
         },
         "mode": "lines+markers",
         "showlegend": false,
         "type": "scatter",
         "x": [
          0,
          10
         ],
         "y": [
          1764.686694587629,
          1764.686694587629
         ]
        },
        {
         "line": {
          "color": "blue",
          "width": 2
         },
         "mode": "lines+markers",
         "showlegend": false,
         "type": "scatter",
         "x": [
          0,
          10
         ],
         "y": [
          1771.1984536082475,
          1771.1984536082475
         ]
        },
        {
         "line": {
          "color": "blue",
          "width": 2
         },
         "mode": "lines+markers",
         "showlegend": false,
         "type": "scatter",
         "x": [
          0,
          10
         ],
         "y": [
          1778.3021907216496,
          1778.3021907216496
         ]
        },
        {
         "line": {
          "color": "blue",
          "width": 2
         },
         "mode": "lines+markers",
         "showlegend": false,
         "type": "scatter",
         "x": [
          0,
          10
         ],
         "y": [
          1781.2620811855672,
          1781.2620811855672
         ]
        },
        {
         "line": {
          "color": "blue",
          "width": 2
         },
         "mode": "lines+markers",
         "showlegend": false,
         "type": "scatter",
         "x": [
          0,
          10
         ],
         "y": [
          1783.0380154639176,
          1783.0380154639176
         ]
        },
        {
         "line": {
          "color": "blue",
          "width": 2
         },
         "mode": "lines+markers",
         "showlegend": false,
         "type": "scatter",
         "x": [
          0,
          10
         ],
         "y": [
          1791.9176868556704,
          1791.9176868556704
         ]
        },
        {
         "line": {
          "color": "blue",
          "width": 2
         },
         "mode": "lines+markers",
         "showlegend": false,
         "type": "scatter",
         "x": [
          0,
          10
         ],
         "y": [
          1797.2454896907218,
          1797.2454896907218
         ]
        },
        {
         "line": {
          "color": "blue",
          "width": 2
         },
         "mode": "lines+markers",
         "showlegend": false,
         "type": "scatter",
         "x": [
          0,
          10
         ],
         "y": [
          1802.5732925257728,
          1802.5732925257728
         ]
        },
        {
         "line": {
          "color": "blue",
          "width": 2
         },
         "mode": "lines+markers",
         "showlegend": false,
         "type": "scatter",
         "x": [
          0,
          10
         ],
         "y": [
          1809.085051546392,
          1809.085051546392
         ]
        },
        {
         "line": {
          "color": "blue",
          "width": 2
         },
         "mode": "lines+markers",
         "showlegend": false,
         "type": "scatter",
         "x": [
          0,
          10
         ],
         "y": [
          1816.7807667525776,
          1816.7807667525776
         ]
        },
        {
         "line": {
          "color": "blue",
          "width": 2
         },
         "mode": "lines+markers",
         "showlegend": false,
         "type": "scatter",
         "x": [
          0,
          10
         ],
         "y": [
          1820.924613402062,
          1820.924613402062
         ]
        },
        {
         "line": {
          "color": "blue",
          "width": 2
         },
         "mode": "lines+markers",
         "showlegend": false,
         "type": "scatter",
         "x": [
          0,
          10
         ],
         "y": [
          1822.7005476804125,
          1822.7005476804125
         ]
        },
        {
         "line": {
          "color": "blue",
          "width": 2
         },
         "mode": "lines+markers",
         "showlegend": false,
         "type": "scatter",
         "x": [
          0,
          10
         ],
         "y": [
          1826.2524162371133,
          1826.2524162371133
         ]
        },
        {
         "line": {
          "color": "blue",
          "width": 2
         },
         "mode": "lines+markers",
         "showlegend": false,
         "type": "scatter",
         "x": [
          0,
          10
         ],
         "y": [
          1926.8886920103096,
          1926.8886920103096
         ]
        },
        {
         "line": {
          "color": "blue",
          "width": 2
         },
         "mode": "lines+markers",
         "showlegend": false,
         "type": "scatter",
         "x": [
          0,
          10
         ],
         "y": [
          1930.4405605670104,
          1930.4405605670104
         ]
        },
        {
         "line": {
          "color": "blue",
          "width": 2
         },
         "mode": "lines+markers",
         "showlegend": false,
         "type": "scatter",
         "x": [
          0,
          10
         ],
         "y": [
          1972.47100515464,
          1972.47100515464
         ]
        },
        {
         "line": {
          "color": "blue",
          "width": 2
         },
         "mode": "lines+markers",
         "showlegend": false,
         "type": "scatter",
         "x": [
          0,
          10
         ],
         "y": [
          1976.0228737113405,
          1976.0228737113405
         ]
        },
        {
         "line": {
          "color": "blue",
          "width": 2
         },
         "mode": "lines+markers",
         "showlegend": false,
         "type": "scatter",
         "x": [
          0,
          10
         ],
         "y": [
          1981.9426546391755,
          1981.9426546391755
         ]
        }
       ],
       "layout": {
        "height": 1200,
        "showlegend": false,
        "template": {
         "data": {
          "bar": [
           {
            "error_x": {
             "color": "#2a3f5f"
            },
            "error_y": {
             "color": "#2a3f5f"
            },
            "marker": {
             "line": {
              "color": "white",
              "width": 0.5
             },
             "pattern": {
              "fillmode": "overlay",
              "size": 10,
              "solidity": 0.2
             }
            },
            "type": "bar"
           }
          ],
          "barpolar": [
           {
            "marker": {
             "line": {
              "color": "white",
              "width": 0.5
             },
             "pattern": {
              "fillmode": "overlay",
              "size": 10,
              "solidity": 0.2
             }
            },
            "type": "barpolar"
           }
          ],
          "carpet": [
           {
            "aaxis": {
             "endlinecolor": "#2a3f5f",
             "gridcolor": "#C8D4E3",
             "linecolor": "#C8D4E3",
             "minorgridcolor": "#C8D4E3",
             "startlinecolor": "#2a3f5f"
            },
            "baxis": {
             "endlinecolor": "#2a3f5f",
             "gridcolor": "#C8D4E3",
             "linecolor": "#C8D4E3",
             "minorgridcolor": "#C8D4E3",
             "startlinecolor": "#2a3f5f"
            },
            "type": "carpet"
           }
          ],
          "choropleth": [
           {
            "colorbar": {
             "outlinewidth": 0,
             "ticks": ""
            },
            "type": "choropleth"
           }
          ],
          "contour": [
           {
            "colorbar": {
             "outlinewidth": 0,
             "ticks": ""
            },
            "colorscale": [
             [
              0,
              "#0d0887"
             ],
             [
              0.1111111111111111,
              "#46039f"
             ],
             [
              0.2222222222222222,
              "#7201a8"
             ],
             [
              0.3333333333333333,
              "#9c179e"
             ],
             [
              0.4444444444444444,
              "#bd3786"
             ],
             [
              0.5555555555555556,
              "#d8576b"
             ],
             [
              0.6666666666666666,
              "#ed7953"
             ],
             [
              0.7777777777777778,
              "#fb9f3a"
             ],
             [
              0.8888888888888888,
              "#fdca26"
             ],
             [
              1,
              "#f0f921"
             ]
            ],
            "type": "contour"
           }
          ],
          "contourcarpet": [
           {
            "colorbar": {
             "outlinewidth": 0,
             "ticks": ""
            },
            "type": "contourcarpet"
           }
          ],
          "heatmap": [
           {
            "colorbar": {
             "outlinewidth": 0,
             "ticks": ""
            },
            "colorscale": [
             [
              0,
              "#0d0887"
             ],
             [
              0.1111111111111111,
              "#46039f"
             ],
             [
              0.2222222222222222,
              "#7201a8"
             ],
             [
              0.3333333333333333,
              "#9c179e"
             ],
             [
              0.4444444444444444,
              "#bd3786"
             ],
             [
              0.5555555555555556,
              "#d8576b"
             ],
             [
              0.6666666666666666,
              "#ed7953"
             ],
             [
              0.7777777777777778,
              "#fb9f3a"
             ],
             [
              0.8888888888888888,
              "#fdca26"
             ],
             [
              1,
              "#f0f921"
             ]
            ],
            "type": "heatmap"
           }
          ],
          "heatmapgl": [
           {
            "colorbar": {
             "outlinewidth": 0,
             "ticks": ""
            },
            "colorscale": [
             [
              0,
              "#0d0887"
             ],
             [
              0.1111111111111111,
              "#46039f"
             ],
             [
              0.2222222222222222,
              "#7201a8"
             ],
             [
              0.3333333333333333,
              "#9c179e"
             ],
             [
              0.4444444444444444,
              "#bd3786"
             ],
             [
              0.5555555555555556,
              "#d8576b"
             ],
             [
              0.6666666666666666,
              "#ed7953"
             ],
             [
              0.7777777777777778,
              "#fb9f3a"
             ],
             [
              0.8888888888888888,
              "#fdca26"
             ],
             [
              1,
              "#f0f921"
             ]
            ],
            "type": "heatmapgl"
           }
          ],
          "histogram": [
           {
            "marker": {
             "pattern": {
              "fillmode": "overlay",
              "size": 10,
              "solidity": 0.2
             }
            },
            "type": "histogram"
           }
          ],
          "histogram2d": [
           {
            "colorbar": {
             "outlinewidth": 0,
             "ticks": ""
            },
            "colorscale": [
             [
              0,
              "#0d0887"
             ],
             [
              0.1111111111111111,
              "#46039f"
             ],
             [
              0.2222222222222222,
              "#7201a8"
             ],
             [
              0.3333333333333333,
              "#9c179e"
             ],
             [
              0.4444444444444444,
              "#bd3786"
             ],
             [
              0.5555555555555556,
              "#d8576b"
             ],
             [
              0.6666666666666666,
              "#ed7953"
             ],
             [
              0.7777777777777778,
              "#fb9f3a"
             ],
             [
              0.8888888888888888,
              "#fdca26"
             ],
             [
              1,
              "#f0f921"
             ]
            ],
            "type": "histogram2d"
           }
          ],
          "histogram2dcontour": [
           {
            "colorbar": {
             "outlinewidth": 0,
             "ticks": ""
            },
            "colorscale": [
             [
              0,
              "#0d0887"
             ],
             [
              0.1111111111111111,
              "#46039f"
             ],
             [
              0.2222222222222222,
              "#7201a8"
             ],
             [
              0.3333333333333333,
              "#9c179e"
             ],
             [
              0.4444444444444444,
              "#bd3786"
             ],
             [
              0.5555555555555556,
              "#d8576b"
             ],
             [
              0.6666666666666666,
              "#ed7953"
             ],
             [
              0.7777777777777778,
              "#fb9f3a"
             ],
             [
              0.8888888888888888,
              "#fdca26"
             ],
             [
              1,
              "#f0f921"
             ]
            ],
            "type": "histogram2dcontour"
           }
          ],
          "mesh3d": [
           {
            "colorbar": {
             "outlinewidth": 0,
             "ticks": ""
            },
            "type": "mesh3d"
           }
          ],
          "parcoords": [
           {
            "line": {
             "colorbar": {
              "outlinewidth": 0,
              "ticks": ""
             }
            },
            "type": "parcoords"
           }
          ],
          "pie": [
           {
            "automargin": true,
            "type": "pie"
           }
          ],
          "scatter": [
           {
            "fillpattern": {
             "fillmode": "overlay",
             "size": 10,
             "solidity": 0.2
            },
            "type": "scatter"
           }
          ],
          "scatter3d": [
           {
            "line": {
             "colorbar": {
              "outlinewidth": 0,
              "ticks": ""
             }
            },
            "marker": {
             "colorbar": {
              "outlinewidth": 0,
              "ticks": ""
             }
            },
            "type": "scatter3d"
           }
          ],
          "scattercarpet": [
           {
            "marker": {
             "colorbar": {
              "outlinewidth": 0,
              "ticks": ""
             }
            },
            "type": "scattercarpet"
           }
          ],
          "scattergeo": [
           {
            "marker": {
             "colorbar": {
              "outlinewidth": 0,
              "ticks": ""
             }
            },
            "type": "scattergeo"
           }
          ],
          "scattergl": [
           {
            "marker": {
             "colorbar": {
              "outlinewidth": 0,
              "ticks": ""
             }
            },
            "type": "scattergl"
           }
          ],
          "scattermapbox": [
           {
            "marker": {
             "colorbar": {
              "outlinewidth": 0,
              "ticks": ""
             }
            },
            "type": "scattermapbox"
           }
          ],
          "scatterpolar": [
           {
            "marker": {
             "colorbar": {
              "outlinewidth": 0,
              "ticks": ""
             }
            },
            "type": "scatterpolar"
           }
          ],
          "scatterpolargl": [
           {
            "marker": {
             "colorbar": {
              "outlinewidth": 0,
              "ticks": ""
             }
            },
            "type": "scatterpolargl"
           }
          ],
          "scatterternary": [
           {
            "marker": {
             "colorbar": {
              "outlinewidth": 0,
              "ticks": ""
             }
            },
            "type": "scatterternary"
           }
          ],
          "surface": [
           {
            "colorbar": {
             "outlinewidth": 0,
             "ticks": ""
            },
            "colorscale": [
             [
              0,
              "#0d0887"
             ],
             [
              0.1111111111111111,
              "#46039f"
             ],
             [
              0.2222222222222222,
              "#7201a8"
             ],
             [
              0.3333333333333333,
              "#9c179e"
             ],
             [
              0.4444444444444444,
              "#bd3786"
             ],
             [
              0.5555555555555556,
              "#d8576b"
             ],
             [
              0.6666666666666666,
              "#ed7953"
             ],
             [
              0.7777777777777778,
              "#fb9f3a"
             ],
             [
              0.8888888888888888,
              "#fdca26"
             ],
             [
              1,
              "#f0f921"
             ]
            ],
            "type": "surface"
           }
          ],
          "table": [
           {
            "cells": {
             "fill": {
              "color": "#EBF0F8"
             },
             "line": {
              "color": "white"
             }
            },
            "header": {
             "fill": {
              "color": "#C8D4E3"
             },
             "line": {
              "color": "white"
             }
            },
            "type": "table"
           }
          ]
         },
         "layout": {
          "annotationdefaults": {
           "arrowcolor": "#2a3f5f",
           "arrowhead": 0,
           "arrowwidth": 1
          },
          "autotypenumbers": "strict",
          "coloraxis": {
           "colorbar": {
            "outlinewidth": 0,
            "ticks": ""
           }
          },
          "colorscale": {
           "diverging": [
            [
             0,
             "#8e0152"
            ],
            [
             0.1,
             "#c51b7d"
            ],
            [
             0.2,
             "#de77ae"
            ],
            [
             0.3,
             "#f1b6da"
            ],
            [
             0.4,
             "#fde0ef"
            ],
            [
             0.5,
             "#f7f7f7"
            ],
            [
             0.6,
             "#e6f5d0"
            ],
            [
             0.7,
             "#b8e186"
            ],
            [
             0.8,
             "#7fbc41"
            ],
            [
             0.9,
             "#4d9221"
            ],
            [
             1,
             "#276419"
            ]
           ],
           "sequential": [
            [
             0,
             "#0d0887"
            ],
            [
             0.1111111111111111,
             "#46039f"
            ],
            [
             0.2222222222222222,
             "#7201a8"
            ],
            [
             0.3333333333333333,
             "#9c179e"
            ],
            [
             0.4444444444444444,
             "#bd3786"
            ],
            [
             0.5555555555555556,
             "#d8576b"
            ],
            [
             0.6666666666666666,
             "#ed7953"
            ],
            [
             0.7777777777777778,
             "#fb9f3a"
            ],
            [
             0.8888888888888888,
             "#fdca26"
            ],
            [
             1,
             "#f0f921"
            ]
           ],
           "sequentialminus": [
            [
             0,
             "#0d0887"
            ],
            [
             0.1111111111111111,
             "#46039f"
            ],
            [
             0.2222222222222222,
             "#7201a8"
            ],
            [
             0.3333333333333333,
             "#9c179e"
            ],
            [
             0.4444444444444444,
             "#bd3786"
            ],
            [
             0.5555555555555556,
             "#d8576b"
            ],
            [
             0.6666666666666666,
             "#ed7953"
            ],
            [
             0.7777777777777778,
             "#fb9f3a"
            ],
            [
             0.8888888888888888,
             "#fdca26"
            ],
            [
             1,
             "#f0f921"
            ]
           ]
          },
          "colorway": [
           "#636efa",
           "#EF553B",
           "#00cc96",
           "#ab63fa",
           "#FFA15A",
           "#19d3f3",
           "#FF6692",
           "#B6E880",
           "#FF97FF",
           "#FECB52"
          ],
          "font": {
           "color": "#2a3f5f"
          },
          "geo": {
           "bgcolor": "white",
           "lakecolor": "white",
           "landcolor": "white",
           "showlakes": true,
           "showland": true,
           "subunitcolor": "#C8D4E3"
          },
          "hoverlabel": {
           "align": "left"
          },
          "hovermode": "closest",
          "mapbox": {
           "style": "light"
          },
          "paper_bgcolor": "white",
          "plot_bgcolor": "white",
          "polar": {
           "angularaxis": {
            "gridcolor": "#EBF0F8",
            "linecolor": "#EBF0F8",
            "ticks": ""
           },
           "bgcolor": "white",
           "radialaxis": {
            "gridcolor": "#EBF0F8",
            "linecolor": "#EBF0F8",
            "ticks": ""
           }
          },
          "scene": {
           "xaxis": {
            "backgroundcolor": "white",
            "gridcolor": "#DFE8F3",
            "gridwidth": 2,
            "linecolor": "#EBF0F8",
            "showbackground": true,
            "ticks": "",
            "zerolinecolor": "#EBF0F8"
           },
           "yaxis": {
            "backgroundcolor": "white",
            "gridcolor": "#DFE8F3",
            "gridwidth": 2,
            "linecolor": "#EBF0F8",
            "showbackground": true,
            "ticks": "",
            "zerolinecolor": "#EBF0F8"
           },
           "zaxis": {
            "backgroundcolor": "white",
            "gridcolor": "#DFE8F3",
            "gridwidth": 2,
            "linecolor": "#EBF0F8",
            "showbackground": true,
            "ticks": "",
            "zerolinecolor": "#EBF0F8"
           }
          },
          "shapedefaults": {
           "line": {
            "color": "#2a3f5f"
           }
          },
          "ternary": {
           "aaxis": {
            "gridcolor": "#DFE8F3",
            "linecolor": "#A2B1C6",
            "ticks": ""
           },
           "baxis": {
            "gridcolor": "#DFE8F3",
            "linecolor": "#A2B1C6",
            "ticks": ""
           },
           "bgcolor": "white",
           "caxis": {
            "gridcolor": "#DFE8F3",
            "linecolor": "#A2B1C6",
            "ticks": ""
           }
          },
          "title": {
           "x": 0.05
          },
          "xaxis": {
           "automargin": true,
           "gridcolor": "#EBF0F8",
           "linecolor": "#EBF0F8",
           "ticks": "",
           "title": {
            "standoff": 15
           },
           "zerolinecolor": "#EBF0F8",
           "zerolinewidth": 2
          },
          "yaxis": {
           "automargin": true,
           "gridcolor": "#EBF0F8",
           "linecolor": "#EBF0F8",
           "ticks": "",
           "title": {
            "standoff": 15
           },
           "zerolinecolor": "#EBF0F8",
           "zerolinewidth": 2
          }
         }
        },
        "title": {
         "text": "Time vs Frequency for Each Event"
        },
        "width": 900,
        "xaxis": {
         "autorange": true,
         "range": [
          -0.618830675778284,
          10.618830675778284
         ],
         "title": {
          "text": "Time (s)"
         },
         "type": "linear"
        },
        "yaxis": {
         "autorange": true,
         "range": [
          -52.02726738841525,
          2097.311577955426
         ],
         "title": {
          "text": "Frequency"
         },
         "type": "linear"
        }
       }
      },
      "image/png": "[encoded data removed]",
      "text/html": [
       "<div>                            <div id=\"c59d0c2e-1cba-4d9c-b41a-c56285333328\" class=\"plotly-graph-div\" style=\"height:1200px; width:900px;\"></div>            <script type=\"text/javascript\">                require([\"plotly\"], function(Plotly) {                    window.PLOTLYENV=window.PLOTLYENV || {};                                    if (document.getElementById(\"c59d0c2e-1cba-4d9c-b41a-c56285333328\")) {                    Plotly.newPlot(                        \"c59d0c2e-1cba-4d9c-b41a-c56285333328\",                        [{\"line\":{\"color\":\"blue\",\"width\":2},\"mode\":\"lines+markers\",\"showlegend\":false,\"x\":[0.0,10.0],\"y\":[63.341655927835056,63.341655927835056],\"type\":\"scatter\"},{\"line\":{\"color\":\"blue\",\"width\":2},\"mode\":\"lines+markers\",\"showlegend\":false,\"x\":[0.0,10.0],\"y\":[75.77319587628867,75.77319587628867],\"type\":\"scatter\"},{\"line\":{\"color\":\"blue\",\"width\":2},\"mode\":\"lines+markers\",\"showlegend\":false,\"x\":[0.0,10.0],\"y\":[100.63627577319588,100.63627577319588],\"type\":\"scatter\"},{\"line\":{\"color\":\"blue\",\"width\":2},\"mode\":\"lines+markers\",\"showlegend\":false,\"x\":[0.0,10.0],\"y\":[114.84375,114.84375],\"type\":\"scatter\"},{\"line\":{\"color\":\"blue\",\"width\":2},\"mode\":\"lines+markers\",\"showlegend\":false,\"x\":[0.0,10.0],\"y\":[126.68331185567013,126.68331185567013],\"type\":\"scatter\"},{\"line\":{\"color\":\"blue\",\"width\":2},\"mode\":\"lines+markers\",\"showlegend\":false,\"x\":[0.0,10.0],\"y\":[140.29880798969074,140.29880798969074],\"type\":\"scatter\"},{\"line\":{\"color\":\"blue\",\"width\":2},\"mode\":\"lines+markers\",\"showlegend\":false,\"x\":[0.0,10.0],\"y\":[154.50628221649487,154.50628221649487],\"type\":\"scatter\"},{\"line\":{\"color\":\"blue\",\"width\":2},\"mode\":\"lines+markers\",\"showlegend\":false,\"x\":[0.0,10.0],\"y\":[163.97793170103094,163.97793170103094],\"type\":\"scatter\"},{\"line\":{\"color\":\"blue\",\"width\":2},\"mode\":\"lines+markers\",\"showlegend\":false,\"x\":[0.0,10.0],\"y\":[169.897712628866,169.897712628866],\"type\":\"scatter\"},{\"line\":{\"color\":\"blue\",\"width\":2},\"mode\":\"lines+markers\",\"showlegend\":false,\"x\":[0.0,10.0],\"y\":[176.40947164948454,176.40947164948454],\"type\":\"scatter\"},{\"line\":{\"color\":\"blue\",\"width\":2},\"mode\":\"lines+markers\",\"showlegend\":false,\"x\":[0.0,10.0],\"y\":[181.7372744845361,181.7372744845361],\"type\":\"scatter\"},{\"line\":{\"color\":\"blue\",\"width\":2},\"mode\":\"lines+markers\",\"showlegend\":false,\"x\":[0.0,10.0],\"y\":[189.43298969072168,189.43298969072168],\"type\":\"scatter\"},{\"line\":{\"color\":\"blue\",\"width\":2},\"mode\":\"lines+markers\",\"showlegend\":false,\"x\":[0.0,10.0],\"y\":[194.1688144329897,194.1688144329897],\"type\":\"scatter\"},{\"line\":{\"color\":\"blue\",\"width\":2},\"mode\":\"lines+markers\",\"showlegend\":false,\"x\":[0.0,10.0],\"y\":[200.0885953608248,200.0885953608248],\"type\":\"scatter\"},{\"line\":{\"color\":\"blue\",\"width\":2},\"mode\":\"lines+markers\",\"showlegend\":false,\"x\":[0.0,10.0],\"y\":[203.0484858247423,203.0484858247423],\"type\":\"scatter\"},{\"line\":{\"color\":\"blue\",\"width\":2},\"mode\":\"lines+markers\",\"showlegend\":false,\"x\":[0.0,10.0],\"y\":[210.15222293814435,210.15222293814435],\"type\":\"scatter\"},{\"line\":{\"color\":\"blue\",\"width\":2},\"mode\":\"lines+markers\",\"showlegend\":false,\"x\":[0.0,10.0],\"y\":[212.5201353092784,212.5201353092784],\"type\":\"scatter\"},{\"line\":{\"color\":\"blue\",\"width\":2},\"mode\":\"lines+markers\",\"showlegend\":false,\"x\":[0.0,10.0],\"y\":[218.43991623711344,218.43991623711344],\"type\":\"scatter\"},{\"line\":{\"color\":\"blue\",\"width\":2},\"mode\":\"lines+markers\",\"showlegend\":false,\"x\":[0.0,10.0],\"y\":[229.0955219072165,229.0955219072165],\"type\":\"scatter\"},{\"line\":{\"color\":\"blue\",\"width\":2},\"mode\":\"lines+markers\",\"showlegend\":false,\"x\":[0.0,10.0],\"y\":[239.1591494845361,239.1591494845361],\"type\":\"scatter\"},{\"line\":{\"color\":\"blue\",\"width\":2},\"mode\":\"lines+markers\",\"showlegend\":false,\"x\":[0.0,10.0],\"y\":[249.2227770618557,249.2227770618557],\"type\":\"scatter\"},{\"line\":{\"color\":\"blue\",\"width\":2},\"mode\":\"lines+markers\",\"showlegend\":false,\"x\":[0.0,10.0],\"y\":[260.4703608247423,260.4703608247423],\"type\":\"scatter\"},{\"line\":{\"color\":\"blue\",\"width\":2},\"mode\":\"lines+markers\",\"showlegend\":false,\"x\":[0.0,10.0],\"y\":[263.4302512886598,263.4302512886598],\"type\":\"scatter\"},{\"line\":{\"color\":\"blue\",\"width\":2},\"mode\":\"lines+markers\",\"showlegend\":false,\"x\":[0.0,10.0],\"y\":[266.39014175257734,266.39014175257734],\"type\":\"scatter\"},{\"line\":{\"color\":\"blue\",\"width\":2},\"mode\":\"lines+markers\",\"showlegend\":false,\"x\":[0.0,10.0],\"y\":[273.4938788659794,273.4938788659794],\"type\":\"scatter\"},{\"line\":{\"color\":\"blue\",\"width\":2},\"mode\":\"lines+markers\",\"showlegend\":false,\"x\":[0.0,10.0],\"y\":[278.22970360824746,278.22970360824746],\"type\":\"scatter\"},{\"line\":{\"color\":\"blue\",\"width\":2},\"mode\":\"lines+markers\",\"showlegend\":false,\"x\":[0.0,10.0],\"y\":[282.9655283505155,282.9655283505155],\"type\":\"scatter\"},{\"line\":{\"color\":\"blue\",\"width\":2},\"mode\":\"lines+markers\",\"showlegend\":false,\"x\":[0.0,10.0],\"y\":[293.02915592783506,293.02915592783506],\"type\":\"scatter\"},{\"line\":{\"color\":\"blue\",\"width\":2},\"mode\":\"lines+markers\",\"showlegend\":false,\"x\":[0.0,10.0],\"y\":[300.72487113402065,300.72487113402065],\"type\":\"scatter\"},{\"line\":{\"color\":\"blue\",\"width\":2},\"mode\":\"lines+markers\",\"showlegend\":false,\"x\":[0.0,10.0],\"y\":[321.4441043814433,321.4441043814433],\"type\":\"scatter\"},{\"line\":{\"color\":\"blue\",\"width\":2},\"mode\":\"lines+markers\",\"showlegend\":false,\"x\":[0.0,10.0],\"y\":[333.87564432989694,333.87564432989694],\"type\":\"scatter\"},{\"line\":{\"color\":\"blue\",\"width\":2},\"mode\":\"lines+markers\",\"showlegend\":false,\"x\":[0.0,10.0],\"y\":[339.2034471649485,339.2034471649485],\"type\":\"scatter\"},{\"line\":{\"color\":\"blue\",\"width\":2},\"mode\":\"lines+markers\",\"showlegend\":false,\"x\":[0.0,10.0],\"y\":[345.71520618556707,345.71520618556707],\"type\":\"scatter\"},{\"line\":{\"color\":\"blue\",\"width\":2},\"mode\":\"lines+markers\",\"showlegend\":false,\"x\":[0.0,10.0],\"y\":[347.4911404639176,347.4911404639176],\"type\":\"scatter\"},{\"line\":{\"color\":\"blue\",\"width\":2},\"mode\":\"lines+markers\",\"showlegend\":false,\"x\":[0.0,10.0],\"y\":[356.96278994845363,356.96278994845363],\"type\":\"scatter\"},{\"line\":{\"color\":\"blue\",\"width\":2},\"mode\":\"lines+markers\",\"showlegend\":false,\"x\":[0.0,10.0],\"y\":[362.8825708762887,362.8825708762887],\"type\":\"scatter\"},{\"line\":{\"color\":\"blue\",\"width\":2},\"mode\":\"lines+markers\",\"showlegend\":false,\"x\":[0.0,10.0],\"y\":[369.9863079896908,369.9863079896908],\"type\":\"scatter\"},{\"line\":{\"color\":\"blue\",\"width\":2},\"mode\":\"lines+markers\",\"showlegend\":false,\"x\":[0.0,10.0],\"y\":[378.86597938144337,378.86597938144337],\"type\":\"scatter\"},{\"line\":{\"color\":\"blue\",\"width\":2},\"mode\":\"lines+markers\",\"showlegend\":false,\"x\":[0.0,10.0],\"y\":[384.19378221649487,384.19378221649487],\"type\":\"scatter\"},{\"line\":{\"color\":\"blue\",\"width\":2},\"mode\":\"lines+markers\",\"showlegend\":false,\"x\":[0.0,10.0],\"y\":[390.70554123711344,390.70554123711344],\"type\":\"scatter\"},{\"line\":{\"color\":\"blue\",\"width\":2},\"mode\":\"lines+markers\",\"showlegend\":false,\"x\":[0.0,10.0],\"y\":[393.66543170103097,393.66543170103097],\"type\":\"scatter\"},{\"line\":{\"color\":\"blue\",\"width\":2},\"mode\":\"lines+markers\",\"showlegend\":false,\"x\":[0.0,10.0],\"y\":[397.8092783505155,397.8092783505155],\"type\":\"scatter\"},{\"line\":{\"color\":\"blue\",\"width\":2},\"mode\":\"lines+markers\",\"showlegend\":false,\"x\":[0.0,10.0],\"y\":[404.9130154639176,404.9130154639176],\"type\":\"scatter\"},{\"line\":{\"color\":\"blue\",\"width\":2},\"mode\":\"lines+markers\",\"showlegend\":false,\"x\":[0.0,10.0],\"y\":[413.7926868556701,413.7926868556701],\"type\":\"scatter\"},{\"line\":{\"color\":\"blue\",\"width\":2},\"mode\":\"lines+markers\",\"showlegend\":false,\"x\":[0.0,10.0],\"y\":[436.8798324742269,436.8798324742269],\"type\":\"scatter\"},{\"line\":{\"color\":\"blue\",\"width\":2},\"mode\":\"lines+markers\",\"showlegend\":false,\"x\":[0.0,10.0],\"y\":[448.12741623711344,448.12741623711344],\"type\":\"scatter\"},{\"line\":{\"color\":\"blue\",\"width\":2},\"mode\":\"lines+markers\",\"showlegend\":false,\"x\":[0.0,10.0],\"y\":[457.5990657216496,457.5990657216496],\"type\":\"scatter\"},{\"line\":{\"color\":\"blue\",\"width\":2},\"mode\":\"lines+markers\",\"showlegend\":false,\"x\":[0.0,10.0],\"y\":[464.1108247422681,464.1108247422681],\"type\":\"scatter\"},{\"line\":{\"color\":\"blue\",\"width\":2},\"mode\":\"lines+markers\",\"showlegend\":false,\"x\":[0.0,10.0],\"y\":[470.0306056701031,470.0306056701031],\"type\":\"scatter\"},{\"line\":{\"color\":\"blue\",\"width\":2},\"mode\":\"lines+markers\",\"showlegend\":false,\"x\":[0.0,10.0],\"y\":[476.5423646907217,476.5423646907217],\"type\":\"scatter\"},{\"line\":{\"color\":\"blue\",\"width\":2},\"mode\":\"lines+markers\",\"showlegend\":false,\"x\":[0.0,10.0],\"y\":[484.8300579896908,484.8300579896908],\"type\":\"scatter\"},{\"line\":{\"color\":\"blue\",\"width\":2},\"mode\":\"lines+markers\",\"showlegend\":false,\"x\":[0.0,10.0],\"y\":[490.15786082474233,490.15786082474233],\"type\":\"scatter\"},{\"line\":{\"color\":\"blue\",\"width\":2},\"mode\":\"lines+markers\",\"showlegend\":false,\"x\":[0.0,10.0],\"y\":[497.2615979381444,497.2615979381444],\"type\":\"scatter\"},{\"line\":{\"color\":\"blue\",\"width\":2},\"mode\":\"lines+markers\",\"showlegend\":false,\"x\":[0.0,10.0],\"y\":[508.50918170103097,508.50918170103097],\"type\":\"scatter\"},{\"line\":{\"color\":\"blue\",\"width\":2},\"mode\":\"lines+markers\",\"showlegend\":false,\"x\":[0.0,10.0],\"y\":[518.5728092783505,518.5728092783505],\"type\":\"scatter\"},{\"line\":{\"color\":\"blue\",\"width\":2},\"mode\":\"lines+markers\",\"showlegend\":false,\"x\":[0.0,10.0],\"y\":[527.4524806701031,527.4524806701031],\"type\":\"scatter\"},{\"line\":{\"color\":\"blue\",\"width\":2},\"mode\":\"lines+markers\",\"showlegend\":false,\"x\":[0.0,10.0],\"y\":[533.3722615979382,533.3722615979382],\"type\":\"scatter\"},{\"line\":{\"color\":\"blue\",\"width\":2},\"mode\":\"lines+markers\",\"showlegend\":false,\"x\":[0.0,10.0],\"y\":[541.0679768041238,541.0679768041238],\"type\":\"scatter\"},{\"line\":{\"color\":\"blue\",\"width\":2},\"mode\":\"lines+markers\",\"showlegend\":false,\"x\":[0.0,10.0],\"y\":[546.9877577319588,546.9877577319588],\"type\":\"scatter\"},{\"line\":{\"color\":\"blue\",\"width\":2},\"mode\":\"lines+markers\",\"showlegend\":false,\"x\":[0.0,10.0],\"y\":[549.9476481958764,549.9476481958764],\"type\":\"scatter\"},{\"line\":{\"color\":\"blue\",\"width\":2},\"mode\":\"lines+markers\",\"showlegend\":false,\"x\":[0.0,10.0],\"y\":[558.827319587629,558.827319587629],\"type\":\"scatter\"},{\"line\":{\"color\":\"blue\",\"width\":2},\"mode\":\"lines+markers\",\"showlegend\":false,\"x\":[0.0,10.0],\"y\":[570.0749033505156,570.0749033505156],\"type\":\"scatter\"},{\"line\":{\"color\":\"blue\",\"width\":2},\"mode\":\"lines+markers\",\"showlegend\":false,\"x\":[0.0,10.0],\"y\":[575.9946842783505,575.9946842783505],\"type\":\"scatter\"},{\"line\":{\"color\":\"blue\",\"width\":2},\"mode\":\"lines+markers\",\"showlegend\":false,\"x\":[0.0,10.0],\"y\":[584.8743556701031,584.8743556701031],\"type\":\"scatter\"},{\"line\":{\"color\":\"blue\",\"width\":2},\"mode\":\"lines+markers\",\"showlegend\":false,\"x\":[0.0,10.0],\"y\":[599.0818298969073,599.0818298969073],\"type\":\"scatter\"},{\"line\":{\"color\":\"blue\",\"width\":2},\"mode\":\"lines+markers\",\"showlegend\":false,\"x\":[0.0,10.0],\"y\":[615.6572164948454,615.6572164948454],\"type\":\"scatter\"},{\"line\":{\"color\":\"blue\",\"width\":2},\"mode\":\"lines+markers\",\"showlegend\":false,\"x\":[0.0,10.0],\"y\":[618.617106958763,618.617106958763],\"type\":\"scatter\"},{\"line\":{\"color\":\"blue\",\"width\":2},\"mode\":\"lines+markers\",\"showlegend\":false,\"x\":[0.0,10.0],\"y\":[629.8646907216496,629.8646907216496],\"type\":\"scatter\"},{\"line\":{\"color\":\"blue\",\"width\":2},\"mode\":\"lines+markers\",\"showlegend\":false,\"x\":[0.0,10.0],\"y\":[633.4165592783506,633.4165592783506],\"type\":\"scatter\"},{\"line\":{\"color\":\"blue\",\"width\":2},\"mode\":\"lines+markers\",\"showlegend\":false,\"x\":[0.0,10.0],\"y\":[638.7443621134021,638.7443621134021],\"type\":\"scatter\"},{\"line\":{\"color\":\"blue\",\"width\":2},\"mode\":\"lines+markers\",\"showlegend\":false,\"x\":[0.0,10.0],\"y\":[643.4801868556701,643.4801868556701],\"type\":\"scatter\"},{\"line\":{\"color\":\"blue\",\"width\":2},\"mode\":\"lines+markers\",\"showlegend\":false,\"x\":[0.0,10.0],\"y\":[649.3999677835052,649.3999677835052],\"type\":\"scatter\"},{\"line\":{\"color\":\"blue\",\"width\":2},\"mode\":\"lines+markers\",\"showlegend\":false,\"x\":[0.0,10.0],\"y\":[657.0956829896908,657.0956829896908],\"type\":\"scatter\"},{\"line\":{\"color\":\"blue\",\"width\":2},\"mode\":\"lines+markers\",\"showlegend\":false,\"x\":[0.0,10.0],\"y\":[661.2395296391753,661.2395296391753],\"type\":\"scatter\"},{\"line\":{\"color\":\"blue\",\"width\":2},\"mode\":\"lines+markers\",\"showlegend\":false,\"x\":[0.0,10.0],\"y\":[696.7582152061857,696.7582152061857],\"type\":\"scatter\"},{\"line\":{\"color\":\"blue\",\"width\":2},\"mode\":\"lines+markers\",\"showlegend\":false,\"x\":[0.0,10.0],\"y\":[701.4940399484536,701.4940399484536],\"type\":\"scatter\"},{\"line\":{\"color\":\"blue\",\"width\":2},\"mode\":\"lines+markers\",\"showlegend\":false,\"x\":[0.0,10.0],\"y\":[710.3737113402062,710.3737113402062],\"type\":\"scatter\"},{\"line\":{\"color\":\"blue\",\"width\":2},\"mode\":\"lines+markers\",\"showlegend\":false,\"x\":[0.0,10.0],\"y\":[721.6212951030928,721.6212951030928],\"type\":\"scatter\"},{\"line\":{\"color\":\"blue\",\"width\":2},\"mode\":\"lines+markers\",\"showlegend\":false,\"x\":[0.0,10.0],\"y\":[729.9089884020619,729.9089884020619],\"type\":\"scatter\"},{\"line\":{\"color\":\"blue\",\"width\":2},\"mode\":\"lines+markers\",\"showlegend\":false,\"x\":[0.0,10.0],\"y\":[742.9325064432991,742.9325064432991],\"type\":\"scatter\"},{\"line\":{\"color\":\"blue\",\"width\":2},\"mode\":\"lines+markers\",\"showlegend\":false,\"x\":[0.0,10.0],\"y\":[744.7084407216496,744.7084407216496],\"type\":\"scatter\"},{\"line\":{\"color\":\"blue\",\"width\":2},\"mode\":\"lines+markers\",\"showlegend\":false,\"x\":[0.0,10.0],\"y\":[748.2603092783506,748.2603092783506],\"type\":\"scatter\"},{\"line\":{\"color\":\"blue\",\"width\":2},\"mode\":\"lines+markers\",\"showlegend\":false,\"x\":[0.0,10.0],\"y\":[776.6752577319588,776.6752577319588],\"type\":\"scatter\"},{\"line\":{\"color\":\"blue\",\"width\":2},\"mode\":\"lines+markers\",\"showlegend\":false,\"x\":[0.0,10.0],\"y\":[796.2105347938145,796.2105347938145],\"type\":\"scatter\"},{\"line\":{\"color\":\"blue\",\"width\":2},\"mode\":\"lines+markers\",\"showlegend\":false,\"x\":[0.0,10.0],\"y\":[798.5784471649486,798.5784471649486],\"type\":\"scatter\"},{\"line\":{\"color\":\"blue\",\"width\":2},\"mode\":\"lines+markers\",\"showlegend\":false,\"x\":[0.0,10.0],\"y\":[803.9062500000001,803.9062500000001],\"type\":\"scatter\"},{\"line\":{\"color\":\"blue\",\"width\":2},\"mode\":\"lines+markers\",\"showlegend\":false,\"x\":[0.0,10.0],\"y\":[807.4581185567012,807.4581185567012],\"type\":\"scatter\"},{\"line\":{\"color\":\"blue\",\"width\":2},\"mode\":\"lines+markers\",\"showlegend\":false,\"x\":[0.0,10.0],\"y\":[825.2174613402062,825.2174613402062],\"type\":\"scatter\"},{\"line\":{\"color\":\"blue\",\"width\":2},\"mode\":\"lines+markers\",\"showlegend\":false,\"x\":[0.0,10.0],\"y\":[833.5051546391753,833.5051546391753],\"type\":\"scatter\"},{\"line\":{\"color\":\"blue\",\"width\":2},\"mode\":\"lines+markers\",\"showlegend\":false,\"x\":[0.0,10.0],\"y\":[836.4650451030928,836.4650451030928],\"type\":\"scatter\"},{\"line\":{\"color\":\"blue\",\"width\":2},\"mode\":\"lines+markers\",\"showlegend\":false,\"x\":[0.0,10.0],\"y\":[841.7928479381444,841.7928479381444],\"type\":\"scatter\"},{\"line\":{\"color\":\"blue\",\"width\":2},\"mode\":\"lines+markers\",\"showlegend\":false,\"x\":[0.0,10.0],\"y\":[848.304606958763,848.304606958763],\"type\":\"scatter\"},{\"line\":{\"color\":\"blue\",\"width\":2},\"mode\":\"lines+markers\",\"showlegend\":false,\"x\":[0.0,10.0],\"y\":[856.5923002577321,856.5923002577321],\"type\":\"scatter\"},{\"line\":{\"color\":\"blue\",\"width\":2},\"mode\":\"lines+markers\",\"showlegend\":false,\"x\":[0.0,10.0],\"y\":[864.8799935567012,864.8799935567012],\"type\":\"scatter\"},{\"line\":{\"color\":\"blue\",\"width\":2},\"mode\":\"lines+markers\",\"showlegend\":false,\"x\":[0.0,10.0],\"y\":[867.2479059278352,867.2479059278352],\"type\":\"scatter\"},{\"line\":{\"color\":\"blue\",\"width\":2},\"mode\":\"lines+markers\",\"showlegend\":false,\"x\":[0.0,10.0],\"y\":[873.7596649484537,873.7596649484537],\"type\":\"scatter\"},{\"line\":{\"color\":\"blue\",\"width\":2},\"mode\":\"lines+markers\",\"showlegend\":false,\"x\":[0.0,10.0],\"y\":[885.5992268041238,885.5992268041238],\"type\":\"scatter\"},{\"line\":{\"color\":\"blue\",\"width\":2},\"mode\":\"lines+markers\",\"showlegend\":false,\"x\":[0.0,10.0],\"y\":[893.2949420103093,893.2949420103093],\"type\":\"scatter\"},{\"line\":{\"color\":\"blue\",\"width\":2},\"mode\":\"lines+markers\",\"showlegend\":false,\"x\":[0.0,10.0],\"y\":[910.462306701031,910.462306701031],\"type\":\"scatter\"},{\"line\":{\"color\":\"blue\",\"width\":2},\"mode\":\"lines+markers\",\"showlegend\":false,\"x\":[0.0,10.0],\"y\":[914.6061533505156,914.6061533505156],\"type\":\"scatter\"},{\"line\":{\"color\":\"blue\",\"width\":2},\"mode\":\"lines+markers\",\"showlegend\":false,\"x\":[0.0,10.0],\"y\":[919.9339561855672,919.9339561855672],\"type\":\"scatter\"},{\"line\":{\"color\":\"blue\",\"width\":2},\"mode\":\"lines+markers\",\"showlegend\":false,\"x\":[0.0,10.0],\"y\":[922.8938466494848,922.8938466494848],\"type\":\"scatter\"},{\"line\":{\"color\":\"blue\",\"width\":2},\"mode\":\"lines+markers\",\"showlegend\":false,\"x\":[0.0,10.0],\"y\":[932.3654961340208,932.3654961340208],\"type\":\"scatter\"},{\"line\":{\"color\":\"blue\",\"width\":2},\"mode\":\"lines+markers\",\"showlegend\":false,\"x\":[0.0,10.0],\"y\":[938.2852770618558,938.2852770618558],\"type\":\"scatter\"},{\"line\":{\"color\":\"blue\",\"width\":2},\"mode\":\"lines+markers\",\"showlegend\":false,\"x\":[0.0,10.0],\"y\":[941.8371456185567,941.8371456185567],\"type\":\"scatter\"},{\"line\":{\"color\":\"blue\",\"width\":2},\"mode\":\"lines+markers\",\"showlegend\":false,\"x\":[0.0,10.0],\"y\":[951.9007731958764,951.9007731958764],\"type\":\"scatter\"},{\"line\":{\"color\":\"blue\",\"width\":2},\"mode\":\"lines+markers\",\"showlegend\":false,\"x\":[0.0,10.0],\"y\":[961.964400773196,961.964400773196],\"type\":\"scatter\"},{\"line\":{\"color\":\"blue\",\"width\":2},\"mode\":\"lines+markers\",\"showlegend\":false,\"x\":[0.0,10.0],\"y\":[972.6200064432992,972.6200064432992],\"type\":\"scatter\"},{\"line\":{\"color\":\"blue\",\"width\":2},\"mode\":\"lines+markers\",\"showlegend\":false,\"x\":[0.0,10.0],\"y\":[974.9879188144332,974.9879188144332],\"type\":\"scatter\"},{\"line\":{\"color\":\"blue\",\"width\":2},\"mode\":\"lines+markers\",\"showlegend\":false,\"x\":[0.0,10.0],\"y\":[983.8675902061856,983.8675902061856],\"type\":\"scatter\"},{\"line\":{\"color\":\"blue\",\"width\":2},\"mode\":\"lines+markers\",\"showlegend\":false,\"x\":[0.0,10.0],\"y\":[989.1953930412373,989.1953930412373],\"type\":\"scatter\"},{\"line\":{\"color\":\"blue\",\"width\":2},\"mode\":\"lines+markers\",\"showlegend\":false,\"x\":[0.0,10.0],\"y\":[995.1151739690724,995.1151739690724],\"type\":\"scatter\"},{\"line\":{\"color\":\"blue\",\"width\":2},\"mode\":\"lines+markers\",\"showlegend\":false,\"x\":[0.0,10.0],\"y\":[1002.2189110824744,1002.2189110824744],\"type\":\"scatter\"},{\"line\":{\"color\":\"blue\",\"width\":2},\"mode\":\"lines+markers\",\"showlegend\":false,\"x\":[0.0,10.0],\"y\":[1012.282538659794,1012.282538659794],\"type\":\"scatter\"},{\"line\":{\"color\":\"blue\",\"width\":2},\"mode\":\"lines+markers\",\"showlegend\":false,\"x\":[0.0,10.0],\"y\":[1023.5301224226804,1023.5301224226804],\"type\":\"scatter\"},{\"line\":{\"color\":\"blue\",\"width\":2},\"mode\":\"lines+markers\",\"showlegend\":false,\"x\":[0.0,10.0],\"y\":[1031.8178157216496,1031.8178157216496],\"type\":\"scatter\"},{\"line\":{\"color\":\"blue\",\"width\":2},\"mode\":\"lines+markers\",\"showlegend\":false,\"x\":[0.0,10.0],\"y\":[1037.145618556701,1037.145618556701],\"type\":\"scatter\"},{\"line\":{\"color\":\"blue\",\"width\":2},\"mode\":\"lines+markers\",\"showlegend\":false,\"x\":[0.0,10.0],\"y\":[1057.864851804124,1057.864851804124],\"type\":\"scatter\"},{\"line\":{\"color\":\"blue\",\"width\":2},\"mode\":\"lines+markers\",\"showlegend\":false,\"x\":[0.0,10.0],\"y\":[1079.17606314433,1079.17606314433],\"type\":\"scatter\"},{\"line\":{\"color\":\"blue\",\"width\":2},\"mode\":\"lines+markers\",\"showlegend\":false,\"x\":[0.0,10.0],\"y\":[1082.7279317010311,1082.7279317010311],\"type\":\"scatter\"},{\"line\":{\"color\":\"blue\",\"width\":2},\"mode\":\"lines+markers\",\"showlegend\":false,\"x\":[0.0,10.0],\"y\":[1089.2396907216496,1089.2396907216496],\"type\":\"scatter\"},{\"line\":{\"color\":\"blue\",\"width\":2},\"mode\":\"lines+markers\",\"showlegend\":false,\"x\":[0.0,10.0],\"y\":[1092.199581185567,1092.199581185567],\"type\":\"scatter\"},{\"line\":{\"color\":\"blue\",\"width\":2},\"mode\":\"lines+markers\",\"showlegend\":false,\"x\":[0.0,10.0],\"y\":[1103.4471649484535,1103.4471649484535],\"type\":\"scatter\"},{\"line\":{\"color\":\"blue\",\"width\":2},\"mode\":\"lines+markers\",\"showlegend\":false,\"x\":[0.0,10.0],\"y\":[1109.3669458762888,1109.3669458762888],\"type\":\"scatter\"},{\"line\":{\"color\":\"blue\",\"width\":2},\"mode\":\"lines+markers\",\"showlegend\":false,\"x\":[0.0,10.0],\"y\":[1128.310244845361,1128.310244845361],\"type\":\"scatter\"},{\"line\":{\"color\":\"blue\",\"width\":2},\"mode\":\"lines+markers\",\"showlegend\":false,\"x\":[0.0,10.0],\"y\":[1136.0059600515465,1136.0059600515465],\"type\":\"scatter\"},{\"line\":{\"color\":\"blue\",\"width\":2},\"mode\":\"lines+markers\",\"showlegend\":false,\"x\":[0.0,10.0],\"y\":[1141.9257409793815,1141.9257409793815],\"type\":\"scatter\"},{\"line\":{\"color\":\"blue\",\"width\":2},\"mode\":\"lines+markers\",\"showlegend\":false,\"x\":[0.0,10.0],\"y\":[1144.2936533505156,1144.2936533505156],\"type\":\"scatter\"},{\"line\":{\"color\":\"blue\",\"width\":2},\"mode\":\"lines+markers\",\"showlegend\":false,\"x\":[0.0,10.0],\"y\":[1152.5813466494849,1152.5813466494849],\"type\":\"scatter\"},{\"line\":{\"color\":\"blue\",\"width\":2},\"mode\":\"lines+markers\",\"showlegend\":false,\"x\":[0.0,10.0],\"y\":[1162.0529961340208,1162.0529961340208],\"type\":\"scatter\"},{\"line\":{\"color\":\"blue\",\"width\":2},\"mode\":\"lines+markers\",\"showlegend\":false,\"x\":[0.0,10.0],\"y\":[1171.5246456185569,1171.5246456185569],\"type\":\"scatter\"},{\"line\":{\"color\":\"blue\",\"width\":2},\"mode\":\"lines+markers\",\"showlegend\":false,\"x\":[0.0,10.0],\"y\":[1185.1401417525774,1185.1401417525774],\"type\":\"scatter\"},{\"line\":{\"color\":\"blue\",\"width\":2},\"mode\":\"lines+markers\",\"showlegend\":false,\"x\":[0.0,10.0],\"y\":[1191.0599226804125,1191.0599226804125],\"type\":\"scatter\"},{\"line\":{\"color\":\"blue\",\"width\":2},\"mode\":\"lines+markers\",\"showlegend\":false,\"x\":[0.0,10.0],\"y\":[1203.4914626288662,1203.4914626288662],\"type\":\"scatter\"},{\"line\":{\"color\":\"blue\",\"width\":2},\"mode\":\"lines+markers\",\"showlegend\":false,\"x\":[0.0,10.0],\"y\":[1207.0433311855672,1207.0433311855672],\"type\":\"scatter\"},{\"line\":{\"color\":\"blue\",\"width\":2},\"mode\":\"lines+markers\",\"showlegend\":false,\"x\":[0.0,10.0],\"y\":[1211.1871778350517,1211.1871778350517],\"type\":\"scatter\"},{\"line\":{\"color\":\"blue\",\"width\":2},\"mode\":\"lines+markers\",\"showlegend\":false,\"x\":[0.0,10.0],\"y\":[1231.9064110824745,1231.9064110824745],\"type\":\"scatter\"},{\"line\":{\"color\":\"blue\",\"width\":2},\"mode\":\"lines+markers\",\"showlegend\":false,\"x\":[0.0,10.0],\"y\":[1242.5620167525774,1242.5620167525774],\"type\":\"scatter\"},{\"line\":{\"color\":\"blue\",\"width\":2},\"mode\":\"lines+markers\",\"showlegend\":false,\"x\":[0.0,10.0],\"y\":[1246.705863402062,1246.705863402062],\"type\":\"scatter\"},{\"line\":{\"color\":\"blue\",\"width\":2},\"mode\":\"lines+markers\",\"showlegend\":false,\"x\":[0.0,10.0],\"y\":[1251.44168814433,1251.44168814433],\"type\":\"scatter\"},{\"line\":{\"color\":\"blue\",\"width\":2},\"mode\":\"lines+markers\",\"showlegend\":false,\"x\":[0.0,10.0],\"y\":[1257.3614690721652,1257.3614690721652],\"type\":\"scatter\"},{\"line\":{\"color\":\"blue\",\"width\":2},\"mode\":\"lines+markers\",\"showlegend\":false,\"x\":[0.0,10.0],\"y\":[1260.9133376288662,1260.9133376288662],\"type\":\"scatter\"},{\"line\":{\"color\":\"blue\",\"width\":2},\"mode\":\"lines+markers\",\"showlegend\":false,\"x\":[0.0,10.0],\"y\":[1272.1609213917527,1272.1609213917527],\"type\":\"scatter\"},{\"line\":{\"color\":\"blue\",\"width\":2},\"mode\":\"lines+markers\",\"showlegend\":false,\"x\":[0.0,10.0],\"y\":[1279.8566365979382,1279.8566365979382],\"type\":\"scatter\"},{\"line\":{\"color\":\"blue\",\"width\":2},\"mode\":\"lines+markers\",\"showlegend\":false,\"x\":[0.0,10.0],\"y\":[1285.7764175257732,1285.7764175257732],\"type\":\"scatter\"},{\"line\":{\"color\":\"blue\",\"width\":2},\"mode\":\"lines+markers\",\"showlegend\":false,\"x\":[0.0,10.0],\"y\":[1296.4320231958764,1296.4320231958764],\"type\":\"scatter\"},{\"line\":{\"color\":\"blue\",\"width\":2},\"mode\":\"lines+markers\",\"showlegend\":false,\"x\":[0.0,10.0],\"y\":[1301.1678479381444,1301.1678479381444],\"type\":\"scatter\"},{\"line\":{\"color\":\"blue\",\"width\":2},\"mode\":\"lines+markers\",\"showlegend\":false,\"x\":[0.0,10.0],\"y\":[1310.047519329897,1310.047519329897],\"type\":\"scatter\"},{\"line\":{\"color\":\"blue\",\"width\":2},\"mode\":\"lines+markers\",\"showlegend\":false,\"x\":[0.0,10.0],\"y\":[1318.3352126288662,1318.3352126288662],\"type\":\"scatter\"},{\"line\":{\"color\":\"blue\",\"width\":2},\"mode\":\"lines+markers\",\"showlegend\":false,\"x\":[0.0,10.0],\"y\":[1328.990818298969,1328.990818298969],\"type\":\"scatter\"},{\"line\":{\"color\":\"blue\",\"width\":2},\"mode\":\"lines+markers\",\"showlegend\":false,\"x\":[0.0,10.0],\"y\":[1365.101481958763,1365.101481958763],\"type\":\"scatter\"},{\"line\":{\"color\":\"blue\",\"width\":2},\"mode\":\"lines+markers\",\"showlegend\":false,\"x\":[0.0,10.0],\"y\":[1394.7003865979382,1394.7003865979382],\"type\":\"scatter\"},{\"line\":{\"color\":\"blue\",\"width\":2},\"mode\":\"lines+markers\",\"showlegend\":false,\"x\":[0.0,10.0],\"y\":[1401.8041237113405,1401.8041237113405],\"type\":\"scatter\"},{\"line\":{\"color\":\"blue\",\"width\":2},\"mode\":\"lines+markers\",\"showlegend\":false,\"x\":[0.0,10.0],\"y\":[1403.5800579896909,1403.5800579896909],\"type\":\"scatter\"},{\"line\":{\"color\":\"blue\",\"width\":2},\"mode\":\"lines+markers\",\"showlegend\":false,\"x\":[0.0,10.0],\"y\":[1409.499838917526,1409.499838917526],\"type\":\"scatter\"},{\"line\":{\"color\":\"blue\",\"width\":2},\"mode\":\"lines+markers\",\"showlegend\":false,\"x\":[0.0,10.0],\"y\":[1417.1955541237114,1417.1955541237114],\"type\":\"scatter\"},{\"line\":{\"color\":\"blue\",\"width\":2},\"mode\":\"lines+markers\",\"showlegend\":false,\"x\":[0.0,10.0],\"y\":[1431.9950064432992,1431.9950064432992],\"type\":\"scatter\"},{\"line\":{\"color\":\"blue\",\"width\":2},\"mode\":\"lines+markers\",\"showlegend\":false,\"x\":[0.0,10.0],\"y\":[1439.6907216494849,1439.6907216494849],\"type\":\"scatter\"},{\"line\":{\"color\":\"blue\",\"width\":2},\"mode\":\"lines+markers\",\"showlegend\":false,\"x\":[0.0,10.0],\"y\":[1444.4265463917527,1444.4265463917527],\"type\":\"scatter\"},{\"line\":{\"color\":\"blue\",\"width\":2},\"mode\":\"lines+markers\",\"showlegend\":false,\"x\":[0.0,10.0],\"y\":[1450.3463273195878,1450.3463273195878],\"type\":\"scatter\"},{\"line\":{\"color\":\"blue\",\"width\":2},\"mode\":\"lines+markers\",\"showlegend\":false,\"x\":[0.0,10.0],\"y\":[1457.4500644329898,1457.4500644329898],\"type\":\"scatter\"},{\"line\":{\"color\":\"blue\",\"width\":2},\"mode\":\"lines+markers\",\"showlegend\":false,\"x\":[0.0,10.0],\"y\":[1652.210856958763,1652.210856958763],\"type\":\"scatter\"},{\"line\":{\"color\":\"blue\",\"width\":2},\"mode\":\"lines+markers\",\"showlegend\":false,\"x\":[0.0,10.0],\"y\":[1654.578769329897,1654.578769329897],\"type\":\"scatter\"},{\"line\":{\"color\":\"blue\",\"width\":2},\"mode\":\"lines+markers\",\"showlegend\":false,\"x\":[0.0,10.0],\"y\":[1722.0642719072166,1722.0642719072166],\"type\":\"scatter\"},{\"line\":{\"color\":\"blue\",\"width\":2},\"mode\":\"lines+markers\",\"showlegend\":false,\"x\":[0.0,10.0],\"y\":[1730.943943298969,1730.943943298969],\"type\":\"scatter\"},{\"line\":{\"color\":\"blue\",\"width\":2},\"mode\":\"lines+markers\",\"showlegend\":false,\"x\":[0.0,10.0],\"y\":[1739.2316365979384,1739.2316365979384],\"type\":\"scatter\"},{\"line\":{\"color\":\"blue\",\"width\":2},\"mode\":\"lines+markers\",\"showlegend\":false,\"x\":[0.0,10.0],\"y\":[1745.1514175257737,1745.1514175257737],\"type\":\"scatter\"},{\"line\":{\"color\":\"blue\",\"width\":2},\"mode\":\"lines+markers\",\"showlegend\":false,\"x\":[0.0,10.0],\"y\":[1752.2551546391755,1752.2551546391755],\"type\":\"scatter\"},{\"line\":{\"color\":\"blue\",\"width\":2},\"mode\":\"lines+markers\",\"showlegend\":false,\"x\":[0.0,10.0],\"y\":[1756.39900128866,1756.39900128866],\"type\":\"scatter\"},{\"line\":{\"color\":\"blue\",\"width\":2},\"mode\":\"lines+markers\",\"showlegend\":false,\"x\":[0.0,10.0],\"y\":[1758.766913659794,1758.766913659794],\"type\":\"scatter\"},{\"line\":{\"color\":\"blue\",\"width\":2},\"mode\":\"lines+markers\",\"showlegend\":false,\"x\":[0.0,10.0],\"y\":[1764.686694587629,1764.686694587629],\"type\":\"scatter\"},{\"line\":{\"color\":\"blue\",\"width\":2},\"mode\":\"lines+markers\",\"showlegend\":false,\"x\":[0.0,10.0],\"y\":[1771.1984536082475,1771.1984536082475],\"type\":\"scatter\"},{\"line\":{\"color\":\"blue\",\"width\":2},\"mode\":\"lines+markers\",\"showlegend\":false,\"x\":[0.0,10.0],\"y\":[1778.3021907216496,1778.3021907216496],\"type\":\"scatter\"},{\"line\":{\"color\":\"blue\",\"width\":2},\"mode\":\"lines+markers\",\"showlegend\":false,\"x\":[0.0,10.0],\"y\":[1781.2620811855672,1781.2620811855672],\"type\":\"scatter\"},{\"line\":{\"color\":\"blue\",\"width\":2},\"mode\":\"lines+markers\",\"showlegend\":false,\"x\":[0.0,10.0],\"y\":[1783.0380154639176,1783.0380154639176],\"type\":\"scatter\"},{\"line\":{\"color\":\"blue\",\"width\":2},\"mode\":\"lines+markers\",\"showlegend\":false,\"x\":[0.0,10.0],\"y\":[1791.9176868556704,1791.9176868556704],\"type\":\"scatter\"},{\"line\":{\"color\":\"blue\",\"width\":2},\"mode\":\"lines+markers\",\"showlegend\":false,\"x\":[0.0,10.0],\"y\":[1797.2454896907218,1797.2454896907218],\"type\":\"scatter\"},{\"line\":{\"color\":\"blue\",\"width\":2},\"mode\":\"lines+markers\",\"showlegend\":false,\"x\":[0.0,10.0],\"y\":[1802.5732925257728,1802.5732925257728],\"type\":\"scatter\"},{\"line\":{\"color\":\"blue\",\"width\":2},\"mode\":\"lines+markers\",\"showlegend\":false,\"x\":[0.0,10.0],\"y\":[1809.085051546392,1809.085051546392],\"type\":\"scatter\"},{\"line\":{\"color\":\"blue\",\"width\":2},\"mode\":\"lines+markers\",\"showlegend\":false,\"x\":[0.0,10.0],\"y\":[1816.7807667525776,1816.7807667525776],\"type\":\"scatter\"},{\"line\":{\"color\":\"blue\",\"width\":2},\"mode\":\"lines+markers\",\"showlegend\":false,\"x\":[0.0,10.0],\"y\":[1820.924613402062,1820.924613402062],\"type\":\"scatter\"},{\"line\":{\"color\":\"blue\",\"width\":2},\"mode\":\"lines+markers\",\"showlegend\":false,\"x\":[0.0,10.0],\"y\":[1822.7005476804125,1822.7005476804125],\"type\":\"scatter\"},{\"line\":{\"color\":\"blue\",\"width\":2},\"mode\":\"lines+markers\",\"showlegend\":false,\"x\":[0.0,10.0],\"y\":[1826.2524162371133,1826.2524162371133],\"type\":\"scatter\"},{\"line\":{\"color\":\"blue\",\"width\":2},\"mode\":\"lines+markers\",\"showlegend\":false,\"x\":[0.0,10.0],\"y\":[1926.8886920103096,1926.8886920103096],\"type\":\"scatter\"},{\"line\":{\"color\":\"blue\",\"width\":2},\"mode\":\"lines+markers\",\"showlegend\":false,\"x\":[0.0,10.0],\"y\":[1930.4405605670104,1930.4405605670104],\"type\":\"scatter\"},{\"line\":{\"color\":\"blue\",\"width\":2},\"mode\":\"lines+markers\",\"showlegend\":false,\"x\":[0.0,10.0],\"y\":[1972.47100515464,1972.47100515464],\"type\":\"scatter\"},{\"line\":{\"color\":\"blue\",\"width\":2},\"mode\":\"lines+markers\",\"showlegend\":false,\"x\":[0.0,10.0],\"y\":[1976.0228737113405,1976.0228737113405],\"type\":\"scatter\"},{\"line\":{\"color\":\"blue\",\"width\":2},\"mode\":\"lines+markers\",\"showlegend\":false,\"x\":[0.0,10.0],\"y\":[1981.9426546391755,1981.9426546391755],\"type\":\"scatter\"}],                        {\"template\":{\"data\":{\"barpolar\":[{\"marker\":{\"line\":{\"color\":\"white\",\"width\":0.5},\"pattern\":{\"fillmode\":\"overlay\",\"size\":10,\"solidity\":0.2}},\"type\":\"barpolar\"}],\"bar\":[{\"error_x\":{\"color\":\"#2a3f5f\"},\"error_y\":{\"color\":\"#2a3f5f\"},\"marker\":{\"line\":{\"color\":\"white\",\"width\":0.5},\"pattern\":{\"fillmode\":\"overlay\",\"size\":10,\"solidity\":0.2}},\"type\":\"bar\"}],\"carpet\":[{\"aaxis\":{\"endlinecolor\":\"#2a3f5f\",\"gridcolor\":\"#C8D4E3\",\"linecolor\":\"#C8D4E3\",\"minorgridcolor\":\"#C8D4E3\",\"startlinecolor\":\"#2a3f5f\"},\"baxis\":{\"endlinecolor\":\"#2a3f5f\",\"gridcolor\":\"#C8D4E3\",\"linecolor\":\"#C8D4E3\",\"minorgridcolor\":\"#C8D4E3\",\"startlinecolor\":\"#2a3f5f\"},\"type\":\"carpet\"}],\"choropleth\":[{\"colorbar\":{\"outlinewidth\":0,\"ticks\":\"\"},\"type\":\"choropleth\"}],\"contourcarpet\":[{\"colorbar\":{\"outlinewidth\":0,\"ticks\":\"\"},\"type\":\"contourcarpet\"}],\"contour\":[{\"colorbar\":{\"outlinewidth\":0,\"ticks\":\"\"},\"colorscale\":[[0.0,\"#0d0887\"],[0.1111111111111111,\"#46039f\"],[0.2222222222222222,\"#7201a8\"],[0.3333333333333333,\"#9c179e\"],[0.4444444444444444,\"#bd3786\"],[0.5555555555555556,\"#d8576b\"],[0.6666666666666666,\"#ed7953\"],[0.7777777777777778,\"#fb9f3a\"],[0.8888888888888888,\"#fdca26\"],[1.0,\"#f0f921\"]],\"type\":\"contour\"}],\"heatmapgl\":[{\"colorbar\":{\"outlinewidth\":0,\"ticks\":\"\"},\"colorscale\":[[0.0,\"#0d0887\"],[0.1111111111111111,\"#46039f\"],[0.2222222222222222,\"#7201a8\"],[0.3333333333333333,\"#9c179e\"],[0.4444444444444444,\"#bd3786\"],[0.5555555555555556,\"#d8576b\"],[0.6666666666666666,\"#ed7953\"],[0.7777777777777778,\"#fb9f3a\"],[0.8888888888888888,\"#fdca26\"],[1.0,\"#f0f921\"]],\"type\":\"heatmapgl\"}],\"heatmap\":[{\"colorbar\":{\"outlinewidth\":0,\"ticks\":\"\"},\"colorscale\":[[0.0,\"#0d0887\"],[0.1111111111111111,\"#46039f\"],[0.2222222222222222,\"#7201a8\"],[0.3333333333333333,\"#9c179e\"],[0.4444444444444444,\"#bd3786\"],[0.5555555555555556,\"#d8576b\"],[0.6666666666666666,\"#ed7953\"],[0.7777777777777778,\"#fb9f3a\"],[0.8888888888888888,\"#fdca26\"],[1.0,\"#f0f921\"]],\"type\":\"heatmap\"}],\"histogram2dcontour\":[{\"colorbar\":{\"outlinewidth\":0,\"ticks\":\"\"},\"colorscale\":[[0.0,\"#0d0887\"],[0.1111111111111111,\"#46039f\"],[0.2222222222222222,\"#7201a8\"],[0.3333333333333333,\"#9c179e\"],[0.4444444444444444,\"#bd3786\"],[0.5555555555555556,\"#d8576b\"],[0.6666666666666666,\"#ed7953\"],[0.7777777777777778,\"#fb9f3a\"],[0.8888888888888888,\"#fdca26\"],[1.0,\"#f0f921\"]],\"type\":\"histogram2dcontour\"}],\"histogram2d\":[{\"colorbar\":{\"outlinewidth\":0,\"ticks\":\"\"},\"colorscale\":[[0.0,\"#0d0887\"],[0.1111111111111111,\"#46039f\"],[0.2222222222222222,\"#7201a8\"],[0.3333333333333333,\"#9c179e\"],[0.4444444444444444,\"#bd3786\"],[0.5555555555555556,\"#d8576b\"],[0.6666666666666666,\"#ed7953\"],[0.7777777777777778,\"#fb9f3a\"],[0.8888888888888888,\"#fdca26\"],[1.0,\"#f0f921\"]],\"type\":\"histogram2d\"}],\"histogram\":[{\"marker\":{\"pattern\":{\"fillmode\":\"overlay\",\"size\":10,\"solidity\":0.2}},\"type\":\"histogram\"}],\"mesh3d\":[{\"colorbar\":{\"outlinewidth\":0,\"ticks\":\"\"},\"type\":\"mesh3d\"}],\"parcoords\":[{\"line\":{\"colorbar\":{\"outlinewidth\":0,\"ticks\":\"\"}},\"type\":\"parcoords\"}],\"pie\":[{\"automargin\":true,\"type\":\"pie\"}],\"scatter3d\":[{\"line\":{\"colorbar\":{\"outlinewidth\":0,\"ticks\":\"\"}},\"marker\":{\"colorbar\":{\"outlinewidth\":0,\"ticks\":\"\"}},\"type\":\"scatter3d\"}],\"scattercarpet\":[{\"marker\":{\"colorbar\":{\"outlinewidth\":0,\"ticks\":\"\"}},\"type\":\"scattercarpet\"}],\"scattergeo\":[{\"marker\":{\"colorbar\":{\"outlinewidth\":0,\"ticks\":\"\"}},\"type\":\"scattergeo\"}],\"scattergl\":[{\"marker\":{\"colorbar\":{\"outlinewidth\":0,\"ticks\":\"\"}},\"type\":\"scattergl\"}],\"scattermapbox\":[{\"marker\":{\"colorbar\":{\"outlinewidth\":0,\"ticks\":\"\"}},\"type\":\"scattermapbox\"}],\"scatterpolargl\":[{\"marker\":{\"colorbar\":{\"outlinewidth\":0,\"ticks\":\"\"}},\"type\":\"scatterpolargl\"}],\"scatterpolar\":[{\"marker\":{\"colorbar\":{\"outlinewidth\":0,\"ticks\":\"\"}},\"type\":\"scatterpolar\"}],\"scatter\":[{\"fillpattern\":{\"fillmode\":\"overlay\",\"size\":10,\"solidity\":0.2},\"type\":\"scatter\"}],\"scatterternary\":[{\"marker\":{\"colorbar\":{\"outlinewidth\":0,\"ticks\":\"\"}},\"type\":\"scatterternary\"}],\"surface\":[{\"colorbar\":{\"outlinewidth\":0,\"ticks\":\"\"},\"colorscale\":[[0.0,\"#0d0887\"],[0.1111111111111111,\"#46039f\"],[0.2222222222222222,\"#7201a8\"],[0.3333333333333333,\"#9c179e\"],[0.4444444444444444,\"#bd3786\"],[0.5555555555555556,\"#d8576b\"],[0.6666666666666666,\"#ed7953\"],[0.7777777777777778,\"#fb9f3a\"],[0.8888888888888888,\"#fdca26\"],[1.0,\"#f0f921\"]],\"type\":\"surface\"}],\"table\":[{\"cells\":{\"fill\":{\"color\":\"#EBF0F8\"},\"line\":{\"color\":\"white\"}},\"header\":{\"fill\":{\"color\":\"#C8D4E3\"},\"line\":{\"color\":\"white\"}},\"type\":\"table\"}]},\"layout\":{\"annotationdefaults\":{\"arrowcolor\":\"#2a3f5f\",\"arrowhead\":0,\"arrowwidth\":1},\"autotypenumbers\":\"strict\",\"coloraxis\":{\"colorbar\":{\"outlinewidth\":0,\"ticks\":\"\"}},\"colorscale\":{\"diverging\":[[0,\"#8e0152\"],[0.1,\"#c51b7d\"],[0.2,\"#de77ae\"],[0.3,\"#f1b6da\"],[0.4,\"#fde0ef\"],[0.5,\"#f7f7f7\"],[0.6,\"#e6f5d0\"],[0.7,\"#b8e186\"],[0.8,\"#7fbc41\"],[0.9,\"#4d9221\"],[1,\"#276419\"]],\"sequential\":[[0.0,\"#0d0887\"],[0.1111111111111111,\"#46039f\"],[0.2222222222222222,\"#7201a8\"],[0.3333333333333333,\"#9c179e\"],[0.4444444444444444,\"#bd3786\"],[0.5555555555555556,\"#d8576b\"],[0.6666666666666666,\"#ed7953\"],[0.7777777777777778,\"#fb9f3a\"],[0.8888888888888888,\"#fdca26\"],[1.0,\"#f0f921\"]],\"sequentialminus\":[[0.0,\"#0d0887\"],[0.1111111111111111,\"#46039f\"],[0.2222222222222222,\"#7201a8\"],[0.3333333333333333,\"#9c179e\"],[0.4444444444444444,\"#bd3786\"],[0.5555555555555556,\"#d8576b\"],[0.6666666666666666,\"#ed7953\"],[0.7777777777777778,\"#fb9f3a\"],[0.8888888888888888,\"#fdca26\"],[1.0,\"#f0f921\"]]},\"colorway\":[\"#636efa\",\"#EF553B\",\"#00cc96\",\"#ab63fa\",\"#FFA15A\",\"#19d3f3\",\"#FF6692\",\"#B6E880\",\"#FF97FF\",\"#FECB52\"],\"font\":{\"color\":\"#2a3f5f\"},\"geo\":{\"bgcolor\":\"white\",\"lakecolor\":\"white\",\"landcolor\":\"white\",\"showlakes\":true,\"showland\":true,\"subunitcolor\":\"#C8D4E3\"},\"hoverlabel\":{\"align\":\"left\"},\"hovermode\":\"closest\",\"mapbox\":{\"style\":\"light\"},\"paper_bgcolor\":\"white\",\"plot_bgcolor\":\"white\",\"polar\":{\"angularaxis\":{\"gridcolor\":\"#EBF0F8\",\"linecolor\":\"#EBF0F8\",\"ticks\":\"\"},\"bgcolor\":\"white\",\"radialaxis\":{\"gridcolor\":\"#EBF0F8\",\"linecolor\":\"#EBF0F8\",\"ticks\":\"\"}},\"scene\":{\"xaxis\":{\"backgroundcolor\":\"white\",\"gridcolor\":\"#DFE8F3\",\"gridwidth\":2,\"linecolor\":\"#EBF0F8\",\"showbackground\":true,\"ticks\":\"\",\"zerolinecolor\":\"#EBF0F8\"},\"yaxis\":{\"backgroundcolor\":\"white\",\"gridcolor\":\"#DFE8F3\",\"gridwidth\":2,\"linecolor\":\"#EBF0F8\",\"showbackground\":true,\"ticks\":\"\",\"zerolinecolor\":\"#EBF0F8\"},\"zaxis\":{\"backgroundcolor\":\"white\",\"gridcolor\":\"#DFE8F3\",\"gridwidth\":2,\"linecolor\":\"#EBF0F8\",\"showbackground\":true,\"ticks\":\"\",\"zerolinecolor\":\"#EBF0F8\"}},\"shapedefaults\":{\"line\":{\"color\":\"#2a3f5f\"}},\"ternary\":{\"aaxis\":{\"gridcolor\":\"#DFE8F3\",\"linecolor\":\"#A2B1C6\",\"ticks\":\"\"},\"baxis\":{\"gridcolor\":\"#DFE8F3\",\"linecolor\":\"#A2B1C6\",\"ticks\":\"\"},\"bgcolor\":\"white\",\"caxis\":{\"gridcolor\":\"#DFE8F3\",\"linecolor\":\"#A2B1C6\",\"ticks\":\"\"}},\"title\":{\"x\":0.05},\"xaxis\":{\"automargin\":true,\"gridcolor\":\"#EBF0F8\",\"linecolor\":\"#EBF0F8\",\"ticks\":\"\",\"title\":{\"standoff\":15},\"zerolinecolor\":\"#EBF0F8\",\"zerolinewidth\":2},\"yaxis\":{\"automargin\":true,\"gridcolor\":\"#EBF0F8\",\"linecolor\":\"#EBF0F8\",\"ticks\":\"\",\"title\":{\"standoff\":15},\"zerolinecolor\":\"#EBF0F8\",\"zerolinewidth\":2}}},\"title\":{\"text\":\"Time vs Frequency for Each Event\"},\"xaxis\":{\"title\":{\"text\":\"Time (s)\"}},\"yaxis\":{\"title\":{\"text\":\"Frequency\"}},\"showlegend\":false,\"width\":900,\"height\":1200},                        {\"responsive\": true}                    ).then(function(){\n",
       "                            \n",
       "var gd = document.getElementById('c59d0c2e-1cba-4d9c-b41a-c56285333328');\n",
       "var x = new MutationObserver(function (mutations, observer) {{\n",
       "        var display = window.getComputedStyle(gd).display;\n",
       "        if (!display || display === 'none') {{\n",
       "            console.log([gd, 'removed!']);\n",
       "            Plotly.purge(gd);\n",
       "            observer.disconnect();\n",
       "        }}\n",
       "}});\n",
       "\n",
       "// Listen for the removal of the full notebook cells\n",
       "var notebookContainer = gd.closest('#notebook-container');\n",
       "if (notebookContainer) {{\n",
       "    x.observe(notebookContainer, {childList: true});\n",
       "}}\n",
       "\n",
       "// Listen for the clearing of the current output cell\n",
       "var outputEl = gd.closest('.output');\n",
       "if (outputEl) {{\n",
       "    x.observe(outputEl, {childList: true});\n",
       "}}\n",
       "\n",
       "                        })                };                });            </script>        </div>"
      ]
     },
     "metadata": {},
     "output_type": "display_data"
    }
   ],
   "source": [
    "import pandas as pd\n",
    "import plotly.graph_objects as go\n",
    "\n",
    "# Load data from TSV\n",
    "df = pd.read_csv('testdf.tsv', delimiter='\\t')\n",
    "\n",
    "# Create a blank figure\n",
    "fig = go.Figure()\n",
    "\n",
    "# Plot each line segment for each event\n",
    "for index, row in df.iterrows():\n",
    "    fig.add_trace(go.Scatter(x=[row['time_start'], row['time_stop']],\n",
    "                             y=[row['freq_start'], row['freq_stop']],\n",
    "                             mode='lines+markers',\n",
    "                             line=dict(width=2, color='blue'),\n",
    "                             showlegend=False))\n",
    "\n",
    "# Update layout\n",
    "fig.update_layout(\n",
    "    title='Time vs Frequency for Each Event',\n",
    "    xaxis_title='Time (s)',\n",
    "    yaxis_title='Frequency',\n",
    "    template='plotly_white',\n",
    "    showlegend=False,\n",
    "    width=900,  # Adjust as needed\n",
    "    height=1200  # Increase this value for more space on the y-axis\n",
    ")\n",
    "\n",
    "display(df)\n",
    "\n",
    "# Show figure\n",
    "fig.show()\n"
   ]
  },
  {
   "cell_type": "code",
   "execution_count": 3,
   "id": "059cc560-4c68-4848-a74d-f547dd2b9a0f",
   "metadata": {},
   "outputs": [
    {
     "data": {
      "application/vnd.plotly.v1+json": {
       "config": {
        "plotlyServerURL": "https://plot.ly"
       },
       "data": [
        {
         "line": {
          "color": "blue",
          "width": 2
         },
         "mode": "lines+markers",
         "showlegend": false,
         "type": "scatter",
         "x": [
          0,
          10
         ],
         "y": [
          63.341655927835056,
          63.341655927835056
         ]
        },
        {
         "line": {
          "color": "blue",
          "width": 2
         },
         "mode": "lines+markers",
         "showlegend": false,
         "type": "scatter",
         "x": [
          0,
          10
         ],
         "y": [
          75.77319587628867,
          75.77319587628867
         ]
        },
        {
         "line": {
          "color": "blue",
          "width": 2
         },
         "mode": "lines+markers",
         "showlegend": false,
         "type": "scatter",
         "x": [
          0,
          10
         ],
         "y": [
          100.63627577319588,
          100.63627577319588
         ]
        },
        {
         "line": {
          "color": "blue",
          "width": 2
         },
         "mode": "lines+markers",
         "showlegend": false,
         "type": "scatter",
         "x": [
          0,
          10
         ],
         "y": [
          114.84375,
          114.84375
         ]
        },
        {
         "line": {
          "color": "blue",
          "width": 2
         },
         "mode": "lines+markers",
         "showlegend": false,
         "type": "scatter",
         "x": [
          0,
          10
         ],
         "y": [
          126.68331185567013,
          126.68331185567013
         ]
        },
        {
         "line": {
          "color": "blue",
          "width": 2
         },
         "mode": "lines+markers",
         "showlegend": false,
         "type": "scatter",
         "x": [
          0,
          10
         ],
         "y": [
          140.29880798969074,
          140.29880798969074
         ]
        },
        {
         "line": {
          "color": "blue",
          "width": 2
         },
         "mode": "lines+markers",
         "showlegend": false,
         "type": "scatter",
         "x": [
          0,
          10
         ],
         "y": [
          154.50628221649487,
          154.50628221649487
         ]
        },
        {
         "line": {
          "color": "blue",
          "width": 2
         },
         "mode": "lines+markers",
         "showlegend": false,
         "type": "scatter",
         "x": [
          0,
          10
         ],
         "y": [
          163.97793170103094,
          163.97793170103094
         ]
        },
        {
         "line": {
          "color": "blue",
          "width": 2
         },
         "mode": "lines+markers",
         "showlegend": false,
         "type": "scatter",
         "x": [
          0,
          10
         ],
         "y": [
          169.897712628866,
          169.897712628866
         ]
        },
        {
         "line": {
          "color": "blue",
          "width": 2
         },
         "mode": "lines+markers",
         "showlegend": false,
         "type": "scatter",
         "x": [
          0,
          10
         ],
         "y": [
          176.40947164948454,
          176.40947164948454
         ]
        },
        {
         "line": {
          "color": "blue",
          "width": 2
         },
         "mode": "lines+markers",
         "showlegend": false,
         "type": "scatter",
         "x": [
          0,
          10
         ],
         "y": [
          181.7372744845361,
          181.7372744845361
         ]
        },
        {
         "line": {
          "color": "blue",
          "width": 2
         },
         "mode": "lines+markers",
         "showlegend": false,
         "type": "scatter",
         "x": [
          0,
          10
         ],
         "y": [
          189.43298969072168,
          189.43298969072168
         ]
        },
        {
         "line": {
          "color": "blue",
          "width": 2
         },
         "mode": "lines+markers",
         "showlegend": false,
         "type": "scatter",
         "x": [
          0,
          10
         ],
         "y": [
          194.1688144329897,
          194.1688144329897
         ]
        },
        {
         "line": {
          "color": "blue",
          "width": 2
         },
         "mode": "lines+markers",
         "showlegend": false,
         "type": "scatter",
         "x": [
          0,
          10
         ],
         "y": [
          200.0885953608248,
          200.0885953608248
         ]
        },
        {
         "line": {
          "color": "blue",
          "width": 2
         },
         "mode": "lines+markers",
         "showlegend": false,
         "type": "scatter",
         "x": [
          0,
          10
         ],
         "y": [
          203.0484858247423,
          203.0484858247423
         ]
        },
        {
         "line": {
          "color": "blue",
          "width": 2
         },
         "mode": "lines+markers",
         "showlegend": false,
         "type": "scatter",
         "x": [
          0,
          10
         ],
         "y": [
          210.15222293814435,
          210.15222293814435
         ]
        },
        {
         "line": {
          "color": "blue",
          "width": 2
         },
         "mode": "lines+markers",
         "showlegend": false,
         "type": "scatter",
         "x": [
          0,
          10
         ],
         "y": [
          212.5201353092784,
          212.5201353092784
         ]
        },
        {
         "line": {
          "color": "blue",
          "width": 2
         },
         "mode": "lines+markers",
         "showlegend": false,
         "type": "scatter",
         "x": [
          0,
          10
         ],
         "y": [
          218.43991623711344,
          218.43991623711344
         ]
        },
        {
         "line": {
          "color": "blue",
          "width": 2
         },
         "mode": "lines+markers",
         "showlegend": false,
         "type": "scatter",
         "x": [
          0,
          10
         ],
         "y": [
          229.0955219072165,
          229.0955219072165
         ]
        },
        {
         "line": {
          "color": "blue",
          "width": 2
         },
         "mode": "lines+markers",
         "showlegend": false,
         "type": "scatter",
         "x": [
          0,
          10
         ],
         "y": [
          239.1591494845361,
          239.1591494845361
         ]
        },
        {
         "line": {
          "color": "blue",
          "width": 2
         },
         "mode": "lines+markers",
         "showlegend": false,
         "type": "scatter",
         "x": [
          0,
          10
         ],
         "y": [
          249.2227770618557,
          249.2227770618557
         ]
        },
        {
         "line": {
          "color": "blue",
          "width": 2
         },
         "mode": "lines+markers",
         "showlegend": false,
         "type": "scatter",
         "x": [
          0,
          10
         ],
         "y": [
          260.4703608247423,
          260.4703608247423
         ]
        },
        {
         "line": {
          "color": "blue",
          "width": 2
         },
         "mode": "lines+markers",
         "showlegend": false,
         "type": "scatter",
         "x": [
          0,
          10
         ],
         "y": [
          263.4302512886598,
          263.4302512886598
         ]
        },
        {
         "line": {
          "color": "blue",
          "width": 2
         },
         "mode": "lines+markers",
         "showlegend": false,
         "type": "scatter",
         "x": [
          0,
          10
         ],
         "y": [
          266.39014175257734,
          266.39014175257734
         ]
        },
        {
         "line": {
          "color": "blue",
          "width": 2
         },
         "mode": "lines+markers",
         "showlegend": false,
         "type": "scatter",
         "x": [
          0,
          10
         ],
         "y": [
          273.4938788659794,
          273.4938788659794
         ]
        },
        {
         "line": {
          "color": "blue",
          "width": 2
         },
         "mode": "lines+markers",
         "showlegend": false,
         "type": "scatter",
         "x": [
          0,
          10
         ],
         "y": [
          278.22970360824746,
          278.22970360824746
         ]
        },
        {
         "line": {
          "color": "blue",
          "width": 2
         },
         "mode": "lines+markers",
         "showlegend": false,
         "type": "scatter",
         "x": [
          0,
          10
         ],
         "y": [
          282.9655283505155,
          282.9655283505155
         ]
        },
        {
         "line": {
          "color": "blue",
          "width": 2
         },
         "mode": "lines+markers",
         "showlegend": false,
         "type": "scatter",
         "x": [
          0,
          10
         ],
         "y": [
          293.02915592783506,
          293.02915592783506
         ]
        },
        {
         "line": {
          "color": "blue",
          "width": 2
         },
         "mode": "lines+markers",
         "showlegend": false,
         "type": "scatter",
         "x": [
          0,
          10
         ],
         "y": [
          300.72487113402065,
          300.72487113402065
         ]
        },
        {
         "line": {
          "color": "blue",
          "width": 2
         },
         "mode": "lines+markers",
         "showlegend": false,
         "type": "scatter",
         "x": [
          0,
          10
         ],
         "y": [
          321.4441043814433,
          321.4441043814433
         ]
        },
        {
         "line": {
          "color": "blue",
          "width": 2
         },
         "mode": "lines+markers",
         "showlegend": false,
         "type": "scatter",
         "x": [
          0,
          10
         ],
         "y": [
          333.87564432989694,
          333.87564432989694
         ]
        },
        {
         "line": {
          "color": "blue",
          "width": 2
         },
         "mode": "lines+markers",
         "showlegend": false,
         "type": "scatter",
         "x": [
          0,
          10
         ],
         "y": [
          339.2034471649485,
          339.2034471649485
         ]
        },
        {
         "line": {
          "color": "blue",
          "width": 2
         },
         "mode": "lines+markers",
         "showlegend": false,
         "type": "scatter",
         "x": [
          0,
          10
         ],
         "y": [
          345.71520618556707,
          345.71520618556707
         ]
        },
        {
         "line": {
          "color": "blue",
          "width": 2
         },
         "mode": "lines+markers",
         "showlegend": false,
         "type": "scatter",
         "x": [
          0,
          10
         ],
         "y": [
          347.4911404639176,
          347.4911404639176
         ]
        },
        {
         "line": {
          "color": "blue",
          "width": 2
         },
         "mode": "lines+markers",
         "showlegend": false,
         "type": "scatter",
         "x": [
          0,
          10
         ],
         "y": [
          356.96278994845363,
          356.96278994845363
         ]
        },
        {
         "line": {
          "color": "blue",
          "width": 2
         },
         "mode": "lines+markers",
         "showlegend": false,
         "type": "scatter",
         "x": [
          0,
          10
         ],
         "y": [
          362.8825708762887,
          362.8825708762887
         ]
        },
        {
         "line": {
          "color": "blue",
          "width": 2
         },
         "mode": "lines+markers",
         "showlegend": false,
         "type": "scatter",
         "x": [
          0,
          10
         ],
         "y": [
          369.9863079896908,
          369.9863079896908
         ]
        },
        {
         "line": {
          "color": "blue",
          "width": 2
         },
         "mode": "lines+markers",
         "showlegend": false,
         "type": "scatter",
         "x": [
          0,
          10
         ],
         "y": [
          378.86597938144337,
          378.86597938144337
         ]
        },
        {
         "line": {
          "color": "blue",
          "width": 2
         },
         "mode": "lines+markers",
         "showlegend": false,
         "type": "scatter",
         "x": [
          0,
          10
         ],
         "y": [
          384.19378221649487,
          384.19378221649487
         ]
        },
        {
         "line": {
          "color": "blue",
          "width": 2
         },
         "mode": "lines+markers",
         "showlegend": false,
         "type": "scatter",
         "x": [
          0,
          10
         ],
         "y": [
          390.70554123711344,
          390.70554123711344
         ]
        },
        {
         "line": {
          "color": "blue",
          "width": 2
         },
         "mode": "lines+markers",
         "showlegend": false,
         "type": "scatter",
         "x": [
          0,
          10
         ],
         "y": [
          393.66543170103097,
          393.66543170103097
         ]
        },
        {
         "line": {
          "color": "blue",
          "width": 2
         },
         "mode": "lines+markers",
         "showlegend": false,
         "type": "scatter",
         "x": [
          0,
          10
         ],
         "y": [
          397.8092783505155,
          397.8092783505155
         ]
        },
        {
         "line": {
          "color": "blue",
          "width": 2
         },
         "mode": "lines+markers",
         "showlegend": false,
         "type": "scatter",
         "x": [
          0,
          10
         ],
         "y": [
          404.9130154639176,
          404.9130154639176
         ]
        },
        {
         "line": {
          "color": "blue",
          "width": 2
         },
         "mode": "lines+markers",
         "showlegend": false,
         "type": "scatter",
         "x": [
          0,
          10
         ],
         "y": [
          413.7926868556701,
          413.7926868556701
         ]
        },
        {
         "line": {
          "color": "blue",
          "width": 2
         },
         "mode": "lines+markers",
         "showlegend": false,
         "type": "scatter",
         "x": [
          0,
          10
         ],
         "y": [
          436.8798324742269,
          436.8798324742269
         ]
        },
        {
         "line": {
          "color": "blue",
          "width": 2
         },
         "mode": "lines+markers",
         "showlegend": false,
         "type": "scatter",
         "x": [
          0,
          10
         ],
         "y": [
          448.12741623711344,
          448.12741623711344
         ]
        },
        {
         "line": {
          "color": "blue",
          "width": 2
         },
         "mode": "lines+markers",
         "showlegend": false,
         "type": "scatter",
         "x": [
          0,
          10
         ],
         "y": [
          457.5990657216496,
          457.5990657216496
         ]
        },
        {
         "line": {
          "color": "blue",
          "width": 2
         },
         "mode": "lines+markers",
         "showlegend": false,
         "type": "scatter",
         "x": [
          0,
          10
         ],
         "y": [
          464.1108247422681,
          464.1108247422681
         ]
        },
        {
         "line": {
          "color": "blue",
          "width": 2
         },
         "mode": "lines+markers",
         "showlegend": false,
         "type": "scatter",
         "x": [
          0,
          10
         ],
         "y": [
          470.0306056701031,
          470.0306056701031
         ]
        },
        {
         "line": {
          "color": "blue",
          "width": 2
         },
         "mode": "lines+markers",
         "showlegend": false,
         "type": "scatter",
         "x": [
          0,
          10
         ],
         "y": [
          476.5423646907217,
          476.5423646907217
         ]
        },
        {
         "line": {
          "color": "blue",
          "width": 2
         },
         "mode": "lines+markers",
         "showlegend": false,
         "type": "scatter",
         "x": [
          0,
          10
         ],
         "y": [
          484.8300579896908,
          484.8300579896908
         ]
        },
        {
         "line": {
          "color": "blue",
          "width": 2
         },
         "mode": "lines+markers",
         "showlegend": false,
         "type": "scatter",
         "x": [
          0,
          10
         ],
         "y": [
          490.15786082474233,
          490.15786082474233
         ]
        },
        {
         "line": {
          "color": "blue",
          "width": 2
         },
         "mode": "lines+markers",
         "showlegend": false,
         "type": "scatter",
         "x": [
          0,
          10
         ],
         "y": [
          497.2615979381444,
          497.2615979381444
         ]
        },
        {
         "line": {
          "color": "blue",
          "width": 2
         },
         "mode": "lines+markers",
         "showlegend": false,
         "type": "scatter",
         "x": [
          0,
          10
         ],
         "y": [
          508.50918170103097,
          508.50918170103097
         ]
        },
        {
         "line": {
          "color": "blue",
          "width": 2
         },
         "mode": "lines+markers",
         "showlegend": false,
         "type": "scatter",
         "x": [
          0,
          10
         ],
         "y": [
          518.5728092783505,
          518.5728092783505
         ]
        },
        {
         "line": {
          "color": "blue",
          "width": 2
         },
         "mode": "lines+markers",
         "showlegend": false,
         "type": "scatter",
         "x": [
          0,
          10
         ],
         "y": [
          527.4524806701031,
          527.4524806701031
         ]
        },
        {
         "line": {
          "color": "blue",
          "width": 2
         },
         "mode": "lines+markers",
         "showlegend": false,
         "type": "scatter",
         "x": [
          0,
          10
         ],
         "y": [
          533.3722615979382,
          533.3722615979382
         ]
        },
        {
         "line": {
          "color": "blue",
          "width": 2
         },
         "mode": "lines+markers",
         "showlegend": false,
         "type": "scatter",
         "x": [
          0,
          10
         ],
         "y": [
          541.0679768041238,
          541.0679768041238
         ]
        },
        {
         "line": {
          "color": "blue",
          "width": 2
         },
         "mode": "lines+markers",
         "showlegend": false,
         "type": "scatter",
         "x": [
          0,
          10
         ],
         "y": [
          546.9877577319588,
          546.9877577319588
         ]
        },
        {
         "line": {
          "color": "blue",
          "width": 2
         },
         "mode": "lines+markers",
         "showlegend": false,
         "type": "scatter",
         "x": [
          0,
          10
         ],
         "y": [
          549.9476481958764,
          549.9476481958764
         ]
        },
        {
         "line": {
          "color": "blue",
          "width": 2
         },
         "mode": "lines+markers",
         "showlegend": false,
         "type": "scatter",
         "x": [
          0,
          10
         ],
         "y": [
          558.827319587629,
          558.827319587629
         ]
        },
        {
         "line": {
          "color": "blue",
          "width": 2
         },
         "mode": "lines+markers",
         "showlegend": false,
         "type": "scatter",
         "x": [
          0,
          10
         ],
         "y": [
          570.0749033505156,
          570.0749033505156
         ]
        },
        {
         "line": {
          "color": "blue",
          "width": 2
         },
         "mode": "lines+markers",
         "showlegend": false,
         "type": "scatter",
         "x": [
          0,
          10
         ],
         "y": [
          575.9946842783505,
          575.9946842783505
         ]
        },
        {
         "line": {
          "color": "blue",
          "width": 2
         },
         "mode": "lines+markers",
         "showlegend": false,
         "type": "scatter",
         "x": [
          0,
          10
         ],
         "y": [
          584.8743556701031,
          584.8743556701031
         ]
        },
        {
         "line": {
          "color": "blue",
          "width": 2
         },
         "mode": "lines+markers",
         "showlegend": false,
         "type": "scatter",
         "x": [
          0,
          10
         ],
         "y": [
          599.0818298969073,
          599.0818298969073
         ]
        },
        {
         "line": {
          "color": "blue",
          "width": 2
         },
         "mode": "lines+markers",
         "showlegend": false,
         "type": "scatter",
         "x": [
          0,
          10
         ],
         "y": [
          615.6572164948454,
          615.6572164948454
         ]
        },
        {
         "line": {
          "color": "blue",
          "width": 2
         },
         "mode": "lines+markers",
         "showlegend": false,
         "type": "scatter",
         "x": [
          0,
          10
         ],
         "y": [
          618.617106958763,
          618.617106958763
         ]
        },
        {
         "line": {
          "color": "blue",
          "width": 2
         },
         "mode": "lines+markers",
         "showlegend": false,
         "type": "scatter",
         "x": [
          0,
          10
         ],
         "y": [
          629.8646907216496,
          629.8646907216496
         ]
        },
        {
         "line": {
          "color": "blue",
          "width": 2
         },
         "mode": "lines+markers",
         "showlegend": false,
         "type": "scatter",
         "x": [
          0,
          10
         ],
         "y": [
          633.4165592783506,
          633.4165592783506
         ]
        },
        {
         "line": {
          "color": "blue",
          "width": 2
         },
         "mode": "lines+markers",
         "showlegend": false,
         "type": "scatter",
         "x": [
          0,
          10
         ],
         "y": [
          638.7443621134021,
          638.7443621134021
         ]
        },
        {
         "line": {
          "color": "blue",
          "width": 2
         },
         "mode": "lines+markers",
         "showlegend": false,
         "type": "scatter",
         "x": [
          0,
          10
         ],
         "y": [
          643.4801868556701,
          643.4801868556701
         ]
        },
        {
         "line": {
          "color": "blue",
          "width": 2
         },
         "mode": "lines+markers",
         "showlegend": false,
         "type": "scatter",
         "x": [
          0,
          10
         ],
         "y": [
          649.3999677835052,
          649.3999677835052
         ]
        },
        {
         "line": {
          "color": "blue",
          "width": 2
         },
         "mode": "lines+markers",
         "showlegend": false,
         "type": "scatter",
         "x": [
          0,
          10
         ],
         "y": [
          657.0956829896908,
          657.0956829896908
         ]
        },
        {
         "line": {
          "color": "blue",
          "width": 2
         },
         "mode": "lines+markers",
         "showlegend": false,
         "type": "scatter",
         "x": [
          0,
          10
         ],
         "y": [
          661.2395296391753,
          661.2395296391753
         ]
        },
        {
         "line": {
          "color": "blue",
          "width": 2
         },
         "mode": "lines+markers",
         "showlegend": false,
         "type": "scatter",
         "x": [
          0,
          10
         ],
         "y": [
          696.7582152061857,
          696.7582152061857
         ]
        },
        {
         "line": {
          "color": "blue",
          "width": 2
         },
         "mode": "lines+markers",
         "showlegend": false,
         "type": "scatter",
         "x": [
          0,
          10
         ],
         "y": [
          701.4940399484536,
          701.4940399484536
         ]
        },
        {
         "line": {
          "color": "blue",
          "width": 2
         },
         "mode": "lines+markers",
         "showlegend": false,
         "type": "scatter",
         "x": [
          0,
          10
         ],
         "y": [
          710.3737113402062,
          710.3737113402062
         ]
        },
        {
         "line": {
          "color": "blue",
          "width": 2
         },
         "mode": "lines+markers",
         "showlegend": false,
         "type": "scatter",
         "x": [
          0,
          10
         ],
         "y": [
          721.6212951030928,
          721.6212951030928
         ]
        },
        {
         "line": {
          "color": "blue",
          "width": 2
         },
         "mode": "lines+markers",
         "showlegend": false,
         "type": "scatter",
         "x": [
          0,
          10
         ],
         "y": [
          729.9089884020619,
          729.9089884020619
         ]
        },
        {
         "line": {
          "color": "blue",
          "width": 2
         },
         "mode": "lines+markers",
         "showlegend": false,
         "type": "scatter",
         "x": [
          0,
          10
         ],
         "y": [
          742.9325064432991,
          742.9325064432991
         ]
        },
        {
         "line": {
          "color": "blue",
          "width": 2
         },
         "mode": "lines+markers",
         "showlegend": false,
         "type": "scatter",
         "x": [
          0,
          10
         ],
         "y": [
          744.7084407216496,
          744.7084407216496
         ]
        },
        {
         "line": {
          "color": "blue",
          "width": 2
         },
         "mode": "lines+markers",
         "showlegend": false,
         "type": "scatter",
         "x": [
          0,
          10
         ],
         "y": [
          748.2603092783506,
          748.2603092783506
         ]
        },
        {
         "line": {
          "color": "blue",
          "width": 2
         },
         "mode": "lines+markers",
         "showlegend": false,
         "type": "scatter",
         "x": [
          0,
          10
         ],
         "y": [
          776.6752577319588,
          776.6752577319588
         ]
        },
        {
         "line": {
          "color": "blue",
          "width": 2
         },
         "mode": "lines+markers",
         "showlegend": false,
         "type": "scatter",
         "x": [
          0,
          10
         ],
         "y": [
          796.2105347938145,
          796.2105347938145
         ]
        },
        {
         "line": {
          "color": "blue",
          "width": 2
         },
         "mode": "lines+markers",
         "showlegend": false,
         "type": "scatter",
         "x": [
          0,
          10
         ],
         "y": [
          798.5784471649486,
          798.5784471649486
         ]
        },
        {
         "line": {
          "color": "blue",
          "width": 2
         },
         "mode": "lines+markers",
         "showlegend": false,
         "type": "scatter",
         "x": [
          0,
          10
         ],
         "y": [
          803.9062500000001,
          803.9062500000001
         ]
        },
        {
         "line": {
          "color": "blue",
          "width": 2
         },
         "mode": "lines+markers",
         "showlegend": false,
         "type": "scatter",
         "x": [
          0,
          10
         ],
         "y": [
          807.4581185567012,
          807.4581185567012
         ]
        },
        {
         "line": {
          "color": "blue",
          "width": 2
         },
         "mode": "lines+markers",
         "showlegend": false,
         "type": "scatter",
         "x": [
          0,
          10
         ],
         "y": [
          825.2174613402062,
          825.2174613402062
         ]
        },
        {
         "line": {
          "color": "blue",
          "width": 2
         },
         "mode": "lines+markers",
         "showlegend": false,
         "type": "scatter",
         "x": [
          0,
          10
         ],
         "y": [
          833.5051546391753,
          833.5051546391753
         ]
        },
        {
         "line": {
          "color": "blue",
          "width": 2
         },
         "mode": "lines+markers",
         "showlegend": false,
         "type": "scatter",
         "x": [
          0,
          10
         ],
         "y": [
          836.4650451030928,
          836.4650451030928
         ]
        },
        {
         "line": {
          "color": "blue",
          "width": 2
         },
         "mode": "lines+markers",
         "showlegend": false,
         "type": "scatter",
         "x": [
          0,
          10
         ],
         "y": [
          841.7928479381444,
          841.7928479381444
         ]
        },
        {
         "line": {
          "color": "blue",
          "width": 2
         },
         "mode": "lines+markers",
         "showlegend": false,
         "type": "scatter",
         "x": [
          0,
          10
         ],
         "y": [
          848.304606958763,
          848.304606958763
         ]
        },
        {
         "line": {
          "color": "blue",
          "width": 2
         },
         "mode": "lines+markers",
         "showlegend": false,
         "type": "scatter",
         "x": [
          0,
          10
         ],
         "y": [
          856.5923002577321,
          856.5923002577321
         ]
        },
        {
         "line": {
          "color": "blue",
          "width": 2
         },
         "mode": "lines+markers",
         "showlegend": false,
         "type": "scatter",
         "x": [
          0,
          10
         ],
         "y": [
          864.8799935567012,
          864.8799935567012
         ]
        },
        {
         "line": {
          "color": "blue",
          "width": 2
         },
         "mode": "lines+markers",
         "showlegend": false,
         "type": "scatter",
         "x": [
          0,
          10
         ],
         "y": [
          867.2479059278352,
          867.2479059278352
         ]
        },
        {
         "line": {
          "color": "blue",
          "width": 2
         },
         "mode": "lines+markers",
         "showlegend": false,
         "type": "scatter",
         "x": [
          0,
          10
         ],
         "y": [
          873.7596649484537,
          873.7596649484537
         ]
        },
        {
         "line": {
          "color": "blue",
          "width": 2
         },
         "mode": "lines+markers",
         "showlegend": false,
         "type": "scatter",
         "x": [
          0,
          10
         ],
         "y": [
          885.5992268041238,
          885.5992268041238
         ]
        },
        {
         "line": {
          "color": "blue",
          "width": 2
         },
         "mode": "lines+markers",
         "showlegend": false,
         "type": "scatter",
         "x": [
          0,
          10
         ],
         "y": [
          893.2949420103093,
          893.2949420103093
         ]
        },
        {
         "line": {
          "color": "blue",
          "width": 2
         },
         "mode": "lines+markers",
         "showlegend": false,
         "type": "scatter",
         "x": [
          0,
          10
         ],
         "y": [
          910.462306701031,
          910.462306701031
         ]
        },
        {
         "line": {
          "color": "blue",
          "width": 2
         },
         "mode": "lines+markers",
         "showlegend": false,
         "type": "scatter",
         "x": [
          0,
          10
         ],
         "y": [
          914.6061533505156,
          914.6061533505156
         ]
        },
        {
         "line": {
          "color": "blue",
          "width": 2
         },
         "mode": "lines+markers",
         "showlegend": false,
         "type": "scatter",
         "x": [
          0,
          10
         ],
         "y": [
          919.9339561855672,
          919.9339561855672
         ]
        },
        {
         "line": {
          "color": "blue",
          "width": 2
         },
         "mode": "lines+markers",
         "showlegend": false,
         "type": "scatter",
         "x": [
          0,
          10
         ],
         "y": [
          922.8938466494848,
          922.8938466494848
         ]
        },
        {
         "line": {
          "color": "blue",
          "width": 2
         },
         "mode": "lines+markers",
         "showlegend": false,
         "type": "scatter",
         "x": [
          0,
          10
         ],
         "y": [
          932.3654961340208,
          932.3654961340208
         ]
        },
        {
         "line": {
          "color": "blue",
          "width": 2
         },
         "mode": "lines+markers",
         "showlegend": false,
         "type": "scatter",
         "x": [
          0,
          10
         ],
         "y": [
          938.2852770618558,
          938.2852770618558
         ]
        },
        {
         "line": {
          "color": "blue",
          "width": 2
         },
         "mode": "lines+markers",
         "showlegend": false,
         "type": "scatter",
         "x": [
          0,
          10
         ],
         "y": [
          941.8371456185567,
          941.8371456185567
         ]
        },
        {
         "line": {
          "color": "blue",
          "width": 2
         },
         "mode": "lines+markers",
         "showlegend": false,
         "type": "scatter",
         "x": [
          0,
          10
         ],
         "y": [
          951.9007731958764,
          951.9007731958764
         ]
        },
        {
         "line": {
          "color": "blue",
          "width": 2
         },
         "mode": "lines+markers",
         "showlegend": false,
         "type": "scatter",
         "x": [
          0,
          10
         ],
         "y": [
          961.964400773196,
          961.964400773196
         ]
        },
        {
         "line": {
          "color": "blue",
          "width": 2
         },
         "mode": "lines+markers",
         "showlegend": false,
         "type": "scatter",
         "x": [
          0,
          10
         ],
         "y": [
          972.6200064432992,
          972.6200064432992
         ]
        },
        {
         "line": {
          "color": "blue",
          "width": 2
         },
         "mode": "lines+markers",
         "showlegend": false,
         "type": "scatter",
         "x": [
          0,
          10
         ],
         "y": [
          974.9879188144332,
          974.9879188144332
         ]
        },
        {
         "line": {
          "color": "blue",
          "width": 2
         },
         "mode": "lines+markers",
         "showlegend": false,
         "type": "scatter",
         "x": [
          0,
          10
         ],
         "y": [
          983.8675902061856,
          983.8675902061856
         ]
        },
        {
         "line": {
          "color": "blue",
          "width": 2
         },
         "mode": "lines+markers",
         "showlegend": false,
         "type": "scatter",
         "x": [
          0,
          10
         ],
         "y": [
          989.1953930412373,
          989.1953930412373
         ]
        },
        {
         "line": {
          "color": "blue",
          "width": 2
         },
         "mode": "lines+markers",
         "showlegend": false,
         "type": "scatter",
         "x": [
          0,
          10
         ],
         "y": [
          995.1151739690724,
          995.1151739690724
         ]
        },
        {
         "line": {
          "color": "blue",
          "width": 2
         },
         "mode": "lines+markers",
         "showlegend": false,
         "type": "scatter",
         "x": [
          0,
          10
         ],
         "y": [
          1002.2189110824744,
          1002.2189110824744
         ]
        },
        {
         "line": {
          "color": "blue",
          "width": 2
         },
         "mode": "lines+markers",
         "showlegend": false,
         "type": "scatter",
         "x": [
          0,
          10
         ],
         "y": [
          1012.282538659794,
          1012.282538659794
         ]
        },
        {
         "line": {
          "color": "blue",
          "width": 2
         },
         "mode": "lines+markers",
         "showlegend": false,
         "type": "scatter",
         "x": [
          0,
          10
         ],
         "y": [
          1023.5301224226804,
          1023.5301224226804
         ]
        },
        {
         "line": {
          "color": "blue",
          "width": 2
         },
         "mode": "lines+markers",
         "showlegend": false,
         "type": "scatter",
         "x": [
          0,
          10
         ],
         "y": [
          1031.8178157216496,
          1031.8178157216496
         ]
        },
        {
         "line": {
          "color": "blue",
          "width": 2
         },
         "mode": "lines+markers",
         "showlegend": false,
         "type": "scatter",
         "x": [
          0,
          10
         ],
         "y": [
          1037.145618556701,
          1037.145618556701
         ]
        },
        {
         "line": {
          "color": "blue",
          "width": 2
         },
         "mode": "lines+markers",
         "showlegend": false,
         "type": "scatter",
         "x": [
          0,
          10
         ],
         "y": [
          1057.864851804124,
          1057.864851804124
         ]
        },
        {
         "line": {
          "color": "blue",
          "width": 2
         },
         "mode": "lines+markers",
         "showlegend": false,
         "type": "scatter",
         "x": [
          0,
          10
         ],
         "y": [
          1079.17606314433,
          1079.17606314433
         ]
        },
        {
         "line": {
          "color": "blue",
          "width": 2
         },
         "mode": "lines+markers",
         "showlegend": false,
         "type": "scatter",
         "x": [
          0,
          10
         ],
         "y": [
          1082.7279317010311,
          1082.7279317010311
         ]
        },
        {
         "line": {
          "color": "blue",
          "width": 2
         },
         "mode": "lines+markers",
         "showlegend": false,
         "type": "scatter",
         "x": [
          0,
          10
         ],
         "y": [
          1089.2396907216496,
          1089.2396907216496
         ]
        },
        {
         "line": {
          "color": "blue",
          "width": 2
         },
         "mode": "lines+markers",
         "showlegend": false,
         "type": "scatter",
         "x": [
          0,
          10
         ],
         "y": [
          1092.199581185567,
          1092.199581185567
         ]
        },
        {
         "line": {
          "color": "blue",
          "width": 2
         },
         "mode": "lines+markers",
         "showlegend": false,
         "type": "scatter",
         "x": [
          0,
          10
         ],
         "y": [
          1103.4471649484535,
          1103.4471649484535
         ]
        },
        {
         "line": {
          "color": "blue",
          "width": 2
         },
         "mode": "lines+markers",
         "showlegend": false,
         "type": "scatter",
         "x": [
          0,
          10
         ],
         "y": [
          1109.3669458762888,
          1109.3669458762888
         ]
        },
        {
         "line": {
          "color": "blue",
          "width": 2
         },
         "mode": "lines+markers",
         "showlegend": false,
         "type": "scatter",
         "x": [
          0,
          10
         ],
         "y": [
          1128.310244845361,
          1128.310244845361
         ]
        },
        {
         "line": {
          "color": "blue",
          "width": 2
         },
         "mode": "lines+markers",
         "showlegend": false,
         "type": "scatter",
         "x": [
          0,
          10
         ],
         "y": [
          1136.0059600515465,
          1136.0059600515465
         ]
        },
        {
         "line": {
          "color": "blue",
          "width": 2
         },
         "mode": "lines+markers",
         "showlegend": false,
         "type": "scatter",
         "x": [
          0,
          10
         ],
         "y": [
          1141.9257409793815,
          1141.9257409793815
         ]
        },
        {
         "line": {
          "color": "blue",
          "width": 2
         },
         "mode": "lines+markers",
         "showlegend": false,
         "type": "scatter",
         "x": [
          0,
          10
         ],
         "y": [
          1144.2936533505156,
          1144.2936533505156
         ]
        },
        {
         "line": {
          "color": "blue",
          "width": 2
         },
         "mode": "lines+markers",
         "showlegend": false,
         "type": "scatter",
         "x": [
          0,
          10
         ],
         "y": [
          1152.5813466494849,
          1152.5813466494849
         ]
        },
        {
         "line": {
          "color": "blue",
          "width": 2
         },
         "mode": "lines+markers",
         "showlegend": false,
         "type": "scatter",
         "x": [
          0,
          10
         ],
         "y": [
          1162.0529961340208,
          1162.0529961340208
         ]
        },
        {
         "line": {
          "color": "blue",
          "width": 2
         },
         "mode": "lines+markers",
         "showlegend": false,
         "type": "scatter",
         "x": [
          0,
          10
         ],
         "y": [
          1171.5246456185569,
          1171.5246456185569
         ]
        },
        {
         "line": {
          "color": "blue",
          "width": 2
         },
         "mode": "lines+markers",
         "showlegend": false,
         "type": "scatter",
         "x": [
          0,
          10
         ],
         "y": [
          1185.1401417525774,
          1185.1401417525774
         ]
        },
        {
         "line": {
          "color": "blue",
          "width": 2
         },
         "mode": "lines+markers",
         "showlegend": false,
         "type": "scatter",
         "x": [
          0,
          10
         ],
         "y": [
          1191.0599226804125,
          1191.0599226804125
         ]
        },
        {
         "line": {
          "color": "blue",
          "width": 2
         },
         "mode": "lines+markers",
         "showlegend": false,
         "type": "scatter",
         "x": [
          0,
          10
         ],
         "y": [
          1203.4914626288662,
          1203.4914626288662
         ]
        },
        {
         "line": {
          "color": "blue",
          "width": 2
         },
         "mode": "lines+markers",
         "showlegend": false,
         "type": "scatter",
         "x": [
          0,
          10
         ],
         "y": [
          1207.0433311855672,
          1207.0433311855672
         ]
        },
        {
         "line": {
          "color": "blue",
          "width": 2
         },
         "mode": "lines+markers",
         "showlegend": false,
         "type": "scatter",
         "x": [
          0,
          10
         ],
         "y": [
          1211.1871778350517,
          1211.1871778350517
         ]
        },
        {
         "line": {
          "color": "blue",
          "width": 2
         },
         "mode": "lines+markers",
         "showlegend": false,
         "type": "scatter",
         "x": [
          0,
          10
         ],
         "y": [
          1231.9064110824745,
          1231.9064110824745
         ]
        },
        {
         "line": {
          "color": "blue",
          "width": 2
         },
         "mode": "lines+markers",
         "showlegend": false,
         "type": "scatter",
         "x": [
          0,
          10
         ],
         "y": [
          1242.5620167525774,
          1242.5620167525774
         ]
        },
        {
         "line": {
          "color": "blue",
          "width": 2
         },
         "mode": "lines+markers",
         "showlegend": false,
         "type": "scatter",
         "x": [
          0,
          10
         ],
         "y": [
          1246.705863402062,
          1246.705863402062
         ]
        },
        {
         "line": {
          "color": "blue",
          "width": 2
         },
         "mode": "lines+markers",
         "showlegend": false,
         "type": "scatter",
         "x": [
          0,
          10
         ],
         "y": [
          1251.44168814433,
          1251.44168814433
         ]
        },
        {
         "line": {
          "color": "blue",
          "width": 2
         },
         "mode": "lines+markers",
         "showlegend": false,
         "type": "scatter",
         "x": [
          0,
          10
         ],
         "y": [
          1257.3614690721652,
          1257.3614690721652
         ]
        },
        {
         "line": {
          "color": "blue",
          "width": 2
         },
         "mode": "lines+markers",
         "showlegend": false,
         "type": "scatter",
         "x": [
          0,
          10
         ],
         "y": [
          1260.9133376288662,
          1260.9133376288662
         ]
        },
        {
         "line": {
          "color": "blue",
          "width": 2
         },
         "mode": "lines+markers",
         "showlegend": false,
         "type": "scatter",
         "x": [
          0,
          10
         ],
         "y": [
          1272.1609213917527,
          1272.1609213917527
         ]
        },
        {
         "line": {
          "color": "blue",
          "width": 2
         },
         "mode": "lines+markers",
         "showlegend": false,
         "type": "scatter",
         "x": [
          0,
          10
         ],
         "y": [
          1279.8566365979382,
          1279.8566365979382
         ]
        },
        {
         "line": {
          "color": "blue",
          "width": 2
         },
         "mode": "lines+markers",
         "showlegend": false,
         "type": "scatter",
         "x": [
          0,
          10
         ],
         "y": [
          1285.7764175257732,
          1285.7764175257732
         ]
        },
        {
         "line": {
          "color": "blue",
          "width": 2
         },
         "mode": "lines+markers",
         "showlegend": false,
         "type": "scatter",
         "x": [
          0,
          10
         ],
         "y": [
          1296.4320231958764,
          1296.4320231958764
         ]
        },
        {
         "line": {
          "color": "blue",
          "width": 2
         },
         "mode": "lines+markers",
         "showlegend": false,
         "type": "scatter",
         "x": [
          0,
          10
         ],
         "y": [
          1301.1678479381444,
          1301.1678479381444
         ]
        },
        {
         "line": {
          "color": "blue",
          "width": 2
         },
         "mode": "lines+markers",
         "showlegend": false,
         "type": "scatter",
         "x": [
          0,
          10
         ],
         "y": [
          1310.047519329897,
          1310.047519329897
         ]
        },
        {
         "line": {
          "color": "blue",
          "width": 2
         },
         "mode": "lines+markers",
         "showlegend": false,
         "type": "scatter",
         "x": [
          0,
          10
         ],
         "y": [
          1318.3352126288662,
          1318.3352126288662
         ]
        },
        {
         "line": {
          "color": "blue",
          "width": 2
         },
         "mode": "lines+markers",
         "showlegend": false,
         "type": "scatter",
         "x": [
          0,
          10
         ],
         "y": [
          1328.990818298969,
          1328.990818298969
         ]
        },
        {
         "line": {
          "color": "blue",
          "width": 2
         },
         "mode": "lines+markers",
         "showlegend": false,
         "type": "scatter",
         "x": [
          0,
          10
         ],
         "y": [
          1365.101481958763,
          1365.101481958763
         ]
        },
        {
         "line": {
          "color": "blue",
          "width": 2
         },
         "mode": "lines+markers",
         "showlegend": false,
         "type": "scatter",
         "x": [
          0,
          10
         ],
         "y": [
          1394.7003865979382,
          1394.7003865979382
         ]
        },
        {
         "line": {
          "color": "blue",
          "width": 2
         },
         "mode": "lines+markers",
         "showlegend": false,
         "type": "scatter",
         "x": [
          0,
          10
         ],
         "y": [
          1401.8041237113405,
          1401.8041237113405
         ]
        },
        {
         "line": {
          "color": "blue",
          "width": 2
         },
         "mode": "lines+markers",
         "showlegend": false,
         "type": "scatter",
         "x": [
          0,
          10
         ],
         "y": [
          1403.5800579896909,
          1403.5800579896909
         ]
        },
        {
         "line": {
          "color": "blue",
          "width": 2
         },
         "mode": "lines+markers",
         "showlegend": false,
         "type": "scatter",
         "x": [
          0,
          10
         ],
         "y": [
          1409.499838917526,
          1409.499838917526
         ]
        },
        {
         "line": {
          "color": "blue",
          "width": 2
         },
         "mode": "lines+markers",
         "showlegend": false,
         "type": "scatter",
         "x": [
          0,
          10
         ],
         "y": [
          1417.1955541237114,
          1417.1955541237114
         ]
        },
        {
         "line": {
          "color": "blue",
          "width": 2
         },
         "mode": "lines+markers",
         "showlegend": false,
         "type": "scatter",
         "x": [
          0,
          10
         ],
         "y": [
          1431.9950064432992,
          1431.9950064432992
         ]
        },
        {
         "line": {
          "color": "blue",
          "width": 2
         },
         "mode": "lines+markers",
         "showlegend": false,
         "type": "scatter",
         "x": [
          0,
          10
         ],
         "y": [
          1439.6907216494849,
          1439.6907216494849
         ]
        },
        {
         "line": {
          "color": "blue",
          "width": 2
         },
         "mode": "lines+markers",
         "showlegend": false,
         "type": "scatter",
         "x": [
          0,
          10
         ],
         "y": [
          1444.4265463917527,
          1444.4265463917527
         ]
        },
        {
         "line": {
          "color": "blue",
          "width": 2
         },
         "mode": "lines+markers",
         "showlegend": false,
         "type": "scatter",
         "x": [
          0,
          10
         ],
         "y": [
          1450.3463273195878,
          1450.3463273195878
         ]
        },
        {
         "line": {
          "color": "blue",
          "width": 2
         },
         "mode": "lines+markers",
         "showlegend": false,
         "type": "scatter",
         "x": [
          0,
          10
         ],
         "y": [
          1457.4500644329898,
          1457.4500644329898
         ]
        },
        {
         "line": {
          "color": "blue",
          "width": 2
         },
         "mode": "lines+markers",
         "showlegend": false,
         "type": "scatter",
         "x": [
          0,
          10
         ],
         "y": [
          1652.210856958763,
          1652.210856958763
         ]
        },
        {
         "line": {
          "color": "blue",
          "width": 2
         },
         "mode": "lines+markers",
         "showlegend": false,
         "type": "scatter",
         "x": [
          0,
          10
         ],
         "y": [
          1654.578769329897,
          1654.578769329897
         ]
        },
        {
         "line": {
          "color": "blue",
          "width": 2
         },
         "mode": "lines+markers",
         "showlegend": false,
         "type": "scatter",
         "x": [
          0,
          10
         ],
         "y": [
          1722.0642719072166,
          1722.0642719072166
         ]
        },
        {
         "line": {
          "color": "blue",
          "width": 2
         },
         "mode": "lines+markers",
         "showlegend": false,
         "type": "scatter",
         "x": [
          0,
          10
         ],
         "y": [
          1730.943943298969,
          1730.943943298969
         ]
        },
        {
         "line": {
          "color": "blue",
          "width": 2
         },
         "mode": "lines+markers",
         "showlegend": false,
         "type": "scatter",
         "x": [
          0,
          10
         ],
         "y": [
          1739.2316365979384,
          1739.2316365979384
         ]
        },
        {
         "line": {
          "color": "blue",
          "width": 2
         },
         "mode": "lines+markers",
         "showlegend": false,
         "type": "scatter",
         "x": [
          0,
          10
         ],
         "y": [
          1745.1514175257737,
          1745.1514175257737
         ]
        },
        {
         "line": {
          "color": "blue",
          "width": 2
         },
         "mode": "lines+markers",
         "showlegend": false,
         "type": "scatter",
         "x": [
          0,
          10
         ],
         "y": [
          1752.2551546391755,
          1752.2551546391755
         ]
        },
        {
         "line": {
          "color": "blue",
          "width": 2
         },
         "mode": "lines+markers",
         "showlegend": false,
         "type": "scatter",
         "x": [
          0,
          10
         ],
         "y": [
          1756.39900128866,
          1756.39900128866
         ]
        },
        {
         "line": {
          "color": "blue",
          "width": 2
         },
         "mode": "lines+markers",
         "showlegend": false,
         "type": "scatter",
         "x": [
          0,
          10
         ],
         "y": [
          1758.766913659794,
          1758.766913659794
         ]
        },
        {
         "line": {
          "color": "blue",
          "width": 2
         },
         "mode": "lines+markers",
         "showlegend": false,
         "type": "scatter",
         "x": [
          0,
          10
         ],
         "y": [
          1764.686694587629,
          1764.686694587629
         ]
        },
        {
         "line": {
          "color": "blue",
          "width": 2
         },
         "mode": "lines+markers",
         "showlegend": false,
         "type": "scatter",
         "x": [
          0,
          10
         ],
         "y": [
          1771.1984536082475,
          1771.1984536082475
         ]
        },
        {
         "line": {
          "color": "blue",
          "width": 2
         },
         "mode": "lines+markers",
         "showlegend": false,
         "type": "scatter",
         "x": [
          0,
          10
         ],
         "y": [
          1778.3021907216496,
          1778.3021907216496
         ]
        },
        {
         "line": {
          "color": "blue",
          "width": 2
         },
         "mode": "lines+markers",
         "showlegend": false,
         "type": "scatter",
         "x": [
          0,
          10
         ],
         "y": [
          1781.2620811855672,
          1781.2620811855672
         ]
        },
        {
         "line": {
          "color": "blue",
          "width": 2
         },
         "mode": "lines+markers",
         "showlegend": false,
         "type": "scatter",
         "x": [
          0,
          10
         ],
         "y": [
          1783.0380154639176,
          1783.0380154639176
         ]
        },
        {
         "line": {
          "color": "blue",
          "width": 2
         },
         "mode": "lines+markers",
         "showlegend": false,
         "type": "scatter",
         "x": [
          0,
          10
         ],
         "y": [
          1791.9176868556704,
          1791.9176868556704
         ]
        },
        {
         "line": {
          "color": "blue",
          "width": 2
         },
         "mode": "lines+markers",
         "showlegend": false,
         "type": "scatter",
         "x": [
          0,
          10
         ],
         "y": [
          1797.2454896907218,
          1797.2454896907218
         ]
        },
        {
         "line": {
          "color": "blue",
          "width": 2
         },
         "mode": "lines+markers",
         "showlegend": false,
         "type": "scatter",
         "x": [
          0,
          10
         ],
         "y": [
          1802.5732925257728,
          1802.5732925257728
         ]
        },
        {
         "line": {
          "color": "blue",
          "width": 2
         },
         "mode": "lines+markers",
         "showlegend": false,
         "type": "scatter",
         "x": [
          0,
          10
         ],
         "y": [
          1809.085051546392,
          1809.085051546392
         ]
        },
        {
         "line": {
          "color": "blue",
          "width": 2
         },
         "mode": "lines+markers",
         "showlegend": false,
         "type": "scatter",
         "x": [
          0,
          10
         ],
         "y": [
          1816.7807667525776,
          1816.7807667525776
         ]
        },
        {
         "line": {
          "color": "blue",
          "width": 2
         },
         "mode": "lines+markers",
         "showlegend": false,
         "type": "scatter",
         "x": [
          0,
          10
         ],
         "y": [
          1820.924613402062,
          1820.924613402062
         ]
        },
        {
         "line": {
          "color": "blue",
          "width": 2
         },
         "mode": "lines+markers",
         "showlegend": false,
         "type": "scatter",
         "x": [
          0,
          10
         ],
         "y": [
          1822.7005476804125,
          1822.7005476804125
         ]
        },
        {
         "line": {
          "color": "blue",
          "width": 2
         },
         "mode": "lines+markers",
         "showlegend": false,
         "type": "scatter",
         "x": [
          0,
          10
         ],
         "y": [
          1826.2524162371133,
          1826.2524162371133
         ]
        },
        {
         "line": {
          "color": "blue",
          "width": 2
         },
         "mode": "lines+markers",
         "showlegend": false,
         "type": "scatter",
         "x": [
          0,
          10
         ],
         "y": [
          1926.8886920103096,
          1926.8886920103096
         ]
        },
        {
         "line": {
          "color": "blue",
          "width": 2
         },
         "mode": "lines+markers",
         "showlegend": false,
         "type": "scatter",
         "x": [
          0,
          10
         ],
         "y": [
          1930.4405605670104,
          1930.4405605670104
         ]
        },
        {
         "line": {
          "color": "blue",
          "width": 2
         },
         "mode": "lines+markers",
         "showlegend": false,
         "type": "scatter",
         "x": [
          0,
          10
         ],
         "y": [
          1972.47100515464,
          1972.47100515464
         ]
        },
        {
         "line": {
          "color": "blue",
          "width": 2
         },
         "mode": "lines+markers",
         "showlegend": false,
         "type": "scatter",
         "x": [
          0,
          10
         ],
         "y": [
          1976.0228737113405,
          1976.0228737113405
         ]
        },
        {
         "line": {
          "color": "blue",
          "width": 2
         },
         "mode": "lines+markers",
         "showlegend": false,
         "type": "scatter",
         "x": [
          0,
          10
         ],
         "y": [
          1981.9426546391755,
          1981.9426546391755
         ]
        }
       ],
       "layout": {
        "height": 1200,
        "showlegend": false,
        "template": {
         "data": {
          "bar": [
           {
            "error_x": {
             "color": "#2a3f5f"
            },
            "error_y": {
             "color": "#2a3f5f"
            },
            "marker": {
             "line": {
              "color": "white",
              "width": 0.5
             },
             "pattern": {
              "fillmode": "overlay",
              "size": 10,
              "solidity": 0.2
             }
            },
            "type": "bar"
           }
          ],
          "barpolar": [
           {
            "marker": {
             "line": {
              "color": "white",
              "width": 0.5
             },
             "pattern": {
              "fillmode": "overlay",
              "size": 10,
              "solidity": 0.2
             }
            },
            "type": "barpolar"
           }
          ],
          "carpet": [
           {
            "aaxis": {
             "endlinecolor": "#2a3f5f",
             "gridcolor": "#C8D4E3",
             "linecolor": "#C8D4E3",
             "minorgridcolor": "#C8D4E3",
             "startlinecolor": "#2a3f5f"
            },
            "baxis": {
             "endlinecolor": "#2a3f5f",
             "gridcolor": "#C8D4E3",
             "linecolor": "#C8D4E3",
             "minorgridcolor": "#C8D4E3",
             "startlinecolor": "#2a3f5f"
            },
            "type": "carpet"
           }
          ],
          "choropleth": [
           {
            "colorbar": {
             "outlinewidth": 0,
             "ticks": ""
            },
            "type": "choropleth"
           }
          ],
          "contour": [
           {
            "colorbar": {
             "outlinewidth": 0,
             "ticks": ""
            },
            "colorscale": [
             [
              0,
              "#0d0887"
             ],
             [
              0.1111111111111111,
              "#46039f"
             ],
             [
              0.2222222222222222,
              "#7201a8"
             ],
             [
              0.3333333333333333,
              "#9c179e"
             ],
             [
              0.4444444444444444,
              "#bd3786"
             ],
             [
              0.5555555555555556,
              "#d8576b"
             ],
             [
              0.6666666666666666,
              "#ed7953"
             ],
             [
              0.7777777777777778,
              "#fb9f3a"
             ],
             [
              0.8888888888888888,
              "#fdca26"
             ],
             [
              1,
              "#f0f921"
             ]
            ],
            "type": "contour"
           }
          ],
          "contourcarpet": [
           {
            "colorbar": {
             "outlinewidth": 0,
             "ticks": ""
            },
            "type": "contourcarpet"
           }
          ],
          "heatmap": [
           {
            "colorbar": {
             "outlinewidth": 0,
             "ticks": ""
            },
            "colorscale": [
             [
              0,
              "#0d0887"
             ],
             [
              0.1111111111111111,
              "#46039f"
             ],
             [
              0.2222222222222222,
              "#7201a8"
             ],
             [
              0.3333333333333333,
              "#9c179e"
             ],
             [
              0.4444444444444444,
              "#bd3786"
             ],
             [
              0.5555555555555556,
              "#d8576b"
             ],
             [
              0.6666666666666666,
              "#ed7953"
             ],
             [
              0.7777777777777778,
              "#fb9f3a"
             ],
             [
              0.8888888888888888,
              "#fdca26"
             ],
             [
              1,
              "#f0f921"
             ]
            ],
            "type": "heatmap"
           }
          ],
          "heatmapgl": [
           {
            "colorbar": {
             "outlinewidth": 0,
             "ticks": ""
            },
            "colorscale": [
             [
              0,
              "#0d0887"
             ],
             [
              0.1111111111111111,
              "#46039f"
             ],
             [
              0.2222222222222222,
              "#7201a8"
             ],
             [
              0.3333333333333333,
              "#9c179e"
             ],
             [
              0.4444444444444444,
              "#bd3786"
             ],
             [
              0.5555555555555556,
              "#d8576b"
             ],
             [
              0.6666666666666666,
              "#ed7953"
             ],
             [
              0.7777777777777778,
              "#fb9f3a"
             ],
             [
              0.8888888888888888,
              "#fdca26"
             ],
             [
              1,
              "#f0f921"
             ]
            ],
            "type": "heatmapgl"
           }
          ],
          "histogram": [
           {
            "marker": {
             "pattern": {
              "fillmode": "overlay",
              "size": 10,
              "solidity": 0.2
             }
            },
            "type": "histogram"
           }
          ],
          "histogram2d": [
           {
            "colorbar": {
             "outlinewidth": 0,
             "ticks": ""
            },
            "colorscale": [
             [
              0,
              "#0d0887"
             ],
             [
              0.1111111111111111,
              "#46039f"
             ],
             [
              0.2222222222222222,
              "#7201a8"
             ],
             [
              0.3333333333333333,
              "#9c179e"
             ],
             [
              0.4444444444444444,
              "#bd3786"
             ],
             [
              0.5555555555555556,
              "#d8576b"
             ],
             [
              0.6666666666666666,
              "#ed7953"
             ],
             [
              0.7777777777777778,
              "#fb9f3a"
             ],
             [
              0.8888888888888888,
              "#fdca26"
             ],
             [
              1,
              "#f0f921"
             ]
            ],
            "type": "histogram2d"
           }
          ],
          "histogram2dcontour": [
           {
            "colorbar": {
             "outlinewidth": 0,
             "ticks": ""
            },
            "colorscale": [
             [
              0,
              "#0d0887"
             ],
             [
              0.1111111111111111,
              "#46039f"
             ],
             [
              0.2222222222222222,
              "#7201a8"
             ],
             [
              0.3333333333333333,
              "#9c179e"
             ],
             [
              0.4444444444444444,
              "#bd3786"
             ],
             [
              0.5555555555555556,
              "#d8576b"
             ],
             [
              0.6666666666666666,
              "#ed7953"
             ],
             [
              0.7777777777777778,
              "#fb9f3a"
             ],
             [
              0.8888888888888888,
              "#fdca26"
             ],
             [
              1,
              "#f0f921"
             ]
            ],
            "type": "histogram2dcontour"
           }
          ],
          "mesh3d": [
           {
            "colorbar": {
             "outlinewidth": 0,
             "ticks": ""
            },
            "type": "mesh3d"
           }
          ],
          "parcoords": [
           {
            "line": {
             "colorbar": {
              "outlinewidth": 0,
              "ticks": ""
             }
            },
            "type": "parcoords"
           }
          ],
          "pie": [
           {
            "automargin": true,
            "type": "pie"
           }
          ],
          "scatter": [
           {
            "fillpattern": {
             "fillmode": "overlay",
             "size": 10,
             "solidity": 0.2
            },
            "type": "scatter"
           }
          ],
          "scatter3d": [
           {
            "line": {
             "colorbar": {
              "outlinewidth": 0,
              "ticks": ""
             }
            },
            "marker": {
             "colorbar": {
              "outlinewidth": 0,
              "ticks": ""
             }
            },
            "type": "scatter3d"
           }
          ],
          "scattercarpet": [
           {
            "marker": {
             "colorbar": {
              "outlinewidth": 0,
              "ticks": ""
             }
            },
            "type": "scattercarpet"
           }
          ],
          "scattergeo": [
           {
            "marker": {
             "colorbar": {
              "outlinewidth": 0,
              "ticks": ""
             }
            },
            "type": "scattergeo"
           }
          ],
          "scattergl": [
           {
            "marker": {
             "colorbar": {
              "outlinewidth": 0,
              "ticks": ""
             }
            },
            "type": "scattergl"
           }
          ],
          "scattermapbox": [
           {
            "marker": {
             "colorbar": {
              "outlinewidth": 0,
              "ticks": ""
             }
            },
            "type": "scattermapbox"
           }
          ],
          "scatterpolar": [
           {
            "marker": {
             "colorbar": {
              "outlinewidth": 0,
              "ticks": ""
             }
            },
            "type": "scatterpolar"
           }
          ],
          "scatterpolargl": [
           {
            "marker": {
             "colorbar": {
              "outlinewidth": 0,
              "ticks": ""
             }
            },
            "type": "scatterpolargl"
           }
          ],
          "scatterternary": [
           {
            "marker": {
             "colorbar": {
              "outlinewidth": 0,
              "ticks": ""
             }
            },
            "type": "scatterternary"
           }
          ],
          "surface": [
           {
            "colorbar": {
             "outlinewidth": 0,
             "ticks": ""
            },
            "colorscale": [
             [
              0,
              "#0d0887"
             ],
             [
              0.1111111111111111,
              "#46039f"
             ],
             [
              0.2222222222222222,
              "#7201a8"
             ],
             [
              0.3333333333333333,
              "#9c179e"
             ],
             [
              0.4444444444444444,
              "#bd3786"
             ],
             [
              0.5555555555555556,
              "#d8576b"
             ],
             [
              0.6666666666666666,
              "#ed7953"
             ],
             [
              0.7777777777777778,
              "#fb9f3a"
             ],
             [
              0.8888888888888888,
              "#fdca26"
             ],
             [
              1,
              "#f0f921"
             ]
            ],
            "type": "surface"
           }
          ],
          "table": [
           {
            "cells": {
             "fill": {
              "color": "#EBF0F8"
             },
             "line": {
              "color": "white"
             }
            },
            "header": {
             "fill": {
              "color": "#C8D4E3"
             },
             "line": {
              "color": "white"
             }
            },
            "type": "table"
           }
          ]
         },
         "layout": {
          "annotationdefaults": {
           "arrowcolor": "#2a3f5f",
           "arrowhead": 0,
           "arrowwidth": 1
          },
          "autotypenumbers": "strict",
          "coloraxis": {
           "colorbar": {
            "outlinewidth": 0,
            "ticks": ""
           }
          },
          "colorscale": {
           "diverging": [
            [
             0,
             "#8e0152"
            ],
            [
             0.1,
             "#c51b7d"
            ],
            [
             0.2,
             "#de77ae"
            ],
            [
             0.3,
             "#f1b6da"
            ],
            [
             0.4,
             "#fde0ef"
            ],
            [
             0.5,
             "#f7f7f7"
            ],
            [
             0.6,
             "#e6f5d0"
            ],
            [
             0.7,
             "#b8e186"
            ],
            [
             0.8,
             "#7fbc41"
            ],
            [
             0.9,
             "#4d9221"
            ],
            [
             1,
             "#276419"
            ]
           ],
           "sequential": [
            [
             0,
             "#0d0887"
            ],
            [
             0.1111111111111111,
             "#46039f"
            ],
            [
             0.2222222222222222,
             "#7201a8"
            ],
            [
             0.3333333333333333,
             "#9c179e"
            ],
            [
             0.4444444444444444,
             "#bd3786"
            ],
            [
             0.5555555555555556,
             "#d8576b"
            ],
            [
             0.6666666666666666,
             "#ed7953"
            ],
            [
             0.7777777777777778,
             "#fb9f3a"
            ],
            [
             0.8888888888888888,
             "#fdca26"
            ],
            [
             1,
             "#f0f921"
            ]
           ],
           "sequentialminus": [
            [
             0,
             "#0d0887"
            ],
            [
             0.1111111111111111,
             "#46039f"
            ],
            [
             0.2222222222222222,
             "#7201a8"
            ],
            [
             0.3333333333333333,
             "#9c179e"
            ],
            [
             0.4444444444444444,
             "#bd3786"
            ],
            [
             0.5555555555555556,
             "#d8576b"
            ],
            [
             0.6666666666666666,
             "#ed7953"
            ],
            [
             0.7777777777777778,
             "#fb9f3a"
            ],
            [
             0.8888888888888888,
             "#fdca26"
            ],
            [
             1,
             "#f0f921"
            ]
           ]
          },
          "colorway": [
           "#636efa",
           "#EF553B",
           "#00cc96",
           "#ab63fa",
           "#FFA15A",
           "#19d3f3",
           "#FF6692",
           "#B6E880",
           "#FF97FF",
           "#FECB52"
          ],
          "font": {
           "color": "#2a3f5f"
          },
          "geo": {
           "bgcolor": "white",
           "lakecolor": "white",
           "landcolor": "white",
           "showlakes": true,
           "showland": true,
           "subunitcolor": "#C8D4E3"
          },
          "hoverlabel": {
           "align": "left"
          },
          "hovermode": "closest",
          "mapbox": {
           "style": "light"
          },
          "paper_bgcolor": "white",
          "plot_bgcolor": "white",
          "polar": {
           "angularaxis": {
            "gridcolor": "#EBF0F8",
            "linecolor": "#EBF0F8",
            "ticks": ""
           },
           "bgcolor": "white",
           "radialaxis": {
            "gridcolor": "#EBF0F8",
            "linecolor": "#EBF0F8",
            "ticks": ""
           }
          },
          "scene": {
           "xaxis": {
            "backgroundcolor": "white",
            "gridcolor": "#DFE8F3",
            "gridwidth": 2,
            "linecolor": "#EBF0F8",
            "showbackground": true,
            "ticks": "",
            "zerolinecolor": "#EBF0F8"
           },
           "yaxis": {
            "backgroundcolor": "white",
            "gridcolor": "#DFE8F3",
            "gridwidth": 2,
            "linecolor": "#EBF0F8",
            "showbackground": true,
            "ticks": "",
            "zerolinecolor": "#EBF0F8"
           },
           "zaxis": {
            "backgroundcolor": "white",
            "gridcolor": "#DFE8F3",
            "gridwidth": 2,
            "linecolor": "#EBF0F8",
            "showbackground": true,
            "ticks": "",
            "zerolinecolor": "#EBF0F8"
           }
          },
          "shapedefaults": {
           "line": {
            "color": "#2a3f5f"
           }
          },
          "ternary": {
           "aaxis": {
            "gridcolor": "#DFE8F3",
            "linecolor": "#A2B1C6",
            "ticks": ""
           },
           "baxis": {
            "gridcolor": "#DFE8F3",
            "linecolor": "#A2B1C6",
            "ticks": ""
           },
           "bgcolor": "white",
           "caxis": {
            "gridcolor": "#DFE8F3",
            "linecolor": "#A2B1C6",
            "ticks": ""
           }
          },
          "title": {
           "x": 0.05
          },
          "xaxis": {
           "automargin": true,
           "gridcolor": "#EBF0F8",
           "linecolor": "#EBF0F8",
           "ticks": "",
           "title": {
            "standoff": 15
           },
           "zerolinecolor": "#EBF0F8",
           "zerolinewidth": 2
          },
          "yaxis": {
           "automargin": true,
           "gridcolor": "#EBF0F8",
           "linecolor": "#EBF0F8",
           "ticks": "",
           "title": {
            "standoff": 15
           },
           "zerolinecolor": "#EBF0F8",
           "zerolinewidth": 2
          }
         }
        },
        "title": {
         "text": "Time vs Frequency for Each Event (2D)"
        },
        "width": 900,
        "xaxis": {
         "autorange": true,
         "range": [
          -0.618830675778284,
          10.618830675778284
         ],
         "title": {
          "text": "Time (s)"
         },
         "type": "linear"
        },
        "yaxis": {
         "autorange": true,
         "range": [
          -52.02726738841525,
          2097.311577955426
         ],
         "title": {
          "text": "Frequency"
         },
         "type": "linear"
        }
       }
      },
      "image/png": "[encoded data removed]",
      "text/html": [
       "<div>                            <div id=\"00524608-488b-41fd-bed6-b7bcc1f523f7\" class=\"plotly-graph-div\" style=\"height:1200px; width:900px;\"></div>            <script type=\"text/javascript\">                require([\"plotly\"], function(Plotly) {                    window.PLOTLYENV=window.PLOTLYENV || {};                                    if (document.getElementById(\"00524608-488b-41fd-bed6-b7bcc1f523f7\")) {                    Plotly.newPlot(                        \"00524608-488b-41fd-bed6-b7bcc1f523f7\",                        [{\"line\":{\"color\":\"blue\",\"width\":2},\"mode\":\"lines+markers\",\"showlegend\":false,\"x\":[0.0,10.0],\"y\":[63.341655927835056,63.341655927835056],\"type\":\"scatter\"},{\"line\":{\"color\":\"blue\",\"width\":2},\"mode\":\"lines+markers\",\"showlegend\":false,\"x\":[0.0,10.0],\"y\":[75.77319587628867,75.77319587628867],\"type\":\"scatter\"},{\"line\":{\"color\":\"blue\",\"width\":2},\"mode\":\"lines+markers\",\"showlegend\":false,\"x\":[0.0,10.0],\"y\":[100.63627577319588,100.63627577319588],\"type\":\"scatter\"},{\"line\":{\"color\":\"blue\",\"width\":2},\"mode\":\"lines+markers\",\"showlegend\":false,\"x\":[0.0,10.0],\"y\":[114.84375,114.84375],\"type\":\"scatter\"},{\"line\":{\"color\":\"blue\",\"width\":2},\"mode\":\"lines+markers\",\"showlegend\":false,\"x\":[0.0,10.0],\"y\":[126.68331185567013,126.68331185567013],\"type\":\"scatter\"},{\"line\":{\"color\":\"blue\",\"width\":2},\"mode\":\"lines+markers\",\"showlegend\":false,\"x\":[0.0,10.0],\"y\":[140.29880798969074,140.29880798969074],\"type\":\"scatter\"},{\"line\":{\"color\":\"blue\",\"width\":2},\"mode\":\"lines+markers\",\"showlegend\":false,\"x\":[0.0,10.0],\"y\":[154.50628221649487,154.50628221649487],\"type\":\"scatter\"},{\"line\":{\"color\":\"blue\",\"width\":2},\"mode\":\"lines+markers\",\"showlegend\":false,\"x\":[0.0,10.0],\"y\":[163.97793170103094,163.97793170103094],\"type\":\"scatter\"},{\"line\":{\"color\":\"blue\",\"width\":2},\"mode\":\"lines+markers\",\"showlegend\":false,\"x\":[0.0,10.0],\"y\":[169.897712628866,169.897712628866],\"type\":\"scatter\"},{\"line\":{\"color\":\"blue\",\"width\":2},\"mode\":\"lines+markers\",\"showlegend\":false,\"x\":[0.0,10.0],\"y\":[176.40947164948454,176.40947164948454],\"type\":\"scatter\"},{\"line\":{\"color\":\"blue\",\"width\":2},\"mode\":\"lines+markers\",\"showlegend\":false,\"x\":[0.0,10.0],\"y\":[181.7372744845361,181.7372744845361],\"type\":\"scatter\"},{\"line\":{\"color\":\"blue\",\"width\":2},\"mode\":\"lines+markers\",\"showlegend\":false,\"x\":[0.0,10.0],\"y\":[189.43298969072168,189.43298969072168],\"type\":\"scatter\"},{\"line\":{\"color\":\"blue\",\"width\":2},\"mode\":\"lines+markers\",\"showlegend\":false,\"x\":[0.0,10.0],\"y\":[194.1688144329897,194.1688144329897],\"type\":\"scatter\"},{\"line\":{\"color\":\"blue\",\"width\":2},\"mode\":\"lines+markers\",\"showlegend\":false,\"x\":[0.0,10.0],\"y\":[200.0885953608248,200.0885953608248],\"type\":\"scatter\"},{\"line\":{\"color\":\"blue\",\"width\":2},\"mode\":\"lines+markers\",\"showlegend\":false,\"x\":[0.0,10.0],\"y\":[203.0484858247423,203.0484858247423],\"type\":\"scatter\"},{\"line\":{\"color\":\"blue\",\"width\":2},\"mode\":\"lines+markers\",\"showlegend\":false,\"x\":[0.0,10.0],\"y\":[210.15222293814435,210.15222293814435],\"type\":\"scatter\"},{\"line\":{\"color\":\"blue\",\"width\":2},\"mode\":\"lines+markers\",\"showlegend\":false,\"x\":[0.0,10.0],\"y\":[212.5201353092784,212.5201353092784],\"type\":\"scatter\"},{\"line\":{\"color\":\"blue\",\"width\":2},\"mode\":\"lines+markers\",\"showlegend\":false,\"x\":[0.0,10.0],\"y\":[218.43991623711344,218.43991623711344],\"type\":\"scatter\"},{\"line\":{\"color\":\"blue\",\"width\":2},\"mode\":\"lines+markers\",\"showlegend\":false,\"x\":[0.0,10.0],\"y\":[229.0955219072165,229.0955219072165],\"type\":\"scatter\"},{\"line\":{\"color\":\"blue\",\"width\":2},\"mode\":\"lines+markers\",\"showlegend\":false,\"x\":[0.0,10.0],\"y\":[239.1591494845361,239.1591494845361],\"type\":\"scatter\"},{\"line\":{\"color\":\"blue\",\"width\":2},\"mode\":\"lines+markers\",\"showlegend\":false,\"x\":[0.0,10.0],\"y\":[249.2227770618557,249.2227770618557],\"type\":\"scatter\"},{\"line\":{\"color\":\"blue\",\"width\":2},\"mode\":\"lines+markers\",\"showlegend\":false,\"x\":[0.0,10.0],\"y\":[260.4703608247423,260.4703608247423],\"type\":\"scatter\"},{\"line\":{\"color\":\"blue\",\"width\":2},\"mode\":\"lines+markers\",\"showlegend\":false,\"x\":[0.0,10.0],\"y\":[263.4302512886598,263.4302512886598],\"type\":\"scatter\"},{\"line\":{\"color\":\"blue\",\"width\":2},\"mode\":\"lines+markers\",\"showlegend\":false,\"x\":[0.0,10.0],\"y\":[266.39014175257734,266.39014175257734],\"type\":\"scatter\"},{\"line\":{\"color\":\"blue\",\"width\":2},\"mode\":\"lines+markers\",\"showlegend\":false,\"x\":[0.0,10.0],\"y\":[273.4938788659794,273.4938788659794],\"type\":\"scatter\"},{\"line\":{\"color\":\"blue\",\"width\":2},\"mode\":\"lines+markers\",\"showlegend\":false,\"x\":[0.0,10.0],\"y\":[278.22970360824746,278.22970360824746],\"type\":\"scatter\"},{\"line\":{\"color\":\"blue\",\"width\":2},\"mode\":\"lines+markers\",\"showlegend\":false,\"x\":[0.0,10.0],\"y\":[282.9655283505155,282.9655283505155],\"type\":\"scatter\"},{\"line\":{\"color\":\"blue\",\"width\":2},\"mode\":\"lines+markers\",\"showlegend\":false,\"x\":[0.0,10.0],\"y\":[293.02915592783506,293.02915592783506],\"type\":\"scatter\"},{\"line\":{\"color\":\"blue\",\"width\":2},\"mode\":\"lines+markers\",\"showlegend\":false,\"x\":[0.0,10.0],\"y\":[300.72487113402065,300.72487113402065],\"type\":\"scatter\"},{\"line\":{\"color\":\"blue\",\"width\":2},\"mode\":\"lines+markers\",\"showlegend\":false,\"x\":[0.0,10.0],\"y\":[321.4441043814433,321.4441043814433],\"type\":\"scatter\"},{\"line\":{\"color\":\"blue\",\"width\":2},\"mode\":\"lines+markers\",\"showlegend\":false,\"x\":[0.0,10.0],\"y\":[333.87564432989694,333.87564432989694],\"type\":\"scatter\"},{\"line\":{\"color\":\"blue\",\"width\":2},\"mode\":\"lines+markers\",\"showlegend\":false,\"x\":[0.0,10.0],\"y\":[339.2034471649485,339.2034471649485],\"type\":\"scatter\"},{\"line\":{\"color\":\"blue\",\"width\":2},\"mode\":\"lines+markers\",\"showlegend\":false,\"x\":[0.0,10.0],\"y\":[345.71520618556707,345.71520618556707],\"type\":\"scatter\"},{\"line\":{\"color\":\"blue\",\"width\":2},\"mode\":\"lines+markers\",\"showlegend\":false,\"x\":[0.0,10.0],\"y\":[347.4911404639176,347.4911404639176],\"type\":\"scatter\"},{\"line\":{\"color\":\"blue\",\"width\":2},\"mode\":\"lines+markers\",\"showlegend\":false,\"x\":[0.0,10.0],\"y\":[356.96278994845363,356.96278994845363],\"type\":\"scatter\"},{\"line\":{\"color\":\"blue\",\"width\":2},\"mode\":\"lines+markers\",\"showlegend\":false,\"x\":[0.0,10.0],\"y\":[362.8825708762887,362.8825708762887],\"type\":\"scatter\"},{\"line\":{\"color\":\"blue\",\"width\":2},\"mode\":\"lines+markers\",\"showlegend\":false,\"x\":[0.0,10.0],\"y\":[369.9863079896908,369.9863079896908],\"type\":\"scatter\"},{\"line\":{\"color\":\"blue\",\"width\":2},\"mode\":\"lines+markers\",\"showlegend\":false,\"x\":[0.0,10.0],\"y\":[378.86597938144337,378.86597938144337],\"type\":\"scatter\"},{\"line\":{\"color\":\"blue\",\"width\":2},\"mode\":\"lines+markers\",\"showlegend\":false,\"x\":[0.0,10.0],\"y\":[384.19378221649487,384.19378221649487],\"type\":\"scatter\"},{\"line\":{\"color\":\"blue\",\"width\":2},\"mode\":\"lines+markers\",\"showlegend\":false,\"x\":[0.0,10.0],\"y\":[390.70554123711344,390.70554123711344],\"type\":\"scatter\"},{\"line\":{\"color\":\"blue\",\"width\":2},\"mode\":\"lines+markers\",\"showlegend\":false,\"x\":[0.0,10.0],\"y\":[393.66543170103097,393.66543170103097],\"type\":\"scatter\"},{\"line\":{\"color\":\"blue\",\"width\":2},\"mode\":\"lines+markers\",\"showlegend\":false,\"x\":[0.0,10.0],\"y\":[397.8092783505155,397.8092783505155],\"type\":\"scatter\"},{\"line\":{\"color\":\"blue\",\"width\":2},\"mode\":\"lines+markers\",\"showlegend\":false,\"x\":[0.0,10.0],\"y\":[404.9130154639176,404.9130154639176],\"type\":\"scatter\"},{\"line\":{\"color\":\"blue\",\"width\":2},\"mode\":\"lines+markers\",\"showlegend\":false,\"x\":[0.0,10.0],\"y\":[413.7926868556701,413.7926868556701],\"type\":\"scatter\"},{\"line\":{\"color\":\"blue\",\"width\":2},\"mode\":\"lines+markers\",\"showlegend\":false,\"x\":[0.0,10.0],\"y\":[436.8798324742269,436.8798324742269],\"type\":\"scatter\"},{\"line\":{\"color\":\"blue\",\"width\":2},\"mode\":\"lines+markers\",\"showlegend\":false,\"x\":[0.0,10.0],\"y\":[448.12741623711344,448.12741623711344],\"type\":\"scatter\"},{\"line\":{\"color\":\"blue\",\"width\":2},\"mode\":\"lines+markers\",\"showlegend\":false,\"x\":[0.0,10.0],\"y\":[457.5990657216496,457.5990657216496],\"type\":\"scatter\"},{\"line\":{\"color\":\"blue\",\"width\":2},\"mode\":\"lines+markers\",\"showlegend\":false,\"x\":[0.0,10.0],\"y\":[464.1108247422681,464.1108247422681],\"type\":\"scatter\"},{\"line\":{\"color\":\"blue\",\"width\":2},\"mode\":\"lines+markers\",\"showlegend\":false,\"x\":[0.0,10.0],\"y\":[470.0306056701031,470.0306056701031],\"type\":\"scatter\"},{\"line\":{\"color\":\"blue\",\"width\":2},\"mode\":\"lines+markers\",\"showlegend\":false,\"x\":[0.0,10.0],\"y\":[476.5423646907217,476.5423646907217],\"type\":\"scatter\"},{\"line\":{\"color\":\"blue\",\"width\":2},\"mode\":\"lines+markers\",\"showlegend\":false,\"x\":[0.0,10.0],\"y\":[484.8300579896908,484.8300579896908],\"type\":\"scatter\"},{\"line\":{\"color\":\"blue\",\"width\":2},\"mode\":\"lines+markers\",\"showlegend\":false,\"x\":[0.0,10.0],\"y\":[490.15786082474233,490.15786082474233],\"type\":\"scatter\"},{\"line\":{\"color\":\"blue\",\"width\":2},\"mode\":\"lines+markers\",\"showlegend\":false,\"x\":[0.0,10.0],\"y\":[497.2615979381444,497.2615979381444],\"type\":\"scatter\"},{\"line\":{\"color\":\"blue\",\"width\":2},\"mode\":\"lines+markers\",\"showlegend\":false,\"x\":[0.0,10.0],\"y\":[508.50918170103097,508.50918170103097],\"type\":\"scatter\"},{\"line\":{\"color\":\"blue\",\"width\":2},\"mode\":\"lines+markers\",\"showlegend\":false,\"x\":[0.0,10.0],\"y\":[518.5728092783505,518.5728092783505],\"type\":\"scatter\"},{\"line\":{\"color\":\"blue\",\"width\":2},\"mode\":\"lines+markers\",\"showlegend\":false,\"x\":[0.0,10.0],\"y\":[527.4524806701031,527.4524806701031],\"type\":\"scatter\"},{\"line\":{\"color\":\"blue\",\"width\":2},\"mode\":\"lines+markers\",\"showlegend\":false,\"x\":[0.0,10.0],\"y\":[533.3722615979382,533.3722615979382],\"type\":\"scatter\"},{\"line\":{\"color\":\"blue\",\"width\":2},\"mode\":\"lines+markers\",\"showlegend\":false,\"x\":[0.0,10.0],\"y\":[541.0679768041238,541.0679768041238],\"type\":\"scatter\"},{\"line\":{\"color\":\"blue\",\"width\":2},\"mode\":\"lines+markers\",\"showlegend\":false,\"x\":[0.0,10.0],\"y\":[546.9877577319588,546.9877577319588],\"type\":\"scatter\"},{\"line\":{\"color\":\"blue\",\"width\":2},\"mode\":\"lines+markers\",\"showlegend\":false,\"x\":[0.0,10.0],\"y\":[549.9476481958764,549.9476481958764],\"type\":\"scatter\"},{\"line\":{\"color\":\"blue\",\"width\":2},\"mode\":\"lines+markers\",\"showlegend\":false,\"x\":[0.0,10.0],\"y\":[558.827319587629,558.827319587629],\"type\":\"scatter\"},{\"line\":{\"color\":\"blue\",\"width\":2},\"mode\":\"lines+markers\",\"showlegend\":false,\"x\":[0.0,10.0],\"y\":[570.0749033505156,570.0749033505156],\"type\":\"scatter\"},{\"line\":{\"color\":\"blue\",\"width\":2},\"mode\":\"lines+markers\",\"showlegend\":false,\"x\":[0.0,10.0],\"y\":[575.9946842783505,575.9946842783505],\"type\":\"scatter\"},{\"line\":{\"color\":\"blue\",\"width\":2},\"mode\":\"lines+markers\",\"showlegend\":false,\"x\":[0.0,10.0],\"y\":[584.8743556701031,584.8743556701031],\"type\":\"scatter\"},{\"line\":{\"color\":\"blue\",\"width\":2},\"mode\":\"lines+markers\",\"showlegend\":false,\"x\":[0.0,10.0],\"y\":[599.0818298969073,599.0818298969073],\"type\":\"scatter\"},{\"line\":{\"color\":\"blue\",\"width\":2},\"mode\":\"lines+markers\",\"showlegend\":false,\"x\":[0.0,10.0],\"y\":[615.6572164948454,615.6572164948454],\"type\":\"scatter\"},{\"line\":{\"color\":\"blue\",\"width\":2},\"mode\":\"lines+markers\",\"showlegend\":false,\"x\":[0.0,10.0],\"y\":[618.617106958763,618.617106958763],\"type\":\"scatter\"},{\"line\":{\"color\":\"blue\",\"width\":2},\"mode\":\"lines+markers\",\"showlegend\":false,\"x\":[0.0,10.0],\"y\":[629.8646907216496,629.8646907216496],\"type\":\"scatter\"},{\"line\":{\"color\":\"blue\",\"width\":2},\"mode\":\"lines+markers\",\"showlegend\":false,\"x\":[0.0,10.0],\"y\":[633.4165592783506,633.4165592783506],\"type\":\"scatter\"},{\"line\":{\"color\":\"blue\",\"width\":2},\"mode\":\"lines+markers\",\"showlegend\":false,\"x\":[0.0,10.0],\"y\":[638.7443621134021,638.7443621134021],\"type\":\"scatter\"},{\"line\":{\"color\":\"blue\",\"width\":2},\"mode\":\"lines+markers\",\"showlegend\":false,\"x\":[0.0,10.0],\"y\":[643.4801868556701,643.4801868556701],\"type\":\"scatter\"},{\"line\":{\"color\":\"blue\",\"width\":2},\"mode\":\"lines+markers\",\"showlegend\":false,\"x\":[0.0,10.0],\"y\":[649.3999677835052,649.3999677835052],\"type\":\"scatter\"},{\"line\":{\"color\":\"blue\",\"width\":2},\"mode\":\"lines+markers\",\"showlegend\":false,\"x\":[0.0,10.0],\"y\":[657.0956829896908,657.0956829896908],\"type\":\"scatter\"},{\"line\":{\"color\":\"blue\",\"width\":2},\"mode\":\"lines+markers\",\"showlegend\":false,\"x\":[0.0,10.0],\"y\":[661.2395296391753,661.2395296391753],\"type\":\"scatter\"},{\"line\":{\"color\":\"blue\",\"width\":2},\"mode\":\"lines+markers\",\"showlegend\":false,\"x\":[0.0,10.0],\"y\":[696.7582152061857,696.7582152061857],\"type\":\"scatter\"},{\"line\":{\"color\":\"blue\",\"width\":2},\"mode\":\"lines+markers\",\"showlegend\":false,\"x\":[0.0,10.0],\"y\":[701.4940399484536,701.4940399484536],\"type\":\"scatter\"},{\"line\":{\"color\":\"blue\",\"width\":2},\"mode\":\"lines+markers\",\"showlegend\":false,\"x\":[0.0,10.0],\"y\":[710.3737113402062,710.3737113402062],\"type\":\"scatter\"},{\"line\":{\"color\":\"blue\",\"width\":2},\"mode\":\"lines+markers\",\"showlegend\":false,\"x\":[0.0,10.0],\"y\":[721.6212951030928,721.6212951030928],\"type\":\"scatter\"},{\"line\":{\"color\":\"blue\",\"width\":2},\"mode\":\"lines+markers\",\"showlegend\":false,\"x\":[0.0,10.0],\"y\":[729.9089884020619,729.9089884020619],\"type\":\"scatter\"},{\"line\":{\"color\":\"blue\",\"width\":2},\"mode\":\"lines+markers\",\"showlegend\":false,\"x\":[0.0,10.0],\"y\":[742.9325064432991,742.9325064432991],\"type\":\"scatter\"},{\"line\":{\"color\":\"blue\",\"width\":2},\"mode\":\"lines+markers\",\"showlegend\":false,\"x\":[0.0,10.0],\"y\":[744.7084407216496,744.7084407216496],\"type\":\"scatter\"},{\"line\":{\"color\":\"blue\",\"width\":2},\"mode\":\"lines+markers\",\"showlegend\":false,\"x\":[0.0,10.0],\"y\":[748.2603092783506,748.2603092783506],\"type\":\"scatter\"},{\"line\":{\"color\":\"blue\",\"width\":2},\"mode\":\"lines+markers\",\"showlegend\":false,\"x\":[0.0,10.0],\"y\":[776.6752577319588,776.6752577319588],\"type\":\"scatter\"},{\"line\":{\"color\":\"blue\",\"width\":2},\"mode\":\"lines+markers\",\"showlegend\":false,\"x\":[0.0,10.0],\"y\":[796.2105347938145,796.2105347938145],\"type\":\"scatter\"},{\"line\":{\"color\":\"blue\",\"width\":2},\"mode\":\"lines+markers\",\"showlegend\":false,\"x\":[0.0,10.0],\"y\":[798.5784471649486,798.5784471649486],\"type\":\"scatter\"},{\"line\":{\"color\":\"blue\",\"width\":2},\"mode\":\"lines+markers\",\"showlegend\":false,\"x\":[0.0,10.0],\"y\":[803.9062500000001,803.9062500000001],\"type\":\"scatter\"},{\"line\":{\"color\":\"blue\",\"width\":2},\"mode\":\"lines+markers\",\"showlegend\":false,\"x\":[0.0,10.0],\"y\":[807.4581185567012,807.4581185567012],\"type\":\"scatter\"},{\"line\":{\"color\":\"blue\",\"width\":2},\"mode\":\"lines+markers\",\"showlegend\":false,\"x\":[0.0,10.0],\"y\":[825.2174613402062,825.2174613402062],\"type\":\"scatter\"},{\"line\":{\"color\":\"blue\",\"width\":2},\"mode\":\"lines+markers\",\"showlegend\":false,\"x\":[0.0,10.0],\"y\":[833.5051546391753,833.5051546391753],\"type\":\"scatter\"},{\"line\":{\"color\":\"blue\",\"width\":2},\"mode\":\"lines+markers\",\"showlegend\":false,\"x\":[0.0,10.0],\"y\":[836.4650451030928,836.4650451030928],\"type\":\"scatter\"},{\"line\":{\"color\":\"blue\",\"width\":2},\"mode\":\"lines+markers\",\"showlegend\":false,\"x\":[0.0,10.0],\"y\":[841.7928479381444,841.7928479381444],\"type\":\"scatter\"},{\"line\":{\"color\":\"blue\",\"width\":2},\"mode\":\"lines+markers\",\"showlegend\":false,\"x\":[0.0,10.0],\"y\":[848.304606958763,848.304606958763],\"type\":\"scatter\"},{\"line\":{\"color\":\"blue\",\"width\":2},\"mode\":\"lines+markers\",\"showlegend\":false,\"x\":[0.0,10.0],\"y\":[856.5923002577321,856.5923002577321],\"type\":\"scatter\"},{\"line\":{\"color\":\"blue\",\"width\":2},\"mode\":\"lines+markers\",\"showlegend\":false,\"x\":[0.0,10.0],\"y\":[864.8799935567012,864.8799935567012],\"type\":\"scatter\"},{\"line\":{\"color\":\"blue\",\"width\":2},\"mode\":\"lines+markers\",\"showlegend\":false,\"x\":[0.0,10.0],\"y\":[867.2479059278352,867.2479059278352],\"type\":\"scatter\"},{\"line\":{\"color\":\"blue\",\"width\":2},\"mode\":\"lines+markers\",\"showlegend\":false,\"x\":[0.0,10.0],\"y\":[873.7596649484537,873.7596649484537],\"type\":\"scatter\"},{\"line\":{\"color\":\"blue\",\"width\":2},\"mode\":\"lines+markers\",\"showlegend\":false,\"x\":[0.0,10.0],\"y\":[885.5992268041238,885.5992268041238],\"type\":\"scatter\"},{\"line\":{\"color\":\"blue\",\"width\":2},\"mode\":\"lines+markers\",\"showlegend\":false,\"x\":[0.0,10.0],\"y\":[893.2949420103093,893.2949420103093],\"type\":\"scatter\"},{\"line\":{\"color\":\"blue\",\"width\":2},\"mode\":\"lines+markers\",\"showlegend\":false,\"x\":[0.0,10.0],\"y\":[910.462306701031,910.462306701031],\"type\":\"scatter\"},{\"line\":{\"color\":\"blue\",\"width\":2},\"mode\":\"lines+markers\",\"showlegend\":false,\"x\":[0.0,10.0],\"y\":[914.6061533505156,914.6061533505156],\"type\":\"scatter\"},{\"line\":{\"color\":\"blue\",\"width\":2},\"mode\":\"lines+markers\",\"showlegend\":false,\"x\":[0.0,10.0],\"y\":[919.9339561855672,919.9339561855672],\"type\":\"scatter\"},{\"line\":{\"color\":\"blue\",\"width\":2},\"mode\":\"lines+markers\",\"showlegend\":false,\"x\":[0.0,10.0],\"y\":[922.8938466494848,922.8938466494848],\"type\":\"scatter\"},{\"line\":{\"color\":\"blue\",\"width\":2},\"mode\":\"lines+markers\",\"showlegend\":false,\"x\":[0.0,10.0],\"y\":[932.3654961340208,932.3654961340208],\"type\":\"scatter\"},{\"line\":{\"color\":\"blue\",\"width\":2},\"mode\":\"lines+markers\",\"showlegend\":false,\"x\":[0.0,10.0],\"y\":[938.2852770618558,938.2852770618558],\"type\":\"scatter\"},{\"line\":{\"color\":\"blue\",\"width\":2},\"mode\":\"lines+markers\",\"showlegend\":false,\"x\":[0.0,10.0],\"y\":[941.8371456185567,941.8371456185567],\"type\":\"scatter\"},{\"line\":{\"color\":\"blue\",\"width\":2},\"mode\":\"lines+markers\",\"showlegend\":false,\"x\":[0.0,10.0],\"y\":[951.9007731958764,951.9007731958764],\"type\":\"scatter\"},{\"line\":{\"color\":\"blue\",\"width\":2},\"mode\":\"lines+markers\",\"showlegend\":false,\"x\":[0.0,10.0],\"y\":[961.964400773196,961.964400773196],\"type\":\"scatter\"},{\"line\":{\"color\":\"blue\",\"width\":2},\"mode\":\"lines+markers\",\"showlegend\":false,\"x\":[0.0,10.0],\"y\":[972.6200064432992,972.6200064432992],\"type\":\"scatter\"},{\"line\":{\"color\":\"blue\",\"width\":2},\"mode\":\"lines+markers\",\"showlegend\":false,\"x\":[0.0,10.0],\"y\":[974.9879188144332,974.9879188144332],\"type\":\"scatter\"},{\"line\":{\"color\":\"blue\",\"width\":2},\"mode\":\"lines+markers\",\"showlegend\":false,\"x\":[0.0,10.0],\"y\":[983.8675902061856,983.8675902061856],\"type\":\"scatter\"},{\"line\":{\"color\":\"blue\",\"width\":2},\"mode\":\"lines+markers\",\"showlegend\":false,\"x\":[0.0,10.0],\"y\":[989.1953930412373,989.1953930412373],\"type\":\"scatter\"},{\"line\":{\"color\":\"blue\",\"width\":2},\"mode\":\"lines+markers\",\"showlegend\":false,\"x\":[0.0,10.0],\"y\":[995.1151739690724,995.1151739690724],\"type\":\"scatter\"},{\"line\":{\"color\":\"blue\",\"width\":2},\"mode\":\"lines+markers\",\"showlegend\":false,\"x\":[0.0,10.0],\"y\":[1002.2189110824744,1002.2189110824744],\"type\":\"scatter\"},{\"line\":{\"color\":\"blue\",\"width\":2},\"mode\":\"lines+markers\",\"showlegend\":false,\"x\":[0.0,10.0],\"y\":[1012.282538659794,1012.282538659794],\"type\":\"scatter\"},{\"line\":{\"color\":\"blue\",\"width\":2},\"mode\":\"lines+markers\",\"showlegend\":false,\"x\":[0.0,10.0],\"y\":[1023.5301224226804,1023.5301224226804],\"type\":\"scatter\"},{\"line\":{\"color\":\"blue\",\"width\":2},\"mode\":\"lines+markers\",\"showlegend\":false,\"x\":[0.0,10.0],\"y\":[1031.8178157216496,1031.8178157216496],\"type\":\"scatter\"},{\"line\":{\"color\":\"blue\",\"width\":2},\"mode\":\"lines+markers\",\"showlegend\":false,\"x\":[0.0,10.0],\"y\":[1037.145618556701,1037.145618556701],\"type\":\"scatter\"},{\"line\":{\"color\":\"blue\",\"width\":2},\"mode\":\"lines+markers\",\"showlegend\":false,\"x\":[0.0,10.0],\"y\":[1057.864851804124,1057.864851804124],\"type\":\"scatter\"},{\"line\":{\"color\":\"blue\",\"width\":2},\"mode\":\"lines+markers\",\"showlegend\":false,\"x\":[0.0,10.0],\"y\":[1079.17606314433,1079.17606314433],\"type\":\"scatter\"},{\"line\":{\"color\":\"blue\",\"width\":2},\"mode\":\"lines+markers\",\"showlegend\":false,\"x\":[0.0,10.0],\"y\":[1082.7279317010311,1082.7279317010311],\"type\":\"scatter\"},{\"line\":{\"color\":\"blue\",\"width\":2},\"mode\":\"lines+markers\",\"showlegend\":false,\"x\":[0.0,10.0],\"y\":[1089.2396907216496,1089.2396907216496],\"type\":\"scatter\"},{\"line\":{\"color\":\"blue\",\"width\":2},\"mode\":\"lines+markers\",\"showlegend\":false,\"x\":[0.0,10.0],\"y\":[1092.199581185567,1092.199581185567],\"type\":\"scatter\"},{\"line\":{\"color\":\"blue\",\"width\":2},\"mode\":\"lines+markers\",\"showlegend\":false,\"x\":[0.0,10.0],\"y\":[1103.4471649484535,1103.4471649484535],\"type\":\"scatter\"},{\"line\":{\"color\":\"blue\",\"width\":2},\"mode\":\"lines+markers\",\"showlegend\":false,\"x\":[0.0,10.0],\"y\":[1109.3669458762888,1109.3669458762888],\"type\":\"scatter\"},{\"line\":{\"color\":\"blue\",\"width\":2},\"mode\":\"lines+markers\",\"showlegend\":false,\"x\":[0.0,10.0],\"y\":[1128.310244845361,1128.310244845361],\"type\":\"scatter\"},{\"line\":{\"color\":\"blue\",\"width\":2},\"mode\":\"lines+markers\",\"showlegend\":false,\"x\":[0.0,10.0],\"y\":[1136.0059600515465,1136.0059600515465],\"type\":\"scatter\"},{\"line\":{\"color\":\"blue\",\"width\":2},\"mode\":\"lines+markers\",\"showlegend\":false,\"x\":[0.0,10.0],\"y\":[1141.9257409793815,1141.9257409793815],\"type\":\"scatter\"},{\"line\":{\"color\":\"blue\",\"width\":2},\"mode\":\"lines+markers\",\"showlegend\":false,\"x\":[0.0,10.0],\"y\":[1144.2936533505156,1144.2936533505156],\"type\":\"scatter\"},{\"line\":{\"color\":\"blue\",\"width\":2},\"mode\":\"lines+markers\",\"showlegend\":false,\"x\":[0.0,10.0],\"y\":[1152.5813466494849,1152.5813466494849],\"type\":\"scatter\"},{\"line\":{\"color\":\"blue\",\"width\":2},\"mode\":\"lines+markers\",\"showlegend\":false,\"x\":[0.0,10.0],\"y\":[1162.0529961340208,1162.0529961340208],\"type\":\"scatter\"},{\"line\":{\"color\":\"blue\",\"width\":2},\"mode\":\"lines+markers\",\"showlegend\":false,\"x\":[0.0,10.0],\"y\":[1171.5246456185569,1171.5246456185569],\"type\":\"scatter\"},{\"line\":{\"color\":\"blue\",\"width\":2},\"mode\":\"lines+markers\",\"showlegend\":false,\"x\":[0.0,10.0],\"y\":[1185.1401417525774,1185.1401417525774],\"type\":\"scatter\"},{\"line\":{\"color\":\"blue\",\"width\":2},\"mode\":\"lines+markers\",\"showlegend\":false,\"x\":[0.0,10.0],\"y\":[1191.0599226804125,1191.0599226804125],\"type\":\"scatter\"},{\"line\":{\"color\":\"blue\",\"width\":2},\"mode\":\"lines+markers\",\"showlegend\":false,\"x\":[0.0,10.0],\"y\":[1203.4914626288662,1203.4914626288662],\"type\":\"scatter\"},{\"line\":{\"color\":\"blue\",\"width\":2},\"mode\":\"lines+markers\",\"showlegend\":false,\"x\":[0.0,10.0],\"y\":[1207.0433311855672,1207.0433311855672],\"type\":\"scatter\"},{\"line\":{\"color\":\"blue\",\"width\":2},\"mode\":\"lines+markers\",\"showlegend\":false,\"x\":[0.0,10.0],\"y\":[1211.1871778350517,1211.1871778350517],\"type\":\"scatter\"},{\"line\":{\"color\":\"blue\",\"width\":2},\"mode\":\"lines+markers\",\"showlegend\":false,\"x\":[0.0,10.0],\"y\":[1231.9064110824745,1231.9064110824745],\"type\":\"scatter\"},{\"line\":{\"color\":\"blue\",\"width\":2},\"mode\":\"lines+markers\",\"showlegend\":false,\"x\":[0.0,10.0],\"y\":[1242.5620167525774,1242.5620167525774],\"type\":\"scatter\"},{\"line\":{\"color\":\"blue\",\"width\":2},\"mode\":\"lines+markers\",\"showlegend\":false,\"x\":[0.0,10.0],\"y\":[1246.705863402062,1246.705863402062],\"type\":\"scatter\"},{\"line\":{\"color\":\"blue\",\"width\":2},\"mode\":\"lines+markers\",\"showlegend\":false,\"x\":[0.0,10.0],\"y\":[1251.44168814433,1251.44168814433],\"type\":\"scatter\"},{\"line\":{\"color\":\"blue\",\"width\":2},\"mode\":\"lines+markers\",\"showlegend\":false,\"x\":[0.0,10.0],\"y\":[1257.3614690721652,1257.3614690721652],\"type\":\"scatter\"},{\"line\":{\"color\":\"blue\",\"width\":2},\"mode\":\"lines+markers\",\"showlegend\":false,\"x\":[0.0,10.0],\"y\":[1260.9133376288662,1260.9133376288662],\"type\":\"scatter\"},{\"line\":{\"color\":\"blue\",\"width\":2},\"mode\":\"lines+markers\",\"showlegend\":false,\"x\":[0.0,10.0],\"y\":[1272.1609213917527,1272.1609213917527],\"type\":\"scatter\"},{\"line\":{\"color\":\"blue\",\"width\":2},\"mode\":\"lines+markers\",\"showlegend\":false,\"x\":[0.0,10.0],\"y\":[1279.8566365979382,1279.8566365979382],\"type\":\"scatter\"},{\"line\":{\"color\":\"blue\",\"width\":2},\"mode\":\"lines+markers\",\"showlegend\":false,\"x\":[0.0,10.0],\"y\":[1285.7764175257732,1285.7764175257732],\"type\":\"scatter\"},{\"line\":{\"color\":\"blue\",\"width\":2},\"mode\":\"lines+markers\",\"showlegend\":false,\"x\":[0.0,10.0],\"y\":[1296.4320231958764,1296.4320231958764],\"type\":\"scatter\"},{\"line\":{\"color\":\"blue\",\"width\":2},\"mode\":\"lines+markers\",\"showlegend\":false,\"x\":[0.0,10.0],\"y\":[1301.1678479381444,1301.1678479381444],\"type\":\"scatter\"},{\"line\":{\"color\":\"blue\",\"width\":2},\"mode\":\"lines+markers\",\"showlegend\":false,\"x\":[0.0,10.0],\"y\":[1310.047519329897,1310.047519329897],\"type\":\"scatter\"},{\"line\":{\"color\":\"blue\",\"width\":2},\"mode\":\"lines+markers\",\"showlegend\":false,\"x\":[0.0,10.0],\"y\":[1318.3352126288662,1318.3352126288662],\"type\":\"scatter\"},{\"line\":{\"color\":\"blue\",\"width\":2},\"mode\":\"lines+markers\",\"showlegend\":false,\"x\":[0.0,10.0],\"y\":[1328.990818298969,1328.990818298969],\"type\":\"scatter\"},{\"line\":{\"color\":\"blue\",\"width\":2},\"mode\":\"lines+markers\",\"showlegend\":false,\"x\":[0.0,10.0],\"y\":[1365.101481958763,1365.101481958763],\"type\":\"scatter\"},{\"line\":{\"color\":\"blue\",\"width\":2},\"mode\":\"lines+markers\",\"showlegend\":false,\"x\":[0.0,10.0],\"y\":[1394.7003865979382,1394.7003865979382],\"type\":\"scatter\"},{\"line\":{\"color\":\"blue\",\"width\":2},\"mode\":\"lines+markers\",\"showlegend\":false,\"x\":[0.0,10.0],\"y\":[1401.8041237113405,1401.8041237113405],\"type\":\"scatter\"},{\"line\":{\"color\":\"blue\",\"width\":2},\"mode\":\"lines+markers\",\"showlegend\":false,\"x\":[0.0,10.0],\"y\":[1403.5800579896909,1403.5800579896909],\"type\":\"scatter\"},{\"line\":{\"color\":\"blue\",\"width\":2},\"mode\":\"lines+markers\",\"showlegend\":false,\"x\":[0.0,10.0],\"y\":[1409.499838917526,1409.499838917526],\"type\":\"scatter\"},{\"line\":{\"color\":\"blue\",\"width\":2},\"mode\":\"lines+markers\",\"showlegend\":false,\"x\":[0.0,10.0],\"y\":[1417.1955541237114,1417.1955541237114],\"type\":\"scatter\"},{\"line\":{\"color\":\"blue\",\"width\":2},\"mode\":\"lines+markers\",\"showlegend\":false,\"x\":[0.0,10.0],\"y\":[1431.9950064432992,1431.9950064432992],\"type\":\"scatter\"},{\"line\":{\"color\":\"blue\",\"width\":2},\"mode\":\"lines+markers\",\"showlegend\":false,\"x\":[0.0,10.0],\"y\":[1439.6907216494849,1439.6907216494849],\"type\":\"scatter\"},{\"line\":{\"color\":\"blue\",\"width\":2},\"mode\":\"lines+markers\",\"showlegend\":false,\"x\":[0.0,10.0],\"y\":[1444.4265463917527,1444.4265463917527],\"type\":\"scatter\"},{\"line\":{\"color\":\"blue\",\"width\":2},\"mode\":\"lines+markers\",\"showlegend\":false,\"x\":[0.0,10.0],\"y\":[1450.3463273195878,1450.3463273195878],\"type\":\"scatter\"},{\"line\":{\"color\":\"blue\",\"width\":2},\"mode\":\"lines+markers\",\"showlegend\":false,\"x\":[0.0,10.0],\"y\":[1457.4500644329898,1457.4500644329898],\"type\":\"scatter\"},{\"line\":{\"color\":\"blue\",\"width\":2},\"mode\":\"lines+markers\",\"showlegend\":false,\"x\":[0.0,10.0],\"y\":[1652.210856958763,1652.210856958763],\"type\":\"scatter\"},{\"line\":{\"color\":\"blue\",\"width\":2},\"mode\":\"lines+markers\",\"showlegend\":false,\"x\":[0.0,10.0],\"y\":[1654.578769329897,1654.578769329897],\"type\":\"scatter\"},{\"line\":{\"color\":\"blue\",\"width\":2},\"mode\":\"lines+markers\",\"showlegend\":false,\"x\":[0.0,10.0],\"y\":[1722.0642719072166,1722.0642719072166],\"type\":\"scatter\"},{\"line\":{\"color\":\"blue\",\"width\":2},\"mode\":\"lines+markers\",\"showlegend\":false,\"x\":[0.0,10.0],\"y\":[1730.943943298969,1730.943943298969],\"type\":\"scatter\"},{\"line\":{\"color\":\"blue\",\"width\":2},\"mode\":\"lines+markers\",\"showlegend\":false,\"x\":[0.0,10.0],\"y\":[1739.2316365979384,1739.2316365979384],\"type\":\"scatter\"},{\"line\":{\"color\":\"blue\",\"width\":2},\"mode\":\"lines+markers\",\"showlegend\":false,\"x\":[0.0,10.0],\"y\":[1745.1514175257737,1745.1514175257737],\"type\":\"scatter\"},{\"line\":{\"color\":\"blue\",\"width\":2},\"mode\":\"lines+markers\",\"showlegend\":false,\"x\":[0.0,10.0],\"y\":[1752.2551546391755,1752.2551546391755],\"type\":\"scatter\"},{\"line\":{\"color\":\"blue\",\"width\":2},\"mode\":\"lines+markers\",\"showlegend\":false,\"x\":[0.0,10.0],\"y\":[1756.39900128866,1756.39900128866],\"type\":\"scatter\"},{\"line\":{\"color\":\"blue\",\"width\":2},\"mode\":\"lines+markers\",\"showlegend\":false,\"x\":[0.0,10.0],\"y\":[1758.766913659794,1758.766913659794],\"type\":\"scatter\"},{\"line\":{\"color\":\"blue\",\"width\":2},\"mode\":\"lines+markers\",\"showlegend\":false,\"x\":[0.0,10.0],\"y\":[1764.686694587629,1764.686694587629],\"type\":\"scatter\"},{\"line\":{\"color\":\"blue\",\"width\":2},\"mode\":\"lines+markers\",\"showlegend\":false,\"x\":[0.0,10.0],\"y\":[1771.1984536082475,1771.1984536082475],\"type\":\"scatter\"},{\"line\":{\"color\":\"blue\",\"width\":2},\"mode\":\"lines+markers\",\"showlegend\":false,\"x\":[0.0,10.0],\"y\":[1778.3021907216496,1778.3021907216496],\"type\":\"scatter\"},{\"line\":{\"color\":\"blue\",\"width\":2},\"mode\":\"lines+markers\",\"showlegend\":false,\"x\":[0.0,10.0],\"y\":[1781.2620811855672,1781.2620811855672],\"type\":\"scatter\"},{\"line\":{\"color\":\"blue\",\"width\":2},\"mode\":\"lines+markers\",\"showlegend\":false,\"x\":[0.0,10.0],\"y\":[1783.0380154639176,1783.0380154639176],\"type\":\"scatter\"},{\"line\":{\"color\":\"blue\",\"width\":2},\"mode\":\"lines+markers\",\"showlegend\":false,\"x\":[0.0,10.0],\"y\":[1791.9176868556704,1791.9176868556704],\"type\":\"scatter\"},{\"line\":{\"color\":\"blue\",\"width\":2},\"mode\":\"lines+markers\",\"showlegend\":false,\"x\":[0.0,10.0],\"y\":[1797.2454896907218,1797.2454896907218],\"type\":\"scatter\"},{\"line\":{\"color\":\"blue\",\"width\":2},\"mode\":\"lines+markers\",\"showlegend\":false,\"x\":[0.0,10.0],\"y\":[1802.5732925257728,1802.5732925257728],\"type\":\"scatter\"},{\"line\":{\"color\":\"blue\",\"width\":2},\"mode\":\"lines+markers\",\"showlegend\":false,\"x\":[0.0,10.0],\"y\":[1809.085051546392,1809.085051546392],\"type\":\"scatter\"},{\"line\":{\"color\":\"blue\",\"width\":2},\"mode\":\"lines+markers\",\"showlegend\":false,\"x\":[0.0,10.0],\"y\":[1816.7807667525776,1816.7807667525776],\"type\":\"scatter\"},{\"line\":{\"color\":\"blue\",\"width\":2},\"mode\":\"lines+markers\",\"showlegend\":false,\"x\":[0.0,10.0],\"y\":[1820.924613402062,1820.924613402062],\"type\":\"scatter\"},{\"line\":{\"color\":\"blue\",\"width\":2},\"mode\":\"lines+markers\",\"showlegend\":false,\"x\":[0.0,10.0],\"y\":[1822.7005476804125,1822.7005476804125],\"type\":\"scatter\"},{\"line\":{\"color\":\"blue\",\"width\":2},\"mode\":\"lines+markers\",\"showlegend\":false,\"x\":[0.0,10.0],\"y\":[1826.2524162371133,1826.2524162371133],\"type\":\"scatter\"},{\"line\":{\"color\":\"blue\",\"width\":2},\"mode\":\"lines+markers\",\"showlegend\":false,\"x\":[0.0,10.0],\"y\":[1926.8886920103096,1926.8886920103096],\"type\":\"scatter\"},{\"line\":{\"color\":\"blue\",\"width\":2},\"mode\":\"lines+markers\",\"showlegend\":false,\"x\":[0.0,10.0],\"y\":[1930.4405605670104,1930.4405605670104],\"type\":\"scatter\"},{\"line\":{\"color\":\"blue\",\"width\":2},\"mode\":\"lines+markers\",\"showlegend\":false,\"x\":[0.0,10.0],\"y\":[1972.47100515464,1972.47100515464],\"type\":\"scatter\"},{\"line\":{\"color\":\"blue\",\"width\":2},\"mode\":\"lines+markers\",\"showlegend\":false,\"x\":[0.0,10.0],\"y\":[1976.0228737113405,1976.0228737113405],\"type\":\"scatter\"},{\"line\":{\"color\":\"blue\",\"width\":2},\"mode\":\"lines+markers\",\"showlegend\":false,\"x\":[0.0,10.0],\"y\":[1981.9426546391755,1981.9426546391755],\"type\":\"scatter\"}],                        {\"template\":{\"data\":{\"barpolar\":[{\"marker\":{\"line\":{\"color\":\"white\",\"width\":0.5},\"pattern\":{\"fillmode\":\"overlay\",\"size\":10,\"solidity\":0.2}},\"type\":\"barpolar\"}],\"bar\":[{\"error_x\":{\"color\":\"#2a3f5f\"},\"error_y\":{\"color\":\"#2a3f5f\"},\"marker\":{\"line\":{\"color\":\"white\",\"width\":0.5},\"pattern\":{\"fillmode\":\"overlay\",\"size\":10,\"solidity\":0.2}},\"type\":\"bar\"}],\"carpet\":[{\"aaxis\":{\"endlinecolor\":\"#2a3f5f\",\"gridcolor\":\"#C8D4E3\",\"linecolor\":\"#C8D4E3\",\"minorgridcolor\":\"#C8D4E3\",\"startlinecolor\":\"#2a3f5f\"},\"baxis\":{\"endlinecolor\":\"#2a3f5f\",\"gridcolor\":\"#C8D4E3\",\"linecolor\":\"#C8D4E3\",\"minorgridcolor\":\"#C8D4E3\",\"startlinecolor\":\"#2a3f5f\"},\"type\":\"carpet\"}],\"choropleth\":[{\"colorbar\":{\"outlinewidth\":0,\"ticks\":\"\"},\"type\":\"choropleth\"}],\"contourcarpet\":[{\"colorbar\":{\"outlinewidth\":0,\"ticks\":\"\"},\"type\":\"contourcarpet\"}],\"contour\":[{\"colorbar\":{\"outlinewidth\":0,\"ticks\":\"\"},\"colorscale\":[[0.0,\"#0d0887\"],[0.1111111111111111,\"#46039f\"],[0.2222222222222222,\"#7201a8\"],[0.3333333333333333,\"#9c179e\"],[0.4444444444444444,\"#bd3786\"],[0.5555555555555556,\"#d8576b\"],[0.6666666666666666,\"#ed7953\"],[0.7777777777777778,\"#fb9f3a\"],[0.8888888888888888,\"#fdca26\"],[1.0,\"#f0f921\"]],\"type\":\"contour\"}],\"heatmapgl\":[{\"colorbar\":{\"outlinewidth\":0,\"ticks\":\"\"},\"colorscale\":[[0.0,\"#0d0887\"],[0.1111111111111111,\"#46039f\"],[0.2222222222222222,\"#7201a8\"],[0.3333333333333333,\"#9c179e\"],[0.4444444444444444,\"#bd3786\"],[0.5555555555555556,\"#d8576b\"],[0.6666666666666666,\"#ed7953\"],[0.7777777777777778,\"#fb9f3a\"],[0.8888888888888888,\"#fdca26\"],[1.0,\"#f0f921\"]],\"type\":\"heatmapgl\"}],\"heatmap\":[{\"colorbar\":{\"outlinewidth\":0,\"ticks\":\"\"},\"colorscale\":[[0.0,\"#0d0887\"],[0.1111111111111111,\"#46039f\"],[0.2222222222222222,\"#7201a8\"],[0.3333333333333333,\"#9c179e\"],[0.4444444444444444,\"#bd3786\"],[0.5555555555555556,\"#d8576b\"],[0.6666666666666666,\"#ed7953\"],[0.7777777777777778,\"#fb9f3a\"],[0.8888888888888888,\"#fdca26\"],[1.0,\"#f0f921\"]],\"type\":\"heatmap\"}],\"histogram2dcontour\":[{\"colorbar\":{\"outlinewidth\":0,\"ticks\":\"\"},\"colorscale\":[[0.0,\"#0d0887\"],[0.1111111111111111,\"#46039f\"],[0.2222222222222222,\"#7201a8\"],[0.3333333333333333,\"#9c179e\"],[0.4444444444444444,\"#bd3786\"],[0.5555555555555556,\"#d8576b\"],[0.6666666666666666,\"#ed7953\"],[0.7777777777777778,\"#fb9f3a\"],[0.8888888888888888,\"#fdca26\"],[1.0,\"#f0f921\"]],\"type\":\"histogram2dcontour\"}],\"histogram2d\":[{\"colorbar\":{\"outlinewidth\":0,\"ticks\":\"\"},\"colorscale\":[[0.0,\"#0d0887\"],[0.1111111111111111,\"#46039f\"],[0.2222222222222222,\"#7201a8\"],[0.3333333333333333,\"#9c179e\"],[0.4444444444444444,\"#bd3786\"],[0.5555555555555556,\"#d8576b\"],[0.6666666666666666,\"#ed7953\"],[0.7777777777777778,\"#fb9f3a\"],[0.8888888888888888,\"#fdca26\"],[1.0,\"#f0f921\"]],\"type\":\"histogram2d\"}],\"histogram\":[{\"marker\":{\"pattern\":{\"fillmode\":\"overlay\",\"size\":10,\"solidity\":0.2}},\"type\":\"histogram\"}],\"mesh3d\":[{\"colorbar\":{\"outlinewidth\":0,\"ticks\":\"\"},\"type\":\"mesh3d\"}],\"parcoords\":[{\"line\":{\"colorbar\":{\"outlinewidth\":0,\"ticks\":\"\"}},\"type\":\"parcoords\"}],\"pie\":[{\"automargin\":true,\"type\":\"pie\"}],\"scatter3d\":[{\"line\":{\"colorbar\":{\"outlinewidth\":0,\"ticks\":\"\"}},\"marker\":{\"colorbar\":{\"outlinewidth\":0,\"ticks\":\"\"}},\"type\":\"scatter3d\"}],\"scattercarpet\":[{\"marker\":{\"colorbar\":{\"outlinewidth\":0,\"ticks\":\"\"}},\"type\":\"scattercarpet\"}],\"scattergeo\":[{\"marker\":{\"colorbar\":{\"outlinewidth\":0,\"ticks\":\"\"}},\"type\":\"scattergeo\"}],\"scattergl\":[{\"marker\":{\"colorbar\":{\"outlinewidth\":0,\"ticks\":\"\"}},\"type\":\"scattergl\"}],\"scattermapbox\":[{\"marker\":{\"colorbar\":{\"outlinewidth\":0,\"ticks\":\"\"}},\"type\":\"scattermapbox\"}],\"scatterpolargl\":[{\"marker\":{\"colorbar\":{\"outlinewidth\":0,\"ticks\":\"\"}},\"type\":\"scatterpolargl\"}],\"scatterpolar\":[{\"marker\":{\"colorbar\":{\"outlinewidth\":0,\"ticks\":\"\"}},\"type\":\"scatterpolar\"}],\"scatter\":[{\"fillpattern\":{\"fillmode\":\"overlay\",\"size\":10,\"solidity\":0.2},\"type\":\"scatter\"}],\"scatterternary\":[{\"marker\":{\"colorbar\":{\"outlinewidth\":0,\"ticks\":\"\"}},\"type\":\"scatterternary\"}],\"surface\":[{\"colorbar\":{\"outlinewidth\":0,\"ticks\":\"\"},\"colorscale\":[[0.0,\"#0d0887\"],[0.1111111111111111,\"#46039f\"],[0.2222222222222222,\"#7201a8\"],[0.3333333333333333,\"#9c179e\"],[0.4444444444444444,\"#bd3786\"],[0.5555555555555556,\"#d8576b\"],[0.6666666666666666,\"#ed7953\"],[0.7777777777777778,\"#fb9f3a\"],[0.8888888888888888,\"#fdca26\"],[1.0,\"#f0f921\"]],\"type\":\"surface\"}],\"table\":[{\"cells\":{\"fill\":{\"color\":\"#EBF0F8\"},\"line\":{\"color\":\"white\"}},\"header\":{\"fill\":{\"color\":\"#C8D4E3\"},\"line\":{\"color\":\"white\"}},\"type\":\"table\"}]},\"layout\":{\"annotationdefaults\":{\"arrowcolor\":\"#2a3f5f\",\"arrowhead\":0,\"arrowwidth\":1},\"autotypenumbers\":\"strict\",\"coloraxis\":{\"colorbar\":{\"outlinewidth\":0,\"ticks\":\"\"}},\"colorscale\":{\"diverging\":[[0,\"#8e0152\"],[0.1,\"#c51b7d\"],[0.2,\"#de77ae\"],[0.3,\"#f1b6da\"],[0.4,\"#fde0ef\"],[0.5,\"#f7f7f7\"],[0.6,\"#e6f5d0\"],[0.7,\"#b8e186\"],[0.8,\"#7fbc41\"],[0.9,\"#4d9221\"],[1,\"#276419\"]],\"sequential\":[[0.0,\"#0d0887\"],[0.1111111111111111,\"#46039f\"],[0.2222222222222222,\"#7201a8\"],[0.3333333333333333,\"#9c179e\"],[0.4444444444444444,\"#bd3786\"],[0.5555555555555556,\"#d8576b\"],[0.6666666666666666,\"#ed7953\"],[0.7777777777777778,\"#fb9f3a\"],[0.8888888888888888,\"#fdca26\"],[1.0,\"#f0f921\"]],\"sequentialminus\":[[0.0,\"#0d0887\"],[0.1111111111111111,\"#46039f\"],[0.2222222222222222,\"#7201a8\"],[0.3333333333333333,\"#9c179e\"],[0.4444444444444444,\"#bd3786\"],[0.5555555555555556,\"#d8576b\"],[0.6666666666666666,\"#ed7953\"],[0.7777777777777778,\"#fb9f3a\"],[0.8888888888888888,\"#fdca26\"],[1.0,\"#f0f921\"]]},\"colorway\":[\"#636efa\",\"#EF553B\",\"#00cc96\",\"#ab63fa\",\"#FFA15A\",\"#19d3f3\",\"#FF6692\",\"#B6E880\",\"#FF97FF\",\"#FECB52\"],\"font\":{\"color\":\"#2a3f5f\"},\"geo\":{\"bgcolor\":\"white\",\"lakecolor\":\"white\",\"landcolor\":\"white\",\"showlakes\":true,\"showland\":true,\"subunitcolor\":\"#C8D4E3\"},\"hoverlabel\":{\"align\":\"left\"},\"hovermode\":\"closest\",\"mapbox\":{\"style\":\"light\"},\"paper_bgcolor\":\"white\",\"plot_bgcolor\":\"white\",\"polar\":{\"angularaxis\":{\"gridcolor\":\"#EBF0F8\",\"linecolor\":\"#EBF0F8\",\"ticks\":\"\"},\"bgcolor\":\"white\",\"radialaxis\":{\"gridcolor\":\"#EBF0F8\",\"linecolor\":\"#EBF0F8\",\"ticks\":\"\"}},\"scene\":{\"xaxis\":{\"backgroundcolor\":\"white\",\"gridcolor\":\"#DFE8F3\",\"gridwidth\":2,\"linecolor\":\"#EBF0F8\",\"showbackground\":true,\"ticks\":\"\",\"zerolinecolor\":\"#EBF0F8\"},\"yaxis\":{\"backgroundcolor\":\"white\",\"gridcolor\":\"#DFE8F3\",\"gridwidth\":2,\"linecolor\":\"#EBF0F8\",\"showbackground\":true,\"ticks\":\"\",\"zerolinecolor\":\"#EBF0F8\"},\"zaxis\":{\"backgroundcolor\":\"white\",\"gridcolor\":\"#DFE8F3\",\"gridwidth\":2,\"linecolor\":\"#EBF0F8\",\"showbackground\":true,\"ticks\":\"\",\"zerolinecolor\":\"#EBF0F8\"}},\"shapedefaults\":{\"line\":{\"color\":\"#2a3f5f\"}},\"ternary\":{\"aaxis\":{\"gridcolor\":\"#DFE8F3\",\"linecolor\":\"#A2B1C6\",\"ticks\":\"\"},\"baxis\":{\"gridcolor\":\"#DFE8F3\",\"linecolor\":\"#A2B1C6\",\"ticks\":\"\"},\"bgcolor\":\"white\",\"caxis\":{\"gridcolor\":\"#DFE8F3\",\"linecolor\":\"#A2B1C6\",\"ticks\":\"\"}},\"title\":{\"x\":0.05},\"xaxis\":{\"automargin\":true,\"gridcolor\":\"#EBF0F8\",\"linecolor\":\"#EBF0F8\",\"ticks\":\"\",\"title\":{\"standoff\":15},\"zerolinecolor\":\"#EBF0F8\",\"zerolinewidth\":2},\"yaxis\":{\"automargin\":true,\"gridcolor\":\"#EBF0F8\",\"linecolor\":\"#EBF0F8\",\"ticks\":\"\",\"title\":{\"standoff\":15},\"zerolinecolor\":\"#EBF0F8\",\"zerolinewidth\":2}}},\"title\":{\"text\":\"Time vs Frequency for Each Event (2D)\"},\"xaxis\":{\"title\":{\"text\":\"Time (s)\"}},\"yaxis\":{\"title\":{\"text\":\"Frequency\"}},\"showlegend\":false,\"width\":900,\"height\":1200},                        {\"responsive\": true}                    ).then(function(){\n",
       "                            \n",
       "var gd = document.getElementById('00524608-488b-41fd-bed6-b7bcc1f523f7');\n",
       "var x = new MutationObserver(function (mutations, observer) {{\n",
       "        var display = window.getComputedStyle(gd).display;\n",
       "        if (!display || display === 'none') {{\n",
       "            console.log([gd, 'removed!']);\n",
       "            Plotly.purge(gd);\n",
       "            observer.disconnect();\n",
       "        }}\n",
       "}});\n",
       "\n",
       "// Listen for the removal of the full notebook cells\n",
       "var notebookContainer = gd.closest('#notebook-container');\n",
       "if (notebookContainer) {{\n",
       "    x.observe(notebookContainer, {childList: true});\n",
       "}}\n",
       "\n",
       "// Listen for the clearing of the current output cell\n",
       "var outputEl = gd.closest('.output');\n",
       "if (outputEl) {{\n",
       "    x.observe(outputEl, {childList: true});\n",
       "}}\n",
       "\n",
       "                        })                };                });            </script>        </div>"
      ]
     },
     "metadata": {},
     "output_type": "display_data"
    },
    {
     "data": {
      "application/vnd.plotly.v1+json": {
       "config": {
        "plotlyServerURL": "https://plot.ly"
       },
       "data": [
        {
         "line": {
          "color": "blue",
          "width": 2
         },
         "marker": {
          "color": "red",
          "size": 4
         },
         "mode": "lines+markers",
         "showlegend": false,
         "type": "scatter3d",
         "x": [
          0,
          10
         ],
         "y": [
          63.341655927835056,
          63.341655927835056
         ],
         "z": [
          0.0872572596304956,
          0.0872572596304956
         ]
        },
        {
         "line": {
          "color": "blue",
          "width": 2
         },
         "marker": {
          "color": "red",
          "size": 4
         },
         "mode": "lines+markers",
         "showlegend": false,
         "type": "scatter3d",
         "x": [
          0,
          10
         ],
         "y": [
          75.77319587628867,
          75.77319587628867
         ],
         "z": [
          0.5055074354460668,
          0.5055074354460668
         ]
        },
        {
         "line": {
          "color": "blue",
          "width": 2
         },
         "marker": {
          "color": "red",
          "size": 4
         },
         "mode": "lines+markers",
         "showlegend": false,
         "type": "scatter3d",
         "x": [
          0,
          10
         ],
         "y": [
          100.63627577319588,
          100.63627577319588
         ],
         "z": [
          0.0728795939334174,
          0.0728795939334174
         ]
        },
        {
         "line": {
          "color": "blue",
          "width": 2
         },
         "marker": {
          "color": "red",
          "size": 4
         },
         "mode": "lines+markers",
         "showlegend": false,
         "type": "scatter3d",
         "x": [
          0,
          10
         ],
         "y": [
          114.84375,
          114.84375
         ],
         "z": [
          0.190861879131722,
          0.190861879131722
         ]
        },
        {
         "line": {
          "color": "blue",
          "width": 2
         },
         "marker": {
          "color": "red",
          "size": 4
         },
         "mode": "lines+markers",
         "showlegend": false,
         "type": "scatter3d",
         "x": [
          0,
          10
         ],
         "y": [
          126.68331185567013,
          126.68331185567013
         ],
         "z": [
          0.4155851719938334,
          0.4155851719938334
         ]
        },
        {
         "line": {
          "color": "blue",
          "width": 2
         },
         "marker": {
          "color": "red",
          "size": 4
         },
         "mode": "lines+markers",
         "showlegend": false,
         "type": "scatter3d",
         "x": [
          0,
          10
         ],
         "y": [
          140.29880798969074,
          140.29880798969074
         ],
         "z": [
          0.1993085410201005,
          0.1993085410201005
         ]
        },
        {
         "line": {
          "color": "blue",
          "width": 2
         },
         "marker": {
          "color": "red",
          "size": 4
         },
         "mode": "lines+markers",
         "showlegend": false,
         "type": "scatter3d",
         "x": [
          0,
          10
         ],
         "y": [
          154.50628221649487,
          154.50628221649487
         ],
         "z": [
          0.3024044699707487,
          0.3024044699707487
         ]
        },
        {
         "line": {
          "color": "blue",
          "width": 2
         },
         "marker": {
          "color": "red",
          "size": 4
         },
         "mode": "lines+markers",
         "showlegend": false,
         "type": "scatter3d",
         "x": [
          0,
          10
         ],
         "y": [
          163.97793170103094,
          163.97793170103094
         ],
         "z": [
          0.3302782478402992,
          0.3302782478402992
         ]
        },
        {
         "line": {
          "color": "blue",
          "width": 2
         },
         "marker": {
          "color": "red",
          "size": 4
         },
         "mode": "lines+markers",
         "showlegend": false,
         "type": "scatter3d",
         "x": [
          0,
          10
         ],
         "y": [
          169.897712628866,
          169.897712628866
         ],
         "z": [
          0.283589921384053,
          0.283589921384053
         ]
        },
        {
         "line": {
          "color": "blue",
          "width": 2
         },
         "marker": {
          "color": "red",
          "size": 4
         },
         "mode": "lines+markers",
         "showlegend": false,
         "type": "scatter3d",
         "x": [
          0,
          10
         ],
         "y": [
          176.40947164948454,
          176.40947164948454
         ],
         "z": [
          0.3183190937250841,
          0.3183190937250841
         ]
        },
        {
         "line": {
          "color": "blue",
          "width": 2
         },
         "marker": {
          "color": "red",
          "size": 4
         },
         "mode": "lines+markers",
         "showlegend": false,
         "type": "scatter3d",
         "x": [
          0,
          10
         ],
         "y": [
          181.7372744845361,
          181.7372744845361
         ],
         "z": [
          0.3650896336579267,
          0.3650896336579267
         ]
        },
        {
         "line": {
          "color": "blue",
          "width": 2
         },
         "marker": {
          "color": "red",
          "size": 4
         },
         "mode": "lines+markers",
         "showlegend": false,
         "type": "scatter3d",
         "x": [
          0,
          10
         ],
         "y": [
          189.43298969072168,
          189.43298969072168
         ],
         "z": [
          0.3331206436031892,
          0.3331206436031892
         ]
        },
        {
         "line": {
          "color": "blue",
          "width": 2
         },
         "marker": {
          "color": "red",
          "size": 4
         },
         "mode": "lines+markers",
         "showlegend": false,
         "type": "scatter3d",
         "x": [
          0,
          10
         ],
         "y": [
          194.1688144329897,
          194.1688144329897
         ],
         "z": [
          0.304221420585179,
          0.304221420585179
         ]
        },
        {
         "line": {
          "color": "blue",
          "width": 2
         },
         "marker": {
          "color": "red",
          "size": 4
         },
         "mode": "lines+markers",
         "showlegend": false,
         "type": "scatter3d",
         "x": [
          0,
          10
         ],
         "y": [
          200.0885953608248,
          200.0885953608248
         ],
         "z": [
          0.3178576535272264,
          0.3178576535272264
         ]
        },
        {
         "line": {
          "color": "blue",
          "width": 2
         },
         "marker": {
          "color": "red",
          "size": 4
         },
         "mode": "lines+markers",
         "showlegend": false,
         "type": "scatter3d",
         "x": [
          0,
          10
         ],
         "y": [
          203.0484858247423,
          203.0484858247423
         ],
         "z": [
          0.2975347087985689,
          0.2975347087985689
         ]
        },
        {
         "line": {
          "color": "blue",
          "width": 2
         },
         "marker": {
          "color": "red",
          "size": 4
         },
         "mode": "lines+markers",
         "showlegend": false,
         "type": "scatter3d",
         "x": [
          0,
          10
         ],
         "y": [
          210.15222293814435,
          210.15222293814435
         ],
         "z": [
          0.1799793685955071,
          0.1799793685955071
         ]
        },
        {
         "line": {
          "color": "blue",
          "width": 2
         },
         "marker": {
          "color": "red",
          "size": 4
         },
         "mode": "lines+markers",
         "showlegend": false,
         "type": "scatter3d",
         "x": [
          0,
          10
         ],
         "y": [
          212.5201353092784,
          212.5201353092784
         ],
         "z": [
          0.1796513433397457,
          0.1796513433397457
         ]
        },
        {
         "line": {
          "color": "blue",
          "width": 2
         },
         "marker": {
          "color": "red",
          "size": 4
         },
         "mode": "lines+markers",
         "showlegend": false,
         "type": "scatter3d",
         "x": [
          0,
          10
         ],
         "y": [
          218.43991623711344,
          218.43991623711344
         ],
         "z": [
          0.2046768848796449,
          0.2046768848796449
         ]
        },
        {
         "line": {
          "color": "blue",
          "width": 2
         },
         "marker": {
          "color": "red",
          "size": 4
         },
         "mode": "lines+markers",
         "showlegend": false,
         "type": "scatter3d",
         "x": [
          0,
          10
         ],
         "y": [
          229.0955219072165,
          229.0955219072165
         ],
         "z": [
          0.1420077464308907,
          0.1420077464308907
         ]
        },
        {
         "line": {
          "color": "blue",
          "width": 2
         },
         "marker": {
          "color": "red",
          "size": 4
         },
         "mode": "lines+markers",
         "showlegend": false,
         "type": "scatter3d",
         "x": [
          0,
          10
         ],
         "y": [
          239.1591494845361,
          239.1591494845361
         ],
         "z": [
          0.9292020004839688,
          0.9292020004839688
         ]
        },
        {
         "line": {
          "color": "blue",
          "width": 2
         },
         "marker": {
          "color": "red",
          "size": 4
         },
         "mode": "lines+markers",
         "showlegend": false,
         "type": "scatter3d",
         "x": [
          0,
          10
         ],
         "y": [
          249.2227770618557,
          249.2227770618557
         ],
         "z": [
          0.2848506894431918,
          0.2848506894431918
         ]
        },
        {
         "line": {
          "color": "blue",
          "width": 2
         },
         "marker": {
          "color": "red",
          "size": 4
         },
         "mode": "lines+markers",
         "showlegend": false,
         "type": "scatter3d",
         "x": [
          0,
          10
         ],
         "y": [
          260.4703608247423,
          260.4703608247423
         ],
         "z": [
          0.317778503353771,
          0.317778503353771
         ]
        },
        {
         "line": {
          "color": "blue",
          "width": 2
         },
         "marker": {
          "color": "red",
          "size": 4
         },
         "mode": "lines+markers",
         "showlegend": false,
         "type": "scatter3d",
         "x": [
          0,
          10
         ],
         "y": [
          263.4302512886598,
          263.4302512886598
         ],
         "z": [
          0.3301790143321215,
          0.3301790143321215
         ]
        },
        {
         "line": {
          "color": "blue",
          "width": 2
         },
         "marker": {
          "color": "red",
          "size": 4
         },
         "mode": "lines+markers",
         "showlegend": false,
         "type": "scatter3d",
         "x": [
          0,
          10
         ],
         "y": [
          266.39014175257734,
          266.39014175257734
         ],
         "z": [
          0.3270035741491189,
          0.3270035741491189
         ]
        },
        {
         "line": {
          "color": "blue",
          "width": 2
         },
         "marker": {
          "color": "red",
          "size": 4
         },
         "mode": "lines+markers",
         "showlegend": false,
         "type": "scatter3d",
         "x": [
          0,
          10
         ],
         "y": [
          273.4938788659794,
          273.4938788659794
         ],
         "z": [
          0.3751883712147636,
          0.3751883712147636
         ]
        },
        {
         "line": {
          "color": "blue",
          "width": 2
         },
         "marker": {
          "color": "red",
          "size": 4
         },
         "mode": "lines+markers",
         "showlegend": false,
         "type": "scatter3d",
         "x": [
          0,
          10
         ],
         "y": [
          278.22970360824746,
          278.22970360824746
         ],
         "z": [
          0.3350229298573943,
          0.3350229298573943
         ]
        },
        {
         "line": {
          "color": "blue",
          "width": 2
         },
         "marker": {
          "color": "red",
          "size": 4
         },
         "mode": "lines+markers",
         "showlegend": false,
         "type": "scatter3d",
         "x": [
          0,
          10
         ],
         "y": [
          282.9655283505155,
          282.9655283505155
         ],
         "z": [
          0.3890367237048453,
          0.3890367237048453
         ]
        },
        {
         "line": {
          "color": "blue",
          "width": 2
         },
         "marker": {
          "color": "red",
          "size": 4
         },
         "mode": "lines+markers",
         "showlegend": false,
         "type": "scatter3d",
         "x": [
          0,
          10
         ],
         "y": [
          293.02915592783506,
          293.02915592783506
         ],
         "z": [
          0.2281197312663641,
          0.2281197312663641
         ]
        },
        {
         "line": {
          "color": "blue",
          "width": 2
         },
         "marker": {
          "color": "red",
          "size": 4
         },
         "mode": "lines+markers",
         "showlegend": false,
         "type": "scatter3d",
         "x": [
          0,
          10
         ],
         "y": [
          300.72487113402065,
          300.72487113402065
         ],
         "z": [
          0.2707824778345502,
          0.2707824778345502
         ]
        },
        {
         "line": {
          "color": "blue",
          "width": 2
         },
         "marker": {
          "color": "red",
          "size": 4
         },
         "mode": "lines+markers",
         "showlegend": false,
         "type": "scatter3d",
         "x": [
          0,
          10
         ],
         "y": [
          321.4441043814433,
          321.4441043814433
         ],
         "z": [
          1,
          1
         ]
        },
        {
         "line": {
          "color": "blue",
          "width": 2
         },
         "marker": {
          "color": "red",
          "size": 4
         },
         "mode": "lines+markers",
         "showlegend": false,
         "type": "scatter3d",
         "x": [
          0,
          10
         ],
         "y": [
          333.87564432989694,
          333.87564432989694
         ],
         "z": [
          0.2227375955465794,
          0.2227375955465794
         ]
        },
        {
         "line": {
          "color": "blue",
          "width": 2
         },
         "marker": {
          "color": "red",
          "size": 4
         },
         "mode": "lines+markers",
         "showlegend": false,
         "type": "scatter3d",
         "x": [
          0,
          10
         ],
         "y": [
          339.2034471649485,
          339.2034471649485
         ],
         "z": [
          0.2572518369314859,
          0.2572518369314859
         ]
        },
        {
         "line": {
          "color": "blue",
          "width": 2
         },
         "marker": {
          "color": "red",
          "size": 4
         },
         "mode": "lines+markers",
         "showlegend": false,
         "type": "scatter3d",
         "x": [
          0,
          10
         ],
         "y": [
          345.71520618556707,
          345.71520618556707
         ],
         "z": [
          0.2240981528939,
          0.2240981528939
         ]
        },
        {
         "line": {
          "color": "blue",
          "width": 2
         },
         "marker": {
          "color": "red",
          "size": 4
         },
         "mode": "lines+markers",
         "showlegend": false,
         "type": "scatter3d",
         "x": [
          0,
          10
         ],
         "y": [
          347.4911404639176,
          347.4911404639176
         ],
         "z": [
          0.2225492727066272,
          0.2225492727066272
         ]
        },
        {
         "line": {
          "color": "blue",
          "width": 2
         },
         "marker": {
          "color": "red",
          "size": 4
         },
         "mode": "lines+markers",
         "showlegend": false,
         "type": "scatter3d",
         "x": [
          0,
          10
         ],
         "y": [
          356.96278994845363,
          356.96278994845363
         ],
         "z": [
          0.1250427571516194,
          0.1250427571516194
         ]
        },
        {
         "line": {
          "color": "blue",
          "width": 2
         },
         "marker": {
          "color": "red",
          "size": 4
         },
         "mode": "lines+markers",
         "showlegend": false,
         "type": "scatter3d",
         "x": [
          0,
          10
         ],
         "y": [
          362.8825708762887,
          362.8825708762887
         ],
         "z": [
          0.1080669458811114,
          0.1080669458811114
         ]
        },
        {
         "line": {
          "color": "blue",
          "width": 2
         },
         "marker": {
          "color": "red",
          "size": 4
         },
         "mode": "lines+markers",
         "showlegend": false,
         "type": "scatter3d",
         "x": [
          0,
          10
         ],
         "y": [
          369.9863079896908,
          369.9863079896908
         ],
         "z": [
          0.0899116368931042,
          0.0899116368931042
         ]
        },
        {
         "line": {
          "color": "blue",
          "width": 2
         },
         "marker": {
          "color": "red",
          "size": 4
         },
         "mode": "lines+markers",
         "showlegend": false,
         "type": "scatter3d",
         "x": [
          0,
          10
         ],
         "y": [
          378.86597938144337,
          378.86597938144337
         ],
         "z": [
          0.0913727436294576,
          0.0913727436294576
         ]
        },
        {
         "line": {
          "color": "blue",
          "width": 2
         },
         "marker": {
          "color": "red",
          "size": 4
         },
         "mode": "lines+markers",
         "showlegend": false,
         "type": "scatter3d",
         "x": [
          0,
          10
         ],
         "y": [
          384.19378221649487,
          384.19378221649487
         ],
         "z": [
          0.1681689872072273,
          0.1681689872072273
         ]
        },
        {
         "line": {
          "color": "blue",
          "width": 2
         },
         "marker": {
          "color": "red",
          "size": 4
         },
         "mode": "lines+markers",
         "showlegend": false,
         "type": "scatter3d",
         "x": [
          0,
          10
         ],
         "y": [
          390.70554123711344,
          390.70554123711344
         ],
         "z": [
          0.2604984561329933,
          0.2604984561329933
         ]
        },
        {
         "line": {
          "color": "blue",
          "width": 2
         },
         "marker": {
          "color": "red",
          "size": 4
         },
         "mode": "lines+markers",
         "showlegend": false,
         "type": "scatter3d",
         "x": [
          0,
          10
         ],
         "y": [
          393.66543170103097,
          393.66543170103097
         ],
         "z": [
          0.2545125148748408,
          0.2545125148748408
         ]
        },
        {
         "line": {
          "color": "blue",
          "width": 2
         },
         "marker": {
          "color": "red",
          "size": 4
         },
         "mode": "lines+markers",
         "showlegend": false,
         "type": "scatter3d",
         "x": [
          0,
          10
         ],
         "y": [
          397.8092783505155,
          397.8092783505155
         ],
         "z": [
          0.1595036940649361,
          0.1595036940649361
         ]
        },
        {
         "line": {
          "color": "blue",
          "width": 2
         },
         "marker": {
          "color": "red",
          "size": 4
         },
         "mode": "lines+markers",
         "showlegend": false,
         "type": "scatter3d",
         "x": [
          0,
          10
         ],
         "y": [
          404.9130154639176,
          404.9130154639176
         ],
         "z": [
          0.186950838827358,
          0.186950838827358
         ]
        },
        {
         "line": {
          "color": "blue",
          "width": 2
         },
         "marker": {
          "color": "red",
          "size": 4
         },
         "mode": "lines+markers",
         "showlegend": false,
         "type": "scatter3d",
         "x": [
          0,
          10
         ],
         "y": [
          413.7926868556701,
          413.7926868556701
         ],
         "z": [
          0.2333113634933185,
          0.2333113634933185
         ]
        },
        {
         "line": {
          "color": "blue",
          "width": 2
         },
         "marker": {
          "color": "red",
          "size": 4
         },
         "mode": "lines+markers",
         "showlegend": false,
         "type": "scatter3d",
         "x": [
          0,
          10
         ],
         "y": [
          436.8798324742269,
          436.8798324742269
         ],
         "z": [
          0.2816314752308237,
          0.2816314752308237
         ]
        },
        {
         "line": {
          "color": "blue",
          "width": 2
         },
         "marker": {
          "color": "red",
          "size": 4
         },
         "mode": "lines+markers",
         "showlegend": false,
         "type": "scatter3d",
         "x": [
          0,
          10
         ],
         "y": [
          448.12741623711344,
          448.12741623711344
         ],
         "z": [
          0.3314055321127593,
          0.3314055321127593
         ]
        },
        {
         "line": {
          "color": "blue",
          "width": 2
         },
         "marker": {
          "color": "red",
          "size": 4
         },
         "mode": "lines+markers",
         "showlegend": false,
         "type": "scatter3d",
         "x": [
          0,
          10
         ],
         "y": [
          457.5990657216496,
          457.5990657216496
         ],
         "z": [
          0.335422882509246,
          0.335422882509246
         ]
        },
        {
         "line": {
          "color": "blue",
          "width": 2
         },
         "marker": {
          "color": "red",
          "size": 4
         },
         "mode": "lines+markers",
         "showlegend": false,
         "type": "scatter3d",
         "x": [
          0,
          10
         ],
         "y": [
          464.1108247422681,
          464.1108247422681
         ],
         "z": [
          0.3579586501548429,
          0.3579586501548429
         ]
        },
        {
         "line": {
          "color": "blue",
          "width": 2
         },
         "marker": {
          "color": "red",
          "size": 4
         },
         "mode": "lines+markers",
         "showlegend": false,
         "type": "scatter3d",
         "x": [
          0,
          10
         ],
         "y": [
          470.0306056701031,
          470.0306056701031
         ],
         "z": [
          0.2500034470924099,
          0.2500034470924099
         ]
        },
        {
         "line": {
          "color": "blue",
          "width": 2
         },
         "marker": {
          "color": "red",
          "size": 4
         },
         "mode": "lines+markers",
         "showlegend": false,
         "type": "scatter3d",
         "x": [
          0,
          10
         ],
         "y": [
          476.5423646907217,
          476.5423646907217
         ],
         "z": [
          0.2281230893840701,
          0.2281230893840701
         ]
        },
        {
         "line": {
          "color": "blue",
          "width": 2
         },
         "marker": {
          "color": "red",
          "size": 4
         },
         "mode": "lines+markers",
         "showlegend": false,
         "type": "scatter3d",
         "x": [
          0,
          10
         ],
         "y": [
          484.8300579896908,
          484.8300579896908
         ],
         "z": [
          0.3220765953464086,
          0.3220765953464086
         ]
        },
        {
         "line": {
          "color": "blue",
          "width": 2
         },
         "marker": {
          "color": "red",
          "size": 4
         },
         "mode": "lines+markers",
         "showlegend": false,
         "type": "scatter3d",
         "x": [
          0,
          10
         ],
         "y": [
          490.15786082474233,
          490.15786082474233
         ],
         "z": [
          0.246035862846552,
          0.246035862846552
         ]
        },
        {
         "line": {
          "color": "blue",
          "width": 2
         },
         "marker": {
          "color": "red",
          "size": 4
         },
         "mode": "lines+markers",
         "showlegend": false,
         "type": "scatter3d",
         "x": [
          0,
          10
         ],
         "y": [
          497.2615979381444,
          497.2615979381444
         ],
         "z": [
          0.2990414142935916,
          0.2990414142935916
         ]
        },
        {
         "line": {
          "color": "blue",
          "width": 2
         },
         "marker": {
          "color": "red",
          "size": 4
         },
         "mode": "lines+markers",
         "showlegend": false,
         "type": "scatter3d",
         "x": [
          0,
          10
         ],
         "y": [
          508.50918170103097,
          508.50918170103097
         ],
         "z": [
          0.4216375379134869,
          0.4216375379134869
         ]
        },
        {
         "line": {
          "color": "blue",
          "width": 2
         },
         "marker": {
          "color": "red",
          "size": 4
         },
         "mode": "lines+markers",
         "showlegend": false,
         "type": "scatter3d",
         "x": [
          0,
          10
         ],
         "y": [
          518.5728092783505,
          518.5728092783505
         ],
         "z": [
          0.5253413201092629,
          0.5253413201092629
         ]
        },
        {
         "line": {
          "color": "blue",
          "width": 2
         },
         "marker": {
          "color": "red",
          "size": 4
         },
         "mode": "lines+markers",
         "showlegend": false,
         "type": "scatter3d",
         "x": [
          0,
          10
         ],
         "y": [
          527.4524806701031,
          527.4524806701031
         ],
         "z": [
          0.2766957235690527,
          0.2766957235690527
         ]
        },
        {
         "line": {
          "color": "blue",
          "width": 2
         },
         "marker": {
          "color": "red",
          "size": 4
         },
         "mode": "lines+markers",
         "showlegend": false,
         "type": "scatter3d",
         "x": [
          0,
          10
         ],
         "y": [
          533.3722615979382,
          533.3722615979382
         ],
         "z": [
          0.2702573791820916,
          0.2702573791820916
         ]
        },
        {
         "line": {
          "color": "blue",
          "width": 2
         },
         "marker": {
          "color": "red",
          "size": 4
         },
         "mode": "lines+markers",
         "showlegend": false,
         "type": "scatter3d",
         "x": [
          0,
          10
         ],
         "y": [
          541.0679768041238,
          541.0679768041238
         ],
         "z": [
          0.2883685238957213,
          0.2883685238957213
         ]
        },
        {
         "line": {
          "color": "blue",
          "width": 2
         },
         "marker": {
          "color": "red",
          "size": 4
         },
         "mode": "lines+markers",
         "showlegend": false,
         "type": "scatter3d",
         "x": [
          0,
          10
         ],
         "y": [
          546.9877577319588,
          546.9877577319588
         ],
         "z": [
          0.3578525977263718,
          0.3578525977263718
         ]
        },
        {
         "line": {
          "color": "blue",
          "width": 2
         },
         "marker": {
          "color": "red",
          "size": 4
         },
         "mode": "lines+markers",
         "showlegend": false,
         "type": "scatter3d",
         "x": [
          0,
          10
         ],
         "y": [
          549.9476481958764,
          549.9476481958764
         ],
         "z": [
          0.3258405081159594,
          0.3258405081159594
         ]
        },
        {
         "line": {
          "color": "blue",
          "width": 2
         },
         "marker": {
          "color": "red",
          "size": 4
         },
         "mode": "lines+markers",
         "showlegend": false,
         "type": "scatter3d",
         "x": [
          0,
          10
         ],
         "y": [
          558.827319587629,
          558.827319587629
         ],
         "z": [
          0.2460215336997886,
          0.2460215336997886
         ]
        },
        {
         "line": {
          "color": "blue",
          "width": 2
         },
         "marker": {
          "color": "red",
          "size": 4
         },
         "mode": "lines+markers",
         "showlegend": false,
         "type": "scatter3d",
         "x": [
          0,
          10
         ],
         "y": [
          570.0749033505156,
          570.0749033505156
         ],
         "z": [
          0.1833939408493947,
          0.1833939408493947
         ]
        },
        {
         "line": {
          "color": "blue",
          "width": 2
         },
         "marker": {
          "color": "red",
          "size": 4
         },
         "mode": "lines+markers",
         "showlegend": false,
         "type": "scatter3d",
         "x": [
          0,
          10
         ],
         "y": [
          575.9946842783505,
          575.9946842783505
         ],
         "z": [
          0.2651717542928279,
          0.2651717542928279
         ]
        },
        {
         "line": {
          "color": "blue",
          "width": 2
         },
         "marker": {
          "color": "red",
          "size": 4
         },
         "mode": "lines+markers",
         "showlegend": false,
         "type": "scatter3d",
         "x": [
          0,
          10
         ],
         "y": [
          584.8743556701031,
          584.8743556701031
         ],
         "z": [
          0.2870483154872936,
          0.2870483154872936
         ]
        },
        {
         "line": {
          "color": "blue",
          "width": 2
         },
         "marker": {
          "color": "red",
          "size": 4
         },
         "mode": "lines+markers",
         "showlegend": false,
         "type": "scatter3d",
         "x": [
          0,
          10
         ],
         "y": [
          599.0818298969073,
          599.0818298969073
         ],
         "z": [
          0.9600034078815988,
          0.9600034078815988
         ]
        },
        {
         "line": {
          "color": "blue",
          "width": 2
         },
         "marker": {
          "color": "red",
          "size": 4
         },
         "mode": "lines+markers",
         "showlegend": false,
         "type": "scatter3d",
         "x": [
          0,
          10
         ],
         "y": [
          615.6572164948454,
          615.6572164948454
         ],
         "z": [
          0.0607770255607302,
          0.0607770255607302
         ]
        },
        {
         "line": {
          "color": "blue",
          "width": 2
         },
         "marker": {
          "color": "red",
          "size": 4
         },
         "mode": "lines+markers",
         "showlegend": false,
         "type": "scatter3d",
         "x": [
          0,
          10
         ],
         "y": [
          618.617106958763,
          618.617106958763
         ],
         "z": [
          0.0608552054287953,
          0.0608552054287953
         ]
        },
        {
         "line": {
          "color": "blue",
          "width": 2
         },
         "marker": {
          "color": "red",
          "size": 4
         },
         "mode": "lines+markers",
         "showlegend": false,
         "type": "scatter3d",
         "x": [
          0,
          10
         ],
         "y": [
          629.8646907216496,
          629.8646907216496
         ],
         "z": [
          0.0526714942106289,
          0.0526714942106289
         ]
        },
        {
         "line": {
          "color": "blue",
          "width": 2
         },
         "marker": {
          "color": "red",
          "size": 4
         },
         "mode": "lines+markers",
         "showlegend": false,
         "type": "scatter3d",
         "x": [
          0,
          10
         ],
         "y": [
          633.4165592783506,
          633.4165592783506
         ],
         "z": [
          0.0583628670803719,
          0.0583628670803719
         ]
        },
        {
         "line": {
          "color": "blue",
          "width": 2
         },
         "marker": {
          "color": "red",
          "size": 4
         },
         "mode": "lines+markers",
         "showlegend": false,
         "type": "scatter3d",
         "x": [
          0,
          10
         ],
         "y": [
          638.7443621134021,
          638.7443621134021
         ],
         "z": [
          0.0657075017699622,
          0.0657075017699622
         ]
        },
        {
         "line": {
          "color": "blue",
          "width": 2
         },
         "marker": {
          "color": "red",
          "size": 4
         },
         "mode": "lines+markers",
         "showlegend": false,
         "type": "scatter3d",
         "x": [
          0,
          10
         ],
         "y": [
          643.4801868556701,
          643.4801868556701
         ],
         "z": [
          0.0734970399522124,
          0.0734970399522124
         ]
        },
        {
         "line": {
          "color": "blue",
          "width": 2
         },
         "marker": {
          "color": "red",
          "size": 4
         },
         "mode": "lines+markers",
         "showlegend": false,
         "type": "scatter3d",
         "x": [
          0,
          10
         ],
         "y": [
          649.3999677835052,
          649.3999677835052
         ],
         "z": [
          0.0703000238740727,
          0.0703000238740727
         ]
        },
        {
         "line": {
          "color": "blue",
          "width": 2
         },
         "marker": {
          "color": "red",
          "size": 4
         },
         "mode": "lines+markers",
         "showlegend": false,
         "type": "scatter3d",
         "x": [
          0,
          10
         ],
         "y": [
          657.0956829896908,
          657.0956829896908
         ],
         "z": [
          0.0609053960042794,
          0.0609053960042794
         ]
        },
        {
         "line": {
          "color": "blue",
          "width": 2
         },
         "marker": {
          "color": "red",
          "size": 4
         },
         "mode": "lines+markers",
         "showlegend": false,
         "type": "scatter3d",
         "x": [
          0,
          10
         ],
         "y": [
          661.2395296391753,
          661.2395296391753
         ],
         "z": [
          0.0611759404208076,
          0.0611759404208076
         ]
        },
        {
         "line": {
          "color": "blue",
          "width": 2
         },
         "marker": {
          "color": "red",
          "size": 4
         },
         "mode": "lines+markers",
         "showlegend": false,
         "type": "scatter3d",
         "x": [
          0,
          10
         ],
         "y": [
          696.7582152061857,
          696.7582152061857
         ],
         "z": [
          0.0456609823420641,
          0.0456609823420641
         ]
        },
        {
         "line": {
          "color": "blue",
          "width": 2
         },
         "marker": {
          "color": "red",
          "size": 4
         },
         "mode": "lines+markers",
         "showlegend": false,
         "type": "scatter3d",
         "x": [
          0,
          10
         ],
         "y": [
          701.4940399484536,
          701.4940399484536
         ],
         "z": [
          0.0341330624801246,
          0.0341330624801246
         ]
        },
        {
         "line": {
          "color": "blue",
          "width": 2
         },
         "marker": {
          "color": "red",
          "size": 4
         },
         "mode": "lines+markers",
         "showlegend": false,
         "type": "scatter3d",
         "x": [
          0,
          10
         ],
         "y": [
          710.3737113402062,
          710.3737113402062
         ],
         "z": [
          0.0433921690066363,
          0.0433921690066363
         ]
        },
        {
         "line": {
          "color": "blue",
          "width": 2
         },
         "marker": {
          "color": "red",
          "size": 4
         },
         "mode": "lines+markers",
         "showlegend": false,
         "type": "scatter3d",
         "x": [
          0,
          10
         ],
         "y": [
          721.6212951030928,
          721.6212951030928
         ],
         "z": [
          0.093948617674645,
          0.093948617674645
         ]
        },
        {
         "line": {
          "color": "blue",
          "width": 2
         },
         "marker": {
          "color": "red",
          "size": 4
         },
         "mode": "lines+markers",
         "showlegend": false,
         "type": "scatter3d",
         "x": [
          0,
          10
         ],
         "y": [
          729.9089884020619,
          729.9089884020619
         ],
         "z": [
          0.035002874920025,
          0.035002874920025
         ]
        },
        {
         "line": {
          "color": "blue",
          "width": 2
         },
         "marker": {
          "color": "red",
          "size": 4
         },
         "mode": "lines+markers",
         "showlegend": false,
         "type": "scatter3d",
         "x": [
          0,
          10
         ],
         "y": [
          742.9325064432991,
          742.9325064432991
         ],
         "z": [
          0.061903999533846,
          0.061903999533846
         ]
        },
        {
         "line": {
          "color": "blue",
          "width": 2
         },
         "marker": {
          "color": "red",
          "size": 4
         },
         "mode": "lines+markers",
         "showlegend": false,
         "type": "scatter3d",
         "x": [
          0,
          10
         ],
         "y": [
          744.7084407216496,
          744.7084407216496
         ],
         "z": [
          0.0622001029136549,
          0.0622001029136549
         ]
        },
        {
         "line": {
          "color": "blue",
          "width": 2
         },
         "marker": {
          "color": "red",
          "size": 4
         },
         "mode": "lines+markers",
         "showlegend": false,
         "type": "scatter3d",
         "x": [
          0,
          10
         ],
         "y": [
          748.2603092783506,
          748.2603092783506
         ],
         "z": [
          0.0604035702916586,
          0.0604035702916586
         ]
        },
        {
         "line": {
          "color": "blue",
          "width": 2
         },
         "marker": {
          "color": "red",
          "size": 4
         },
         "mode": "lines+markers",
         "showlegend": false,
         "type": "scatter3d",
         "x": [
          0,
          10
         ],
         "y": [
          776.6752577319588,
          776.6752577319588
         ],
         "z": [
          0.3290367344874931,
          0.3290367344874931
         ]
        },
        {
         "line": {
          "color": "blue",
          "width": 2
         },
         "marker": {
          "color": "red",
          "size": 4
         },
         "mode": "lines+markers",
         "showlegend": false,
         "type": "scatter3d",
         "x": [
          0,
          10
         ],
         "y": [
          796.2105347938145,
          796.2105347938145
         ],
         "z": [
          0.0481431955666357,
          0.0481431955666357
         ]
        },
        {
         "line": {
          "color": "blue",
          "width": 2
         },
         "marker": {
          "color": "red",
          "size": 4
         },
         "mode": "lines+markers",
         "showlegend": false,
         "type": "scatter3d",
         "x": [
          0,
          10
         ],
         "y": [
          798.5784471649486,
          798.5784471649486
         ],
         "z": [
          0.0479456219190943,
          0.0479456219190943
         ]
        },
        {
         "line": {
          "color": "blue",
          "width": 2
         },
         "marker": {
          "color": "red",
          "size": 4
         },
         "mode": "lines+markers",
         "showlegend": false,
         "type": "scatter3d",
         "x": [
          0,
          10
         ],
         "y": [
          803.9062500000001,
          803.9062500000001
         ],
         "z": [
          0.0336536864164656,
          0.0336536864164656
         ]
        },
        {
         "line": {
          "color": "blue",
          "width": 2
         },
         "marker": {
          "color": "red",
          "size": 4
         },
         "mode": "lines+markers",
         "showlegend": false,
         "type": "scatter3d",
         "x": [
          0,
          10
         ],
         "y": [
          807.4581185567012,
          807.4581185567012
         ],
         "z": [
          0.0315505741261331,
          0.0315505741261331
         ]
        },
        {
         "line": {
          "color": "blue",
          "width": 2
         },
         "marker": {
          "color": "red",
          "size": 4
         },
         "mode": "lines+markers",
         "showlegend": false,
         "type": "scatter3d",
         "x": [
          0,
          10
         ],
         "y": [
          825.2174613402062,
          825.2174613402062
         ],
         "z": [
          0.0264601262671278,
          0.0264601262671278
         ]
        },
        {
         "line": {
          "color": "blue",
          "width": 2
         },
         "marker": {
          "color": "red",
          "size": 4
         },
         "mode": "lines+markers",
         "showlegend": false,
         "type": "scatter3d",
         "x": [
          0,
          10
         ],
         "y": [
          833.5051546391753,
          833.5051546391753
         ],
         "z": [
          0.031927224687048,
          0.031927224687048
         ]
        },
        {
         "line": {
          "color": "blue",
          "width": 2
         },
         "marker": {
          "color": "red",
          "size": 4
         },
         "mode": "lines+markers",
         "showlegend": false,
         "type": "scatter3d",
         "x": [
          0,
          10
         ],
         "y": [
          836.4650451030928,
          836.4650451030928
         ],
         "z": [
          0.0261435610995635,
          0.0261435610995635
         ]
        },
        {
         "line": {
          "color": "blue",
          "width": 2
         },
         "marker": {
          "color": "red",
          "size": 4
         },
         "mode": "lines+markers",
         "showlegend": false,
         "type": "scatter3d",
         "x": [
          0,
          10
         ],
         "y": [
          841.7928479381444,
          841.7928479381444
         ],
         "z": [
          0.0217453429379495,
          0.0217453429379495
         ]
        },
        {
         "line": {
          "color": "blue",
          "width": 2
         },
         "marker": {
          "color": "red",
          "size": 4
         },
         "mode": "lines+markers",
         "showlegend": false,
         "type": "scatter3d",
         "x": [
          0,
          10
         ],
         "y": [
          848.304606958763,
          848.304606958763
         ],
         "z": [
          0.0396376246304432,
          0.0396376246304432
         ]
        },
        {
         "line": {
          "color": "blue",
          "width": 2
         },
         "marker": {
          "color": "red",
          "size": 4
         },
         "mode": "lines+markers",
         "showlegend": false,
         "type": "scatter3d",
         "x": [
          0,
          10
         ],
         "y": [
          856.5923002577321,
          856.5923002577321
         ],
         "z": [
          0.0357643445898905,
          0.0357643445898905
         ]
        },
        {
         "line": {
          "color": "blue",
          "width": 2
         },
         "marker": {
          "color": "red",
          "size": 4
         },
         "mode": "lines+markers",
         "showlegend": false,
         "type": "scatter3d",
         "x": [
          0,
          10
         ],
         "y": [
          864.8799935567012,
          864.8799935567012
         ],
         "z": [
          0.0552006298280979,
          0.0552006298280979
         ]
        },
        {
         "line": {
          "color": "blue",
          "width": 2
         },
         "marker": {
          "color": "red",
          "size": 4
         },
         "mode": "lines+markers",
         "showlegend": false,
         "type": "scatter3d",
         "x": [
          0,
          10
         ],
         "y": [
          867.2479059278352,
          867.2479059278352
         ],
         "z": [
          0.0539521443061204,
          0.0539521443061204
         ]
        },
        {
         "line": {
          "color": "blue",
          "width": 2
         },
         "marker": {
          "color": "red",
          "size": 4
         },
         "mode": "lines+markers",
         "showlegend": false,
         "type": "scatter3d",
         "x": [
          0,
          10
         ],
         "y": [
          873.7596649484537,
          873.7596649484537
         ],
         "z": [
          0.0564459424317458,
          0.0564459424317458
         ]
        },
        {
         "line": {
          "color": "blue",
          "width": 2
         },
         "marker": {
          "color": "red",
          "size": 4
         },
         "mode": "lines+markers",
         "showlegend": false,
         "type": "scatter3d",
         "x": [
          0,
          10
         ],
         "y": [
          885.5992268041238,
          885.5992268041238
         ],
         "z": [
          0.0477631453386673,
          0.0477631453386673
         ]
        },
        {
         "line": {
          "color": "blue",
          "width": 2
         },
         "marker": {
          "color": "red",
          "size": 4
         },
         "mode": "lines+markers",
         "showlegend": false,
         "type": "scatter3d",
         "x": [
          0,
          10
         ],
         "y": [
          893.2949420103093,
          893.2949420103093
         ],
         "z": [
          0.0370912302184943,
          0.0370912302184943
         ]
        },
        {
         "line": {
          "color": "blue",
          "width": 2
         },
         "marker": {
          "color": "red",
          "size": 4
         },
         "mode": "lines+markers",
         "showlegend": false,
         "type": "scatter3d",
         "x": [
          0,
          10
         ],
         "y": [
          910.462306701031,
          910.462306701031
         ],
         "z": [
          0.0481633319011694,
          0.0481633319011694
         ]
        },
        {
         "line": {
          "color": "blue",
          "width": 2
         },
         "marker": {
          "color": "red",
          "size": 4
         },
         "mode": "lines+markers",
         "showlegend": false,
         "type": "scatter3d",
         "x": [
          0,
          10
         ],
         "y": [
          914.6061533505156,
          914.6061533505156
         ],
         "z": [
          0.0428965015187036,
          0.0428965015187036
         ]
        },
        {
         "line": {
          "color": "blue",
          "width": 2
         },
         "marker": {
          "color": "red",
          "size": 4
         },
         "mode": "lines+markers",
         "showlegend": false,
         "type": "scatter3d",
         "x": [
          0,
          10
         ],
         "y": [
          919.9339561855672,
          919.9339561855672
         ],
         "z": [
          0.0488350041085421,
          0.0488350041085421
         ]
        },
        {
         "line": {
          "color": "blue",
          "width": 2
         },
         "marker": {
          "color": "red",
          "size": 4
         },
         "mode": "lines+markers",
         "showlegend": false,
         "type": "scatter3d",
         "x": [
          0,
          10
         ],
         "y": [
          922.8938466494848,
          922.8938466494848
         ],
         "z": [
          0.0482420859389609,
          0.0482420859389609
         ]
        },
        {
         "line": {
          "color": "blue",
          "width": 2
         },
         "marker": {
          "color": "red",
          "size": 4
         },
         "mode": "lines+markers",
         "showlegend": false,
         "type": "scatter3d",
         "x": [
          0,
          10
         ],
         "y": [
          932.3654961340208,
          932.3654961340208
         ],
         "z": [
          0.04648592373092,
          0.04648592373092
         ]
        },
        {
         "line": {
          "color": "blue",
          "width": 2
         },
         "marker": {
          "color": "red",
          "size": 4
         },
         "mode": "lines+markers",
         "showlegend": false,
         "type": "scatter3d",
         "x": [
          0,
          10
         ],
         "y": [
          938.2852770618558,
          938.2852770618558
         ],
         "z": [
          0.0406932862044845,
          0.0406932862044845
         ]
        },
        {
         "line": {
          "color": "blue",
          "width": 2
         },
         "marker": {
          "color": "red",
          "size": 4
         },
         "mode": "lines+markers",
         "showlegend": false,
         "type": "scatter3d",
         "x": [
          0,
          10
         ],
         "y": [
          941.8371456185567,
          941.8371456185567
         ],
         "z": [
          0.0406576929374755,
          0.0406576929374755
         ]
        },
        {
         "line": {
          "color": "blue",
          "width": 2
         },
         "marker": {
          "color": "red",
          "size": 4
         },
         "mode": "lines+markers",
         "showlegend": false,
         "type": "scatter3d",
         "x": [
          0,
          10
         ],
         "y": [
          951.9007731958764,
          951.9007731958764
         ],
         "z": [
          0.0346597502428389,
          0.0346597502428389
         ]
        },
        {
         "line": {
          "color": "blue",
          "width": 2
         },
         "marker": {
          "color": "red",
          "size": 4
         },
         "mode": "lines+markers",
         "showlegend": false,
         "type": "scatter3d",
         "x": [
          0,
          10
         ],
         "y": [
          961.964400773196,
          961.964400773196
         ],
         "z": [
          0.0288572579465925,
          0.0288572579465925
         ]
        },
        {
         "line": {
          "color": "blue",
          "width": 2
         },
         "marker": {
          "color": "red",
          "size": 4
         },
         "mode": "lines+markers",
         "showlegend": false,
         "type": "scatter3d",
         "x": [
          0,
          10
         ],
         "y": [
          972.6200064432992,
          972.6200064432992
         ],
         "z": [
          0.1135107803239642,
          0.1135107803239642
         ]
        },
        {
         "line": {
          "color": "blue",
          "width": 2
         },
         "marker": {
          "color": "red",
          "size": 4
         },
         "mode": "lines+markers",
         "showlegend": false,
         "type": "scatter3d",
         "x": [
          0,
          10
         ],
         "y": [
          974.9879188144332,
          974.9879188144332
         ],
         "z": [
          0.1113209937412694,
          0.1113209937412694
         ]
        },
        {
         "line": {
          "color": "blue",
          "width": 2
         },
         "marker": {
          "color": "red",
          "size": 4
         },
         "mode": "lines+markers",
         "showlegend": false,
         "type": "scatter3d",
         "x": [
          0,
          10
         ],
         "y": [
          983.8675902061856,
          983.8675902061856
         ],
         "z": [
          0.1459757963767739,
          0.1459757963767739
         ]
        },
        {
         "line": {
          "color": "blue",
          "width": 2
         },
         "marker": {
          "color": "red",
          "size": 4
         },
         "mode": "lines+markers",
         "showlegend": false,
         "type": "scatter3d",
         "x": [
          0,
          10
         ],
         "y": [
          989.1953930412373,
          989.1953930412373
         ],
         "z": [
          0.1875461847863182,
          0.1875461847863182
         ]
        },
        {
         "line": {
          "color": "blue",
          "width": 2
         },
         "marker": {
          "color": "red",
          "size": 4
         },
         "mode": "lines+markers",
         "showlegend": false,
         "type": "scatter3d",
         "x": [
          0,
          10
         ],
         "y": [
          995.1151739690724,
          995.1151739690724
         ],
         "z": [
          0.216110345760488,
          0.216110345760488
         ]
        },
        {
         "line": {
          "color": "blue",
          "width": 2
         },
         "marker": {
          "color": "red",
          "size": 4
         },
         "mode": "lines+markers",
         "showlegend": false,
         "type": "scatter3d",
         "x": [
          0,
          10
         ],
         "y": [
          1002.2189110824744,
          1002.2189110824744
         ],
         "z": [
          0.208893877505819,
          0.208893877505819
         ]
        },
        {
         "line": {
          "color": "blue",
          "width": 2
         },
         "marker": {
          "color": "red",
          "size": 4
         },
         "mode": "lines+markers",
         "showlegend": false,
         "type": "scatter3d",
         "x": [
          0,
          10
         ],
         "y": [
          1012.282538659794,
          1012.282538659794
         ],
         "z": [
          0.0851039505779036,
          0.0851039505779036
         ]
        },
        {
         "line": {
          "color": "blue",
          "width": 2
         },
         "marker": {
          "color": "red",
          "size": 4
         },
         "mode": "lines+markers",
         "showlegend": false,
         "type": "scatter3d",
         "x": [
          0,
          10
         ],
         "y": [
          1023.5301224226804,
          1023.5301224226804
         ],
         "z": [
          0.0622206942672529,
          0.0622206942672529
         ]
        },
        {
         "line": {
          "color": "blue",
          "width": 2
         },
         "marker": {
          "color": "red",
          "size": 4
         },
         "mode": "lines+markers",
         "showlegend": false,
         "type": "scatter3d",
         "x": [
          0,
          10
         ],
         "y": [
          1031.8178157216496,
          1031.8178157216496
         ],
         "z": [
          0.054012039357389,
          0.054012039357389
         ]
        },
        {
         "line": {
          "color": "blue",
          "width": 2
         },
         "marker": {
          "color": "red",
          "size": 4
         },
         "mode": "lines+markers",
         "showlegend": false,
         "type": "scatter3d",
         "x": [
          0,
          10
         ],
         "y": [
          1037.145618556701,
          1037.145618556701
         ],
         "z": [
          0.0510038703470492,
          0.0510038703470492
         ]
        },
        {
         "line": {
          "color": "blue",
          "width": 2
         },
         "marker": {
          "color": "red",
          "size": 4
         },
         "mode": "lines+markers",
         "showlegend": false,
         "type": "scatter3d",
         "x": [
          0,
          10
         ],
         "y": [
          1057.864851804124,
          1057.864851804124
         ],
         "z": [
          0.0217424219329419,
          0.0217424219329419
         ]
        },
        {
         "line": {
          "color": "blue",
          "width": 2
         },
         "marker": {
          "color": "red",
          "size": 4
         },
         "mode": "lines+markers",
         "showlegend": false,
         "type": "scatter3d",
         "x": [
          0,
          10
         ],
         "y": [
          1079.17606314433,
          1079.17606314433
         ],
         "z": [
          0.0230984515162427,
          0.0230984515162427
         ]
        },
        {
         "line": {
          "color": "blue",
          "width": 2
         },
         "marker": {
          "color": "red",
          "size": 4
         },
         "mode": "lines+markers",
         "showlegend": false,
         "type": "scatter3d",
         "x": [
          0,
          10
         ],
         "y": [
          1082.7279317010311,
          1082.7279317010311
         ],
         "z": [
          0.0254832572066493,
          0.0254832572066493
         ]
        },
        {
         "line": {
          "color": "blue",
          "width": 2
         },
         "marker": {
          "color": "red",
          "size": 4
         },
         "mode": "lines+markers",
         "showlegend": false,
         "type": "scatter3d",
         "x": [
          0,
          10
         ],
         "y": [
          1089.2396907216496,
          1089.2396907216496
         ],
         "z": [
          0.0254441247368371,
          0.0254441247368371
         ]
        },
        {
         "line": {
          "color": "blue",
          "width": 2
         },
         "marker": {
          "color": "red",
          "size": 4
         },
         "mode": "lines+markers",
         "showlegend": false,
         "type": "scatter3d",
         "x": [
          0,
          10
         ],
         "y": [
          1092.199581185567,
          1092.199581185567
         ],
         "z": [
          0.0294618071706367,
          0.0294618071706367
         ]
        },
        {
         "line": {
          "color": "blue",
          "width": 2
         },
         "marker": {
          "color": "red",
          "size": 4
         },
         "mode": "lines+markers",
         "showlegend": false,
         "type": "scatter3d",
         "x": [
          0,
          10
         ],
         "y": [
          1103.4471649484535,
          1103.4471649484535
         ],
         "z": [
          0.0406317106220899,
          0.0406317106220899
         ]
        },
        {
         "line": {
          "color": "blue",
          "width": 2
         },
         "marker": {
          "color": "red",
          "size": 4
         },
         "mode": "lines+markers",
         "showlegend": false,
         "type": "scatter3d",
         "x": [
          0,
          10
         ],
         "y": [
          1109.3669458762888,
          1109.3669458762888
         ],
         "z": [
          0.0388709052298601,
          0.0388709052298601
         ]
        },
        {
         "line": {
          "color": "blue",
          "width": 2
         },
         "marker": {
          "color": "red",
          "size": 4
         },
         "mode": "lines+markers",
         "showlegend": false,
         "type": "scatter3d",
         "x": [
          0,
          10
         ],
         "y": [
          1128.310244845361,
          1128.310244845361
         ],
         "z": [
          0.0688633551629628,
          0.0688633551629628
         ]
        },
        {
         "line": {
          "color": "blue",
          "width": 2
         },
         "marker": {
          "color": "red",
          "size": 4
         },
         "mode": "lines+markers",
         "showlegend": false,
         "type": "scatter3d",
         "x": [
          0,
          10
         ],
         "y": [
          1136.0059600515465,
          1136.0059600515465
         ],
         "z": [
          0.077186569042029,
          0.077186569042029
         ]
        },
        {
         "line": {
          "color": "blue",
          "width": 2
         },
         "marker": {
          "color": "red",
          "size": 4
         },
         "mode": "lines+markers",
         "showlegend": false,
         "type": "scatter3d",
         "x": [
          0,
          10
         ],
         "y": [
          1141.9257409793815,
          1141.9257409793815
         ],
         "z": [
          0.0606895031219923,
          0.0606895031219923
         ]
        },
        {
         "line": {
          "color": "blue",
          "width": 2
         },
         "marker": {
          "color": "red",
          "size": 4
         },
         "mode": "lines+markers",
         "showlegend": false,
         "type": "scatter3d",
         "x": [
          0,
          10
         ],
         "y": [
          1144.2936533505156,
          1144.2936533505156
         ],
         "z": [
          0.0604884799161454,
          0.0604884799161454
         ]
        },
        {
         "line": {
          "color": "blue",
          "width": 2
         },
         "marker": {
          "color": "red",
          "size": 4
         },
         "mode": "lines+markers",
         "showlegend": false,
         "type": "scatter3d",
         "x": [
          0,
          10
         ],
         "y": [
          1152.5813466494849,
          1152.5813466494849
         ],
         "z": [
          0.0724406528229653,
          0.0724406528229653
         ]
        },
        {
         "line": {
          "color": "blue",
          "width": 2
         },
         "marker": {
          "color": "red",
          "size": 4
         },
         "mode": "lines+markers",
         "showlegend": false,
         "type": "scatter3d",
         "x": [
          0,
          10
         ],
         "y": [
          1162.0529961340208,
          1162.0529961340208
         ],
         "z": [
          0.0748386449057668,
          0.0748386449057668
         ]
        },
        {
         "line": {
          "color": "blue",
          "width": 2
         },
         "marker": {
          "color": "red",
          "size": 4
         },
         "mode": "lines+markers",
         "showlegend": false,
         "type": "scatter3d",
         "x": [
          0,
          10
         ],
         "y": [
          1171.5246456185569,
          1171.5246456185569
         ],
         "z": [
          0.0849006303310235,
          0.0849006303310235
         ]
        },
        {
         "line": {
          "color": "blue",
          "width": 2
         },
         "marker": {
          "color": "red",
          "size": 4
         },
         "mode": "lines+markers",
         "showlegend": false,
         "type": "scatter3d",
         "x": [
          0,
          10
         ],
         "y": [
          1185.1401417525774,
          1185.1401417525774
         ],
         "z": [
          0.1291031609136028,
          0.1291031609136028
         ]
        },
        {
         "line": {
          "color": "blue",
          "width": 2
         },
         "marker": {
          "color": "red",
          "size": 4
         },
         "mode": "lines+markers",
         "showlegend": false,
         "type": "scatter3d",
         "x": [
          0,
          10
         ],
         "y": [
          1191.0599226804125,
          1191.0599226804125
         ],
         "z": [
          0.1071295905909583,
          0.1071295905909583
         ]
        },
        {
         "line": {
          "color": "blue",
          "width": 2
         },
         "marker": {
          "color": "red",
          "size": 4
         },
         "mode": "lines+markers",
         "showlegend": false,
         "type": "scatter3d",
         "x": [
          0,
          10
         ],
         "y": [
          1203.4914626288662,
          1203.4914626288662
         ],
         "z": [
          0.133528771687459,
          0.133528771687459
         ]
        },
        {
         "line": {
          "color": "blue",
          "width": 2
         },
         "marker": {
          "color": "red",
          "size": 4
         },
         "mode": "lines+markers",
         "showlegend": false,
         "type": "scatter3d",
         "x": [
          0,
          10
         ],
         "y": [
          1207.0433311855672,
          1207.0433311855672
         ],
         "z": [
          0.1329916038644593,
          0.1329916038644593
         ]
        },
        {
         "line": {
          "color": "blue",
          "width": 2
         },
         "marker": {
          "color": "red",
          "size": 4
         },
         "mode": "lines+markers",
         "showlegend": false,
         "type": "scatter3d",
         "x": [
          0,
          10
         ],
         "y": [
          1211.1871778350517,
          1211.1871778350517
         ],
         "z": [
          0.1358687142756391,
          0.1358687142756391
         ]
        },
        {
         "line": {
          "color": "blue",
          "width": 2
         },
         "marker": {
          "color": "red",
          "size": 4
         },
         "mode": "lines+markers",
         "showlegend": false,
         "type": "scatter3d",
         "x": [
          0,
          10
         ],
         "y": [
          1231.9064110824745,
          1231.9064110824745
         ],
         "z": [
          0.0517937190986407,
          0.0517937190986407
         ]
        },
        {
         "line": {
          "color": "blue",
          "width": 2
         },
         "marker": {
          "color": "red",
          "size": 4
         },
         "mode": "lines+markers",
         "showlegend": false,
         "type": "scatter3d",
         "x": [
          0,
          10
         ],
         "y": [
          1242.5620167525774,
          1242.5620167525774
         ],
         "z": [
          0.0318370384956988,
          0.0318370384956988
         ]
        },
        {
         "line": {
          "color": "blue",
          "width": 2
         },
         "marker": {
          "color": "red",
          "size": 4
         },
         "mode": "lines+markers",
         "showlegend": false,
         "type": "scatter3d",
         "x": [
          0,
          10
         ],
         "y": [
          1246.705863402062,
          1246.705863402062
         ],
         "z": [
          0.0286488445548071,
          0.0286488445548071
         ]
        },
        {
         "line": {
          "color": "blue",
          "width": 2
         },
         "marker": {
          "color": "red",
          "size": 4
         },
         "mode": "lines+markers",
         "showlegend": false,
         "type": "scatter3d",
         "x": [
          0,
          10
         ],
         "y": [
          1251.44168814433,
          1251.44168814433
         ],
         "z": [
          0.0260227725927777,
          0.0260227725927777
         ]
        },
        {
         "line": {
          "color": "blue",
          "width": 2
         },
         "marker": {
          "color": "red",
          "size": 4
         },
         "mode": "lines+markers",
         "showlegend": false,
         "type": "scatter3d",
         "x": [
          0,
          10
         ],
         "y": [
          1257.3614690721652,
          1257.3614690721652
         ],
         "z": [
          0.02851626915832,
          0.02851626915832
         ]
        },
        {
         "line": {
          "color": "blue",
          "width": 2
         },
         "marker": {
          "color": "red",
          "size": 4
         },
         "mode": "lines+markers",
         "showlegend": false,
         "type": "scatter3d",
         "x": [
          0,
          10
         ],
         "y": [
          1260.9133376288662,
          1260.9133376288662
         ],
         "z": [
          0.0292734548373925,
          0.0292734548373925
         ]
        },
        {
         "line": {
          "color": "blue",
          "width": 2
         },
         "marker": {
          "color": "red",
          "size": 4
         },
         "mode": "lines+markers",
         "showlegend": false,
         "type": "scatter3d",
         "x": [
          0,
          10
         ],
         "y": [
          1272.1609213917527,
          1272.1609213917527
         ],
         "z": [
          0.042178170872742,
          0.042178170872742
         ]
        },
        {
         "line": {
          "color": "blue",
          "width": 2
         },
         "marker": {
          "color": "red",
          "size": 4
         },
         "mode": "lines+markers",
         "showlegend": false,
         "type": "scatter3d",
         "x": [
          0,
          10
         ],
         "y": [
          1279.8566365979382,
          1279.8566365979382
         ],
         "z": [
          0.0391007595514258,
          0.0391007595514258
         ]
        },
        {
         "line": {
          "color": "blue",
          "width": 2
         },
         "marker": {
          "color": "red",
          "size": 4
         },
         "mode": "lines+markers",
         "showlegend": false,
         "type": "scatter3d",
         "x": [
          0,
          10
         ],
         "y": [
          1285.7764175257732,
          1285.7764175257732
         ],
         "z": [
          0.0421379703159645,
          0.0421379703159645
         ]
        },
        {
         "line": {
          "color": "blue",
          "width": 2
         },
         "marker": {
          "color": "red",
          "size": 4
         },
         "mode": "lines+markers",
         "showlegend": false,
         "type": "scatter3d",
         "x": [
          0,
          10
         ],
         "y": [
          1296.4320231958764,
          1296.4320231958764
         ],
         "z": [
          0.0506118885140526,
          0.0506118885140526
         ]
        },
        {
         "line": {
          "color": "blue",
          "width": 2
         },
         "marker": {
          "color": "red",
          "size": 4
         },
         "mode": "lines+markers",
         "showlegend": false,
         "type": "scatter3d",
         "x": [
          0,
          10
         ],
         "y": [
          1301.1678479381444,
          1301.1678479381444
         ],
         "z": [
          0.0543701297314717,
          0.0543701297314717
         ]
        },
        {
         "line": {
          "color": "blue",
          "width": 2
         },
         "marker": {
          "color": "red",
          "size": 4
         },
         "mode": "lines+markers",
         "showlegend": false,
         "type": "scatter3d",
         "x": [
          0,
          10
         ],
         "y": [
          1310.047519329897,
          1310.047519329897
         ],
         "z": [
          0.0394360516140995,
          0.0394360516140995
         ]
        },
        {
         "line": {
          "color": "blue",
          "width": 2
         },
         "marker": {
          "color": "red",
          "size": 4
         },
         "mode": "lines+markers",
         "showlegend": false,
         "type": "scatter3d",
         "x": [
          0,
          10
         ],
         "y": [
          1318.3352126288662,
          1318.3352126288662
         ],
         "z": [
          0.0405252183470116,
          0.0405252183470116
         ]
        },
        {
         "line": {
          "color": "blue",
          "width": 2
         },
         "marker": {
          "color": "red",
          "size": 4
         },
         "mode": "lines+markers",
         "showlegend": false,
         "type": "scatter3d",
         "x": [
          0,
          10
         ],
         "y": [
          1328.990818298969,
          1328.990818298969
         ],
         "z": [
          0.0281937203544285,
          0.0281937203544285
         ]
        },
        {
         "line": {
          "color": "blue",
          "width": 2
         },
         "marker": {
          "color": "red",
          "size": 4
         },
         "mode": "lines+markers",
         "showlegend": false,
         "type": "scatter3d",
         "x": [
          0,
          10
         ],
         "y": [
          1365.101481958763,
          1365.101481958763
         ],
         "z": [
          0.0309186248703519,
          0.0309186248703519
         ]
        },
        {
         "line": {
          "color": "blue",
          "width": 2
         },
         "marker": {
          "color": "red",
          "size": 4
         },
         "mode": "lines+markers",
         "showlegend": false,
         "type": "scatter3d",
         "x": [
          0,
          10
         ],
         "y": [
          1394.7003865979382,
          1394.7003865979382
         ],
         "z": [
          0.0241930985561137,
          0.0241930985561137
         ]
        },
        {
         "line": {
          "color": "blue",
          "width": 2
         },
         "marker": {
          "color": "red",
          "size": 4
         },
         "mode": "lines+markers",
         "showlegend": false,
         "type": "scatter3d",
         "x": [
          0,
          10
         ],
         "y": [
          1401.8041237113405,
          1401.8041237113405
         ],
         "z": [
          0.0214214384705583,
          0.0214214384705583
         ]
        },
        {
         "line": {
          "color": "blue",
          "width": 2
         },
         "marker": {
          "color": "red",
          "size": 4
         },
         "mode": "lines+markers",
         "showlegend": false,
         "type": "scatter3d",
         "x": [
          0,
          10
         ],
         "y": [
          1403.5800579896909,
          1403.5800579896909
         ],
         "z": [
          0.0217234647248054,
          0.0217234647248054
         ]
        },
        {
         "line": {
          "color": "blue",
          "width": 2
         },
         "marker": {
          "color": "red",
          "size": 4
         },
         "mode": "lines+markers",
         "showlegend": false,
         "type": "scatter3d",
         "x": [
          0,
          10
         ],
         "y": [
          1409.499838917526,
          1409.499838917526
         ],
         "z": [
          0.0230742228883016,
          0.0230742228883016
         ]
        },
        {
         "line": {
          "color": "blue",
          "width": 2
         },
         "marker": {
          "color": "red",
          "size": 4
         },
         "mode": "lines+markers",
         "showlegend": false,
         "type": "scatter3d",
         "x": [
          0,
          10
         ],
         "y": [
          1417.1955541237114,
          1417.1955541237114
         ],
         "z": [
          0.0305377633332652,
          0.0305377633332652
         ]
        },
        {
         "line": {
          "color": "blue",
          "width": 2
         },
         "marker": {
          "color": "red",
          "size": 4
         },
         "mode": "lines+markers",
         "showlegend": false,
         "type": "scatter3d",
         "x": [
          0,
          10
         ],
         "y": [
          1431.9950064432992,
          1431.9950064432992
         ],
         "z": [
          0.0211540412394932,
          0.0211540412394932
         ]
        },
        {
         "line": {
          "color": "blue",
          "width": 2
         },
         "marker": {
          "color": "red",
          "size": 4
         },
         "mode": "lines+markers",
         "showlegend": false,
         "type": "scatter3d",
         "x": [
          0,
          10
         ],
         "y": [
          1439.6907216494849,
          1439.6907216494849
         ],
         "z": [
          0.0463620706821354,
          0.0463620706821354
         ]
        },
        {
         "line": {
          "color": "blue",
          "width": 2
         },
         "marker": {
          "color": "red",
          "size": 4
         },
         "mode": "lines+markers",
         "showlegend": false,
         "type": "scatter3d",
         "x": [
          0,
          10
         ],
         "y": [
          1444.4265463917527,
          1444.4265463917527
         ],
         "z": [
          0.0477613140806005,
          0.0477613140806005
         ]
        },
        {
         "line": {
          "color": "blue",
          "width": 2
         },
         "marker": {
          "color": "red",
          "size": 4
         },
         "mode": "lines+markers",
         "showlegend": false,
         "type": "scatter3d",
         "x": [
          0,
          10
         ],
         "y": [
          1450.3463273195878,
          1450.3463273195878
         ],
         "z": [
          0.0415367320034836,
          0.0415367320034836
         ]
        },
        {
         "line": {
          "color": "blue",
          "width": 2
         },
         "marker": {
          "color": "red",
          "size": 4
         },
         "mode": "lines+markers",
         "showlegend": false,
         "type": "scatter3d",
         "x": [
          0,
          10
         ],
         "y": [
          1457.4500644329898,
          1457.4500644329898
         ],
         "z": [
          0.0231750830481279,
          0.0231750830481279
         ]
        },
        {
         "line": {
          "color": "blue",
          "width": 2
         },
         "marker": {
          "color": "red",
          "size": 4
         },
         "mode": "lines+markers",
         "showlegend": false,
         "type": "scatter3d",
         "x": [
          0,
          10
         ],
         "y": [
          1652.210856958763,
          1652.210856958763
         ],
         "z": [
          0.0212377154983546,
          0.0212377154983546
         ]
        },
        {
         "line": {
          "color": "blue",
          "width": 2
         },
         "marker": {
          "color": "red",
          "size": 4
         },
         "mode": "lines+markers",
         "showlegend": false,
         "type": "scatter3d",
         "x": [
          0,
          10
         ],
         "y": [
          1654.578769329897,
          1654.578769329897
         ],
         "z": [
          0.0210198521597425,
          0.0210198521597425
         ]
        },
        {
         "line": {
          "color": "blue",
          "width": 2
         },
         "marker": {
          "color": "red",
          "size": 4
         },
         "mode": "lines+markers",
         "showlegend": false,
         "type": "scatter3d",
         "x": [
          0,
          10
         ],
         "y": [
          1722.0642719072166,
          1722.0642719072166
         ],
         "z": [
          0.0231556620618134,
          0.0231556620618134
         ]
        },
        {
         "line": {
          "color": "blue",
          "width": 2
         },
         "marker": {
          "color": "red",
          "size": 4
         },
         "mode": "lines+markers",
         "showlegend": false,
         "type": "scatter3d",
         "x": [
          0,
          10
         ],
         "y": [
          1730.943943298969,
          1730.943943298969
         ],
         "z": [
          0.0365123097943192,
          0.0365123097943192
         ]
        },
        {
         "line": {
          "color": "blue",
          "width": 2
         },
         "marker": {
          "color": "red",
          "size": 4
         },
         "mode": "lines+markers",
         "showlegend": false,
         "type": "scatter3d",
         "x": [
          0,
          10
         ],
         "y": [
          1739.2316365979384,
          1739.2316365979384
         ],
         "z": [
          0.0341257957803374,
          0.0341257957803374
         ]
        },
        {
         "line": {
          "color": "blue",
          "width": 2
         },
         "marker": {
          "color": "red",
          "size": 4
         },
         "mode": "lines+markers",
         "showlegend": false,
         "type": "scatter3d",
         "x": [
          0,
          10
         ],
         "y": [
          1745.1514175257737,
          1745.1514175257737
         ],
         "z": [
          0.0293596447276236,
          0.0293596447276236
         ]
        },
        {
         "line": {
          "color": "blue",
          "width": 2
         },
         "marker": {
          "color": "red",
          "size": 4
         },
         "mode": "lines+markers",
         "showlegend": false,
         "type": "scatter3d",
         "x": [
          0,
          10
         ],
         "y": [
          1752.2551546391755,
          1752.2551546391755
         ],
         "z": [
          0.0374069579664054,
          0.0374069579664054
         ]
        },
        {
         "line": {
          "color": "blue",
          "width": 2
         },
         "marker": {
          "color": "red",
          "size": 4
         },
         "mode": "lines+markers",
         "showlegend": false,
         "type": "scatter3d",
         "x": [
          0,
          10
         ],
         "y": [
          1756.39900128866,
          1756.39900128866
         ],
         "z": [
          0.0344123160170675,
          0.0344123160170675
         ]
        },
        {
         "line": {
          "color": "blue",
          "width": 2
         },
         "marker": {
          "color": "red",
          "size": 4
         },
         "mode": "lines+markers",
         "showlegend": false,
         "type": "scatter3d",
         "x": [
          0,
          10
         ],
         "y": [
          1758.766913659794,
          1758.766913659794
         ],
         "z": [
          0.0344826886974882,
          0.0344826886974882
         ]
        },
        {
         "line": {
          "color": "blue",
          "width": 2
         },
         "marker": {
          "color": "red",
          "size": 4
         },
         "mode": "lines+markers",
         "showlegend": false,
         "type": "scatter3d",
         "x": [
          0,
          10
         ],
         "y": [
          1764.686694587629,
          1764.686694587629
         ],
         "z": [
          0.0375431840778496,
          0.0375431840778496
         ]
        },
        {
         "line": {
          "color": "blue",
          "width": 2
         },
         "marker": {
          "color": "red",
          "size": 4
         },
         "mode": "lines+markers",
         "showlegend": false,
         "type": "scatter3d",
         "x": [
          0,
          10
         ],
         "y": [
          1771.1984536082475,
          1771.1984536082475
         ],
         "z": [
          0.0420418010332756,
          0.0420418010332756
         ]
        },
        {
         "line": {
          "color": "blue",
          "width": 2
         },
         "marker": {
          "color": "red",
          "size": 4
         },
         "mode": "lines+markers",
         "showlegend": false,
         "type": "scatter3d",
         "x": [
          0,
          10
         ],
         "y": [
          1778.3021907216496,
          1778.3021907216496
         ],
         "z": [
          0.0365378381065021,
          0.0365378381065021
         ]
        },
        {
         "line": {
          "color": "blue",
          "width": 2
         },
         "marker": {
          "color": "red",
          "size": 4
         },
         "mode": "lines+markers",
         "showlegend": false,
         "type": "scatter3d",
         "x": [
          0,
          10
         ],
         "y": [
          1781.2620811855672,
          1781.2620811855672
         ],
         "z": [
          0.0358693144446591,
          0.0358693144446591
         ]
        },
        {
         "line": {
          "color": "blue",
          "width": 2
         },
         "marker": {
          "color": "red",
          "size": 4
         },
         "mode": "lines+markers",
         "showlegend": false,
         "type": "scatter3d",
         "x": [
          0,
          10
         ],
         "y": [
          1783.0380154639176,
          1783.0380154639176
         ],
         "z": [
          0.0358468178501203,
          0.0358468178501203
         ]
        },
        {
         "line": {
          "color": "blue",
          "width": 2
         },
         "marker": {
          "color": "red",
          "size": 4
         },
         "mode": "lines+markers",
         "showlegend": false,
         "type": "scatter3d",
         "x": [
          0,
          10
         ],
         "y": [
          1791.9176868556704,
          1791.9176868556704
         ],
         "z": [
          0.0315679024710143,
          0.0315679024710143
         ]
        },
        {
         "line": {
          "color": "blue",
          "width": 2
         },
         "marker": {
          "color": "red",
          "size": 4
         },
         "mode": "lines+markers",
         "showlegend": false,
         "type": "scatter3d",
         "x": [
          0,
          10
         ],
         "y": [
          1797.2454896907218,
          1797.2454896907218
         ],
         "z": [
          0.0284940719413278,
          0.0284940719413278
         ]
        },
        {
         "line": {
          "color": "blue",
          "width": 2
         },
         "marker": {
          "color": "red",
          "size": 4
         },
         "mode": "lines+markers",
         "showlegend": false,
         "type": "scatter3d",
         "x": [
          0,
          10
         ],
         "y": [
          1802.5732925257728,
          1802.5732925257728
         ],
         "z": [
          0.024891571814342,
          0.024891571814342
         ]
        },
        {
         "line": {
          "color": "blue",
          "width": 2
         },
         "marker": {
          "color": "red",
          "size": 4
         },
         "mode": "lines+markers",
         "showlegend": false,
         "type": "scatter3d",
         "x": [
          0,
          10
         ],
         "y": [
          1809.085051546392,
          1809.085051546392
         ],
         "z": [
          0.0253372433779604,
          0.0253372433779604
         ]
        },
        {
         "line": {
          "color": "blue",
          "width": 2
         },
         "marker": {
          "color": "red",
          "size": 4
         },
         "mode": "lines+markers",
         "showlegend": false,
         "type": "scatter3d",
         "x": [
          0,
          10
         ],
         "y": [
          1816.7807667525776,
          1816.7807667525776
         ],
         "z": [
          0.0295461119666006,
          0.0295461119666006
         ]
        },
        {
         "line": {
          "color": "blue",
          "width": 2
         },
         "marker": {
          "color": "red",
          "size": 4
         },
         "mode": "lines+markers",
         "showlegend": false,
         "type": "scatter3d",
         "x": [
          0,
          10
         ],
         "y": [
          1820.924613402062,
          1820.924613402062
         ],
         "z": [
          0.0245845592062201,
          0.0245845592062201
         ]
        },
        {
         "line": {
          "color": "blue",
          "width": 2
         },
         "marker": {
          "color": "red",
          "size": 4
         },
         "mode": "lines+markers",
         "showlegend": false,
         "type": "scatter3d",
         "x": [
          0,
          10
         ],
         "y": [
          1822.7005476804125,
          1822.7005476804125
         ],
         "z": [
          0.0245284378225488,
          0.0245284378225488
         ]
        },
        {
         "line": {
          "color": "blue",
          "width": 2
         },
         "marker": {
          "color": "red",
          "size": 4
         },
         "mode": "lines+markers",
         "showlegend": false,
         "type": "scatter3d",
         "x": [
          0,
          10
         ],
         "y": [
          1826.2524162371133,
          1826.2524162371133
         ],
         "z": [
          0.0246939943923326,
          0.0246939943923326
         ]
        },
        {
         "line": {
          "color": "blue",
          "width": 2
         },
         "marker": {
          "color": "red",
          "size": 4
         },
         "mode": "lines+markers",
         "showlegend": false,
         "type": "scatter3d",
         "x": [
          0,
          10
         ],
         "y": [
          1926.8886920103096,
          1926.8886920103096
         ],
         "z": [
          0.0227351305961041,
          0.0227351305961041
         ]
        },
        {
         "line": {
          "color": "blue",
          "width": 2
         },
         "marker": {
          "color": "red",
          "size": 4
         },
         "mode": "lines+markers",
         "showlegend": false,
         "type": "scatter3d",
         "x": [
          0,
          10
         ],
         "y": [
          1930.4405605670104,
          1930.4405605670104
         ],
         "z": [
          0.0224091814930836,
          0.0224091814930836
         ]
        },
        {
         "line": {
          "color": "blue",
          "width": 2
         },
         "marker": {
          "color": "red",
          "size": 4
         },
         "mode": "lines+markers",
         "showlegend": false,
         "type": "scatter3d",
         "x": [
          0,
          10
         ],
         "y": [
          1972.47100515464,
          1972.47100515464
         ],
         "z": [
          0.0206555761870251,
          0.0206555761870251
         ]
        },
        {
         "line": {
          "color": "blue",
          "width": 2
         },
         "marker": {
          "color": "red",
          "size": 4
         },
         "mode": "lines+markers",
         "showlegend": false,
         "type": "scatter3d",
         "x": [
          0,
          10
         ],
         "y": [
          1976.0228737113405,
          1976.0228737113405
         ],
         "z": [
          0.0216512509662178,
          0.0216512509662178
         ]
        },
        {
         "line": {
          "color": "blue",
          "width": 2
         },
         "marker": {
          "color": "red",
          "size": 4
         },
         "mode": "lines+markers",
         "showlegend": false,
         "type": "scatter3d",
         "x": [
          0,
          10
         ],
         "y": [
          1981.9426546391755,
          1981.9426546391755
         ],
         "z": [
          0.0254584019352295,
          0.0254584019352295
         ]
        }
       ],
       "layout": {
        "height": 1200,
        "scene": {
         "aspectmode": "auto",
         "aspectratio": {
          "x": 1,
          "y": 1,
          "z": 1
         },
         "camera": {
          "center": {
           "x": 0,
           "y": 0,
           "z": 0
          },
          "eye": {
           "x": 1.7115796777667769,
           "y": 1.2944037772838801,
           "z": 0.287252272417468
          },
          "projection": {
           "type": "perspective"
          },
          "up": {
           "x": 0,
           "y": 0,
           "z": 1
          }
         },
         "xaxis": {
          "title": {
           "text": "Time (s)"
          },
          "type": "linear"
         },
         "yaxis": {
          "title": {
           "text": "Frequency"
          },
          "type": "linear"
         },
         "zaxis": {
          "title": {
           "text": "Amplitude"
          },
          "type": "linear"
         }
        },
        "showlegend": false,
        "template": {
         "data": {
          "bar": [
           {
            "error_x": {
             "color": "#2a3f5f"
            },
            "error_y": {
             "color": "#2a3f5f"
            },
            "marker": {
             "line": {
              "color": "white",
              "width": 0.5
             },
             "pattern": {
              "fillmode": "overlay",
              "size": 10,
              "solidity": 0.2
             }
            },
            "type": "bar"
           }
          ],
          "barpolar": [
           {
            "marker": {
             "line": {
              "color": "white",
              "width": 0.5
             },
             "pattern": {
              "fillmode": "overlay",
              "size": 10,
              "solidity": 0.2
             }
            },
            "type": "barpolar"
           }
          ],
          "carpet": [
           {
            "aaxis": {
             "endlinecolor": "#2a3f5f",
             "gridcolor": "#C8D4E3",
             "linecolor": "#C8D4E3",
             "minorgridcolor": "#C8D4E3",
             "startlinecolor": "#2a3f5f"
            },
            "baxis": {
             "endlinecolor": "#2a3f5f",
             "gridcolor": "#C8D4E3",
             "linecolor": "#C8D4E3",
             "minorgridcolor": "#C8D4E3",
             "startlinecolor": "#2a3f5f"
            },
            "type": "carpet"
           }
          ],
          "choropleth": [
           {
            "colorbar": {
             "outlinewidth": 0,
             "ticks": ""
            },
            "type": "choropleth"
           }
          ],
          "contour": [
           {
            "colorbar": {
             "outlinewidth": 0,
             "ticks": ""
            },
            "colorscale": [
             [
              0,
              "#0d0887"
             ],
             [
              0.1111111111111111,
              "#46039f"
             ],
             [
              0.2222222222222222,
              "#7201a8"
             ],
             [
              0.3333333333333333,
              "#9c179e"
             ],
             [
              0.4444444444444444,
              "#bd3786"
             ],
             [
              0.5555555555555556,
              "#d8576b"
             ],
             [
              0.6666666666666666,
              "#ed7953"
             ],
             [
              0.7777777777777778,
              "#fb9f3a"
             ],
             [
              0.8888888888888888,
              "#fdca26"
             ],
             [
              1,
              "#f0f921"
             ]
            ],
            "type": "contour"
           }
          ],
          "contourcarpet": [
           {
            "colorbar": {
             "outlinewidth": 0,
             "ticks": ""
            },
            "type": "contourcarpet"
           }
          ],
          "heatmap": [
           {
            "colorbar": {
             "outlinewidth": 0,
             "ticks": ""
            },
            "colorscale": [
             [
              0,
              "#0d0887"
             ],
             [
              0.1111111111111111,
              "#46039f"
             ],
             [
              0.2222222222222222,
              "#7201a8"
             ],
             [
              0.3333333333333333,
              "#9c179e"
             ],
             [
              0.4444444444444444,
              "#bd3786"
             ],
             [
              0.5555555555555556,
              "#d8576b"
             ],
             [
              0.6666666666666666,
              "#ed7953"
             ],
             [
              0.7777777777777778,
              "#fb9f3a"
             ],
             [
              0.8888888888888888,
              "#fdca26"
             ],
             [
              1,
              "#f0f921"
             ]
            ],
            "type": "heatmap"
           }
          ],
          "heatmapgl": [
           {
            "colorbar": {
             "outlinewidth": 0,
             "ticks": ""
            },
            "colorscale": [
             [
              0,
              "#0d0887"
             ],
             [
              0.1111111111111111,
              "#46039f"
             ],
             [
              0.2222222222222222,
              "#7201a8"
             ],
             [
              0.3333333333333333,
              "#9c179e"
             ],
             [
              0.4444444444444444,
              "#bd3786"
             ],
             [
              0.5555555555555556,
              "#d8576b"
             ],
             [
              0.6666666666666666,
              "#ed7953"
             ],
             [
              0.7777777777777778,
              "#fb9f3a"
             ],
             [
              0.8888888888888888,
              "#fdca26"
             ],
             [
              1,
              "#f0f921"
             ]
            ],
            "type": "heatmapgl"
           }
          ],
          "histogram": [
           {
            "marker": {
             "pattern": {
              "fillmode": "overlay",
              "size": 10,
              "solidity": 0.2
             }
            },
            "type": "histogram"
           }
          ],
          "histogram2d": [
           {
            "colorbar": {
             "outlinewidth": 0,
             "ticks": ""
            },
            "colorscale": [
             [
              0,
              "#0d0887"
             ],
             [
              0.1111111111111111,
              "#46039f"
             ],
             [
              0.2222222222222222,
              "#7201a8"
             ],
             [
              0.3333333333333333,
              "#9c179e"
             ],
             [
              0.4444444444444444,
              "#bd3786"
             ],
             [
              0.5555555555555556,
              "#d8576b"
             ],
             [
              0.6666666666666666,
              "#ed7953"
             ],
             [
              0.7777777777777778,
              "#fb9f3a"
             ],
             [
              0.8888888888888888,
              "#fdca26"
             ],
             [
              1,
              "#f0f921"
             ]
            ],
            "type": "histogram2d"
           }
          ],
          "histogram2dcontour": [
           {
            "colorbar": {
             "outlinewidth": 0,
             "ticks": ""
            },
            "colorscale": [
             [
              0,
              "#0d0887"
             ],
             [
              0.1111111111111111,
              "#46039f"
             ],
             [
              0.2222222222222222,
              "#7201a8"
             ],
             [
              0.3333333333333333,
              "#9c179e"
             ],
             [
              0.4444444444444444,
              "#bd3786"
             ],
             [
              0.5555555555555556,
              "#d8576b"
             ],
             [
              0.6666666666666666,
              "#ed7953"
             ],
             [
              0.7777777777777778,
              "#fb9f3a"
             ],
             [
              0.8888888888888888,
              "#fdca26"
             ],
             [
              1,
              "#f0f921"
             ]
            ],
            "type": "histogram2dcontour"
           }
          ],
          "mesh3d": [
           {
            "colorbar": {
             "outlinewidth": 0,
             "ticks": ""
            },
            "type": "mesh3d"
           }
          ],
          "parcoords": [
           {
            "line": {
             "colorbar": {
              "outlinewidth": 0,
              "ticks": ""
             }
            },
            "type": "parcoords"
           }
          ],
          "pie": [
           {
            "automargin": true,
            "type": "pie"
           }
          ],
          "scatter": [
           {
            "fillpattern": {
             "fillmode": "overlay",
             "size": 10,
             "solidity": 0.2
            },
            "type": "scatter"
           }
          ],
          "scatter3d": [
           {
            "line": {
             "colorbar": {
              "outlinewidth": 0,
              "ticks": ""
             }
            },
            "marker": {
             "colorbar": {
              "outlinewidth": 0,
              "ticks": ""
             }
            },
            "type": "scatter3d"
           }
          ],
          "scattercarpet": [
           {
            "marker": {
             "colorbar": {
              "outlinewidth": 0,
              "ticks": ""
             }
            },
            "type": "scattercarpet"
           }
          ],
          "scattergeo": [
           {
            "marker": {
             "colorbar": {
              "outlinewidth": 0,
              "ticks": ""
             }
            },
            "type": "scattergeo"
           }
          ],
          "scattergl": [
           {
            "marker": {
             "colorbar": {
              "outlinewidth": 0,
              "ticks": ""
             }
            },
            "type": "scattergl"
           }
          ],
          "scattermapbox": [
           {
            "marker": {
             "colorbar": {
              "outlinewidth": 0,
              "ticks": ""
             }
            },
            "type": "scattermapbox"
           }
          ],
          "scatterpolar": [
           {
            "marker": {
             "colorbar": {
              "outlinewidth": 0,
              "ticks": ""
             }
            },
            "type": "scatterpolar"
           }
          ],
          "scatterpolargl": [
           {
            "marker": {
             "colorbar": {
              "outlinewidth": 0,
              "ticks": ""
             }
            },
            "type": "scatterpolargl"
           }
          ],
          "scatterternary": [
           {
            "marker": {
             "colorbar": {
              "outlinewidth": 0,
              "ticks": ""
             }
            },
            "type": "scatterternary"
           }
          ],
          "surface": [
           {
            "colorbar": {
             "outlinewidth": 0,
             "ticks": ""
            },
            "colorscale": [
             [
              0,
              "#0d0887"
             ],
             [
              0.1111111111111111,
              "#46039f"
             ],
             [
              0.2222222222222222,
              "#7201a8"
             ],
             [
              0.3333333333333333,
              "#9c179e"
             ],
             [
              0.4444444444444444,
              "#bd3786"
             ],
             [
              0.5555555555555556,
              "#d8576b"
             ],
             [
              0.6666666666666666,
              "#ed7953"
             ],
             [
              0.7777777777777778,
              "#fb9f3a"
             ],
             [
              0.8888888888888888,
              "#fdca26"
             ],
             [
              1,
              "#f0f921"
             ]
            ],
            "type": "surface"
           }
          ],
          "table": [
           {
            "cells": {
             "fill": {
              "color": "#EBF0F8"
             },
             "line": {
              "color": "white"
             }
            },
            "header": {
             "fill": {
              "color": "#C8D4E3"
             },
             "line": {
              "color": "white"
             }
            },
            "type": "table"
           }
          ]
         },
         "layout": {
          "annotationdefaults": {
           "arrowcolor": "#2a3f5f",
           "arrowhead": 0,
           "arrowwidth": 1
          },
          "autotypenumbers": "strict",
          "coloraxis": {
           "colorbar": {
            "outlinewidth": 0,
            "ticks": ""
           }
          },
          "colorscale": {
           "diverging": [
            [
             0,
             "#8e0152"
            ],
            [
             0.1,
             "#c51b7d"
            ],
            [
             0.2,
             "#de77ae"
            ],
            [
             0.3,
             "#f1b6da"
            ],
            [
             0.4,
             "#fde0ef"
            ],
            [
             0.5,
             "#f7f7f7"
            ],
            [
             0.6,
             "#e6f5d0"
            ],
            [
             0.7,
             "#b8e186"
            ],
            [
             0.8,
             "#7fbc41"
            ],
            [
             0.9,
             "#4d9221"
            ],
            [
             1,
             "#276419"
            ]
           ],
           "sequential": [
            [
             0,
             "#0d0887"
            ],
            [
             0.1111111111111111,
             "#46039f"
            ],
            [
             0.2222222222222222,
             "#7201a8"
            ],
            [
             0.3333333333333333,
             "#9c179e"
            ],
            [
             0.4444444444444444,
             "#bd3786"
            ],
            [
             0.5555555555555556,
             "#d8576b"
            ],
            [
             0.6666666666666666,
             "#ed7953"
            ],
            [
             0.7777777777777778,
             "#fb9f3a"
            ],
            [
             0.8888888888888888,
             "#fdca26"
            ],
            [
             1,
             "#f0f921"
            ]
           ],
           "sequentialminus": [
            [
             0,
             "#0d0887"
            ],
            [
             0.1111111111111111,
             "#46039f"
            ],
            [
             0.2222222222222222,
             "#7201a8"
            ],
            [
             0.3333333333333333,
             "#9c179e"
            ],
            [
             0.4444444444444444,
             "#bd3786"
            ],
            [
             0.5555555555555556,
             "#d8576b"
            ],
            [
             0.6666666666666666,
             "#ed7953"
            ],
            [
             0.7777777777777778,
             "#fb9f3a"
            ],
            [
             0.8888888888888888,
             "#fdca26"
            ],
            [
             1,
             "#f0f921"
            ]
           ]
          },
          "colorway": [
           "#636efa",
           "#EF553B",
           "#00cc96",
           "#ab63fa",
           "#FFA15A",
           "#19d3f3",
           "#FF6692",
           "#B6E880",
           "#FF97FF",
           "#FECB52"
          ],
          "font": {
           "color": "#2a3f5f"
          },
          "geo": {
           "bgcolor": "white",
           "lakecolor": "white",
           "landcolor": "white",
           "showlakes": true,
           "showland": true,
           "subunitcolor": "#C8D4E3"
          },
          "hoverlabel": {
           "align": "left"
          },
          "hovermode": "closest",
          "mapbox": {
           "style": "light"
          },
          "paper_bgcolor": "white",
          "plot_bgcolor": "white",
          "polar": {
           "angularaxis": {
            "gridcolor": "#EBF0F8",
            "linecolor": "#EBF0F8",
            "ticks": ""
           },
           "bgcolor": "white",
           "radialaxis": {
            "gridcolor": "#EBF0F8",
            "linecolor": "#EBF0F8",
            "ticks": ""
           }
          },
          "scene": {
           "xaxis": {
            "backgroundcolor": "white",
            "gridcolor": "#DFE8F3",
            "gridwidth": 2,
            "linecolor": "#EBF0F8",
            "showbackground": true,
            "ticks": "",
            "zerolinecolor": "#EBF0F8"
           },
           "yaxis": {
            "backgroundcolor": "white",
            "gridcolor": "#DFE8F3",
            "gridwidth": 2,
            "linecolor": "#EBF0F8",
            "showbackground": true,
            "ticks": "",
            "zerolinecolor": "#EBF0F8"
           },
           "zaxis": {
            "backgroundcolor": "white",
            "gridcolor": "#DFE8F3",
            "gridwidth": 2,
            "linecolor": "#EBF0F8",
            "showbackground": true,
            "ticks": "",
            "zerolinecolor": "#EBF0F8"
           }
          },
          "shapedefaults": {
           "line": {
            "color": "#2a3f5f"
           }
          },
          "ternary": {
           "aaxis": {
            "gridcolor": "#DFE8F3",
            "linecolor": "#A2B1C6",
            "ticks": ""
           },
           "baxis": {
            "gridcolor": "#DFE8F3",
            "linecolor": "#A2B1C6",
            "ticks": ""
           },
           "bgcolor": "white",
           "caxis": {
            "gridcolor": "#DFE8F3",
            "linecolor": "#A2B1C6",
            "ticks": ""
           }
          },
          "title": {
           "x": 0.05
          },
          "xaxis": {
           "automargin": true,
           "gridcolor": "#EBF0F8",
           "linecolor": "#EBF0F8",
           "ticks": "",
           "title": {
            "standoff": 15
           },
           "zerolinecolor": "#EBF0F8",
           "zerolinewidth": 2
          },
          "yaxis": {
           "automargin": true,
           "gridcolor": "#EBF0F8",
           "linecolor": "#EBF0F8",
           "ticks": "",
           "title": {
            "standoff": 15
           },
           "zerolinecolor": "#EBF0F8",
           "zerolinewidth": 2
          }
         }
        },
        "title": {
         "text": "Time vs Frequency vs Amplitude for Each Event (3D)"
        },
        "width": 900
       }
      },
      "image/png": "[encoded data removed]",
      "text/html": [
       "<div>                            <div id=\"e7dd5877-a8dd-4d32-9eda-1a0005e07f17\" class=\"plotly-graph-div\" style=\"height:1200px; width:900px;\"></div>            <script type=\"text/javascript\">                require([\"plotly\"], function(Plotly) {                    window.PLOTLYENV=window.PLOTLYENV || {};                                    if (document.getElementById(\"e7dd5877-a8dd-4d32-9eda-1a0005e07f17\")) {                    Plotly.newPlot(                        \"e7dd5877-a8dd-4d32-9eda-1a0005e07f17\",                        [{\"line\":{\"color\":\"blue\",\"width\":2},\"marker\":{\"color\":\"red\",\"size\":4},\"mode\":\"lines+markers\",\"showlegend\":false,\"x\":[0.0,10.0],\"y\":[63.341655927835056,63.341655927835056],\"z\":[0.0872572596304956,0.0872572596304956],\"type\":\"scatter3d\"},{\"line\":{\"color\":\"blue\",\"width\":2},\"marker\":{\"color\":\"red\",\"size\":4},\"mode\":\"lines+markers\",\"showlegend\":false,\"x\":[0.0,10.0],\"y\":[75.77319587628867,75.77319587628867],\"z\":[0.5055074354460668,0.5055074354460668],\"type\":\"scatter3d\"},{\"line\":{\"color\":\"blue\",\"width\":2},\"marker\":{\"color\":\"red\",\"size\":4},\"mode\":\"lines+markers\",\"showlegend\":false,\"x\":[0.0,10.0],\"y\":[100.63627577319588,100.63627577319588],\"z\":[0.0728795939334174,0.0728795939334174],\"type\":\"scatter3d\"},{\"line\":{\"color\":\"blue\",\"width\":2},\"marker\":{\"color\":\"red\",\"size\":4},\"mode\":\"lines+markers\",\"showlegend\":false,\"x\":[0.0,10.0],\"y\":[114.84375,114.84375],\"z\":[0.190861879131722,0.190861879131722],\"type\":\"scatter3d\"},{\"line\":{\"color\":\"blue\",\"width\":2},\"marker\":{\"color\":\"red\",\"size\":4},\"mode\":\"lines+markers\",\"showlegend\":false,\"x\":[0.0,10.0],\"y\":[126.68331185567013,126.68331185567013],\"z\":[0.4155851719938334,0.4155851719938334],\"type\":\"scatter3d\"},{\"line\":{\"color\":\"blue\",\"width\":2},\"marker\":{\"color\":\"red\",\"size\":4},\"mode\":\"lines+markers\",\"showlegend\":false,\"x\":[0.0,10.0],\"y\":[140.29880798969074,140.29880798969074],\"z\":[0.1993085410201005,0.1993085410201005],\"type\":\"scatter3d\"},{\"line\":{\"color\":\"blue\",\"width\":2},\"marker\":{\"color\":\"red\",\"size\":4},\"mode\":\"lines+markers\",\"showlegend\":false,\"x\":[0.0,10.0],\"y\":[154.50628221649487,154.50628221649487],\"z\":[0.3024044699707487,0.3024044699707487],\"type\":\"scatter3d\"},{\"line\":{\"color\":\"blue\",\"width\":2},\"marker\":{\"color\":\"red\",\"size\":4},\"mode\":\"lines+markers\",\"showlegend\":false,\"x\":[0.0,10.0],\"y\":[163.97793170103094,163.97793170103094],\"z\":[0.3302782478402992,0.3302782478402992],\"type\":\"scatter3d\"},{\"line\":{\"color\":\"blue\",\"width\":2},\"marker\":{\"color\":\"red\",\"size\":4},\"mode\":\"lines+markers\",\"showlegend\":false,\"x\":[0.0,10.0],\"y\":[169.897712628866,169.897712628866],\"z\":[0.283589921384053,0.283589921384053],\"type\":\"scatter3d\"},{\"line\":{\"color\":\"blue\",\"width\":2},\"marker\":{\"color\":\"red\",\"size\":4},\"mode\":\"lines+markers\",\"showlegend\":false,\"x\":[0.0,10.0],\"y\":[176.40947164948454,176.40947164948454],\"z\":[0.3183190937250841,0.3183190937250841],\"type\":\"scatter3d\"},{\"line\":{\"color\":\"blue\",\"width\":2},\"marker\":{\"color\":\"red\",\"size\":4},\"mode\":\"lines+markers\",\"showlegend\":false,\"x\":[0.0,10.0],\"y\":[181.7372744845361,181.7372744845361],\"z\":[0.3650896336579267,0.3650896336579267],\"type\":\"scatter3d\"},{\"line\":{\"color\":\"blue\",\"width\":2},\"marker\":{\"color\":\"red\",\"size\":4},\"mode\":\"lines+markers\",\"showlegend\":false,\"x\":[0.0,10.0],\"y\":[189.43298969072168,189.43298969072168],\"z\":[0.3331206436031892,0.3331206436031892],\"type\":\"scatter3d\"},{\"line\":{\"color\":\"blue\",\"width\":2},\"marker\":{\"color\":\"red\",\"size\":4},\"mode\":\"lines+markers\",\"showlegend\":false,\"x\":[0.0,10.0],\"y\":[194.1688144329897,194.1688144329897],\"z\":[0.304221420585179,0.304221420585179],\"type\":\"scatter3d\"},{\"line\":{\"color\":\"blue\",\"width\":2},\"marker\":{\"color\":\"red\",\"size\":4},\"mode\":\"lines+markers\",\"showlegend\":false,\"x\":[0.0,10.0],\"y\":[200.0885953608248,200.0885953608248],\"z\":[0.3178576535272264,0.3178576535272264],\"type\":\"scatter3d\"},{\"line\":{\"color\":\"blue\",\"width\":2},\"marker\":{\"color\":\"red\",\"size\":4},\"mode\":\"lines+markers\",\"showlegend\":false,\"x\":[0.0,10.0],\"y\":[203.0484858247423,203.0484858247423],\"z\":[0.2975347087985689,0.2975347087985689],\"type\":\"scatter3d\"},{\"line\":{\"color\":\"blue\",\"width\":2},\"marker\":{\"color\":\"red\",\"size\":4},\"mode\":\"lines+markers\",\"showlegend\":false,\"x\":[0.0,10.0],\"y\":[210.15222293814435,210.15222293814435],\"z\":[0.1799793685955071,0.1799793685955071],\"type\":\"scatter3d\"},{\"line\":{\"color\":\"blue\",\"width\":2},\"marker\":{\"color\":\"red\",\"size\":4},\"mode\":\"lines+markers\",\"showlegend\":false,\"x\":[0.0,10.0],\"y\":[212.5201353092784,212.5201353092784],\"z\":[0.1796513433397457,0.1796513433397457],\"type\":\"scatter3d\"},{\"line\":{\"color\":\"blue\",\"width\":2},\"marker\":{\"color\":\"red\",\"size\":4},\"mode\":\"lines+markers\",\"showlegend\":false,\"x\":[0.0,10.0],\"y\":[218.43991623711344,218.43991623711344],\"z\":[0.2046768848796449,0.2046768848796449],\"type\":\"scatter3d\"},{\"line\":{\"color\":\"blue\",\"width\":2},\"marker\":{\"color\":\"red\",\"size\":4},\"mode\":\"lines+markers\",\"showlegend\":false,\"x\":[0.0,10.0],\"y\":[229.0955219072165,229.0955219072165],\"z\":[0.1420077464308907,0.1420077464308907],\"type\":\"scatter3d\"},{\"line\":{\"color\":\"blue\",\"width\":2},\"marker\":{\"color\":\"red\",\"size\":4},\"mode\":\"lines+markers\",\"showlegend\":false,\"x\":[0.0,10.0],\"y\":[239.1591494845361,239.1591494845361],\"z\":[0.9292020004839688,0.9292020004839688],\"type\":\"scatter3d\"},{\"line\":{\"color\":\"blue\",\"width\":2},\"marker\":{\"color\":\"red\",\"size\":4},\"mode\":\"lines+markers\",\"showlegend\":false,\"x\":[0.0,10.0],\"y\":[249.2227770618557,249.2227770618557],\"z\":[0.2848506894431918,0.2848506894431918],\"type\":\"scatter3d\"},{\"line\":{\"color\":\"blue\",\"width\":2},\"marker\":{\"color\":\"red\",\"size\":4},\"mode\":\"lines+markers\",\"showlegend\":false,\"x\":[0.0,10.0],\"y\":[260.4703608247423,260.4703608247423],\"z\":[0.317778503353771,0.317778503353771],\"type\":\"scatter3d\"},{\"line\":{\"color\":\"blue\",\"width\":2},\"marker\":{\"color\":\"red\",\"size\":4},\"mode\":\"lines+markers\",\"showlegend\":false,\"x\":[0.0,10.0],\"y\":[263.4302512886598,263.4302512886598],\"z\":[0.3301790143321215,0.3301790143321215],\"type\":\"scatter3d\"},{\"line\":{\"color\":\"blue\",\"width\":2},\"marker\":{\"color\":\"red\",\"size\":4},\"mode\":\"lines+markers\",\"showlegend\":false,\"x\":[0.0,10.0],\"y\":[266.39014175257734,266.39014175257734],\"z\":[0.3270035741491189,0.3270035741491189],\"type\":\"scatter3d\"},{\"line\":{\"color\":\"blue\",\"width\":2},\"marker\":{\"color\":\"red\",\"size\":4},\"mode\":\"lines+markers\",\"showlegend\":false,\"x\":[0.0,10.0],\"y\":[273.4938788659794,273.4938788659794],\"z\":[0.3751883712147636,0.3751883712147636],\"type\":\"scatter3d\"},{\"line\":{\"color\":\"blue\",\"width\":2},\"marker\":{\"color\":\"red\",\"size\":4},\"mode\":\"lines+markers\",\"showlegend\":false,\"x\":[0.0,10.0],\"y\":[278.22970360824746,278.22970360824746],\"z\":[0.3350229298573943,0.3350229298573943],\"type\":\"scatter3d\"},{\"line\":{\"color\":\"blue\",\"width\":2},\"marker\":{\"color\":\"red\",\"size\":4},\"mode\":\"lines+markers\",\"showlegend\":false,\"x\":[0.0,10.0],\"y\":[282.9655283505155,282.9655283505155],\"z\":[0.3890367237048453,0.3890367237048453],\"type\":\"scatter3d\"},{\"line\":{\"color\":\"blue\",\"width\":2},\"marker\":{\"color\":\"red\",\"size\":4},\"mode\":\"lines+markers\",\"showlegend\":false,\"x\":[0.0,10.0],\"y\":[293.02915592783506,293.02915592783506],\"z\":[0.2281197312663641,0.2281197312663641],\"type\":\"scatter3d\"},{\"line\":{\"color\":\"blue\",\"width\":2},\"marker\":{\"color\":\"red\",\"size\":4},\"mode\":\"lines+markers\",\"showlegend\":false,\"x\":[0.0,10.0],\"y\":[300.72487113402065,300.72487113402065],\"z\":[0.2707824778345502,0.2707824778345502],\"type\":\"scatter3d\"},{\"line\":{\"color\":\"blue\",\"width\":2},\"marker\":{\"color\":\"red\",\"size\":4},\"mode\":\"lines+markers\",\"showlegend\":false,\"x\":[0.0,10.0],\"y\":[321.4441043814433,321.4441043814433],\"z\":[1.0,1.0],\"type\":\"scatter3d\"},{\"line\":{\"color\":\"blue\",\"width\":2},\"marker\":{\"color\":\"red\",\"size\":4},\"mode\":\"lines+markers\",\"showlegend\":false,\"x\":[0.0,10.0],\"y\":[333.87564432989694,333.87564432989694],\"z\":[0.2227375955465794,0.2227375955465794],\"type\":\"scatter3d\"},{\"line\":{\"color\":\"blue\",\"width\":2},\"marker\":{\"color\":\"red\",\"size\":4},\"mode\":\"lines+markers\",\"showlegend\":false,\"x\":[0.0,10.0],\"y\":[339.2034471649485,339.2034471649485],\"z\":[0.2572518369314859,0.2572518369314859],\"type\":\"scatter3d\"},{\"line\":{\"color\":\"blue\",\"width\":2},\"marker\":{\"color\":\"red\",\"size\":4},\"mode\":\"lines+markers\",\"showlegend\":false,\"x\":[0.0,10.0],\"y\":[345.71520618556707,345.71520618556707],\"z\":[0.2240981528939,0.2240981528939],\"type\":\"scatter3d\"},{\"line\":{\"color\":\"blue\",\"width\":2},\"marker\":{\"color\":\"red\",\"size\":4},\"mode\":\"lines+markers\",\"showlegend\":false,\"x\":[0.0,10.0],\"y\":[347.4911404639176,347.4911404639176],\"z\":[0.2225492727066272,0.2225492727066272],\"type\":\"scatter3d\"},{\"line\":{\"color\":\"blue\",\"width\":2},\"marker\":{\"color\":\"red\",\"size\":4},\"mode\":\"lines+markers\",\"showlegend\":false,\"x\":[0.0,10.0],\"y\":[356.96278994845363,356.96278994845363],\"z\":[0.1250427571516194,0.1250427571516194],\"type\":\"scatter3d\"},{\"line\":{\"color\":\"blue\",\"width\":2},\"marker\":{\"color\":\"red\",\"size\":4},\"mode\":\"lines+markers\",\"showlegend\":false,\"x\":[0.0,10.0],\"y\":[362.8825708762887,362.8825708762887],\"z\":[0.1080669458811114,0.1080669458811114],\"type\":\"scatter3d\"},{\"line\":{\"color\":\"blue\",\"width\":2},\"marker\":{\"color\":\"red\",\"size\":4},\"mode\":\"lines+markers\",\"showlegend\":false,\"x\":[0.0,10.0],\"y\":[369.9863079896908,369.9863079896908],\"z\":[0.0899116368931042,0.0899116368931042],\"type\":\"scatter3d\"},{\"line\":{\"color\":\"blue\",\"width\":2},\"marker\":{\"color\":\"red\",\"size\":4},\"mode\":\"lines+markers\",\"showlegend\":false,\"x\":[0.0,10.0],\"y\":[378.86597938144337,378.86597938144337],\"z\":[0.0913727436294576,0.0913727436294576],\"type\":\"scatter3d\"},{\"line\":{\"color\":\"blue\",\"width\":2},\"marker\":{\"color\":\"red\",\"size\":4},\"mode\":\"lines+markers\",\"showlegend\":false,\"x\":[0.0,10.0],\"y\":[384.19378221649487,384.19378221649487],\"z\":[0.1681689872072273,0.1681689872072273],\"type\":\"scatter3d\"},{\"line\":{\"color\":\"blue\",\"width\":2},\"marker\":{\"color\":\"red\",\"size\":4},\"mode\":\"lines+markers\",\"showlegend\":false,\"x\":[0.0,10.0],\"y\":[390.70554123711344,390.70554123711344],\"z\":[0.2604984561329933,0.2604984561329933],\"type\":\"scatter3d\"},{\"line\":{\"color\":\"blue\",\"width\":2},\"marker\":{\"color\":\"red\",\"size\":4},\"mode\":\"lines+markers\",\"showlegend\":false,\"x\":[0.0,10.0],\"y\":[393.66543170103097,393.66543170103097],\"z\":[0.2545125148748408,0.2545125148748408],\"type\":\"scatter3d\"},{\"line\":{\"color\":\"blue\",\"width\":2},\"marker\":{\"color\":\"red\",\"size\":4},\"mode\":\"lines+markers\",\"showlegend\":false,\"x\":[0.0,10.0],\"y\":[397.8092783505155,397.8092783505155],\"z\":[0.1595036940649361,0.1595036940649361],\"type\":\"scatter3d\"},{\"line\":{\"color\":\"blue\",\"width\":2},\"marker\":{\"color\":\"red\",\"size\":4},\"mode\":\"lines+markers\",\"showlegend\":false,\"x\":[0.0,10.0],\"y\":[404.9130154639176,404.9130154639176],\"z\":[0.186950838827358,0.186950838827358],\"type\":\"scatter3d\"},{\"line\":{\"color\":\"blue\",\"width\":2},\"marker\":{\"color\":\"red\",\"size\":4},\"mode\":\"lines+markers\",\"showlegend\":false,\"x\":[0.0,10.0],\"y\":[413.7926868556701,413.7926868556701],\"z\":[0.2333113634933185,0.2333113634933185],\"type\":\"scatter3d\"},{\"line\":{\"color\":\"blue\",\"width\":2},\"marker\":{\"color\":\"red\",\"size\":4},\"mode\":\"lines+markers\",\"showlegend\":false,\"x\":[0.0,10.0],\"y\":[436.8798324742269,436.8798324742269],\"z\":[0.2816314752308237,0.2816314752308237],\"type\":\"scatter3d\"},{\"line\":{\"color\":\"blue\",\"width\":2},\"marker\":{\"color\":\"red\",\"size\":4},\"mode\":\"lines+markers\",\"showlegend\":false,\"x\":[0.0,10.0],\"y\":[448.12741623711344,448.12741623711344],\"z\":[0.3314055321127593,0.3314055321127593],\"type\":\"scatter3d\"},{\"line\":{\"color\":\"blue\",\"width\":2},\"marker\":{\"color\":\"red\",\"size\":4},\"mode\":\"lines+markers\",\"showlegend\":false,\"x\":[0.0,10.0],\"y\":[457.5990657216496,457.5990657216496],\"z\":[0.335422882509246,0.335422882509246],\"type\":\"scatter3d\"},{\"line\":{\"color\":\"blue\",\"width\":2},\"marker\":{\"color\":\"red\",\"size\":4},\"mode\":\"lines+markers\",\"showlegend\":false,\"x\":[0.0,10.0],\"y\":[464.1108247422681,464.1108247422681],\"z\":[0.3579586501548429,0.3579586501548429],\"type\":\"scatter3d\"},{\"line\":{\"color\":\"blue\",\"width\":2},\"marker\":{\"color\":\"red\",\"size\":4},\"mode\":\"lines+markers\",\"showlegend\":false,\"x\":[0.0,10.0],\"y\":[470.0306056701031,470.0306056701031],\"z\":[0.2500034470924099,0.2500034470924099],\"type\":\"scatter3d\"},{\"line\":{\"color\":\"blue\",\"width\":2},\"marker\":{\"color\":\"red\",\"size\":4},\"mode\":\"lines+markers\",\"showlegend\":false,\"x\":[0.0,10.0],\"y\":[476.5423646907217,476.5423646907217],\"z\":[0.2281230893840701,0.2281230893840701],\"type\":\"scatter3d\"},{\"line\":{\"color\":\"blue\",\"width\":2},\"marker\":{\"color\":\"red\",\"size\":4},\"mode\":\"lines+markers\",\"showlegend\":false,\"x\":[0.0,10.0],\"y\":[484.8300579896908,484.8300579896908],\"z\":[0.3220765953464086,0.3220765953464086],\"type\":\"scatter3d\"},{\"line\":{\"color\":\"blue\",\"width\":2},\"marker\":{\"color\":\"red\",\"size\":4},\"mode\":\"lines+markers\",\"showlegend\":false,\"x\":[0.0,10.0],\"y\":[490.15786082474233,490.15786082474233],\"z\":[0.246035862846552,0.246035862846552],\"type\":\"scatter3d\"},{\"line\":{\"color\":\"blue\",\"width\":2},\"marker\":{\"color\":\"red\",\"size\":4},\"mode\":\"lines+markers\",\"showlegend\":false,\"x\":[0.0,10.0],\"y\":[497.2615979381444,497.2615979381444],\"z\":[0.2990414142935916,0.2990414142935916],\"type\":\"scatter3d\"},{\"line\":{\"color\":\"blue\",\"width\":2},\"marker\":{\"color\":\"red\",\"size\":4},\"mode\":\"lines+markers\",\"showlegend\":false,\"x\":[0.0,10.0],\"y\":[508.50918170103097,508.50918170103097],\"z\":[0.4216375379134869,0.4216375379134869],\"type\":\"scatter3d\"},{\"line\":{\"color\":\"blue\",\"width\":2},\"marker\":{\"color\":\"red\",\"size\":4},\"mode\":\"lines+markers\",\"showlegend\":false,\"x\":[0.0,10.0],\"y\":[518.5728092783505,518.5728092783505],\"z\":[0.5253413201092629,0.5253413201092629],\"type\":\"scatter3d\"},{\"line\":{\"color\":\"blue\",\"width\":2},\"marker\":{\"color\":\"red\",\"size\":4},\"mode\":\"lines+markers\",\"showlegend\":false,\"x\":[0.0,10.0],\"y\":[527.4524806701031,527.4524806701031],\"z\":[0.2766957235690527,0.2766957235690527],\"type\":\"scatter3d\"},{\"line\":{\"color\":\"blue\",\"width\":2},\"marker\":{\"color\":\"red\",\"size\":4},\"mode\":\"lines+markers\",\"showlegend\":false,\"x\":[0.0,10.0],\"y\":[533.3722615979382,533.3722615979382],\"z\":[0.2702573791820916,0.2702573791820916],\"type\":\"scatter3d\"},{\"line\":{\"color\":\"blue\",\"width\":2},\"marker\":{\"color\":\"red\",\"size\":4},\"mode\":\"lines+markers\",\"showlegend\":false,\"x\":[0.0,10.0],\"y\":[541.0679768041238,541.0679768041238],\"z\":[0.2883685238957213,0.2883685238957213],\"type\":\"scatter3d\"},{\"line\":{\"color\":\"blue\",\"width\":2},\"marker\":{\"color\":\"red\",\"size\":4},\"mode\":\"lines+markers\",\"showlegend\":false,\"x\":[0.0,10.0],\"y\":[546.9877577319588,546.9877577319588],\"z\":[0.3578525977263718,0.3578525977263718],\"type\":\"scatter3d\"},{\"line\":{\"color\":\"blue\",\"width\":2},\"marker\":{\"color\":\"red\",\"size\":4},\"mode\":\"lines+markers\",\"showlegend\":false,\"x\":[0.0,10.0],\"y\":[549.9476481958764,549.9476481958764],\"z\":[0.3258405081159594,0.3258405081159594],\"type\":\"scatter3d\"},{\"line\":{\"color\":\"blue\",\"width\":2},\"marker\":{\"color\":\"red\",\"size\":4},\"mode\":\"lines+markers\",\"showlegend\":false,\"x\":[0.0,10.0],\"y\":[558.827319587629,558.827319587629],\"z\":[0.2460215336997886,0.2460215336997886],\"type\":\"scatter3d\"},{\"line\":{\"color\":\"blue\",\"width\":2},\"marker\":{\"color\":\"red\",\"size\":4},\"mode\":\"lines+markers\",\"showlegend\":false,\"x\":[0.0,10.0],\"y\":[570.0749033505156,570.0749033505156],\"z\":[0.1833939408493947,0.1833939408493947],\"type\":\"scatter3d\"},{\"line\":{\"color\":\"blue\",\"width\":2},\"marker\":{\"color\":\"red\",\"size\":4},\"mode\":\"lines+markers\",\"showlegend\":false,\"x\":[0.0,10.0],\"y\":[575.9946842783505,575.9946842783505],\"z\":[0.2651717542928279,0.2651717542928279],\"type\":\"scatter3d\"},{\"line\":{\"color\":\"blue\",\"width\":2},\"marker\":{\"color\":\"red\",\"size\":4},\"mode\":\"lines+markers\",\"showlegend\":false,\"x\":[0.0,10.0],\"y\":[584.8743556701031,584.8743556701031],\"z\":[0.2870483154872936,0.2870483154872936],\"type\":\"scatter3d\"},{\"line\":{\"color\":\"blue\",\"width\":2},\"marker\":{\"color\":\"red\",\"size\":4},\"mode\":\"lines+markers\",\"showlegend\":false,\"x\":[0.0,10.0],\"y\":[599.0818298969073,599.0818298969073],\"z\":[0.9600034078815988,0.9600034078815988],\"type\":\"scatter3d\"},{\"line\":{\"color\":\"blue\",\"width\":2},\"marker\":{\"color\":\"red\",\"size\":4},\"mode\":\"lines+markers\",\"showlegend\":false,\"x\":[0.0,10.0],\"y\":[615.6572164948454,615.6572164948454],\"z\":[0.0607770255607302,0.0607770255607302],\"type\":\"scatter3d\"},{\"line\":{\"color\":\"blue\",\"width\":2},\"marker\":{\"color\":\"red\",\"size\":4},\"mode\":\"lines+markers\",\"showlegend\":false,\"x\":[0.0,10.0],\"y\":[618.617106958763,618.617106958763],\"z\":[0.0608552054287953,0.0608552054287953],\"type\":\"scatter3d\"},{\"line\":{\"color\":\"blue\",\"width\":2},\"marker\":{\"color\":\"red\",\"size\":4},\"mode\":\"lines+markers\",\"showlegend\":false,\"x\":[0.0,10.0],\"y\":[629.8646907216496,629.8646907216496],\"z\":[0.0526714942106289,0.0526714942106289],\"type\":\"scatter3d\"},{\"line\":{\"color\":\"blue\",\"width\":2},\"marker\":{\"color\":\"red\",\"size\":4},\"mode\":\"lines+markers\",\"showlegend\":false,\"x\":[0.0,10.0],\"y\":[633.4165592783506,633.4165592783506],\"z\":[0.0583628670803719,0.0583628670803719],\"type\":\"scatter3d\"},{\"line\":{\"color\":\"blue\",\"width\":2},\"marker\":{\"color\":\"red\",\"size\":4},\"mode\":\"lines+markers\",\"showlegend\":false,\"x\":[0.0,10.0],\"y\":[638.7443621134021,638.7443621134021],\"z\":[0.0657075017699622,0.0657075017699622],\"type\":\"scatter3d\"},{\"line\":{\"color\":\"blue\",\"width\":2},\"marker\":{\"color\":\"red\",\"size\":4},\"mode\":\"lines+markers\",\"showlegend\":false,\"x\":[0.0,10.0],\"y\":[643.4801868556701,643.4801868556701],\"z\":[0.0734970399522124,0.0734970399522124],\"type\":\"scatter3d\"},{\"line\":{\"color\":\"blue\",\"width\":2},\"marker\":{\"color\":\"red\",\"size\":4},\"mode\":\"lines+markers\",\"showlegend\":false,\"x\":[0.0,10.0],\"y\":[649.3999677835052,649.3999677835052],\"z\":[0.0703000238740727,0.0703000238740727],\"type\":\"scatter3d\"},{\"line\":{\"color\":\"blue\",\"width\":2},\"marker\":{\"color\":\"red\",\"size\":4},\"mode\":\"lines+markers\",\"showlegend\":false,\"x\":[0.0,10.0],\"y\":[657.0956829896908,657.0956829896908],\"z\":[0.0609053960042794,0.0609053960042794],\"type\":\"scatter3d\"},{\"line\":{\"color\":\"blue\",\"width\":2},\"marker\":{\"color\":\"red\",\"size\":4},\"mode\":\"lines+markers\",\"showlegend\":false,\"x\":[0.0,10.0],\"y\":[661.2395296391753,661.2395296391753],\"z\":[0.0611759404208076,0.0611759404208076],\"type\":\"scatter3d\"},{\"line\":{\"color\":\"blue\",\"width\":2},\"marker\":{\"color\":\"red\",\"size\":4},\"mode\":\"lines+markers\",\"showlegend\":false,\"x\":[0.0,10.0],\"y\":[696.7582152061857,696.7582152061857],\"z\":[0.0456609823420641,0.0456609823420641],\"type\":\"scatter3d\"},{\"line\":{\"color\":\"blue\",\"width\":2},\"marker\":{\"color\":\"red\",\"size\":4},\"mode\":\"lines+markers\",\"showlegend\":false,\"x\":[0.0,10.0],\"y\":[701.4940399484536,701.4940399484536],\"z\":[0.0341330624801246,0.0341330624801246],\"type\":\"scatter3d\"},{\"line\":{\"color\":\"blue\",\"width\":2},\"marker\":{\"color\":\"red\",\"size\":4},\"mode\":\"lines+markers\",\"showlegend\":false,\"x\":[0.0,10.0],\"y\":[710.3737113402062,710.3737113402062],\"z\":[0.0433921690066363,0.0433921690066363],\"type\":\"scatter3d\"},{\"line\":{\"color\":\"blue\",\"width\":2},\"marker\":{\"color\":\"red\",\"size\":4},\"mode\":\"lines+markers\",\"showlegend\":false,\"x\":[0.0,10.0],\"y\":[721.6212951030928,721.6212951030928],\"z\":[0.093948617674645,0.093948617674645],\"type\":\"scatter3d\"},{\"line\":{\"color\":\"blue\",\"width\":2},\"marker\":{\"color\":\"red\",\"size\":4},\"mode\":\"lines+markers\",\"showlegend\":false,\"x\":[0.0,10.0],\"y\":[729.9089884020619,729.9089884020619],\"z\":[0.035002874920025,0.035002874920025],\"type\":\"scatter3d\"},{\"line\":{\"color\":\"blue\",\"width\":2},\"marker\":{\"color\":\"red\",\"size\":4},\"mode\":\"lines+markers\",\"showlegend\":false,\"x\":[0.0,10.0],\"y\":[742.9325064432991,742.9325064432991],\"z\":[0.061903999533846,0.061903999533846],\"type\":\"scatter3d\"},{\"line\":{\"color\":\"blue\",\"width\":2},\"marker\":{\"color\":\"red\",\"size\":4},\"mode\":\"lines+markers\",\"showlegend\":false,\"x\":[0.0,10.0],\"y\":[744.7084407216496,744.7084407216496],\"z\":[0.0622001029136549,0.0622001029136549],\"type\":\"scatter3d\"},{\"line\":{\"color\":\"blue\",\"width\":2},\"marker\":{\"color\":\"red\",\"size\":4},\"mode\":\"lines+markers\",\"showlegend\":false,\"x\":[0.0,10.0],\"y\":[748.2603092783506,748.2603092783506],\"z\":[0.0604035702916586,0.0604035702916586],\"type\":\"scatter3d\"},{\"line\":{\"color\":\"blue\",\"width\":2},\"marker\":{\"color\":\"red\",\"size\":4},\"mode\":\"lines+markers\",\"showlegend\":false,\"x\":[0.0,10.0],\"y\":[776.6752577319588,776.6752577319588],\"z\":[0.3290367344874931,0.3290367344874931],\"type\":\"scatter3d\"},{\"line\":{\"color\":\"blue\",\"width\":2},\"marker\":{\"color\":\"red\",\"size\":4},\"mode\":\"lines+markers\",\"showlegend\":false,\"x\":[0.0,10.0],\"y\":[796.2105347938145,796.2105347938145],\"z\":[0.0481431955666357,0.0481431955666357],\"type\":\"scatter3d\"},{\"line\":{\"color\":\"blue\",\"width\":2},\"marker\":{\"color\":\"red\",\"size\":4},\"mode\":\"lines+markers\",\"showlegend\":false,\"x\":[0.0,10.0],\"y\":[798.5784471649486,798.5784471649486],\"z\":[0.0479456219190943,0.0479456219190943],\"type\":\"scatter3d\"},{\"line\":{\"color\":\"blue\",\"width\":2},\"marker\":{\"color\":\"red\",\"size\":4},\"mode\":\"lines+markers\",\"showlegend\":false,\"x\":[0.0,10.0],\"y\":[803.9062500000001,803.9062500000001],\"z\":[0.0336536864164656,0.0336536864164656],\"type\":\"scatter3d\"},{\"line\":{\"color\":\"blue\",\"width\":2},\"marker\":{\"color\":\"red\",\"size\":4},\"mode\":\"lines+markers\",\"showlegend\":false,\"x\":[0.0,10.0],\"y\":[807.4581185567012,807.4581185567012],\"z\":[0.0315505741261331,0.0315505741261331],\"type\":\"scatter3d\"},{\"line\":{\"color\":\"blue\",\"width\":2},\"marker\":{\"color\":\"red\",\"size\":4},\"mode\":\"lines+markers\",\"showlegend\":false,\"x\":[0.0,10.0],\"y\":[825.2174613402062,825.2174613402062],\"z\":[0.0264601262671278,0.0264601262671278],\"type\":\"scatter3d\"},{\"line\":{\"color\":\"blue\",\"width\":2},\"marker\":{\"color\":\"red\",\"size\":4},\"mode\":\"lines+markers\",\"showlegend\":false,\"x\":[0.0,10.0],\"y\":[833.5051546391753,833.5051546391753],\"z\":[0.031927224687048,0.031927224687048],\"type\":\"scatter3d\"},{\"line\":{\"color\":\"blue\",\"width\":2},\"marker\":{\"color\":\"red\",\"size\":4},\"mode\":\"lines+markers\",\"showlegend\":false,\"x\":[0.0,10.0],\"y\":[836.4650451030928,836.4650451030928],\"z\":[0.0261435610995635,0.0261435610995635],\"type\":\"scatter3d\"},{\"line\":{\"color\":\"blue\",\"width\":2},\"marker\":{\"color\":\"red\",\"size\":4},\"mode\":\"lines+markers\",\"showlegend\":false,\"x\":[0.0,10.0],\"y\":[841.7928479381444,841.7928479381444],\"z\":[0.0217453429379495,0.0217453429379495],\"type\":\"scatter3d\"},{\"line\":{\"color\":\"blue\",\"width\":2},\"marker\":{\"color\":\"red\",\"size\":4},\"mode\":\"lines+markers\",\"showlegend\":false,\"x\":[0.0,10.0],\"y\":[848.304606958763,848.304606958763],\"z\":[0.0396376246304432,0.0396376246304432],\"type\":\"scatter3d\"},{\"line\":{\"color\":\"blue\",\"width\":2},\"marker\":{\"color\":\"red\",\"size\":4},\"mode\":\"lines+markers\",\"showlegend\":false,\"x\":[0.0,10.0],\"y\":[856.5923002577321,856.5923002577321],\"z\":[0.0357643445898905,0.0357643445898905],\"type\":\"scatter3d\"},{\"line\":{\"color\":\"blue\",\"width\":2},\"marker\":{\"color\":\"red\",\"size\":4},\"mode\":\"lines+markers\",\"showlegend\":false,\"x\":[0.0,10.0],\"y\":[864.8799935567012,864.8799935567012],\"z\":[0.0552006298280979,0.0552006298280979],\"type\":\"scatter3d\"},{\"line\":{\"color\":\"blue\",\"width\":2},\"marker\":{\"color\":\"red\",\"size\":4},\"mode\":\"lines+markers\",\"showlegend\":false,\"x\":[0.0,10.0],\"y\":[867.2479059278352,867.2479059278352],\"z\":[0.0539521443061204,0.0539521443061204],\"type\":\"scatter3d\"},{\"line\":{\"color\":\"blue\",\"width\":2},\"marker\":{\"color\":\"red\",\"size\":4},\"mode\":\"lines+markers\",\"showlegend\":false,\"x\":[0.0,10.0],\"y\":[873.7596649484537,873.7596649484537],\"z\":[0.0564459424317458,0.0564459424317458],\"type\":\"scatter3d\"},{\"line\":{\"color\":\"blue\",\"width\":2},\"marker\":{\"color\":\"red\",\"size\":4},\"mode\":\"lines+markers\",\"showlegend\":false,\"x\":[0.0,10.0],\"y\":[885.5992268041238,885.5992268041238],\"z\":[0.0477631453386673,0.0477631453386673],\"type\":\"scatter3d\"},{\"line\":{\"color\":\"blue\",\"width\":2},\"marker\":{\"color\":\"red\",\"size\":4},\"mode\":\"lines+markers\",\"showlegend\":false,\"x\":[0.0,10.0],\"y\":[893.2949420103093,893.2949420103093],\"z\":[0.0370912302184943,0.0370912302184943],\"type\":\"scatter3d\"},{\"line\":{\"color\":\"blue\",\"width\":2},\"marker\":{\"color\":\"red\",\"size\":4},\"mode\":\"lines+markers\",\"showlegend\":false,\"x\":[0.0,10.0],\"y\":[910.462306701031,910.462306701031],\"z\":[0.0481633319011694,0.0481633319011694],\"type\":\"scatter3d\"},{\"line\":{\"color\":\"blue\",\"width\":2},\"marker\":{\"color\":\"red\",\"size\":4},\"mode\":\"lines+markers\",\"showlegend\":false,\"x\":[0.0,10.0],\"y\":[914.6061533505156,914.6061533505156],\"z\":[0.0428965015187036,0.0428965015187036],\"type\":\"scatter3d\"},{\"line\":{\"color\":\"blue\",\"width\":2},\"marker\":{\"color\":\"red\",\"size\":4},\"mode\":\"lines+markers\",\"showlegend\":false,\"x\":[0.0,10.0],\"y\":[919.9339561855672,919.9339561855672],\"z\":[0.0488350041085421,0.0488350041085421],\"type\":\"scatter3d\"},{\"line\":{\"color\":\"blue\",\"width\":2},\"marker\":{\"color\":\"red\",\"size\":4},\"mode\":\"lines+markers\",\"showlegend\":false,\"x\":[0.0,10.0],\"y\":[922.8938466494848,922.8938466494848],\"z\":[0.0482420859389609,0.0482420859389609],\"type\":\"scatter3d\"},{\"line\":{\"color\":\"blue\",\"width\":2},\"marker\":{\"color\":\"red\",\"size\":4},\"mode\":\"lines+markers\",\"showlegend\":false,\"x\":[0.0,10.0],\"y\":[932.3654961340208,932.3654961340208],\"z\":[0.04648592373092,0.04648592373092],\"type\":\"scatter3d\"},{\"line\":{\"color\":\"blue\",\"width\":2},\"marker\":{\"color\":\"red\",\"size\":4},\"mode\":\"lines+markers\",\"showlegend\":false,\"x\":[0.0,10.0],\"y\":[938.2852770618558,938.2852770618558],\"z\":[0.0406932862044845,0.0406932862044845],\"type\":\"scatter3d\"},{\"line\":{\"color\":\"blue\",\"width\":2},\"marker\":{\"color\":\"red\",\"size\":4},\"mode\":\"lines+markers\",\"showlegend\":false,\"x\":[0.0,10.0],\"y\":[941.8371456185567,941.8371456185567],\"z\":[0.0406576929374755,0.0406576929374755],\"type\":\"scatter3d\"},{\"line\":{\"color\":\"blue\",\"width\":2},\"marker\":{\"color\":\"red\",\"size\":4},\"mode\":\"lines+markers\",\"showlegend\":false,\"x\":[0.0,10.0],\"y\":[951.9007731958764,951.9007731958764],\"z\":[0.0346597502428389,0.0346597502428389],\"type\":\"scatter3d\"},{\"line\":{\"color\":\"blue\",\"width\":2},\"marker\":{\"color\":\"red\",\"size\":4},\"mode\":\"lines+markers\",\"showlegend\":false,\"x\":[0.0,10.0],\"y\":[961.964400773196,961.964400773196],\"z\":[0.0288572579465925,0.0288572579465925],\"type\":\"scatter3d\"},{\"line\":{\"color\":\"blue\",\"width\":2},\"marker\":{\"color\":\"red\",\"size\":4},\"mode\":\"lines+markers\",\"showlegend\":false,\"x\":[0.0,10.0],\"y\":[972.6200064432992,972.6200064432992],\"z\":[0.1135107803239642,0.1135107803239642],\"type\":\"scatter3d\"},{\"line\":{\"color\":\"blue\",\"width\":2},\"marker\":{\"color\":\"red\",\"size\":4},\"mode\":\"lines+markers\",\"showlegend\":false,\"x\":[0.0,10.0],\"y\":[974.9879188144332,974.9879188144332],\"z\":[0.1113209937412694,0.1113209937412694],\"type\":\"scatter3d\"},{\"line\":{\"color\":\"blue\",\"width\":2},\"marker\":{\"color\":\"red\",\"size\":4},\"mode\":\"lines+markers\",\"showlegend\":false,\"x\":[0.0,10.0],\"y\":[983.8675902061856,983.8675902061856],\"z\":[0.1459757963767739,0.1459757963767739],\"type\":\"scatter3d\"},{\"line\":{\"color\":\"blue\",\"width\":2},\"marker\":{\"color\":\"red\",\"size\":4},\"mode\":\"lines+markers\",\"showlegend\":false,\"x\":[0.0,10.0],\"y\":[989.1953930412373,989.1953930412373],\"z\":[0.1875461847863182,0.1875461847863182],\"type\":\"scatter3d\"},{\"line\":{\"color\":\"blue\",\"width\":2},\"marker\":{\"color\":\"red\",\"size\":4},\"mode\":\"lines+markers\",\"showlegend\":false,\"x\":[0.0,10.0],\"y\":[995.1151739690724,995.1151739690724],\"z\":[0.216110345760488,0.216110345760488],\"type\":\"scatter3d\"},{\"line\":{\"color\":\"blue\",\"width\":2},\"marker\":{\"color\":\"red\",\"size\":4},\"mode\":\"lines+markers\",\"showlegend\":false,\"x\":[0.0,10.0],\"y\":[1002.2189110824744,1002.2189110824744],\"z\":[0.208893877505819,0.208893877505819],\"type\":\"scatter3d\"},{\"line\":{\"color\":\"blue\",\"width\":2},\"marker\":{\"color\":\"red\",\"size\":4},\"mode\":\"lines+markers\",\"showlegend\":false,\"x\":[0.0,10.0],\"y\":[1012.282538659794,1012.282538659794],\"z\":[0.0851039505779036,0.0851039505779036],\"type\":\"scatter3d\"},{\"line\":{\"color\":\"blue\",\"width\":2},\"marker\":{\"color\":\"red\",\"size\":4},\"mode\":\"lines+markers\",\"showlegend\":false,\"x\":[0.0,10.0],\"y\":[1023.5301224226804,1023.5301224226804],\"z\":[0.0622206942672529,0.0622206942672529],\"type\":\"scatter3d\"},{\"line\":{\"color\":\"blue\",\"width\":2},\"marker\":{\"color\":\"red\",\"size\":4},\"mode\":\"lines+markers\",\"showlegend\":false,\"x\":[0.0,10.0],\"y\":[1031.8178157216496,1031.8178157216496],\"z\":[0.054012039357389,0.054012039357389],\"type\":\"scatter3d\"},{\"line\":{\"color\":\"blue\",\"width\":2},\"marker\":{\"color\":\"red\",\"size\":4},\"mode\":\"lines+markers\",\"showlegend\":false,\"x\":[0.0,10.0],\"y\":[1037.145618556701,1037.145618556701],\"z\":[0.0510038703470492,0.0510038703470492],\"type\":\"scatter3d\"},{\"line\":{\"color\":\"blue\",\"width\":2},\"marker\":{\"color\":\"red\",\"size\":4},\"mode\":\"lines+markers\",\"showlegend\":false,\"x\":[0.0,10.0],\"y\":[1057.864851804124,1057.864851804124],\"z\":[0.0217424219329419,0.0217424219329419],\"type\":\"scatter3d\"},{\"line\":{\"color\":\"blue\",\"width\":2},\"marker\":{\"color\":\"red\",\"size\":4},\"mode\":\"lines+markers\",\"showlegend\":false,\"x\":[0.0,10.0],\"y\":[1079.17606314433,1079.17606314433],\"z\":[0.0230984515162427,0.0230984515162427],\"type\":\"scatter3d\"},{\"line\":{\"color\":\"blue\",\"width\":2},\"marker\":{\"color\":\"red\",\"size\":4},\"mode\":\"lines+markers\",\"showlegend\":false,\"x\":[0.0,10.0],\"y\":[1082.7279317010311,1082.7279317010311],\"z\":[0.0254832572066493,0.0254832572066493],\"type\":\"scatter3d\"},{\"line\":{\"color\":\"blue\",\"width\":2},\"marker\":{\"color\":\"red\",\"size\":4},\"mode\":\"lines+markers\",\"showlegend\":false,\"x\":[0.0,10.0],\"y\":[1089.2396907216496,1089.2396907216496],\"z\":[0.0254441247368371,0.0254441247368371],\"type\":\"scatter3d\"},{\"line\":{\"color\":\"blue\",\"width\":2},\"marker\":{\"color\":\"red\",\"size\":4},\"mode\":\"lines+markers\",\"showlegend\":false,\"x\":[0.0,10.0],\"y\":[1092.199581185567,1092.199581185567],\"z\":[0.0294618071706367,0.0294618071706367],\"type\":\"scatter3d\"},{\"line\":{\"color\":\"blue\",\"width\":2},\"marker\":{\"color\":\"red\",\"size\":4},\"mode\":\"lines+markers\",\"showlegend\":false,\"x\":[0.0,10.0],\"y\":[1103.4471649484535,1103.4471649484535],\"z\":[0.0406317106220899,0.0406317106220899],\"type\":\"scatter3d\"},{\"line\":{\"color\":\"blue\",\"width\":2},\"marker\":{\"color\":\"red\",\"size\":4},\"mode\":\"lines+markers\",\"showlegend\":false,\"x\":[0.0,10.0],\"y\":[1109.3669458762888,1109.3669458762888],\"z\":[0.0388709052298601,0.0388709052298601],\"type\":\"scatter3d\"},{\"line\":{\"color\":\"blue\",\"width\":2},\"marker\":{\"color\":\"red\",\"size\":4},\"mode\":\"lines+markers\",\"showlegend\":false,\"x\":[0.0,10.0],\"y\":[1128.310244845361,1128.310244845361],\"z\":[0.0688633551629628,0.0688633551629628],\"type\":\"scatter3d\"},{\"line\":{\"color\":\"blue\",\"width\":2},\"marker\":{\"color\":\"red\",\"size\":4},\"mode\":\"lines+markers\",\"showlegend\":false,\"x\":[0.0,10.0],\"y\":[1136.0059600515465,1136.0059600515465],\"z\":[0.077186569042029,0.077186569042029],\"type\":\"scatter3d\"},{\"line\":{\"color\":\"blue\",\"width\":2},\"marker\":{\"color\":\"red\",\"size\":4},\"mode\":\"lines+markers\",\"showlegend\":false,\"x\":[0.0,10.0],\"y\":[1141.9257409793815,1141.9257409793815],\"z\":[0.0606895031219923,0.0606895031219923],\"type\":\"scatter3d\"},{\"line\":{\"color\":\"blue\",\"width\":2},\"marker\":{\"color\":\"red\",\"size\":4},\"mode\":\"lines+markers\",\"showlegend\":false,\"x\":[0.0,10.0],\"y\":[1144.2936533505156,1144.2936533505156],\"z\":[0.0604884799161454,0.0604884799161454],\"type\":\"scatter3d\"},{\"line\":{\"color\":\"blue\",\"width\":2},\"marker\":{\"color\":\"red\",\"size\":4},\"mode\":\"lines+markers\",\"showlegend\":false,\"x\":[0.0,10.0],\"y\":[1152.5813466494849,1152.5813466494849],\"z\":[0.0724406528229653,0.0724406528229653],\"type\":\"scatter3d\"},{\"line\":{\"color\":\"blue\",\"width\":2},\"marker\":{\"color\":\"red\",\"size\":4},\"mode\":\"lines+markers\",\"showlegend\":false,\"x\":[0.0,10.0],\"y\":[1162.0529961340208,1162.0529961340208],\"z\":[0.0748386449057668,0.0748386449057668],\"type\":\"scatter3d\"},{\"line\":{\"color\":\"blue\",\"width\":2},\"marker\":{\"color\":\"red\",\"size\":4},\"mode\":\"lines+markers\",\"showlegend\":false,\"x\":[0.0,10.0],\"y\":[1171.5246456185569,1171.5246456185569],\"z\":[0.0849006303310235,0.0849006303310235],\"type\":\"scatter3d\"},{\"line\":{\"color\":\"blue\",\"width\":2},\"marker\":{\"color\":\"red\",\"size\":4},\"mode\":\"lines+markers\",\"showlegend\":false,\"x\":[0.0,10.0],\"y\":[1185.1401417525774,1185.1401417525774],\"z\":[0.1291031609136028,0.1291031609136028],\"type\":\"scatter3d\"},{\"line\":{\"color\":\"blue\",\"width\":2},\"marker\":{\"color\":\"red\",\"size\":4},\"mode\":\"lines+markers\",\"showlegend\":false,\"x\":[0.0,10.0],\"y\":[1191.0599226804125,1191.0599226804125],\"z\":[0.1071295905909583,0.1071295905909583],\"type\":\"scatter3d\"},{\"line\":{\"color\":\"blue\",\"width\":2},\"marker\":{\"color\":\"red\",\"size\":4},\"mode\":\"lines+markers\",\"showlegend\":false,\"x\":[0.0,10.0],\"y\":[1203.4914626288662,1203.4914626288662],\"z\":[0.133528771687459,0.133528771687459],\"type\":\"scatter3d\"},{\"line\":{\"color\":\"blue\",\"width\":2},\"marker\":{\"color\":\"red\",\"size\":4},\"mode\":\"lines+markers\",\"showlegend\":false,\"x\":[0.0,10.0],\"y\":[1207.0433311855672,1207.0433311855672],\"z\":[0.1329916038644593,0.1329916038644593],\"type\":\"scatter3d\"},{\"line\":{\"color\":\"blue\",\"width\":2},\"marker\":{\"color\":\"red\",\"size\":4},\"mode\":\"lines+markers\",\"showlegend\":false,\"x\":[0.0,10.0],\"y\":[1211.1871778350517,1211.1871778350517],\"z\":[0.1358687142756391,0.1358687142756391],\"type\":\"scatter3d\"},{\"line\":{\"color\":\"blue\",\"width\":2},\"marker\":{\"color\":\"red\",\"size\":4},\"mode\":\"lines+markers\",\"showlegend\":false,\"x\":[0.0,10.0],\"y\":[1231.9064110824745,1231.9064110824745],\"z\":[0.0517937190986407,0.0517937190986407],\"type\":\"scatter3d\"},{\"line\":{\"color\":\"blue\",\"width\":2},\"marker\":{\"color\":\"red\",\"size\":4},\"mode\":\"lines+markers\",\"showlegend\":false,\"x\":[0.0,10.0],\"y\":[1242.5620167525774,1242.5620167525774],\"z\":[0.0318370384956988,0.0318370384956988],\"type\":\"scatter3d\"},{\"line\":{\"color\":\"blue\",\"width\":2},\"marker\":{\"color\":\"red\",\"size\":4},\"mode\":\"lines+markers\",\"showlegend\":false,\"x\":[0.0,10.0],\"y\":[1246.705863402062,1246.705863402062],\"z\":[0.0286488445548071,0.0286488445548071],\"type\":\"scatter3d\"},{\"line\":{\"color\":\"blue\",\"width\":2},\"marker\":{\"color\":\"red\",\"size\":4},\"mode\":\"lines+markers\",\"showlegend\":false,\"x\":[0.0,10.0],\"y\":[1251.44168814433,1251.44168814433],\"z\":[0.0260227725927777,0.0260227725927777],\"type\":\"scatter3d\"},{\"line\":{\"color\":\"blue\",\"width\":2},\"marker\":{\"color\":\"red\",\"size\":4},\"mode\":\"lines+markers\",\"showlegend\":false,\"x\":[0.0,10.0],\"y\":[1257.3614690721652,1257.3614690721652],\"z\":[0.02851626915832,0.02851626915832],\"type\":\"scatter3d\"},{\"line\":{\"color\":\"blue\",\"width\":2},\"marker\":{\"color\":\"red\",\"size\":4},\"mode\":\"lines+markers\",\"showlegend\":false,\"x\":[0.0,10.0],\"y\":[1260.9133376288662,1260.9133376288662],\"z\":[0.0292734548373925,0.0292734548373925],\"type\":\"scatter3d\"},{\"line\":{\"color\":\"blue\",\"width\":2},\"marker\":{\"color\":\"red\",\"size\":4},\"mode\":\"lines+markers\",\"showlegend\":false,\"x\":[0.0,10.0],\"y\":[1272.1609213917527,1272.1609213917527],\"z\":[0.042178170872742,0.042178170872742],\"type\":\"scatter3d\"},{\"line\":{\"color\":\"blue\",\"width\":2},\"marker\":{\"color\":\"red\",\"size\":4},\"mode\":\"lines+markers\",\"showlegend\":false,\"x\":[0.0,10.0],\"y\":[1279.8566365979382,1279.8566365979382],\"z\":[0.0391007595514258,0.0391007595514258],\"type\":\"scatter3d\"},{\"line\":{\"color\":\"blue\",\"width\":2},\"marker\":{\"color\":\"red\",\"size\":4},\"mode\":\"lines+markers\",\"showlegend\":false,\"x\":[0.0,10.0],\"y\":[1285.7764175257732,1285.7764175257732],\"z\":[0.0421379703159645,0.0421379703159645],\"type\":\"scatter3d\"},{\"line\":{\"color\":\"blue\",\"width\":2},\"marker\":{\"color\":\"red\",\"size\":4},\"mode\":\"lines+markers\",\"showlegend\":false,\"x\":[0.0,10.0],\"y\":[1296.4320231958764,1296.4320231958764],\"z\":[0.0506118885140526,0.0506118885140526],\"type\":\"scatter3d\"},{\"line\":{\"color\":\"blue\",\"width\":2},\"marker\":{\"color\":\"red\",\"size\":4},\"mode\":\"lines+markers\",\"showlegend\":false,\"x\":[0.0,10.0],\"y\":[1301.1678479381444,1301.1678479381444],\"z\":[0.0543701297314717,0.0543701297314717],\"type\":\"scatter3d\"},{\"line\":{\"color\":\"blue\",\"width\":2},\"marker\":{\"color\":\"red\",\"size\":4},\"mode\":\"lines+markers\",\"showlegend\":false,\"x\":[0.0,10.0],\"y\":[1310.047519329897,1310.047519329897],\"z\":[0.0394360516140995,0.0394360516140995],\"type\":\"scatter3d\"},{\"line\":{\"color\":\"blue\",\"width\":2},\"marker\":{\"color\":\"red\",\"size\":4},\"mode\":\"lines+markers\",\"showlegend\":false,\"x\":[0.0,10.0],\"y\":[1318.3352126288662,1318.3352126288662],\"z\":[0.0405252183470116,0.0405252183470116],\"type\":\"scatter3d\"},{\"line\":{\"color\":\"blue\",\"width\":2},\"marker\":{\"color\":\"red\",\"size\":4},\"mode\":\"lines+markers\",\"showlegend\":false,\"x\":[0.0,10.0],\"y\":[1328.990818298969,1328.990818298969],\"z\":[0.0281937203544285,0.0281937203544285],\"type\":\"scatter3d\"},{\"line\":{\"color\":\"blue\",\"width\":2},\"marker\":{\"color\":\"red\",\"size\":4},\"mode\":\"lines+markers\",\"showlegend\":false,\"x\":[0.0,10.0],\"y\":[1365.101481958763,1365.101481958763],\"z\":[0.0309186248703519,0.0309186248703519],\"type\":\"scatter3d\"},{\"line\":{\"color\":\"blue\",\"width\":2},\"marker\":{\"color\":\"red\",\"size\":4},\"mode\":\"lines+markers\",\"showlegend\":false,\"x\":[0.0,10.0],\"y\":[1394.7003865979382,1394.7003865979382],\"z\":[0.0241930985561137,0.0241930985561137],\"type\":\"scatter3d\"},{\"line\":{\"color\":\"blue\",\"width\":2},\"marker\":{\"color\":\"red\",\"size\":4},\"mode\":\"lines+markers\",\"showlegend\":false,\"x\":[0.0,10.0],\"y\":[1401.8041237113405,1401.8041237113405],\"z\":[0.0214214384705583,0.0214214384705583],\"type\":\"scatter3d\"},{\"line\":{\"color\":\"blue\",\"width\":2},\"marker\":{\"color\":\"red\",\"size\":4},\"mode\":\"lines+markers\",\"showlegend\":false,\"x\":[0.0,10.0],\"y\":[1403.5800579896909,1403.5800579896909],\"z\":[0.0217234647248054,0.0217234647248054],\"type\":\"scatter3d\"},{\"line\":{\"color\":\"blue\",\"width\":2},\"marker\":{\"color\":\"red\",\"size\":4},\"mode\":\"lines+markers\",\"showlegend\":false,\"x\":[0.0,10.0],\"y\":[1409.499838917526,1409.499838917526],\"z\":[0.0230742228883016,0.0230742228883016],\"type\":\"scatter3d\"},{\"line\":{\"color\":\"blue\",\"width\":2},\"marker\":{\"color\":\"red\",\"size\":4},\"mode\":\"lines+markers\",\"showlegend\":false,\"x\":[0.0,10.0],\"y\":[1417.1955541237114,1417.1955541237114],\"z\":[0.0305377633332652,0.0305377633332652],\"type\":\"scatter3d\"},{\"line\":{\"color\":\"blue\",\"width\":2},\"marker\":{\"color\":\"red\",\"size\":4},\"mode\":\"lines+markers\",\"showlegend\":false,\"x\":[0.0,10.0],\"y\":[1431.9950064432992,1431.9950064432992],\"z\":[0.0211540412394932,0.0211540412394932],\"type\":\"scatter3d\"},{\"line\":{\"color\":\"blue\",\"width\":2},\"marker\":{\"color\":\"red\",\"size\":4},\"mode\":\"lines+markers\",\"showlegend\":false,\"x\":[0.0,10.0],\"y\":[1439.6907216494849,1439.6907216494849],\"z\":[0.0463620706821354,0.0463620706821354],\"type\":\"scatter3d\"},{\"line\":{\"color\":\"blue\",\"width\":2},\"marker\":{\"color\":\"red\",\"size\":4},\"mode\":\"lines+markers\",\"showlegend\":false,\"x\":[0.0,10.0],\"y\":[1444.4265463917527,1444.4265463917527],\"z\":[0.0477613140806005,0.0477613140806005],\"type\":\"scatter3d\"},{\"line\":{\"color\":\"blue\",\"width\":2},\"marker\":{\"color\":\"red\",\"size\":4},\"mode\":\"lines+markers\",\"showlegend\":false,\"x\":[0.0,10.0],\"y\":[1450.3463273195878,1450.3463273195878],\"z\":[0.0415367320034836,0.0415367320034836],\"type\":\"scatter3d\"},{\"line\":{\"color\":\"blue\",\"width\":2},\"marker\":{\"color\":\"red\",\"size\":4},\"mode\":\"lines+markers\",\"showlegend\":false,\"x\":[0.0,10.0],\"y\":[1457.4500644329898,1457.4500644329898],\"z\":[0.0231750830481279,0.0231750830481279],\"type\":\"scatter3d\"},{\"line\":{\"color\":\"blue\",\"width\":2},\"marker\":{\"color\":\"red\",\"size\":4},\"mode\":\"lines+markers\",\"showlegend\":false,\"x\":[0.0,10.0],\"y\":[1652.210856958763,1652.210856958763],\"z\":[0.0212377154983546,0.0212377154983546],\"type\":\"scatter3d\"},{\"line\":{\"color\":\"blue\",\"width\":2},\"marker\":{\"color\":\"red\",\"size\":4},\"mode\":\"lines+markers\",\"showlegend\":false,\"x\":[0.0,10.0],\"y\":[1654.578769329897,1654.578769329897],\"z\":[0.0210198521597425,0.0210198521597425],\"type\":\"scatter3d\"},{\"line\":{\"color\":\"blue\",\"width\":2},\"marker\":{\"color\":\"red\",\"size\":4},\"mode\":\"lines+markers\",\"showlegend\":false,\"x\":[0.0,10.0],\"y\":[1722.0642719072166,1722.0642719072166],\"z\":[0.0231556620618134,0.0231556620618134],\"type\":\"scatter3d\"},{\"line\":{\"color\":\"blue\",\"width\":2},\"marker\":{\"color\":\"red\",\"size\":4},\"mode\":\"lines+markers\",\"showlegend\":false,\"x\":[0.0,10.0],\"y\":[1730.943943298969,1730.943943298969],\"z\":[0.0365123097943192,0.0365123097943192],\"type\":\"scatter3d\"},{\"line\":{\"color\":\"blue\",\"width\":2},\"marker\":{\"color\":\"red\",\"size\":4},\"mode\":\"lines+markers\",\"showlegend\":false,\"x\":[0.0,10.0],\"y\":[1739.2316365979384,1739.2316365979384],\"z\":[0.0341257957803374,0.0341257957803374],\"type\":\"scatter3d\"},{\"line\":{\"color\":\"blue\",\"width\":2},\"marker\":{\"color\":\"red\",\"size\":4},\"mode\":\"lines+markers\",\"showlegend\":false,\"x\":[0.0,10.0],\"y\":[1745.1514175257737,1745.1514175257737],\"z\":[0.0293596447276236,0.0293596447276236],\"type\":\"scatter3d\"},{\"line\":{\"color\":\"blue\",\"width\":2},\"marker\":{\"color\":\"red\",\"size\":4},\"mode\":\"lines+markers\",\"showlegend\":false,\"x\":[0.0,10.0],\"y\":[1752.2551546391755,1752.2551546391755],\"z\":[0.0374069579664054,0.0374069579664054],\"type\":\"scatter3d\"},{\"line\":{\"color\":\"blue\",\"width\":2},\"marker\":{\"color\":\"red\",\"size\":4},\"mode\":\"lines+markers\",\"showlegend\":false,\"x\":[0.0,10.0],\"y\":[1756.39900128866,1756.39900128866],\"z\":[0.0344123160170675,0.0344123160170675],\"type\":\"scatter3d\"},{\"line\":{\"color\":\"blue\",\"width\":2},\"marker\":{\"color\":\"red\",\"size\":4},\"mode\":\"lines+markers\",\"showlegend\":false,\"x\":[0.0,10.0],\"y\":[1758.766913659794,1758.766913659794],\"z\":[0.0344826886974882,0.0344826886974882],\"type\":\"scatter3d\"},{\"line\":{\"color\":\"blue\",\"width\":2},\"marker\":{\"color\":\"red\",\"size\":4},\"mode\":\"lines+markers\",\"showlegend\":false,\"x\":[0.0,10.0],\"y\":[1764.686694587629,1764.686694587629],\"z\":[0.0375431840778496,0.0375431840778496],\"type\":\"scatter3d\"},{\"line\":{\"color\":\"blue\",\"width\":2},\"marker\":{\"color\":\"red\",\"size\":4},\"mode\":\"lines+markers\",\"showlegend\":false,\"x\":[0.0,10.0],\"y\":[1771.1984536082475,1771.1984536082475],\"z\":[0.0420418010332756,0.0420418010332756],\"type\":\"scatter3d\"},{\"line\":{\"color\":\"blue\",\"width\":2},\"marker\":{\"color\":\"red\",\"size\":4},\"mode\":\"lines+markers\",\"showlegend\":false,\"x\":[0.0,10.0],\"y\":[1778.3021907216496,1778.3021907216496],\"z\":[0.0365378381065021,0.0365378381065021],\"type\":\"scatter3d\"},{\"line\":{\"color\":\"blue\",\"width\":2},\"marker\":{\"color\":\"red\",\"size\":4},\"mode\":\"lines+markers\",\"showlegend\":false,\"x\":[0.0,10.0],\"y\":[1781.2620811855672,1781.2620811855672],\"z\":[0.0358693144446591,0.0358693144446591],\"type\":\"scatter3d\"},{\"line\":{\"color\":\"blue\",\"width\":2},\"marker\":{\"color\":\"red\",\"size\":4},\"mode\":\"lines+markers\",\"showlegend\":false,\"x\":[0.0,10.0],\"y\":[1783.0380154639176,1783.0380154639176],\"z\":[0.0358468178501203,0.0358468178501203],\"type\":\"scatter3d\"},{\"line\":{\"color\":\"blue\",\"width\":2},\"marker\":{\"color\":\"red\",\"size\":4},\"mode\":\"lines+markers\",\"showlegend\":false,\"x\":[0.0,10.0],\"y\":[1791.9176868556704,1791.9176868556704],\"z\":[0.0315679024710143,0.0315679024710143],\"type\":\"scatter3d\"},{\"line\":{\"color\":\"blue\",\"width\":2},\"marker\":{\"color\":\"red\",\"size\":4},\"mode\":\"lines+markers\",\"showlegend\":false,\"x\":[0.0,10.0],\"y\":[1797.2454896907218,1797.2454896907218],\"z\":[0.0284940719413278,0.0284940719413278],\"type\":\"scatter3d\"},{\"line\":{\"color\":\"blue\",\"width\":2},\"marker\":{\"color\":\"red\",\"size\":4},\"mode\":\"lines+markers\",\"showlegend\":false,\"x\":[0.0,10.0],\"y\":[1802.5732925257728,1802.5732925257728],\"z\":[0.024891571814342,0.024891571814342],\"type\":\"scatter3d\"},{\"line\":{\"color\":\"blue\",\"width\":2},\"marker\":{\"color\":\"red\",\"size\":4},\"mode\":\"lines+markers\",\"showlegend\":false,\"x\":[0.0,10.0],\"y\":[1809.085051546392,1809.085051546392],\"z\":[0.0253372433779604,0.0253372433779604],\"type\":\"scatter3d\"},{\"line\":{\"color\":\"blue\",\"width\":2},\"marker\":{\"color\":\"red\",\"size\":4},\"mode\":\"lines+markers\",\"showlegend\":false,\"x\":[0.0,10.0],\"y\":[1816.7807667525776,1816.7807667525776],\"z\":[0.0295461119666006,0.0295461119666006],\"type\":\"scatter3d\"},{\"line\":{\"color\":\"blue\",\"width\":2},\"marker\":{\"color\":\"red\",\"size\":4},\"mode\":\"lines+markers\",\"showlegend\":false,\"x\":[0.0,10.0],\"y\":[1820.924613402062,1820.924613402062],\"z\":[0.0245845592062201,0.0245845592062201],\"type\":\"scatter3d\"},{\"line\":{\"color\":\"blue\",\"width\":2},\"marker\":{\"color\":\"red\",\"size\":4},\"mode\":\"lines+markers\",\"showlegend\":false,\"x\":[0.0,10.0],\"y\":[1822.7005476804125,1822.7005476804125],\"z\":[0.0245284378225488,0.0245284378225488],\"type\":\"scatter3d\"},{\"line\":{\"color\":\"blue\",\"width\":2},\"marker\":{\"color\":\"red\",\"size\":4},\"mode\":\"lines+markers\",\"showlegend\":false,\"x\":[0.0,10.0],\"y\":[1826.2524162371133,1826.2524162371133],\"z\":[0.0246939943923326,0.0246939943923326],\"type\":\"scatter3d\"},{\"line\":{\"color\":\"blue\",\"width\":2},\"marker\":{\"color\":\"red\",\"size\":4},\"mode\":\"lines+markers\",\"showlegend\":false,\"x\":[0.0,10.0],\"y\":[1926.8886920103096,1926.8886920103096],\"z\":[0.0227351305961041,0.0227351305961041],\"type\":\"scatter3d\"},{\"line\":{\"color\":\"blue\",\"width\":2},\"marker\":{\"color\":\"red\",\"size\":4},\"mode\":\"lines+markers\",\"showlegend\":false,\"x\":[0.0,10.0],\"y\":[1930.4405605670104,1930.4405605670104],\"z\":[0.0224091814930836,0.0224091814930836],\"type\":\"scatter3d\"},{\"line\":{\"color\":\"blue\",\"width\":2},\"marker\":{\"color\":\"red\",\"size\":4},\"mode\":\"lines+markers\",\"showlegend\":false,\"x\":[0.0,10.0],\"y\":[1972.47100515464,1972.47100515464],\"z\":[0.0206555761870251,0.0206555761870251],\"type\":\"scatter3d\"},{\"line\":{\"color\":\"blue\",\"width\":2},\"marker\":{\"color\":\"red\",\"size\":4},\"mode\":\"lines+markers\",\"showlegend\":false,\"x\":[0.0,10.0],\"y\":[1976.0228737113405,1976.0228737113405],\"z\":[0.0216512509662178,0.0216512509662178],\"type\":\"scatter3d\"},{\"line\":{\"color\":\"blue\",\"width\":2},\"marker\":{\"color\":\"red\",\"size\":4},\"mode\":\"lines+markers\",\"showlegend\":false,\"x\":[0.0,10.0],\"y\":[1981.9426546391755,1981.9426546391755],\"z\":[0.0254584019352295,0.0254584019352295],\"type\":\"scatter3d\"}],                        {\"template\":{\"data\":{\"barpolar\":[{\"marker\":{\"line\":{\"color\":\"white\",\"width\":0.5},\"pattern\":{\"fillmode\":\"overlay\",\"size\":10,\"solidity\":0.2}},\"type\":\"barpolar\"}],\"bar\":[{\"error_x\":{\"color\":\"#2a3f5f\"},\"error_y\":{\"color\":\"#2a3f5f\"},\"marker\":{\"line\":{\"color\":\"white\",\"width\":0.5},\"pattern\":{\"fillmode\":\"overlay\",\"size\":10,\"solidity\":0.2}},\"type\":\"bar\"}],\"carpet\":[{\"aaxis\":{\"endlinecolor\":\"#2a3f5f\",\"gridcolor\":\"#C8D4E3\",\"linecolor\":\"#C8D4E3\",\"minorgridcolor\":\"#C8D4E3\",\"startlinecolor\":\"#2a3f5f\"},\"baxis\":{\"endlinecolor\":\"#2a3f5f\",\"gridcolor\":\"#C8D4E3\",\"linecolor\":\"#C8D4E3\",\"minorgridcolor\":\"#C8D4E3\",\"startlinecolor\":\"#2a3f5f\"},\"type\":\"carpet\"}],\"choropleth\":[{\"colorbar\":{\"outlinewidth\":0,\"ticks\":\"\"},\"type\":\"choropleth\"}],\"contourcarpet\":[{\"colorbar\":{\"outlinewidth\":0,\"ticks\":\"\"},\"type\":\"contourcarpet\"}],\"contour\":[{\"colorbar\":{\"outlinewidth\":0,\"ticks\":\"\"},\"colorscale\":[[0.0,\"#0d0887\"],[0.1111111111111111,\"#46039f\"],[0.2222222222222222,\"#7201a8\"],[0.3333333333333333,\"#9c179e\"],[0.4444444444444444,\"#bd3786\"],[0.5555555555555556,\"#d8576b\"],[0.6666666666666666,\"#ed7953\"],[0.7777777777777778,\"#fb9f3a\"],[0.8888888888888888,\"#fdca26\"],[1.0,\"#f0f921\"]],\"type\":\"contour\"}],\"heatmapgl\":[{\"colorbar\":{\"outlinewidth\":0,\"ticks\":\"\"},\"colorscale\":[[0.0,\"#0d0887\"],[0.1111111111111111,\"#46039f\"],[0.2222222222222222,\"#7201a8\"],[0.3333333333333333,\"#9c179e\"],[0.4444444444444444,\"#bd3786\"],[0.5555555555555556,\"#d8576b\"],[0.6666666666666666,\"#ed7953\"],[0.7777777777777778,\"#fb9f3a\"],[0.8888888888888888,\"#fdca26\"],[1.0,\"#f0f921\"]],\"type\":\"heatmapgl\"}],\"heatmap\":[{\"colorbar\":{\"outlinewidth\":0,\"ticks\":\"\"},\"colorscale\":[[0.0,\"#0d0887\"],[0.1111111111111111,\"#46039f\"],[0.2222222222222222,\"#7201a8\"],[0.3333333333333333,\"#9c179e\"],[0.4444444444444444,\"#bd3786\"],[0.5555555555555556,\"#d8576b\"],[0.6666666666666666,\"#ed7953\"],[0.7777777777777778,\"#fb9f3a\"],[0.8888888888888888,\"#fdca26\"],[1.0,\"#f0f921\"]],\"type\":\"heatmap\"}],\"histogram2dcontour\":[{\"colorbar\":{\"outlinewidth\":0,\"ticks\":\"\"},\"colorscale\":[[0.0,\"#0d0887\"],[0.1111111111111111,\"#46039f\"],[0.2222222222222222,\"#7201a8\"],[0.3333333333333333,\"#9c179e\"],[0.4444444444444444,\"#bd3786\"],[0.5555555555555556,\"#d8576b\"],[0.6666666666666666,\"#ed7953\"],[0.7777777777777778,\"#fb9f3a\"],[0.8888888888888888,\"#fdca26\"],[1.0,\"#f0f921\"]],\"type\":\"histogram2dcontour\"}],\"histogram2d\":[{\"colorbar\":{\"outlinewidth\":0,\"ticks\":\"\"},\"colorscale\":[[0.0,\"#0d0887\"],[0.1111111111111111,\"#46039f\"],[0.2222222222222222,\"#7201a8\"],[0.3333333333333333,\"#9c179e\"],[0.4444444444444444,\"#bd3786\"],[0.5555555555555556,\"#d8576b\"],[0.6666666666666666,\"#ed7953\"],[0.7777777777777778,\"#fb9f3a\"],[0.8888888888888888,\"#fdca26\"],[1.0,\"#f0f921\"]],\"type\":\"histogram2d\"}],\"histogram\":[{\"marker\":{\"pattern\":{\"fillmode\":\"overlay\",\"size\":10,\"solidity\":0.2}},\"type\":\"histogram\"}],\"mesh3d\":[{\"colorbar\":{\"outlinewidth\":0,\"ticks\":\"\"},\"type\":\"mesh3d\"}],\"parcoords\":[{\"line\":{\"colorbar\":{\"outlinewidth\":0,\"ticks\":\"\"}},\"type\":\"parcoords\"}],\"pie\":[{\"automargin\":true,\"type\":\"pie\"}],\"scatter3d\":[{\"line\":{\"colorbar\":{\"outlinewidth\":0,\"ticks\":\"\"}},\"marker\":{\"colorbar\":{\"outlinewidth\":0,\"ticks\":\"\"}},\"type\":\"scatter3d\"}],\"scattercarpet\":[{\"marker\":{\"colorbar\":{\"outlinewidth\":0,\"ticks\":\"\"}},\"type\":\"scattercarpet\"}],\"scattergeo\":[{\"marker\":{\"colorbar\":{\"outlinewidth\":0,\"ticks\":\"\"}},\"type\":\"scattergeo\"}],\"scattergl\":[{\"marker\":{\"colorbar\":{\"outlinewidth\":0,\"ticks\":\"\"}},\"type\":\"scattergl\"}],\"scattermapbox\":[{\"marker\":{\"colorbar\":{\"outlinewidth\":0,\"ticks\":\"\"}},\"type\":\"scattermapbox\"}],\"scatterpolargl\":[{\"marker\":{\"colorbar\":{\"outlinewidth\":0,\"ticks\":\"\"}},\"type\":\"scatterpolargl\"}],\"scatterpolar\":[{\"marker\":{\"colorbar\":{\"outlinewidth\":0,\"ticks\":\"\"}},\"type\":\"scatterpolar\"}],\"scatter\":[{\"fillpattern\":{\"fillmode\":\"overlay\",\"size\":10,\"solidity\":0.2},\"type\":\"scatter\"}],\"scatterternary\":[{\"marker\":{\"colorbar\":{\"outlinewidth\":0,\"ticks\":\"\"}},\"type\":\"scatterternary\"}],\"surface\":[{\"colorbar\":{\"outlinewidth\":0,\"ticks\":\"\"},\"colorscale\":[[0.0,\"#0d0887\"],[0.1111111111111111,\"#46039f\"],[0.2222222222222222,\"#7201a8\"],[0.3333333333333333,\"#9c179e\"],[0.4444444444444444,\"#bd3786\"],[0.5555555555555556,\"#d8576b\"],[0.6666666666666666,\"#ed7953\"],[0.7777777777777778,\"#fb9f3a\"],[0.8888888888888888,\"#fdca26\"],[1.0,\"#f0f921\"]],\"type\":\"surface\"}],\"table\":[{\"cells\":{\"fill\":{\"color\":\"#EBF0F8\"},\"line\":{\"color\":\"white\"}},\"header\":{\"fill\":{\"color\":\"#C8D4E3\"},\"line\":{\"color\":\"white\"}},\"type\":\"table\"}]},\"layout\":{\"annotationdefaults\":{\"arrowcolor\":\"#2a3f5f\",\"arrowhead\":0,\"arrowwidth\":1},\"autotypenumbers\":\"strict\",\"coloraxis\":{\"colorbar\":{\"outlinewidth\":0,\"ticks\":\"\"}},\"colorscale\":{\"diverging\":[[0,\"#8e0152\"],[0.1,\"#c51b7d\"],[0.2,\"#de77ae\"],[0.3,\"#f1b6da\"],[0.4,\"#fde0ef\"],[0.5,\"#f7f7f7\"],[0.6,\"#e6f5d0\"],[0.7,\"#b8e186\"],[0.8,\"#7fbc41\"],[0.9,\"#4d9221\"],[1,\"#276419\"]],\"sequential\":[[0.0,\"#0d0887\"],[0.1111111111111111,\"#46039f\"],[0.2222222222222222,\"#7201a8\"],[0.3333333333333333,\"#9c179e\"],[0.4444444444444444,\"#bd3786\"],[0.5555555555555556,\"#d8576b\"],[0.6666666666666666,\"#ed7953\"],[0.7777777777777778,\"#fb9f3a\"],[0.8888888888888888,\"#fdca26\"],[1.0,\"#f0f921\"]],\"sequentialminus\":[[0.0,\"#0d0887\"],[0.1111111111111111,\"#46039f\"],[0.2222222222222222,\"#7201a8\"],[0.3333333333333333,\"#9c179e\"],[0.4444444444444444,\"#bd3786\"],[0.5555555555555556,\"#d8576b\"],[0.6666666666666666,\"#ed7953\"],[0.7777777777777778,\"#fb9f3a\"],[0.8888888888888888,\"#fdca26\"],[1.0,\"#f0f921\"]]},\"colorway\":[\"#636efa\",\"#EF553B\",\"#00cc96\",\"#ab63fa\",\"#FFA15A\",\"#19d3f3\",\"#FF6692\",\"#B6E880\",\"#FF97FF\",\"#FECB52\"],\"font\":{\"color\":\"#2a3f5f\"},\"geo\":{\"bgcolor\":\"white\",\"lakecolor\":\"white\",\"landcolor\":\"white\",\"showlakes\":true,\"showland\":true,\"subunitcolor\":\"#C8D4E3\"},\"hoverlabel\":{\"align\":\"left\"},\"hovermode\":\"closest\",\"mapbox\":{\"style\":\"light\"},\"paper_bgcolor\":\"white\",\"plot_bgcolor\":\"white\",\"polar\":{\"angularaxis\":{\"gridcolor\":\"#EBF0F8\",\"linecolor\":\"#EBF0F8\",\"ticks\":\"\"},\"bgcolor\":\"white\",\"radialaxis\":{\"gridcolor\":\"#EBF0F8\",\"linecolor\":\"#EBF0F8\",\"ticks\":\"\"}},\"scene\":{\"xaxis\":{\"backgroundcolor\":\"white\",\"gridcolor\":\"#DFE8F3\",\"gridwidth\":2,\"linecolor\":\"#EBF0F8\",\"showbackground\":true,\"ticks\":\"\",\"zerolinecolor\":\"#EBF0F8\"},\"yaxis\":{\"backgroundcolor\":\"white\",\"gridcolor\":\"#DFE8F3\",\"gridwidth\":2,\"linecolor\":\"#EBF0F8\",\"showbackground\":true,\"ticks\":\"\",\"zerolinecolor\":\"#EBF0F8\"},\"zaxis\":{\"backgroundcolor\":\"white\",\"gridcolor\":\"#DFE8F3\",\"gridwidth\":2,\"linecolor\":\"#EBF0F8\",\"showbackground\":true,\"ticks\":\"\",\"zerolinecolor\":\"#EBF0F8\"}},\"shapedefaults\":{\"line\":{\"color\":\"#2a3f5f\"}},\"ternary\":{\"aaxis\":{\"gridcolor\":\"#DFE8F3\",\"linecolor\":\"#A2B1C6\",\"ticks\":\"\"},\"baxis\":{\"gridcolor\":\"#DFE8F3\",\"linecolor\":\"#A2B1C6\",\"ticks\":\"\"},\"bgcolor\":\"white\",\"caxis\":{\"gridcolor\":\"#DFE8F3\",\"linecolor\":\"#A2B1C6\",\"ticks\":\"\"}},\"title\":{\"x\":0.05},\"xaxis\":{\"automargin\":true,\"gridcolor\":\"#EBF0F8\",\"linecolor\":\"#EBF0F8\",\"ticks\":\"\",\"title\":{\"standoff\":15},\"zerolinecolor\":\"#EBF0F8\",\"zerolinewidth\":2},\"yaxis\":{\"automargin\":true,\"gridcolor\":\"#EBF0F8\",\"linecolor\":\"#EBF0F8\",\"ticks\":\"\",\"title\":{\"standoff\":15},\"zerolinecolor\":\"#EBF0F8\",\"zerolinewidth\":2}}},\"title\":{\"text\":\"Time vs Frequency vs Amplitude for Each Event (3D)\"},\"scene\":{\"xaxis\":{\"title\":{\"text\":\"Time (s)\"}},\"yaxis\":{\"title\":{\"text\":\"Frequency\"}},\"zaxis\":{\"title\":{\"text\":\"Amplitude\"}}},\"showlegend\":false,\"width\":900,\"height\":1200},                        {\"responsive\": true}                    ).then(function(){\n",
       "                            \n",
       "var gd = document.getElementById('e7dd5877-a8dd-4d32-9eda-1a0005e07f17');\n",
       "var x = new MutationObserver(function (mutations, observer) {{\n",
       "        var display = window.getComputedStyle(gd).display;\n",
       "        if (!display || display === 'none') {{\n",
       "            console.log([gd, 'removed!']);\n",
       "            Plotly.purge(gd);\n",
       "            observer.disconnect();\n",
       "        }}\n",
       "}});\n",
       "\n",
       "// Listen for the removal of the full notebook cells\n",
       "var notebookContainer = gd.closest('#notebook-container');\n",
       "if (notebookContainer) {{\n",
       "    x.observe(notebookContainer, {childList: true});\n",
       "}}\n",
       "\n",
       "// Listen for the clearing of the current output cell\n",
       "var outputEl = gd.closest('.output');\n",
       "if (outputEl) {{\n",
       "    x.observe(outputEl, {childList: true});\n",
       "}}\n",
       "\n",
       "                        })                };                });            </script>        </div>"
      ]
     },
     "metadata": {},
     "output_type": "display_data"
    }
   ],
   "source": [
    "import pandas as pd\n",
    "import plotly.graph_objects as go\n",
    "\n",
    "# Load data from TSV\n",
    "df = pd.read_csv('testdf.tsv', delimiter='\\t')\n",
    "\n",
    "# Create a blank figure for 2D plot\n",
    "fig_2d = go.Figure()\n",
    "\n",
    "# Create a blank figure for 3D plot\n",
    "fig_3d = go.Figure()\n",
    "\n",
    "# Plot each line segment for each event on 2D plot\n",
    "for index, row in df.iterrows():\n",
    "    fig_2d.add_trace(go.Scatter(x=[row['time_start'], row['time_stop']],\n",
    "                                y=[row['freq_start'], row['freq_stop']],\n",
    "                                mode='lines+markers',\n",
    "                                line=dict(width=2, color='blue'),\n",
    "                                showlegend=False))\n",
    "\n",
    "# Plot each line segment for each event on 3D plot (unique traces for each)\n",
    "for index, row in df.iterrows():\n",
    "    fig_3d.add_trace(go.Scatter3d(x=[row['time_start'], row['time_stop']],\n",
    "                                  y=[row['freq_start'], row['freq_stop']],\n",
    "                                  z=[row['amp_min'], row['amp_max']],\n",
    "                                  mode='lines+markers',\n",
    "                                  line=dict(width=2, color='blue'),\n",
    "                                  marker=dict(size=4, color='red'),\n",
    "                                  showlegend=False))\n",
    "\n",
    "# Update layout for 2D plot\n",
    "fig_2d.update_layout(\n",
    "    title='Time vs Frequency for Each Event (2D)',\n",
    "    xaxis_title='Time (s)',\n",
    "    yaxis_title='Frequency',\n",
    "    template='plotly_white',\n",
    "    showlegend=False,\n",
    "    width=900,\n",
    "    height=1200\n",
    ")\n",
    "\n",
    "# Update layout for 3D plot\n",
    "fig_3d.update_layout(\n",
    "    title='Time vs Frequency vs Amplitude for Each Event (3D)',\n",
    "    scene=dict(\n",
    "        xaxis_title='Time (s)',\n",
    "        yaxis_title='Frequency',\n",
    "        zaxis_title='Amplitude',\n",
    "    ),\n",
    "    template='plotly_white',\n",
    "    showlegend=False,\n",
    "    width=900,\n",
    "    height=1200\n",
    ")\n",
    "\n",
    "# Show figures\n",
    "fig_2d.show()\n",
    "fig_3d.show()\n"
   ]
  },
  {
   "cell_type": "code",
   "execution_count": null,
   "id": "4a1cb34e-2c81-4346-b828-769fcb846e93",
   "metadata": {},
   "outputs": [],
   "source": []
  }
 ],
 "metadata": {
  "kernelspec": {
   "display_name": "Python 3 (ipykernel)",
   "language": "python",
   "name": "python3"
  },
  "language_info": {
   "codemirror_mode": {
    "name": "ipython",
    "version": 3
   },
   "file_extension": ".py",
   "mimetype": "text/x-python",
   "name": "python",
   "nbconvert_exporter": "python",
   "pygments_lexer": "ipython3",
   "version": "3.11.4"
  }
 },
 "nbformat": 4,
 "nbformat_minor": 5
}
