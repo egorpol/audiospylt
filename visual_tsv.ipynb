{
 "cells": [
  {
   "cell_type": "markdown",
   "id": "2fa526d2-a29d-4a43-a85d-24c623813654",
   "metadata": {},
   "source": [
    "2D visualization for tsv data without time domain"
   ]
  },
  {
   "cell_type": "code",
   "execution_count": 1,
   "id": "23cd3945-de12-4e0a-8edb-61310e7b4479",
   "metadata": {},
   "outputs": [
    {
     "data": {
      "application/vnd.plotly.v1+json": {
       "config": {
        "plotlyServerURL": "https://plot.ly"
       },
       "data": [
        {
         "line": {
          "color": "#1f77b4"
         },
         "marker": {
          "color": "#1f77b4"
         },
         "mode": "markers",
         "name": "tsv/speech1.tsv",
         "type": "scatter",
         "x": {
          "bdata": "ew3lNZRXWEAN5TWU11BaQBzKayivoVtAew3lNZRXaEBEeQ3lNVRpQA7lNZTXUGpAlNdQXkP5akBfQ3kN5fVrQOU1lNdQnmxAG8prKK9BckAAAAAAAMByQOU1lNdQPnNAKa+hvIaSc0AO5TWU1xB0QPMaymsoj3RANpTXUF7jdEB7DeU1lDd1QL2G8hrKi3VA5jWU11B+eUDLayivofx5QFFeQ3kNpXpANpTXUF4je0B7DeU1lHd7QJXXUF5DCYBANpTXUF4zgEB6DeU1lIeAQL2G8hrK24BAsKG8hvJ+oUC8hvIayqOhQHoN5TWUs6FAX0N5DeXNoUDlNZTXUBKiQDaU11BeJ6JA8xrKayg3okDZUF5DeVGiQFFeQ3kNcaJA8xrKayibokBEeQ3lNbCiQG0or6G8uqJAlddQXkMRp0Apr6G8ht6nQA==",
          "dtype": "f8"
         },
         "y": {
          "bdata": "7jyWT1KdTz/ygqgFlJ12P19ZBSTq2GM/P4yXDDghVj86xjNvj9BsP7Xnd2VEWH4/eyd3G25kdj91tNkTnkp0PxUN2vvCwWk/FNatRF6qVD9KF/kNkjdrP9llPSHycX0/iMi9F1v5fj/QSaH4cgN9PxKZvSfkWnc/UjovdFp9bD+E6sdXVv9jP29jlLA7AWA/uw2MgpMDVD+oEK4PMR9cP3+WxJa2C1g/HcFhG9lFXj/KKZ2jkHdWP3ZLWZH66Ug/VH4/tF+TRD/cO3mu2NZCP2rjn+mdr0M/7gUMDVggQT/50Nv0HRNFP1C4K7btcEQ/W457ffakRz+5VADsksNHP9MpJbKdlko/lSxzowCUUT/qcXOipaBIP9DABZZ73FE/mGMAfZ5UST8pLJf6vyRFP/RtymDuM00/cgxUWNQcQT+pGT5wPiBCPw==",
          "dtype": "f8"
         }
        },
        {
         "line": {
          "color": "#ff7f0e"
         },
         "marker": {
          "color": "#ff7f0e"
         },
         "mode": "markers",
         "name": "tsv/conga3.tsv",
         "type": "scatter",
         "x": {
          "bdata": "AAAAAABAP0AAAAAAAMBSQAAAAAAA4F9AAAAAAADYbUAAAAAAABR0QAAAAAAAnHhAAAAAAADseEAAAAAAADaAQAAAAAAAEoFAAAAAAADAgkA=",
          "dtype": "f8"
         },
         "y": {
          "bdata": "Q6gbZfqiQj+vfm6fJoVMP0xKnETXtEE/ptUS05AuaT9yThuRojhkP3xTnPgYWEw/WcSdHfhETj9i1SoFNNBLP5Ehnrqsk0I/0WeW5FF+XD8=",
          "dtype": "f8"
         }
        }
       ],
       "layout": {
        "height": 700,
        "legend": {
         "title": {
          "text": "Sources"
         }
        },
        "template": {
         "data": {
          "bar": [
           {
            "error_x": {
             "color": "#2a3f5f"
            },
            "error_y": {
             "color": "#2a3f5f"
            },
            "marker": {
             "line": {
              "color": "white",
              "width": 0.5
             },
             "pattern": {
              "fillmode": "overlay",
              "size": 10,
              "solidity": 0.2
             }
            },
            "type": "bar"
           }
          ],
          "barpolar": [
           {
            "marker": {
             "line": {
              "color": "white",
              "width": 0.5
             },
             "pattern": {
              "fillmode": "overlay",
              "size": 10,
              "solidity": 0.2
             }
            },
            "type": "barpolar"
           }
          ],
          "carpet": [
           {
            "aaxis": {
             "endlinecolor": "#2a3f5f",
             "gridcolor": "#C8D4E3",
             "linecolor": "#C8D4E3",
             "minorgridcolor": "#C8D4E3",
             "startlinecolor": "#2a3f5f"
            },
            "baxis": {
             "endlinecolor": "#2a3f5f",
             "gridcolor": "#C8D4E3",
             "linecolor": "#C8D4E3",
             "minorgridcolor": "#C8D4E3",
             "startlinecolor": "#2a3f5f"
            },
            "type": "carpet"
           }
          ],
          "choropleth": [
           {
            "colorbar": {
             "outlinewidth": 0,
             "ticks": ""
            },
            "type": "choropleth"
           }
          ],
          "contour": [
           {
            "colorbar": {
             "outlinewidth": 0,
             "ticks": ""
            },
            "colorscale": [
             [
              0,
              "#0d0887"
             ],
             [
              0.1111111111111111,
              "#46039f"
             ],
             [
              0.2222222222222222,
              "#7201a8"
             ],
             [
              0.3333333333333333,
              "#9c179e"
             ],
             [
              0.4444444444444444,
              "#bd3786"
             ],
             [
              0.5555555555555556,
              "#d8576b"
             ],
             [
              0.6666666666666666,
              "#ed7953"
             ],
             [
              0.7777777777777778,
              "#fb9f3a"
             ],
             [
              0.8888888888888888,
              "#fdca26"
             ],
             [
              1,
              "#f0f921"
             ]
            ],
            "type": "contour"
           }
          ],
          "contourcarpet": [
           {
            "colorbar": {
             "outlinewidth": 0,
             "ticks": ""
            },
            "type": "contourcarpet"
           }
          ],
          "heatmap": [
           {
            "colorbar": {
             "outlinewidth": 0,
             "ticks": ""
            },
            "colorscale": [
             [
              0,
              "#0d0887"
             ],
             [
              0.1111111111111111,
              "#46039f"
             ],
             [
              0.2222222222222222,
              "#7201a8"
             ],
             [
              0.3333333333333333,
              "#9c179e"
             ],
             [
              0.4444444444444444,
              "#bd3786"
             ],
             [
              0.5555555555555556,
              "#d8576b"
             ],
             [
              0.6666666666666666,
              "#ed7953"
             ],
             [
              0.7777777777777778,
              "#fb9f3a"
             ],
             [
              0.8888888888888888,
              "#fdca26"
             ],
             [
              1,
              "#f0f921"
             ]
            ],
            "type": "heatmap"
           }
          ],
          "histogram": [
           {
            "marker": {
             "pattern": {
              "fillmode": "overlay",
              "size": 10,
              "solidity": 0.2
             }
            },
            "type": "histogram"
           }
          ],
          "histogram2d": [
           {
            "colorbar": {
             "outlinewidth": 0,
             "ticks": ""
            },
            "colorscale": [
             [
              0,
              "#0d0887"
             ],
             [
              0.1111111111111111,
              "#46039f"
             ],
             [
              0.2222222222222222,
              "#7201a8"
             ],
             [
              0.3333333333333333,
              "#9c179e"
             ],
             [
              0.4444444444444444,
              "#bd3786"
             ],
             [
              0.5555555555555556,
              "#d8576b"
             ],
             [
              0.6666666666666666,
              "#ed7953"
             ],
             [
              0.7777777777777778,
              "#fb9f3a"
             ],
             [
              0.8888888888888888,
              "#fdca26"
             ],
             [
              1,
              "#f0f921"
             ]
            ],
            "type": "histogram2d"
           }
          ],
          "histogram2dcontour": [
           {
            "colorbar": {
             "outlinewidth": 0,
             "ticks": ""
            },
            "colorscale": [
             [
              0,
              "#0d0887"
             ],
             [
              0.1111111111111111,
              "#46039f"
             ],
             [
              0.2222222222222222,
              "#7201a8"
             ],
             [
              0.3333333333333333,
              "#9c179e"
             ],
             [
              0.4444444444444444,
              "#bd3786"
             ],
             [
              0.5555555555555556,
              "#d8576b"
             ],
             [
              0.6666666666666666,
              "#ed7953"
             ],
             [
              0.7777777777777778,
              "#fb9f3a"
             ],
             [
              0.8888888888888888,
              "#fdca26"
             ],
             [
              1,
              "#f0f921"
             ]
            ],
            "type": "histogram2dcontour"
           }
          ],
          "mesh3d": [
           {
            "colorbar": {
             "outlinewidth": 0,
             "ticks": ""
            },
            "type": "mesh3d"
           }
          ],
          "parcoords": [
           {
            "line": {
             "colorbar": {
              "outlinewidth": 0,
              "ticks": ""
             }
            },
            "type": "parcoords"
           }
          ],
          "pie": [
           {
            "automargin": true,
            "type": "pie"
           }
          ],
          "scatter": [
           {
            "fillpattern": {
             "fillmode": "overlay",
             "size": 10,
             "solidity": 0.2
            },
            "type": "scatter"
           }
          ],
          "scatter3d": [
           {
            "line": {
             "colorbar": {
              "outlinewidth": 0,
              "ticks": ""
             }
            },
            "marker": {
             "colorbar": {
              "outlinewidth": 0,
              "ticks": ""
             }
            },
            "type": "scatter3d"
           }
          ],
          "scattercarpet": [
           {
            "marker": {
             "colorbar": {
              "outlinewidth": 0,
              "ticks": ""
             }
            },
            "type": "scattercarpet"
           }
          ],
          "scattergeo": [
           {
            "marker": {
             "colorbar": {
              "outlinewidth": 0,
              "ticks": ""
             }
            },
            "type": "scattergeo"
           }
          ],
          "scattergl": [
           {
            "marker": {
             "colorbar": {
              "outlinewidth": 0,
              "ticks": ""
             }
            },
            "type": "scattergl"
           }
          ],
          "scattermap": [
           {
            "marker": {
             "colorbar": {
              "outlinewidth": 0,
              "ticks": ""
             }
            },
            "type": "scattermap"
           }
          ],
          "scattermapbox": [
           {
            "marker": {
             "colorbar": {
              "outlinewidth": 0,
              "ticks": ""
             }
            },
            "type": "scattermapbox"
           }
          ],
          "scatterpolar": [
           {
            "marker": {
             "colorbar": {
              "outlinewidth": 0,
              "ticks": ""
             }
            },
            "type": "scatterpolar"
           }
          ],
          "scatterpolargl": [
           {
            "marker": {
             "colorbar": {
              "outlinewidth": 0,
              "ticks": ""
             }
            },
            "type": "scatterpolargl"
           }
          ],
          "scatterternary": [
           {
            "marker": {
             "colorbar": {
              "outlinewidth": 0,
              "ticks": ""
             }
            },
            "type": "scatterternary"
           }
          ],
          "surface": [
           {
            "colorbar": {
             "outlinewidth": 0,
             "ticks": ""
            },
            "colorscale": [
             [
              0,
              "#0d0887"
             ],
             [
              0.1111111111111111,
              "#46039f"
             ],
             [
              0.2222222222222222,
              "#7201a8"
             ],
             [
              0.3333333333333333,
              "#9c179e"
             ],
             [
              0.4444444444444444,
              "#bd3786"
             ],
             [
              0.5555555555555556,
              "#d8576b"
             ],
             [
              0.6666666666666666,
              "#ed7953"
             ],
             [
              0.7777777777777778,
              "#fb9f3a"
             ],
             [
              0.8888888888888888,
              "#fdca26"
             ],
             [
              1,
              "#f0f921"
             ]
            ],
            "type": "surface"
           }
          ],
          "table": [
           {
            "cells": {
             "fill": {
              "color": "#EBF0F8"
             },
             "line": {
              "color": "white"
             }
            },
            "header": {
             "fill": {
              "color": "#C8D4E3"
             },
             "line": {
              "color": "white"
             }
            },
            "type": "table"
           }
          ]
         },
         "layout": {
          "annotationdefaults": {
           "arrowcolor": "#2a3f5f",
           "arrowhead": 0,
           "arrowwidth": 1
          },
          "autotypenumbers": "strict",
          "coloraxis": {
           "colorbar": {
            "outlinewidth": 0,
            "ticks": ""
           }
          },
          "colorscale": {
           "diverging": [
            [
             0,
             "#8e0152"
            ],
            [
             0.1,
             "#c51b7d"
            ],
            [
             0.2,
             "#de77ae"
            ],
            [
             0.3,
             "#f1b6da"
            ],
            [
             0.4,
             "#fde0ef"
            ],
            [
             0.5,
             "#f7f7f7"
            ],
            [
             0.6,
             "#e6f5d0"
            ],
            [
             0.7,
             "#b8e186"
            ],
            [
             0.8,
             "#7fbc41"
            ],
            [
             0.9,
             "#4d9221"
            ],
            [
             1,
             "#276419"
            ]
           ],
           "sequential": [
            [
             0,
             "#0d0887"
            ],
            [
             0.1111111111111111,
             "#46039f"
            ],
            [
             0.2222222222222222,
             "#7201a8"
            ],
            [
             0.3333333333333333,
             "#9c179e"
            ],
            [
             0.4444444444444444,
             "#bd3786"
            ],
            [
             0.5555555555555556,
             "#d8576b"
            ],
            [
             0.6666666666666666,
             "#ed7953"
            ],
            [
             0.7777777777777778,
             "#fb9f3a"
            ],
            [
             0.8888888888888888,
             "#fdca26"
            ],
            [
             1,
             "#f0f921"
            ]
           ],
           "sequentialminus": [
            [
             0,
             "#0d0887"
            ],
            [
             0.1111111111111111,
             "#46039f"
            ],
            [
             0.2222222222222222,
             "#7201a8"
            ],
            [
             0.3333333333333333,
             "#9c179e"
            ],
            [
             0.4444444444444444,
             "#bd3786"
            ],
            [
             0.5555555555555556,
             "#d8576b"
            ],
            [
             0.6666666666666666,
             "#ed7953"
            ],
            [
             0.7777777777777778,
             "#fb9f3a"
            ],
            [
             0.8888888888888888,
             "#fdca26"
            ],
            [
             1,
             "#f0f921"
            ]
           ]
          },
          "colorway": [
           "#636efa",
           "#EF553B",
           "#00cc96",
           "#ab63fa",
           "#FFA15A",
           "#19d3f3",
           "#FF6692",
           "#B6E880",
           "#FF97FF",
           "#FECB52"
          ],
          "font": {
           "color": "#2a3f5f"
          },
          "geo": {
           "bgcolor": "white",
           "lakecolor": "white",
           "landcolor": "white",
           "showlakes": true,
           "showland": true,
           "subunitcolor": "#C8D4E3"
          },
          "hoverlabel": {
           "align": "left"
          },
          "hovermode": "closest",
          "mapbox": {
           "style": "light"
          },
          "paper_bgcolor": "white",
          "plot_bgcolor": "white",
          "polar": {
           "angularaxis": {
            "gridcolor": "#EBF0F8",
            "linecolor": "#EBF0F8",
            "ticks": ""
           },
           "bgcolor": "white",
           "radialaxis": {
            "gridcolor": "#EBF0F8",
            "linecolor": "#EBF0F8",
            "ticks": ""
           }
          },
          "scene": {
           "xaxis": {
            "backgroundcolor": "white",
            "gridcolor": "#DFE8F3",
            "gridwidth": 2,
            "linecolor": "#EBF0F8",
            "showbackground": true,
            "ticks": "",
            "zerolinecolor": "#EBF0F8"
           },
           "yaxis": {
            "backgroundcolor": "white",
            "gridcolor": "#DFE8F3",
            "gridwidth": 2,
            "linecolor": "#EBF0F8",
            "showbackground": true,
            "ticks": "",
            "zerolinecolor": "#EBF0F8"
           },
           "zaxis": {
            "backgroundcolor": "white",
            "gridcolor": "#DFE8F3",
            "gridwidth": 2,
            "linecolor": "#EBF0F8",
            "showbackground": true,
            "ticks": "",
            "zerolinecolor": "#EBF0F8"
           }
          },
          "shapedefaults": {
           "line": {
            "color": "#2a3f5f"
           }
          },
          "ternary": {
           "aaxis": {
            "gridcolor": "#DFE8F3",
            "linecolor": "#A2B1C6",
            "ticks": ""
           },
           "baxis": {
            "gridcolor": "#DFE8F3",
            "linecolor": "#A2B1C6",
            "ticks": ""
           },
           "bgcolor": "white",
           "caxis": {
            "gridcolor": "#DFE8F3",
            "linecolor": "#A2B1C6",
            "ticks": ""
           }
          },
          "title": {
           "x": 0.05
          },
          "xaxis": {
           "automargin": true,
           "gridcolor": "#EBF0F8",
           "linecolor": "#EBF0F8",
           "ticks": "",
           "title": {
            "standoff": 15
           },
           "zerolinecolor": "#EBF0F8",
           "zerolinewidth": 2
          },
          "yaxis": {
           "automargin": true,
           "gridcolor": "#EBF0F8",
           "linecolor": "#EBF0F8",
           "ticks": "",
           "title": {
            "standoff": 15
           },
           "zerolinecolor": "#EBF0F8",
           "zerolinewidth": 2
          }
         }
        },
        "title": {
         "text": "Scatter Plot of Frequency vs. Amplitude"
        },
        "width": 900,
        "xaxis": {
         "range": [
          0,
          3360.789473684211
         ],
         "title": {
          "text": "Frequency (Hz)"
         }
        },
        "yaxis": {
         "range": [
          0,
          0.00831822530185273
         ],
         "title": {
          "text": "Amplitude"
         }
        }
       }
      }
     },
     "metadata": {},
     "output_type": "display_data"
    }
   ],
   "source": [
    "from py_scripts.multiplotter import plot_scatter\n",
    "\n",
    "plot_scatter(files=['tsv/speech1.tsv', 'tsv/conga3.tsv'], mode='markers')\n",
    "\n",
    "# Sample usage:\n",
    "# plot_scatter(files=['speech1.tsv', 'speech2.tsv'], labels=['Speech1', 'Speech2'], mode='markers')\n",
    "# or\n",
    "# plot_scatter(dfs=[df1, df2], labels=['DataFrame1', 'DataFrame2'], mode='lines')\n",
    "#\n",
    "# Most relevant modes are 'markers', 'lines', and 'markers+lines'"
   ]
  },
  {
   "cell_type": "markdown",
   "id": "304ad019-5a95-40d0-9ec4-8f68c4252ba6",
   "metadata": {},
   "source": [
    "2D visualization for tsv data with time domain"
   ]
  },
  {
   "cell_type": "code",
   "execution_count": 2,
   "id": "64da68a6-7df3-4d40-9129-c5c42f84496b",
   "metadata": {},
   "outputs": [
    {
     "data": {
      "application/vnd.plotly.v1+json": {
       "config": {
        "plotlyServerURL": "https://plot.ly"
       },
       "data": [
        {
         "legendgroup": "tsv/sigmoid_high.tsv",
         "line": {
          "color": "#1f77b4",
          "width": 2
         },
         "marker": {
          "size": 5
         },
         "mode": "lines+markers",
         "name": "tsv/sigmoid_high.tsv",
         "showlegend": true,
         "type": "scatter",
         "x": [
          0,
          15
         ],
         "y": [
          31.25,
          97.3684210526316
         ]
        },
        {
         "legendgroup": "tsv/sigmoid_high.tsv",
         "line": {
          "color": "#1f77b4",
          "width": 2
         },
         "marker": {
          "size": 5
         },
         "mode": "lines+markers",
         "name": "tsv/sigmoid_high.tsv",
         "showlegend": false,
         "type": "scatter",
         "x": [
          0,
          15
         ],
         "y": [
          75,
          105.26315789473684
         ]
        },
        {
         "legendgroup": "tsv/sigmoid_high.tsv",
         "line": {
          "color": "#1f77b4",
          "width": 2
         },
         "marker": {
          "size": 5
         },
         "mode": "lines+markers",
         "name": "tsv/sigmoid_high.tsv",
         "showlegend": false,
         "type": "scatter",
         "x": [
          0,
          15
         ],
         "y": [
          75,
          110.5263157894737
         ]
        },
        {
         "legendgroup": "tsv/sigmoid_high.tsv",
         "line": {
          "color": "#1f77b4",
          "width": 2
         },
         "marker": {
          "size": 5
         },
         "mode": "lines+markers",
         "name": "tsv/sigmoid_high.tsv",
         "showlegend": false,
         "type": "scatter",
         "x": [
          0,
          15
         ],
         "y": [
          75,
          194.7368421052632
         ]
        },
        {
         "legendgroup": "tsv/sigmoid_high.tsv",
         "line": {
          "color": "#1f77b4",
          "width": 2
         },
         "marker": {
          "size": 5
         },
         "mode": "lines+markers",
         "name": "tsv/sigmoid_high.tsv",
         "showlegend": false,
         "type": "scatter",
         "x": [
          0,
          15
         ],
         "y": [
          75,
          202.63157894736844
         ]
        },
        {
         "legendgroup": "tsv/sigmoid_high.tsv",
         "line": {
          "color": "#1f77b4",
          "width": 2
         },
         "marker": {
          "size": 5
         },
         "mode": "lines+markers",
         "name": "tsv/sigmoid_high.tsv",
         "showlegend": false,
         "type": "scatter",
         "x": [
          0,
          15
         ],
         "y": [
          75,
          210.5263157894737
         ]
        },
        {
         "legendgroup": "tsv/sigmoid_high.tsv",
         "line": {
          "color": "#1f77b4",
          "width": 2
         },
         "marker": {
          "size": 5
         },
         "mode": "lines+markers",
         "name": "tsv/sigmoid_high.tsv",
         "showlegend": false,
         "type": "scatter",
         "x": [
          0,
          15
         ],
         "y": [
          127.5,
          215.7894736842105
         ]
        },
        {
         "legendgroup": "tsv/sigmoid_high.tsv",
         "line": {
          "color": "#1f77b4",
          "width": 2
         },
         "marker": {
          "size": 5
         },
         "mode": "lines+markers",
         "name": "tsv/sigmoid_high.tsv",
         "showlegend": false,
         "type": "scatter",
         "x": [
          0,
          15
         ],
         "y": [
          127.5,
          223.6842105263158
         ]
        },
        {
         "legendgroup": "tsv/sigmoid_high.tsv",
         "line": {
          "color": "#1f77b4",
          "width": 2
         },
         "marker": {
          "size": 5
         },
         "mode": "lines+markers",
         "name": "tsv/sigmoid_high.tsv",
         "showlegend": false,
         "type": "scatter",
         "x": [
          0,
          15
         ],
         "y": [
          127.5,
          228.94736842105263
         ]
        },
        {
         "legendgroup": "tsv/sigmoid_high.tsv",
         "line": {
          "color": "#1f77b4",
          "width": 2
         },
         "marker": {
          "size": 5
         },
         "mode": "lines+markers",
         "name": "tsv/sigmoid_high.tsv",
         "showlegend": false,
         "type": "scatter",
         "x": [
          0,
          15
         ],
         "y": [
          127.5,
          292.10526315789474
         ]
        },
        {
         "legendgroup": "tsv/sigmoid_high.tsv",
         "line": {
          "color": "#1f77b4",
          "width": 2
         },
         "marker": {
          "size": 5
         },
         "mode": "lines+markers",
         "name": "tsv/sigmoid_high.tsv",
         "showlegend": false,
         "type": "scatter",
         "x": [
          0,
          15
         ],
         "y": [
          127.5,
          300
         ]
        },
        {
         "legendgroup": "tsv/sigmoid_high.tsv",
         "line": {
          "color": "#1f77b4",
          "width": 2
         },
         "marker": {
          "size": 5
         },
         "mode": "lines+markers",
         "name": "tsv/sigmoid_high.tsv",
         "showlegend": false,
         "type": "scatter",
         "x": [
          0,
          15
         ],
         "y": [
          238.75,
          307.89473684210526
         ]
        },
        {
         "legendgroup": "tsv/sigmoid_high.tsv",
         "line": {
          "color": "#1f77b4",
          "width": 2
         },
         "marker": {
          "size": 5
         },
         "mode": "lines+markers",
         "name": "tsv/sigmoid_high.tsv",
         "showlegend": false,
         "type": "scatter",
         "x": [
          0,
          15
         ],
         "y": [
          238.75,
          313.15789473684214
         ]
        },
        {
         "legendgroup": "tsv/sigmoid_high.tsv",
         "line": {
          "color": "#1f77b4",
          "width": 2
         },
         "marker": {
          "size": 5
         },
         "mode": "lines+markers",
         "name": "tsv/sigmoid_high.tsv",
         "showlegend": false,
         "type": "scatter",
         "x": [
          0,
          15
         ],
         "y": [
          238.75,
          321.0526315789474
         ]
        },
        {
         "legendgroup": "tsv/sigmoid_high.tsv",
         "line": {
          "color": "#1f77b4",
          "width": 2
         },
         "marker": {
          "size": 5
         },
         "mode": "lines+markers",
         "name": "tsv/sigmoid_high.tsv",
         "showlegend": false,
         "type": "scatter",
         "x": [
          0,
          15
         ],
         "y": [
          238.75,
          328.94736842105266
         ]
        },
        {
         "legendgroup": "tsv/sigmoid_high.tsv",
         "line": {
          "color": "#1f77b4",
          "width": 2
         },
         "marker": {
          "size": 5
         },
         "mode": "lines+markers",
         "name": "tsv/sigmoid_high.tsv",
         "showlegend": false,
         "type": "scatter",
         "x": [
          0,
          15
         ],
         "y": [
          238.75,
          334.2105263157895
         ]
        },
        {
         "legendgroup": "tsv/sigmoid_high.tsv",
         "line": {
          "color": "#1f77b4",
          "width": 2
         },
         "marker": {
          "size": 5
         },
         "mode": "lines+markers",
         "name": "tsv/sigmoid_high.tsv",
         "showlegend": false,
         "type": "scatter",
         "x": [
          0,
          15
         ],
         "y": [
          321.25,
          339.4736842105264
         ]
        },
        {
         "legendgroup": "tsv/sigmoid_high.tsv",
         "line": {
          "color": "#1f77b4",
          "width": 2
         },
         "marker": {
          "size": 5
         },
         "mode": "lines+markers",
         "name": "tsv/sigmoid_high.tsv",
         "showlegend": false,
         "type": "scatter",
         "x": [
          0,
          15
         ],
         "y": [
          321.25,
          344.7368421052632
         ]
        },
        {
         "legendgroup": "tsv/sigmoid_high.tsv",
         "line": {
          "color": "#1f77b4",
          "width": 2
         },
         "marker": {
          "size": 5
         },
         "mode": "lines+markers",
         "name": "tsv/sigmoid_high.tsv",
         "showlegend": false,
         "type": "scatter",
         "x": [
          0,
          15
         ],
         "y": [
          321.25,
          407.8947368421053
         ]
        },
        {
         "legendgroup": "tsv/sigmoid_high.tsv",
         "line": {
          "color": "#1f77b4",
          "width": 2
         },
         "marker": {
          "size": 5
         },
         "mode": "lines+markers",
         "name": "tsv/sigmoid_high.tsv",
         "showlegend": false,
         "type": "scatter",
         "x": [
          0,
          15
         ],
         "y": [
          321.25,
          415.7894736842106
         ]
        },
        {
         "legendgroup": "tsv/sigmoid_high.tsv",
         "line": {
          "color": "#1f77b4",
          "width": 2
         },
         "marker": {
          "size": 5
         },
         "mode": "lines+markers",
         "name": "tsv/sigmoid_high.tsv",
         "showlegend": false,
         "type": "scatter",
         "x": [
          0,
          15
         ],
         "y": [
          321.25,
          426.3157894736842
         ]
        },
        {
         "legendgroup": "tsv/sigmoid_high.tsv",
         "line": {
          "color": "#1f77b4",
          "width": 2
         },
         "marker": {
          "size": 5
         },
         "mode": "lines+markers",
         "name": "tsv/sigmoid_high.tsv",
         "showlegend": false,
         "type": "scatter",
         "x": [
          0,
          15
         ],
         "y": [
          393.75,
          434.2105263157895
         ]
        },
        {
         "legendgroup": "tsv/sigmoid_high.tsv",
         "line": {
          "color": "#1f77b4",
          "width": 2
         },
         "marker": {
          "size": 5
         },
         "mode": "lines+markers",
         "name": "tsv/sigmoid_high.tsv",
         "showlegend": false,
         "type": "scatter",
         "x": [
          0,
          15
         ],
         "y": [
          393.75,
          439.4736842105264
         ]
        },
        {
         "legendgroup": "tsv/sigmoid_high.tsv",
         "line": {
          "color": "#1f77b4",
          "width": 2
         },
         "marker": {
          "size": 5
         },
         "mode": "lines+markers",
         "name": "tsv/sigmoid_high.tsv",
         "showlegend": false,
         "type": "scatter",
         "x": [
          0,
          15
         ],
         "y": [
          393.75,
          513.1578947368422
         ]
        },
        {
         "legendgroup": "tsv/sigmoid_high.tsv",
         "line": {
          "color": "#1f77b4",
          "width": 2
         },
         "marker": {
          "size": 5
         },
         "mode": "lines+markers",
         "name": "tsv/sigmoid_high.tsv",
         "showlegend": false,
         "type": "scatter",
         "x": [
          0,
          15
         ],
         "y": [
          393.75,
          518.421052631579
         ]
        },
        {
         "legendgroup": "tsv/sigmoid_high.tsv",
         "line": {
          "color": "#1f77b4",
          "width": 2
         },
         "marker": {
          "size": 5
         },
         "mode": "lines+markers",
         "name": "tsv/sigmoid_high.tsv",
         "showlegend": false,
         "type": "scatter",
         "x": [
          0,
          15
         ],
         "y": [
          398.75,
          528.9473684210527
         ]
        },
        {
         "legendgroup": "tsv/sigmoid_high.tsv",
         "line": {
          "color": "#1f77b4",
          "width": 2
         },
         "marker": {
          "size": 5
         },
         "mode": "lines+markers",
         "name": "tsv/sigmoid_high.tsv",
         "showlegend": false,
         "type": "scatter",
         "x": [
          0,
          15
         ],
         "y": [
          398.75,
          539.4736842105264
         ]
        },
        {
         "legendgroup": "tsv/sigmoid_high.tsv",
         "line": {
          "color": "#1f77b4",
          "width": 2
         },
         "marker": {
          "size": 5
         },
         "mode": "lines+markers",
         "name": "tsv/sigmoid_high.tsv",
         "showlegend": false,
         "type": "scatter",
         "x": [
          0,
          15
         ],
         "y": [
          398.75,
          2239.4736842105267
         ]
        },
        {
         "legendgroup": "tsv/sigmoid_high.tsv",
         "line": {
          "color": "#1f77b4",
          "width": 2
         },
         "marker": {
          "size": 5
         },
         "mode": "lines+markers",
         "name": "tsv/sigmoid_high.tsv",
         "showlegend": false,
         "type": "scatter",
         "x": [
          0,
          15
         ],
         "y": [
          398.75,
          2257.894736842105
         ]
        },
        {
         "legendgroup": "tsv/sigmoid_high.tsv",
         "line": {
          "color": "#1f77b4",
          "width": 2
         },
         "marker": {
          "size": 5
         },
         "mode": "lines+markers",
         "name": "tsv/sigmoid_high.tsv",
         "showlegend": false,
         "type": "scatter",
         "x": [
          0,
          15
         ],
         "y": [
          398.75,
          2265.789473684211
         ]
        },
        {
         "legendgroup": "tsv/sigmoid_high.tsv",
         "line": {
          "color": "#1f77b4",
          "width": 2
         },
         "marker": {
          "size": 5
         },
         "mode": "lines+markers",
         "name": "tsv/sigmoid_high.tsv",
         "showlegend": false,
         "type": "scatter",
         "x": [
          0,
          15
         ],
         "y": [
          518.75,
          2278.947368421053
         ]
        },
        {
         "legendgroup": "tsv/sigmoid_high.tsv",
         "line": {
          "color": "#1f77b4",
          "width": 2
         },
         "marker": {
          "size": 5
         },
         "mode": "lines+markers",
         "name": "tsv/sigmoid_high.tsv",
         "showlegend": false,
         "type": "scatter",
         "x": [
          0,
          15
         ],
         "y": [
          518.75,
          2313.157894736842
         ]
        },
        {
         "legendgroup": "tsv/sigmoid_high.tsv",
         "line": {
          "color": "#1f77b4",
          "width": 2
         },
         "marker": {
          "size": 5
         },
         "mode": "lines+markers",
         "name": "tsv/sigmoid_high.tsv",
         "showlegend": false,
         "type": "scatter",
         "x": [
          0,
          15
         ],
         "y": [
          518.75,
          2323.684210526316
         ]
        },
        {
         "legendgroup": "tsv/sigmoid_high.tsv",
         "line": {
          "color": "#1f77b4",
          "width": 2
         },
         "marker": {
          "size": 5
         },
         "mode": "lines+markers",
         "name": "tsv/sigmoid_high.tsv",
         "showlegend": false,
         "type": "scatter",
         "x": [
          0,
          15
         ],
         "y": [
          518.75,
          2331.5789473684213
         ]
        },
        {
         "legendgroup": "tsv/sigmoid_high.tsv",
         "line": {
          "color": "#1f77b4",
          "width": 2
         },
         "marker": {
          "size": 5
         },
         "mode": "lines+markers",
         "name": "tsv/sigmoid_high.tsv",
         "showlegend": false,
         "type": "scatter",
         "x": [
          0,
          15
         ],
         "y": [
          518.75,
          2344.736842105264
         ]
        },
        {
         "legendgroup": "tsv/sigmoid_high.tsv",
         "line": {
          "color": "#1f77b4",
          "width": 2
         },
         "marker": {
          "size": 5
         },
         "mode": "lines+markers",
         "name": "tsv/sigmoid_high.tsv",
         "showlegend": false,
         "type": "scatter",
         "x": [
          0,
          15
         ],
         "y": [
          546.25,
          2360.5263157894738
         ]
        },
        {
         "legendgroup": "tsv/sigmoid_high.tsv",
         "line": {
          "color": "#1f77b4",
          "width": 2
         },
         "marker": {
          "size": 5
         },
         "mode": "lines+markers",
         "name": "tsv/sigmoid_high.tsv",
         "showlegend": false,
         "type": "scatter",
         "x": [
          0,
          15
         ],
         "y": [
          546.25,
          2381.5789473684213
         ]
        },
        {
         "legendgroup": "tsv/sigmoid_high.tsv",
         "line": {
          "color": "#1f77b4",
          "width": 2
         },
         "marker": {
          "size": 5
         },
         "mode": "lines+markers",
         "name": "tsv/sigmoid_high.tsv",
         "showlegend": false,
         "type": "scatter",
         "x": [
          0,
          15
         ],
         "y": [
          546.25,
          2392.105263157895
         ]
        },
        {
         "legendgroup": "tsv/sigmoid_high.tsv",
         "line": {
          "color": "#1f77b4",
          "width": 2
         },
         "marker": {
          "size": 5
         },
         "mode": "lines+markers",
         "name": "tsv/sigmoid_high.tsv",
         "showlegend": false,
         "type": "scatter",
         "x": [
          0,
          15
         ],
         "y": [
          546.25,
          2397.368421052632
         ]
        },
        {
         "legendgroup": "tsv/sigmoid_high.tsv",
         "line": {
          "color": "#1f77b4",
          "width": 2
         },
         "marker": {
          "size": 5
         },
         "mode": "lines+markers",
         "name": "tsv/sigmoid_high.tsv",
         "showlegend": false,
         "type": "scatter",
         "x": [
          0,
          15
         ],
         "y": [
          546.25,
          2952.631578947369
         ]
        },
        {
         "legendgroup": "tsv/sigmoid_high.tsv",
         "line": {
          "color": "#1f77b4",
          "width": 2
         },
         "marker": {
          "size": 5
         },
         "mode": "lines+markers",
         "name": "tsv/sigmoid_high.tsv",
         "showlegend": false,
         "type": "scatter",
         "x": [
          0,
          15
         ],
         "y": [
          600,
          3055.263157894737
         ]
        },
        {
         "legendgroup": "tsv/sigmoid_low.tsv",
         "line": {
          "color": "#ff7f0e",
          "width": 2
         },
         "marker": {
          "size": 5
         },
         "mode": "lines+markers",
         "name": "tsv/sigmoid_low.tsv",
         "showlegend": true,
         "type": "scatter",
         "x": [
          0,
          15
         ],
         "y": [
          31.25,
          97.3684210526316
         ]
        },
        {
         "legendgroup": "tsv/sigmoid_low.tsv",
         "line": {
          "color": "#ff7f0e",
          "width": 2
         },
         "marker": {
          "size": 5
         },
         "mode": "lines+markers",
         "name": "tsv/sigmoid_low.tsv",
         "showlegend": false,
         "type": "scatter",
         "x": [
          0,
          15
         ],
         "y": [
          31.25,
          105.26315789473684
         ]
        },
        {
         "legendgroup": "tsv/sigmoid_low.tsv",
         "line": {
          "color": "#ff7f0e",
          "width": 2
         },
         "marker": {
          "size": 5
         },
         "mode": "lines+markers",
         "name": "tsv/sigmoid_low.tsv",
         "showlegend": false,
         "type": "scatter",
         "x": [
          0,
          15
         ],
         "y": [
          31.25,
          110.5263157894737
         ]
        },
        {
         "legendgroup": "tsv/sigmoid_low.tsv",
         "line": {
          "color": "#ff7f0e",
          "width": 2
         },
         "marker": {
          "size": 5
         },
         "mode": "lines+markers",
         "name": "tsv/sigmoid_low.tsv",
         "showlegend": false,
         "type": "scatter",
         "x": [
          0,
          15
         ],
         "y": [
          31.25,
          194.7368421052632
         ]
        },
        {
         "legendgroup": "tsv/sigmoid_low.tsv",
         "line": {
          "color": "#ff7f0e",
          "width": 2
         },
         "marker": {
          "size": 5
         },
         "mode": "lines+markers",
         "name": "tsv/sigmoid_low.tsv",
         "showlegend": false,
         "type": "scatter",
         "x": [
          0,
          15
         ],
         "y": [
          31.25,
          202.63157894736844
         ]
        },
        {
         "legendgroup": "tsv/sigmoid_low.tsv",
         "line": {
          "color": "#ff7f0e",
          "width": 2
         },
         "marker": {
          "size": 5
         },
         "mode": "lines+markers",
         "name": "tsv/sigmoid_low.tsv",
         "showlegend": false,
         "type": "scatter",
         "x": [
          0,
          15
         ],
         "y": [
          31.25,
          210.5263157894737
         ]
        },
        {
         "legendgroup": "tsv/sigmoid_low.tsv",
         "line": {
          "color": "#ff7f0e",
          "width": 2
         },
         "marker": {
          "size": 5
         },
         "mode": "lines+markers",
         "name": "tsv/sigmoid_low.tsv",
         "showlegend": false,
         "type": "scatter",
         "x": [
          0,
          15
         ],
         "y": [
          31.25,
          215.7894736842105
         ]
        },
        {
         "legendgroup": "tsv/sigmoid_low.tsv",
         "line": {
          "color": "#ff7f0e",
          "width": 2
         },
         "marker": {
          "size": 5
         },
         "mode": "lines+markers",
         "name": "tsv/sigmoid_low.tsv",
         "showlegend": false,
         "type": "scatter",
         "x": [
          0,
          15
         ],
         "y": [
          31.25,
          223.6842105263158
         ]
        },
        {
         "legendgroup": "tsv/sigmoid_low.tsv",
         "line": {
          "color": "#ff7f0e",
          "width": 2
         },
         "marker": {
          "size": 5
         },
         "mode": "lines+markers",
         "name": "tsv/sigmoid_low.tsv",
         "showlegend": false,
         "type": "scatter",
         "x": [
          0,
          15
         ],
         "y": [
          31.25,
          228.94736842105263
         ]
        },
        {
         "legendgroup": "tsv/sigmoid_low.tsv",
         "line": {
          "color": "#ff7f0e",
          "width": 2
         },
         "marker": {
          "size": 5
         },
         "mode": "lines+markers",
         "name": "tsv/sigmoid_low.tsv",
         "showlegend": false,
         "type": "scatter",
         "x": [
          0,
          15
         ],
         "y": [
          31.25,
          292.10526315789474
         ]
        },
        {
         "legendgroup": "tsv/sigmoid_low.tsv",
         "line": {
          "color": "#ff7f0e",
          "width": 2
         },
         "marker": {
          "size": 5
         },
         "mode": "lines+markers",
         "name": "tsv/sigmoid_low.tsv",
         "showlegend": false,
         "type": "scatter",
         "x": [
          0,
          15
         ],
         "y": [
          31.25,
          300
         ]
        },
        {
         "legendgroup": "tsv/sigmoid_low.tsv",
         "line": {
          "color": "#ff7f0e",
          "width": 2
         },
         "marker": {
          "size": 5
         },
         "mode": "lines+markers",
         "name": "tsv/sigmoid_low.tsv",
         "showlegend": false,
         "type": "scatter",
         "x": [
          0,
          15
         ],
         "y": [
          31.25,
          307.89473684210526
         ]
        },
        {
         "legendgroup": "tsv/sigmoid_low.tsv",
         "line": {
          "color": "#ff7f0e",
          "width": 2
         },
         "marker": {
          "size": 5
         },
         "mode": "lines+markers",
         "name": "tsv/sigmoid_low.tsv",
         "showlegend": false,
         "type": "scatter",
         "x": [
          0,
          15
         ],
         "y": [
          31.25,
          313.15789473684214
         ]
        },
        {
         "legendgroup": "tsv/sigmoid_low.tsv",
         "line": {
          "color": "#ff7f0e",
          "width": 2
         },
         "marker": {
          "size": 5
         },
         "mode": "lines+markers",
         "name": "tsv/sigmoid_low.tsv",
         "showlegend": false,
         "type": "scatter",
         "x": [
          0,
          15
         ],
         "y": [
          31.25,
          321.0526315789474
         ]
        },
        {
         "legendgroup": "tsv/sigmoid_low.tsv",
         "line": {
          "color": "#ff7f0e",
          "width": 2
         },
         "marker": {
          "size": 5
         },
         "mode": "lines+markers",
         "name": "tsv/sigmoid_low.tsv",
         "showlegend": false,
         "type": "scatter",
         "x": [
          0,
          15
         ],
         "y": [
          31.25,
          328.94736842105266
         ]
        },
        {
         "legendgroup": "tsv/sigmoid_low.tsv",
         "line": {
          "color": "#ff7f0e",
          "width": 2
         },
         "marker": {
          "size": 5
         },
         "mode": "lines+markers",
         "name": "tsv/sigmoid_low.tsv",
         "showlegend": false,
         "type": "scatter",
         "x": [
          0,
          15
         ],
         "y": [
          31.25,
          334.2105263157895
         ]
        },
        {
         "legendgroup": "tsv/sigmoid_low.tsv",
         "line": {
          "color": "#ff7f0e",
          "width": 2
         },
         "marker": {
          "size": 5
         },
         "mode": "lines+markers",
         "name": "tsv/sigmoid_low.tsv",
         "showlegend": false,
         "type": "scatter",
         "x": [
          0,
          15
         ],
         "y": [
          75,
          339.4736842105264
         ]
        },
        {
         "legendgroup": "tsv/sigmoid_low.tsv",
         "line": {
          "color": "#ff7f0e",
          "width": 2
         },
         "marker": {
          "size": 5
         },
         "mode": "lines+markers",
         "name": "tsv/sigmoid_low.tsv",
         "showlegend": false,
         "type": "scatter",
         "x": [
          0,
          15
         ],
         "y": [
          127.5,
          344.7368421052632
         ]
        },
        {
         "legendgroup": "tsv/sigmoid_low.tsv",
         "line": {
          "color": "#ff7f0e",
          "width": 2
         },
         "marker": {
          "size": 5
         },
         "mode": "lines+markers",
         "name": "tsv/sigmoid_low.tsv",
         "showlegend": false,
         "type": "scatter",
         "x": [
          0,
          15
         ],
         "y": [
          238.75,
          407.8947368421053
         ]
        },
        {
         "legendgroup": "tsv/sigmoid_low.tsv",
         "line": {
          "color": "#ff7f0e",
          "width": 2
         },
         "marker": {
          "size": 5
         },
         "mode": "lines+markers",
         "name": "tsv/sigmoid_low.tsv",
         "showlegend": false,
         "type": "scatter",
         "x": [
          0,
          15
         ],
         "y": [
          321.25,
          415.7894736842106
         ]
        },
        {
         "legendgroup": "tsv/sigmoid_low.tsv",
         "line": {
          "color": "#ff7f0e",
          "width": 2
         },
         "marker": {
          "size": 5
         },
         "mode": "lines+markers",
         "name": "tsv/sigmoid_low.tsv",
         "showlegend": false,
         "type": "scatter",
         "x": [
          0,
          15
         ],
         "y": [
          321.25,
          426.3157894736842
         ]
        },
        {
         "legendgroup": "tsv/sigmoid_low.tsv",
         "line": {
          "color": "#ff7f0e",
          "width": 2
         },
         "marker": {
          "size": 5
         },
         "mode": "lines+markers",
         "name": "tsv/sigmoid_low.tsv",
         "showlegend": false,
         "type": "scatter",
         "x": [
          0,
          15
         ],
         "y": [
          393.75,
          434.2105263157895
         ]
        },
        {
         "legendgroup": "tsv/sigmoid_low.tsv",
         "line": {
          "color": "#ff7f0e",
          "width": 2
         },
         "marker": {
          "size": 5
         },
         "mode": "lines+markers",
         "name": "tsv/sigmoid_low.tsv",
         "showlegend": false,
         "type": "scatter",
         "x": [
          0,
          15
         ],
         "y": [
          398.75,
          439.4736842105264
         ]
        },
        {
         "legendgroup": "tsv/sigmoid_low.tsv",
         "line": {
          "color": "#ff7f0e",
          "width": 2
         },
         "marker": {
          "size": 5
         },
         "mode": "lines+markers",
         "name": "tsv/sigmoid_low.tsv",
         "showlegend": false,
         "type": "scatter",
         "x": [
          0,
          15
         ],
         "y": [
          518.75,
          513.1578947368422
         ]
        },
        {
         "legendgroup": "tsv/sigmoid_low.tsv",
         "line": {
          "color": "#ff7f0e",
          "width": 2
         },
         "marker": {
          "size": 5
         },
         "mode": "lines+markers",
         "name": "tsv/sigmoid_low.tsv",
         "showlegend": false,
         "type": "scatter",
         "x": [
          0,
          15
         ],
         "y": [
          546.25,
          518.421052631579
         ]
        },
        {
         "legendgroup": "tsv/sigmoid_low.tsv",
         "line": {
          "color": "#ff7f0e",
          "width": 2
         },
         "marker": {
          "size": 5
         },
         "mode": "lines+markers",
         "name": "tsv/sigmoid_low.tsv",
         "showlegend": false,
         "type": "scatter",
         "x": [
          0,
          15
         ],
         "y": [
          600,
          528.9473684210527
         ]
        },
        {
         "legendgroup": "tsv/sigmoid_low.tsv",
         "line": {
          "color": "#ff7f0e",
          "width": 2
         },
         "marker": {
          "size": 5
         },
         "mode": "lines+markers",
         "name": "tsv/sigmoid_low.tsv",
         "showlegend": false,
         "type": "scatter",
         "x": [
          0,
          15
         ],
         "y": [
          600,
          539.4736842105264
         ]
        },
        {
         "legendgroup": "tsv/sigmoid_low.tsv",
         "line": {
          "color": "#ff7f0e",
          "width": 2
         },
         "marker": {
          "size": 5
         },
         "mode": "lines+markers",
         "name": "tsv/sigmoid_low.tsv",
         "showlegend": false,
         "type": "scatter",
         "x": [
          0,
          15
         ],
         "y": [
          600,
          2239.4736842105267
         ]
        },
        {
         "legendgroup": "tsv/sigmoid_low.tsv",
         "line": {
          "color": "#ff7f0e",
          "width": 2
         },
         "marker": {
          "size": 5
         },
         "mode": "lines+markers",
         "name": "tsv/sigmoid_low.tsv",
         "showlegend": false,
         "type": "scatter",
         "x": [
          0,
          15
         ],
         "y": [
          600,
          2257.894736842105
         ]
        },
        {
         "legendgroup": "tsv/sigmoid_low.tsv",
         "line": {
          "color": "#ff7f0e",
          "width": 2
         },
         "marker": {
          "size": 5
         },
         "mode": "lines+markers",
         "name": "tsv/sigmoid_low.tsv",
         "showlegend": false,
         "type": "scatter",
         "x": [
          0,
          15
         ],
         "y": [
          600,
          2265.789473684211
         ]
        },
        {
         "legendgroup": "tsv/sigmoid_low.tsv",
         "line": {
          "color": "#ff7f0e",
          "width": 2
         },
         "marker": {
          "size": 5
         },
         "mode": "lines+markers",
         "name": "tsv/sigmoid_low.tsv",
         "showlegend": false,
         "type": "scatter",
         "x": [
          0,
          15
         ],
         "y": [
          600,
          2278.947368421053
         ]
        },
        {
         "legendgroup": "tsv/sigmoid_low.tsv",
         "line": {
          "color": "#ff7f0e",
          "width": 2
         },
         "marker": {
          "size": 5
         },
         "mode": "lines+markers",
         "name": "tsv/sigmoid_low.tsv",
         "showlegend": false,
         "type": "scatter",
         "x": [
          0,
          15
         ],
         "y": [
          600,
          2313.157894736842
         ]
        },
        {
         "legendgroup": "tsv/sigmoid_low.tsv",
         "line": {
          "color": "#ff7f0e",
          "width": 2
         },
         "marker": {
          "size": 5
         },
         "mode": "lines+markers",
         "name": "tsv/sigmoid_low.tsv",
         "showlegend": false,
         "type": "scatter",
         "x": [
          0,
          15
         ],
         "y": [
          600,
          2323.684210526316
         ]
        },
        {
         "legendgroup": "tsv/sigmoid_low.tsv",
         "line": {
          "color": "#ff7f0e",
          "width": 2
         },
         "marker": {
          "size": 5
         },
         "mode": "lines+markers",
         "name": "tsv/sigmoid_low.tsv",
         "showlegend": false,
         "type": "scatter",
         "x": [
          0,
          15
         ],
         "y": [
          600,
          2331.5789473684213
         ]
        },
        {
         "legendgroup": "tsv/sigmoid_low.tsv",
         "line": {
          "color": "#ff7f0e",
          "width": 2
         },
         "marker": {
          "size": 5
         },
         "mode": "lines+markers",
         "name": "tsv/sigmoid_low.tsv",
         "showlegend": false,
         "type": "scatter",
         "x": [
          0,
          15
         ],
         "y": [
          600,
          2344.736842105264
         ]
        },
        {
         "legendgroup": "tsv/sigmoid_low.tsv",
         "line": {
          "color": "#ff7f0e",
          "width": 2
         },
         "marker": {
          "size": 5
         },
         "mode": "lines+markers",
         "name": "tsv/sigmoid_low.tsv",
         "showlegend": false,
         "type": "scatter",
         "x": [
          0,
          15
         ],
         "y": [
          600,
          2360.5263157894738
         ]
        },
        {
         "legendgroup": "tsv/sigmoid_low.tsv",
         "line": {
          "color": "#ff7f0e",
          "width": 2
         },
         "marker": {
          "size": 5
         },
         "mode": "lines+markers",
         "name": "tsv/sigmoid_low.tsv",
         "showlegend": false,
         "type": "scatter",
         "x": [
          0,
          15
         ],
         "y": [
          600,
          2381.5789473684213
         ]
        },
        {
         "legendgroup": "tsv/sigmoid_low.tsv",
         "line": {
          "color": "#ff7f0e",
          "width": 2
         },
         "marker": {
          "size": 5
         },
         "mode": "lines+markers",
         "name": "tsv/sigmoid_low.tsv",
         "showlegend": false,
         "type": "scatter",
         "x": [
          0,
          15
         ],
         "y": [
          600,
          2392.105263157895
         ]
        },
        {
         "legendgroup": "tsv/sigmoid_low.tsv",
         "line": {
          "color": "#ff7f0e",
          "width": 2
         },
         "marker": {
          "size": 5
         },
         "mode": "lines+markers",
         "name": "tsv/sigmoid_low.tsv",
         "showlegend": false,
         "type": "scatter",
         "x": [
          0,
          15
         ],
         "y": [
          600,
          2397.368421052632
         ]
        },
        {
         "legendgroup": "tsv/sigmoid_low.tsv",
         "line": {
          "color": "#ff7f0e",
          "width": 2
         },
         "marker": {
          "size": 5
         },
         "mode": "lines+markers",
         "name": "tsv/sigmoid_low.tsv",
         "showlegend": false,
         "type": "scatter",
         "x": [
          0,
          15
         ],
         "y": [
          600,
          2952.631578947369
         ]
        },
        {
         "legendgroup": "tsv/sigmoid_low.tsv",
         "line": {
          "color": "#ff7f0e",
          "width": 2
         },
         "marker": {
          "size": 5
         },
         "mode": "lines+markers",
         "name": "tsv/sigmoid_low.tsv",
         "showlegend": false,
         "type": "scatter",
         "x": [
          0,
          15
         ],
         "y": [
          600,
          3055.263157894737
         ]
        }
       ],
       "layout": {
        "height": 700,
        "legend": {
         "title": {
          "text": "Sources"
         }
        },
        "template": {
         "data": {
          "bar": [
           {
            "error_x": {
             "color": "#2a3f5f"
            },
            "error_y": {
             "color": "#2a3f5f"
            },
            "marker": {
             "line": {
              "color": "white",
              "width": 0.5
             },
             "pattern": {
              "fillmode": "overlay",
              "size": 10,
              "solidity": 0.2
             }
            },
            "type": "bar"
           }
          ],
          "barpolar": [
           {
            "marker": {
             "line": {
              "color": "white",
              "width": 0.5
             },
             "pattern": {
              "fillmode": "overlay",
              "size": 10,
              "solidity": 0.2
             }
            },
            "type": "barpolar"
           }
          ],
          "carpet": [
           {
            "aaxis": {
             "endlinecolor": "#2a3f5f",
             "gridcolor": "#C8D4E3",
             "linecolor": "#C8D4E3",
             "minorgridcolor": "#C8D4E3",
             "startlinecolor": "#2a3f5f"
            },
            "baxis": {
             "endlinecolor": "#2a3f5f",
             "gridcolor": "#C8D4E3",
             "linecolor": "#C8D4E3",
             "minorgridcolor": "#C8D4E3",
             "startlinecolor": "#2a3f5f"
            },
            "type": "carpet"
           }
          ],
          "choropleth": [
           {
            "colorbar": {
             "outlinewidth": 0,
             "ticks": ""
            },
            "type": "choropleth"
           }
          ],
          "contour": [
           {
            "colorbar": {
             "outlinewidth": 0,
             "ticks": ""
            },
            "colorscale": [
             [
              0,
              "#0d0887"
             ],
             [
              0.1111111111111111,
              "#46039f"
             ],
             [
              0.2222222222222222,
              "#7201a8"
             ],
             [
              0.3333333333333333,
              "#9c179e"
             ],
             [
              0.4444444444444444,
              "#bd3786"
             ],
             [
              0.5555555555555556,
              "#d8576b"
             ],
             [
              0.6666666666666666,
              "#ed7953"
             ],
             [
              0.7777777777777778,
              "#fb9f3a"
             ],
             [
              0.8888888888888888,
              "#fdca26"
             ],
             [
              1,
              "#f0f921"
             ]
            ],
            "type": "contour"
           }
          ],
          "contourcarpet": [
           {
            "colorbar": {
             "outlinewidth": 0,
             "ticks": ""
            },
            "type": "contourcarpet"
           }
          ],
          "heatmap": [
           {
            "colorbar": {
             "outlinewidth": 0,
             "ticks": ""
            },
            "colorscale": [
             [
              0,
              "#0d0887"
             ],
             [
              0.1111111111111111,
              "#46039f"
             ],
             [
              0.2222222222222222,
              "#7201a8"
             ],
             [
              0.3333333333333333,
              "#9c179e"
             ],
             [
              0.4444444444444444,
              "#bd3786"
             ],
             [
              0.5555555555555556,
              "#d8576b"
             ],
             [
              0.6666666666666666,
              "#ed7953"
             ],
             [
              0.7777777777777778,
              "#fb9f3a"
             ],
             [
              0.8888888888888888,
              "#fdca26"
             ],
             [
              1,
              "#f0f921"
             ]
            ],
            "type": "heatmap"
           }
          ],
          "histogram": [
           {
            "marker": {
             "pattern": {
              "fillmode": "overlay",
              "size": 10,
              "solidity": 0.2
             }
            },
            "type": "histogram"
           }
          ],
          "histogram2d": [
           {
            "colorbar": {
             "outlinewidth": 0,
             "ticks": ""
            },
            "colorscale": [
             [
              0,
              "#0d0887"
             ],
             [
              0.1111111111111111,
              "#46039f"
             ],
             [
              0.2222222222222222,
              "#7201a8"
             ],
             [
              0.3333333333333333,
              "#9c179e"
             ],
             [
              0.4444444444444444,
              "#bd3786"
             ],
             [
              0.5555555555555556,
              "#d8576b"
             ],
             [
              0.6666666666666666,
              "#ed7953"
             ],
             [
              0.7777777777777778,
              "#fb9f3a"
             ],
             [
              0.8888888888888888,
              "#fdca26"
             ],
             [
              1,
              "#f0f921"
             ]
            ],
            "type": "histogram2d"
           }
          ],
          "histogram2dcontour": [
           {
            "colorbar": {
             "outlinewidth": 0,
             "ticks": ""
            },
            "colorscale": [
             [
              0,
              "#0d0887"
             ],
             [
              0.1111111111111111,
              "#46039f"
             ],
             [
              0.2222222222222222,
              "#7201a8"
             ],
             [
              0.3333333333333333,
              "#9c179e"
             ],
             [
              0.4444444444444444,
              "#bd3786"
             ],
             [
              0.5555555555555556,
              "#d8576b"
             ],
             [
              0.6666666666666666,
              "#ed7953"
             ],
             [
              0.7777777777777778,
              "#fb9f3a"
             ],
             [
              0.8888888888888888,
              "#fdca26"
             ],
             [
              1,
              "#f0f921"
             ]
            ],
            "type": "histogram2dcontour"
           }
          ],
          "mesh3d": [
           {
            "colorbar": {
             "outlinewidth": 0,
             "ticks": ""
            },
            "type": "mesh3d"
           }
          ],
          "parcoords": [
           {
            "line": {
             "colorbar": {
              "outlinewidth": 0,
              "ticks": ""
             }
            },
            "type": "parcoords"
           }
          ],
          "pie": [
           {
            "automargin": true,
            "type": "pie"
           }
          ],
          "scatter": [
           {
            "fillpattern": {
             "fillmode": "overlay",
             "size": 10,
             "solidity": 0.2
            },
            "type": "scatter"
           }
          ],
          "scatter3d": [
           {
            "line": {
             "colorbar": {
              "outlinewidth": 0,
              "ticks": ""
             }
            },
            "marker": {
             "colorbar": {
              "outlinewidth": 0,
              "ticks": ""
             }
            },
            "type": "scatter3d"
           }
          ],
          "scattercarpet": [
           {
            "marker": {
             "colorbar": {
              "outlinewidth": 0,
              "ticks": ""
             }
            },
            "type": "scattercarpet"
           }
          ],
          "scattergeo": [
           {
            "marker": {
             "colorbar": {
              "outlinewidth": 0,
              "ticks": ""
             }
            },
            "type": "scattergeo"
           }
          ],
          "scattergl": [
           {
            "marker": {
             "colorbar": {
              "outlinewidth": 0,
              "ticks": ""
             }
            },
            "type": "scattergl"
           }
          ],
          "scattermap": [
           {
            "marker": {
             "colorbar": {
              "outlinewidth": 0,
              "ticks": ""
             }
            },
            "type": "scattermap"
           }
          ],
          "scattermapbox": [
           {
            "marker": {
             "colorbar": {
              "outlinewidth": 0,
              "ticks": ""
             }
            },
            "type": "scattermapbox"
           }
          ],
          "scatterpolar": [
           {
            "marker": {
             "colorbar": {
              "outlinewidth": 0,
              "ticks": ""
             }
            },
            "type": "scatterpolar"
           }
          ],
          "scatterpolargl": [
           {
            "marker": {
             "colorbar": {
              "outlinewidth": 0,
              "ticks": ""
             }
            },
            "type": "scatterpolargl"
           }
          ],
          "scatterternary": [
           {
            "marker": {
             "colorbar": {
              "outlinewidth": 0,
              "ticks": ""
             }
            },
            "type": "scatterternary"
           }
          ],
          "surface": [
           {
            "colorbar": {
             "outlinewidth": 0,
             "ticks": ""
            },
            "colorscale": [
             [
              0,
              "#0d0887"
             ],
             [
              0.1111111111111111,
              "#46039f"
             ],
             [
              0.2222222222222222,
              "#7201a8"
             ],
             [
              0.3333333333333333,
              "#9c179e"
             ],
             [
              0.4444444444444444,
              "#bd3786"
             ],
             [
              0.5555555555555556,
              "#d8576b"
             ],
             [
              0.6666666666666666,
              "#ed7953"
             ],
             [
              0.7777777777777778,
              "#fb9f3a"
             ],
             [
              0.8888888888888888,
              "#fdca26"
             ],
             [
              1,
              "#f0f921"
             ]
            ],
            "type": "surface"
           }
          ],
          "table": [
           {
            "cells": {
             "fill": {
              "color": "#EBF0F8"
             },
             "line": {
              "color": "white"
             }
            },
            "header": {
             "fill": {
              "color": "#C8D4E3"
             },
             "line": {
              "color": "white"
             }
            },
            "type": "table"
           }
          ]
         },
         "layout": {
          "annotationdefaults": {
           "arrowcolor": "#2a3f5f",
           "arrowhead": 0,
           "arrowwidth": 1
          },
          "autotypenumbers": "strict",
          "coloraxis": {
           "colorbar": {
            "outlinewidth": 0,
            "ticks": ""
           }
          },
          "colorscale": {
           "diverging": [
            [
             0,
             "#8e0152"
            ],
            [
             0.1,
             "#c51b7d"
            ],
            [
             0.2,
             "#de77ae"
            ],
            [
             0.3,
             "#f1b6da"
            ],
            [
             0.4,
             "#fde0ef"
            ],
            [
             0.5,
             "#f7f7f7"
            ],
            [
             0.6,
             "#e6f5d0"
            ],
            [
             0.7,
             "#b8e186"
            ],
            [
             0.8,
             "#7fbc41"
            ],
            [
             0.9,
             "#4d9221"
            ],
            [
             1,
             "#276419"
            ]
           ],
           "sequential": [
            [
             0,
             "#0d0887"
            ],
            [
             0.1111111111111111,
             "#46039f"
            ],
            [
             0.2222222222222222,
             "#7201a8"
            ],
            [
             0.3333333333333333,
             "#9c179e"
            ],
            [
             0.4444444444444444,
             "#bd3786"
            ],
            [
             0.5555555555555556,
             "#d8576b"
            ],
            [
             0.6666666666666666,
             "#ed7953"
            ],
            [
             0.7777777777777778,
             "#fb9f3a"
            ],
            [
             0.8888888888888888,
             "#fdca26"
            ],
            [
             1,
             "#f0f921"
            ]
           ],
           "sequentialminus": [
            [
             0,
             "#0d0887"
            ],
            [
             0.1111111111111111,
             "#46039f"
            ],
            [
             0.2222222222222222,
             "#7201a8"
            ],
            [
             0.3333333333333333,
             "#9c179e"
            ],
            [
             0.4444444444444444,
             "#bd3786"
            ],
            [
             0.5555555555555556,
             "#d8576b"
            ],
            [
             0.6666666666666666,
             "#ed7953"
            ],
            [
             0.7777777777777778,
             "#fb9f3a"
            ],
            [
             0.8888888888888888,
             "#fdca26"
            ],
            [
             1,
             "#f0f921"
            ]
           ]
          },
          "colorway": [
           "#636efa",
           "#EF553B",
           "#00cc96",
           "#ab63fa",
           "#FFA15A",
           "#19d3f3",
           "#FF6692",
           "#B6E880",
           "#FF97FF",
           "#FECB52"
          ],
          "font": {
           "color": "#2a3f5f"
          },
          "geo": {
           "bgcolor": "white",
           "lakecolor": "white",
           "landcolor": "white",
           "showlakes": true,
           "showland": true,
           "subunitcolor": "#C8D4E3"
          },
          "hoverlabel": {
           "align": "left"
          },
          "hovermode": "closest",
          "mapbox": {
           "style": "light"
          },
          "paper_bgcolor": "white",
          "plot_bgcolor": "white",
          "polar": {
           "angularaxis": {
            "gridcolor": "#EBF0F8",
            "linecolor": "#EBF0F8",
            "ticks": ""
           },
           "bgcolor": "white",
           "radialaxis": {
            "gridcolor": "#EBF0F8",
            "linecolor": "#EBF0F8",
            "ticks": ""
           }
          },
          "scene": {
           "xaxis": {
            "backgroundcolor": "white",
            "gridcolor": "#DFE8F3",
            "gridwidth": 2,
            "linecolor": "#EBF0F8",
            "showbackground": true,
            "ticks": "",
            "zerolinecolor": "#EBF0F8"
           },
           "yaxis": {
            "backgroundcolor": "white",
            "gridcolor": "#DFE8F3",
            "gridwidth": 2,
            "linecolor": "#EBF0F8",
            "showbackground": true,
            "ticks": "",
            "zerolinecolor": "#EBF0F8"
           },
           "zaxis": {
            "backgroundcolor": "white",
            "gridcolor": "#DFE8F3",
            "gridwidth": 2,
            "linecolor": "#EBF0F8",
            "showbackground": true,
            "ticks": "",
            "zerolinecolor": "#EBF0F8"
           }
          },
          "shapedefaults": {
           "line": {
            "color": "#2a3f5f"
           }
          },
          "ternary": {
           "aaxis": {
            "gridcolor": "#DFE8F3",
            "linecolor": "#A2B1C6",
            "ticks": ""
           },
           "baxis": {
            "gridcolor": "#DFE8F3",
            "linecolor": "#A2B1C6",
            "ticks": ""
           },
           "bgcolor": "white",
           "caxis": {
            "gridcolor": "#DFE8F3",
            "linecolor": "#A2B1C6",
            "ticks": ""
           }
          },
          "title": {
           "x": 0.05
          },
          "xaxis": {
           "automargin": true,
           "gridcolor": "#EBF0F8",
           "linecolor": "#EBF0F8",
           "ticks": "",
           "title": {
            "standoff": 15
           },
           "zerolinecolor": "#EBF0F8",
           "zerolinewidth": 2
          },
          "yaxis": {
           "automargin": true,
           "gridcolor": "#EBF0F8",
           "linecolor": "#EBF0F8",
           "ticks": "",
           "title": {
            "standoff": 15
           },
           "zerolinecolor": "#EBF0F8",
           "zerolinewidth": 2
          }
         }
        },
        "title": {
         "text": "Time vs Frequency for Each Event"
        },
        "width": 900,
        "xaxis": {
         "title": {
          "text": "Time (s)"
         }
        },
        "yaxis": {
         "title": {
          "text": "Frequency (Hz)"
         }
        }
       }
      }
     },
     "metadata": {},
     "output_type": "display_data"
    }
   ],
   "source": [
    "from py_scripts.multiplotter import plot_combined\n",
    "\n",
    "plot_combined(files=['tsv/sigmoid_high.tsv', 'tsv/sigmoid_low.tsv'])\n",
    "\n",
    "# use following syntax:\n",
    "# files = ['file1.tsv']\n",
    "# dfs = [df2]\n",
    "# labels = [\"Label for df2\"]\n",
    "# plot_combined(files=files, dfs=dfs, labels=labels)"
   ]
  },
  {
   "cell_type": "markdown",
   "id": "dc2b7c9b-69a0-49d4-bce1-7f5f1bf929e6",
   "metadata": {},
   "source": [
    "3D for data with time domain"
   ]
  },
  {
   "cell_type": "code",
   "execution_count": 3,
   "id": "059cc560-4c68-4848-a74d-f547dd2b9a0f",
   "metadata": {},
   "outputs": [
    {
     "data": {
      "application/vnd.plotly.v1+json": {
       "config": {
        "plotlyServerURL": "https://plot.ly"
       },
       "data": [
        {
         "legendgroup": "tsv/sigmoid_high.tsv",
         "line": {
          "color": "#1f77b4",
          "width": 2
         },
         "marker": {
          "color": "#1f77b4",
          "size": 3
         },
         "mode": "lines+markers",
         "name": "tsv/sigmoid_high.tsv",
         "showlegend": true,
         "type": "scatter3d",
         "x": [
          0,
          15
         ],
         "y": [
          0.1850201452979242,
          0.127584789032354
         ],
         "z": [
          31.25,
          97.3684210526316
         ]
        },
        {
         "legendgroup": "tsv/sigmoid_high.tsv",
         "line": {
          "color": "#1f77b4",
          "width": 2
         },
         "marker": {
          "color": "#1f77b4",
          "size": 3
         },
         "mode": "lines+markers",
         "name": "tsv/sigmoid_high.tsv",
         "showlegend": false,
         "type": "scatter3d",
         "x": [
          0,
          15
         ],
         "y": [
          0.283141101267248,
          0.730144835812919
         ],
         "z": [
          75,
          105.26315789473684
         ]
        },
        {
         "legendgroup": "tsv/sigmoid_high.tsv",
         "line": {
          "color": "#1f77b4",
          "width": 2
         },
         "marker": {
          "color": "#1f77b4",
          "size": 3
         },
         "mode": "lines+markers",
         "name": "tsv/sigmoid_high.tsv",
         "showlegend": false,
         "type": "scatter3d",
         "x": [
          0,
          15
         ],
         "y": [
          0.283141101267248,
          0.3203863416156858
         ],
         "z": [
          75,
          110.5263157894737
         ]
        },
        {
         "legendgroup": "tsv/sigmoid_high.tsv",
         "line": {
          "color": "#1f77b4",
          "width": 2
         },
         "marker": {
          "color": "#1f77b4",
          "size": 3
         },
         "mode": "lines+markers",
         "name": "tsv/sigmoid_high.tsv",
         "showlegend": false,
         "type": "scatter3d",
         "x": [
          0,
          15
         ],
         "y": [
          0.283141101267248,
          0.1786153586392236
         ],
         "z": [
          75,
          194.7368421052632
         ]
        },
        {
         "legendgroup": "tsv/sigmoid_high.tsv",
         "line": {
          "color": "#1f77b4",
          "width": 2
         },
         "marker": {
          "color": "#1f77b4",
          "size": 3
         },
         "mode": "lines+markers",
         "name": "tsv/sigmoid_high.tsv",
         "showlegend": false,
         "type": "scatter3d",
         "x": [
          0,
          15
         ],
         "y": [
          0.283141101267248,
          0.4651424685539783
         ],
         "z": [
          75,
          202.63157894736844
         ]
        },
        {
         "legendgroup": "tsv/sigmoid_high.tsv",
         "line": {
          "color": "#1f77b4",
          "width": 2
         },
         "marker": {
          "color": "#1f77b4",
          "size": 3
         },
         "mode": "lines+markers",
         "name": "tsv/sigmoid_high.tsv",
         "showlegend": false,
         "type": "scatter3d",
         "x": [
          0,
          15
         ],
         "y": [
          0.283141101267248,
          0.9796845215219812
         ],
         "z": [
          75,
          210.5263157894737
         ]
        },
        {
         "legendgroup": "tsv/sigmoid_high.tsv",
         "line": {
          "color": "#1f77b4",
          "width": 2
         },
         "marker": {
          "color": "#1f77b4",
          "size": 3
         },
         "mode": "lines+markers",
         "name": "tsv/sigmoid_high.tsv",
         "showlegend": false,
         "type": "scatter3d",
         "x": [
          0,
          15
         ],
         "y": [
          0.1757851035354066,
          0.7229376797757235
         ],
         "z": [
          127.5,
          215.7894736842105
         ]
        },
        {
         "legendgroup": "tsv/sigmoid_high.tsv",
         "line": {
          "color": "#1f77b4",
          "width": 2
         },
         "marker": {
          "color": "#1f77b4",
          "size": 3
         },
         "mode": "lines+markers",
         "name": "tsv/sigmoid_high.tsv",
         "showlegend": false,
         "type": "scatter3d",
         "x": [
          0,
          15
         ],
         "y": [
          0.1757851035354066,
          0.655112168137983
         ],
         "z": [
          127.5,
          223.6842105263158
         ]
        },
        {
         "legendgroup": "tsv/sigmoid_high.tsv",
         "line": {
          "color": "#1f77b4",
          "width": 2
         },
         "marker": {
          "color": "#1f77b4",
          "size": 3
         },
         "mode": "lines+markers",
         "name": "tsv/sigmoid_high.tsv",
         "showlegend": false,
         "type": "scatter3d",
         "x": [
          0,
          15
         ],
         "y": [
          0.1757851035354066,
          0.4157816723057572
         ],
         "z": [
          127.5,
          228.94736842105263
         ]
        },
        {
         "legendgroup": "tsv/sigmoid_high.tsv",
         "line": {
          "color": "#1f77b4",
          "width": 2
         },
         "marker": {
          "color": "#1f77b4",
          "size": 3
         },
         "mode": "lines+markers",
         "name": "tsv/sigmoid_high.tsv",
         "showlegend": false,
         "type": "scatter3d",
         "x": [
          0,
          15
         ],
         "y": [
          0.1757851035354066,
          0.1667969110040083
         ],
         "z": [
          127.5,
          292.10526315789474
         ]
        },
        {
         "legendgroup": "tsv/sigmoid_high.tsv",
         "line": {
          "color": "#1f77b4",
          "width": 2
         },
         "marker": {
          "color": "#1f77b4",
          "size": 3
         },
         "mode": "lines+markers",
         "name": "tsv/sigmoid_high.tsv",
         "showlegend": false,
         "type": "scatter3d",
         "x": [
          0,
          15
         ],
         "y": [
          0.1757851035354066,
          0.4393528726797046
         ],
         "z": [
          127.5,
          300
         ]
        },
        {
         "legendgroup": "tsv/sigmoid_high.tsv",
         "line": {
          "color": "#1f77b4",
          "width": 2
         },
         "marker": {
          "color": "#1f77b4",
          "size": 3
         },
         "mode": "lines+markers",
         "name": "tsv/sigmoid_high.tsv",
         "showlegend": false,
         "type": "scatter3d",
         "x": [
          0,
          15
         ],
         "y": [
          1,
          0.9506378551226624
         ],
         "z": [
          238.75,
          307.89473684210526
         ]
        },
        {
         "legendgroup": "tsv/sigmoid_high.tsv",
         "line": {
          "color": "#1f77b4",
          "width": 2
         },
         "marker": {
          "color": "#1f77b4",
          "size": 3
         },
         "mode": "lines+markers",
         "name": "tsv/sigmoid_high.tsv",
         "showlegend": false,
         "type": "scatter3d",
         "x": [
          0,
          15
         ],
         "y": [
          1,
          1
         ],
         "z": [
          238.75,
          313.15789473684214
         ]
        },
        {
         "legendgroup": "tsv/sigmoid_high.tsv",
         "line": {
          "color": "#1f77b4",
          "width": 2
         },
         "marker": {
          "color": "#1f77b4",
          "size": 3
         },
         "mode": "lines+markers",
         "name": "tsv/sigmoid_high.tsv",
         "showlegend": false,
         "type": "scatter3d",
         "x": [
          0,
          15
         ],
         "y": [
          1,
          0.9367027113655582
         ],
         "z": [
          238.75,
          321.0526315789474
         ]
        },
        {
         "legendgroup": "tsv/sigmoid_high.tsv",
         "line": {
          "color": "#1f77b4",
          "width": 2
         },
         "marker": {
          "color": "#1f77b4",
          "size": 3
         },
         "mode": "lines+markers",
         "name": "tsv/sigmoid_high.tsv",
         "showlegend": false,
         "type": "scatter3d",
         "x": [
          0,
          15
         ],
         "y": [
          1,
          0.7540197916214623
         ],
         "z": [
          238.75,
          328.94736842105266
         ]
        },
        {
         "legendgroup": "tsv/sigmoid_high.tsv",
         "line": {
          "color": "#1f77b4",
          "width": 2
         },
         "marker": {
          "color": "#1f77b4",
          "size": 3
         },
         "mode": "lines+markers",
         "name": "tsv/sigmoid_high.tsv",
         "showlegend": false,
         "type": "scatter3d",
         "x": [
          0,
          15
         ],
         "y": [
          1,
          0.4598957021709134
         ],
         "z": [
          238.75,
          334.2105263157895
         ]
        },
        {
         "legendgroup": "tsv/sigmoid_high.tsv",
         "line": {
          "color": "#1f77b4",
          "width": 2
         },
         "marker": {
          "color": "#1f77b4",
          "size": 3
         },
         "mode": "lines+markers",
         "name": "tsv/sigmoid_high.tsv",
         "showlegend": false,
         "type": "scatter3d",
         "x": [
          0,
          15
         ],
         "y": [
          0.8030066318889745,
          0.3228091528511871
         ],
         "z": [
          321.25,
          339.4736842105264
         ]
        },
        {
         "legendgroup": "tsv/sigmoid_high.tsv",
         "line": {
          "color": "#1f77b4",
          "width": 2
         },
         "marker": {
          "color": "#1f77b4",
          "size": 3
         },
         "mode": "lines+markers",
         "name": "tsv/sigmoid_high.tsv",
         "showlegend": false,
         "type": "scatter3d",
         "x": [
          0,
          15
         ],
         "y": [
          0.8030066318889745,
          0.2583585130027834
         ],
         "z": [
          321.25,
          344.7368421052632
         ]
        },
        {
         "legendgroup": "tsv/sigmoid_high.tsv",
         "line": {
          "color": "#1f77b4",
          "width": 2
         },
         "marker": {
          "color": "#1f77b4",
          "size": 3
         },
         "mode": "lines+markers",
         "name": "tsv/sigmoid_high.tsv",
         "showlegend": false,
         "type": "scatter3d",
         "x": [
          0,
          15
         ],
         "y": [
          0.8030066318889745,
          0.161538223278509
         ],
         "z": [
          321.25,
          407.8947368421053
         ]
        },
        {
         "legendgroup": "tsv/sigmoid_high.tsv",
         "line": {
          "color": "#1f77b4",
          "width": 2
         },
         "marker": {
          "color": "#1f77b4",
          "size": 3
         },
         "mode": "lines+markers",
         "name": "tsv/sigmoid_high.tsv",
         "showlegend": false,
         "type": "scatter3d",
         "x": [
          0,
          15
         ],
         "y": [
          0.8030066318889745,
          0.2269790825046815
         ],
         "z": [
          321.25,
          415.7894736842106
         ]
        },
        {
         "legendgroup": "tsv/sigmoid_high.tsv",
         "line": {
          "color": "#1f77b4",
          "width": 2
         },
         "marker": {
          "color": "#1f77b4",
          "size": 3
         },
         "mode": "lines+markers",
         "name": "tsv/sigmoid_high.tsv",
         "showlegend": false,
         "type": "scatter3d",
         "x": [
          0,
          15
         ],
         "y": [
          0.8030066318889745,
          0.194079865036421
         ],
         "z": [
          321.25,
          426.3157894736842
         ]
        },
        {
         "legendgroup": "tsv/sigmoid_high.tsv",
         "line": {
          "color": "#1f77b4",
          "width": 2
         },
         "marker": {
          "color": "#1f77b4",
          "size": 3
         },
         "mode": "lines+markers",
         "name": "tsv/sigmoid_high.tsv",
         "showlegend": false,
         "type": "scatter3d",
         "x": [
          0,
          15
         ],
         "y": [
          0.281393918011551,
          0.2443404054258705
         ],
         "z": [
          393.75,
          434.2105263157895
         ]
        },
        {
         "legendgroup": "tsv/sigmoid_high.tsv",
         "line": {
          "color": "#1f77b4",
          "width": 2
         },
         "marker": {
          "color": "#1f77b4",
          "size": 3
         },
         "mode": "lines+markers",
         "name": "tsv/sigmoid_high.tsv",
         "showlegend": false,
         "type": "scatter3d",
         "x": [
          0,
          15
         ],
         "y": [
          0.281393918011551,
          0.1813377126441394
         ],
         "z": [
          393.75,
          439.4736842105264
         ]
        },
        {
         "legendgroup": "tsv/sigmoid_high.tsv",
         "line": {
          "color": "#1f77b4",
          "width": 2
         },
         "marker": {
          "color": "#1f77b4",
          "size": 3
         },
         "mode": "lines+markers",
         "name": "tsv/sigmoid_high.tsv",
         "showlegend": false,
         "type": "scatter3d",
         "x": [
          0,
          15
         ],
         "y": [
          0.281393918011551,
          0.1005437723484514
         ],
         "z": [
          393.75,
          513.1578947368422
         ]
        },
        {
         "legendgroup": "tsv/sigmoid_high.tsv",
         "line": {
          "color": "#1f77b4",
          "width": 2
         },
         "marker": {
          "color": "#1f77b4",
          "size": 3
         },
         "mode": "lines+markers",
         "name": "tsv/sigmoid_high.tsv",
         "showlegend": false,
         "type": "scatter3d",
         "x": [
          0,
          15
         ],
         "y": [
          0.281393918011551,
          0.0830359671764609
         ],
         "z": [
          393.75,
          518.421052631579
         ]
        },
        {
         "legendgroup": "tsv/sigmoid_high.tsv",
         "line": {
          "color": "#1f77b4",
          "width": 2
         },
         "marker": {
          "color": "#1f77b4",
          "size": 3
         },
         "mode": "lines+markers",
         "name": "tsv/sigmoid_high.tsv",
         "showlegend": false,
         "type": "scatter3d",
         "x": [
          0,
          15
         ],
         "y": [
          0.3005076476996851,
          0.0760283450988506
         ],
         "z": [
          398.75,
          528.9473684210527
         ]
        },
        {
         "legendgroup": "tsv/sigmoid_high.tsv",
         "line": {
          "color": "#1f77b4",
          "width": 2
         },
         "marker": {
          "color": "#1f77b4",
          "size": 3
         },
         "mode": "lines+markers",
         "name": "tsv/sigmoid_high.tsv",
         "showlegend": false,
         "type": "scatter3d",
         "x": [
          0,
          15
         ],
         "y": [
          0.3005076476996851,
          0.0794455589060347
         ],
         "z": [
          398.75,
          539.4736842105264
         ]
        },
        {
         "legendgroup": "tsv/sigmoid_high.tsv",
         "line": {
          "color": "#1f77b4",
          "width": 2
         },
         "marker": {
          "color": "#1f77b4",
          "size": 3
         },
         "mode": "lines+markers",
         "name": "tsv/sigmoid_high.tsv",
         "showlegend": false,
         "type": "scatter3d",
         "x": [
          0,
          15
         ],
         "y": [
          0.3005076476996851,
          0.0691157018696965
         ],
         "z": [
          398.75,
          2239.4736842105267
         ]
        },
        {
         "legendgroup": "tsv/sigmoid_high.tsv",
         "line": {
          "color": "#1f77b4",
          "width": 2
         },
         "marker": {
          "color": "#1f77b4",
          "size": 3
         },
         "mode": "lines+markers",
         "name": "tsv/sigmoid_high.tsv",
         "showlegend": false,
         "type": "scatter3d",
         "x": [
          0,
          15
         ],
         "y": [
          0.3005076476996851,
          0.0850497368965752
         ],
         "z": [
          398.75,
          2257.894736842105
         ]
        },
        {
         "legendgroup": "tsv/sigmoid_high.tsv",
         "line": {
          "color": "#1f77b4",
          "width": 2
         },
         "marker": {
          "color": "#1f77b4",
          "size": 3
         },
         "mode": "lines+markers",
         "name": "tsv/sigmoid_high.tsv",
         "showlegend": false,
         "type": "scatter3d",
         "x": [
          0,
          15
         ],
         "y": [
          0.3005076476996851,
          0.0824929646316279
         ],
         "z": [
          398.75,
          2265.789473684211
         ]
        },
        {
         "legendgroup": "tsv/sigmoid_high.tsv",
         "line": {
          "color": "#1f77b4",
          "width": 2
         },
         "marker": {
          "color": "#1f77b4",
          "size": 3
         },
         "mode": "lines+markers",
         "name": "tsv/sigmoid_high.tsv",
         "showlegend": false,
         "type": "scatter3d",
         "x": [
          0,
          15
         ],
         "y": [
          0.2761238895367967,
          0.0954201542535488
         ],
         "z": [
          518.75,
          2278.947368421053
         ]
        },
        {
         "legendgroup": "tsv/sigmoid_high.tsv",
         "line": {
          "color": "#1f77b4",
          "width": 2
         },
         "marker": {
          "color": "#1f77b4",
          "size": 3
         },
         "mode": "lines+markers",
         "name": "tsv/sigmoid_high.tsv",
         "showlegend": false,
         "type": "scatter3d",
         "x": [
          0,
          15
         ],
         "y": [
          0.2761238895367967,
          0.0959027133357927
         ],
         "z": [
          518.75,
          2313.157894736842
         ]
        },
        {
         "legendgroup": "tsv/sigmoid_high.tsv",
         "line": {
          "color": "#1f77b4",
          "width": 2
         },
         "marker": {
          "color": "#1f77b4",
          "size": 3
         },
         "mode": "lines+markers",
         "name": "tsv/sigmoid_high.tsv",
         "showlegend": false,
         "type": "scatter3d",
         "x": [
          0,
          15
         ],
         "y": [
          0.2761238895367967,
          0.107300897837546
         ],
         "z": [
          518.75,
          2323.684210526316
         ]
        },
        {
         "legendgroup": "tsv/sigmoid_high.tsv",
         "line": {
          "color": "#1f77b4",
          "width": 2
         },
         "marker": {
          "color": "#1f77b4",
          "size": 3
         },
         "mode": "lines+markers",
         "name": "tsv/sigmoid_high.tsv",
         "showlegend": false,
         "type": "scatter3d",
         "x": [
          0,
          15
         ],
         "y": [
          0.2761238895367967,
          0.1418779340323793
         ],
         "z": [
          518.75,
          2331.5789473684213
         ]
        },
        {
         "legendgroup": "tsv/sigmoid_high.tsv",
         "line": {
          "color": "#1f77b4",
          "width": 2
         },
         "marker": {
          "color": "#1f77b4",
          "size": 3
         },
         "mode": "lines+markers",
         "name": "tsv/sigmoid_high.tsv",
         "showlegend": false,
         "type": "scatter3d",
         "x": [
          0,
          15
         ],
         "y": [
          0.2761238895367967,
          0.0993877552038259
         ],
         "z": [
          518.75,
          2344.736842105264
         ]
        },
        {
         "legendgroup": "tsv/sigmoid_high.tsv",
         "line": {
          "color": "#1f77b4",
          "width": 2
         },
         "marker": {
          "color": "#1f77b4",
          "size": 3
         },
         "mode": "lines+markers",
         "name": "tsv/sigmoid_high.tsv",
         "showlegend": false,
         "type": "scatter3d",
         "x": [
          0,
          15
         ],
         "y": [
          0.1844266749375399,
          0.1441631216758777
         ],
         "z": [
          546.25,
          2360.5263157894738
         ]
        },
        {
         "legendgroup": "tsv/sigmoid_high.tsv",
         "line": {
          "color": "#1f77b4",
          "width": 2
         },
         "marker": {
          "color": "#1f77b4",
          "size": 3
         },
         "mode": "lines+markers",
         "name": "tsv/sigmoid_high.tsv",
         "showlegend": false,
         "type": "scatter3d",
         "x": [
          0,
          15
         ],
         "y": [
          0.1844266749375399,
          0.1022248722511056
         ],
         "z": [
          546.25,
          2381.5789473684213
         ]
        },
        {
         "legendgroup": "tsv/sigmoid_high.tsv",
         "line": {
          "color": "#1f77b4",
          "width": 2
         },
         "marker": {
          "color": "#1f77b4",
          "size": 3
         },
         "mode": "lines+markers",
         "name": "tsv/sigmoid_high.tsv",
         "showlegend": false,
         "type": "scatter3d",
         "x": [
          0,
          15
         ],
         "y": [
          0.1844266749375399,
          0.0853277055666826
         ],
         "z": [
          546.25,
          2392.105263157895
         ]
        },
        {
         "legendgroup": "tsv/sigmoid_high.tsv",
         "line": {
          "color": "#1f77b4",
          "width": 2
         },
         "marker": {
          "color": "#1f77b4",
          "size": 3
         },
         "mode": "lines+markers",
         "name": "tsv/sigmoid_high.tsv",
         "showlegend": false,
         "type": "scatter3d",
         "x": [
          0,
          15
         ],
         "y": [
          0.1844266749375399,
          0.1178521200796799
         ],
         "z": [
          546.25,
          2397.368421052632
         ]
        },
        {
         "legendgroup": "tsv/sigmoid_high.tsv",
         "line": {
          "color": "#1f77b4",
          "width": 2
         },
         "marker": {
          "color": "#1f77b4",
          "size": 3
         },
         "mode": "lines+markers",
         "name": "tsv/sigmoid_high.tsv",
         "showlegend": false,
         "type": "scatter3d",
         "x": [
          0,
          15
         ],
         "y": [
          0.1844266749375399,
          0.0690602989408101
         ],
         "z": [
          546.25,
          2952.631578947369
         ]
        },
        {
         "legendgroup": "tsv/sigmoid_high.tsv",
         "line": {
          "color": "#1f77b4",
          "width": 2
         },
         "marker": {
          "color": "#1f77b4",
          "size": 3
         },
         "mode": "lines+markers",
         "name": "tsv/sigmoid_high.tsv",
         "showlegend": false,
         "type": "scatter3d",
         "x": [
          0,
          15
         ],
         "y": [
          0.5657523874119471,
          0.0731497614540836
         ],
         "z": [
          600,
          3055.263157894737
         ]
        },
        {
         "legendgroup": "tsv/sigmoid_low.tsv",
         "line": {
          "color": "#ff7f0e",
          "width": 2
         },
         "marker": {
          "color": "#ff7f0e",
          "size": 3
         },
         "mode": "lines+markers",
         "name": "tsv/sigmoid_low.tsv",
         "showlegend": true,
         "type": "scatter3d",
         "x": [
          0,
          15
         ],
         "y": [
          0.1850201452979242,
          0.127584789032354
         ],
         "z": [
          31.25,
          97.3684210526316
         ]
        },
        {
         "legendgroup": "tsv/sigmoid_low.tsv",
         "line": {
          "color": "#ff7f0e",
          "width": 2
         },
         "marker": {
          "color": "#ff7f0e",
          "size": 3
         },
         "mode": "lines+markers",
         "name": "tsv/sigmoid_low.tsv",
         "showlegend": false,
         "type": "scatter3d",
         "x": [
          0,
          15
         ],
         "y": [
          0.1850201452979242,
          0.730144835812919
         ],
         "z": [
          31.25,
          105.26315789473684
         ]
        },
        {
         "legendgroup": "tsv/sigmoid_low.tsv",
         "line": {
          "color": "#ff7f0e",
          "width": 2
         },
         "marker": {
          "color": "#ff7f0e",
          "size": 3
         },
         "mode": "lines+markers",
         "name": "tsv/sigmoid_low.tsv",
         "showlegend": false,
         "type": "scatter3d",
         "x": [
          0,
          15
         ],
         "y": [
          0.1850201452979242,
          0.3203863416156858
         ],
         "z": [
          31.25,
          110.5263157894737
         ]
        },
        {
         "legendgroup": "tsv/sigmoid_low.tsv",
         "line": {
          "color": "#ff7f0e",
          "width": 2
         },
         "marker": {
          "color": "#ff7f0e",
          "size": 3
         },
         "mode": "lines+markers",
         "name": "tsv/sigmoid_low.tsv",
         "showlegend": false,
         "type": "scatter3d",
         "x": [
          0,
          15
         ],
         "y": [
          0.1850201452979242,
          0.1786153586392236
         ],
         "z": [
          31.25,
          194.7368421052632
         ]
        },
        {
         "legendgroup": "tsv/sigmoid_low.tsv",
         "line": {
          "color": "#ff7f0e",
          "width": 2
         },
         "marker": {
          "color": "#ff7f0e",
          "size": 3
         },
         "mode": "lines+markers",
         "name": "tsv/sigmoid_low.tsv",
         "showlegend": false,
         "type": "scatter3d",
         "x": [
          0,
          15
         ],
         "y": [
          0.1850201452979242,
          0.4651424685539783
         ],
         "z": [
          31.25,
          202.63157894736844
         ]
        },
        {
         "legendgroup": "tsv/sigmoid_low.tsv",
         "line": {
          "color": "#ff7f0e",
          "width": 2
         },
         "marker": {
          "color": "#ff7f0e",
          "size": 3
         },
         "mode": "lines+markers",
         "name": "tsv/sigmoid_low.tsv",
         "showlegend": false,
         "type": "scatter3d",
         "x": [
          0,
          15
         ],
         "y": [
          0.1850201452979242,
          0.9796845215219812
         ],
         "z": [
          31.25,
          210.5263157894737
         ]
        },
        {
         "legendgroup": "tsv/sigmoid_low.tsv",
         "line": {
          "color": "#ff7f0e",
          "width": 2
         },
         "marker": {
          "color": "#ff7f0e",
          "size": 3
         },
         "mode": "lines+markers",
         "name": "tsv/sigmoid_low.tsv",
         "showlegend": false,
         "type": "scatter3d",
         "x": [
          0,
          15
         ],
         "y": [
          0.1850201452979242,
          0.7229376797757235
         ],
         "z": [
          31.25,
          215.7894736842105
         ]
        },
        {
         "legendgroup": "tsv/sigmoid_low.tsv",
         "line": {
          "color": "#ff7f0e",
          "width": 2
         },
         "marker": {
          "color": "#ff7f0e",
          "size": 3
         },
         "mode": "lines+markers",
         "name": "tsv/sigmoid_low.tsv",
         "showlegend": false,
         "type": "scatter3d",
         "x": [
          0,
          15
         ],
         "y": [
          0.1850201452979242,
          0.655112168137983
         ],
         "z": [
          31.25,
          223.6842105263158
         ]
        },
        {
         "legendgroup": "tsv/sigmoid_low.tsv",
         "line": {
          "color": "#ff7f0e",
          "width": 2
         },
         "marker": {
          "color": "#ff7f0e",
          "size": 3
         },
         "mode": "lines+markers",
         "name": "tsv/sigmoid_low.tsv",
         "showlegend": false,
         "type": "scatter3d",
         "x": [
          0,
          15
         ],
         "y": [
          0.1850201452979242,
          0.4157816723057572
         ],
         "z": [
          31.25,
          228.94736842105263
         ]
        },
        {
         "legendgroup": "tsv/sigmoid_low.tsv",
         "line": {
          "color": "#ff7f0e",
          "width": 2
         },
         "marker": {
          "color": "#ff7f0e",
          "size": 3
         },
         "mode": "lines+markers",
         "name": "tsv/sigmoid_low.tsv",
         "showlegend": false,
         "type": "scatter3d",
         "x": [
          0,
          15
         ],
         "y": [
          0.1850201452979242,
          0.1667969110040083
         ],
         "z": [
          31.25,
          292.10526315789474
         ]
        },
        {
         "legendgroup": "tsv/sigmoid_low.tsv",
         "line": {
          "color": "#ff7f0e",
          "width": 2
         },
         "marker": {
          "color": "#ff7f0e",
          "size": 3
         },
         "mode": "lines+markers",
         "name": "tsv/sigmoid_low.tsv",
         "showlegend": false,
         "type": "scatter3d",
         "x": [
          0,
          15
         ],
         "y": [
          0.1850201452979242,
          0.4393528726797046
         ],
         "z": [
          31.25,
          300
         ]
        },
        {
         "legendgroup": "tsv/sigmoid_low.tsv",
         "line": {
          "color": "#ff7f0e",
          "width": 2
         },
         "marker": {
          "color": "#ff7f0e",
          "size": 3
         },
         "mode": "lines+markers",
         "name": "tsv/sigmoid_low.tsv",
         "showlegend": false,
         "type": "scatter3d",
         "x": [
          0,
          15
         ],
         "y": [
          0.1850201452979242,
          0.9506378551226624
         ],
         "z": [
          31.25,
          307.89473684210526
         ]
        },
        {
         "legendgroup": "tsv/sigmoid_low.tsv",
         "line": {
          "color": "#ff7f0e",
          "width": 2
         },
         "marker": {
          "color": "#ff7f0e",
          "size": 3
         },
         "mode": "lines+markers",
         "name": "tsv/sigmoid_low.tsv",
         "showlegend": false,
         "type": "scatter3d",
         "x": [
          0,
          15
         ],
         "y": [
          0.1850201452979242,
          1
         ],
         "z": [
          31.25,
          313.15789473684214
         ]
        },
        {
         "legendgroup": "tsv/sigmoid_low.tsv",
         "line": {
          "color": "#ff7f0e",
          "width": 2
         },
         "marker": {
          "color": "#ff7f0e",
          "size": 3
         },
         "mode": "lines+markers",
         "name": "tsv/sigmoid_low.tsv",
         "showlegend": false,
         "type": "scatter3d",
         "x": [
          0,
          15
         ],
         "y": [
          0.1850201452979242,
          0.9367027113655582
         ],
         "z": [
          31.25,
          321.0526315789474
         ]
        },
        {
         "legendgroup": "tsv/sigmoid_low.tsv",
         "line": {
          "color": "#ff7f0e",
          "width": 2
         },
         "marker": {
          "color": "#ff7f0e",
          "size": 3
         },
         "mode": "lines+markers",
         "name": "tsv/sigmoid_low.tsv",
         "showlegend": false,
         "type": "scatter3d",
         "x": [
          0,
          15
         ],
         "y": [
          0.1850201452979242,
          0.7540197916214623
         ],
         "z": [
          31.25,
          328.94736842105266
         ]
        },
        {
         "legendgroup": "tsv/sigmoid_low.tsv",
         "line": {
          "color": "#ff7f0e",
          "width": 2
         },
         "marker": {
          "color": "#ff7f0e",
          "size": 3
         },
         "mode": "lines+markers",
         "name": "tsv/sigmoid_low.tsv",
         "showlegend": false,
         "type": "scatter3d",
         "x": [
          0,
          15
         ],
         "y": [
          0.1850201452979242,
          0.4598957021709134
         ],
         "z": [
          31.25,
          334.2105263157895
         ]
        },
        {
         "legendgroup": "tsv/sigmoid_low.tsv",
         "line": {
          "color": "#ff7f0e",
          "width": 2
         },
         "marker": {
          "color": "#ff7f0e",
          "size": 3
         },
         "mode": "lines+markers",
         "name": "tsv/sigmoid_low.tsv",
         "showlegend": false,
         "type": "scatter3d",
         "x": [
          0,
          15
         ],
         "y": [
          0.283141101267248,
          0.3228091528511871
         ],
         "z": [
          75,
          339.4736842105264
         ]
        },
        {
         "legendgroup": "tsv/sigmoid_low.tsv",
         "line": {
          "color": "#ff7f0e",
          "width": 2
         },
         "marker": {
          "color": "#ff7f0e",
          "size": 3
         },
         "mode": "lines+markers",
         "name": "tsv/sigmoid_low.tsv",
         "showlegend": false,
         "type": "scatter3d",
         "x": [
          0,
          15
         ],
         "y": [
          0.1757851035354066,
          0.2583585130027834
         ],
         "z": [
          127.5,
          344.7368421052632
         ]
        },
        {
         "legendgroup": "tsv/sigmoid_low.tsv",
         "line": {
          "color": "#ff7f0e",
          "width": 2
         },
         "marker": {
          "color": "#ff7f0e",
          "size": 3
         },
         "mode": "lines+markers",
         "name": "tsv/sigmoid_low.tsv",
         "showlegend": false,
         "type": "scatter3d",
         "x": [
          0,
          15
         ],
         "y": [
          1,
          0.161538223278509
         ],
         "z": [
          238.75,
          407.8947368421053
         ]
        },
        {
         "legendgroup": "tsv/sigmoid_low.tsv",
         "line": {
          "color": "#ff7f0e",
          "width": 2
         },
         "marker": {
          "color": "#ff7f0e",
          "size": 3
         },
         "mode": "lines+markers",
         "name": "tsv/sigmoid_low.tsv",
         "showlegend": false,
         "type": "scatter3d",
         "x": [
          0,
          15
         ],
         "y": [
          0.8030066318889745,
          0.2269790825046815
         ],
         "z": [
          321.25,
          415.7894736842106
         ]
        },
        {
         "legendgroup": "tsv/sigmoid_low.tsv",
         "line": {
          "color": "#ff7f0e",
          "width": 2
         },
         "marker": {
          "color": "#ff7f0e",
          "size": 3
         },
         "mode": "lines+markers",
         "name": "tsv/sigmoid_low.tsv",
         "showlegend": false,
         "type": "scatter3d",
         "x": [
          0,
          15
         ],
         "y": [
          0.8030066318889745,
          0.194079865036421
         ],
         "z": [
          321.25,
          426.3157894736842
         ]
        },
        {
         "legendgroup": "tsv/sigmoid_low.tsv",
         "line": {
          "color": "#ff7f0e",
          "width": 2
         },
         "marker": {
          "color": "#ff7f0e",
          "size": 3
         },
         "mode": "lines+markers",
         "name": "tsv/sigmoid_low.tsv",
         "showlegend": false,
         "type": "scatter3d",
         "x": [
          0,
          15
         ],
         "y": [
          0.281393918011551,
          0.2443404054258705
         ],
         "z": [
          393.75,
          434.2105263157895
         ]
        },
        {
         "legendgroup": "tsv/sigmoid_low.tsv",
         "line": {
          "color": "#ff7f0e",
          "width": 2
         },
         "marker": {
          "color": "#ff7f0e",
          "size": 3
         },
         "mode": "lines+markers",
         "name": "tsv/sigmoid_low.tsv",
         "showlegend": false,
         "type": "scatter3d",
         "x": [
          0,
          15
         ],
         "y": [
          0.3005076476996851,
          0.1813377126441394
         ],
         "z": [
          398.75,
          439.4736842105264
         ]
        },
        {
         "legendgroup": "tsv/sigmoid_low.tsv",
         "line": {
          "color": "#ff7f0e",
          "width": 2
         },
         "marker": {
          "color": "#ff7f0e",
          "size": 3
         },
         "mode": "lines+markers",
         "name": "tsv/sigmoid_low.tsv",
         "showlegend": false,
         "type": "scatter3d",
         "x": [
          0,
          15
         ],
         "y": [
          0.2761238895367967,
          0.1005437723484514
         ],
         "z": [
          518.75,
          513.1578947368422
         ]
        },
        {
         "legendgroup": "tsv/sigmoid_low.tsv",
         "line": {
          "color": "#ff7f0e",
          "width": 2
         },
         "marker": {
          "color": "#ff7f0e",
          "size": 3
         },
         "mode": "lines+markers",
         "name": "tsv/sigmoid_low.tsv",
         "showlegend": false,
         "type": "scatter3d",
         "x": [
          0,
          15
         ],
         "y": [
          0.1844266749375399,
          0.0830359671764609
         ],
         "z": [
          546.25,
          518.421052631579
         ]
        },
        {
         "legendgroup": "tsv/sigmoid_low.tsv",
         "line": {
          "color": "#ff7f0e",
          "width": 2
         },
         "marker": {
          "color": "#ff7f0e",
          "size": 3
         },
         "mode": "lines+markers",
         "name": "tsv/sigmoid_low.tsv",
         "showlegend": false,
         "type": "scatter3d",
         "x": [
          0,
          15
         ],
         "y": [
          0.5657523874119471,
          0.0760283450988506
         ],
         "z": [
          600,
          528.9473684210527
         ]
        },
        {
         "legendgroup": "tsv/sigmoid_low.tsv",
         "line": {
          "color": "#ff7f0e",
          "width": 2
         },
         "marker": {
          "color": "#ff7f0e",
          "size": 3
         },
         "mode": "lines+markers",
         "name": "tsv/sigmoid_low.tsv",
         "showlegend": false,
         "type": "scatter3d",
         "x": [
          0,
          15
         ],
         "y": [
          0.5657523874119471,
          0.0794455589060347
         ],
         "z": [
          600,
          539.4736842105264
         ]
        },
        {
         "legendgroup": "tsv/sigmoid_low.tsv",
         "line": {
          "color": "#ff7f0e",
          "width": 2
         },
         "marker": {
          "color": "#ff7f0e",
          "size": 3
         },
         "mode": "lines+markers",
         "name": "tsv/sigmoid_low.tsv",
         "showlegend": false,
         "type": "scatter3d",
         "x": [
          0,
          15
         ],
         "y": [
          0.5657523874119471,
          0.0691157018696965
         ],
         "z": [
          600,
          2239.4736842105267
         ]
        },
        {
         "legendgroup": "tsv/sigmoid_low.tsv",
         "line": {
          "color": "#ff7f0e",
          "width": 2
         },
         "marker": {
          "color": "#ff7f0e",
          "size": 3
         },
         "mode": "lines+markers",
         "name": "tsv/sigmoid_low.tsv",
         "showlegend": false,
         "type": "scatter3d",
         "x": [
          0,
          15
         ],
         "y": [
          0.5657523874119471,
          0.0850497368965752
         ],
         "z": [
          600,
          2257.894736842105
         ]
        },
        {
         "legendgroup": "tsv/sigmoid_low.tsv",
         "line": {
          "color": "#ff7f0e",
          "width": 2
         },
         "marker": {
          "color": "#ff7f0e",
          "size": 3
         },
         "mode": "lines+markers",
         "name": "tsv/sigmoid_low.tsv",
         "showlegend": false,
         "type": "scatter3d",
         "x": [
          0,
          15
         ],
         "y": [
          0.5657523874119471,
          0.0824929646316279
         ],
         "z": [
          600,
          2265.789473684211
         ]
        },
        {
         "legendgroup": "tsv/sigmoid_low.tsv",
         "line": {
          "color": "#ff7f0e",
          "width": 2
         },
         "marker": {
          "color": "#ff7f0e",
          "size": 3
         },
         "mode": "lines+markers",
         "name": "tsv/sigmoid_low.tsv",
         "showlegend": false,
         "type": "scatter3d",
         "x": [
          0,
          15
         ],
         "y": [
          0.5657523874119471,
          0.0954201542535488
         ],
         "z": [
          600,
          2278.947368421053
         ]
        },
        {
         "legendgroup": "tsv/sigmoid_low.tsv",
         "line": {
          "color": "#ff7f0e",
          "width": 2
         },
         "marker": {
          "color": "#ff7f0e",
          "size": 3
         },
         "mode": "lines+markers",
         "name": "tsv/sigmoid_low.tsv",
         "showlegend": false,
         "type": "scatter3d",
         "x": [
          0,
          15
         ],
         "y": [
          0.5657523874119471,
          0.0959027133357927
         ],
         "z": [
          600,
          2313.157894736842
         ]
        },
        {
         "legendgroup": "tsv/sigmoid_low.tsv",
         "line": {
          "color": "#ff7f0e",
          "width": 2
         },
         "marker": {
          "color": "#ff7f0e",
          "size": 3
         },
         "mode": "lines+markers",
         "name": "tsv/sigmoid_low.tsv",
         "showlegend": false,
         "type": "scatter3d",
         "x": [
          0,
          15
         ],
         "y": [
          0.5657523874119471,
          0.107300897837546
         ],
         "z": [
          600,
          2323.684210526316
         ]
        },
        {
         "legendgroup": "tsv/sigmoid_low.tsv",
         "line": {
          "color": "#ff7f0e",
          "width": 2
         },
         "marker": {
          "color": "#ff7f0e",
          "size": 3
         },
         "mode": "lines+markers",
         "name": "tsv/sigmoid_low.tsv",
         "showlegend": false,
         "type": "scatter3d",
         "x": [
          0,
          15
         ],
         "y": [
          0.5657523874119471,
          0.1418779340323793
         ],
         "z": [
          600,
          2331.5789473684213
         ]
        },
        {
         "legendgroup": "tsv/sigmoid_low.tsv",
         "line": {
          "color": "#ff7f0e",
          "width": 2
         },
         "marker": {
          "color": "#ff7f0e",
          "size": 3
         },
         "mode": "lines+markers",
         "name": "tsv/sigmoid_low.tsv",
         "showlegend": false,
         "type": "scatter3d",
         "x": [
          0,
          15
         ],
         "y": [
          0.5657523874119471,
          0.0993877552038259
         ],
         "z": [
          600,
          2344.736842105264
         ]
        },
        {
         "legendgroup": "tsv/sigmoid_low.tsv",
         "line": {
          "color": "#ff7f0e",
          "width": 2
         },
         "marker": {
          "color": "#ff7f0e",
          "size": 3
         },
         "mode": "lines+markers",
         "name": "tsv/sigmoid_low.tsv",
         "showlegend": false,
         "type": "scatter3d",
         "x": [
          0,
          15
         ],
         "y": [
          0.5657523874119471,
          0.1441631216758777
         ],
         "z": [
          600,
          2360.5263157894738
         ]
        },
        {
         "legendgroup": "tsv/sigmoid_low.tsv",
         "line": {
          "color": "#ff7f0e",
          "width": 2
         },
         "marker": {
          "color": "#ff7f0e",
          "size": 3
         },
         "mode": "lines+markers",
         "name": "tsv/sigmoid_low.tsv",
         "showlegend": false,
         "type": "scatter3d",
         "x": [
          0,
          15
         ],
         "y": [
          0.5657523874119471,
          0.1022248722511056
         ],
         "z": [
          600,
          2381.5789473684213
         ]
        },
        {
         "legendgroup": "tsv/sigmoid_low.tsv",
         "line": {
          "color": "#ff7f0e",
          "width": 2
         },
         "marker": {
          "color": "#ff7f0e",
          "size": 3
         },
         "mode": "lines+markers",
         "name": "tsv/sigmoid_low.tsv",
         "showlegend": false,
         "type": "scatter3d",
         "x": [
          0,
          15
         ],
         "y": [
          0.5657523874119471,
          0.0853277055666826
         ],
         "z": [
          600,
          2392.105263157895
         ]
        },
        {
         "legendgroup": "tsv/sigmoid_low.tsv",
         "line": {
          "color": "#ff7f0e",
          "width": 2
         },
         "marker": {
          "color": "#ff7f0e",
          "size": 3
         },
         "mode": "lines+markers",
         "name": "tsv/sigmoid_low.tsv",
         "showlegend": false,
         "type": "scatter3d",
         "x": [
          0,
          15
         ],
         "y": [
          0.5657523874119471,
          0.1178521200796799
         ],
         "z": [
          600,
          2397.368421052632
         ]
        },
        {
         "legendgroup": "tsv/sigmoid_low.tsv",
         "line": {
          "color": "#ff7f0e",
          "width": 2
         },
         "marker": {
          "color": "#ff7f0e",
          "size": 3
         },
         "mode": "lines+markers",
         "name": "tsv/sigmoid_low.tsv",
         "showlegend": false,
         "type": "scatter3d",
         "x": [
          0,
          15
         ],
         "y": [
          0.5657523874119471,
          0.0690602989408101
         ],
         "z": [
          600,
          2952.631578947369
         ]
        },
        {
         "legendgroup": "tsv/sigmoid_low.tsv",
         "line": {
          "color": "#ff7f0e",
          "width": 2
         },
         "marker": {
          "color": "#ff7f0e",
          "size": 3
         },
         "mode": "lines+markers",
         "name": "tsv/sigmoid_low.tsv",
         "showlegend": false,
         "type": "scatter3d",
         "x": [
          0,
          15
         ],
         "y": [
          0.5657523874119471,
          0.0731497614540836
         ],
         "z": [
          600,
          3055.263157894737
         ]
        }
       ],
       "layout": {
        "height": 700,
        "legend": {
         "title": {
          "text": "Sources"
         }
        },
        "scene": {
         "camera": {
          "center": {
           "x": 0,
           "y": 0,
           "z": 0
          },
          "eye": {
           "x": 1.5,
           "y": 1.5,
           "z": 0.5
          },
          "up": {
           "x": 0,
           "y": 0,
           "z": 1
          }
         },
         "xaxis": {
          "range": [
           0,
           15.75
          ],
          "title": {
           "text": "Time (s)"
          }
         },
         "yaxis": {
          "range": [
           0,
           1.05
          ],
          "title": {
           "text": "Amplitude"
          }
         },
         "zaxis": {
          "range": [
           0,
           3208.026315789474
          ],
          "title": {
           "text": "Frequency (Hz)"
          }
         }
        },
        "showlegend": true,
        "template": {
         "data": {
          "bar": [
           {
            "error_x": {
             "color": "#2a3f5f"
            },
            "error_y": {
             "color": "#2a3f5f"
            },
            "marker": {
             "line": {
              "color": "white",
              "width": 0.5
             },
             "pattern": {
              "fillmode": "overlay",
              "size": 10,
              "solidity": 0.2
             }
            },
            "type": "bar"
           }
          ],
          "barpolar": [
           {
            "marker": {
             "line": {
              "color": "white",
              "width": 0.5
             },
             "pattern": {
              "fillmode": "overlay",
              "size": 10,
              "solidity": 0.2
             }
            },
            "type": "barpolar"
           }
          ],
          "carpet": [
           {
            "aaxis": {
             "endlinecolor": "#2a3f5f",
             "gridcolor": "#C8D4E3",
             "linecolor": "#C8D4E3",
             "minorgridcolor": "#C8D4E3",
             "startlinecolor": "#2a3f5f"
            },
            "baxis": {
             "endlinecolor": "#2a3f5f",
             "gridcolor": "#C8D4E3",
             "linecolor": "#C8D4E3",
             "minorgridcolor": "#C8D4E3",
             "startlinecolor": "#2a3f5f"
            },
            "type": "carpet"
           }
          ],
          "choropleth": [
           {
            "colorbar": {
             "outlinewidth": 0,
             "ticks": ""
            },
            "type": "choropleth"
           }
          ],
          "contour": [
           {
            "colorbar": {
             "outlinewidth": 0,
             "ticks": ""
            },
            "colorscale": [
             [
              0,
              "#0d0887"
             ],
             [
              0.1111111111111111,
              "#46039f"
             ],
             [
              0.2222222222222222,
              "#7201a8"
             ],
             [
              0.3333333333333333,
              "#9c179e"
             ],
             [
              0.4444444444444444,
              "#bd3786"
             ],
             [
              0.5555555555555556,
              "#d8576b"
             ],
             [
              0.6666666666666666,
              "#ed7953"
             ],
             [
              0.7777777777777778,
              "#fb9f3a"
             ],
             [
              0.8888888888888888,
              "#fdca26"
             ],
             [
              1,
              "#f0f921"
             ]
            ],
            "type": "contour"
           }
          ],
          "contourcarpet": [
           {
            "colorbar": {
             "outlinewidth": 0,
             "ticks": ""
            },
            "type": "contourcarpet"
           }
          ],
          "heatmap": [
           {
            "colorbar": {
             "outlinewidth": 0,
             "ticks": ""
            },
            "colorscale": [
             [
              0,
              "#0d0887"
             ],
             [
              0.1111111111111111,
              "#46039f"
             ],
             [
              0.2222222222222222,
              "#7201a8"
             ],
             [
              0.3333333333333333,
              "#9c179e"
             ],
             [
              0.4444444444444444,
              "#bd3786"
             ],
             [
              0.5555555555555556,
              "#d8576b"
             ],
             [
              0.6666666666666666,
              "#ed7953"
             ],
             [
              0.7777777777777778,
              "#fb9f3a"
             ],
             [
              0.8888888888888888,
              "#fdca26"
             ],
             [
              1,
              "#f0f921"
             ]
            ],
            "type": "heatmap"
           }
          ],
          "histogram": [
           {
            "marker": {
             "pattern": {
              "fillmode": "overlay",
              "size": 10,
              "solidity": 0.2
             }
            },
            "type": "histogram"
           }
          ],
          "histogram2d": [
           {
            "colorbar": {
             "outlinewidth": 0,
             "ticks": ""
            },
            "colorscale": [
             [
              0,
              "#0d0887"
             ],
             [
              0.1111111111111111,
              "#46039f"
             ],
             [
              0.2222222222222222,
              "#7201a8"
             ],
             [
              0.3333333333333333,
              "#9c179e"
             ],
             [
              0.4444444444444444,
              "#bd3786"
             ],
             [
              0.5555555555555556,
              "#d8576b"
             ],
             [
              0.6666666666666666,
              "#ed7953"
             ],
             [
              0.7777777777777778,
              "#fb9f3a"
             ],
             [
              0.8888888888888888,
              "#fdca26"
             ],
             [
              1,
              "#f0f921"
             ]
            ],
            "type": "histogram2d"
           }
          ],
          "histogram2dcontour": [
           {
            "colorbar": {
             "outlinewidth": 0,
             "ticks": ""
            },
            "colorscale": [
             [
              0,
              "#0d0887"
             ],
             [
              0.1111111111111111,
              "#46039f"
             ],
             [
              0.2222222222222222,
              "#7201a8"
             ],
             [
              0.3333333333333333,
              "#9c179e"
             ],
             [
              0.4444444444444444,
              "#bd3786"
             ],
             [
              0.5555555555555556,
              "#d8576b"
             ],
             [
              0.6666666666666666,
              "#ed7953"
             ],
             [
              0.7777777777777778,
              "#fb9f3a"
             ],
             [
              0.8888888888888888,
              "#fdca26"
             ],
             [
              1,
              "#f0f921"
             ]
            ],
            "type": "histogram2dcontour"
           }
          ],
          "mesh3d": [
           {
            "colorbar": {
             "outlinewidth": 0,
             "ticks": ""
            },
            "type": "mesh3d"
           }
          ],
          "parcoords": [
           {
            "line": {
             "colorbar": {
              "outlinewidth": 0,
              "ticks": ""
             }
            },
            "type": "parcoords"
           }
          ],
          "pie": [
           {
            "automargin": true,
            "type": "pie"
           }
          ],
          "scatter": [
           {
            "fillpattern": {
             "fillmode": "overlay",
             "size": 10,
             "solidity": 0.2
            },
            "type": "scatter"
           }
          ],
          "scatter3d": [
           {
            "line": {
             "colorbar": {
              "outlinewidth": 0,
              "ticks": ""
             }
            },
            "marker": {
             "colorbar": {
              "outlinewidth": 0,
              "ticks": ""
             }
            },
            "type": "scatter3d"
           }
          ],
          "scattercarpet": [
           {
            "marker": {
             "colorbar": {
              "outlinewidth": 0,
              "ticks": ""
             }
            },
            "type": "scattercarpet"
           }
          ],
          "scattergeo": [
           {
            "marker": {
             "colorbar": {
              "outlinewidth": 0,
              "ticks": ""
             }
            },
            "type": "scattergeo"
           }
          ],
          "scattergl": [
           {
            "marker": {
             "colorbar": {
              "outlinewidth": 0,
              "ticks": ""
             }
            },
            "type": "scattergl"
           }
          ],
          "scattermap": [
           {
            "marker": {
             "colorbar": {
              "outlinewidth": 0,
              "ticks": ""
             }
            },
            "type": "scattermap"
           }
          ],
          "scattermapbox": [
           {
            "marker": {
             "colorbar": {
              "outlinewidth": 0,
              "ticks": ""
             }
            },
            "type": "scattermapbox"
           }
          ],
          "scatterpolar": [
           {
            "marker": {
             "colorbar": {
              "outlinewidth": 0,
              "ticks": ""
             }
            },
            "type": "scatterpolar"
           }
          ],
          "scatterpolargl": [
           {
            "marker": {
             "colorbar": {
              "outlinewidth": 0,
              "ticks": ""
             }
            },
            "type": "scatterpolargl"
           }
          ],
          "scatterternary": [
           {
            "marker": {
             "colorbar": {
              "outlinewidth": 0,
              "ticks": ""
             }
            },
            "type": "scatterternary"
           }
          ],
          "surface": [
           {
            "colorbar": {
             "outlinewidth": 0,
             "ticks": ""
            },
            "colorscale": [
             [
              0,
              "#0d0887"
             ],
             [
              0.1111111111111111,
              "#46039f"
             ],
             [
              0.2222222222222222,
              "#7201a8"
             ],
             [
              0.3333333333333333,
              "#9c179e"
             ],
             [
              0.4444444444444444,
              "#bd3786"
             ],
             [
              0.5555555555555556,
              "#d8576b"
             ],
             [
              0.6666666666666666,
              "#ed7953"
             ],
             [
              0.7777777777777778,
              "#fb9f3a"
             ],
             [
              0.8888888888888888,
              "#fdca26"
             ],
             [
              1,
              "#f0f921"
             ]
            ],
            "type": "surface"
           }
          ],
          "table": [
           {
            "cells": {
             "fill": {
              "color": "#EBF0F8"
             },
             "line": {
              "color": "white"
             }
            },
            "header": {
             "fill": {
              "color": "#C8D4E3"
             },
             "line": {
              "color": "white"
             }
            },
            "type": "table"
           }
          ]
         },
         "layout": {
          "annotationdefaults": {
           "arrowcolor": "#2a3f5f",
           "arrowhead": 0,
           "arrowwidth": 1
          },
          "autotypenumbers": "strict",
          "coloraxis": {
           "colorbar": {
            "outlinewidth": 0,
            "ticks": ""
           }
          },
          "colorscale": {
           "diverging": [
            [
             0,
             "#8e0152"
            ],
            [
             0.1,
             "#c51b7d"
            ],
            [
             0.2,
             "#de77ae"
            ],
            [
             0.3,
             "#f1b6da"
            ],
            [
             0.4,
             "#fde0ef"
            ],
            [
             0.5,
             "#f7f7f7"
            ],
            [
             0.6,
             "#e6f5d0"
            ],
            [
             0.7,
             "#b8e186"
            ],
            [
             0.8,
             "#7fbc41"
            ],
            [
             0.9,
             "#4d9221"
            ],
            [
             1,
             "#276419"
            ]
           ],
           "sequential": [
            [
             0,
             "#0d0887"
            ],
            [
             0.1111111111111111,
             "#46039f"
            ],
            [
             0.2222222222222222,
             "#7201a8"
            ],
            [
             0.3333333333333333,
             "#9c179e"
            ],
            [
             0.4444444444444444,
             "#bd3786"
            ],
            [
             0.5555555555555556,
             "#d8576b"
            ],
            [
             0.6666666666666666,
             "#ed7953"
            ],
            [
             0.7777777777777778,
             "#fb9f3a"
            ],
            [
             0.8888888888888888,
             "#fdca26"
            ],
            [
             1,
             "#f0f921"
            ]
           ],
           "sequentialminus": [
            [
             0,
             "#0d0887"
            ],
            [
             0.1111111111111111,
             "#46039f"
            ],
            [
             0.2222222222222222,
             "#7201a8"
            ],
            [
             0.3333333333333333,
             "#9c179e"
            ],
            [
             0.4444444444444444,
             "#bd3786"
            ],
            [
             0.5555555555555556,
             "#d8576b"
            ],
            [
             0.6666666666666666,
             "#ed7953"
            ],
            [
             0.7777777777777778,
             "#fb9f3a"
            ],
            [
             0.8888888888888888,
             "#fdca26"
            ],
            [
             1,
             "#f0f921"
            ]
           ]
          },
          "colorway": [
           "#636efa",
           "#EF553B",
           "#00cc96",
           "#ab63fa",
           "#FFA15A",
           "#19d3f3",
           "#FF6692",
           "#B6E880",
           "#FF97FF",
           "#FECB52"
          ],
          "font": {
           "color": "#2a3f5f"
          },
          "geo": {
           "bgcolor": "white",
           "lakecolor": "white",
           "landcolor": "white",
           "showlakes": true,
           "showland": true,
           "subunitcolor": "#C8D4E3"
          },
          "hoverlabel": {
           "align": "left"
          },
          "hovermode": "closest",
          "mapbox": {
           "style": "light"
          },
          "paper_bgcolor": "white",
          "plot_bgcolor": "white",
          "polar": {
           "angularaxis": {
            "gridcolor": "#EBF0F8",
            "linecolor": "#EBF0F8",
            "ticks": ""
           },
           "bgcolor": "white",
           "radialaxis": {
            "gridcolor": "#EBF0F8",
            "linecolor": "#EBF0F8",
            "ticks": ""
           }
          },
          "scene": {
           "xaxis": {
            "backgroundcolor": "white",
            "gridcolor": "#DFE8F3",
            "gridwidth": 2,
            "linecolor": "#EBF0F8",
            "showbackground": true,
            "ticks": "",
            "zerolinecolor": "#EBF0F8"
           },
           "yaxis": {
            "backgroundcolor": "white",
            "gridcolor": "#DFE8F3",
            "gridwidth": 2,
            "linecolor": "#EBF0F8",
            "showbackground": true,
            "ticks": "",
            "zerolinecolor": "#EBF0F8"
           },
           "zaxis": {
            "backgroundcolor": "white",
            "gridcolor": "#DFE8F3",
            "gridwidth": 2,
            "linecolor": "#EBF0F8",
            "showbackground": true,
            "ticks": "",
            "zerolinecolor": "#EBF0F8"
           }
          },
          "shapedefaults": {
           "line": {
            "color": "#2a3f5f"
           }
          },
          "ternary": {
           "aaxis": {
            "gridcolor": "#DFE8F3",
            "linecolor": "#A2B1C6",
            "ticks": ""
           },
           "baxis": {
            "gridcolor": "#DFE8F3",
            "linecolor": "#A2B1C6",
            "ticks": ""
           },
           "bgcolor": "white",
           "caxis": {
            "gridcolor": "#DFE8F3",
            "linecolor": "#A2B1C6",
            "ticks": ""
           }
          },
          "title": {
           "x": 0.05
          },
          "xaxis": {
           "automargin": true,
           "gridcolor": "#EBF0F8",
           "linecolor": "#EBF0F8",
           "ticks": "",
           "title": {
            "standoff": 15
           },
           "zerolinecolor": "#EBF0F8",
           "zerolinewidth": 2
          },
          "yaxis": {
           "automargin": true,
           "gridcolor": "#EBF0F8",
           "linecolor": "#EBF0F8",
           "ticks": "",
           "title": {
            "standoff": 15
           },
           "zerolinecolor": "#EBF0F8",
           "zerolinewidth": 2
          }
         }
        },
        "title": {
         "text": "Time vs Amplitude vs Frequency (3D)"
        },
        "width": 900
       }
      }
     },
     "metadata": {},
     "output_type": "display_data"
    }
   ],
   "source": [
    "from py_scripts.multiplotter import plot_combined_3d\n",
    "\n",
    "plot_combined_3d(files=['tsv/sigmoid_high.tsv', 'tsv/sigmoid_low.tsv'])\n",
    "\n",
    "# Sample usage:\n",
    "# plot_combined_3d(files=['file1.tsv', 'file2.tsv'], labels=['File1', 'File2'])\n",
    "# or\n",
    "# plot_combined_3d(dfs=[df1, df2], labels=['DataFrame1', 'DataFrame2'])"
   ]
  }
 ],
 "metadata": {
  "kernelspec": {
   "display_name": "py3129",
   "language": "python",
   "name": "python3"
  },
  "language_info": {
   "codemirror_mode": {
    "name": "ipython",
    "version": 3
   },
   "file_extension": ".py",
   "mimetype": "text/x-python",
   "name": "python",
   "nbconvert_exporter": "python",
   "pygments_lexer": "ipython3",
   "version": "3.12.9"
  }
 },
 "nbformat": 4,
 "nbformat_minor": 5
}
